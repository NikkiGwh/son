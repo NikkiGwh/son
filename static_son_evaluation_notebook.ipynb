{
 "cells": [
  {
   "cell_type": "code",
   "execution_count": 31,
   "id": "7bc1c4da-f3bc-4a3d-9069-5655b400e7dc",
   "metadata": {},
   "outputs": [],
   "source": [
    "\n",
    "import json\n",
    "import numpy as np\n",
    "from son_main_script import Son\n",
    "from son_pymoo import HighRssiFirstSampling, SonProblemElementWise\n",
    "from pymoo.decomposition.asf import ASF\n",
    "import plotly.graph_objects as go\n",
    "from pymoo.indicators.hv import Hypervolume\n",
    "import matplotlib.pyplot as plt\n",
    "import scipy.stats\n",
    "from pltyCon.plotly_templates import load_templates\n",
    "from PyPDF2 import PdfWriter, PdfReader \n",
    "import glob\n",
    "import os\n",
    "\n",
    "template_one_diagram = \"oscilloscope+TH--2-3-TH\"\n",
    "greedy_color= \"black\"\n",
    "evo_color= \"blue\"\n",
    "lineWidth = 1\n",
    "\n",
    "loaded_dpi = load_templates(\n",
    "    # base_width_in_px=400,\n",
    "    dpi=96\n",
    ")\n",
    "\n",
    "def asf_select(objective_space: np.ndarray,\n",
    "                    weights=[]):\n",
    "\n",
    "    approx_ideal = objective_space.min(axis=0)\n",
    "    approx_nadir = objective_space.max(axis=0)\n",
    "\n",
    "    np.seterr(divide='ignore', invalid='ignore')\n",
    "    nF = (objective_space - approx_ideal) / (approx_nadir - approx_ideal)\n",
    "    decomp = ASF()\n",
    "\n",
    "    if len(weights) != objective_space.shape[1]:\n",
    "        weights = [1/objective_space.shape[1] for _ in range(objective_space.shape[1])]\n",
    "\n",
    "    weights_np= np.array(weights)\n",
    "    i = decomp.do(nF, weights_np).argmin()\n",
    "    return i\n",
    "\n",
    "def normalize_objective_space_pop(objective_space_pop: np.ndarray, ideal, nadir):\n",
    "    return (objective_space_pop - ideal) / (nadir - ideal)\n",
    "\n",
    "def create_greedy_rssi_sampling_pop(optimization_objectives: list[str], son: Son):\n",
    "     ###### test HighRssiFirstSampling\n",
    "    \n",
    "    son_problem_obj = SonProblemElementWise(optimization_objectives, son)\n",
    "    # create pop with RssiSampling\n",
    "    high_rssi_sampling_obj = HighRssiFirstSampling()\n",
    "    sampling_pop = high_rssi_sampling_obj._do(son_problem_obj, 100)\n",
    "    sampling_pop_objecitve_space = np.empty((100,len(optimization_objectives)))\n",
    "    out = {}\n",
    "    for index, ind in enumerate(sampling_pop):\n",
    "        son_problem_obj._evaluate(ind, out)\n",
    "        sampling_pop_objecitve_space[index]=out[\"F\"]\n",
    "    return sampling_pop_objecitve_space\n",
    "\n",
    "def get_hypervolume(objective_space_pop: np.ndarray, ref_point=np.array([1.1, 1.1]), norm_ref_point=False, zero_to_one=False, ideal=None, nadir=None):\n",
    "    hv = Hypervolume(ref_point=ref_point,\n",
    "                     norm_ref_point=norm_ref_point,\n",
    "                     zero_to_one=zero_to_one,\n",
    "                     ideal=ideal,\n",
    "                     nadir=nadir)\n",
    "    \n",
    "    return hv(objective_space_pop)\n",
    "def remove_blank_page(directory_path:str):\n",
    "\n",
    "    pdf_files = glob.glob(os.path.join(directory_path, '*.pdf'))\n",
    "    for pdf_file in pdf_files:\n",
    "        infile = PdfReader(pdf_file)\n",
    "\n",
    "        outfile = PdfWriter()\n",
    "        pdfPage = infile.pages[0]\n",
    "        outfile.add_page(pdfPage)\n",
    "\n",
    "        with open(pdf_file, \"wb\") as f:\n",
    "            outfile.write(f) \n",
    "\n",
    "##################################################################\n",
    "\n",
    "\n",
    "\n",
    "# network_name = \"het_C50_MP100_1,2_250\"\n",
    "network_name = \"het_C50_MP30_1,2_250\"\n",
    "config_names = [ \"static\"]\n",
    "\n",
    "\n",
    "\n",
    "##################################################################\n",
    "pareto_fronts = []\n",
    "paretor_fronts_normalized = []\n",
    "hyper_volume_histories = []\n",
    "combined_his = [] ## -> combine all objective result in one array (used only for normalization)\n",
    "nadir = np.array([])\n",
    "ideal = np.array([])\n",
    "son = Son(adjacencies_file_name=f\"./datastore/{network_name}/{network_name}_adjacencies.json\", parameter_config_file_name=f\"./datastore/{network_name}/{config_names[0]}/{config_names[0]}.json\")\n",
    "\n",
    "\n",
    "### find  nadir and ideal points for normalization over all experiments\n",
    "for _, config_name in enumerate(config_names):\n",
    "    results_directory = f\"./datastore/{network_name}/{config_name}/\"\n",
    "\n",
    "    with open(results_directory + \"objectives_result.json\", mode=\"r\",encoding=\"utf-8\") as openfile:\n",
    "        results_object = json.load(openfile)\n",
    "\n",
    "        for _, current_pop_objectivespace in enumerate(results_object[\"history\"][\"objective_space_opt\"]):\n",
    "            for _, current_ind in enumerate(current_pop_objectivespace):\n",
    "                combined_his.append(list(np.array(current_ind)[0:2]))\n",
    "        \n",
    "        # jo = np.array(results_object[\"objectiveSpace\"])[:,0:2]\n",
    "        # for _, current_ind in enumerate(jo):\n",
    "        #     combined_his.append(list(current_ind))\n",
    "\n",
    "sampling_pop_objecitve_space = create_greedy_rssi_sampling_pop(results_object[\"optimization_objectives\"], son)\n",
    "# sampling_pop_objecitve_space = sampling_pop_objecitve_space[-1::]\n",
    "\n",
    "for _, current_ind in enumerate(sampling_pop_objecitve_space):\n",
    "    combined_his.append(list(current_ind))\n",
    "\n",
    "\n",
    "nadir = np.array(combined_his).max(axis=0)\n",
    "ideal = np.array(combined_his).min(axis=0)\n",
    "\n",
    "sampling_pop_objecitve_space_noramlized = normalize_objective_space_pop(sampling_pop_objecitve_space, ideal, nadir)\n",
    "\n",
    "### collect paretorfronts, hypervolumes, normalized paretorfronts per experiment\n",
    "for _, config_name in enumerate(config_names):\n",
    "    results_directory = f\"./datastore/{network_name}/{config_name}/\"\n",
    "\n",
    "    \n",
    "    with open(results_directory + \"objectives_result.json\", mode=\"r\",encoding=\"utf-8\") as openfile:\n",
    "        results_object = json.load(openfile)\n",
    "\n",
    "        pareto_fronts.append(np.array(results_object[\"objectiveSpace\"])[:,0:2])\n",
    "        paretor_fronts_normalized.append(normalize_objective_space_pop(np.array(results_object[\"objectiveSpace\"])[:,0:2], ideal, nadir))\n",
    "        hyper_volume_history = []\n",
    "            \n",
    "        for _, current_pop_objectivespace in enumerate(results_object[\"history\"][\"objective_space_opt\"]):\n",
    "            normalized_current_pop = normalize_objective_space_pop(np.array(current_pop_objectivespace)[:,0:2], ideal, nadir)\n",
    "            hyper_volume_history.append(get_hypervolume(np.array(normalized_current_pop)))\n",
    "        \n",
    "    hyper_volume_histories.append(hyper_volume_history)"
   ]
  },
  {
   "cell_type": "code",
   "execution_count": 32,
   "id": "7ae4bc69",
   "metadata": {},
   "outputs": [
    {
     "data": {
      "application/vnd.plotly.v1+json": {
       "config": {
        "plotlyServerURL": "https://plot.ly"
       },
       "data": [
        {
         "line": {
          "color": "blue"
         },
         "mode": "markers",
         "name": "static",
         "type": "scatter",
         "x": [
          0,
          0.16319205140514867,
          0.0582088226802907,
          0.0465670698136419,
          0.19818645125559342,
          0.13401852798802819,
          0.011641752866648803,
          0.15737114579830092,
          0.09320322253073544,
          0.17483380427179748,
          0.005820876433324269,
          0.09902409896405998,
          0.08156146966408664,
          0.20400732768891794,
          0.05238794624696617,
          0.12819762238118046,
          0.16901292783847294,
          0.12237674594785591,
          0.04074616420679415,
          0.023283534906820814,
          0.01746262929997307,
          0.03492528777346962,
          0.08738234609741118,
          0.02910441134014535
         ],
         "y": [
          0.2863800291946054,
          0.01882717780691159,
          0.09901571865739847,
          0.12168282306696258,
          0.0051586749150812575,
          0.03364520074974973,
          0.22649972510357186,
          0.03313046870708229,
          0.0640860156843003,
          0.006903277450750949,
          0.2641524451035052,
          0.05034648986209363,
          0.08687838249708606,
          0,
          0.11363314558212606,
          0.03991472423162795,
          0.016608370402478208,
          0.049047398671192774,
          0.1324177881862257,
          0.18517337309442256,
          0.20371599599662238,
          0.14985523150156874,
          0.07468462675407975,
          0.16739678768591673
         ]
        },
        {
         "mode": "markers",
         "name": "asf selection",
         "type": "scatter",
         "x": [
          0.0582088226802907
         ],
         "y": [
          0.09901571865739847
         ]
        },
        {
         "mode": "markers",
         "name": "greedy_sampling_pop",
         "type": "scatter",
         "x": [
          0.9037334699898968,
          0.9280345773935068,
          0.9781444507174004,
          0.9226932261645896,
          0.9280345773935068,
          0.9105719189200102,
          0.9518667495817101,
          0.9119999045442315,
          0.8599931103807099,
          0.8527043972901764,
          0.9290228888463087,
          0.9470341554276642,
          0.9518667495817101,
          0.8935197027474692,
          0.934843765279633,
          0.8979125935565722,
          0.90083767688199,
          0.8901150942176445,
          0.8245191853258578,
          0.9494504525046871,
          0.9071380785197214,
          0.8833059063315181,
          0.8706758420120677,
          0.9309702507079247,
          0.8293517503063804,
          0.8527043972901764,
          0.8911034056704461,
          0.8804100840500879,
          0.8818779207072969,
          0.8745599465727762,
          0.9037334699898968,
          0.9562596403908131,
          0.9158840382784635,
          0.8556002195716068,
          0.9684101795058567,
          0.8848030040327145,
          0.9280345773935068,
          0.858525273723501,
          0.8040916216674794,
          0.9066585533153143,
          0.9304907255035176,
          0.9047217814426985,
          0.9314391567498083,
          0.9338953048598191,
          0.8575369914442226,
          0.90083767688199,
          0.9581964122634291,
          0.8721436786692767,
          0.861959143297313,
          0.8400450719267386,
          0.8876987971406214,
          0.9718147880356813,
          0.9620805168241376,
          0.951387224377303,
          0.8998493654291881,
          0.984444852355132,
          0.9654851253539624,
          0.8230513486686488,
          0.945057561695584,
          0.8979125935565722,
          0.926097805520891,
          0.7856113906971937,
          0.8541323829143976,
          0.8750687328211708,
          0.8706758420120677,
          0.9290228888463087,
          0.8876987971406214,
          0.8458952094040503,
          0.8833059063315181,
          0.860941570800524,
          0.8964447568993632,
          1,
          0.9684101795058567,
          0.9426412646185609,
          0.858525273723501,
          0.919288617634765,
          0.8269354824028808,
          0.9003288906335953,
          0.9552713289380116,
          0.9032539447854894,
          0.9202769290875665,
          0.9042422562382912,
          0.941652953165759,
          0.9625893030725322,
          0.9144560526542423,
          0.9620805168241376,
          0.8405538581751332,
          0.9022656333326878,
          0.9066585533153143,
          0.9295024140507158,
          0.8561090058200014,
          0.8969242821037706,
          0.9032539447854894,
          0.9761678278117967,
          0.9119999045442315,
          0.8876987971406214,
          0.840074332970726,
          0.9226932261645896,
          0.9382483738094579,
          0.849768753149282
         ],
         "y": [
          0.8690448616074906,
          0.7803419841490029,
          0.9276684536734441,
          0.8594727476717032,
          0.8111438016864473,
          0.7953249218262992,
          0.8970086737136121,
          0.7366228132356136,
          0.9834520048932156,
          0.9155218470358705,
          0.8406960796817786,
          0.9463589303325316,
          0.9103571415408644,
          0.8654481886795841,
          0.7612789027766381,
          0.8880665235718355,
          0.9047465289923772,
          0.9019449886826097,
          0.8707385867246008,
          0.921134509110023,
          0.9512718209240881,
          0.8369280350464927,
          0.767348093930807,
          0.9511974412281484,
          0.8742183958196212,
          0.8657192430795732,
          0.8381734754720478,
          0.7777940655309191,
          0.9201774579135403,
          0.9764234835007786,
          0.8745538805782697,
          0.9176087919043601,
          0.846232684177651,
          0.9592014117112057,
          0.9186997138007938,
          0.7889016531120495,
          0.7609026350140261,
          0.8245622699154709,
          0.9103755820599929,
          0.84626559146717,
          0.9114702464101554,
          0.9418611442656366,
          0.7893286326311824,
          0.9199859288532671,
          0.8821621916014145,
          0.8383550134094447,
          0.7694221434023839,
          0.9274390519178883,
          0.8261820635837865,
          1,
          0.9327965899576994,
          0.833552007676859,
          0.9125842868817726,
          0.8165766666656757,
          0.7830165635372738,
          0.8953979648566364,
          0.851090450706364,
          0.8317475819708569,
          0.8454316548507443,
          0.9617681196696879,
          0.8788191979132975,
          0.9161778573437096,
          0.9106704111811117,
          0.9076276990404951,
          0.7969095378765967,
          0.826406750248831,
          0.8484672728635643,
          0.884751298227219,
          0.8131596850543238,
          0.8639012735751276,
          0.7849671698321637,
          0.808600433298114,
          0.9385861087291586,
          0.8497560288822597,
          0.8599747057218724,
          0.882880107711626,
          0.8601438795751951,
          0.8934746917226964,
          0.8766564968308156,
          0.8118202123314846,
          0.8723618995361392,
          0.8352788352288167,
          0.7560109320103902,
          0.9268975473223977,
          0.95364935153194,
          0.9023451065689103,
          0.9115053930832365,
          0.8158746492105183,
          0.880363619031145,
          0.9019233180364786,
          0.8640379598940469,
          0.8492644808199148,
          0.8531188100147686,
          0.8059090093152443,
          0.7670185445815729,
          0.9015264392629788,
          0.9018094027054618,
          0.8865843963040502,
          0.8301517130874833,
          0.3501728427153202
         ]
        },
        {
         "line": {
          "color": "black"
         },
         "mode": "markers",
         "name": "greedy_assignment_profile",
         "type": "scatter",
         "x": [
          0.849768753149282
         ],
         "y": [
          0.3501728427153202
         ]
        }
       ],
       "layout": {
        "showlegend": false,
        "template": {
         "layout": {
          "height": 400.6299212598426,
          "legend": {
           "font": {
            "color": "black",
            "family": "Courier New, monospace",
            "size": 8
           },
           "grouptitlefont": {
            "color": "black",
            "family": "Courier New, monospace",
            "size": 8
           }
          },
          "margin": {
           "b": 40,
           "l": 50,
           "r": 50,
           "t": 20
          },
          "paper_bgcolor": "white",
          "plot_bgcolor": "#FFFFFF",
          "showlegend": true,
          "title": {
           "font": {
            "color": "black",
            "family": "Courier New, monospace",
            "size": 10
           }
          },
          "width": 600.9448818897638,
          "xaxis": {
           "gridcolor": "lightgray",
           "gridwidth": 1,
           "linecolor": "darkgray",
           "linewidth": 2,
           "mirror": true,
           "showgrid": true,
           "showline": true,
           "showticklabels": true,
           "tickfont": {
            "color": "black",
            "family": "Courier New, monospace",
            "size": 8
           },
           "ticks": "",
           "title": {
            "font": {
             "color": "black",
             "family": "Courier New, monospace",
             "size": 8
            }
           },
           "zeroline": false
          },
          "yaxis": {
           "gridcolor": "lightgray",
           "gridwidth": 1,
           "linecolor": "darkgray",
           "linewidth": 2,
           "mirror": true,
           "showgrid": true,
           "showline": true,
           "showticklabels": true,
           "tickfont": {
            "color": "black",
            "family": "Courier New, monospace",
            "size": 8
           },
           "ticks": "",
           "title": {
            "font": {
             "color": "black",
             "family": "Courier New, monospace",
             "size": 8
            }
           },
           "zeroline": false
          }
         }
        },
        "xaxis": {
         "title": {
          "text": "PC"
         }
        },
        "yaxis": {
         "title": {
          "text": "-AVG_DL"
         }
        }
       }
      }
     },
     "metadata": {},
     "output_type": "display_data"
    },
    {
     "data": {
      "application/vnd.plotly.v1+json": {
       "config": {
        "plotlyServerURL": "https://plot.ly"
       },
       "data": [
        {
         "mode": "lines",
         "name": "static",
         "type": "scatter",
         "x": [
          0,
          1,
          2,
          3,
          4,
          5,
          6,
          7,
          8,
          9,
          10,
          11,
          12,
          13,
          14,
          15,
          16,
          17,
          18,
          19,
          20,
          21,
          22,
          23,
          24,
          25,
          26,
          27,
          28,
          29,
          30,
          31,
          32,
          33,
          34,
          35,
          36,
          37,
          38,
          39,
          40,
          41,
          42,
          43,
          44,
          45,
          46,
          47,
          48,
          49,
          50,
          51,
          52,
          53,
          54,
          55,
          56,
          57,
          58,
          59,
          60,
          61,
          62,
          63,
          64,
          65,
          66,
          67,
          68,
          69,
          70,
          71,
          72,
          73,
          74,
          75,
          76,
          77,
          78,
          79,
          80,
          81,
          82,
          83,
          84,
          85,
          86,
          87,
          88,
          89,
          90,
          91,
          92,
          93,
          94,
          95,
          96,
          97,
          98,
          99,
          100,
          101,
          102,
          103,
          104,
          105,
          106,
          107,
          108,
          109,
          110,
          111,
          112,
          113,
          114,
          115,
          116,
          117,
          118,
          119,
          120,
          121,
          122,
          123,
          124,
          125,
          126,
          127,
          128,
          129,
          130,
          131,
          132,
          133,
          134,
          135,
          136,
          137,
          138,
          139,
          140,
          141,
          142,
          143,
          144,
          145,
          146,
          147,
          148,
          149,
          150,
          151,
          152,
          153,
          154,
          155,
          156,
          157,
          158,
          159,
          160,
          161,
          162,
          163,
          164,
          165,
          166,
          167,
          168,
          169,
          170,
          171,
          172,
          173,
          174,
          175,
          176,
          177,
          178,
          179,
          180,
          181,
          182,
          183,
          184,
          185,
          186,
          187,
          188,
          189,
          190,
          191,
          192,
          193,
          194,
          195,
          196,
          197,
          198,
          199
         ],
         "y": [
          0.21374382560143013,
          0.21558440838864656,
          0.21583783877620927,
          0.21670903988300516,
          0.21708457627127165,
          0.21746690306881777,
          0.2180564377182857,
          0.22012003014567216,
          0.22053867541335198,
          0.2220575682199032,
          0.2220575682199032,
          0.2222040553512747,
          0.2331553541760523,
          0.24665023771379885,
          0.24665023771379885,
          0.24665023771379885,
          0.24665023771379885,
          0.24665023771379885,
          0.24665023771379885,
          0.2469819817074091,
          0.25081346606266414,
          0.25321128732565124,
          0.25321128732565124,
          0.28694381663588464,
          0.28694381663588464,
          0.28754087642549303,
          0.28960979400014597,
          0.28960979400014597,
          0.2923282398340333,
          0.2945583189288337,
          0.2945583189288337,
          0.32080711190898425,
          0.32080711190898425,
          0.32080711190898425,
          0.32080711190898425,
          0.32080711190898425,
          0.33086200022786216,
          0.33086200022786216,
          0.3332229447897132,
          0.3332229447897132,
          0.3332229447897132,
          0.33409979172291043,
          0.33409979172291043,
          0.34196158461698334,
          0.35036144830410276,
          0.35036144830410276,
          0.35322267083692216,
          0.35547468772057195,
          0.36371352022208675,
          0.3641145782317933,
          0.37287328234274586,
          0.37287328234274586,
          0.37363740899579634,
          0.3736448844648389,
          0.38451487903409753,
          0.38451487903409753,
          0.38451487903409753,
          0.38774040608499705,
          0.4475595569934858,
          0.44858036183050726,
          0.4485945854983097,
          0.4486684262622608,
          0.4489345139996856,
          0.44949599849804084,
          0.4621131374502333,
          0.4648961967697942,
          0.46918600222505263,
          0.47550327513689505,
          0.4847420688846047,
          0.6047610590983366,
          0.6047610590983366,
          0.6095975902839003,
          0.6179529810132574,
          0.6281815600094993,
          0.6344464673954672,
          0.6421665192870801,
          0.6425878445720508,
          0.6462917477490536,
          0.650592105982174,
          0.6518827259119517,
          0.6542808735619943,
          0.7332675151507414,
          0.7499090415932488,
          0.7499090415932488,
          0.7500417120165551,
          0.7501055528989109,
          0.7524666197340495,
          0.7530192349900213,
          0.7560877704566935,
          0.7838943147922466,
          0.810011129880161,
          0.8118462614187884,
          0.8593161120233328,
          0.8629015691611874,
          0.8732037788004952,
          0.8732037788004952,
          0.8732067415029681,
          0.8734339409881187,
          0.8777115381287365,
          0.8803250998175605,
          0.8803250998175605,
          0.8803441109665862,
          0.8818640558973805,
          0.9285031348236262,
          0.939505720210247,
          0.9460680956483377,
          0.9733056858464518,
          1.010376010008564,
          1.0247628946447154,
          1.0247628946447154,
          1.0250039465528107,
          1.0251476743813088,
          1.0292636473816736,
          1.0496849820496394,
          1.0508118949206278,
          1.051148589343588,
          1.0525855489808251,
          1.053018241873084,
          1.0543458260065788,
          1.0545065304708265,
          1.054721208548082,
          1.0547219013393043,
          1.055088018997833,
          1.0690817774597312,
          1.0697395164274188,
          1.075038411041056,
          1.075269485585677,
          1.1009682957804718,
          1.1018760178654037,
          1.1091693320224294,
          1.1098510003086022,
          1.1098510003086022,
          1.1103240391109437,
          1.110746407938858,
          1.1113988145484874,
          1.1121971901120435,
          1.1122441372899292,
          1.1175975115859915,
          1.1177177713382411,
          1.1186654739207798,
          1.1293076676302067,
          1.1392101783855735,
          1.141350720592744,
          1.1750646140132046,
          1.175704531152713,
          1.178037693048464,
          1.1781462455950042,
          1.178426549058912,
          1.1790211789227958,
          1.179669606865244,
          1.1798586014592507,
          1.1798586014592507,
          1.1798807866206567,
          1.1801577752680532,
          1.1808378258093768,
          1.181106539733773,
          1.1814958300940008,
          1.1818023900242323,
          1.1818399313296275,
          1.1818399313296275,
          1.181943110883543,
          1.1837959801314875,
          1.1871091345650118,
          1.187135683476431,
          1.1878691693920969,
          1.1879068901626055,
          1.188048606195621,
          1.1881396531535442,
          1.1885144022732392,
          1.1885144022732392,
          1.1891746462628168,
          1.1891958285083233,
          1.189220382967733,
          1.1892312047336697,
          1.18933558948346,
          1.1894972590821116,
          1.1895331604506536,
          1.189823337463812,
          1.1898691743130825,
          1.1898893978402534,
          1.1899119971501686,
          1.1899480614002735,
          1.1899618025781846,
          1.1899817658504004,
          1.1899817658504004,
          1.190001529068716,
          1.1900015398299553,
          1.1900319624982378,
          1.1900578609614518,
          1.190312410777972,
          1.1905242521552575,
          1.1923478535668026,
          1.192358600566457,
          1.1923697305543048,
          1.1923697305543048,
          1.192434033274363,
          1.192434033274363,
          1.192434033274363,
          1.1925193244342172,
          1.1925307139396275
         ]
        }
       ],
       "layout": {
        "template": {
         "data": {
          "bar": [
           {
            "error_x": {
             "color": "#2a3f5f"
            },
            "error_y": {
             "color": "#2a3f5f"
            },
            "marker": {
             "line": {
              "color": "#E5ECF6",
              "width": 0.5
             },
             "pattern": {
              "fillmode": "overlay",
              "size": 10,
              "solidity": 0.2
             }
            },
            "type": "bar"
           }
          ],
          "barpolar": [
           {
            "marker": {
             "line": {
              "color": "#E5ECF6",
              "width": 0.5
             },
             "pattern": {
              "fillmode": "overlay",
              "size": 10,
              "solidity": 0.2
             }
            },
            "type": "barpolar"
           }
          ],
          "carpet": [
           {
            "aaxis": {
             "endlinecolor": "#2a3f5f",
             "gridcolor": "white",
             "linecolor": "white",
             "minorgridcolor": "white",
             "startlinecolor": "#2a3f5f"
            },
            "baxis": {
             "endlinecolor": "#2a3f5f",
             "gridcolor": "white",
             "linecolor": "white",
             "minorgridcolor": "white",
             "startlinecolor": "#2a3f5f"
            },
            "type": "carpet"
           }
          ],
          "choropleth": [
           {
            "colorbar": {
             "outlinewidth": 0,
             "ticks": ""
            },
            "type": "choropleth"
           }
          ],
          "contour": [
           {
            "colorbar": {
             "outlinewidth": 0,
             "ticks": ""
            },
            "colorscale": [
             [
              0,
              "#0d0887"
             ],
             [
              0.1111111111111111,
              "#46039f"
             ],
             [
              0.2222222222222222,
              "#7201a8"
             ],
             [
              0.3333333333333333,
              "#9c179e"
             ],
             [
              0.4444444444444444,
              "#bd3786"
             ],
             [
              0.5555555555555556,
              "#d8576b"
             ],
             [
              0.6666666666666666,
              "#ed7953"
             ],
             [
              0.7777777777777778,
              "#fb9f3a"
             ],
             [
              0.8888888888888888,
              "#fdca26"
             ],
             [
              1,
              "#f0f921"
             ]
            ],
            "type": "contour"
           }
          ],
          "contourcarpet": [
           {
            "colorbar": {
             "outlinewidth": 0,
             "ticks": ""
            },
            "type": "contourcarpet"
           }
          ],
          "heatmap": [
           {
            "colorbar": {
             "outlinewidth": 0,
             "ticks": ""
            },
            "colorscale": [
             [
              0,
              "#0d0887"
             ],
             [
              0.1111111111111111,
              "#46039f"
             ],
             [
              0.2222222222222222,
              "#7201a8"
             ],
             [
              0.3333333333333333,
              "#9c179e"
             ],
             [
              0.4444444444444444,
              "#bd3786"
             ],
             [
              0.5555555555555556,
              "#d8576b"
             ],
             [
              0.6666666666666666,
              "#ed7953"
             ],
             [
              0.7777777777777778,
              "#fb9f3a"
             ],
             [
              0.8888888888888888,
              "#fdca26"
             ],
             [
              1,
              "#f0f921"
             ]
            ],
            "type": "heatmap"
           }
          ],
          "heatmapgl": [
           {
            "colorbar": {
             "outlinewidth": 0,
             "ticks": ""
            },
            "colorscale": [
             [
              0,
              "#0d0887"
             ],
             [
              0.1111111111111111,
              "#46039f"
             ],
             [
              0.2222222222222222,
              "#7201a8"
             ],
             [
              0.3333333333333333,
              "#9c179e"
             ],
             [
              0.4444444444444444,
              "#bd3786"
             ],
             [
              0.5555555555555556,
              "#d8576b"
             ],
             [
              0.6666666666666666,
              "#ed7953"
             ],
             [
              0.7777777777777778,
              "#fb9f3a"
             ],
             [
              0.8888888888888888,
              "#fdca26"
             ],
             [
              1,
              "#f0f921"
             ]
            ],
            "type": "heatmapgl"
           }
          ],
          "histogram": [
           {
            "marker": {
             "pattern": {
              "fillmode": "overlay",
              "size": 10,
              "solidity": 0.2
             }
            },
            "type": "histogram"
           }
          ],
          "histogram2d": [
           {
            "colorbar": {
             "outlinewidth": 0,
             "ticks": ""
            },
            "colorscale": [
             [
              0,
              "#0d0887"
             ],
             [
              0.1111111111111111,
              "#46039f"
             ],
             [
              0.2222222222222222,
              "#7201a8"
             ],
             [
              0.3333333333333333,
              "#9c179e"
             ],
             [
              0.4444444444444444,
              "#bd3786"
             ],
             [
              0.5555555555555556,
              "#d8576b"
             ],
             [
              0.6666666666666666,
              "#ed7953"
             ],
             [
              0.7777777777777778,
              "#fb9f3a"
             ],
             [
              0.8888888888888888,
              "#fdca26"
             ],
             [
              1,
              "#f0f921"
             ]
            ],
            "type": "histogram2d"
           }
          ],
          "histogram2dcontour": [
           {
            "colorbar": {
             "outlinewidth": 0,
             "ticks": ""
            },
            "colorscale": [
             [
              0,
              "#0d0887"
             ],
             [
              0.1111111111111111,
              "#46039f"
             ],
             [
              0.2222222222222222,
              "#7201a8"
             ],
             [
              0.3333333333333333,
              "#9c179e"
             ],
             [
              0.4444444444444444,
              "#bd3786"
             ],
             [
              0.5555555555555556,
              "#d8576b"
             ],
             [
              0.6666666666666666,
              "#ed7953"
             ],
             [
              0.7777777777777778,
              "#fb9f3a"
             ],
             [
              0.8888888888888888,
              "#fdca26"
             ],
             [
              1,
              "#f0f921"
             ]
            ],
            "type": "histogram2dcontour"
           }
          ],
          "mesh3d": [
           {
            "colorbar": {
             "outlinewidth": 0,
             "ticks": ""
            },
            "type": "mesh3d"
           }
          ],
          "parcoords": [
           {
            "line": {
             "colorbar": {
              "outlinewidth": 0,
              "ticks": ""
             }
            },
            "type": "parcoords"
           }
          ],
          "pie": [
           {
            "automargin": true,
            "type": "pie"
           }
          ],
          "scatter": [
           {
            "fillpattern": {
             "fillmode": "overlay",
             "size": 10,
             "solidity": 0.2
            },
            "type": "scatter"
           }
          ],
          "scatter3d": [
           {
            "line": {
             "colorbar": {
              "outlinewidth": 0,
              "ticks": ""
             }
            },
            "marker": {
             "colorbar": {
              "outlinewidth": 0,
              "ticks": ""
             }
            },
            "type": "scatter3d"
           }
          ],
          "scattercarpet": [
           {
            "marker": {
             "colorbar": {
              "outlinewidth": 0,
              "ticks": ""
             }
            },
            "type": "scattercarpet"
           }
          ],
          "scattergeo": [
           {
            "marker": {
             "colorbar": {
              "outlinewidth": 0,
              "ticks": ""
             }
            },
            "type": "scattergeo"
           }
          ],
          "scattergl": [
           {
            "marker": {
             "colorbar": {
              "outlinewidth": 0,
              "ticks": ""
             }
            },
            "type": "scattergl"
           }
          ],
          "scattermapbox": [
           {
            "marker": {
             "colorbar": {
              "outlinewidth": 0,
              "ticks": ""
             }
            },
            "type": "scattermapbox"
           }
          ],
          "scatterpolar": [
           {
            "marker": {
             "colorbar": {
              "outlinewidth": 0,
              "ticks": ""
             }
            },
            "type": "scatterpolar"
           }
          ],
          "scatterpolargl": [
           {
            "marker": {
             "colorbar": {
              "outlinewidth": 0,
              "ticks": ""
             }
            },
            "type": "scatterpolargl"
           }
          ],
          "scatterternary": [
           {
            "marker": {
             "colorbar": {
              "outlinewidth": 0,
              "ticks": ""
             }
            },
            "type": "scatterternary"
           }
          ],
          "surface": [
           {
            "colorbar": {
             "outlinewidth": 0,
             "ticks": ""
            },
            "colorscale": [
             [
              0,
              "#0d0887"
             ],
             [
              0.1111111111111111,
              "#46039f"
             ],
             [
              0.2222222222222222,
              "#7201a8"
             ],
             [
              0.3333333333333333,
              "#9c179e"
             ],
             [
              0.4444444444444444,
              "#bd3786"
             ],
             [
              0.5555555555555556,
              "#d8576b"
             ],
             [
              0.6666666666666666,
              "#ed7953"
             ],
             [
              0.7777777777777778,
              "#fb9f3a"
             ],
             [
              0.8888888888888888,
              "#fdca26"
             ],
             [
              1,
              "#f0f921"
             ]
            ],
            "type": "surface"
           }
          ],
          "table": [
           {
            "cells": {
             "fill": {
              "color": "#EBF0F8"
             },
             "line": {
              "color": "white"
             }
            },
            "header": {
             "fill": {
              "color": "#C8D4E3"
             },
             "line": {
              "color": "white"
             }
            },
            "type": "table"
           }
          ]
         },
         "layout": {
          "annotationdefaults": {
           "arrowcolor": "#2a3f5f",
           "arrowhead": 0,
           "arrowwidth": 1
          },
          "autotypenumbers": "strict",
          "coloraxis": {
           "colorbar": {
            "outlinewidth": 0,
            "ticks": ""
           }
          },
          "colorscale": {
           "diverging": [
            [
             0,
             "#8e0152"
            ],
            [
             0.1,
             "#c51b7d"
            ],
            [
             0.2,
             "#de77ae"
            ],
            [
             0.3,
             "#f1b6da"
            ],
            [
             0.4,
             "#fde0ef"
            ],
            [
             0.5,
             "#f7f7f7"
            ],
            [
             0.6,
             "#e6f5d0"
            ],
            [
             0.7,
             "#b8e186"
            ],
            [
             0.8,
             "#7fbc41"
            ],
            [
             0.9,
             "#4d9221"
            ],
            [
             1,
             "#276419"
            ]
           ],
           "sequential": [
            [
             0,
             "#0d0887"
            ],
            [
             0.1111111111111111,
             "#46039f"
            ],
            [
             0.2222222222222222,
             "#7201a8"
            ],
            [
             0.3333333333333333,
             "#9c179e"
            ],
            [
             0.4444444444444444,
             "#bd3786"
            ],
            [
             0.5555555555555556,
             "#d8576b"
            ],
            [
             0.6666666666666666,
             "#ed7953"
            ],
            [
             0.7777777777777778,
             "#fb9f3a"
            ],
            [
             0.8888888888888888,
             "#fdca26"
            ],
            [
             1,
             "#f0f921"
            ]
           ],
           "sequentialminus": [
            [
             0,
             "#0d0887"
            ],
            [
             0.1111111111111111,
             "#46039f"
            ],
            [
             0.2222222222222222,
             "#7201a8"
            ],
            [
             0.3333333333333333,
             "#9c179e"
            ],
            [
             0.4444444444444444,
             "#bd3786"
            ],
            [
             0.5555555555555556,
             "#d8576b"
            ],
            [
             0.6666666666666666,
             "#ed7953"
            ],
            [
             0.7777777777777778,
             "#fb9f3a"
            ],
            [
             0.8888888888888888,
             "#fdca26"
            ],
            [
             1,
             "#f0f921"
            ]
           ]
          },
          "colorway": [
           "#636efa",
           "#EF553B",
           "#00cc96",
           "#ab63fa",
           "#FFA15A",
           "#19d3f3",
           "#FF6692",
           "#B6E880",
           "#FF97FF",
           "#FECB52"
          ],
          "font": {
           "color": "#2a3f5f"
          },
          "geo": {
           "bgcolor": "white",
           "lakecolor": "white",
           "landcolor": "#E5ECF6",
           "showlakes": true,
           "showland": true,
           "subunitcolor": "white"
          },
          "hoverlabel": {
           "align": "left"
          },
          "hovermode": "closest",
          "mapbox": {
           "style": "light"
          },
          "paper_bgcolor": "white",
          "plot_bgcolor": "#E5ECF6",
          "polar": {
           "angularaxis": {
            "gridcolor": "white",
            "linecolor": "white",
            "ticks": ""
           },
           "bgcolor": "#E5ECF6",
           "radialaxis": {
            "gridcolor": "white",
            "linecolor": "white",
            "ticks": ""
           }
          },
          "scene": {
           "xaxis": {
            "backgroundcolor": "#E5ECF6",
            "gridcolor": "white",
            "gridwidth": 2,
            "linecolor": "white",
            "showbackground": true,
            "ticks": "",
            "zerolinecolor": "white"
           },
           "yaxis": {
            "backgroundcolor": "#E5ECF6",
            "gridcolor": "white",
            "gridwidth": 2,
            "linecolor": "white",
            "showbackground": true,
            "ticks": "",
            "zerolinecolor": "white"
           },
           "zaxis": {
            "backgroundcolor": "#E5ECF6",
            "gridcolor": "white",
            "gridwidth": 2,
            "linecolor": "white",
            "showbackground": true,
            "ticks": "",
            "zerolinecolor": "white"
           }
          },
          "shapedefaults": {
           "line": {
            "color": "#2a3f5f"
           }
          },
          "ternary": {
           "aaxis": {
            "gridcolor": "white",
            "linecolor": "white",
            "ticks": ""
           },
           "baxis": {
            "gridcolor": "white",
            "linecolor": "white",
            "ticks": ""
           },
           "bgcolor": "#E5ECF6",
           "caxis": {
            "gridcolor": "white",
            "linecolor": "white",
            "ticks": ""
           }
          },
          "title": {
           "x": 0.05
          },
          "xaxis": {
           "automargin": true,
           "gridcolor": "white",
           "linecolor": "white",
           "ticks": "",
           "title": {
            "standoff": 15
           },
           "zerolinecolor": "white",
           "zerolinewidth": 2
          },
          "yaxis": {
           "automargin": true,
           "gridcolor": "white",
           "linecolor": "white",
           "ticks": "",
           "title": {
            "standoff": 15
           },
           "zerolinecolor": "white",
           "zerolinewidth": 2
          }
         }
        },
        "title": {
         "text": "hypervolume over n_gen"
        },
        "xaxis": {
         "title": {
          "text": "generation"
         }
        },
        "yaxis": {
         "title": {
          "text": "hypervolume"
         }
        }
       }
      }
     },
     "metadata": {},
     "output_type": "display_data"
    }
   ],
   "source": [
    "\n",
    "fig0 = go.Figure()\n",
    "fig0.update_layout(\n",
    "    xaxis_title=\"PC\",\n",
    "    yaxis_title=\"-AVG_DL\",\n",
    "    template=template_one_diagram,\n",
    "    showlegend=False\n",
    "    )\n",
    "asf_selection_point = (1,2)\n",
    "\n",
    "##### add paretofronts of all configs\n",
    "for index, pareto_front in enumerate(pareto_fronts):\n",
    "\n",
    "    fig0.add_trace(\n",
    "        go.Scatter(\n",
    "            x=np.array(paretor_fronts_normalized[index])[:,0],\n",
    "            y=np.array(paretor_fronts_normalized[index])[:,1],\n",
    "            mode='markers',\n",
    "            line={\"color\": evo_color},\n",
    "            name=config_names[index],\n",
    "            )\n",
    "        )\n",
    "    \n",
    "    i_2 = asf_select(np.array(pareto_front))\n",
    "  \n",
    "    fig0.add_trace(\n",
    "    go.Scatter(\n",
    "        x=np.array(paretor_fronts_normalized[index][i_2][0]),\n",
    "        y=np.array(paretor_fronts_normalized[index][i_2][1]),\n",
    "        mode='markers',\n",
    "        name= \"asf selection\",\n",
    "        # opacity= 0.5,\n",
    "        # marker=dict(size=10)\n",
    "        )\n",
    "    )\n",
    "    asf_selection_point= ( paretor_fronts_normalized[index][i_2][0], paretor_fronts_normalized[index][i_2][1])\n",
    "\n",
    "##### add rssi sampling population\n",
    "\n",
    "fig0.add_trace(\n",
    "     go.Scatter(\n",
    "        x=sampling_pop_objecitve_space_noramlized[:,0],\n",
    "        y=sampling_pop_objecitve_space_noramlized[:,1],\n",
    "        mode='markers',\n",
    "        # line={\"color\": greedy_color},\n",
    "        name= \"greedy_sampling_pop\",\n",
    "        )\n",
    "    )\n",
    "###### highlight greedy assignment activation profile\n",
    "\n",
    "fig0.add_trace(\n",
    "    go.Scatter(\n",
    "        x=np.array(sampling_pop_objecitve_space_noramlized[-1][0]),\n",
    "        y=np.array(sampling_pop_objecitve_space_noramlized[-1][1]),\n",
    "        mode='markers',\n",
    "        name= \"greedy_assignment_profile\",\n",
    "        line={\"color\": greedy_color},\n",
    "        )\n",
    "    )\n",
    "i = asf_select(sampling_pop_objecitve_space)\n",
    "\n",
    "# fig0.add_trace(\n",
    "#     go.Scatter(\n",
    "#         x=[sampling_pop_objecitve_space_noramlized[i][0],sampling_pop_objecitve_space_noramlized[i][0], asf_selection_point[0], asf_selection_point[0]],\n",
    "#         y=[sampling_pop_objecitve_space_noramlized[i][1], asf_selection_point[1], asf_selection_point[1], sampling_pop_objecitve_space_noramlized[i][1]],\n",
    "#         fill=\"toself\",\n",
    "#         mode=\"lines+text\",\n",
    "#         line_width=0,\n",
    "#     )\n",
    "# )\n",
    "\n",
    "# volume = (asf_selection_point[0]-sampling_pop_objecitve_space_noramlized[i][0])*(asf_selection_point[1]-sampling_pop_objecitve_space_noramlized[i][1])\n",
    "\n",
    "# fig0.add_annotation(\n",
    "#     x=0.6, y=0.6, text=round(volume,4),\n",
    "#     showarrow=False,\n",
    "#     font=dict(\n",
    "#             size=16,\n",
    "#             ),\n",
    "#     )\n",
    "\n",
    "fig2 = go.Figure()\n",
    "fig2.update_layout(\n",
    "    title=\"hypervolume over n_gen\",\n",
    "    xaxis_title=\"generation\",\n",
    "    yaxis_title=\"hypervolume\")\n",
    "\n",
    "for index, hyper_volume_history in enumerate(hyper_volume_histories):\n",
    "    fig2.add_trace(\n",
    "        go.Scatter(\n",
    "            x=list(range(0, len(hyper_volume_history))),\n",
    "            y=hyper_volume_history,\n",
    "            mode='lines',\n",
    "            name=config_names[index],\n",
    "            ))\n",
    "\n",
    "\n",
    "# fig1.show()\n",
    "fig0.show()\n",
    "# fig0.write_image(f\"./diagrams/paretofront_{network_name}.pdf\")\n",
    "fig0.write_image(f\"./diagrams/{network_name}_static_opt_example.pdf\")\n",
    "remove_blank_page(\"./diagrams/\")\n",
    "fig2.show()"
   ]
  },
  {
   "cell_type": "code",
   "execution_count": 33,
   "id": "eaf92719",
   "metadata": {},
   "outputs": [],
   "source": [
    "\n",
    "cor_matrix = False\n",
    "\n",
    "def print_cor_matrix():\n",
    "        network_name = \"het_C100\"\n",
    "        config_name = \"static_evo_var\"\n",
    "\n",
    "        results_directory = f\"./datastore/{network_name}/{config_name}/\"\n",
    "\n",
    "        with open(results_directory + \"objectives_result.json\", mode=\"r\",encoding=\"utf-8\") as openfile:\n",
    "                results_object = json.load(openfile)\n",
    "                paretofront = np.array(results_object[\"objectiveSpace\"])\n",
    "\n",
    "                nadir = paretofront.max(axis=0)\n",
    "                ideal = paretofront.min(axis=0)\n",
    "                paretofront = np.array((paretofront - ideal) / (nadir - ideal))\n",
    "\n",
    "\n",
    "                xyz = paretofront.transpose()\n",
    "\n",
    "                corr_matrix, p_matrix = scipy.stats.spearmanr(xyz, axis=1)\n",
    "                corr_matrix = np.array(corr_matrix)\n",
    "                corr_matrix = corr_matrix.round(4)\n",
    "\n",
    "                print(corr_matrix)\n",
    "                fig, ax = plt.subplots()\n",
    "                im = ax.imshow(corr_matrix)\n",
    "                im.set_clim(-1, 1)\n",
    "                ax.grid(False)\n",
    "                ax.xaxis.set(ticks=(0, 1, 2), ticklabels=('PWR_CONSUMPTION', 'AVG_DL', 'DL_VARIANCE'))\n",
    "                ax.yaxis.set(ticks=(0, 1, 2), ticklabels=('PWR_CONSUMPTION', 'AVG_DL', 'DL_VARIANCE'))\n",
    "                ax.set_ylim(2.5, -0.5)\n",
    "                for i in range(3):\n",
    "                        for j in range(3):\n",
    "                                ax.text(j, i, corr_matrix[i, j], ha='center', va='center',\n",
    "                                        color='r')\n",
    "                cbar = ax.figure.colorbar(im, ax=ax, format='% .2f')\n",
    "                plt.show() \n",
    "if cor_matrix:\n",
    "        print_cor_matrix()\n",
    "\n"
   ]
  }
 ],
 "metadata": {
  "kernelspec": {
   "display_name": "Python 3 (ipykernel)",
   "language": "python",
   "name": "python3"
  },
  "language_info": {
   "codemirror_mode": {
    "name": "ipython",
    "version": 3
   },
   "file_extension": ".py",
   "mimetype": "text/x-python",
   "name": "python",
   "nbconvert_exporter": "python",
   "pygments_lexer": "ipython3",
   "version": "3.11.5"
  }
 },
 "nbformat": 4,
 "nbformat_minor": 5
}
