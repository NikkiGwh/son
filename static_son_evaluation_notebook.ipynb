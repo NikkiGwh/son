{
 "cells": [
  {
   "cell_type": "code",
   "execution_count": 15,
   "id": "7bc1c4da-f3bc-4a3d-9069-5655b400e7dc",
   "metadata": {},
   "outputs": [],
   "source": [
    "\n",
    "import json\n",
    "import numpy as np\n",
    "from son_main_script import Son\n",
    "from son_pymoo import HighRssiFirstSampling, ObjectiveEnum, SonProblemElementWise\n",
    "from pymoo.decomposition.asf import ASF\n",
    "import plotly.graph_objects as go\n",
    "from pymoo.indicators.hv import Hypervolume\n",
    "\n",
    "def asf_select(objective_space: np.ndarray,\n",
    "                    weights: np.ndarray = np.array([0.5, 0.5])):\n",
    "    \n",
    "    # TODO check if picked solution is from pareto front\n",
    "    approx_ideal = objective_space.min(axis=0)\n",
    "    approx_nadir = objective_space.max(axis=0)\n",
    "\n",
    "    np.seterr(divide='ignore', invalid='ignore')\n",
    "    nF = (objective_space - approx_ideal) / (approx_nadir - approx_ideal)\n",
    "    decomp = ASF()\n",
    "    i = decomp.do(nF, 1/weights).argmin()\n",
    "    return i\n",
    "\n",
    "def normalize_objective_space_pop(objective_space_pop: np.ndarray, ideal, nadir):\n",
    "    return (objective_space_pop - ideal) / (nadir - ideal)\n",
    "\n",
    "def create_greedy_rssi_sampling_pop(optimization_objectives: list[str], son: Son):\n",
    "     ###### test HighRssiFirstSampling\n",
    "    son_problem_obj = SonProblemElementWise(optimization_objectives, son)\n",
    "    # create pop with RssiSampling\n",
    "    high_rssi_sampling_obj = HighRssiFirstSampling()\n",
    "    sampling_pop = high_rssi_sampling_obj._do(son_problem_obj, 100)\n",
    "    sampling_pop_objecitve_space = np.empty((100,2))\n",
    "    out = {}\n",
    "    for index, ind in enumerate(sampling_pop):\n",
    "        son_problem_obj._evaluate(ind, out)\n",
    "        sampling_pop_objecitve_space[index]=out[\"F\"]\n",
    "    return sampling_pop_objecitve_space\n",
    "\n",
    "def get_hypervolume(objective_space_pop: np.ndarray, ref_point=None, norm_ref_point=True, zero_to_one=False, ideal=None, nadir=None):\n",
    "    hv = Hypervolume(ref_point=np.array([1.1, 1.1]),\n",
    "                     norm_ref_point=norm_ref_point,\n",
    "                     zero_to_one=zero_to_one,\n",
    "                     ideal=ideal,\n",
    "                     nadir=nadir)\n",
    "    \n",
    "    return hv(objective_space_pop)\n",
    "\n",
    "##################################################################\n",
    "\n",
    "# network_name = \"hetNet2\"\n",
    "# config_names = [\"static600gen_pop200_opff40\", \"static600gen_pop400_off80\"]\n",
    "\n",
    "network_name = \"100percentnetwork\"\n",
    "config_names = [\"powerconsumption_static3\"]\n",
    "# config_names= [\"efficiency_static\"]\n",
    "\n",
    "# network_name = \"hetNet4\"\n",
    "# config_names = [\"static_randomsampling\", \"static_greedysampling\"]\n",
    "# config_names = [\"static_greedysampling2\"]\n",
    "\n",
    "# network_name = \"hetNet4\"\n",
    "# config_names =  [\"static_energyConsumption\"]\n",
    "\n",
    "##################################################################\n",
    "pareto_fronts = []\n",
    "hyper_volume_histories = []\n",
    "\n",
    "for _, config_name in enumerate(config_names):\n",
    "    results_directory = f\"./datastore/{network_name}/{config_name}/\"\n",
    "\n",
    "    results_object = {}\n",
    "    with open(results_directory + \"objectives_result.json\", mode=\"r\",encoding=\"utf-8\") as openfile:\n",
    "            results_object = json.load(openfile)\n",
    "\n",
    "    pareto_fronts.append(results_object[\"objectiveSpace\"])\n",
    "    \n",
    "    hyper_volume_history = []\n",
    "\n",
    "\n",
    "    combined_his = []\n",
    "    for _, current_pop_objectivespace in enumerate(results_object[\"history\"][\"objective_space_opt\"]):\n",
    "         combined_his.append(current_pop_objectivespace[0])\n",
    "\n",
    "    nadir = np.array(combined_his).max(axis=0)\n",
    "    ideal = np.array(combined_his).min(axis=0)\n",
    "         \n",
    "        \n",
    "    for _, current_pop_objectivespace in enumerate(results_object[\"history\"][\"objective_space_opt\"]):\n",
    "        normalized_current_pop = normalize_objective_space_pop(np.array(current_pop_objectivespace), ideal, nadir)\n",
    "        hyper_volume_history.append(get_hypervolume(np.array(normalized_current_pop)))\n",
    "        \n",
    "    hyper_volume_histories.append(hyper_volume_history)"
   ]
  },
  {
   "cell_type": "code",
   "execution_count": 16,
   "id": "7ae4bc69",
   "metadata": {},
   "outputs": [
    {
     "data": {
      "application/vnd.plotly.v1+json": {
       "config": {
        "plotlyServerURL": "https://plot.ly"
       },
       "data": [
        {
         "mode": "markers",
         "name": "powerconsumption_static3",
         "type": "scatter",
         "x": [
          5509.29544735491,
          5193.0676813380705,
          4579.822128134703,
          5699.032106965014,
          3678.989372702711,
          5098.199351533019,
          3610.6121493043943,
          3868.726032312813,
          5161.444904736387,
          5066.576574931335,
          5446.0498941515425,
          5414.427117549859,
          5351.181564346491,
          3837.1032557111293,
          3742.234925906078,
          5129.822128134704,
          3805.4804791094457,
          5256.31323454144,
          3126.0071598892405,
          4290.0854685245995,
          3157.629936490924,
          3905.4804791094457,
          5287.936011143123,
          5382.804340948174,
          3937.10325571113,
          2967.8932768808218,
          4258.462691922916,
          3710.6121493043947,
          4516.576574931334,
          3094.3843832875564,
          4421.708245126282,
          3937.1032557111293,
          3710.6121493043943,
          5161.444904736388,
          4453.331021727967,
          4421.708245126283,
          5604.163777159962,
          4031.9715855161808,
          4548.199351533019,
          5572.541000558278,
          3031.138830084189,
          3062.7616066858727,
          5667.409330363329,
          3968.726032312813,
          4711.444904736387,
          5477.672670753226,
          5098.19935153302,
          3515.743819499343,
          3968.7260323128135,
          3578.9893727027106,
          4321.708245126283,
          4484.95379832965,
          3062.761606685873,
          4195.217138719548,
          3320.875489694292,
          3289.252713092608,
          3257.629936490924,
          5540.918223956594,
          4195.2171387195485,
          2999.5160534825054,
          3384.121042897659,
          5635.786553761645,
          4095.217138719548,
          3352.4982662959756,
          4063.5943621178644,
          3257.6299364909246,
          4226.839915321232,
          3578.98937270271,
          5319.558787744807,
          3547.3665961010265,
          3773.8577025077616,
          3742.2349259060784,
          4679.822128134702,
          3289.2527130926082,
          5224.690457939755,
          4000.348808914497,
          3805.4804791094457,
          5256.313234541439,
          4163.594362117864,
          3094.384383287557,
          3415.743819499343,
          4648.199351533019,
          4648.199351533018,
          5414.427117549858,
          5193.067681338071
         ],
         "y": [
          -259000.8427501522,
          -243139.75852124102,
          -229028.02054722898,
          -263744.6114250583,
          -164515.2781827875,
          -236655.68090637072,
          -164121.5465044492,
          -178685.54220807002,
          -241382.00113169008,
          -236103.18952733342,
          -257494.42612006195,
          -256204.85240557446,
          -253568.1843961286,
          -177687.24928001087,
          -168711.6102100476,
          -240721.2279472012,
          -176746.90052892297,
          -249010.47677532755,
          -132296.12884297772,
          -213067.8917395659,
          -134905.7050439664,
          -179340.776495627,
          -250346.80420032024,
          -254827.94835225437,
          -183830.38930664488,
          -112364.76672965434,
          -210467.71021081682,
          -168270.55017902798,
          -226254.77348510412,
          -128103.18491109581,
          -217383.0491083802,
          -183269.85898878536,
          -165938.2631330764,
          -242078.50722605802,
          -220739.05692046246,
          -218071.80681031267,
          -262028.63399062052,
          -193510.5822120409,
          -227905.3236992168,
          -261258.686114487,
          -120645.99856506134,
          -124369.1341308765,
          -263326.6191608366,
          -187032.02115612561,
          -234025.4741887082,
          -258416.5296183433,
          -239467.48665191486,
          -155478.33419843743,
          -187517.0063824904,
          -162289.37310131927,
          -215461.41312771605,
          -223795.8788086148,
          -124502.35212683081,
          -200518.88275881507,
          -144410.16898501499,
          -139925.0610150571,
          -136561.17928433942,
          -260666.52736869187,
          -203141.30244429462,
          -116586.99285595816,
          -150970.92733960215,
          -263036.14679344743,
          -197905.7632840063,
          -148186.8361546643,
          -195339.7806254403,
          -136944.99333119285,
          -207152.68947526743,
          -161817.96318659178,
          -252055.28959847332,
          -159145.73431545252,
          -175660.78575287227,
          -171334.16903687746,
          -232489.8305168152,
          -140396.48225722255,
          -247266.65328042718,
          -191132.470684981,
          -176746.90052892297,
          -247756.19062345565,
          -199413.24823008358,
          -128548.71494050737,
          -155193.09494946335,
          -230042.34410547547,
          -229950.0378797718,
          -256175.21321381748,
          -245718.3808943648
         ]
        },
        {
         "mode": "markers",
         "name": "greedy_sampling_pop",
         "type": "scatter",
         "x": [
          5319.558787744807,
          5414.427117549858,
          5414.427117549858,
          5414.427117549857,
          5319.558787744807,
          5319.558787744806,
          5477.672670753226,
          5224.690457939754,
          5319.558787744807,
          5319.558787744806,
          5224.690457939755,
          5446.049894151541,
          5187.936011143123,
          5319.558787744808,
          5256.313234541438,
          5382.8043409481725,
          5319.558787744805,
          5124.690457939753,
          5251.181564346491,
          5414.427117549858,
          5446.04989415154,
          5351.18156434649,
          5382.804340948175,
          5093.0676813380705,
          5224.690457939754,
          5509.295447354908,
          5414.427117549857,
          5124.690457939756,
          5446.0498941515425,
          5414.427117549858,
          4993.06768133807,
          5382.804340948174,
          5287.9360111431215,
          5224.690457939755,
          5287.936011143124,
          5219.558787744808,
          5287.936011143123,
          5477.672670753226,
          5251.18156434649,
          5319.558787744805,
          5319.558787744807,
          5287.936011143122,
          5409.29544735491,
          5287.9360111431215,
          5193.0676813380705,
          5414.427117549858,
          5251.181564346491,
          5093.067681338071,
          5319.558787744807,
          5319.558787744807,
          5446.0498941515425,
          4866.576574931337,
          5319.558787744808,
          5219.558787744807,
          5477.672670753226,
          5382.804340948174,
          5319.558787744806,
          5224.690457939754,
          5219.558787744806,
          5224.690457939754,
          5287.936011143122,
          5124.690457939754,
          5093.067681338071,
          4993.067681338071,
          5156.313234541439,
          5351.18156434649,
          5256.31323454144,
          5414.427117549856,
          5224.690457939755,
          5193.0676813380705,
          5477.672670753225,
          5256.313234541437,
          5256.313234541438,
          5156.313234541438,
          5124.690457939755,
          5414.42711754986,
          5477.672670753227,
          5287.936011143122,
          5382.8043409481725,
          5193.067681338072,
          5382.804340948173,
          5382.8043409481725,
          5351.18156434649,
          5446.0498941515425,
          5287.936011143122,
          5319.558787744807,
          5219.558787744805,
          5193.067681338071,
          5256.31323454144,
          5256.313234541439,
          5224.690457939754,
          5446.0498941515425,
          5319.558787744806,
          5351.181564346491,
          5219.558787744807,
          5319.558787744805,
          5446.0498941515425,
          5540.918223956593,
          5446.049894151542,
          5604.163777159961
         ],
         "y": [
          -176830.01633622215,
          -192725.74258430526,
          -187885.72861614416,
          -191543.79526035022,
          -184490.9379794053,
          -163924.28512363692,
          -189111.00887213164,
          -170001.26464641688,
          -187214.04526919295,
          -173738.06521845947,
          -172976.48556726356,
          -167549.57324994463,
          -162085.0006392556,
          -180686.9672790558,
          -163646.57326466645,
          -189384.2595471844,
          -185681.67845103465,
          -168431.4303284225,
          -183122.84274859005,
          -186851.53025899283,
          -190286.98057100887,
          -189409.87591128674,
          -189558.08181995057,
          -176198.03318844864,
          -156498.18573692613,
          -197763.53269500314,
          -185311.48340240214,
          -160643.2496576492,
          -188925.8325558627,
          -179292.71946050678,
          -170136.84682290672,
          -189043.73372283595,
          -180466.88767525944,
          -166481.9967624822,
          -174097.74088642004,
          -169427.26072693456,
          -168181.7141264081,
          -181185.12872813447,
          -172546.27642802912,
          -176786.3810812683,
          -178941.79283285944,
          -189067.12273549492,
          -186971.74401075637,
          -176173.7175510008,
          -167271.9885502057,
          -183168.97851159406,
          -192648.88257546638,
          -165523.18642731887,
          -173880.58618228178,
          -180063.6398867158,
          -180270.41089269376,
          -168741.24911793415,
          -171216.39086761422,
          -174620.32160038443,
          -183572.40763273303,
          -178507.34823695055,
          -175630.15409856036,
          -178882.4748009137,
          -188099.26676611885,
          -173036.25892483495,
          -161232.05241533808,
          -167449.9397814873,
          -172243.22626095652,
          -165846.64916359112,
          -163608.2525877939,
          -191386.27187437552,
          -168382.62284918196,
          -178803.779334936,
          -152022.70732937005,
          -157890.08207731505,
          -189531.43032934042,
          -177543.65043988265,
          -171687.20469140957,
          -165380.66296973027,
          -173220.18743959657,
          -174578.09427566823,
          -192780.52508245263,
          -185036.80363096145,
          -182601.97371067107,
          -169855.0390690299,
          -173892.43055814283,
          -189951.1964336479,
          -185147.00845545868,
          -182686.73022532268,
          -173397.044113386,
          -185404.87916173862,
          -182487.45443148262,
          -165779.94230667094,
          -175727.1146865476,
          -159386.23523928315,
          -174153.936242654,
          -186305.8622350911,
          -169493.07144055516,
          -175503.44193163834,
          -181340.30849835166,
          -172303.54275261075,
          -196856.96044540862,
          -183433.50665784717,
          -189163.44938603172,
          -234611.82276598376
         ]
        },
        {
         "marker": {
          "size": 10
         },
         "mode": "markers",
         "name": "greedy_assignment_profile",
         "opacity": 0.5,
         "type": "scatter",
         "x": [
          5604.163777159961
         ],
         "y": [
          -234611.82276598376
         ]
        },
        {
         "marker": {
          "size": 10
         },
         "mode": "markers",
         "name": "asf selection for greedy_sampling_pop",
         "opacity": 0.5,
         "type": "scatter",
         "x": [
          5251.181564346491
         ],
         "y": [
          -192648.88257546638
         ]
        }
       ],
       "layout": {
        "template": {
         "data": {
          "bar": [
           {
            "error_x": {
             "color": "#2a3f5f"
            },
            "error_y": {
             "color": "#2a3f5f"
            },
            "marker": {
             "line": {
              "color": "#E5ECF6",
              "width": 0.5
             },
             "pattern": {
              "fillmode": "overlay",
              "size": 10,
              "solidity": 0.2
             }
            },
            "type": "bar"
           }
          ],
          "barpolar": [
           {
            "marker": {
             "line": {
              "color": "#E5ECF6",
              "width": 0.5
             },
             "pattern": {
              "fillmode": "overlay",
              "size": 10,
              "solidity": 0.2
             }
            },
            "type": "barpolar"
           }
          ],
          "carpet": [
           {
            "aaxis": {
             "endlinecolor": "#2a3f5f",
             "gridcolor": "white",
             "linecolor": "white",
             "minorgridcolor": "white",
             "startlinecolor": "#2a3f5f"
            },
            "baxis": {
             "endlinecolor": "#2a3f5f",
             "gridcolor": "white",
             "linecolor": "white",
             "minorgridcolor": "white",
             "startlinecolor": "#2a3f5f"
            },
            "type": "carpet"
           }
          ],
          "choropleth": [
           {
            "colorbar": {
             "outlinewidth": 0,
             "ticks": ""
            },
            "type": "choropleth"
           }
          ],
          "contour": [
           {
            "colorbar": {
             "outlinewidth": 0,
             "ticks": ""
            },
            "colorscale": [
             [
              0,
              "#0d0887"
             ],
             [
              0.1111111111111111,
              "#46039f"
             ],
             [
              0.2222222222222222,
              "#7201a8"
             ],
             [
              0.3333333333333333,
              "#9c179e"
             ],
             [
              0.4444444444444444,
              "#bd3786"
             ],
             [
              0.5555555555555556,
              "#d8576b"
             ],
             [
              0.6666666666666666,
              "#ed7953"
             ],
             [
              0.7777777777777778,
              "#fb9f3a"
             ],
             [
              0.8888888888888888,
              "#fdca26"
             ],
             [
              1,
              "#f0f921"
             ]
            ],
            "type": "contour"
           }
          ],
          "contourcarpet": [
           {
            "colorbar": {
             "outlinewidth": 0,
             "ticks": ""
            },
            "type": "contourcarpet"
           }
          ],
          "heatmap": [
           {
            "colorbar": {
             "outlinewidth": 0,
             "ticks": ""
            },
            "colorscale": [
             [
              0,
              "#0d0887"
             ],
             [
              0.1111111111111111,
              "#46039f"
             ],
             [
              0.2222222222222222,
              "#7201a8"
             ],
             [
              0.3333333333333333,
              "#9c179e"
             ],
             [
              0.4444444444444444,
              "#bd3786"
             ],
             [
              0.5555555555555556,
              "#d8576b"
             ],
             [
              0.6666666666666666,
              "#ed7953"
             ],
             [
              0.7777777777777778,
              "#fb9f3a"
             ],
             [
              0.8888888888888888,
              "#fdca26"
             ],
             [
              1,
              "#f0f921"
             ]
            ],
            "type": "heatmap"
           }
          ],
          "heatmapgl": [
           {
            "colorbar": {
             "outlinewidth": 0,
             "ticks": ""
            },
            "colorscale": [
             [
              0,
              "#0d0887"
             ],
             [
              0.1111111111111111,
              "#46039f"
             ],
             [
              0.2222222222222222,
              "#7201a8"
             ],
             [
              0.3333333333333333,
              "#9c179e"
             ],
             [
              0.4444444444444444,
              "#bd3786"
             ],
             [
              0.5555555555555556,
              "#d8576b"
             ],
             [
              0.6666666666666666,
              "#ed7953"
             ],
             [
              0.7777777777777778,
              "#fb9f3a"
             ],
             [
              0.8888888888888888,
              "#fdca26"
             ],
             [
              1,
              "#f0f921"
             ]
            ],
            "type": "heatmapgl"
           }
          ],
          "histogram": [
           {
            "marker": {
             "pattern": {
              "fillmode": "overlay",
              "size": 10,
              "solidity": 0.2
             }
            },
            "type": "histogram"
           }
          ],
          "histogram2d": [
           {
            "colorbar": {
             "outlinewidth": 0,
             "ticks": ""
            },
            "colorscale": [
             [
              0,
              "#0d0887"
             ],
             [
              0.1111111111111111,
              "#46039f"
             ],
             [
              0.2222222222222222,
              "#7201a8"
             ],
             [
              0.3333333333333333,
              "#9c179e"
             ],
             [
              0.4444444444444444,
              "#bd3786"
             ],
             [
              0.5555555555555556,
              "#d8576b"
             ],
             [
              0.6666666666666666,
              "#ed7953"
             ],
             [
              0.7777777777777778,
              "#fb9f3a"
             ],
             [
              0.8888888888888888,
              "#fdca26"
             ],
             [
              1,
              "#f0f921"
             ]
            ],
            "type": "histogram2d"
           }
          ],
          "histogram2dcontour": [
           {
            "colorbar": {
             "outlinewidth": 0,
             "ticks": ""
            },
            "colorscale": [
             [
              0,
              "#0d0887"
             ],
             [
              0.1111111111111111,
              "#46039f"
             ],
             [
              0.2222222222222222,
              "#7201a8"
             ],
             [
              0.3333333333333333,
              "#9c179e"
             ],
             [
              0.4444444444444444,
              "#bd3786"
             ],
             [
              0.5555555555555556,
              "#d8576b"
             ],
             [
              0.6666666666666666,
              "#ed7953"
             ],
             [
              0.7777777777777778,
              "#fb9f3a"
             ],
             [
              0.8888888888888888,
              "#fdca26"
             ],
             [
              1,
              "#f0f921"
             ]
            ],
            "type": "histogram2dcontour"
           }
          ],
          "mesh3d": [
           {
            "colorbar": {
             "outlinewidth": 0,
             "ticks": ""
            },
            "type": "mesh3d"
           }
          ],
          "parcoords": [
           {
            "line": {
             "colorbar": {
              "outlinewidth": 0,
              "ticks": ""
             }
            },
            "type": "parcoords"
           }
          ],
          "pie": [
           {
            "automargin": true,
            "type": "pie"
           }
          ],
          "scatter": [
           {
            "fillpattern": {
             "fillmode": "overlay",
             "size": 10,
             "solidity": 0.2
            },
            "type": "scatter"
           }
          ],
          "scatter3d": [
           {
            "line": {
             "colorbar": {
              "outlinewidth": 0,
              "ticks": ""
             }
            },
            "marker": {
             "colorbar": {
              "outlinewidth": 0,
              "ticks": ""
             }
            },
            "type": "scatter3d"
           }
          ],
          "scattercarpet": [
           {
            "marker": {
             "colorbar": {
              "outlinewidth": 0,
              "ticks": ""
             }
            },
            "type": "scattercarpet"
           }
          ],
          "scattergeo": [
           {
            "marker": {
             "colorbar": {
              "outlinewidth": 0,
              "ticks": ""
             }
            },
            "type": "scattergeo"
           }
          ],
          "scattergl": [
           {
            "marker": {
             "colorbar": {
              "outlinewidth": 0,
              "ticks": ""
             }
            },
            "type": "scattergl"
           }
          ],
          "scattermapbox": [
           {
            "marker": {
             "colorbar": {
              "outlinewidth": 0,
              "ticks": ""
             }
            },
            "type": "scattermapbox"
           }
          ],
          "scatterpolar": [
           {
            "marker": {
             "colorbar": {
              "outlinewidth": 0,
              "ticks": ""
             }
            },
            "type": "scatterpolar"
           }
          ],
          "scatterpolargl": [
           {
            "marker": {
             "colorbar": {
              "outlinewidth": 0,
              "ticks": ""
             }
            },
            "type": "scatterpolargl"
           }
          ],
          "scatterternary": [
           {
            "marker": {
             "colorbar": {
              "outlinewidth": 0,
              "ticks": ""
             }
            },
            "type": "scatterternary"
           }
          ],
          "surface": [
           {
            "colorbar": {
             "outlinewidth": 0,
             "ticks": ""
            },
            "colorscale": [
             [
              0,
              "#0d0887"
             ],
             [
              0.1111111111111111,
              "#46039f"
             ],
             [
              0.2222222222222222,
              "#7201a8"
             ],
             [
              0.3333333333333333,
              "#9c179e"
             ],
             [
              0.4444444444444444,
              "#bd3786"
             ],
             [
              0.5555555555555556,
              "#d8576b"
             ],
             [
              0.6666666666666666,
              "#ed7953"
             ],
             [
              0.7777777777777778,
              "#fb9f3a"
             ],
             [
              0.8888888888888888,
              "#fdca26"
             ],
             [
              1,
              "#f0f921"
             ]
            ],
            "type": "surface"
           }
          ],
          "table": [
           {
            "cells": {
             "fill": {
              "color": "#EBF0F8"
             },
             "line": {
              "color": "white"
             }
            },
            "header": {
             "fill": {
              "color": "#C8D4E3"
             },
             "line": {
              "color": "white"
             }
            },
            "type": "table"
           }
          ]
         },
         "layout": {
          "annotationdefaults": {
           "arrowcolor": "#2a3f5f",
           "arrowhead": 0,
           "arrowwidth": 1
          },
          "autotypenumbers": "strict",
          "coloraxis": {
           "colorbar": {
            "outlinewidth": 0,
            "ticks": ""
           }
          },
          "colorscale": {
           "diverging": [
            [
             0,
             "#8e0152"
            ],
            [
             0.1,
             "#c51b7d"
            ],
            [
             0.2,
             "#de77ae"
            ],
            [
             0.3,
             "#f1b6da"
            ],
            [
             0.4,
             "#fde0ef"
            ],
            [
             0.5,
             "#f7f7f7"
            ],
            [
             0.6,
             "#e6f5d0"
            ],
            [
             0.7,
             "#b8e186"
            ],
            [
             0.8,
             "#7fbc41"
            ],
            [
             0.9,
             "#4d9221"
            ],
            [
             1,
             "#276419"
            ]
           ],
           "sequential": [
            [
             0,
             "#0d0887"
            ],
            [
             0.1111111111111111,
             "#46039f"
            ],
            [
             0.2222222222222222,
             "#7201a8"
            ],
            [
             0.3333333333333333,
             "#9c179e"
            ],
            [
             0.4444444444444444,
             "#bd3786"
            ],
            [
             0.5555555555555556,
             "#d8576b"
            ],
            [
             0.6666666666666666,
             "#ed7953"
            ],
            [
             0.7777777777777778,
             "#fb9f3a"
            ],
            [
             0.8888888888888888,
             "#fdca26"
            ],
            [
             1,
             "#f0f921"
            ]
           ],
           "sequentialminus": [
            [
             0,
             "#0d0887"
            ],
            [
             0.1111111111111111,
             "#46039f"
            ],
            [
             0.2222222222222222,
             "#7201a8"
            ],
            [
             0.3333333333333333,
             "#9c179e"
            ],
            [
             0.4444444444444444,
             "#bd3786"
            ],
            [
             0.5555555555555556,
             "#d8576b"
            ],
            [
             0.6666666666666666,
             "#ed7953"
            ],
            [
             0.7777777777777778,
             "#fb9f3a"
            ],
            [
             0.8888888888888888,
             "#fdca26"
            ],
            [
             1,
             "#f0f921"
            ]
           ]
          },
          "colorway": [
           "#636efa",
           "#EF553B",
           "#00cc96",
           "#ab63fa",
           "#FFA15A",
           "#19d3f3",
           "#FF6692",
           "#B6E880",
           "#FF97FF",
           "#FECB52"
          ],
          "font": {
           "color": "#2a3f5f"
          },
          "geo": {
           "bgcolor": "white",
           "lakecolor": "white",
           "landcolor": "#E5ECF6",
           "showlakes": true,
           "showland": true,
           "subunitcolor": "white"
          },
          "hoverlabel": {
           "align": "left"
          },
          "hovermode": "closest",
          "mapbox": {
           "style": "light"
          },
          "paper_bgcolor": "white",
          "plot_bgcolor": "#E5ECF6",
          "polar": {
           "angularaxis": {
            "gridcolor": "white",
            "linecolor": "white",
            "ticks": ""
           },
           "bgcolor": "#E5ECF6",
           "radialaxis": {
            "gridcolor": "white",
            "linecolor": "white",
            "ticks": ""
           }
          },
          "scene": {
           "xaxis": {
            "backgroundcolor": "#E5ECF6",
            "gridcolor": "white",
            "gridwidth": 2,
            "linecolor": "white",
            "showbackground": true,
            "ticks": "",
            "zerolinecolor": "white"
           },
           "yaxis": {
            "backgroundcolor": "#E5ECF6",
            "gridcolor": "white",
            "gridwidth": 2,
            "linecolor": "white",
            "showbackground": true,
            "ticks": "",
            "zerolinecolor": "white"
           },
           "zaxis": {
            "backgroundcolor": "#E5ECF6",
            "gridcolor": "white",
            "gridwidth": 2,
            "linecolor": "white",
            "showbackground": true,
            "ticks": "",
            "zerolinecolor": "white"
           }
          },
          "shapedefaults": {
           "line": {
            "color": "#2a3f5f"
           }
          },
          "ternary": {
           "aaxis": {
            "gridcolor": "white",
            "linecolor": "white",
            "ticks": ""
           },
           "baxis": {
            "gridcolor": "white",
            "linecolor": "white",
            "ticks": ""
           },
           "bgcolor": "#E5ECF6",
           "caxis": {
            "gridcolor": "white",
            "linecolor": "white",
            "ticks": ""
           }
          },
          "title": {
           "x": 0.05
          },
          "xaxis": {
           "automargin": true,
           "gridcolor": "white",
           "linecolor": "white",
           "ticks": "",
           "title": {
            "standoff": 15
           },
           "zerolinecolor": "white",
           "zerolinewidth": 2
          },
          "yaxis": {
           "automargin": true,
           "gridcolor": "white",
           "linecolor": "white",
           "ticks": "",
           "title": {
            "standoff": 15
           },
           "zerolinecolor": "white",
           "zerolinewidth": 2
          }
         }
        },
        "title": {
         "text": "pareto fronts"
        },
        "xaxis": {
         "title": {
          "text": "total energy energy consumption"
         }
        },
        "yaxis": {
         "title": {
          "text": "avg downlink"
         }
        }
       }
      }
     },
     "metadata": {},
     "output_type": "display_data"
    },
    {
     "data": {
      "application/vnd.plotly.v1+json": {
       "config": {
        "plotlyServerURL": "https://plot.ly"
       },
       "data": [
        {
         "mode": "lines",
         "name": "powerconsumption_static3",
         "type": "scatter",
         "x": [
          0,
          1,
          2,
          3,
          4,
          5,
          6,
          7,
          8,
          9,
          10,
          11,
          12,
          13,
          14,
          15,
          16,
          17,
          18,
          19,
          20,
          21,
          22,
          23,
          24,
          25,
          26,
          27,
          28,
          29,
          30,
          31,
          32,
          33,
          34,
          35,
          36,
          37,
          38,
          39,
          40,
          41,
          42,
          43,
          44,
          45,
          46,
          47,
          48,
          49,
          50,
          51,
          52,
          53,
          54,
          55,
          56,
          57,
          58,
          59,
          60,
          61,
          62,
          63,
          64,
          65,
          66,
          67,
          68,
          69,
          70,
          71,
          72,
          73,
          74,
          75,
          76,
          77,
          78,
          79,
          80,
          81,
          82,
          83,
          84,
          85,
          86,
          87,
          88,
          89,
          90,
          91,
          92,
          93,
          94,
          95,
          96,
          97,
          98,
          99,
          100,
          101,
          102,
          103,
          104,
          105,
          106,
          107,
          108,
          109,
          110,
          111,
          112,
          113,
          114,
          115,
          116,
          117,
          118,
          119,
          120,
          121,
          122,
          123,
          124,
          125,
          126,
          127,
          128,
          129,
          130,
          131,
          132,
          133,
          134,
          135,
          136,
          137,
          138,
          139,
          140,
          141,
          142,
          143,
          144,
          145,
          146,
          147,
          148,
          149,
          150,
          151,
          152,
          153,
          154,
          155,
          156,
          157,
          158,
          159,
          160,
          161,
          162,
          163,
          164,
          165,
          166,
          167,
          168,
          169,
          170,
          171,
          172,
          173,
          174,
          175,
          176,
          177,
          178,
          179,
          180,
          181,
          182,
          183,
          184,
          185,
          186,
          187,
          188,
          189,
          190,
          191,
          192,
          193,
          194,
          195,
          196,
          197,
          198,
          199,
          200,
          201,
          202,
          203,
          204,
          205,
          206,
          207,
          208,
          209,
          210,
          211,
          212,
          213,
          214,
          215,
          216,
          217,
          218,
          219,
          220,
          221,
          222,
          223,
          224,
          225,
          226,
          227,
          228,
          229,
          230,
          231,
          232,
          233,
          234,
          235,
          236,
          237,
          238,
          239,
          240,
          241,
          242,
          243,
          244,
          245,
          246,
          247,
          248,
          249,
          250,
          251,
          252,
          253,
          254,
          255,
          256,
          257,
          258,
          259,
          260,
          261,
          262,
          263,
          264,
          265,
          266,
          267,
          268,
          269,
          270,
          271,
          272,
          273,
          274,
          275,
          276,
          277,
          278,
          279,
          280,
          281,
          282,
          283,
          284,
          285,
          286,
          287,
          288,
          289,
          290,
          291,
          292,
          293,
          294,
          295,
          296,
          297,
          298,
          299,
          300,
          301,
          302,
          303,
          304,
          305,
          306,
          307,
          308,
          309,
          310,
          311,
          312,
          313,
          314,
          315,
          316,
          317,
          318,
          319,
          320,
          321,
          322,
          323,
          324,
          325,
          326,
          327,
          328,
          329,
          330,
          331,
          332,
          333,
          334,
          335,
          336,
          337,
          338,
          339,
          340,
          341,
          342,
          343,
          344,
          345,
          346,
          347,
          348,
          349,
          350,
          351,
          352,
          353,
          354,
          355,
          356,
          357,
          358,
          359,
          360,
          361,
          362,
          363,
          364,
          365,
          366,
          367,
          368,
          369,
          370,
          371,
          372,
          373,
          374,
          375,
          376,
          377,
          378,
          379,
          380,
          381,
          382,
          383,
          384,
          385,
          386,
          387,
          388,
          389,
          390,
          391,
          392,
          393,
          394,
          395,
          396,
          397,
          398,
          399,
          400,
          401,
          402,
          403,
          404,
          405,
          406,
          407,
          408,
          409,
          410,
          411,
          412,
          413,
          414,
          415,
          416,
          417,
          418,
          419,
          420,
          421,
          422,
          423,
          424,
          425,
          426,
          427,
          428,
          429,
          430,
          431,
          432,
          433,
          434,
          435,
          436,
          437,
          438,
          439,
          440,
          441,
          442,
          443,
          444,
          445,
          446,
          447,
          448,
          449,
          450,
          451,
          452,
          453,
          454,
          455,
          456,
          457,
          458,
          459,
          460,
          461,
          462,
          463,
          464,
          465,
          466,
          467,
          468,
          469,
          470,
          471,
          472,
          473,
          474,
          475,
          476,
          477,
          478,
          479,
          480,
          481,
          482,
          483,
          484,
          485,
          486,
          487,
          488,
          489,
          490,
          491,
          492,
          493,
          494,
          495,
          496,
          497,
          498,
          499,
          500,
          501,
          502,
          503,
          504,
          505,
          506,
          507,
          508,
          509,
          510,
          511,
          512,
          513,
          514,
          515,
          516,
          517,
          518,
          519,
          520,
          521,
          522,
          523,
          524,
          525,
          526,
          527,
          528,
          529,
          530,
          531,
          532,
          533,
          534,
          535,
          536,
          537,
          538,
          539,
          540,
          541,
          542,
          543,
          544,
          545,
          546,
          547,
          548,
          549,
          550,
          551,
          552,
          553,
          554,
          555,
          556,
          557,
          558,
          559,
          560,
          561,
          562,
          563,
          564,
          565,
          566,
          567,
          568,
          569,
          570,
          571,
          572,
          573,
          574,
          575,
          576,
          577,
          578,
          579,
          580,
          581,
          582,
          583,
          584,
          585,
          586,
          587,
          588,
          589,
          590,
          591,
          592,
          593,
          594,
          595,
          596,
          597,
          598,
          599,
          600,
          601,
          602,
          603,
          604,
          605,
          606,
          607,
          608,
          609,
          610,
          611,
          612,
          613,
          614,
          615,
          616,
          617,
          618,
          619,
          620,
          621,
          622,
          623,
          624,
          625,
          626,
          627,
          628,
          629,
          630,
          631,
          632,
          633,
          634,
          635,
          636,
          637,
          638,
          639,
          640,
          641,
          642,
          643,
          644,
          645,
          646,
          647,
          648,
          649,
          650,
          651,
          652,
          653,
          654,
          655,
          656,
          657,
          658,
          659,
          660,
          661,
          662,
          663,
          664,
          665,
          666,
          667,
          668,
          669,
          670,
          671,
          672,
          673,
          674,
          675,
          676,
          677,
          678,
          679,
          680,
          681,
          682,
          683,
          684,
          685,
          686,
          687,
          688,
          689,
          690,
          691,
          692,
          693,
          694,
          695,
          696,
          697,
          698,
          699,
          700,
          701,
          702,
          703,
          704,
          705,
          706,
          707,
          708,
          709,
          710,
          711,
          712,
          713,
          714,
          715,
          716,
          717,
          718,
          719,
          720,
          721,
          722,
          723,
          724,
          725,
          726,
          727,
          728,
          729,
          730,
          731,
          732,
          733,
          734,
          735,
          736,
          737,
          738,
          739,
          740,
          741,
          742,
          743,
          744,
          745,
          746,
          747,
          748,
          749,
          750,
          751,
          752,
          753,
          754,
          755,
          756,
          757,
          758,
          759,
          760,
          761,
          762,
          763,
          764,
          765,
          766,
          767,
          768,
          769,
          770,
          771,
          772,
          773,
          774,
          775,
          776,
          777,
          778,
          779,
          780,
          781,
          782,
          783,
          784,
          785,
          786,
          787,
          788,
          789,
          790,
          791,
          792,
          793,
          794,
          795,
          796,
          797,
          798,
          799,
          800,
          801,
          802,
          803,
          804,
          805,
          806,
          807,
          808,
          809,
          810,
          811,
          812,
          813,
          814,
          815,
          816,
          817,
          818,
          819,
          820,
          821,
          822,
          823,
          824,
          825,
          826,
          827,
          828,
          829,
          830,
          831,
          832,
          833,
          834,
          835,
          836,
          837,
          838,
          839,
          840,
          841,
          842,
          843,
          844,
          845,
          846,
          847,
          848,
          849,
          850,
          851,
          852,
          853,
          854,
          855,
          856,
          857,
          858,
          859,
          860,
          861,
          862,
          863,
          864,
          865,
          866,
          867,
          868,
          869,
          870,
          871,
          872,
          873,
          874,
          875,
          876,
          877,
          878,
          879,
          880,
          881,
          882,
          883,
          884,
          885,
          886,
          887,
          888,
          889,
          890,
          891,
          892,
          893,
          894,
          895,
          896,
          897,
          898,
          899,
          900,
          901,
          902,
          903,
          904,
          905,
          906,
          907,
          908,
          909,
          910,
          911,
          912,
          913,
          914,
          915,
          916,
          917,
          918,
          919,
          920,
          921,
          922,
          923,
          924,
          925,
          926,
          927,
          928,
          929,
          930,
          931,
          932,
          933,
          934,
          935,
          936,
          937,
          938,
          939,
          940,
          941,
          942,
          943,
          944,
          945,
          946,
          947,
          948,
          949,
          950,
          951,
          952,
          953,
          954,
          955,
          956,
          957,
          958,
          959,
          960,
          961,
          962,
          963,
          964,
          965,
          966,
          967,
          968,
          969,
          970,
          971,
          972,
          973,
          974,
          975,
          976,
          977,
          978,
          979,
          980,
          981,
          982,
          983,
          984,
          985,
          986,
          987,
          988,
          989,
          990,
          991,
          992,
          993,
          994,
          995,
          996,
          997,
          998,
          999,
          1000,
          1001,
          1002,
          1003,
          1004,
          1005,
          1006,
          1007,
          1008,
          1009,
          1010,
          1011,
          1012,
          1013,
          1014,
          1015,
          1016,
          1017,
          1018,
          1019,
          1020,
          1021,
          1022,
          1023,
          1024,
          1025,
          1026,
          1027,
          1028,
          1029,
          1030,
          1031,
          1032,
          1033,
          1034,
          1035,
          1036,
          1037,
          1038,
          1039,
          1040,
          1041,
          1042,
          1043,
          1044,
          1045,
          1046,
          1047,
          1048,
          1049,
          1050,
          1051,
          1052,
          1053,
          1054,
          1055,
          1056,
          1057,
          1058,
          1059,
          1060,
          1061,
          1062,
          1063,
          1064,
          1065,
          1066,
          1067,
          1068,
          1069,
          1070,
          1071,
          1072,
          1073,
          1074,
          1075,
          1076,
          1077,
          1078,
          1079,
          1080,
          1081,
          1082,
          1083,
          1084,
          1085,
          1086,
          1087,
          1088,
          1089,
          1090,
          1091,
          1092,
          1093,
          1094,
          1095,
          1096,
          1097,
          1098,
          1099,
          1100,
          1101,
          1102,
          1103,
          1104,
          1105,
          1106,
          1107,
          1108,
          1109,
          1110,
          1111,
          1112,
          1113,
          1114,
          1115,
          1116,
          1117,
          1118,
          1119,
          1120,
          1121,
          1122,
          1123,
          1124,
          1125,
          1126,
          1127,
          1128,
          1129,
          1130,
          1131,
          1132,
          1133,
          1134,
          1135,
          1136,
          1137,
          1138,
          1139,
          1140,
          1141,
          1142,
          1143,
          1144,
          1145,
          1146,
          1147,
          1148,
          1149,
          1150,
          1151,
          1152,
          1153,
          1154,
          1155,
          1156,
          1157,
          1158,
          1159,
          1160,
          1161,
          1162,
          1163,
          1164,
          1165,
          1166,
          1167,
          1168,
          1169,
          1170,
          1171,
          1172,
          1173,
          1174,
          1175,
          1176,
          1177,
          1178,
          1179,
          1180,
          1181,
          1182,
          1183,
          1184,
          1185,
          1186,
          1187,
          1188,
          1189,
          1190,
          1191,
          1192,
          1193,
          1194,
          1195,
          1196,
          1197,
          1198,
          1199
         ],
         "y": [
          0.25306897985634924,
          0.2577442526218781,
          0.2603155095332571,
          0.2691247541252241,
          0.274739189221518,
          0.2755942827754563,
          0.2886171216820877,
          0.28953524024337557,
          0.2913471681501884,
          0.2961645610332195,
          0.30131100115103127,
          0.3013110011510313,
          0.30300774949865616,
          0.3249262615553984,
          0.3259782505604588,
          0.3288509337876607,
          0.33093284537080436,
          0.332824523079924,
          0.332824523079924,
          0.3347361547237724,
          0.338081979564942,
          0.33843570860222516,
          0.35361725025254487,
          0.354216185425797,
          0.35657266227322604,
          0.36013664453553657,
          0.36013664453553657,
          0.36202799963884685,
          0.3644123916537212,
          0.3644123916537212,
          0.36751796573164774,
          0.3692228322987844,
          0.3708938887680734,
          0.3743590981438564,
          0.37514236836601655,
          0.3766111998911152,
          0.37765499254834994,
          0.3777931648619379,
          0.3788933582731979,
          0.38274965296356794,
          0.38327305671944467,
          0.38978663858414925,
          0.3902060276126894,
          0.3915756983372438,
          0.3933936637185142,
          0.39341424710633177,
          0.39448888123065107,
          0.39863992298087536,
          0.39968005910890414,
          0.40993141719193127,
          0.41318056901997363,
          0.41330908932203386,
          0.41518533535844826,
          0.41944832339826,
          0.4202438322767038,
          0.42593244039853584,
          0.42593244039853584,
          0.4259413043641598,
          0.4310696189876972,
          0.43252455073795115,
          0.43639298995789144,
          0.4413902575533655,
          0.44221509847160556,
          0.44343233299379936,
          0.4458201183653781,
          0.44859537120461823,
          0.4486304800234103,
          0.45058985735926216,
          0.45596013913744027,
          0.4580663300982485,
          0.4599415067412701,
          0.4606582259603659,
          0.46148409750626307,
          0.46187652372245,
          0.4752741324241522,
          0.4755536728204716,
          0.47635176874485813,
          0.476875717042475,
          0.47789914199613576,
          0.47931461843083645,
          0.48597553012743316,
          0.4894984080811582,
          0.48952075812998735,
          0.4896799690481487,
          0.4906756486408741,
          0.49067564864087415,
          0.49480667861664024,
          0.5017434024352578,
          0.5034279888435693,
          0.5046759874191495,
          0.5088158255329079,
          0.5106962370618982,
          0.5189222338055328,
          0.5194297276751497,
          0.5195811086854205,
          0.5202605734840104,
          0.5233965392468609,
          0.5237313878081091,
          0.5264287883745458,
          0.5264287883745458,
          0.5281979457174315,
          0.528912448588631,
          0.5298997230997778,
          0.5303723056549619,
          0.5303819101792551,
          0.5317745073147242,
          0.5360715387314445,
          0.5362433688397925,
          0.5377478087456493,
          0.5408521274908663,
          0.5413717129857627,
          0.5425122159788812,
          0.5425122159788812,
          0.5446513600750578,
          0.5454004382693923,
          0.5458037417862656,
          0.547500019521326,
          0.547500019521326,
          0.5492948894699858,
          0.5502222737650009,
          0.5550710679912513,
          0.5565877640950044,
          0.5577767605732017,
          0.5588869613960528,
          0.5609251181924004,
          0.5622791848463846,
          0.5658251194298194,
          0.5689474752358287,
          0.5689798179438973,
          0.5692247015341959,
          0.5695045642269229,
          0.57064274259772,
          0.575741617262472,
          0.576578446422827,
          0.5766747885917682,
          0.5783591011437772,
          0.5784516132628809,
          0.5800094009373401,
          0.58002688859402,
          0.5846856452578658,
          0.585147550248838,
          0.5875132386092436,
          0.5875132386092436,
          0.5898033344880756,
          0.5925280437260754,
          0.5931747245299099,
          0.5931747245299099,
          0.593832432934803,
          0.5951570807425093,
          0.6025818010660896,
          0.6045307795800814,
          0.6058948013221749,
          0.6075628668073454,
          0.6089641545680244,
          0.61033610780497,
          0.6118640910021679,
          0.614357443080598,
          0.614357443080598,
          0.6146471799547873,
          0.6163539746176427,
          0.6179053405200685,
          0.619086689568362,
          0.6208195487008568,
          0.6232486946142556,
          0.6270935950419294,
          0.6273975685925489,
          0.6277165319342543,
          0.6285614213262982,
          0.6316320175479089,
          0.6316320175479089,
          0.6316320175479089,
          0.6343629081041433,
          0.6345819091573272,
          0.634864807467966,
          0.6356865862575577,
          0.6371291760728335,
          0.6376034675147166,
          0.6384106541183545,
          0.6396419199096436,
          0.6407326414054729,
          0.6409560974480137,
          0.642000678652323,
          0.6425761422595093,
          0.6428932203554123,
          0.6443550580147217,
          0.6445157137734318,
          0.6449386654834485,
          0.6452877054969216,
          0.645419924782368,
          0.6464941008419929,
          0.6480805660087614,
          0.6482815221109838,
          0.6515597348258059,
          0.6521717362484486,
          0.6521717362484486,
          0.6526167911284829,
          0.6531768448931657,
          0.6534426713834361,
          0.6555803054301139,
          0.6557686468191825,
          0.6567713977289927,
          0.657156254683582,
          0.6595580306918046,
          0.661586960424713,
          0.6621506604448343,
          0.6643208968105075,
          0.6650410070961331,
          0.6651730386869786,
          0.6656787724056611,
          0.6656787724056611,
          0.666855678171511,
          0.6676405672734359,
          0.667893231686722,
          0.6687114633340109,
          0.6690201098338197,
          0.6698011545473408,
          0.6725730394371859,
          0.6725730394371859,
          0.6726949744058817,
          0.6728197026135471,
          0.6738473807831183,
          0.6749214876055212,
          0.6750326126071073,
          0.676909807718607,
          0.6770161538489233,
          0.6772272809546884,
          0.6776750482340619,
          0.6776750482340619,
          0.6782908744528979,
          0.6802785870594689,
          0.6807673607328638,
          0.6807673607328637,
          0.6813253109943399,
          0.683172973098009,
          0.6831729730980091,
          0.6834552315579157,
          0.6834552315579157,
          0.6834552315579157,
          0.6839187119282351,
          0.6839488096812227,
          0.6841921810279701,
          0.6867684058124532,
          0.6870321746954521,
          0.6873253269699928,
          0.6874311159032374,
          0.6880514834875429,
          0.6880514834875429,
          0.6891795639665097,
          0.6896106675742428,
          0.6899960084563317,
          0.690816226001497,
          0.6909349262262947,
          0.6917091319769688,
          0.6928364842415549,
          0.6946317980567893,
          0.6952212614576527,
          0.6966316330964535,
          0.698385108618518,
          0.6987000974886861,
          0.6991196008195251,
          0.699208091726742,
          0.6997257812065014,
          0.6998471336547074,
          0.7003312710549392,
          0.7017952288765568,
          0.7018188560455698,
          0.7022981039250034,
          0.7079373036804383,
          0.708157816201948,
          0.7082855573178156,
          0.7114470880195831,
          0.7120218371983574,
          0.7123306023512689,
          0.7132310341823124,
          0.7135209901754883,
          0.7135209901754883,
          0.7135668847966382,
          0.7139440797432889,
          0.7144623144695225,
          0.7148854387706024,
          0.7149967337032725,
          0.7150200667439396,
          0.7157624327007633,
          0.71742492879664,
          0.7175169165369254,
          0.7176430869669673,
          0.7176430869669673,
          0.7176430869669673,
          0.717730589013616,
          0.7178255265720768,
          0.7179571200641688,
          0.7181110041616421,
          0.7182283022572664,
          0.7185536695681608,
          0.7187870944535681,
          0.7187870944535681,
          0.7190170958002264,
          0.7190364066253456,
          0.7193354558777372,
          0.7197522015537352,
          0.7198886042328212,
          0.7200328469569286,
          0.7210868312363237,
          0.7214684316289504,
          0.7215503443208169,
          0.7219079310694946,
          0.7223979813060187,
          0.7224914955307441,
          0.7224914955307441,
          0.7226432121298435,
          0.7226432121298435,
          0.7226432121298435,
          0.7227541013223644,
          0.7232040906498591,
          0.7237332030477296,
          0.7257641282580832,
          0.7261229198352627,
          0.726370495393617,
          0.7265964546948784,
          0.7268378989096433,
          0.7269798418034253,
          0.7270566341074095,
          0.7270566341074095,
          0.7270566341074095,
          0.727163963980664,
          0.727163963980664,
          0.7280334308263013,
          0.7284064878727515,
          0.7286542425027608,
          0.7286542425027608,
          0.7287832586720656,
          0.7289723502541586,
          0.7290903863283354,
          0.7290903863283354,
          0.7294317929061792,
          0.7296823731243913,
          0.7299435339992861,
          0.7301049112446172,
          0.7303111833026692,
          0.7303231023736514,
          0.7304234544969219,
          0.73099225636524,
          0.7310027575756215,
          0.7325884397342661,
          0.7328553703031588,
          0.7328553703031588,
          0.7329138794553933,
          0.733502598959486,
          0.733502598959486,
          0.733502598959486,
          0.7336087983581613,
          0.7337397962087765,
          0.7338948547081012,
          0.7342011269023067,
          0.7344656153522527,
          0.7344817749473153,
          0.7344925752001218,
          0.7344925752001218,
          0.7345342138667149,
          0.7359664958155545,
          0.736138937372705,
          0.736567858017866,
          0.736567858017866,
          0.737000945015651,
          0.737000945015651,
          0.7373046576895614,
          0.7373350346728524,
          0.7376380990030921,
          0.7378707887766058,
          0.7383295696651296,
          0.7396517978575649,
          0.739651797857565,
          0.7397680910490808,
          0.7400982561009806,
          0.7405836977386998,
          0.7405836977386998,
          0.7407137839325922,
          0.7407376781004229,
          0.7408787978726974,
          0.7412857378169555,
          0.7414239881435498,
          0.7417788510360884,
          0.7419635775690889,
          0.742592584907755,
          0.7426497795276785,
          0.7426497795276785,
          0.7427152406480495,
          0.7427926174129733,
          0.7427926174129733,
          0.7431861696481648,
          0.7433796391120636,
          0.7433796391120636,
          0.7452605923361812,
          0.7452892236367125,
          0.7452892236367125,
          0.7452986127106246,
          0.7459598991359208,
          0.7459598991359208,
          0.7462969024820204,
          0.7468471768301956,
          0.747413046896983,
          0.7475565807643496,
          0.74793992762333,
          0.748482942248955,
          0.7485477158198693,
          0.7487822716910568,
          0.7489448141389329,
          0.7489756534747567,
          0.7490505384454422,
          0.7491469844001826,
          0.7494088036926158,
          0.7495009752894397,
          0.7495009752894397,
          0.7497317597375567,
          0.7497369883210931,
          0.7501106293813351,
          0.7501547186520038,
          0.7501846369302969,
          0.7502784768668248,
          0.7519054886875153,
          0.751938429297387,
          0.751938429297387,
          0.7519983318866594,
          0.7521478058392701,
          0.7521569711960623,
          0.7525163208915364,
          0.7526452905496687,
          0.7532778038776107,
          0.7536174344836419,
          0.7545639789611487,
          0.754653423369928,
          0.7555832341222136,
          0.7577454934625357,
          0.7578073471357247,
          0.7578073471357247,
          0.7580561796153328,
          0.7580967978560301,
          0.7580967978560301,
          0.7582978252794903,
          0.7582978252794903,
          0.7583258642277271,
          0.7584598952789201,
          0.7584794971654345,
          0.7585152022157565,
          0.7585581350193932,
          0.7587327326654788,
          0.7588717910468763,
          0.7589280456630471,
          0.7589280456630471,
          0.7589280456630471,
          0.7591201366255781,
          0.7591201366255781,
          0.7591922699841502,
          0.7591922699841502,
          0.7594223083981795,
          0.7596875379643077,
          0.7596875379643077,
          0.7596875379643077,
          0.7599982826823044,
          0.7602905083164351,
          0.7605842252916548,
          0.7607758518750402,
          0.7608240334879548,
          0.761086517092069,
          0.761086517092069,
          0.7611691366403208,
          0.7612113057461288,
          0.7613539952754752,
          0.7615839480167041,
          0.7615839480167041,
          0.7615982869996832,
          0.7617855109797714,
          0.7618414942158072,
          0.7618414942158072,
          0.7619582684531773,
          0.762230322555606,
          0.762409467040875,
          0.762409467040875,
          0.7625556904018643,
          0.7627257419670974,
          0.7627257419670974,
          0.7627257419670974,
          0.7628074595825505,
          0.7628764517045459,
          0.7633923586437241,
          0.7634175643365213,
          0.7634769614222816,
          0.7635174605995154,
          0.7639666413144239,
          0.7642446317789262,
          0.7642446317789262,
          0.7646499619529578,
          0.7648130497708777,
          0.7648835504127552,
          0.7648835504127552,
          0.7653597415314554,
          0.7655407011598566,
          0.765891671603132,
          0.7666927061210932,
          0.7666927061210932,
          0.7666927061210932,
          0.7680820755036823,
          0.7680853087862416,
          0.7681039460342078,
          0.7681039460342078,
          0.7681039460342078,
          0.7684470724075023,
          0.7684770322897716,
          0.7686279123148609,
          0.7686279123148609,
          0.7686279123148609,
          0.768781547343977,
          0.7689106316240832,
          0.7689106316240832,
          0.7689176122392698,
          0.7691193307170703,
          0.7693058631217105,
          0.7693058631217105,
          0.7695342522994519,
          0.7696114561904024,
          0.769693799169664,
          0.7701995340068655,
          0.7705534879206657,
          0.7708759217752355,
          0.7708759217752355,
          0.7708967031121112,
          0.7710965776499799,
          0.7711583100744921,
          0.7711583100744921,
          0.7712593073476521,
          0.7712593073476521,
          0.7715557047014511,
          0.7716058882957112,
          0.7716058882957112,
          0.7716146091497104,
          0.7716146091497104,
          0.7716931385878946,
          0.7716931385878946,
          0.7716931385878946,
          0.7716931385878946,
          0.771967196707486,
          0.7720081226269785,
          0.7722181081956477,
          0.7723272752163014,
          0.7724813670211143,
          0.7724930711482895,
          0.7724930711482895,
          0.7724930711482895,
          0.7726169751823587,
          0.7726260629679479,
          0.7726979373412756,
          0.7728035731629163,
          0.7729633675963424,
          0.7729810882751497,
          0.7729810882751497,
          0.7729810882751497,
          0.7729810882751497,
          0.7730844968598114,
          0.7730844968598114,
          0.773197329211087,
          0.773271166503709,
          0.773271166503709,
          0.7733952401436356,
          0.7733952401436356,
          0.7733952401436356,
          0.7733952401436356,
          0.7734098205317116,
          0.773532368349639,
          0.773532368349639,
          0.773532368349639,
          0.773532368349639,
          0.7737988241999788,
          0.7743823869066069,
          0.7744270204297166,
          0.7746284992211228,
          0.7746284992211228,
          0.7746694945759143,
          0.7748747211013133,
          0.7749889981220434,
          0.7750768926946355,
          0.7750768926946355,
          0.7753203407935516,
          0.7753203407935516,
          0.775533954993043,
          0.7756136590254086,
          0.7756648801075593,
          0.7756831085248835,
          0.7757540686709791,
          0.7761056157271115,
          0.7764345647186769,
          0.7766153841907766,
          0.7767190428530761,
          0.7767977340145341,
          0.7771509473000028,
          0.7771627756416194,
          0.77749050067542,
          0.77749050067542,
          0.7775019276916187,
          0.7775384492906364,
          0.7776669998935295,
          0.7778725279732628,
          0.7778725279732628,
          0.7779223404732257,
          0.7783024237696264,
          0.7783333802667297,
          0.7783629715712275,
          0.7783629715712275,
          0.7784661051614624,
          0.7785026204556817,
          0.7785026204556817,
          0.7785086511801115,
          0.7785382108426951,
          0.778569979916788,
          0.778569979916788,
          0.778569979916788,
          0.778569979916788,
          0.778569979916788,
          0.7787725049636972,
          0.7788024319775654,
          0.7790174734240866,
          0.7791160568110287,
          0.7791160568110287,
          0.7791160568110287,
          0.7791160568110287,
          0.7792547644028578,
          0.7792895982888473,
          0.7792895982888473,
          0.7792895982888473,
          0.7793193071175358,
          0.779589085998477,
          0.7797444323577937,
          0.7799675754479255,
          0.7800378151091357,
          0.7804282883857316,
          0.7805534333631846,
          0.7805534333631846,
          0.7805534333631846,
          0.7806283185055225,
          0.7806283185055225,
          0.7807910056664397,
          0.7807910056664397,
          0.7810214352923909,
          0.7810214352923909,
          0.7810608264808392,
          0.7810608264808392,
          0.7811664690624909,
          0.7815338627776822,
          0.7816182326330344,
          0.7816182326330344,
          0.7816182326330344,
          0.7855350042222159,
          0.7856826786205814,
          0.7856826786205814,
          0.7857703271988775,
          0.7936636806498062,
          0.7936799969789824,
          0.7936799969789824,
          0.7936799969789824,
          0.7938017974147756,
          0.7938860459527232,
          0.7940865960234699,
          0.7940865960234699,
          0.7940865960234699,
          0.79525826970225,
          0.79525826970225,
          0.79525826970225,
          0.7952645305242233,
          0.7955734592442697,
          0.7955734592442697,
          0.8078171897119631,
          0.8078171897119631,
          0.8078171897119631,
          0.807890605662463,
          0.8078977678989029,
          0.8079579760517263,
          0.8079579760517263,
          0.808931603461247,
          0.808931603461247,
          0.8089487958458388,
          0.8089986361234394,
          0.8090049309924994,
          0.8090211187114158,
          0.8090211187114158,
          0.8091036278384958,
          0.8091393478992168,
          0.8092787221816928,
          0.8092787221816928,
          0.8093930640516853,
          0.8094087848885984,
          0.8094103317373337,
          0.8094501650261182,
          0.8184175563257415,
          0.8184175563257415,
          0.8204854910880764,
          0.8205316422294725,
          0.8205316422294725,
          0.8205316422294725,
          0.820536561035155,
          0.8205755542114105,
          0.8206979860977749,
          0.8256317340627249,
          0.8270316532507495,
          0.8280249214585923,
          0.8291242220257765,
          0.8313907269099581,
          0.8330436794668817,
          0.8330436794668817,
          0.8330905038191267,
          0.8330905038191267,
          0.8341583888172545,
          0.8341583888172545,
          0.8403475983426363,
          0.8440243512242692,
          0.8442220535910046,
          0.8466170531234589,
          0.8504777295709671,
          0.8532972228275031,
          0.8539215409563115,
          0.8539215409563115,
          0.8551465862875395,
          0.860417192291152,
          0.8604171922911521,
          0.8604171922911521,
          0.8604171922911521,
          0.8615874428422925,
          0.8623408249653126,
          0.8627924544813603,
          0.8642512614484538,
          0.8654439775507111,
          0.8654806870626826,
          0.8663754242019089,
          0.866524681410612,
          0.8669959905756989,
          0.868161144507809,
          0.8716732330556902,
          0.8726875943554918,
          0.8727155781278707,
          0.8732837546087046,
          0.8743818807442453,
          0.878480436129888,
          0.8786781301668681,
          0.8786781301668681,
          0.8792244295566469,
          0.8801201153832807,
          0.883556504055057,
          0.8855858345585732,
          0.8856682705620309,
          0.8859760410776507,
          0.8859760410776507,
          0.8905128572062239,
          0.8906031992054476,
          0.891180437163863,
          0.9004860791013378,
          0.9008818047154779,
          0.9015384904241314,
          0.9016784317947016,
          0.901948294508026,
          0.9020178294484679,
          0.9053449481806571,
          0.9055549318703967,
          0.9061558816548583,
          0.9062747648323323,
          0.9062747648323323,
          0.9062747648323323,
          0.9063209717159326,
          0.9095033035995757,
          0.9102973378715772,
          0.9107186395708524,
          0.9107186395708524,
          0.9107401165554556,
          0.9108919230064257,
          0.9108919230064257,
          0.9115337809536657,
          0.9115337809536657,
          0.9116751383046923,
          0.9117298965060481,
          0.9118084197231189,
          0.9123629081247824,
          0.9125251289620013,
          0.9137342807716856,
          0.9137342807716856,
          0.9137342807716856,
          0.9143286763679367,
          0.9144284692362998,
          0.9146266155667935,
          0.9156538409008255,
          0.9176483117496043,
          0.9178723435311411,
          0.917903056571855,
          0.91833506721317,
          0.9188128380806659,
          0.9188423443768934,
          0.9189062786292433,
          0.9189062786292433,
          0.918992766897494,
          0.919523937925293,
          0.919523937925293,
          0.9195378381139675,
          0.920022016221479,
          0.920022016221479,
          0.9200341717897652,
          0.920372015161487,
          0.9207620456836462,
          0.9208587264041854,
          0.9210512581954369,
          0.9216975054589929,
          0.9217373387477773,
          0.9218431298210965,
          0.9219524054307441,
          0.9221442769756268,
          0.9260259553892837,
          0.9264463793915032,
          0.9264463793915032,
          0.9264463793915032,
          0.9264463793915032,
          0.9264463793915032,
          0.9264463793915032,
          0.9264463793915032,
          0.9265652187377773,
          0.9281985097514264,
          0.9283874054349603,
          0.9283874054349603,
          0.9283874054349603,
          0.9292754423526567,
          0.9293110344863637,
          0.9300218227581708,
          0.9302295239220696,
          0.9302295239220696,
          0.9302295239220696,
          0.9305794988695247,
          0.930749751775822,
          0.9308014814380504,
          0.9308014814380503,
          0.9308014814380503,
          0.9322006065505759,
          0.9323724077405707,
          0.9323724077405707,
          0.9324439330951314,
          0.9326357484982402,
          0.9328008221194564,
          0.9328008221194564,
          0.9328008221194564,
          0.9334795886211434,
          0.9334795886211434,
          0.9342004389751313,
          0.9343682271925013,
          0.9347206870568019,
          0.9347699886823058,
          0.9350146349459156,
          0.9379917835315529,
          0.938108257985635,
          0.9401850079667073,
          0.9402564660025307,
          0.9402564660025307,
          0.9402564660025307,
          0.9402799982799336,
          0.9403881982645945,
          0.9404740174623647,
          0.9410454603817705,
          0.9410979097522728,
          0.9412989758834964,
          0.9413029555566397,
          0.9420639209880508,
          0.9420639209880508,
          0.9424294208075767,
          0.9425957185956981,
          0.9427675639586013,
          0.9428243944792472,
          0.9430266948649746,
          0.9430266948649746,
          0.9430393438420641,
          0.9431611135999487,
          0.9432737932475541,
          0.9437357359502456,
          0.9437357359502456,
          0.944023779931354,
          0.9441626096822633,
          0.9441626096822633,
          0.9442705699183516,
          0.9443609382050295,
          0.9443609382050298,
          0.9444938036177466,
          0.9447106417996005,
          0.9447106417996005,
          0.9449227401472302,
          0.9449556447277632,
          0.9449556447277632,
          0.9449556447277632,
          0.9453819793121703,
          0.9453872994940777,
          0.945704304515492,
          0.9457043045154923,
          0.9457177584226024,
          0.9460221589124196,
          0.9471488497105591,
          0.9473155373691597,
          0.947860874459115,
          0.9478668138258963,
          0.948087806814699,
          0.9484275238991495,
          0.948629702445831,
          0.9488729568595342,
          0.9489498897038071,
          0.9504700123949155,
          0.9504700123949155,
          0.9504747750473677,
          0.950524273778862,
          0.9507025293456259,
          0.9507025293456259,
          0.9507025293456259,
          0.9508019311588203,
          0.9508019311588203,
          0.9508019311588203,
          0.9508983944658034,
          0.9509388426033214,
          0.9509585580661213,
          0.9510349198592203,
          0.951271569398773,
          0.9517582969695735,
          0.9519772833726181,
          0.9520839590167933,
          0.9523694559460139,
          0.9524193372490164,
          0.9524193372490164,
          0.9524193372490164,
          0.9526482797782823,
          0.9546829840222932,
          0.9546829840222932,
          0.9546870069843305,
          0.9548288996307421,
          0.9548288996307421,
          0.9548288996307421,
          0.9555418210894644,
          0.9555418210894644,
          0.9558444374541861,
          0.9559133073745723,
          0.9562120525241897,
          0.956280932314443,
          0.9565512385201976,
          0.9566696986080293,
          0.9567741732208843,
          0.9567741732208843,
          0.956791938152215,
          0.9570293701530632,
          0.957057097936331,
          0.9572451500841861,
          0.9573241319628762,
          0.9573241319628762,
          0.9575901748344982,
          0.9577550296519026,
          0.9578429623893496,
          0.9578429623893496,
          0.95809653889884,
          0.958441195260519,
          0.9594513723265665,
          0.9596299051544288,
          0.9596299051544288,
          0.9607795958003397,
          0.9607795958003397,
          0.9607795958003397,
          0.9607795958003398,
          0.9607795958003398,
          0.9613175218043064,
          0.961439303186415,
          0.9617272481116805,
          0.9617285813523884,
          0.9617285813523884,
          0.9620195242986753,
          0.9620972926142133,
          0.9621908433402325,
          0.9621908433402325,
          0.9621908433402325,
          0.9622592689659448,
          0.9623158588652597,
          0.9623158588652597,
          0.9623158588652597,
          0.9623442367522662,
          0.9624826020850721,
          0.9624826020850721,
          0.9624826020850721,
          0.9624826020850721,
          0.9624826020850721,
          0.9624826020850721,
          0.9632105269596678,
          0.9632105269596678,
          0.9632105269596678,
          0.9633269011896621,
          0.9633269011896621,
          0.9670937275724268,
          0.9670937275724268,
          0.9670937275724268,
          0.9670937275724268,
          0.9670937275724268,
          0.9670937275724268,
          0.9670937275724268,
          0.9672077318057144,
          0.9672077318057144,
          0.9672077318057144,
          0.967246762741216,
          0.9672784116684611,
          0.9681027283929939,
          0.9683548382600631,
          0.9683805702956917,
          0.9683805702956917,
          0.9684235435767264,
          0.9684512458732246,
          0.9684512458732246,
          0.9684512458732246,
          0.9684512458732246,
          0.9684512458732246,
          0.9685986637263481,
          0.9685986637263481,
          0.9686051387790178,
          0.9686304053062392,
          0.9687303919960288,
          0.9690943586761644,
          0.9694911530678048,
          0.9695201451428836,
          0.9695201451428836,
          0.9708958185057595,
          0.9709706687907935,
          0.9709706687907935,
          0.9709706687907935,
          0.9709706687907935,
          0.9709706687907935,
          0.971095206215523,
          0.9711435831747927,
          0.97166818338768,
          0.9720274836490997,
          0.9720274836490997,
          0.9720274836490997,
          0.9721266106860765,
          0.9721266106860765,
          0.9722254687104622,
          0.9722254687104622,
          0.9722510809947006,
          0.9728892628437538,
          0.9771368519030439,
          0.9772695693704172,
          0.9773410039175121,
          0.9773410039175121,
          0.9773410039175121,
          0.9784155077632672,
          0.9784282095602492,
          0.9784282095602492,
          0.9784282095602492,
          0.9784282095602492,
          0.9784819343883067,
          0.9785102869905793,
          0.9785497233232343,
          0.9785553722148921,
          0.9787572697069271,
          0.9789247314951685,
          0.9789247314951685,
          0.9791065906783786,
          0.9791633020402951,
          0.9794876753042624,
          0.9794876753042624,
          0.9794904312182333,
          0.9795904366583423,
          0.980460391282354,
          0.9804603912823538,
          0.9804603912823538,
          0.9804603912823538,
          0.9804603912823538,
          0.9804603912823538,
          0.9806123597368045,
          0.980981230994564,
          0.980981230994564,
          0.980981230994564,
          0.9811159070653609,
          0.9811159070653609,
          0.981200761406404,
          0.981200761406404,
          0.9813264419998705,
          0.9813264419998706,
          0.9813264419998706,
          0.9813993433698363,
          0.9814402027070988,
          0.9819643591666821,
          0.9819643591666821,
          0.9825270954307743,
          0.9825270954307743,
          0.9825270954307743,
          0.9825270954307743,
          0.9825270954307743,
          0.9831498524809579,
          0.9832277343412619,
          0.9832277343412619,
          0.9832277343412619,
          0.983641943254146,
          0.983641943254146,
          0.9841500713442265,
          0.9844001299249241,
          0.9844120792624103,
          0.984523611183246,
          0.9845479485829591,
          0.9845479485829591,
          0.9845479485829591,
          0.9847368340690074,
          0.9847368340690074,
          0.984947248787785,
          0.984947248787785,
          0.984947248787785,
          0.9849898279033718,
          0.9849898279033718,
          0.9851099077333875,
          0.9852310179066912,
          0.9853147515421197,
          0.9853147515421197,
          0.9856593627284174,
          0.9859527171667506,
          0.9859763064951297,
          0.9860046180778634,
          0.9860345672467469,
          0.9861185872550897,
          0.9862095938068602,
          0.9863366750244648,
          0.9864778196830721,
          0.9865774209894229,
          0.9866866795302994,
          0.9867977820021213,
          0.9871187943878985,
          0.9871635360216284,
          0.9871635360216284,
          0.9872865644610483,
          0.9872865644610483,
          0.9873684187159182,
          0.9873684187159182,
          0.9875575664391378,
          0.9875575664391378,
          0.9875846440844802,
          0.9889154417057482,
          0.9889154417057482,
          0.9889299046857599,
          0.9889299046857599,
          0.9889299046857599,
          0.9889299046857599,
          0.9890240868657315,
          0.9890240868657315,
          0.9891825248741829,
          0.9891825248741829,
          0.9891825248741829,
          0.9892401170528455,
          0.9892472175315009,
          0.9892472175315009,
          0.9892472175315009,
          0.9920492661685361,
          0.9920492661685361,
          0.9920685492349548,
          0.9920685492349548,
          0.9920685492349548,
          0.992090773160526,
          0.992090773160526,
          0.992090773160526,
          0.9922057801069988,
          0.9922057801069988,
          0.9922335096682342,
          0.9923509348708055,
          0.992419437424241,
          0.9924729681618236,
          0.9925691653028221,
          0.9925691653028221,
          0.9925691653028221,
          0.9926509625382376,
          0.9926885506231529,
          0.9926885506231529,
          0.9926885506231529,
          0.992715075597511,
          0.9927199156123586,
          0.9927344193866855,
          0.9928868418738283,
          0.9931638800907738,
          0.9931638800907738,
          0.9931638800907738,
          0.9931638800907738,
          0.993304397889433,
          0.9935844865010721,
          0.9935844865010721,
          0.9936376194298226,
          0.9936923441944019,
          0.9937125721488036,
          0.9938118421751138,
          0.9938118421751139,
          0.9938690251191403,
          0.9938690251191403,
          0.9939840738108288,
          0.9940590562907254,
          0.9941022727787365,
          0.9941022727787365,
          0.9941022727787365,
          0.9941652273070551,
          0.9941722699635718,
          0.9942196967116349,
          0.9942196967116349,
          0.9942196967116349,
          0.9959181613615505,
          0.9959414503780141,
          0.9959414503780141,
          0.9959945939083293
         ]
        }
       ],
       "layout": {
        "template": {
         "data": {
          "bar": [
           {
            "error_x": {
             "color": "#2a3f5f"
            },
            "error_y": {
             "color": "#2a3f5f"
            },
            "marker": {
             "line": {
              "color": "#E5ECF6",
              "width": 0.5
             },
             "pattern": {
              "fillmode": "overlay",
              "size": 10,
              "solidity": 0.2
             }
            },
            "type": "bar"
           }
          ],
          "barpolar": [
           {
            "marker": {
             "line": {
              "color": "#E5ECF6",
              "width": 0.5
             },
             "pattern": {
              "fillmode": "overlay",
              "size": 10,
              "solidity": 0.2
             }
            },
            "type": "barpolar"
           }
          ],
          "carpet": [
           {
            "aaxis": {
             "endlinecolor": "#2a3f5f",
             "gridcolor": "white",
             "linecolor": "white",
             "minorgridcolor": "white",
             "startlinecolor": "#2a3f5f"
            },
            "baxis": {
             "endlinecolor": "#2a3f5f",
             "gridcolor": "white",
             "linecolor": "white",
             "minorgridcolor": "white",
             "startlinecolor": "#2a3f5f"
            },
            "type": "carpet"
           }
          ],
          "choropleth": [
           {
            "colorbar": {
             "outlinewidth": 0,
             "ticks": ""
            },
            "type": "choropleth"
           }
          ],
          "contour": [
           {
            "colorbar": {
             "outlinewidth": 0,
             "ticks": ""
            },
            "colorscale": [
             [
              0,
              "#0d0887"
             ],
             [
              0.1111111111111111,
              "#46039f"
             ],
             [
              0.2222222222222222,
              "#7201a8"
             ],
             [
              0.3333333333333333,
              "#9c179e"
             ],
             [
              0.4444444444444444,
              "#bd3786"
             ],
             [
              0.5555555555555556,
              "#d8576b"
             ],
             [
              0.6666666666666666,
              "#ed7953"
             ],
             [
              0.7777777777777778,
              "#fb9f3a"
             ],
             [
              0.8888888888888888,
              "#fdca26"
             ],
             [
              1,
              "#f0f921"
             ]
            ],
            "type": "contour"
           }
          ],
          "contourcarpet": [
           {
            "colorbar": {
             "outlinewidth": 0,
             "ticks": ""
            },
            "type": "contourcarpet"
           }
          ],
          "heatmap": [
           {
            "colorbar": {
             "outlinewidth": 0,
             "ticks": ""
            },
            "colorscale": [
             [
              0,
              "#0d0887"
             ],
             [
              0.1111111111111111,
              "#46039f"
             ],
             [
              0.2222222222222222,
              "#7201a8"
             ],
             [
              0.3333333333333333,
              "#9c179e"
             ],
             [
              0.4444444444444444,
              "#bd3786"
             ],
             [
              0.5555555555555556,
              "#d8576b"
             ],
             [
              0.6666666666666666,
              "#ed7953"
             ],
             [
              0.7777777777777778,
              "#fb9f3a"
             ],
             [
              0.8888888888888888,
              "#fdca26"
             ],
             [
              1,
              "#f0f921"
             ]
            ],
            "type": "heatmap"
           }
          ],
          "heatmapgl": [
           {
            "colorbar": {
             "outlinewidth": 0,
             "ticks": ""
            },
            "colorscale": [
             [
              0,
              "#0d0887"
             ],
             [
              0.1111111111111111,
              "#46039f"
             ],
             [
              0.2222222222222222,
              "#7201a8"
             ],
             [
              0.3333333333333333,
              "#9c179e"
             ],
             [
              0.4444444444444444,
              "#bd3786"
             ],
             [
              0.5555555555555556,
              "#d8576b"
             ],
             [
              0.6666666666666666,
              "#ed7953"
             ],
             [
              0.7777777777777778,
              "#fb9f3a"
             ],
             [
              0.8888888888888888,
              "#fdca26"
             ],
             [
              1,
              "#f0f921"
             ]
            ],
            "type": "heatmapgl"
           }
          ],
          "histogram": [
           {
            "marker": {
             "pattern": {
              "fillmode": "overlay",
              "size": 10,
              "solidity": 0.2
             }
            },
            "type": "histogram"
           }
          ],
          "histogram2d": [
           {
            "colorbar": {
             "outlinewidth": 0,
             "ticks": ""
            },
            "colorscale": [
             [
              0,
              "#0d0887"
             ],
             [
              0.1111111111111111,
              "#46039f"
             ],
             [
              0.2222222222222222,
              "#7201a8"
             ],
             [
              0.3333333333333333,
              "#9c179e"
             ],
             [
              0.4444444444444444,
              "#bd3786"
             ],
             [
              0.5555555555555556,
              "#d8576b"
             ],
             [
              0.6666666666666666,
              "#ed7953"
             ],
             [
              0.7777777777777778,
              "#fb9f3a"
             ],
             [
              0.8888888888888888,
              "#fdca26"
             ],
             [
              1,
              "#f0f921"
             ]
            ],
            "type": "histogram2d"
           }
          ],
          "histogram2dcontour": [
           {
            "colorbar": {
             "outlinewidth": 0,
             "ticks": ""
            },
            "colorscale": [
             [
              0,
              "#0d0887"
             ],
             [
              0.1111111111111111,
              "#46039f"
             ],
             [
              0.2222222222222222,
              "#7201a8"
             ],
             [
              0.3333333333333333,
              "#9c179e"
             ],
             [
              0.4444444444444444,
              "#bd3786"
             ],
             [
              0.5555555555555556,
              "#d8576b"
             ],
             [
              0.6666666666666666,
              "#ed7953"
             ],
             [
              0.7777777777777778,
              "#fb9f3a"
             ],
             [
              0.8888888888888888,
              "#fdca26"
             ],
             [
              1,
              "#f0f921"
             ]
            ],
            "type": "histogram2dcontour"
           }
          ],
          "mesh3d": [
           {
            "colorbar": {
             "outlinewidth": 0,
             "ticks": ""
            },
            "type": "mesh3d"
           }
          ],
          "parcoords": [
           {
            "line": {
             "colorbar": {
              "outlinewidth": 0,
              "ticks": ""
             }
            },
            "type": "parcoords"
           }
          ],
          "pie": [
           {
            "automargin": true,
            "type": "pie"
           }
          ],
          "scatter": [
           {
            "fillpattern": {
             "fillmode": "overlay",
             "size": 10,
             "solidity": 0.2
            },
            "type": "scatter"
           }
          ],
          "scatter3d": [
           {
            "line": {
             "colorbar": {
              "outlinewidth": 0,
              "ticks": ""
             }
            },
            "marker": {
             "colorbar": {
              "outlinewidth": 0,
              "ticks": ""
             }
            },
            "type": "scatter3d"
           }
          ],
          "scattercarpet": [
           {
            "marker": {
             "colorbar": {
              "outlinewidth": 0,
              "ticks": ""
             }
            },
            "type": "scattercarpet"
           }
          ],
          "scattergeo": [
           {
            "marker": {
             "colorbar": {
              "outlinewidth": 0,
              "ticks": ""
             }
            },
            "type": "scattergeo"
           }
          ],
          "scattergl": [
           {
            "marker": {
             "colorbar": {
              "outlinewidth": 0,
              "ticks": ""
             }
            },
            "type": "scattergl"
           }
          ],
          "scattermapbox": [
           {
            "marker": {
             "colorbar": {
              "outlinewidth": 0,
              "ticks": ""
             }
            },
            "type": "scattermapbox"
           }
          ],
          "scatterpolar": [
           {
            "marker": {
             "colorbar": {
              "outlinewidth": 0,
              "ticks": ""
             }
            },
            "type": "scatterpolar"
           }
          ],
          "scatterpolargl": [
           {
            "marker": {
             "colorbar": {
              "outlinewidth": 0,
              "ticks": ""
             }
            },
            "type": "scatterpolargl"
           }
          ],
          "scatterternary": [
           {
            "marker": {
             "colorbar": {
              "outlinewidth": 0,
              "ticks": ""
             }
            },
            "type": "scatterternary"
           }
          ],
          "surface": [
           {
            "colorbar": {
             "outlinewidth": 0,
             "ticks": ""
            },
            "colorscale": [
             [
              0,
              "#0d0887"
             ],
             [
              0.1111111111111111,
              "#46039f"
             ],
             [
              0.2222222222222222,
              "#7201a8"
             ],
             [
              0.3333333333333333,
              "#9c179e"
             ],
             [
              0.4444444444444444,
              "#bd3786"
             ],
             [
              0.5555555555555556,
              "#d8576b"
             ],
             [
              0.6666666666666666,
              "#ed7953"
             ],
             [
              0.7777777777777778,
              "#fb9f3a"
             ],
             [
              0.8888888888888888,
              "#fdca26"
             ],
             [
              1,
              "#f0f921"
             ]
            ],
            "type": "surface"
           }
          ],
          "table": [
           {
            "cells": {
             "fill": {
              "color": "#EBF0F8"
             },
             "line": {
              "color": "white"
             }
            },
            "header": {
             "fill": {
              "color": "#C8D4E3"
             },
             "line": {
              "color": "white"
             }
            },
            "type": "table"
           }
          ]
         },
         "layout": {
          "annotationdefaults": {
           "arrowcolor": "#2a3f5f",
           "arrowhead": 0,
           "arrowwidth": 1
          },
          "autotypenumbers": "strict",
          "coloraxis": {
           "colorbar": {
            "outlinewidth": 0,
            "ticks": ""
           }
          },
          "colorscale": {
           "diverging": [
            [
             0,
             "#8e0152"
            ],
            [
             0.1,
             "#c51b7d"
            ],
            [
             0.2,
             "#de77ae"
            ],
            [
             0.3,
             "#f1b6da"
            ],
            [
             0.4,
             "#fde0ef"
            ],
            [
             0.5,
             "#f7f7f7"
            ],
            [
             0.6,
             "#e6f5d0"
            ],
            [
             0.7,
             "#b8e186"
            ],
            [
             0.8,
             "#7fbc41"
            ],
            [
             0.9,
             "#4d9221"
            ],
            [
             1,
             "#276419"
            ]
           ],
           "sequential": [
            [
             0,
             "#0d0887"
            ],
            [
             0.1111111111111111,
             "#46039f"
            ],
            [
             0.2222222222222222,
             "#7201a8"
            ],
            [
             0.3333333333333333,
             "#9c179e"
            ],
            [
             0.4444444444444444,
             "#bd3786"
            ],
            [
             0.5555555555555556,
             "#d8576b"
            ],
            [
             0.6666666666666666,
             "#ed7953"
            ],
            [
             0.7777777777777778,
             "#fb9f3a"
            ],
            [
             0.8888888888888888,
             "#fdca26"
            ],
            [
             1,
             "#f0f921"
            ]
           ],
           "sequentialminus": [
            [
             0,
             "#0d0887"
            ],
            [
             0.1111111111111111,
             "#46039f"
            ],
            [
             0.2222222222222222,
             "#7201a8"
            ],
            [
             0.3333333333333333,
             "#9c179e"
            ],
            [
             0.4444444444444444,
             "#bd3786"
            ],
            [
             0.5555555555555556,
             "#d8576b"
            ],
            [
             0.6666666666666666,
             "#ed7953"
            ],
            [
             0.7777777777777778,
             "#fb9f3a"
            ],
            [
             0.8888888888888888,
             "#fdca26"
            ],
            [
             1,
             "#f0f921"
            ]
           ]
          },
          "colorway": [
           "#636efa",
           "#EF553B",
           "#00cc96",
           "#ab63fa",
           "#FFA15A",
           "#19d3f3",
           "#FF6692",
           "#B6E880",
           "#FF97FF",
           "#FECB52"
          ],
          "font": {
           "color": "#2a3f5f"
          },
          "geo": {
           "bgcolor": "white",
           "lakecolor": "white",
           "landcolor": "#E5ECF6",
           "showlakes": true,
           "showland": true,
           "subunitcolor": "white"
          },
          "hoverlabel": {
           "align": "left"
          },
          "hovermode": "closest",
          "mapbox": {
           "style": "light"
          },
          "paper_bgcolor": "white",
          "plot_bgcolor": "#E5ECF6",
          "polar": {
           "angularaxis": {
            "gridcolor": "white",
            "linecolor": "white",
            "ticks": ""
           },
           "bgcolor": "#E5ECF6",
           "radialaxis": {
            "gridcolor": "white",
            "linecolor": "white",
            "ticks": ""
           }
          },
          "scene": {
           "xaxis": {
            "backgroundcolor": "#E5ECF6",
            "gridcolor": "white",
            "gridwidth": 2,
            "linecolor": "white",
            "showbackground": true,
            "ticks": "",
            "zerolinecolor": "white"
           },
           "yaxis": {
            "backgroundcolor": "#E5ECF6",
            "gridcolor": "white",
            "gridwidth": 2,
            "linecolor": "white",
            "showbackground": true,
            "ticks": "",
            "zerolinecolor": "white"
           },
           "zaxis": {
            "backgroundcolor": "#E5ECF6",
            "gridcolor": "white",
            "gridwidth": 2,
            "linecolor": "white",
            "showbackground": true,
            "ticks": "",
            "zerolinecolor": "white"
           }
          },
          "shapedefaults": {
           "line": {
            "color": "#2a3f5f"
           }
          },
          "ternary": {
           "aaxis": {
            "gridcolor": "white",
            "linecolor": "white",
            "ticks": ""
           },
           "baxis": {
            "gridcolor": "white",
            "linecolor": "white",
            "ticks": ""
           },
           "bgcolor": "#E5ECF6",
           "caxis": {
            "gridcolor": "white",
            "linecolor": "white",
            "ticks": ""
           }
          },
          "title": {
           "x": 0.05
          },
          "xaxis": {
           "automargin": true,
           "gridcolor": "white",
           "linecolor": "white",
           "ticks": "",
           "title": {
            "standoff": 15
           },
           "zerolinecolor": "white",
           "zerolinewidth": 2
          },
          "yaxis": {
           "automargin": true,
           "gridcolor": "white",
           "linecolor": "white",
           "ticks": "",
           "title": {
            "standoff": 15
           },
           "zerolinecolor": "white",
           "zerolinewidth": 2
          }
         }
        },
        "title": {
         "text": "hypervolume over n_gen"
        },
        "xaxis": {
         "title": {
          "text": "generation"
         }
        },
        "yaxis": {
         "title": {
          "text": "hypervolume"
         }
        }
       }
      }
     },
     "metadata": {},
     "output_type": "display_data"
    }
   ],
   "source": [
    "fig1 = go.Figure()\n",
    "fig1.update_layout(\n",
    "    title=f\"pareto fronts\",\n",
    "    xaxis_title=\"total energy energy consumption\",\n",
    "    yaxis_title=\"avg downlink\")\n",
    "\n",
    "##### add paretofronts of all runs\n",
    "for index, pareto_front in enumerate(pareto_fronts):\n",
    "    fig1.add_trace(\n",
    "        go.Scatter(\n",
    "            x=np.array(pareto_front)[:,0],\n",
    "            y=np.array(pareto_front)[:,1],\n",
    "            mode='markers',\n",
    "            name=config_names[index],\n",
    "            )\n",
    "        )\n",
    "\n",
    "##### add rssi sampling population\n",
    "son = Son(adjacencies_file_name=f\"./datastore/{network_name}/{network_name}_adjacencies.json\", parameter_config_file_name=f\"./datastore/{network_name}/{config_names[0]}/{config_names[0]}.json\")\n",
    "sampling_pop_objecitve_space = create_greedy_rssi_sampling_pop(results_object[\"optimization_objectives\"], son)\n",
    "fig1.add_trace(\n",
    "     go.Scatter(\n",
    "        x=sampling_pop_objecitve_space[:,0],\n",
    "        y=sampling_pop_objecitve_space[:,1],\n",
    "        mode='markers',\n",
    "        name= \"greedy_sampling_pop\",\n",
    "        )\n",
    "    )\n",
    "###### highlight greedy assignment activation profile\n",
    "fig1.add_trace(\n",
    "    go.Scatter(\n",
    "        x=np.array(sampling_pop_objecitve_space[-1][0]),\n",
    "        y=np.array(sampling_pop_objecitve_space[-1][1]),\n",
    "        mode='markers',\n",
    "        name= \"greedy_assignment_profile\",\n",
    "        opacity= 0.5,\n",
    "        marker=dict(size=10)\n",
    "        )\n",
    "    )\n",
    "##### highlight asf selection from rssi_sampling\n",
    "i = asf_select(sampling_pop_objecitve_space)\n",
    "fig1.add_trace(\n",
    "    go.Scatter(\n",
    "        x=np.array(sampling_pop_objecitve_space[i][0]),\n",
    "        y=np.array(sampling_pop_objecitve_space[i][1]),\n",
    "        mode='markers',\n",
    "        name= \"asf selection for greedy_sampling_pop\",\n",
    "        opacity= 0.5,\n",
    "        marker=dict(size=10)\n",
    "        )\n",
    "    )\n",
    "\n",
    "fig2 = go.Figure()\n",
    "fig2.update_layout(\n",
    "    title=\"hypervolume over n_gen\",\n",
    "    xaxis_title=\"generation\",\n",
    "    yaxis_title=\"hypervolume\")\n",
    "\n",
    "for index, hyper_volume_history in enumerate(hyper_volume_histories):\n",
    "    fig2.add_trace(\n",
    "        go.Scatter(\n",
    "            x=list(range(0, len(hyper_volume_history))),\n",
    "            y=hyper_volume_history,\n",
    "            mode='lines',\n",
    "            name=config_names[index],\n",
    "            ))\n",
    "\n",
    "\n",
    "fig1.show()\n",
    "fig2.show()"
   ]
  }
 ],
 "metadata": {
  "kernelspec": {
   "display_name": "Python 3 (ipykernel)",
   "language": "python",
   "name": "python3"
  },
  "language_info": {
   "codemirror_mode": {
    "name": "ipython",
    "version": 3
   },
   "file_extension": ".py",
   "mimetype": "text/x-python",
   "name": "python",
   "nbconvert_exporter": "python",
   "pygments_lexer": "ipython3",
   "version": "3.11.5"
  }
 },
 "nbformat": 4,
 "nbformat_minor": 5
}
