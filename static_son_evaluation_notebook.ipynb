{
 "cells": [
  {
   "cell_type": "code",
   "execution_count": 15,
   "id": "7bc1c4da-f3bc-4a3d-9069-5655b400e7dc",
   "metadata": {},
   "outputs": [],
   "source": [
    "\n",
    "import json\n",
    "import numpy as np\n",
    "from son_main_script import Son\n",
    "from son_pymoo import HighRssiFirstSampling, ObjectiveEnum, SonProblemElementWise\n",
    "from pymoo.decomposition.asf import ASF\n",
    "import plotly.graph_objects as go\n",
    "from pymoo.indicators.hv import Hypervolume\n",
    "\n",
    "def asf_select(objective_space: np.ndarray,\n",
    "                    weights=[]):\n",
    "\n",
    "    approx_ideal = objective_space.min(axis=0)\n",
    "    approx_nadir = objective_space.max(axis=0)\n",
    "\n",
    "    np.seterr(divide='ignore', invalid='ignore')\n",
    "    nF = (objective_space - approx_ideal) / (approx_nadir - approx_ideal)\n",
    "    decomp = ASF()\n",
    "\n",
    "    if len(weights) != objective_space.shape[1]:\n",
    "        weights = [1/objective_space.shape[1] for _ in range(objective_space.shape[1])]\n",
    "\n",
    "    weights_np= np.array(weights)\n",
    "    i = decomp.do(nF, weights_np).argmin()\n",
    "    return i\n",
    "\n",
    "def normalize_objective_space_pop(objective_space_pop: np.ndarray, ideal, nadir):\n",
    "    return (objective_space_pop - ideal) / (nadir - ideal)\n",
    "\n",
    "def create_greedy_rssi_sampling_pop(optimization_objectives: list[str], son: Son):\n",
    "     ###### test HighRssiFirstSampling\n",
    "    son_problem_obj = SonProblemElementWise(optimization_objectives, son)\n",
    "    # create pop with RssiSampling\n",
    "    high_rssi_sampling_obj = HighRssiFirstSampling()\n",
    "    sampling_pop = high_rssi_sampling_obj._do(son_problem_obj, 100)\n",
    "    sampling_pop_objecitve_space = np.empty((100,2))\n",
    "    out = {}\n",
    "    for index, ind in enumerate(sampling_pop):\n",
    "        son_problem_obj._evaluate(ind, out)\n",
    "        sampling_pop_objecitve_space[index]=out[\"F\"]\n",
    "    return sampling_pop_objecitve_space\n",
    "\n",
    "def get_hypervolume(objective_space_pop: np.ndarray, ref_point=np.array([1.1, 1.1]), norm_ref_point=False, zero_to_one=False, ideal=None, nadir=None):\n",
    "    hv = Hypervolume(ref_point=ref_point,\n",
    "                     norm_ref_point=norm_ref_point,\n",
    "                     zero_to_one=zero_to_one,\n",
    "                     ideal=ideal,\n",
    "                     nadir=nadir)\n",
    "    \n",
    "    return hv(objective_space_pop)\n",
    "\n",
    "##################################################################\n",
    "\n",
    "\n",
    "\n",
    "network_name = \"het_C100\"\n",
    "# config_names = [\"uniformcrossover_40_offsprings\", \"uniformcrossover_120_offsprings\", \"onepointcrossover\"]\n",
    "config_names = [\"static_evo\"]\n",
    "\n",
    "\n",
    "##################################################################\n",
    "pareto_fronts = []\n",
    "paretor_fronts_normalized = []\n",
    "hyper_volume_histories = []\n",
    "combined_his = [] ## -> combine all objective result in one array (used only for normalization)\n",
    "nadir = np.array([])\n",
    "ideal = np.array([])\n",
    "\n",
    "\n",
    "### find  nadir and ideal points for normalization over all experiments\n",
    "for _, config_name in enumerate(config_names):\n",
    "    results_directory = f\"./datastore/{network_name}/{config_name}/\"\n",
    "\n",
    "    with open(results_directory + \"objectives_result.json\", mode=\"r\",encoding=\"utf-8\") as openfile:\n",
    "        results_object = json.load(openfile)\n",
    "        for _, current_pop_objectivespace in enumerate(results_object[\"history\"][\"objective_space_opt\"]):\n",
    "            combined_his.append(current_pop_objectivespace[0])\n",
    "\n",
    "\n",
    "nadir = np.array(combined_his).max(axis=0)\n",
    "ideal = np.array(combined_his).min(axis=0)\n",
    "\n",
    "\n",
    "### collect paretorfronts, hypervolumes, normalized paretorfronts per experiment\n",
    "for _, config_name in enumerate(config_names):\n",
    "    results_directory = f\"./datastore/{network_name}/{config_name}/\"\n",
    "\n",
    "    \n",
    "    with open(results_directory + \"objectives_result.json\", mode=\"r\",encoding=\"utf-8\") as openfile:\n",
    "        results_object = json.load(openfile)\n",
    "\n",
    "        pareto_fronts.append(results_object[\"objectiveSpace\"])\n",
    "        paretor_fronts_normalized.append(normalize_objective_space_pop(np.array(results_object[\"objectiveSpace\"]), ideal, nadir))\n",
    "        hyper_volume_history = []\n",
    "            \n",
    "        for _, current_pop_objectivespace in enumerate(results_object[\"history\"][\"objective_space_opt\"]):\n",
    "            normalized_current_pop = normalize_objective_space_pop(np.array(current_pop_objectivespace), ideal, nadir)\n",
    "            hyper_volume_history.append(get_hypervolume(np.array(normalized_current_pop)))\n",
    "        \n",
    "    hyper_volume_histories.append(hyper_volume_history)"
   ]
  },
  {
   "cell_type": "code",
   "execution_count": 16,
   "id": "7ae4bc69",
   "metadata": {},
   "outputs": [
    {
     "name": "stdout",
     "output_type": "stream",
     "text": [
      "[array([[ 0.91225166,  0.        ],\n",
      "       [ 0.69167307,  0.07906125],\n",
      "       [ 0.72874447,  0.05790634],\n",
      "       [ 0.6675754 ,  0.08348183],\n",
      "       [ 0.64579628,  0.09888021],\n",
      "       [ 0.83579032,  0.02325036],\n",
      "       [ 0.61521172,  0.11040293],\n",
      "       [ 0.06116907,  0.27632001],\n",
      "       [ 0.77462125,  0.04383038],\n",
      "       [ 0.86637488,  0.01469084],\n",
      "       [ 0.89695943,  0.0058749 ],\n",
      "       [ 0.8510826 ,  0.01711635],\n",
      "       [ 0.75932902,  0.05678   ],\n",
      "       [ 0.74403675,  0.05705416],\n",
      "       [ 0.30584537,  0.1517014 ],\n",
      "       [ 0.4281835 ,  0.11143742],\n",
      "       [ 0.39759895,  0.1147873 ],\n",
      "       [ 0.24467631,  0.18394827],\n",
      "       [ 0.01529228,  0.3107707 ],\n",
      "       [ 0.22938403,  0.19036731],\n",
      "       [ 0.09175362,  0.25759544],\n",
      "       [ 0.630504  ,  0.10590355],\n",
      "       [ 0.38879356,  0.12148352],\n",
      "       [ 0.33642988,  0.13838927],\n",
      "       [ 0.15292269,  0.23479496],\n",
      "       [-0.15292264,  0.46428313],\n",
      "       [ 0.65228312,  0.09391422],\n",
      "       [ 0.36701444,  0.13077356],\n",
      "       [ 0.25996854,  0.17280708],\n",
      "       [-0.04587679,  0.34958565],\n",
      "       [ 0.2905531 ,  0.15980814],\n",
      "       [-0.1625714 ,  0.50025158],\n",
      "       [ 0.19879947,  0.19918707],\n",
      "       [-0.0764613 ,  0.36948807],\n",
      "       [ 0.        ,  0.31892913],\n",
      "       [ 0.68286768,  0.08348052],\n",
      "       [-0.01529223,  0.33316732],\n",
      "       [-0.10704585,  0.39917895],\n",
      "       [ 0.35172216,  0.134979  ],\n",
      "       [ 0.13763041,  0.23596159],\n",
      "       [ 0.80520581,  0.02546863],\n",
      "       [ 0.63699084,  0.10080878],\n",
      "       [ 0.12233818,  0.24324632],\n",
      "       [ 0.21409175,  0.19358597],\n",
      "       [ 0.16821497,  0.21997735],\n",
      "       [ 0.71345219,  0.06937346],\n",
      "       [-0.13763036,  0.43141698],\n",
      "       [-0.15692792,  0.5001335 ],\n",
      "       [ 0.1070459 ,  0.25502861],\n",
      "       [ 0.18350724,  0.20854534],\n",
      "       [ 0.07646134,  0.26522809],\n",
      "       [-0.09175357,  0.38734632],\n",
      "       [-0.12233813,  0.4188966 ],\n",
      "       [-0.06116907,  0.3546739 ],\n",
      "       [-0.03058451,  0.33632565],\n",
      "       [ 0.03058456,  0.29025774],\n",
      "       [ 0.88166715,  0.00694394],\n",
      "       [ 0.3211376 ,  0.14568556],\n",
      "       [ 0.27526082,  0.16227748]])]\n"
     ]
    },
    {
     "data": {
      "application/vnd.plotly.v1+json": {
       "config": {
        "plotlyServerURL": "https://plot.ly"
       },
       "data": [
        {
         "mode": "markers",
         "name": "static_evo",
         "type": "scatter",
         "x": [
          9501.7761,
          9045.6431,
          9122.3028,
          8995.8117,
          8950.7748,
          9343.6622,
          8887.5292,
          7741.8281,
          9217.1711,
          9406.9078,
          9470.1534,
          9375.285,
          9185.5484,
          9153.9256,
          8247.7926,
          8500.7748,
          8437.5292,
          8121.3015,
          7646.9598,
          8089.6787,
          7805.0737,
          8919.152,
          8419.3206,
          8311.0381,
          7931.5648,
          7299.1093,
          8964.1889,
          8374.2837,
          8152.9242,
          7520.4687,
          8216.1698,
          7279.1567,
          8026.4331,
          7457.2232,
          7615.337,
          9027.4345,
          7583.7143,
          7393.9776,
          8342.6609,
          7899.942,
          9280.4167,
          8932.5661,
          7868.3193,
          8058.0559,
          7963.1876,
          9090.68,
          7330.7321,
          7290.8268,
          7836.6965,
          7994.8104,
          7773.4509,
          7425.6004,
          7362.3548,
          7488.8459,
          7552.0915,
          7678.5826,
          9438.5306,
          8279.4153,
          8184.547
         ],
         "y": [
          -196072536.6829156,
          -189884878.41319573,
          -191540548.7573856,
          -189538905.6816785,
          -188333764.92049968,
          -194252868.12255087,
          -187431949.9193606,
          -174446596.79643956,
          -192642191.12642422,
          -194922771.48408553,
          -195612742.50329575,
          -194732940.65736485,
          -191628700.7354283,
          -191607243.36627537,
          -184199761.98270008,
          -187350986.3520927,
          -187088810.4990098,
          -181675988.8988902,
          -171750344.64327726,
          -181173608.47350982,
          -175912058.89902562,
          -187784089.58653098,
          -186564737.0927424,
          -185241623.86979797,
          -177696518.19683266,
          -159735830.48034254,
          -188722424.1093753,
          -185837660.1846217,
          -182547944.7824855,
          -168712526.95434058,
          -183565294.49436036,
          -156920792.07831275,
          -180483337.80063945,
          -167154882.19523072,
          -171111832.4832402,
          -189539007.94996905,
          -169997492.942869,
          -164831151.12983832,
          -185508525.04095307,
          -177605212.63517058,
          -194079256.6586538,
          -188182827.15457317,
          -177035079.6826572,
          -180921702.99491486,
          -178856204.86577296,
          -190643084.2318666,
          -162308070.4333363,
          -156930033.25729087,
          -176112949.81503326,
          -179750921.41110322,
          -175314696.43922246,
          -165757221.59305292,
          -163287966.99615934,
          -168314299.745529,
          -169750309.33169934,
          -173355772.7195435,
          -195529075.01687375,
          -184670585.6932678,
          -183372034.5337842
         ]
        },
        {
         "marker": {
          "size": 10
         },
         "mode": "markers",
         "name": "asf selection",
         "opacity": 0.5,
         "type": "scatter",
         "x": [
          8121.3015
         ],
         "y": [
          -181675988.8988902
         ]
        },
        {
         "mode": "markers",
         "name": "greedy_sampling_pop",
         "type": "scatter",
         "x": [
          9588.7355,
          9603.7933,
          9377.0653,
          9605.3004,
          9552.2179,
          9370.5268,
          9711.8389,
          9472.1705,
          9723.509,
          9468.7828,
          9593.6303,
          9566.9023,
          9453.725,
          9515.7003,
          9608.6881,
          9655.3687,
          9212.5495,
          9537.1601,
          9423.8462,
          9513.8198,
          9731.7915,
          9628.6407,
          9631.7915,
          9449.0671,
          9505.3004,
          9616.9706,
          9543.6986,
          9457.1127,
          9535.4161,
          9335.5164,
          9616.9706,
          9302.3865,
          9751.7441,
          9390.4795,
          9327.2339,
          9498.7619,
          9440.5478,
          9407.2813,
          9526.997,
          9525.4899,
          9469.0197,
          9360.7373,
          9562.0075,
          9735.1792,
          9676.8284,
          9575.5582,
          9560.5004,
          9556.8758,
          9493.8671,
          9675.3213,
          9517.2074,
          9498.7619,
          9748.3565,
          9612.0758,
          9477.0653,
          9397.2548,
          9325.7268,
          9760.0266,
          9304.1305,
          9472.1705,
          9565.3952,
          9601.9127,
          9430.6216,
          9615.4635,
          9525.253,
          9553.725,
          9543.6986,
          9497.2548,
          9671.9336,
          9365.632,
          9445.6794,
          9417.2074,
          9508.925,
          9433.7724,
          9755.1318,
          9532.0284,
          9660.2635,
          9623.7459,
          9320.6954,
          9577.0653,
          9703.5564,
          9442.2917,
          9525.4899,
          9535.4161,
          9375.5582,
          9417.2074,
          9394.104,
          9417.2074,
          9683.6038,
          9656.8758,
          9636.9232,
          9603.7933,
          9325.7268,
          9405.5373,
          9593.6303,
          9548.8302,
          9636.9232,
          9552.2179,
          9700.1687,
          9606.8075
         ],
         "y": [
          -114047504.31132902,
          -110082940.75270857,
          -114902527.23883829,
          -112366285.11270273,
          -107354726.0565654,
          -113249615.28448698,
          -119294063.23736022,
          -120504793.48885468,
          -114608796.54008888,
          -115112894.27256623,
          -118215544.4470837,
          -120125309.09526026,
          -115105125.51793693,
          -103212586.07379788,
          -122416868.396366,
          -115107696.28886856,
          -103278845.12806512,
          -125707385.30262135,
          -112602221.70360443,
          -119954153.32004914,
          -117674383.24250342,
          -121487878.9463138,
          -119201698.3864612,
          -116053477.97480264,
          -120692559.41413547,
          -127915145.03174978,
          -115892989.83003125,
          -120820625.02008778,
          -113058995.00235167,
          -118380458.08922346,
          -113959969.08011852,
          -114055019.98042086,
          -126923426.4266685,
          -119889348.38816234,
          -126607450.24694209,
          -116072518.76720545,
          -116865092.67324415,
          -113003364.47469729,
          -128724368.76992588,
          -121678723.463392,
          -113204146.97501414,
          -99806979.14315294,
          -115421391.96430893,
          -117138906.76155086,
          -121129663.7108868,
          -115469056.49288496,
          -105548166.54644981,
          -130108177.60387933,
          -115823541.70561388,
          -114778206.54275139,
          -119057596.88470063,
          -116511633.4508028,
          -129768887.56834066,
          -121578112.00607073,
          -119939948.98179941,
          -115400419.82932112,
          -114537054.60356453,
          -114683905.20537405,
          -115786059.47867294,
          -104029959.77132499,
          -112230887.57650253,
          -117453343.6532513,
          -106465409.38465813,
          -117639673.82305188,
          -117281588.51921096,
          -119137635.06571145,
          -115918539.06272264,
          -117088747.18640387,
          -123985207.71969746,
          -114481756.13940571,
          -109902450.38425793,
          -106608461.09727089,
          -111397549.22936085,
          -117655269.66956833,
          -126944988.71089736,
          -111638122.98406021,
          -120096054.17039639,
          -120748186.0311194,
          -117271461.00384799,
          -113243585.04428224,
          -114389479.73155889,
          -109559867.93874572,
          -112403532.47130108,
          -114779244.6402052,
          -114104698.76266624,
          -106809850.62448093,
          -111469457.21743163,
          -108497245.2535188,
          -120841353.03870338,
          -118078020.6798088,
          -120757106.3075934,
          -110038004.5823284,
          -115319225.70047304,
          -114894024.07901008,
          -113058184.90083742,
          -116347101.70574957,
          -126775391.74587558,
          -116052907.99665871,
          -120987954.96213025,
          -185296462.37550008
         ]
        },
        {
         "marker": {
          "size": 10
         },
         "mode": "markers",
         "name": "greedy_assignment_profile",
         "opacity": 0.5,
         "type": "scatter",
         "x": [
          9606.8075
         ],
         "y": [
          -185296462.37550008
         ]
        },
        {
         "marker": {
          "size": 10
         },
         "mode": "markers",
         "name": "asf selection for greedy_sampling_pop",
         "opacity": 0.5,
         "type": "scatter",
         "x": [
          9556.8758
         ],
         "y": [
          -130108177.60387933
         ]
        }
       ],
       "layout": {
        "template": {
         "data": {
          "bar": [
           {
            "error_x": {
             "color": "#2a3f5f"
            },
            "error_y": {
             "color": "#2a3f5f"
            },
            "marker": {
             "line": {
              "color": "#E5ECF6",
              "width": 0.5
             },
             "pattern": {
              "fillmode": "overlay",
              "size": 10,
              "solidity": 0.2
             }
            },
            "type": "bar"
           }
          ],
          "barpolar": [
           {
            "marker": {
             "line": {
              "color": "#E5ECF6",
              "width": 0.5
             },
             "pattern": {
              "fillmode": "overlay",
              "size": 10,
              "solidity": 0.2
             }
            },
            "type": "barpolar"
           }
          ],
          "carpet": [
           {
            "aaxis": {
             "endlinecolor": "#2a3f5f",
             "gridcolor": "white",
             "linecolor": "white",
             "minorgridcolor": "white",
             "startlinecolor": "#2a3f5f"
            },
            "baxis": {
             "endlinecolor": "#2a3f5f",
             "gridcolor": "white",
             "linecolor": "white",
             "minorgridcolor": "white",
             "startlinecolor": "#2a3f5f"
            },
            "type": "carpet"
           }
          ],
          "choropleth": [
           {
            "colorbar": {
             "outlinewidth": 0,
             "ticks": ""
            },
            "type": "choropleth"
           }
          ],
          "contour": [
           {
            "colorbar": {
             "outlinewidth": 0,
             "ticks": ""
            },
            "colorscale": [
             [
              0,
              "#0d0887"
             ],
             [
              0.1111111111111111,
              "#46039f"
             ],
             [
              0.2222222222222222,
              "#7201a8"
             ],
             [
              0.3333333333333333,
              "#9c179e"
             ],
             [
              0.4444444444444444,
              "#bd3786"
             ],
             [
              0.5555555555555556,
              "#d8576b"
             ],
             [
              0.6666666666666666,
              "#ed7953"
             ],
             [
              0.7777777777777778,
              "#fb9f3a"
             ],
             [
              0.8888888888888888,
              "#fdca26"
             ],
             [
              1,
              "#f0f921"
             ]
            ],
            "type": "contour"
           }
          ],
          "contourcarpet": [
           {
            "colorbar": {
             "outlinewidth": 0,
             "ticks": ""
            },
            "type": "contourcarpet"
           }
          ],
          "heatmap": [
           {
            "colorbar": {
             "outlinewidth": 0,
             "ticks": ""
            },
            "colorscale": [
             [
              0,
              "#0d0887"
             ],
             [
              0.1111111111111111,
              "#46039f"
             ],
             [
              0.2222222222222222,
              "#7201a8"
             ],
             [
              0.3333333333333333,
              "#9c179e"
             ],
             [
              0.4444444444444444,
              "#bd3786"
             ],
             [
              0.5555555555555556,
              "#d8576b"
             ],
             [
              0.6666666666666666,
              "#ed7953"
             ],
             [
              0.7777777777777778,
              "#fb9f3a"
             ],
             [
              0.8888888888888888,
              "#fdca26"
             ],
             [
              1,
              "#f0f921"
             ]
            ],
            "type": "heatmap"
           }
          ],
          "heatmapgl": [
           {
            "colorbar": {
             "outlinewidth": 0,
             "ticks": ""
            },
            "colorscale": [
             [
              0,
              "#0d0887"
             ],
             [
              0.1111111111111111,
              "#46039f"
             ],
             [
              0.2222222222222222,
              "#7201a8"
             ],
             [
              0.3333333333333333,
              "#9c179e"
             ],
             [
              0.4444444444444444,
              "#bd3786"
             ],
             [
              0.5555555555555556,
              "#d8576b"
             ],
             [
              0.6666666666666666,
              "#ed7953"
             ],
             [
              0.7777777777777778,
              "#fb9f3a"
             ],
             [
              0.8888888888888888,
              "#fdca26"
             ],
             [
              1,
              "#f0f921"
             ]
            ],
            "type": "heatmapgl"
           }
          ],
          "histogram": [
           {
            "marker": {
             "pattern": {
              "fillmode": "overlay",
              "size": 10,
              "solidity": 0.2
             }
            },
            "type": "histogram"
           }
          ],
          "histogram2d": [
           {
            "colorbar": {
             "outlinewidth": 0,
             "ticks": ""
            },
            "colorscale": [
             [
              0,
              "#0d0887"
             ],
             [
              0.1111111111111111,
              "#46039f"
             ],
             [
              0.2222222222222222,
              "#7201a8"
             ],
             [
              0.3333333333333333,
              "#9c179e"
             ],
             [
              0.4444444444444444,
              "#bd3786"
             ],
             [
              0.5555555555555556,
              "#d8576b"
             ],
             [
              0.6666666666666666,
              "#ed7953"
             ],
             [
              0.7777777777777778,
              "#fb9f3a"
             ],
             [
              0.8888888888888888,
              "#fdca26"
             ],
             [
              1,
              "#f0f921"
             ]
            ],
            "type": "histogram2d"
           }
          ],
          "histogram2dcontour": [
           {
            "colorbar": {
             "outlinewidth": 0,
             "ticks": ""
            },
            "colorscale": [
             [
              0,
              "#0d0887"
             ],
             [
              0.1111111111111111,
              "#46039f"
             ],
             [
              0.2222222222222222,
              "#7201a8"
             ],
             [
              0.3333333333333333,
              "#9c179e"
             ],
             [
              0.4444444444444444,
              "#bd3786"
             ],
             [
              0.5555555555555556,
              "#d8576b"
             ],
             [
              0.6666666666666666,
              "#ed7953"
             ],
             [
              0.7777777777777778,
              "#fb9f3a"
             ],
             [
              0.8888888888888888,
              "#fdca26"
             ],
             [
              1,
              "#f0f921"
             ]
            ],
            "type": "histogram2dcontour"
           }
          ],
          "mesh3d": [
           {
            "colorbar": {
             "outlinewidth": 0,
             "ticks": ""
            },
            "type": "mesh3d"
           }
          ],
          "parcoords": [
           {
            "line": {
             "colorbar": {
              "outlinewidth": 0,
              "ticks": ""
             }
            },
            "type": "parcoords"
           }
          ],
          "pie": [
           {
            "automargin": true,
            "type": "pie"
           }
          ],
          "scatter": [
           {
            "fillpattern": {
             "fillmode": "overlay",
             "size": 10,
             "solidity": 0.2
            },
            "type": "scatter"
           }
          ],
          "scatter3d": [
           {
            "line": {
             "colorbar": {
              "outlinewidth": 0,
              "ticks": ""
             }
            },
            "marker": {
             "colorbar": {
              "outlinewidth": 0,
              "ticks": ""
             }
            },
            "type": "scatter3d"
           }
          ],
          "scattercarpet": [
           {
            "marker": {
             "colorbar": {
              "outlinewidth": 0,
              "ticks": ""
             }
            },
            "type": "scattercarpet"
           }
          ],
          "scattergeo": [
           {
            "marker": {
             "colorbar": {
              "outlinewidth": 0,
              "ticks": ""
             }
            },
            "type": "scattergeo"
           }
          ],
          "scattergl": [
           {
            "marker": {
             "colorbar": {
              "outlinewidth": 0,
              "ticks": ""
             }
            },
            "type": "scattergl"
           }
          ],
          "scattermapbox": [
           {
            "marker": {
             "colorbar": {
              "outlinewidth": 0,
              "ticks": ""
             }
            },
            "type": "scattermapbox"
           }
          ],
          "scatterpolar": [
           {
            "marker": {
             "colorbar": {
              "outlinewidth": 0,
              "ticks": ""
             }
            },
            "type": "scatterpolar"
           }
          ],
          "scatterpolargl": [
           {
            "marker": {
             "colorbar": {
              "outlinewidth": 0,
              "ticks": ""
             }
            },
            "type": "scatterpolargl"
           }
          ],
          "scatterternary": [
           {
            "marker": {
             "colorbar": {
              "outlinewidth": 0,
              "ticks": ""
             }
            },
            "type": "scatterternary"
           }
          ],
          "surface": [
           {
            "colorbar": {
             "outlinewidth": 0,
             "ticks": ""
            },
            "colorscale": [
             [
              0,
              "#0d0887"
             ],
             [
              0.1111111111111111,
              "#46039f"
             ],
             [
              0.2222222222222222,
              "#7201a8"
             ],
             [
              0.3333333333333333,
              "#9c179e"
             ],
             [
              0.4444444444444444,
              "#bd3786"
             ],
             [
              0.5555555555555556,
              "#d8576b"
             ],
             [
              0.6666666666666666,
              "#ed7953"
             ],
             [
              0.7777777777777778,
              "#fb9f3a"
             ],
             [
              0.8888888888888888,
              "#fdca26"
             ],
             [
              1,
              "#f0f921"
             ]
            ],
            "type": "surface"
           }
          ],
          "table": [
           {
            "cells": {
             "fill": {
              "color": "#EBF0F8"
             },
             "line": {
              "color": "white"
             }
            },
            "header": {
             "fill": {
              "color": "#C8D4E3"
             },
             "line": {
              "color": "white"
             }
            },
            "type": "table"
           }
          ]
         },
         "layout": {
          "annotationdefaults": {
           "arrowcolor": "#2a3f5f",
           "arrowhead": 0,
           "arrowwidth": 1
          },
          "autotypenumbers": "strict",
          "coloraxis": {
           "colorbar": {
            "outlinewidth": 0,
            "ticks": ""
           }
          },
          "colorscale": {
           "diverging": [
            [
             0,
             "#8e0152"
            ],
            [
             0.1,
             "#c51b7d"
            ],
            [
             0.2,
             "#de77ae"
            ],
            [
             0.3,
             "#f1b6da"
            ],
            [
             0.4,
             "#fde0ef"
            ],
            [
             0.5,
             "#f7f7f7"
            ],
            [
             0.6,
             "#e6f5d0"
            ],
            [
             0.7,
             "#b8e186"
            ],
            [
             0.8,
             "#7fbc41"
            ],
            [
             0.9,
             "#4d9221"
            ],
            [
             1,
             "#276419"
            ]
           ],
           "sequential": [
            [
             0,
             "#0d0887"
            ],
            [
             0.1111111111111111,
             "#46039f"
            ],
            [
             0.2222222222222222,
             "#7201a8"
            ],
            [
             0.3333333333333333,
             "#9c179e"
            ],
            [
             0.4444444444444444,
             "#bd3786"
            ],
            [
             0.5555555555555556,
             "#d8576b"
            ],
            [
             0.6666666666666666,
             "#ed7953"
            ],
            [
             0.7777777777777778,
             "#fb9f3a"
            ],
            [
             0.8888888888888888,
             "#fdca26"
            ],
            [
             1,
             "#f0f921"
            ]
           ],
           "sequentialminus": [
            [
             0,
             "#0d0887"
            ],
            [
             0.1111111111111111,
             "#46039f"
            ],
            [
             0.2222222222222222,
             "#7201a8"
            ],
            [
             0.3333333333333333,
             "#9c179e"
            ],
            [
             0.4444444444444444,
             "#bd3786"
            ],
            [
             0.5555555555555556,
             "#d8576b"
            ],
            [
             0.6666666666666666,
             "#ed7953"
            ],
            [
             0.7777777777777778,
             "#fb9f3a"
            ],
            [
             0.8888888888888888,
             "#fdca26"
            ],
            [
             1,
             "#f0f921"
            ]
           ]
          },
          "colorway": [
           "#636efa",
           "#EF553B",
           "#00cc96",
           "#ab63fa",
           "#FFA15A",
           "#19d3f3",
           "#FF6692",
           "#B6E880",
           "#FF97FF",
           "#FECB52"
          ],
          "font": {
           "color": "#2a3f5f"
          },
          "geo": {
           "bgcolor": "white",
           "lakecolor": "white",
           "landcolor": "#E5ECF6",
           "showlakes": true,
           "showland": true,
           "subunitcolor": "white"
          },
          "hoverlabel": {
           "align": "left"
          },
          "hovermode": "closest",
          "mapbox": {
           "style": "light"
          },
          "paper_bgcolor": "white",
          "plot_bgcolor": "#E5ECF6",
          "polar": {
           "angularaxis": {
            "gridcolor": "white",
            "linecolor": "white",
            "ticks": ""
           },
           "bgcolor": "#E5ECF6",
           "radialaxis": {
            "gridcolor": "white",
            "linecolor": "white",
            "ticks": ""
           }
          },
          "scene": {
           "xaxis": {
            "backgroundcolor": "#E5ECF6",
            "gridcolor": "white",
            "gridwidth": 2,
            "linecolor": "white",
            "showbackground": true,
            "ticks": "",
            "zerolinecolor": "white"
           },
           "yaxis": {
            "backgroundcolor": "#E5ECF6",
            "gridcolor": "white",
            "gridwidth": 2,
            "linecolor": "white",
            "showbackground": true,
            "ticks": "",
            "zerolinecolor": "white"
           },
           "zaxis": {
            "backgroundcolor": "#E5ECF6",
            "gridcolor": "white",
            "gridwidth": 2,
            "linecolor": "white",
            "showbackground": true,
            "ticks": "",
            "zerolinecolor": "white"
           }
          },
          "shapedefaults": {
           "line": {
            "color": "#2a3f5f"
           }
          },
          "ternary": {
           "aaxis": {
            "gridcolor": "white",
            "linecolor": "white",
            "ticks": ""
           },
           "baxis": {
            "gridcolor": "white",
            "linecolor": "white",
            "ticks": ""
           },
           "bgcolor": "#E5ECF6",
           "caxis": {
            "gridcolor": "white",
            "linecolor": "white",
            "ticks": ""
           }
          },
          "title": {
           "x": 0.05
          },
          "xaxis": {
           "automargin": true,
           "gridcolor": "white",
           "linecolor": "white",
           "ticks": "",
           "title": {
            "standoff": 15
           },
           "zerolinecolor": "white",
           "zerolinewidth": 2
          },
          "yaxis": {
           "automargin": true,
           "gridcolor": "white",
           "linecolor": "white",
           "ticks": "",
           "title": {
            "standoff": 15
           },
           "zerolinecolor": "white",
           "zerolinewidth": 2
          }
         }
        },
        "title": {
         "text": "pareto fronts"
        },
        "xaxis": {
         "title": {
          "text": "total energy energy consumption"
         }
        },
        "yaxis": {
         "title": {
          "text": "avg downlink"
         }
        }
       }
      }
     },
     "metadata": {},
     "output_type": "display_data"
    },
    {
     "data": {
      "application/vnd.plotly.v1+json": {
       "config": {
        "plotlyServerURL": "https://plot.ly"
       },
       "data": [
        {
         "mode": "markers",
         "name": "static_evo",
         "type": "scatter",
         "x": [
          0.9122516621142879,
          0.691673066497193,
          0.7287444666511564,
          0.6675754014967796,
          0.6457962797210086,
          0.8357903185817185,
          0.6152117229646236,
          0.061169065154376846,
          0.7746212534273408,
          0.8663748753381044,
          0.8969594320944895,
          0.8510825969599111,
          0.7593290234075424,
          0.7440367450293499,
          0.3058453741302806,
          0.4281835044390343,
          0.39759894768264925,
          0.24467630897590287,
          0.015292278378192534,
          0.22938403059771034,
          0.09175362191076279,
          0.630504001342816,
          0.3887935610604276,
          0.3364298825282715,
          0.1529226870651401,
          -0.1529226387067459,
          0.6522831231185862,
          0.36701443928465743,
          0.25996853899570166,
          -0.045876786776184314,
          0.2905530957520872,
          -0.1625713957291709,
          0.1987994738413244,
          -0.07646129517417566,
          0,
          0.6828676798749721,
          -0.015292230019798809,
          -0.1070458519305616,
          0.3517221609064649,
          0.13763040868694712,
          0.8052058101837267,
          0.6369908447403937,
          0.12233817866714874,
          0.21409175221951737,
          0.16821496544333306,
          0.713452188272964,
          -0.13763036032855294,
          -0.15692792273179704,
          0.10704590028895576,
          0.18350724382152603,
          0.07646134353256982,
          -0.09175357355236863,
          -0.12233813030875458,
          -0.06116906515437729,
          -0.03058450839799134,
          0.030584556756385505,
          0.881667153716297,
          0.32113760415007897,
          0.27526081737389424
         ],
         "y": [
          0,
          0.0790612489878255,
          0.05790633712652758,
          0.0834818286444845,
          0.09888021194745412,
          0.023250357866454463,
          0.11040292655742569,
          0.27632001371624465,
          0.043830378526757856,
          0.014690835967312731,
          0.005874904613910355,
          0.017116351663674593,
          0.05677999737390932,
          0.057054163517428515,
          0.15170139588083467,
          0.1114374181973461,
          0.11478730429248159,
          0.18394827240022893,
          0.31077069821158865,
          0.19036731207020832,
          0.2575954398751582,
          0.10590355042980584,
          0.12148352057571833,
          0.13838926737014018,
          0.23479495951525148,
          0.4642831344674683,
          0.09391421680621105,
          0.13077356310239346,
          0.17280707516303087,
          0.34958565052722723,
          0.1598081448129437,
          0.5002515804145071,
          0.19918707217296988,
          0.36948806510257853,
          0.3189291269201493,
          0.08348052193709533,
          0.3331673204366528,
          0.39917895498910927,
          0.1349790047105007,
          0.23596159339027728,
          0.02546863472920197,
          0.10080878133079892,
          0.24324632395392298,
          0.1935859710355967,
          0.21997735445622124,
          0.06937346462725358,
          0.43141698470362905,
          0.5001335035718176,
          0.25502860666660887,
          0.20854533858196952,
          0.26522808862720637,
          0.38734632230627764,
          0.4188966025560262,
          0.354673898639385,
          0.3363256469273107,
          0.2902577443060918,
          0.0069439449015044705,
          0.1456855642062372,
          0.16227747540562684
         ]
        }
       ],
       "layout": {
        "template": {
         "data": {
          "bar": [
           {
            "error_x": {
             "color": "#2a3f5f"
            },
            "error_y": {
             "color": "#2a3f5f"
            },
            "marker": {
             "line": {
              "color": "#E5ECF6",
              "width": 0.5
             },
             "pattern": {
              "fillmode": "overlay",
              "size": 10,
              "solidity": 0.2
             }
            },
            "type": "bar"
           }
          ],
          "barpolar": [
           {
            "marker": {
             "line": {
              "color": "#E5ECF6",
              "width": 0.5
             },
             "pattern": {
              "fillmode": "overlay",
              "size": 10,
              "solidity": 0.2
             }
            },
            "type": "barpolar"
           }
          ],
          "carpet": [
           {
            "aaxis": {
             "endlinecolor": "#2a3f5f",
             "gridcolor": "white",
             "linecolor": "white",
             "minorgridcolor": "white",
             "startlinecolor": "#2a3f5f"
            },
            "baxis": {
             "endlinecolor": "#2a3f5f",
             "gridcolor": "white",
             "linecolor": "white",
             "minorgridcolor": "white",
             "startlinecolor": "#2a3f5f"
            },
            "type": "carpet"
           }
          ],
          "choropleth": [
           {
            "colorbar": {
             "outlinewidth": 0,
             "ticks": ""
            },
            "type": "choropleth"
           }
          ],
          "contour": [
           {
            "colorbar": {
             "outlinewidth": 0,
             "ticks": ""
            },
            "colorscale": [
             [
              0,
              "#0d0887"
             ],
             [
              0.1111111111111111,
              "#46039f"
             ],
             [
              0.2222222222222222,
              "#7201a8"
             ],
             [
              0.3333333333333333,
              "#9c179e"
             ],
             [
              0.4444444444444444,
              "#bd3786"
             ],
             [
              0.5555555555555556,
              "#d8576b"
             ],
             [
              0.6666666666666666,
              "#ed7953"
             ],
             [
              0.7777777777777778,
              "#fb9f3a"
             ],
             [
              0.8888888888888888,
              "#fdca26"
             ],
             [
              1,
              "#f0f921"
             ]
            ],
            "type": "contour"
           }
          ],
          "contourcarpet": [
           {
            "colorbar": {
             "outlinewidth": 0,
             "ticks": ""
            },
            "type": "contourcarpet"
           }
          ],
          "heatmap": [
           {
            "colorbar": {
             "outlinewidth": 0,
             "ticks": ""
            },
            "colorscale": [
             [
              0,
              "#0d0887"
             ],
             [
              0.1111111111111111,
              "#46039f"
             ],
             [
              0.2222222222222222,
              "#7201a8"
             ],
             [
              0.3333333333333333,
              "#9c179e"
             ],
             [
              0.4444444444444444,
              "#bd3786"
             ],
             [
              0.5555555555555556,
              "#d8576b"
             ],
             [
              0.6666666666666666,
              "#ed7953"
             ],
             [
              0.7777777777777778,
              "#fb9f3a"
             ],
             [
              0.8888888888888888,
              "#fdca26"
             ],
             [
              1,
              "#f0f921"
             ]
            ],
            "type": "heatmap"
           }
          ],
          "heatmapgl": [
           {
            "colorbar": {
             "outlinewidth": 0,
             "ticks": ""
            },
            "colorscale": [
             [
              0,
              "#0d0887"
             ],
             [
              0.1111111111111111,
              "#46039f"
             ],
             [
              0.2222222222222222,
              "#7201a8"
             ],
             [
              0.3333333333333333,
              "#9c179e"
             ],
             [
              0.4444444444444444,
              "#bd3786"
             ],
             [
              0.5555555555555556,
              "#d8576b"
             ],
             [
              0.6666666666666666,
              "#ed7953"
             ],
             [
              0.7777777777777778,
              "#fb9f3a"
             ],
             [
              0.8888888888888888,
              "#fdca26"
             ],
             [
              1,
              "#f0f921"
             ]
            ],
            "type": "heatmapgl"
           }
          ],
          "histogram": [
           {
            "marker": {
             "pattern": {
              "fillmode": "overlay",
              "size": 10,
              "solidity": 0.2
             }
            },
            "type": "histogram"
           }
          ],
          "histogram2d": [
           {
            "colorbar": {
             "outlinewidth": 0,
             "ticks": ""
            },
            "colorscale": [
             [
              0,
              "#0d0887"
             ],
             [
              0.1111111111111111,
              "#46039f"
             ],
             [
              0.2222222222222222,
              "#7201a8"
             ],
             [
              0.3333333333333333,
              "#9c179e"
             ],
             [
              0.4444444444444444,
              "#bd3786"
             ],
             [
              0.5555555555555556,
              "#d8576b"
             ],
             [
              0.6666666666666666,
              "#ed7953"
             ],
             [
              0.7777777777777778,
              "#fb9f3a"
             ],
             [
              0.8888888888888888,
              "#fdca26"
             ],
             [
              1,
              "#f0f921"
             ]
            ],
            "type": "histogram2d"
           }
          ],
          "histogram2dcontour": [
           {
            "colorbar": {
             "outlinewidth": 0,
             "ticks": ""
            },
            "colorscale": [
             [
              0,
              "#0d0887"
             ],
             [
              0.1111111111111111,
              "#46039f"
             ],
             [
              0.2222222222222222,
              "#7201a8"
             ],
             [
              0.3333333333333333,
              "#9c179e"
             ],
             [
              0.4444444444444444,
              "#bd3786"
             ],
             [
              0.5555555555555556,
              "#d8576b"
             ],
             [
              0.6666666666666666,
              "#ed7953"
             ],
             [
              0.7777777777777778,
              "#fb9f3a"
             ],
             [
              0.8888888888888888,
              "#fdca26"
             ],
             [
              1,
              "#f0f921"
             ]
            ],
            "type": "histogram2dcontour"
           }
          ],
          "mesh3d": [
           {
            "colorbar": {
             "outlinewidth": 0,
             "ticks": ""
            },
            "type": "mesh3d"
           }
          ],
          "parcoords": [
           {
            "line": {
             "colorbar": {
              "outlinewidth": 0,
              "ticks": ""
             }
            },
            "type": "parcoords"
           }
          ],
          "pie": [
           {
            "automargin": true,
            "type": "pie"
           }
          ],
          "scatter": [
           {
            "fillpattern": {
             "fillmode": "overlay",
             "size": 10,
             "solidity": 0.2
            },
            "type": "scatter"
           }
          ],
          "scatter3d": [
           {
            "line": {
             "colorbar": {
              "outlinewidth": 0,
              "ticks": ""
             }
            },
            "marker": {
             "colorbar": {
              "outlinewidth": 0,
              "ticks": ""
             }
            },
            "type": "scatter3d"
           }
          ],
          "scattercarpet": [
           {
            "marker": {
             "colorbar": {
              "outlinewidth": 0,
              "ticks": ""
             }
            },
            "type": "scattercarpet"
           }
          ],
          "scattergeo": [
           {
            "marker": {
             "colorbar": {
              "outlinewidth": 0,
              "ticks": ""
             }
            },
            "type": "scattergeo"
           }
          ],
          "scattergl": [
           {
            "marker": {
             "colorbar": {
              "outlinewidth": 0,
              "ticks": ""
             }
            },
            "type": "scattergl"
           }
          ],
          "scattermapbox": [
           {
            "marker": {
             "colorbar": {
              "outlinewidth": 0,
              "ticks": ""
             }
            },
            "type": "scattermapbox"
           }
          ],
          "scatterpolar": [
           {
            "marker": {
             "colorbar": {
              "outlinewidth": 0,
              "ticks": ""
             }
            },
            "type": "scatterpolar"
           }
          ],
          "scatterpolargl": [
           {
            "marker": {
             "colorbar": {
              "outlinewidth": 0,
              "ticks": ""
             }
            },
            "type": "scatterpolargl"
           }
          ],
          "scatterternary": [
           {
            "marker": {
             "colorbar": {
              "outlinewidth": 0,
              "ticks": ""
             }
            },
            "type": "scatterternary"
           }
          ],
          "surface": [
           {
            "colorbar": {
             "outlinewidth": 0,
             "ticks": ""
            },
            "colorscale": [
             [
              0,
              "#0d0887"
             ],
             [
              0.1111111111111111,
              "#46039f"
             ],
             [
              0.2222222222222222,
              "#7201a8"
             ],
             [
              0.3333333333333333,
              "#9c179e"
             ],
             [
              0.4444444444444444,
              "#bd3786"
             ],
             [
              0.5555555555555556,
              "#d8576b"
             ],
             [
              0.6666666666666666,
              "#ed7953"
             ],
             [
              0.7777777777777778,
              "#fb9f3a"
             ],
             [
              0.8888888888888888,
              "#fdca26"
             ],
             [
              1,
              "#f0f921"
             ]
            ],
            "type": "surface"
           }
          ],
          "table": [
           {
            "cells": {
             "fill": {
              "color": "#EBF0F8"
             },
             "line": {
              "color": "white"
             }
            },
            "header": {
             "fill": {
              "color": "#C8D4E3"
             },
             "line": {
              "color": "white"
             }
            },
            "type": "table"
           }
          ]
         },
         "layout": {
          "annotationdefaults": {
           "arrowcolor": "#2a3f5f",
           "arrowhead": 0,
           "arrowwidth": 1
          },
          "autotypenumbers": "strict",
          "coloraxis": {
           "colorbar": {
            "outlinewidth": 0,
            "ticks": ""
           }
          },
          "colorscale": {
           "diverging": [
            [
             0,
             "#8e0152"
            ],
            [
             0.1,
             "#c51b7d"
            ],
            [
             0.2,
             "#de77ae"
            ],
            [
             0.3,
             "#f1b6da"
            ],
            [
             0.4,
             "#fde0ef"
            ],
            [
             0.5,
             "#f7f7f7"
            ],
            [
             0.6,
             "#e6f5d0"
            ],
            [
             0.7,
             "#b8e186"
            ],
            [
             0.8,
             "#7fbc41"
            ],
            [
             0.9,
             "#4d9221"
            ],
            [
             1,
             "#276419"
            ]
           ],
           "sequential": [
            [
             0,
             "#0d0887"
            ],
            [
             0.1111111111111111,
             "#46039f"
            ],
            [
             0.2222222222222222,
             "#7201a8"
            ],
            [
             0.3333333333333333,
             "#9c179e"
            ],
            [
             0.4444444444444444,
             "#bd3786"
            ],
            [
             0.5555555555555556,
             "#d8576b"
            ],
            [
             0.6666666666666666,
             "#ed7953"
            ],
            [
             0.7777777777777778,
             "#fb9f3a"
            ],
            [
             0.8888888888888888,
             "#fdca26"
            ],
            [
             1,
             "#f0f921"
            ]
           ],
           "sequentialminus": [
            [
             0,
             "#0d0887"
            ],
            [
             0.1111111111111111,
             "#46039f"
            ],
            [
             0.2222222222222222,
             "#7201a8"
            ],
            [
             0.3333333333333333,
             "#9c179e"
            ],
            [
             0.4444444444444444,
             "#bd3786"
            ],
            [
             0.5555555555555556,
             "#d8576b"
            ],
            [
             0.6666666666666666,
             "#ed7953"
            ],
            [
             0.7777777777777778,
             "#fb9f3a"
            ],
            [
             0.8888888888888888,
             "#fdca26"
            ],
            [
             1,
             "#f0f921"
            ]
           ]
          },
          "colorway": [
           "#636efa",
           "#EF553B",
           "#00cc96",
           "#ab63fa",
           "#FFA15A",
           "#19d3f3",
           "#FF6692",
           "#B6E880",
           "#FF97FF",
           "#FECB52"
          ],
          "font": {
           "color": "#2a3f5f"
          },
          "geo": {
           "bgcolor": "white",
           "lakecolor": "white",
           "landcolor": "#E5ECF6",
           "showlakes": true,
           "showland": true,
           "subunitcolor": "white"
          },
          "hoverlabel": {
           "align": "left"
          },
          "hovermode": "closest",
          "mapbox": {
           "style": "light"
          },
          "paper_bgcolor": "white",
          "plot_bgcolor": "#E5ECF6",
          "polar": {
           "angularaxis": {
            "gridcolor": "white",
            "linecolor": "white",
            "ticks": ""
           },
           "bgcolor": "#E5ECF6",
           "radialaxis": {
            "gridcolor": "white",
            "linecolor": "white",
            "ticks": ""
           }
          },
          "scene": {
           "xaxis": {
            "backgroundcolor": "#E5ECF6",
            "gridcolor": "white",
            "gridwidth": 2,
            "linecolor": "white",
            "showbackground": true,
            "ticks": "",
            "zerolinecolor": "white"
           },
           "yaxis": {
            "backgroundcolor": "#E5ECF6",
            "gridcolor": "white",
            "gridwidth": 2,
            "linecolor": "white",
            "showbackground": true,
            "ticks": "",
            "zerolinecolor": "white"
           },
           "zaxis": {
            "backgroundcolor": "#E5ECF6",
            "gridcolor": "white",
            "gridwidth": 2,
            "linecolor": "white",
            "showbackground": true,
            "ticks": "",
            "zerolinecolor": "white"
           }
          },
          "shapedefaults": {
           "line": {
            "color": "#2a3f5f"
           }
          },
          "ternary": {
           "aaxis": {
            "gridcolor": "white",
            "linecolor": "white",
            "ticks": ""
           },
           "baxis": {
            "gridcolor": "white",
            "linecolor": "white",
            "ticks": ""
           },
           "bgcolor": "#E5ECF6",
           "caxis": {
            "gridcolor": "white",
            "linecolor": "white",
            "ticks": ""
           }
          },
          "title": {
           "x": 0.05
          },
          "xaxis": {
           "automargin": true,
           "gridcolor": "white",
           "linecolor": "white",
           "ticks": "",
           "title": {
            "standoff": 15
           },
           "zerolinecolor": "white",
           "zerolinewidth": 2
          },
          "yaxis": {
           "automargin": true,
           "gridcolor": "white",
           "linecolor": "white",
           "ticks": "",
           "title": {
            "standoff": 15
           },
           "zerolinecolor": "white",
           "zerolinewidth": 2
          }
         }
        },
        "title": {
         "text": "pareto fronts normalized"
        },
        "xaxis": {
         "title": {
          "text": "total energy energy consumption"
         }
        },
        "yaxis": {
         "title": {
          "text": "avg downlink"
         }
        }
       }
      }
     },
     "metadata": {},
     "output_type": "display_data"
    },
    {
     "data": {
      "application/vnd.plotly.v1+json": {
       "config": {
        "plotlyServerURL": "https://plot.ly"
       },
       "data": [
        {
         "mode": "lines",
         "name": "static_evo",
         "type": "scatter",
         "x": [
          0,
          1,
          2,
          3,
          4,
          5,
          6,
          7,
          8,
          9,
          10,
          11,
          12,
          13,
          14,
          15,
          16,
          17,
          18,
          19,
          20,
          21,
          22,
          23,
          24,
          25,
          26,
          27,
          28,
          29,
          30,
          31,
          32,
          33,
          34,
          35,
          36,
          37,
          38,
          39,
          40,
          41,
          42,
          43,
          44,
          45,
          46,
          47,
          48,
          49,
          50,
          51,
          52,
          53,
          54,
          55,
          56,
          57,
          58,
          59,
          60,
          61,
          62,
          63,
          64,
          65,
          66,
          67,
          68,
          69,
          70,
          71,
          72,
          73,
          74,
          75,
          76,
          77,
          78,
          79,
          80,
          81,
          82,
          83,
          84,
          85,
          86,
          87,
          88,
          89,
          90,
          91,
          92,
          93,
          94,
          95,
          96,
          97,
          98,
          99,
          100,
          101,
          102,
          103,
          104,
          105,
          106,
          107,
          108,
          109,
          110,
          111,
          112,
          113,
          114,
          115,
          116,
          117,
          118,
          119,
          120,
          121,
          122,
          123,
          124,
          125,
          126,
          127,
          128,
          129,
          130,
          131,
          132,
          133,
          134,
          135,
          136,
          137,
          138,
          139,
          140,
          141,
          142,
          143,
          144,
          145,
          146,
          147,
          148,
          149,
          150,
          151,
          152,
          153,
          154,
          155,
          156,
          157,
          158,
          159,
          160,
          161,
          162,
          163,
          164,
          165,
          166,
          167,
          168,
          169,
          170,
          171,
          172,
          173,
          174,
          175,
          176,
          177,
          178,
          179,
          180,
          181,
          182,
          183,
          184,
          185,
          186,
          187,
          188,
          189,
          190,
          191,
          192,
          193,
          194,
          195,
          196,
          197,
          198,
          199,
          200,
          201,
          202,
          203,
          204,
          205,
          206,
          207,
          208,
          209,
          210,
          211,
          212,
          213,
          214,
          215,
          216,
          217,
          218,
          219,
          220,
          221,
          222,
          223,
          224,
          225,
          226,
          227,
          228,
          229,
          230,
          231,
          232,
          233,
          234,
          235,
          236,
          237,
          238,
          239,
          240,
          241,
          242,
          243,
          244,
          245,
          246,
          247,
          248,
          249,
          250,
          251,
          252,
          253,
          254,
          255,
          256,
          257,
          258,
          259,
          260,
          261,
          262,
          263,
          264,
          265,
          266,
          267,
          268,
          269,
          270,
          271,
          272,
          273,
          274,
          275,
          276,
          277,
          278,
          279,
          280,
          281,
          282,
          283,
          284,
          285,
          286,
          287,
          288,
          289,
          290,
          291,
          292,
          293,
          294,
          295,
          296,
          297,
          298,
          299
         ],
         "y": [
          0.17203751067337292,
          0.17210168248896945,
          0.17826793859645543,
          0.20379523342332118,
          0.21135301818200364,
          0.22019838019412952,
          0.2205243804352623,
          0.23695508173278318,
          0.24395548682539353,
          0.2450363066437698,
          0.2450363066437698,
          0.25486145310673036,
          0.2701531892596737,
          0.2701531892596737,
          0.2701531892596737,
          0.2701531892596737,
          0.27040187887130995,
          0.27040187887130995,
          0.28652532887597476,
          0.2896024894594948,
          0.29342902255246056,
          0.2954692724210156,
          0.29956541870833425,
          0.3278198201078263,
          0.3290501572794174,
          0.33505004453603116,
          0.33524354821001956,
          0.3360082901300808,
          0.3378021211680096,
          0.3391285854641507,
          0.3409308616209198,
          0.348933957185677,
          0.3505881994632648,
          0.3558402122448801,
          0.35632313011203026,
          0.36286732945447875,
          0.37199204660429286,
          0.3740134693713917,
          0.3761465413673806,
          0.38730516694384653,
          0.39529453732380726,
          0.407766633510104,
          0.41120195100934653,
          0.4197790837807643,
          0.4213239011761235,
          0.45532791734153544,
          0.4580524356765777,
          0.4652973667320845,
          0.46922020312339613,
          0.4763250220245299,
          0.4841820633104558,
          0.49402003215412804,
          0.49827960563453155,
          0.4994445867857391,
          0.5144869535184149,
          0.5221822595938795,
          0.5446767682641664,
          0.5472579224805155,
          0.5481773828643175,
          0.5558867668800909,
          0.561214132786072,
          0.5621480049138581,
          0.5659004383111862,
          0.5666709276100117,
          0.5971017773570632,
          0.5972818724141781,
          0.6038246527740229,
          0.6042769108530355,
          0.6046427740831408,
          0.6133409092062316,
          0.6245515605090052,
          0.6260008325998423,
          0.6359973034600426,
          0.6375681324383531,
          0.6416978882645024,
          0.6429610313406503,
          0.6460696059505994,
          0.6465672471004635,
          0.6508957755848833,
          0.6524845436308602,
          0.6678754900310719,
          0.6698921990898636,
          0.6702097534583102,
          0.6719994093881384,
          0.6747172366766235,
          0.6768618240913811,
          0.6793755192372688,
          0.6800136588785126,
          0.6811961958607065,
          0.6901763092765039,
          0.694255435521757,
          0.6953436531922502,
          0.7104075590746421,
          0.7228842524939927,
          0.7306706529023557,
          0.7319186831028102,
          0.733526149502904,
          0.7485072447890413,
          0.749535854519966,
          0.7603175715732655,
          0.7613667909339656,
          0.7617282187756497,
          0.7638343332016071,
          0.7650864522030749,
          0.7671799336531717,
          0.7690934152492006,
          0.7831243608073251,
          0.8772444280010314,
          0.8796184495458882,
          0.8806120921861814,
          0.8813023028441094,
          0.9419807929398595,
          0.9433895296211293,
          0.9441820840741976,
          0.9448504586557298,
          0.9458307764474105,
          0.9545301662839086,
          0.9593689378534151,
          0.9607280100421933,
          0.961882858452779,
          0.973216400863386,
          0.9744251005051945,
          0.9992603784177233,
          0.9997796414497488,
          1.0005124650217292,
          1.001640406951385,
          1.0024993975599876,
          1.0098705181954515,
          1.0144934186159893,
          1.01758353902677,
          1.0177647324707992,
          1.0194419698649875,
          1.019946675088065,
          1.0199977894923824,
          1.0204295223582782,
          1.0212567544814712,
          1.0281837266540168,
          1.0296447171413363,
          1.0319895763162177,
          1.0335452672440537,
          1.0342305431559813,
          1.0348591861916336,
          1.0353291145914136,
          1.0385541798458826,
          1.0398561098925936,
          1.0418187729371668,
          1.0422942611895867,
          1.042393477427524,
          1.043413378977717,
          1.045028281454304,
          1.0459021816080816,
          1.048901310485122,
          1.0536552844815075,
          1.0541236338834206,
          1.0548810545862635,
          1.0554726459074948,
          1.065198446740727,
          1.0671093377398735,
          1.0672499469044678,
          1.0682224632888855,
          1.071916265880525,
          1.0723424119383664,
          1.0730080739498964,
          1.076650925601976,
          1.078295481193429,
          1.078295481193429,
          1.0799060977904866,
          1.0802872376810835,
          1.0805096139823758,
          1.0805337369234504,
          1.080740218470555,
          1.0850874556050623,
          1.0869690651919526,
          1.087957745581647,
          1.0881916675924703,
          1.092258999527554,
          1.0925158175238514,
          1.1030286235906566,
          1.1030286235906566,
          1.1034246974350839,
          1.1036854718331335,
          1.104376289112163,
          1.104982766636921,
          1.1058457859190238,
          1.1063213501182982,
          1.1066856151112499,
          1.1088774092320168,
          1.1091495457505665,
          1.1099175519205986,
          1.1105326734433518,
          1.1113883996599572,
          1.1118279120457362,
          1.1122259163878974,
          1.1126065129826253,
          1.1127083526242412,
          1.1157596992670924,
          1.1177520166647925,
          1.119619833268406,
          1.1199255850080423,
          1.1201383848060187,
          1.1270619836188591,
          1.1301274425058163,
          1.1338745846250875,
          1.1434949605111666,
          1.1439845603714294,
          1.1481796166974592,
          1.1490183468906787,
          1.149039524049393,
          1.1514906020154871,
          1.1517034303487703,
          1.1526141793214773,
          1.1528969379684884,
          1.1531318236918024,
          1.1537414119786111,
          1.1539322823809106,
          1.153942827673243,
          1.154859153660193,
          1.1549538725487007,
          1.1550436438419993,
          1.155477781579242,
          1.1557818608492467,
          1.1558909346645123,
          1.1559191903565187,
          1.1562493078633151,
          1.156430614919476,
          1.1565879361490834,
          1.1567923627534935,
          1.157570681806365,
          1.1577036744457694,
          1.1579251680756766,
          1.1582580960156972,
          1.1586275631189384,
          1.1747075849109474,
          1.1748188788583231,
          1.1749150749598003,
          1.17515724804564,
          1.1754583985539273,
          1.1763253081719873,
          1.1763674162496975,
          1.1768101360556975,
          1.1774561889495128,
          1.177811174738379,
          1.1779985283516972,
          1.1783007168718869,
          1.178672065707565,
          1.1792068892523202,
          1.1792789716585081,
          1.1794548412001309,
          1.1797790161288302,
          1.1799666475959418,
          1.1801824758148323,
          1.180592176941563,
          1.1807001548169576,
          1.1807001548169576,
          1.18078042644159,
          1.1808502813760964,
          1.1809572442676277,
          1.1810120236264074,
          1.1812808273835385,
          1.1814596148186483,
          1.1817775439726794,
          1.1817775676002875,
          1.1818546234391383,
          1.1823590112366216,
          1.1824068962724428,
          1.1827012669109946,
          1.1829572621611673,
          1.1856769991651999,
          1.1857889831833992,
          1.186038264229158,
          1.186038264229158,
          1.1861425734024014,
          1.1863117933883411,
          1.1866117166279984,
          1.1867283310989376,
          1.1872460659593695,
          1.1875506498875055,
          1.1876528051788464,
          1.1878597769199142,
          1.1917476573992138,
          1.1920858413923017,
          1.1979237847028075,
          1.1981077306690557,
          1.198233589402727,
          1.198359480938824,
          1.1984869442364703,
          1.1987710954376094,
          1.1988421957390383,
          1.1989752986593787,
          1.1989752986593787,
          1.1992346731018544,
          1.1993609088858852,
          1.199569223173523,
          1.1997069171082866,
          1.2000538720493794,
          1.2002371401370093,
          1.2006850754867493,
          1.200713822072812,
          1.2008543418682829,
          1.200897790911133
         ]
        }
       ],
       "layout": {
        "template": {
         "data": {
          "bar": [
           {
            "error_x": {
             "color": "#2a3f5f"
            },
            "error_y": {
             "color": "#2a3f5f"
            },
            "marker": {
             "line": {
              "color": "#E5ECF6",
              "width": 0.5
             },
             "pattern": {
              "fillmode": "overlay",
              "size": 10,
              "solidity": 0.2
             }
            },
            "type": "bar"
           }
          ],
          "barpolar": [
           {
            "marker": {
             "line": {
              "color": "#E5ECF6",
              "width": 0.5
             },
             "pattern": {
              "fillmode": "overlay",
              "size": 10,
              "solidity": 0.2
             }
            },
            "type": "barpolar"
           }
          ],
          "carpet": [
           {
            "aaxis": {
             "endlinecolor": "#2a3f5f",
             "gridcolor": "white",
             "linecolor": "white",
             "minorgridcolor": "white",
             "startlinecolor": "#2a3f5f"
            },
            "baxis": {
             "endlinecolor": "#2a3f5f",
             "gridcolor": "white",
             "linecolor": "white",
             "minorgridcolor": "white",
             "startlinecolor": "#2a3f5f"
            },
            "type": "carpet"
           }
          ],
          "choropleth": [
           {
            "colorbar": {
             "outlinewidth": 0,
             "ticks": ""
            },
            "type": "choropleth"
           }
          ],
          "contour": [
           {
            "colorbar": {
             "outlinewidth": 0,
             "ticks": ""
            },
            "colorscale": [
             [
              0,
              "#0d0887"
             ],
             [
              0.1111111111111111,
              "#46039f"
             ],
             [
              0.2222222222222222,
              "#7201a8"
             ],
             [
              0.3333333333333333,
              "#9c179e"
             ],
             [
              0.4444444444444444,
              "#bd3786"
             ],
             [
              0.5555555555555556,
              "#d8576b"
             ],
             [
              0.6666666666666666,
              "#ed7953"
             ],
             [
              0.7777777777777778,
              "#fb9f3a"
             ],
             [
              0.8888888888888888,
              "#fdca26"
             ],
             [
              1,
              "#f0f921"
             ]
            ],
            "type": "contour"
           }
          ],
          "contourcarpet": [
           {
            "colorbar": {
             "outlinewidth": 0,
             "ticks": ""
            },
            "type": "contourcarpet"
           }
          ],
          "heatmap": [
           {
            "colorbar": {
             "outlinewidth": 0,
             "ticks": ""
            },
            "colorscale": [
             [
              0,
              "#0d0887"
             ],
             [
              0.1111111111111111,
              "#46039f"
             ],
             [
              0.2222222222222222,
              "#7201a8"
             ],
             [
              0.3333333333333333,
              "#9c179e"
             ],
             [
              0.4444444444444444,
              "#bd3786"
             ],
             [
              0.5555555555555556,
              "#d8576b"
             ],
             [
              0.6666666666666666,
              "#ed7953"
             ],
             [
              0.7777777777777778,
              "#fb9f3a"
             ],
             [
              0.8888888888888888,
              "#fdca26"
             ],
             [
              1,
              "#f0f921"
             ]
            ],
            "type": "heatmap"
           }
          ],
          "heatmapgl": [
           {
            "colorbar": {
             "outlinewidth": 0,
             "ticks": ""
            },
            "colorscale": [
             [
              0,
              "#0d0887"
             ],
             [
              0.1111111111111111,
              "#46039f"
             ],
             [
              0.2222222222222222,
              "#7201a8"
             ],
             [
              0.3333333333333333,
              "#9c179e"
             ],
             [
              0.4444444444444444,
              "#bd3786"
             ],
             [
              0.5555555555555556,
              "#d8576b"
             ],
             [
              0.6666666666666666,
              "#ed7953"
             ],
             [
              0.7777777777777778,
              "#fb9f3a"
             ],
             [
              0.8888888888888888,
              "#fdca26"
             ],
             [
              1,
              "#f0f921"
             ]
            ],
            "type": "heatmapgl"
           }
          ],
          "histogram": [
           {
            "marker": {
             "pattern": {
              "fillmode": "overlay",
              "size": 10,
              "solidity": 0.2
             }
            },
            "type": "histogram"
           }
          ],
          "histogram2d": [
           {
            "colorbar": {
             "outlinewidth": 0,
             "ticks": ""
            },
            "colorscale": [
             [
              0,
              "#0d0887"
             ],
             [
              0.1111111111111111,
              "#46039f"
             ],
             [
              0.2222222222222222,
              "#7201a8"
             ],
             [
              0.3333333333333333,
              "#9c179e"
             ],
             [
              0.4444444444444444,
              "#bd3786"
             ],
             [
              0.5555555555555556,
              "#d8576b"
             ],
             [
              0.6666666666666666,
              "#ed7953"
             ],
             [
              0.7777777777777778,
              "#fb9f3a"
             ],
             [
              0.8888888888888888,
              "#fdca26"
             ],
             [
              1,
              "#f0f921"
             ]
            ],
            "type": "histogram2d"
           }
          ],
          "histogram2dcontour": [
           {
            "colorbar": {
             "outlinewidth": 0,
             "ticks": ""
            },
            "colorscale": [
             [
              0,
              "#0d0887"
             ],
             [
              0.1111111111111111,
              "#46039f"
             ],
             [
              0.2222222222222222,
              "#7201a8"
             ],
             [
              0.3333333333333333,
              "#9c179e"
             ],
             [
              0.4444444444444444,
              "#bd3786"
             ],
             [
              0.5555555555555556,
              "#d8576b"
             ],
             [
              0.6666666666666666,
              "#ed7953"
             ],
             [
              0.7777777777777778,
              "#fb9f3a"
             ],
             [
              0.8888888888888888,
              "#fdca26"
             ],
             [
              1,
              "#f0f921"
             ]
            ],
            "type": "histogram2dcontour"
           }
          ],
          "mesh3d": [
           {
            "colorbar": {
             "outlinewidth": 0,
             "ticks": ""
            },
            "type": "mesh3d"
           }
          ],
          "parcoords": [
           {
            "line": {
             "colorbar": {
              "outlinewidth": 0,
              "ticks": ""
             }
            },
            "type": "parcoords"
           }
          ],
          "pie": [
           {
            "automargin": true,
            "type": "pie"
           }
          ],
          "scatter": [
           {
            "fillpattern": {
             "fillmode": "overlay",
             "size": 10,
             "solidity": 0.2
            },
            "type": "scatter"
           }
          ],
          "scatter3d": [
           {
            "line": {
             "colorbar": {
              "outlinewidth": 0,
              "ticks": ""
             }
            },
            "marker": {
             "colorbar": {
              "outlinewidth": 0,
              "ticks": ""
             }
            },
            "type": "scatter3d"
           }
          ],
          "scattercarpet": [
           {
            "marker": {
             "colorbar": {
              "outlinewidth": 0,
              "ticks": ""
             }
            },
            "type": "scattercarpet"
           }
          ],
          "scattergeo": [
           {
            "marker": {
             "colorbar": {
              "outlinewidth": 0,
              "ticks": ""
             }
            },
            "type": "scattergeo"
           }
          ],
          "scattergl": [
           {
            "marker": {
             "colorbar": {
              "outlinewidth": 0,
              "ticks": ""
             }
            },
            "type": "scattergl"
           }
          ],
          "scattermapbox": [
           {
            "marker": {
             "colorbar": {
              "outlinewidth": 0,
              "ticks": ""
             }
            },
            "type": "scattermapbox"
           }
          ],
          "scatterpolar": [
           {
            "marker": {
             "colorbar": {
              "outlinewidth": 0,
              "ticks": ""
             }
            },
            "type": "scatterpolar"
           }
          ],
          "scatterpolargl": [
           {
            "marker": {
             "colorbar": {
              "outlinewidth": 0,
              "ticks": ""
             }
            },
            "type": "scatterpolargl"
           }
          ],
          "scatterternary": [
           {
            "marker": {
             "colorbar": {
              "outlinewidth": 0,
              "ticks": ""
             }
            },
            "type": "scatterternary"
           }
          ],
          "surface": [
           {
            "colorbar": {
             "outlinewidth": 0,
             "ticks": ""
            },
            "colorscale": [
             [
              0,
              "#0d0887"
             ],
             [
              0.1111111111111111,
              "#46039f"
             ],
             [
              0.2222222222222222,
              "#7201a8"
             ],
             [
              0.3333333333333333,
              "#9c179e"
             ],
             [
              0.4444444444444444,
              "#bd3786"
             ],
             [
              0.5555555555555556,
              "#d8576b"
             ],
             [
              0.6666666666666666,
              "#ed7953"
             ],
             [
              0.7777777777777778,
              "#fb9f3a"
             ],
             [
              0.8888888888888888,
              "#fdca26"
             ],
             [
              1,
              "#f0f921"
             ]
            ],
            "type": "surface"
           }
          ],
          "table": [
           {
            "cells": {
             "fill": {
              "color": "#EBF0F8"
             },
             "line": {
              "color": "white"
             }
            },
            "header": {
             "fill": {
              "color": "#C8D4E3"
             },
             "line": {
              "color": "white"
             }
            },
            "type": "table"
           }
          ]
         },
         "layout": {
          "annotationdefaults": {
           "arrowcolor": "#2a3f5f",
           "arrowhead": 0,
           "arrowwidth": 1
          },
          "autotypenumbers": "strict",
          "coloraxis": {
           "colorbar": {
            "outlinewidth": 0,
            "ticks": ""
           }
          },
          "colorscale": {
           "diverging": [
            [
             0,
             "#8e0152"
            ],
            [
             0.1,
             "#c51b7d"
            ],
            [
             0.2,
             "#de77ae"
            ],
            [
             0.3,
             "#f1b6da"
            ],
            [
             0.4,
             "#fde0ef"
            ],
            [
             0.5,
             "#f7f7f7"
            ],
            [
             0.6,
             "#e6f5d0"
            ],
            [
             0.7,
             "#b8e186"
            ],
            [
             0.8,
             "#7fbc41"
            ],
            [
             0.9,
             "#4d9221"
            ],
            [
             1,
             "#276419"
            ]
           ],
           "sequential": [
            [
             0,
             "#0d0887"
            ],
            [
             0.1111111111111111,
             "#46039f"
            ],
            [
             0.2222222222222222,
             "#7201a8"
            ],
            [
             0.3333333333333333,
             "#9c179e"
            ],
            [
             0.4444444444444444,
             "#bd3786"
            ],
            [
             0.5555555555555556,
             "#d8576b"
            ],
            [
             0.6666666666666666,
             "#ed7953"
            ],
            [
             0.7777777777777778,
             "#fb9f3a"
            ],
            [
             0.8888888888888888,
             "#fdca26"
            ],
            [
             1,
             "#f0f921"
            ]
           ],
           "sequentialminus": [
            [
             0,
             "#0d0887"
            ],
            [
             0.1111111111111111,
             "#46039f"
            ],
            [
             0.2222222222222222,
             "#7201a8"
            ],
            [
             0.3333333333333333,
             "#9c179e"
            ],
            [
             0.4444444444444444,
             "#bd3786"
            ],
            [
             0.5555555555555556,
             "#d8576b"
            ],
            [
             0.6666666666666666,
             "#ed7953"
            ],
            [
             0.7777777777777778,
             "#fb9f3a"
            ],
            [
             0.8888888888888888,
             "#fdca26"
            ],
            [
             1,
             "#f0f921"
            ]
           ]
          },
          "colorway": [
           "#636efa",
           "#EF553B",
           "#00cc96",
           "#ab63fa",
           "#FFA15A",
           "#19d3f3",
           "#FF6692",
           "#B6E880",
           "#FF97FF",
           "#FECB52"
          ],
          "font": {
           "color": "#2a3f5f"
          },
          "geo": {
           "bgcolor": "white",
           "lakecolor": "white",
           "landcolor": "#E5ECF6",
           "showlakes": true,
           "showland": true,
           "subunitcolor": "white"
          },
          "hoverlabel": {
           "align": "left"
          },
          "hovermode": "closest",
          "mapbox": {
           "style": "light"
          },
          "paper_bgcolor": "white",
          "plot_bgcolor": "#E5ECF6",
          "polar": {
           "angularaxis": {
            "gridcolor": "white",
            "linecolor": "white",
            "ticks": ""
           },
           "bgcolor": "#E5ECF6",
           "radialaxis": {
            "gridcolor": "white",
            "linecolor": "white",
            "ticks": ""
           }
          },
          "scene": {
           "xaxis": {
            "backgroundcolor": "#E5ECF6",
            "gridcolor": "white",
            "gridwidth": 2,
            "linecolor": "white",
            "showbackground": true,
            "ticks": "",
            "zerolinecolor": "white"
           },
           "yaxis": {
            "backgroundcolor": "#E5ECF6",
            "gridcolor": "white",
            "gridwidth": 2,
            "linecolor": "white",
            "showbackground": true,
            "ticks": "",
            "zerolinecolor": "white"
           },
           "zaxis": {
            "backgroundcolor": "#E5ECF6",
            "gridcolor": "white",
            "gridwidth": 2,
            "linecolor": "white",
            "showbackground": true,
            "ticks": "",
            "zerolinecolor": "white"
           }
          },
          "shapedefaults": {
           "line": {
            "color": "#2a3f5f"
           }
          },
          "ternary": {
           "aaxis": {
            "gridcolor": "white",
            "linecolor": "white",
            "ticks": ""
           },
           "baxis": {
            "gridcolor": "white",
            "linecolor": "white",
            "ticks": ""
           },
           "bgcolor": "#E5ECF6",
           "caxis": {
            "gridcolor": "white",
            "linecolor": "white",
            "ticks": ""
           }
          },
          "title": {
           "x": 0.05
          },
          "xaxis": {
           "automargin": true,
           "gridcolor": "white",
           "linecolor": "white",
           "ticks": "",
           "title": {
            "standoff": 15
           },
           "zerolinecolor": "white",
           "zerolinewidth": 2
          },
          "yaxis": {
           "automargin": true,
           "gridcolor": "white",
           "linecolor": "white",
           "ticks": "",
           "title": {
            "standoff": 15
           },
           "zerolinecolor": "white",
           "zerolinewidth": 2
          }
         }
        },
        "title": {
         "text": "hypervolume over n_gen"
        },
        "xaxis": {
         "title": {
          "text": "generation"
         }
        },
        "yaxis": {
         "title": {
          "text": "hypervolume"
         }
        }
       }
      }
     },
     "metadata": {},
     "output_type": "display_data"
    }
   ],
   "source": [
    "fig1 = go.Figure()\n",
    "fig1.update_layout(\n",
    "    title=f\"pareto fronts\",\n",
    "    xaxis_title=\"total energy energy consumption\",\n",
    "    yaxis_title=\"avg downlink\")\n",
    "\n",
    "fig0 = go.Figure()\n",
    "fig0.update_layout(\n",
    "    title=f\"pareto fronts normalized\",\n",
    "    xaxis_title=\"total energy energy consumption\",\n",
    "    yaxis_title=\"avg downlink\")\n",
    "\n",
    "##### add paretofronts of all runs\n",
    "for index, pareto_front in enumerate(pareto_fronts):\n",
    "\n",
    "    fig1.add_trace(\n",
    "        go.Scatter(\n",
    "            x=np.array(pareto_front)[:,0],\n",
    "            y=np.array(pareto_front)[:,1],\n",
    "            mode='markers',\n",
    "            name=config_names[index],\n",
    "            )\n",
    "        )\n",
    "    \n",
    "    fig0.add_trace(\n",
    "        go.Scatter(\n",
    "            x=np.array(paretor_fronts_normalized[index])[:,0],\n",
    "            y=np.array(paretor_fronts_normalized[index])[:,1],\n",
    "            mode='markers',\n",
    "            name=config_names[index],\n",
    "            )\n",
    "        )\n",
    "    \n",
    "    i_2 = asf_select(np.array(pareto_front))\n",
    "    fig1.add_trace(\n",
    "    go.Scatter(\n",
    "        x=np.array(pareto_front[i_2][0]),\n",
    "        y=np.array(pareto_front[i_2][1]),\n",
    "        mode='markers',\n",
    "        name= \"asf selection\",\n",
    "        opacity= 0.5,\n",
    "        marker=dict(size=10)\n",
    "        )\n",
    "    )\n",
    "\n",
    "##### add rssi sampling population\n",
    "son = Son(adjacencies_file_name=f\"./datastore/{network_name}/{network_name}_adjacencies.json\", parameter_config_file_name=f\"./datastore/{network_name}/{config_names[0]}/{config_names[0]}.json\")\n",
    "sampling_pop_objecitve_space = create_greedy_rssi_sampling_pop(results_object[\"optimization_objectives\"], son)\n",
    "fig1.add_trace(\n",
    "     go.Scatter(\n",
    "        x=sampling_pop_objecitve_space[:,0],\n",
    "        y=sampling_pop_objecitve_space[:,1],\n",
    "        mode='markers',\n",
    "        name= \"greedy_sampling_pop\",\n",
    "        )\n",
    "    )\n",
    "###### highlight greedy assignment activation profile\n",
    "fig1.add_trace(\n",
    "    go.Scatter(\n",
    "        x=np.array(sampling_pop_objecitve_space[-1][0]),\n",
    "        y=np.array(sampling_pop_objecitve_space[-1][1]),\n",
    "        mode='markers',\n",
    "        name= \"greedy_assignment_profile\",\n",
    "        opacity= 0.5,\n",
    "        marker=dict(size=10)\n",
    "        )\n",
    "    )\n",
    "##### highlight asf selection from rssi_sampling\n",
    "i = asf_select(sampling_pop_objecitve_space)\n",
    "fig1.add_trace(\n",
    "    go.Scatter(\n",
    "        x=np.array(sampling_pop_objecitve_space[i][0]),\n",
    "        y=np.array(sampling_pop_objecitve_space[i][1]),\n",
    "        mode='markers',\n",
    "        name= \"asf selection for greedy_sampling_pop\",\n",
    "        opacity= 0.5,\n",
    "        marker=dict(size=10)\n",
    "        )\n",
    "    )\n",
    "\n",
    "fig2 = go.Figure()\n",
    "fig2.update_layout(\n",
    "    title=\"hypervolume over n_gen\",\n",
    "    xaxis_title=\"generation\",\n",
    "    yaxis_title=\"hypervolume\")\n",
    "\n",
    "for index, hyper_volume_history in enumerate(hyper_volume_histories):\n",
    "    fig2.add_trace(\n",
    "        go.Scatter(\n",
    "            x=list(range(0, len(hyper_volume_history))),\n",
    "            y=hyper_volume_history,\n",
    "            mode='lines',\n",
    "            name=config_names[index],\n",
    "            ))\n",
    "\n",
    "\n",
    "fig1.show()\n",
    "fig0.show()\n",
    "fig2.show()"
   ]
  }
 ],
 "metadata": {
  "kernelspec": {
   "display_name": "Python 3 (ipykernel)",
   "language": "python",
   "name": "python3"
  },
  "language_info": {
   "codemirror_mode": {
    "name": "ipython",
    "version": 3
   },
   "file_extension": ".py",
   "mimetype": "text/x-python",
   "name": "python",
   "nbconvert_exporter": "python",
   "pygments_lexer": "ipython3",
   "version": "3.11.5"
  }
 },
 "nbformat": 4,
 "nbformat_minor": 5
}
