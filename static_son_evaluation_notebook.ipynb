{
 "cells": [
  {
   "cell_type": "code",
   "execution_count": 8,
   "id": "7bc1c4da-f3bc-4a3d-9069-5655b400e7dc",
   "metadata": {},
   "outputs": [],
   "source": [
    "\n",
    "import json\n",
    "import numpy as np\n",
    "from son_main_script import Son\n",
    "from son_pymoo import HighRssiFirstSampling, ObjectiveEnum, SonProblemElementWise\n",
    "from pymoo.decomposition.asf import ASF\n",
    "import plotly.graph_objects as go\n",
    "from pymoo.indicators.hv import Hypervolume\n",
    "\n",
    "def asf_select(objective_space: np.ndarray,\n",
    "                    weights=[]):\n",
    "    \n",
    "    # TODO check if picked solution is from pareto front\n",
    "    approx_ideal = objective_space.min(axis=0)\n",
    "    approx_nadir = objective_space.max(axis=0)\n",
    "\n",
    "    np.seterr(divide='ignore', invalid='ignore')\n",
    "    nF = (objective_space - approx_ideal) / (approx_nadir - approx_ideal)\n",
    "    decomp = ASF()\n",
    "\n",
    "    if len(weights) != objective_space.shape[1]:\n",
    "        weights = [1/objective_space.shape[1] for _ in range(objective_space.shape[1])]\n",
    "\n",
    "    weights_np= np.array(weights)\n",
    "    i = decomp.do(nF, weights_np).argmin()\n",
    "    return i\n",
    "\n",
    "def normalize_objective_space_pop(objective_space_pop: np.ndarray, ideal, nadir):\n",
    "    return (objective_space_pop - ideal) / (nadir - ideal)\n",
    "\n",
    "def create_greedy_rssi_sampling_pop(optimization_objectives: list[str], son: Son):\n",
    "     ###### test HighRssiFirstSampling\n",
    "    son_problem_obj = SonProblemElementWise(optimization_objectives, son)\n",
    "    # create pop with RssiSampling\n",
    "    high_rssi_sampling_obj = HighRssiFirstSampling()\n",
    "    sampling_pop = high_rssi_sampling_obj._do(son_problem_obj, 100)\n",
    "    sampling_pop_objecitve_space = np.empty((100,2))\n",
    "    out = {}\n",
    "    for index, ind in enumerate(sampling_pop):\n",
    "        son_problem_obj._evaluate(ind, out)\n",
    "        sampling_pop_objecitve_space[index]=out[\"F\"]\n",
    "    return sampling_pop_objecitve_space\n",
    "\n",
    "def get_hypervolume(objective_space_pop: np.ndarray, ref_point=None, norm_ref_point=True, zero_to_one=False, ideal=None, nadir=None):\n",
    "    hv = Hypervolume(ref_point=np.array([1.1, 1.1]),\n",
    "                     norm_ref_point=norm_ref_point,\n",
    "                     zero_to_one=zero_to_one,\n",
    "                     ideal=ideal,\n",
    "                     nadir=nadir)\n",
    "    \n",
    "    return hv(objective_space_pop)\n",
    "\n",
    "##################################################################\n",
    "\n",
    "# network_name = \"hetNet2\"\n",
    "# config_names = [\"static600gen_pop200_opff40\", \"static600gen_pop400_off80\"]\n",
    "\n",
    "# config_names= [\"efficiency_static\"]\n",
    "\n",
    "network_name = \"hetNet4\"\n",
    "config_names = [\"static_randomsampling\", \"static_greedysampling\"]\n",
    "# config_names = [\"static_greedysampling2\"]\n",
    "\n",
    "# network_name = \"hetNet4\"\n",
    "# config_names =  [\"static_energyConsumption\"]\n",
    "\n",
    "##################################################################\n",
    "pareto_fronts = []\n",
    "hyper_volume_histories = []\n",
    "\n",
    "for _, config_name in enumerate(config_names):\n",
    "    results_directory = f\"./datastore/{network_name}/{config_name}/\"\n",
    "\n",
    "    results_object = {}\n",
    "    with open(results_directory + \"objectives_result.json\", mode=\"r\",encoding=\"utf-8\") as openfile:\n",
    "            results_object = json.load(openfile)\n",
    "\n",
    "    pareto_fronts.append(results_object[\"objectiveSpace\"])\n",
    "    \n",
    "    hyper_volume_history = []\n",
    "\n",
    "\n",
    "    combined_his = []\n",
    "    for _, current_pop_objectivespace in enumerate(results_object[\"history\"][\"objective_space_opt\"]):\n",
    "         combined_his.append(current_pop_objectivespace[0])\n",
    "\n",
    "    nadir = np.array(combined_his).max(axis=0)\n",
    "    ideal = np.array(combined_his).min(axis=0)\n",
    "         \n",
    "        \n",
    "    for _, current_pop_objectivespace in enumerate(results_object[\"history\"][\"objective_space_opt\"]):\n",
    "        normalized_current_pop = normalize_objective_space_pop(np.array(current_pop_objectivespace), ideal, nadir)\n",
    "        hyper_volume_history.append(get_hypervolume(np.array(normalized_current_pop)))\n",
    "        \n",
    "    hyper_volume_histories.append(hyper_volume_history)"
   ]
  },
  {
   "cell_type": "code",
   "execution_count": 9,
   "id": "7ae4bc69",
   "metadata": {},
   "outputs": [
    {
     "name": "stdout",
     "output_type": "stream",
     "text": [
      "[0.5 0.5]\n"
     ]
    },
    {
     "data": {
      "application/vnd.plotly.v1+json": {
       "config": {
        "plotlyServerURL": "https://plot.ly"
       },
       "data": [
        {
         "mode": "markers",
         "name": "static_randomsampling",
         "type": "scatter",
         "x": [
          -0.2727843264821143,
          -0.2724175479680194,
          -0.27270941435175133
         ],
         "y": [
          -3.536723036514328,
          -3.5452161212305398,
          -3.5374708466028157
         ]
        },
        {
         "mode": "markers",
         "name": "static_greedysampling",
         "type": "scatter",
         "x": [
          -0.2721703361067334,
          -0.27220255591758474,
          -0.2721793449958198,
          -0.27225639698214454
         ],
         "y": [
          -3.5981496795076846,
          -3.5861187363202514,
          -3.5871162678553232,
          -3.582543251069809
         ]
        },
        {
         "mode": "markers",
         "name": "greedy_sampling_pop",
         "type": "scatter",
         "x": [
          -0.17415439411005806,
          -0.165571456536428,
          -0.14360026202319712,
          -0.16147217137804426,
          -0.17440822542398746,
          -0.17341789683419478,
          -0.17096316930283958,
          -0.15947127406942332,
          -0.1655803572168599,
          -0.17465380324379126,
          -0.1686127121573867,
          -0.16177741595150213,
          -0.1680622887727582,
          -0.17008330623017412,
          -0.18007004113656172,
          -0.16546910041187626,
          -0.1622984204177101,
          -0.16349656658150974,
          -0.16444107160727975,
          -0.15303627013962864,
          -0.16068822706960745,
          -0.15893299198789648,
          -0.16985902515616216,
          -0.16103880265505202,
          -0.16121458754814935,
          -0.1659564323172091,
          -0.1653454561810626,
          -0.17078773235736225,
          -0.1607545859900753,
          -0.16107454505733793,
          -0.1529604564197628,
          -0.1664973880264592,
          -0.1672786308605342,
          -0.16628490893801373,
          -0.17119322268753753,
          -0.16370856587932484,
          -0.1611057005049407,
          -0.1590758891668632,
          -0.1659790310575686,
          -0.14046480545049214,
          -0.15317362207926688,
          -0.16008652845983062,
          -0.15833902989513804,
          -0.16722902197498318,
          -0.1637579302594009,
          -0.16600454997957267,
          -0.16957034620353498,
          -0.17224579981385063,
          -0.15378549228081767,
          -0.1757275953619221,
          -0.17015342731448935,
          -0.15681332128012318,
          -0.16010864586750403,
          -0.15464385266525205,
          -0.1611044685610959,
          -0.1655443561231399,
          -0.17010507461509808,
          -0.16499670740290884,
          -0.15530394432738062,
          -0.16130905427536416,
          -0.18693938928224246,
          -0.16717187259377175,
          -0.16000411422151906,
          -0.16815961391071263,
          -0.16180642746751364,
          -0.18128400388521795,
          -0.16906311070638605,
          -0.17205861332835043,
          -0.15799960166553764,
          -0.1635289896514455,
          -0.16586414466954355,
          -0.15221262292701912,
          -0.16844147452340594,
          -0.172525868101255,
          -0.16558414542704333,
          -0.1658774524814526,
          -0.17754624644049896,
          -0.16414616418119532,
          -0.1611191078917495,
          -0.17115197722275682,
          -0.1778998579863261,
          -0.16298452702057753,
          -0.17832017768868652,
          -0.17692459774529393,
          -0.16722958947615557,
          -0.15888718846213584,
          -0.16034040612045047,
          -0.17145938858387974,
          -0.16912586103994987,
          -0.17349293500457091,
          -0.1657741531535693,
          -0.1705466126780533,
          -0.1715334256626697,
          -0.15332168937137516,
          -0.16385075097164897,
          -0.16932954517593934,
          -0.18318162522249778,
          -0.15947775005632084,
          -0.17006033308892005,
          -0.17676133430290422
         ],
         "y": [
          -2.3005785128551675,
          -2.242425777532583,
          -1.9431270660063882,
          -2.1665880307668566,
          -2.2867409024643703,
          -2.303806777497535,
          -2.265090923953015,
          -2.1222323658984106,
          -2.153748237656254,
          -2.327771850784874,
          -2.263704472167727,
          -2.1458750961609843,
          -2.2584139862118677,
          -2.182754182240284,
          -2.3948621373105867,
          -2.245005351749897,
          -2.1881799698627757,
          -2.1862795273830926,
          -2.209986075843423,
          -2.0419948461059936,
          -2.207607742626211,
          -2.240648555625012,
          -2.193527510629726,
          -2.088718407432377,
          -2.170334066210474,
          -2.2016497383448046,
          -2.2491399502080345,
          -2.260827176881226,
          -2.1399760471628277,
          -2.2169399146184876,
          -2.027574535693789,
          -2.2046172430673225,
          -2.076720575023401,
          -2.222086608925658,
          -2.2920249816929363,
          -2.234691237786223,
          -2.139544569596719,
          -2.132070299960617,
          -2.1440498932789525,
          -1.9425075502998232,
          -2.0592280138555523,
          -2.15540209503094,
          -2.1508470216246063,
          -2.2421720129154035,
          -2.210736371037351,
          -2.2460029335449607,
          -2.187576190914262,
          -2.26591238100674,
          -2.090554742712064,
          -2.3353149342291566,
          -2.285231697495425,
          -2.1153668760085544,
          -2.093996130912733,
          -2.0890188748485405,
          -2.165768814290802,
          -2.174378216418206,
          -2.233547921023859,
          -2.270850066771183,
          -2.0950614555065665,
          -2.171976806093347,
          -2.4194805042882326,
          -2.2207128675520305,
          -2.115970447901516,
          -2.256807403851183,
          -2.2392400782515414,
          -2.2861951483198832,
          -2.179280763976659,
          -2.324120372849182,
          -2.031856638603577,
          -2.1984662750725956,
          -2.207036506695658,
          -2.012538590157586,
          -2.1978117757896523,
          -2.2956292724086707,
          -2.276209646458093,
          -2.2073569106730355,
          -2.24264340970973,
          -2.1429451494863287,
          -2.089998388830271,
          -2.253067715074758,
          -2.3466300768687356,
          -2.1855226740863483,
          -2.3658055176946076,
          -2.3288501695937485,
          -2.204763218473602,
          -2.1157974387357483,
          -2.154066856440053,
          -2.323798725756639,
          -2.2965853595413814,
          -2.307911197811734,
          -2.220377220023126,
          -2.225750865356167,
          -2.2786570172054135,
          -2.054013546508187,
          -2.1993263168908235,
          -2.24074243911357,
          -2.398739130387217,
          -2.077649940767767,
          -2.2704524529563876,
          -2.325880786220621
         ]
        },
        {
         "marker": {
          "size": 10
         },
         "mode": "markers",
         "name": "greedy_assignment_profile",
         "opacity": 0.5,
         "type": "scatter",
         "x": [
          -0.17676133430290422
         ],
         "y": [
          -2.325880786220621
         ]
        },
        {
         "marker": {
          "size": 10
         },
         "mode": "markers",
         "name": "asf selection for greedy_sampling_pop",
         "opacity": 0.5,
         "type": "scatter",
         "x": [
          -0.18693938928224246
         ],
         "y": [
          -2.4194805042882326
         ]
        }
       ],
       "layout": {
        "template": {
         "data": {
          "bar": [
           {
            "error_x": {
             "color": "#2a3f5f"
            },
            "error_y": {
             "color": "#2a3f5f"
            },
            "marker": {
             "line": {
              "color": "#E5ECF6",
              "width": 0.5
             },
             "pattern": {
              "fillmode": "overlay",
              "size": 10,
              "solidity": 0.2
             }
            },
            "type": "bar"
           }
          ],
          "barpolar": [
           {
            "marker": {
             "line": {
              "color": "#E5ECF6",
              "width": 0.5
             },
             "pattern": {
              "fillmode": "overlay",
              "size": 10,
              "solidity": 0.2
             }
            },
            "type": "barpolar"
           }
          ],
          "carpet": [
           {
            "aaxis": {
             "endlinecolor": "#2a3f5f",
             "gridcolor": "white",
             "linecolor": "white",
             "minorgridcolor": "white",
             "startlinecolor": "#2a3f5f"
            },
            "baxis": {
             "endlinecolor": "#2a3f5f",
             "gridcolor": "white",
             "linecolor": "white",
             "minorgridcolor": "white",
             "startlinecolor": "#2a3f5f"
            },
            "type": "carpet"
           }
          ],
          "choropleth": [
           {
            "colorbar": {
             "outlinewidth": 0,
             "ticks": ""
            },
            "type": "choropleth"
           }
          ],
          "contour": [
           {
            "colorbar": {
             "outlinewidth": 0,
             "ticks": ""
            },
            "colorscale": [
             [
              0,
              "#0d0887"
             ],
             [
              0.1111111111111111,
              "#46039f"
             ],
             [
              0.2222222222222222,
              "#7201a8"
             ],
             [
              0.3333333333333333,
              "#9c179e"
             ],
             [
              0.4444444444444444,
              "#bd3786"
             ],
             [
              0.5555555555555556,
              "#d8576b"
             ],
             [
              0.6666666666666666,
              "#ed7953"
             ],
             [
              0.7777777777777778,
              "#fb9f3a"
             ],
             [
              0.8888888888888888,
              "#fdca26"
             ],
             [
              1,
              "#f0f921"
             ]
            ],
            "type": "contour"
           }
          ],
          "contourcarpet": [
           {
            "colorbar": {
             "outlinewidth": 0,
             "ticks": ""
            },
            "type": "contourcarpet"
           }
          ],
          "heatmap": [
           {
            "colorbar": {
             "outlinewidth": 0,
             "ticks": ""
            },
            "colorscale": [
             [
              0,
              "#0d0887"
             ],
             [
              0.1111111111111111,
              "#46039f"
             ],
             [
              0.2222222222222222,
              "#7201a8"
             ],
             [
              0.3333333333333333,
              "#9c179e"
             ],
             [
              0.4444444444444444,
              "#bd3786"
             ],
             [
              0.5555555555555556,
              "#d8576b"
             ],
             [
              0.6666666666666666,
              "#ed7953"
             ],
             [
              0.7777777777777778,
              "#fb9f3a"
             ],
             [
              0.8888888888888888,
              "#fdca26"
             ],
             [
              1,
              "#f0f921"
             ]
            ],
            "type": "heatmap"
           }
          ],
          "heatmapgl": [
           {
            "colorbar": {
             "outlinewidth": 0,
             "ticks": ""
            },
            "colorscale": [
             [
              0,
              "#0d0887"
             ],
             [
              0.1111111111111111,
              "#46039f"
             ],
             [
              0.2222222222222222,
              "#7201a8"
             ],
             [
              0.3333333333333333,
              "#9c179e"
             ],
             [
              0.4444444444444444,
              "#bd3786"
             ],
             [
              0.5555555555555556,
              "#d8576b"
             ],
             [
              0.6666666666666666,
              "#ed7953"
             ],
             [
              0.7777777777777778,
              "#fb9f3a"
             ],
             [
              0.8888888888888888,
              "#fdca26"
             ],
             [
              1,
              "#f0f921"
             ]
            ],
            "type": "heatmapgl"
           }
          ],
          "histogram": [
           {
            "marker": {
             "pattern": {
              "fillmode": "overlay",
              "size": 10,
              "solidity": 0.2
             }
            },
            "type": "histogram"
           }
          ],
          "histogram2d": [
           {
            "colorbar": {
             "outlinewidth": 0,
             "ticks": ""
            },
            "colorscale": [
             [
              0,
              "#0d0887"
             ],
             [
              0.1111111111111111,
              "#46039f"
             ],
             [
              0.2222222222222222,
              "#7201a8"
             ],
             [
              0.3333333333333333,
              "#9c179e"
             ],
             [
              0.4444444444444444,
              "#bd3786"
             ],
             [
              0.5555555555555556,
              "#d8576b"
             ],
             [
              0.6666666666666666,
              "#ed7953"
             ],
             [
              0.7777777777777778,
              "#fb9f3a"
             ],
             [
              0.8888888888888888,
              "#fdca26"
             ],
             [
              1,
              "#f0f921"
             ]
            ],
            "type": "histogram2d"
           }
          ],
          "histogram2dcontour": [
           {
            "colorbar": {
             "outlinewidth": 0,
             "ticks": ""
            },
            "colorscale": [
             [
              0,
              "#0d0887"
             ],
             [
              0.1111111111111111,
              "#46039f"
             ],
             [
              0.2222222222222222,
              "#7201a8"
             ],
             [
              0.3333333333333333,
              "#9c179e"
             ],
             [
              0.4444444444444444,
              "#bd3786"
             ],
             [
              0.5555555555555556,
              "#d8576b"
             ],
             [
              0.6666666666666666,
              "#ed7953"
             ],
             [
              0.7777777777777778,
              "#fb9f3a"
             ],
             [
              0.8888888888888888,
              "#fdca26"
             ],
             [
              1,
              "#f0f921"
             ]
            ],
            "type": "histogram2dcontour"
           }
          ],
          "mesh3d": [
           {
            "colorbar": {
             "outlinewidth": 0,
             "ticks": ""
            },
            "type": "mesh3d"
           }
          ],
          "parcoords": [
           {
            "line": {
             "colorbar": {
              "outlinewidth": 0,
              "ticks": ""
             }
            },
            "type": "parcoords"
           }
          ],
          "pie": [
           {
            "automargin": true,
            "type": "pie"
           }
          ],
          "scatter": [
           {
            "fillpattern": {
             "fillmode": "overlay",
             "size": 10,
             "solidity": 0.2
            },
            "type": "scatter"
           }
          ],
          "scatter3d": [
           {
            "line": {
             "colorbar": {
              "outlinewidth": 0,
              "ticks": ""
             }
            },
            "marker": {
             "colorbar": {
              "outlinewidth": 0,
              "ticks": ""
             }
            },
            "type": "scatter3d"
           }
          ],
          "scattercarpet": [
           {
            "marker": {
             "colorbar": {
              "outlinewidth": 0,
              "ticks": ""
             }
            },
            "type": "scattercarpet"
           }
          ],
          "scattergeo": [
           {
            "marker": {
             "colorbar": {
              "outlinewidth": 0,
              "ticks": ""
             }
            },
            "type": "scattergeo"
           }
          ],
          "scattergl": [
           {
            "marker": {
             "colorbar": {
              "outlinewidth": 0,
              "ticks": ""
             }
            },
            "type": "scattergl"
           }
          ],
          "scattermapbox": [
           {
            "marker": {
             "colorbar": {
              "outlinewidth": 0,
              "ticks": ""
             }
            },
            "type": "scattermapbox"
           }
          ],
          "scatterpolar": [
           {
            "marker": {
             "colorbar": {
              "outlinewidth": 0,
              "ticks": ""
             }
            },
            "type": "scatterpolar"
           }
          ],
          "scatterpolargl": [
           {
            "marker": {
             "colorbar": {
              "outlinewidth": 0,
              "ticks": ""
             }
            },
            "type": "scatterpolargl"
           }
          ],
          "scatterternary": [
           {
            "marker": {
             "colorbar": {
              "outlinewidth": 0,
              "ticks": ""
             }
            },
            "type": "scatterternary"
           }
          ],
          "surface": [
           {
            "colorbar": {
             "outlinewidth": 0,
             "ticks": ""
            },
            "colorscale": [
             [
              0,
              "#0d0887"
             ],
             [
              0.1111111111111111,
              "#46039f"
             ],
             [
              0.2222222222222222,
              "#7201a8"
             ],
             [
              0.3333333333333333,
              "#9c179e"
             ],
             [
              0.4444444444444444,
              "#bd3786"
             ],
             [
              0.5555555555555556,
              "#d8576b"
             ],
             [
              0.6666666666666666,
              "#ed7953"
             ],
             [
              0.7777777777777778,
              "#fb9f3a"
             ],
             [
              0.8888888888888888,
              "#fdca26"
             ],
             [
              1,
              "#f0f921"
             ]
            ],
            "type": "surface"
           }
          ],
          "table": [
           {
            "cells": {
             "fill": {
              "color": "#EBF0F8"
             },
             "line": {
              "color": "white"
             }
            },
            "header": {
             "fill": {
              "color": "#C8D4E3"
             },
             "line": {
              "color": "white"
             }
            },
            "type": "table"
           }
          ]
         },
         "layout": {
          "annotationdefaults": {
           "arrowcolor": "#2a3f5f",
           "arrowhead": 0,
           "arrowwidth": 1
          },
          "autotypenumbers": "strict",
          "coloraxis": {
           "colorbar": {
            "outlinewidth": 0,
            "ticks": ""
           }
          },
          "colorscale": {
           "diverging": [
            [
             0,
             "#8e0152"
            ],
            [
             0.1,
             "#c51b7d"
            ],
            [
             0.2,
             "#de77ae"
            ],
            [
             0.3,
             "#f1b6da"
            ],
            [
             0.4,
             "#fde0ef"
            ],
            [
             0.5,
             "#f7f7f7"
            ],
            [
             0.6,
             "#e6f5d0"
            ],
            [
             0.7,
             "#b8e186"
            ],
            [
             0.8,
             "#7fbc41"
            ],
            [
             0.9,
             "#4d9221"
            ],
            [
             1,
             "#276419"
            ]
           ],
           "sequential": [
            [
             0,
             "#0d0887"
            ],
            [
             0.1111111111111111,
             "#46039f"
            ],
            [
             0.2222222222222222,
             "#7201a8"
            ],
            [
             0.3333333333333333,
             "#9c179e"
            ],
            [
             0.4444444444444444,
             "#bd3786"
            ],
            [
             0.5555555555555556,
             "#d8576b"
            ],
            [
             0.6666666666666666,
             "#ed7953"
            ],
            [
             0.7777777777777778,
             "#fb9f3a"
            ],
            [
             0.8888888888888888,
             "#fdca26"
            ],
            [
             1,
             "#f0f921"
            ]
           ],
           "sequentialminus": [
            [
             0,
             "#0d0887"
            ],
            [
             0.1111111111111111,
             "#46039f"
            ],
            [
             0.2222222222222222,
             "#7201a8"
            ],
            [
             0.3333333333333333,
             "#9c179e"
            ],
            [
             0.4444444444444444,
             "#bd3786"
            ],
            [
             0.5555555555555556,
             "#d8576b"
            ],
            [
             0.6666666666666666,
             "#ed7953"
            ],
            [
             0.7777777777777778,
             "#fb9f3a"
            ],
            [
             0.8888888888888888,
             "#fdca26"
            ],
            [
             1,
             "#f0f921"
            ]
           ]
          },
          "colorway": [
           "#636efa",
           "#EF553B",
           "#00cc96",
           "#ab63fa",
           "#FFA15A",
           "#19d3f3",
           "#FF6692",
           "#B6E880",
           "#FF97FF",
           "#FECB52"
          ],
          "font": {
           "color": "#2a3f5f"
          },
          "geo": {
           "bgcolor": "white",
           "lakecolor": "white",
           "landcolor": "#E5ECF6",
           "showlakes": true,
           "showland": true,
           "subunitcolor": "white"
          },
          "hoverlabel": {
           "align": "left"
          },
          "hovermode": "closest",
          "mapbox": {
           "style": "light"
          },
          "paper_bgcolor": "white",
          "plot_bgcolor": "#E5ECF6",
          "polar": {
           "angularaxis": {
            "gridcolor": "white",
            "linecolor": "white",
            "ticks": ""
           },
           "bgcolor": "#E5ECF6",
           "radialaxis": {
            "gridcolor": "white",
            "linecolor": "white",
            "ticks": ""
           }
          },
          "scene": {
           "xaxis": {
            "backgroundcolor": "#E5ECF6",
            "gridcolor": "white",
            "gridwidth": 2,
            "linecolor": "white",
            "showbackground": true,
            "ticks": "",
            "zerolinecolor": "white"
           },
           "yaxis": {
            "backgroundcolor": "#E5ECF6",
            "gridcolor": "white",
            "gridwidth": 2,
            "linecolor": "white",
            "showbackground": true,
            "ticks": "",
            "zerolinecolor": "white"
           },
           "zaxis": {
            "backgroundcolor": "#E5ECF6",
            "gridcolor": "white",
            "gridwidth": 2,
            "linecolor": "white",
            "showbackground": true,
            "ticks": "",
            "zerolinecolor": "white"
           }
          },
          "shapedefaults": {
           "line": {
            "color": "#2a3f5f"
           }
          },
          "ternary": {
           "aaxis": {
            "gridcolor": "white",
            "linecolor": "white",
            "ticks": ""
           },
           "baxis": {
            "gridcolor": "white",
            "linecolor": "white",
            "ticks": ""
           },
           "bgcolor": "#E5ECF6",
           "caxis": {
            "gridcolor": "white",
            "linecolor": "white",
            "ticks": ""
           }
          },
          "title": {
           "x": 0.05
          },
          "xaxis": {
           "automargin": true,
           "gridcolor": "white",
           "linecolor": "white",
           "ticks": "",
           "title": {
            "standoff": 15
           },
           "zerolinecolor": "white",
           "zerolinewidth": 2
          },
          "yaxis": {
           "automargin": true,
           "gridcolor": "white",
           "linecolor": "white",
           "ticks": "",
           "title": {
            "standoff": 15
           },
           "zerolinecolor": "white",
           "zerolinewidth": 2
          }
         }
        },
        "title": {
         "text": "pareto fronts"
        },
        "xaxis": {
         "title": {
          "text": "total energy energy consumption"
         }
        },
        "yaxis": {
         "title": {
          "text": "avg downlink"
         }
        }
       }
      }
     },
     "metadata": {},
     "output_type": "display_data"
    },
    {
     "data": {
      "application/vnd.plotly.v1+json": {
       "config": {
        "plotlyServerURL": "https://plot.ly"
       },
       "data": [
        {
         "mode": "lines",
         "name": "static_randomsampling",
         "type": "scatter",
         "x": [
          0,
          1,
          2,
          3,
          4,
          5,
          6,
          7,
          8,
          9,
          10,
          11,
          12,
          13,
          14,
          15,
          16,
          17,
          18,
          19,
          20,
          21,
          22,
          23,
          24,
          25,
          26,
          27,
          28,
          29,
          30,
          31,
          32,
          33,
          34,
          35,
          36,
          37,
          38,
          39,
          40,
          41,
          42,
          43,
          44,
          45,
          46,
          47,
          48,
          49,
          50,
          51,
          52,
          53,
          54,
          55,
          56,
          57,
          58,
          59,
          60,
          61,
          62,
          63,
          64,
          65,
          66,
          67,
          68,
          69,
          70,
          71,
          72,
          73,
          74,
          75,
          76,
          77,
          78,
          79,
          80,
          81,
          82,
          83,
          84,
          85,
          86,
          87,
          88,
          89,
          90,
          91,
          92,
          93,
          94,
          95,
          96,
          97,
          98,
          99,
          100,
          101,
          102,
          103,
          104,
          105,
          106,
          107,
          108,
          109,
          110,
          111,
          112,
          113,
          114,
          115,
          116,
          117,
          118,
          119,
          120,
          121,
          122,
          123,
          124,
          125,
          126,
          127,
          128,
          129,
          130,
          131,
          132,
          133,
          134,
          135,
          136,
          137,
          138,
          139,
          140,
          141,
          142,
          143,
          144,
          145,
          146,
          147,
          148,
          149,
          150,
          151,
          152,
          153,
          154,
          155,
          156,
          157,
          158,
          159,
          160,
          161,
          162,
          163,
          164,
          165,
          166,
          167,
          168,
          169,
          170,
          171,
          172,
          173,
          174,
          175,
          176,
          177,
          178,
          179,
          180,
          181,
          182,
          183,
          184,
          185,
          186,
          187,
          188,
          189,
          190,
          191,
          192,
          193,
          194,
          195,
          196,
          197,
          198,
          199,
          200,
          201,
          202,
          203,
          204,
          205,
          206,
          207,
          208,
          209,
          210,
          211,
          212,
          213,
          214,
          215,
          216,
          217,
          218,
          219,
          220,
          221,
          222,
          223,
          224,
          225,
          226,
          227,
          228,
          229,
          230,
          231,
          232,
          233,
          234,
          235,
          236,
          237,
          238,
          239,
          240,
          241,
          242,
          243,
          244,
          245,
          246,
          247,
          248,
          249,
          250,
          251,
          252,
          253,
          254,
          255,
          256,
          257,
          258,
          259,
          260,
          261,
          262,
          263,
          264,
          265,
          266,
          267,
          268,
          269,
          270,
          271,
          272,
          273,
          274,
          275,
          276,
          277,
          278,
          279,
          280,
          281,
          282,
          283,
          284,
          285,
          286,
          287,
          288,
          289,
          290,
          291,
          292,
          293,
          294,
          295,
          296,
          297,
          298,
          299
         ],
         "y": [
          0.010000000000000018,
          0.035577896219516285,
          0.04070217704301155,
          0.04070217704301155,
          0.04070217704301155,
          0.04070217704301155,
          0.050807827530252765,
          0.050807827530252765,
          0.050807827530252765,
          0.050807827530252765,
          0.05096496579009839,
          0.06943763133990051,
          0.06943763133990051,
          0.06947178794418594,
          0.06947178794418594,
          0.10713483909712217,
          0.10713483909712217,
          0.10713483909712217,
          0.10713483909712217,
          0.11528747794834014,
          0.11528747794834014,
          0.11528747794834014,
          0.1169081172076085,
          0.1169081172076085,
          0.1169081172076085,
          0.14586636932150912,
          0.14586636932150912,
          0.14586636932150912,
          0.14586636932150912,
          0.14586636932150912,
          0.14586636932150912,
          0.17638002384162532,
          0.1796179855659344,
          0.1796179855659344,
          0.1796179855659344,
          0.1796179855659344,
          0.18726863077374245,
          0.18726863077374245,
          0.18726863077374245,
          0.20314315583854017,
          0.20314315583854017,
          0.20361480705848592,
          0.20361480705848592,
          0.20361480705848592,
          0.20361480705848592,
          0.20390714238364785,
          0.20390714238364785,
          0.20390714238364785,
          0.20390714238364785,
          0.20390714238364785,
          0.20390714238364785,
          0.20486706819800388,
          0.20486706819800388,
          0.21622609369134405,
          0.24821803180450222,
          0.24821803180450222,
          0.24821803180450222,
          0.24821803180450222,
          0.24821803180450222,
          0.25173930390157734,
          0.25173930390157734,
          0.25173930390157734,
          0.25173930390157734,
          0.25173930390157734,
          0.25173930390157734,
          0.25173930390157734,
          0.25173930390157734,
          0.25173930390157734,
          0.2584929610982573,
          0.2584929610982573,
          0.2584929610982573,
          0.2584929610982573,
          0.25849396363050864,
          0.25849396363050864,
          0.25849396363050864,
          0.25849396363050864,
          0.2923347132215831,
          0.36171004325428663,
          0.36171004325428663,
          0.36171004325428663,
          0.36171004325428663,
          0.36171004325428663,
          0.36171004325428663,
          0.36171004325428663,
          0.36171004325428663,
          0.4013081609713019,
          0.4013081609713019,
          0.4013081609713019,
          0.4026148404248559,
          0.41953272927844654,
          0.42055606227233616,
          0.42055606227233616,
          0.42055606227233616,
          0.42055606227233616,
          0.42055606227233616,
          0.42055606227233616,
          0.42055606227233616,
          0.42055606227233616,
          0.42055606227233616,
          0.4896100172468535,
          0.4896100172468535,
          0.4896100172468535,
          0.4896100172468535,
          0.4896100172468535,
          0.49650802139690653,
          0.49650802139690653,
          0.49650802139690653,
          0.49650802139690653,
          0.49650802139690653,
          0.49650802139690653,
          0.49651654834060927,
          0.49651654834060927,
          0.49651654834060927,
          0.49651654834060927,
          0.49651654834060927,
          0.49651654834060927,
          0.49651654834060927,
          0.49651654834060927,
          0.5029965881252598,
          0.5029965881252598,
          0.5029965881252598,
          0.5029965881252598,
          0.5029965881252598,
          0.5029965881252598,
          0.5030223809936191,
          0.503238488505186,
          0.507818606109137,
          0.5078760771107117,
          0.5180716651643571,
          0.5180761997417488,
          0.552623087246895,
          0.5541405833782063,
          0.5541405833782063,
          0.558025362611434,
          0.558025362611434,
          0.5610302871330224,
          0.5610697775399068,
          0.5610697775399068,
          0.6387606653372447,
          0.6387606653372447,
          0.6387860572883647,
          0.6387860572883647,
          0.6387860572883647,
          0.6387860572883647,
          0.6423349213994525,
          0.6441053247553432,
          0.6441053247553432,
          0.6441053247553432,
          0.6441053247553432,
          0.6441053247553432,
          0.6451096587934576,
          0.6451096587934576,
          0.6633055605083056,
          0.6637304841867347,
          0.6637304841867347,
          0.6649418590713881,
          0.6649418590713881,
          0.6649418590713881,
          0.6649418590713881,
          0.6705268419355439,
          0.6851585095833062,
          0.6928912845305255,
          0.6928912845305255,
          0.7291107945285403,
          0.7291107945285403,
          0.7330420452747617,
          0.7330420452747617,
          0.7416009073529075,
          0.747015708789627,
          0.7471519053341036,
          0.7613778730889323,
          0.7613778730889323,
          0.7717812997811923,
          0.7793686125550233,
          0.7793686125550233,
          0.7952805690959915,
          0.7952805690959915,
          0.7960915642936052,
          0.7983661823052314,
          0.7983661823052314,
          0.8073829339756975,
          0.8073829339756975,
          0.8073829339756975,
          0.8074116333592878,
          0.8379538130175159,
          0.8379538130175159,
          0.8463919158625216,
          0.8571115020999094,
          0.8571115020999094,
          0.8571115020999094,
          0.8571115020999094,
          0.8571115020999094,
          0.8719983092013367,
          0.8721248705217632,
          0.8780989536013819,
          0.8862393883913697,
          0.886244879801265,
          0.8879638792177648,
          0.8881116959453009,
          0.889950570253005,
          0.9047625565060144,
          0.9047625565060144,
          0.9053110742841751,
          0.9074225011696753,
          0.9177257992283693,
          0.9278393762818199,
          0.9280990391480842,
          0.9280990391480842,
          0.9353399548523093,
          0.9353399548523093,
          0.9475987247245017,
          0.9475987247245017,
          0.9477034205368121,
          0.9477072747546611,
          0.9478079192635434,
          0.9478239714526742,
          0.9669506262059739,
          0.967010010591856,
          0.9670591973805858,
          0.9788528400322454,
          0.9790294658746733,
          0.9792989960158528,
          0.9792989960158528,
          0.9793265543664108,
          0.9830290864726683,
          0.9830290864726683,
          0.9920256727050429,
          0.9920256727050429,
          0.9953255380282534,
          0.9953268492301542,
          0.9953275010968711,
          1.0083412054751941,
          1.0083412054751941,
          1.0083412054751941,
          1.008348763086171,
          1.008348763086171,
          1.008348763086171,
          1.0124517313183932,
          1.0139310401386454,
          1.0222219254294824,
          1.0222219254294824,
          1.0222219254294824,
          1.0350728120194315,
          1.0363998958392853,
          1.0483641758848588,
          1.05013381195606,
          1.05013381195606,
          1.0553015267799997,
          1.0553603620862588,
          1.0553603620862588,
          1.0555614870482104,
          1.0555822067928666,
          1.0664505754591247,
          1.068845424446196,
          1.068845424446196,
          1.068845424446196,
          1.0688557509480376,
          1.068855824314306,
          1.068859614259988,
          1.0749374030148087,
          1.0832560102636353,
          1.0832560102636353,
          1.0993522097860369,
          1.1086836175516352,
          1.109108507048523,
          1.1217382977174968,
          1.1217382977174968,
          1.127621877339941,
          1.1352265834064341,
          1.1406135789637735,
          1.1431090100321895,
          1.1431117819658896,
          1.1431117819658896,
          1.1467862031261662,
          1.157399391101327,
          1.1574072717215578,
          1.1574072717215578,
          1.1575191076410014,
          1.1623242404641452,
          1.1623328979314915,
          1.1623328979314915,
          1.1688074757466937,
          1.1697075658004432,
          1.1697076715021064,
          1.1697076715021064,
          1.1697076715021064,
          1.1745432746985804,
          1.1797676166667852,
          1.1810715285792424,
          1.1822445265514232,
          1.1822558045427167,
          1.1878748655228628,
          1.192059428720436,
          1.2053799123223417,
          1.2053799123223417,
          1.2099212589210318,
          1.20997340659994,
          1.20997340659994,
          1.2118393055542787,
          1.2118414159902573
         ]
        },
        {
         "mode": "lines",
         "name": "static_greedysampling",
         "type": "scatter",
         "x": [
          0,
          1,
          2,
          3,
          4,
          5,
          6,
          7,
          8,
          9,
          10,
          11,
          12,
          13,
          14,
          15,
          16,
          17,
          18,
          19,
          20,
          21,
          22,
          23,
          24,
          25,
          26,
          27,
          28,
          29,
          30,
          31,
          32,
          33,
          34,
          35,
          36,
          37,
          38,
          39,
          40,
          41,
          42,
          43,
          44,
          45,
          46,
          47,
          48,
          49,
          50,
          51,
          52,
          53,
          54,
          55,
          56,
          57,
          58,
          59,
          60,
          61,
          62,
          63,
          64,
          65,
          66,
          67,
          68,
          69,
          70,
          71,
          72,
          73,
          74,
          75,
          76,
          77,
          78,
          79,
          80,
          81,
          82,
          83,
          84,
          85,
          86,
          87,
          88,
          89,
          90,
          91,
          92,
          93,
          94,
          95,
          96,
          97,
          98,
          99,
          100,
          101,
          102,
          103,
          104,
          105,
          106,
          107,
          108,
          109,
          110,
          111,
          112,
          113,
          114,
          115,
          116,
          117,
          118,
          119,
          120,
          121,
          122,
          123,
          124,
          125,
          126,
          127,
          128,
          129,
          130,
          131,
          132,
          133,
          134,
          135,
          136,
          137,
          138,
          139,
          140,
          141,
          142,
          143,
          144,
          145,
          146,
          147,
          148,
          149,
          150,
          151,
          152,
          153,
          154,
          155,
          156,
          157,
          158,
          159,
          160,
          161,
          162,
          163,
          164,
          165,
          166,
          167,
          168,
          169,
          170,
          171,
          172,
          173,
          174,
          175,
          176,
          177,
          178,
          179,
          180,
          181,
          182,
          183,
          184,
          185,
          186,
          187,
          188,
          189,
          190,
          191,
          192,
          193,
          194,
          195,
          196,
          197,
          198,
          199,
          200,
          201,
          202,
          203,
          204,
          205,
          206,
          207,
          208,
          209,
          210,
          211,
          212,
          213,
          214,
          215,
          216,
          217,
          218,
          219,
          220,
          221,
          222,
          223,
          224,
          225,
          226,
          227,
          228,
          229,
          230,
          231,
          232,
          233,
          234,
          235,
          236,
          237,
          238,
          239,
          240,
          241,
          242,
          243,
          244,
          245,
          246,
          247,
          248,
          249,
          250,
          251,
          252,
          253,
          254,
          255,
          256,
          257,
          258,
          259,
          260,
          261,
          262,
          263,
          264,
          265,
          266,
          267,
          268,
          269,
          270,
          271,
          272,
          273,
          274,
          275,
          276,
          277,
          278,
          279,
          280,
          281,
          282,
          283,
          284,
          285,
          286,
          287,
          288,
          289,
          290,
          291,
          292,
          293,
          294,
          295,
          296,
          297,
          298,
          299
         ],
         "y": [
          0.010000000000000018,
          0.010000000000000018,
          0.010592590299005066,
          0.010890267187529877,
          0.010890267187529877,
          0.0222882215777777,
          0.0222882215777777,
          0.0222882215777777,
          0.0222882215777777,
          0.0222882215777777,
          0.026706138367558526,
          0.026706138367558526,
          0.026706138367558526,
          0.026706138367558526,
          0.026706138367558526,
          0.026727664774827162,
          0.027494139943923586,
          0.027494139943923586,
          0.04993788597339541,
          0.08672943445419723,
          0.08672943445419723,
          0.08672943445419723,
          0.08672943445419723,
          0.08672943445419723,
          0.08672943445419723,
          0.08672943445419723,
          0.08672943445419723,
          0.08672943445419723,
          0.08672943445419723,
          0.08672943445419723,
          0.09439275070508986,
          0.11181480331502204,
          0.11181480331502204,
          0.11585264781229065,
          0.11585264781229065,
          0.1301021893983879,
          0.1301021893983879,
          0.1301021893983879,
          0.1301021893983879,
          0.14104289294537278,
          0.148451692489894,
          0.15087241465706758,
          0.15087241465706758,
          0.15145857885371783,
          0.16049927478221315,
          0.16049927478221315,
          0.16049927478221315,
          0.20554470525442436,
          0.20554470525442436,
          0.2056264533802599,
          0.2056264533802599,
          0.2056264533802599,
          0.2103010852410816,
          0.21788209321575164,
          0.21788209321575164,
          0.2507109651167012,
          0.2507109651167012,
          0.2507109651167012,
          0.2906545124040662,
          0.2906545124040662,
          0.2906545124040662,
          0.2906545124040662,
          0.2906545124040662,
          0.2906545124040662,
          0.3136479547508911,
          0.3136479547508911,
          0.3136479547508911,
          0.3205386350253912,
          0.3255971287281337,
          0.3255971287281337,
          0.3255971287281337,
          0.3391960765667232,
          0.3391960765667232,
          0.3669795701377045,
          0.40560725112413437,
          0.40560725112413437,
          0.4558263942006971,
          0.4558263942006971,
          0.4558263942006971,
          0.4558263942006971,
          0.4558263942006971,
          0.4791218449859289,
          0.4791218449859289,
          0.5031039474179775,
          0.5031039474179775,
          0.5031039474179775,
          0.5031039474179775,
          0.5031039474179775,
          0.5046137579347175,
          0.5671416631792057,
          0.5671416631792057,
          0.5671416631792057,
          0.5751164320555883,
          0.5751164320555883,
          0.5751164320555883,
          0.5751164320555883,
          0.5919733754535627,
          0.5920253992863025,
          0.6013039309983162,
          0.6013039309983162,
          0.6336005824996972,
          0.6336005824996972,
          0.6380556192530874,
          0.6380556192530874,
          0.6380725118820109,
          0.6491642068718843,
          0.6491642068718843,
          0.6491642068718843,
          0.6491642068718843,
          0.6595533674786807,
          0.6595533674786807,
          0.6634405373942841,
          0.6775542111671066,
          0.6932679744207138,
          0.7017062082107062,
          0.7179263770986909,
          0.7253439311738891,
          0.7253544335888138,
          0.726477790701728,
          0.726477790701728,
          0.726481616311747,
          0.7294492373511875,
          0.729470363403482,
          0.729470363403482,
          0.7577049335062577,
          0.7684589842067197,
          0.7684589842067197,
          0.7684589842067197,
          0.7684589842067197,
          0.7684589842067197,
          0.7684589842067197,
          0.7684589842067197,
          0.7684589842067197,
          0.7764954187825315,
          0.7764954187825315,
          0.7764954187825315,
          0.7839385568345761,
          0.7858475916842144,
          0.7858475916842144,
          0.7858475916842144,
          0.7891972572347915,
          0.7891972572347915,
          0.7894748472530286,
          0.8026916175286041,
          0.8095162034418907,
          0.8122676816500123,
          0.838904222678678,
          0.838904222678678,
          0.838904222678678,
          0.838904222678678,
          0.838904222678678,
          0.8749533515224975,
          0.8749533515224975,
          0.8749533515224975,
          0.8772353574804546,
          0.8772353574804546,
          0.8772353574804546,
          0.8772353574804546,
          0.901740382325077,
          0.9069375727497432,
          0.9069375727497432,
          0.9069375727497432,
          0.9069375727497432,
          0.9089144058601035,
          0.9089144058601035,
          0.914945827798952,
          0.914947126343939,
          0.9299956892370125,
          0.9299956892370125,
          0.9299956892370125,
          0.9445967007362913,
          0.9445967007362913,
          0.9445967007362913,
          0.9532268086621792,
          0.9542177185694096,
          0.9595634526388014,
          0.974382491658734,
          0.974382491658734,
          0.974382491658734,
          0.9744430480080598,
          0.9744430480080598,
          0.9761152369465323,
          0.9761152369465323,
          0.9761671456921895,
          0.9761706553436343,
          0.9809399220203058,
          0.9809399220203058,
          0.9922445455362725,
          0.9927496349751417,
          0.9927496349751417,
          0.9963547115520107,
          0.9963574375939966,
          1.009654112743649,
          1.0191618872313126,
          1.019168912569993,
          1.0284557204194966,
          1.0286049035937752,
          1.0286049035937752,
          1.0286151323455808,
          1.028647267986831,
          1.0311490064361548,
          1.0311509168959923,
          1.0311558495642164,
          1.0350988995166768,
          1.0380326110301967,
          1.0415979348467879,
          1.0415979348467879,
          1.064330698774797,
          1.064330698774797,
          1.0789135039002706,
          1.0811394739449018,
          1.082404380901693,
          1.0830372289510264,
          1.083564703457975,
          1.083564703457975,
          1.083564703457975,
          1.083564703457975,
          1.0894156481997606,
          1.0901437868514658,
          1.0910001637856384,
          1.099916593319462,
          1.1009493365617256,
          1.1009493365617256,
          1.1009493905360113,
          1.1009592396873578,
          1.1016697760390182,
          1.1063762375575945,
          1.1079272363905992,
          1.1079272363905992,
          1.1082930036038199,
          1.1082930036038199,
          1.1086191518495556,
          1.1086319240585913,
          1.1091958497067962,
          1.1275120749924699,
          1.1285279852521413,
          1.1285645852876243,
          1.130065010162406,
          1.1325595058977647,
          1.132590937707273,
          1.133070789281708,
          1.1330863437089298,
          1.1360103828870076,
          1.1360103828870076,
          1.1360103828870076,
          1.1474058359737718,
          1.1474058359737718,
          1.1524691223562011,
          1.1524691354027488,
          1.1524691354027488,
          1.15248526657799,
          1.15248526657799,
          1.1524919130645004,
          1.1524962464556503,
          1.1525273747990794,
          1.1604971162784479,
          1.1618416553039457,
          1.1654985455086726,
          1.1655285502538255,
          1.1655398329060196,
          1.1692291075883883,
          1.1692545084724721,
          1.1753346002282083,
          1.1753346002282083,
          1.1753346002282083,
          1.1791310322253328,
          1.1791310322253328,
          1.1833288106906885,
          1.1833288106906885,
          1.1833288106906885,
          1.1833311060980876,
          1.1833311060980876,
          1.1833311795119248,
          1.1899934092361029,
          1.1900066626963608,
          1.1900218584955733,
          1.1900422174784802,
          1.192459151807449,
          1.1924646260408838,
          1.1924646260408838,
          1.1924646260408838,
          1.1957341384417526,
          1.1974305360835176,
          1.1974705824422565,
          1.1983862234117404,
          1.1983870471209184,
          1.198399562954613,
          1.2007823476321904,
          1.2007823476321904,
          1.2034348979465592,
          1.203441027689722,
          1.203441027689722,
          1.2041744167749777,
          1.2041744167749777,
          1.2059695004179125,
          1.2059918835807075,
          1.2071721586870108,
          1.2104323855317416,
          1.2104323855317416,
          1.2111525760221444
         ]
        }
       ],
       "layout": {
        "template": {
         "data": {
          "bar": [
           {
            "error_x": {
             "color": "#2a3f5f"
            },
            "error_y": {
             "color": "#2a3f5f"
            },
            "marker": {
             "line": {
              "color": "#E5ECF6",
              "width": 0.5
             },
             "pattern": {
              "fillmode": "overlay",
              "size": 10,
              "solidity": 0.2
             }
            },
            "type": "bar"
           }
          ],
          "barpolar": [
           {
            "marker": {
             "line": {
              "color": "#E5ECF6",
              "width": 0.5
             },
             "pattern": {
              "fillmode": "overlay",
              "size": 10,
              "solidity": 0.2
             }
            },
            "type": "barpolar"
           }
          ],
          "carpet": [
           {
            "aaxis": {
             "endlinecolor": "#2a3f5f",
             "gridcolor": "white",
             "linecolor": "white",
             "minorgridcolor": "white",
             "startlinecolor": "#2a3f5f"
            },
            "baxis": {
             "endlinecolor": "#2a3f5f",
             "gridcolor": "white",
             "linecolor": "white",
             "minorgridcolor": "white",
             "startlinecolor": "#2a3f5f"
            },
            "type": "carpet"
           }
          ],
          "choropleth": [
           {
            "colorbar": {
             "outlinewidth": 0,
             "ticks": ""
            },
            "type": "choropleth"
           }
          ],
          "contour": [
           {
            "colorbar": {
             "outlinewidth": 0,
             "ticks": ""
            },
            "colorscale": [
             [
              0,
              "#0d0887"
             ],
             [
              0.1111111111111111,
              "#46039f"
             ],
             [
              0.2222222222222222,
              "#7201a8"
             ],
             [
              0.3333333333333333,
              "#9c179e"
             ],
             [
              0.4444444444444444,
              "#bd3786"
             ],
             [
              0.5555555555555556,
              "#d8576b"
             ],
             [
              0.6666666666666666,
              "#ed7953"
             ],
             [
              0.7777777777777778,
              "#fb9f3a"
             ],
             [
              0.8888888888888888,
              "#fdca26"
             ],
             [
              1,
              "#f0f921"
             ]
            ],
            "type": "contour"
           }
          ],
          "contourcarpet": [
           {
            "colorbar": {
             "outlinewidth": 0,
             "ticks": ""
            },
            "type": "contourcarpet"
           }
          ],
          "heatmap": [
           {
            "colorbar": {
             "outlinewidth": 0,
             "ticks": ""
            },
            "colorscale": [
             [
              0,
              "#0d0887"
             ],
             [
              0.1111111111111111,
              "#46039f"
             ],
             [
              0.2222222222222222,
              "#7201a8"
             ],
             [
              0.3333333333333333,
              "#9c179e"
             ],
             [
              0.4444444444444444,
              "#bd3786"
             ],
             [
              0.5555555555555556,
              "#d8576b"
             ],
             [
              0.6666666666666666,
              "#ed7953"
             ],
             [
              0.7777777777777778,
              "#fb9f3a"
             ],
             [
              0.8888888888888888,
              "#fdca26"
             ],
             [
              1,
              "#f0f921"
             ]
            ],
            "type": "heatmap"
           }
          ],
          "heatmapgl": [
           {
            "colorbar": {
             "outlinewidth": 0,
             "ticks": ""
            },
            "colorscale": [
             [
              0,
              "#0d0887"
             ],
             [
              0.1111111111111111,
              "#46039f"
             ],
             [
              0.2222222222222222,
              "#7201a8"
             ],
             [
              0.3333333333333333,
              "#9c179e"
             ],
             [
              0.4444444444444444,
              "#bd3786"
             ],
             [
              0.5555555555555556,
              "#d8576b"
             ],
             [
              0.6666666666666666,
              "#ed7953"
             ],
             [
              0.7777777777777778,
              "#fb9f3a"
             ],
             [
              0.8888888888888888,
              "#fdca26"
             ],
             [
              1,
              "#f0f921"
             ]
            ],
            "type": "heatmapgl"
           }
          ],
          "histogram": [
           {
            "marker": {
             "pattern": {
              "fillmode": "overlay",
              "size": 10,
              "solidity": 0.2
             }
            },
            "type": "histogram"
           }
          ],
          "histogram2d": [
           {
            "colorbar": {
             "outlinewidth": 0,
             "ticks": ""
            },
            "colorscale": [
             [
              0,
              "#0d0887"
             ],
             [
              0.1111111111111111,
              "#46039f"
             ],
             [
              0.2222222222222222,
              "#7201a8"
             ],
             [
              0.3333333333333333,
              "#9c179e"
             ],
             [
              0.4444444444444444,
              "#bd3786"
             ],
             [
              0.5555555555555556,
              "#d8576b"
             ],
             [
              0.6666666666666666,
              "#ed7953"
             ],
             [
              0.7777777777777778,
              "#fb9f3a"
             ],
             [
              0.8888888888888888,
              "#fdca26"
             ],
             [
              1,
              "#f0f921"
             ]
            ],
            "type": "histogram2d"
           }
          ],
          "histogram2dcontour": [
           {
            "colorbar": {
             "outlinewidth": 0,
             "ticks": ""
            },
            "colorscale": [
             [
              0,
              "#0d0887"
             ],
             [
              0.1111111111111111,
              "#46039f"
             ],
             [
              0.2222222222222222,
              "#7201a8"
             ],
             [
              0.3333333333333333,
              "#9c179e"
             ],
             [
              0.4444444444444444,
              "#bd3786"
             ],
             [
              0.5555555555555556,
              "#d8576b"
             ],
             [
              0.6666666666666666,
              "#ed7953"
             ],
             [
              0.7777777777777778,
              "#fb9f3a"
             ],
             [
              0.8888888888888888,
              "#fdca26"
             ],
             [
              1,
              "#f0f921"
             ]
            ],
            "type": "histogram2dcontour"
           }
          ],
          "mesh3d": [
           {
            "colorbar": {
             "outlinewidth": 0,
             "ticks": ""
            },
            "type": "mesh3d"
           }
          ],
          "parcoords": [
           {
            "line": {
             "colorbar": {
              "outlinewidth": 0,
              "ticks": ""
             }
            },
            "type": "parcoords"
           }
          ],
          "pie": [
           {
            "automargin": true,
            "type": "pie"
           }
          ],
          "scatter": [
           {
            "fillpattern": {
             "fillmode": "overlay",
             "size": 10,
             "solidity": 0.2
            },
            "type": "scatter"
           }
          ],
          "scatter3d": [
           {
            "line": {
             "colorbar": {
              "outlinewidth": 0,
              "ticks": ""
             }
            },
            "marker": {
             "colorbar": {
              "outlinewidth": 0,
              "ticks": ""
             }
            },
            "type": "scatter3d"
           }
          ],
          "scattercarpet": [
           {
            "marker": {
             "colorbar": {
              "outlinewidth": 0,
              "ticks": ""
             }
            },
            "type": "scattercarpet"
           }
          ],
          "scattergeo": [
           {
            "marker": {
             "colorbar": {
              "outlinewidth": 0,
              "ticks": ""
             }
            },
            "type": "scattergeo"
           }
          ],
          "scattergl": [
           {
            "marker": {
             "colorbar": {
              "outlinewidth": 0,
              "ticks": ""
             }
            },
            "type": "scattergl"
           }
          ],
          "scattermapbox": [
           {
            "marker": {
             "colorbar": {
              "outlinewidth": 0,
              "ticks": ""
             }
            },
            "type": "scattermapbox"
           }
          ],
          "scatterpolar": [
           {
            "marker": {
             "colorbar": {
              "outlinewidth": 0,
              "ticks": ""
             }
            },
            "type": "scatterpolar"
           }
          ],
          "scatterpolargl": [
           {
            "marker": {
             "colorbar": {
              "outlinewidth": 0,
              "ticks": ""
             }
            },
            "type": "scatterpolargl"
           }
          ],
          "scatterternary": [
           {
            "marker": {
             "colorbar": {
              "outlinewidth": 0,
              "ticks": ""
             }
            },
            "type": "scatterternary"
           }
          ],
          "surface": [
           {
            "colorbar": {
             "outlinewidth": 0,
             "ticks": ""
            },
            "colorscale": [
             [
              0,
              "#0d0887"
             ],
             [
              0.1111111111111111,
              "#46039f"
             ],
             [
              0.2222222222222222,
              "#7201a8"
             ],
             [
              0.3333333333333333,
              "#9c179e"
             ],
             [
              0.4444444444444444,
              "#bd3786"
             ],
             [
              0.5555555555555556,
              "#d8576b"
             ],
             [
              0.6666666666666666,
              "#ed7953"
             ],
             [
              0.7777777777777778,
              "#fb9f3a"
             ],
             [
              0.8888888888888888,
              "#fdca26"
             ],
             [
              1,
              "#f0f921"
             ]
            ],
            "type": "surface"
           }
          ],
          "table": [
           {
            "cells": {
             "fill": {
              "color": "#EBF0F8"
             },
             "line": {
              "color": "white"
             }
            },
            "header": {
             "fill": {
              "color": "#C8D4E3"
             },
             "line": {
              "color": "white"
             }
            },
            "type": "table"
           }
          ]
         },
         "layout": {
          "annotationdefaults": {
           "arrowcolor": "#2a3f5f",
           "arrowhead": 0,
           "arrowwidth": 1
          },
          "autotypenumbers": "strict",
          "coloraxis": {
           "colorbar": {
            "outlinewidth": 0,
            "ticks": ""
           }
          },
          "colorscale": {
           "diverging": [
            [
             0,
             "#8e0152"
            ],
            [
             0.1,
             "#c51b7d"
            ],
            [
             0.2,
             "#de77ae"
            ],
            [
             0.3,
             "#f1b6da"
            ],
            [
             0.4,
             "#fde0ef"
            ],
            [
             0.5,
             "#f7f7f7"
            ],
            [
             0.6,
             "#e6f5d0"
            ],
            [
             0.7,
             "#b8e186"
            ],
            [
             0.8,
             "#7fbc41"
            ],
            [
             0.9,
             "#4d9221"
            ],
            [
             1,
             "#276419"
            ]
           ],
           "sequential": [
            [
             0,
             "#0d0887"
            ],
            [
             0.1111111111111111,
             "#46039f"
            ],
            [
             0.2222222222222222,
             "#7201a8"
            ],
            [
             0.3333333333333333,
             "#9c179e"
            ],
            [
             0.4444444444444444,
             "#bd3786"
            ],
            [
             0.5555555555555556,
             "#d8576b"
            ],
            [
             0.6666666666666666,
             "#ed7953"
            ],
            [
             0.7777777777777778,
             "#fb9f3a"
            ],
            [
             0.8888888888888888,
             "#fdca26"
            ],
            [
             1,
             "#f0f921"
            ]
           ],
           "sequentialminus": [
            [
             0,
             "#0d0887"
            ],
            [
             0.1111111111111111,
             "#46039f"
            ],
            [
             0.2222222222222222,
             "#7201a8"
            ],
            [
             0.3333333333333333,
             "#9c179e"
            ],
            [
             0.4444444444444444,
             "#bd3786"
            ],
            [
             0.5555555555555556,
             "#d8576b"
            ],
            [
             0.6666666666666666,
             "#ed7953"
            ],
            [
             0.7777777777777778,
             "#fb9f3a"
            ],
            [
             0.8888888888888888,
             "#fdca26"
            ],
            [
             1,
             "#f0f921"
            ]
           ]
          },
          "colorway": [
           "#636efa",
           "#EF553B",
           "#00cc96",
           "#ab63fa",
           "#FFA15A",
           "#19d3f3",
           "#FF6692",
           "#B6E880",
           "#FF97FF",
           "#FECB52"
          ],
          "font": {
           "color": "#2a3f5f"
          },
          "geo": {
           "bgcolor": "white",
           "lakecolor": "white",
           "landcolor": "#E5ECF6",
           "showlakes": true,
           "showland": true,
           "subunitcolor": "white"
          },
          "hoverlabel": {
           "align": "left"
          },
          "hovermode": "closest",
          "mapbox": {
           "style": "light"
          },
          "paper_bgcolor": "white",
          "plot_bgcolor": "#E5ECF6",
          "polar": {
           "angularaxis": {
            "gridcolor": "white",
            "linecolor": "white",
            "ticks": ""
           },
           "bgcolor": "#E5ECF6",
           "radialaxis": {
            "gridcolor": "white",
            "linecolor": "white",
            "ticks": ""
           }
          },
          "scene": {
           "xaxis": {
            "backgroundcolor": "#E5ECF6",
            "gridcolor": "white",
            "gridwidth": 2,
            "linecolor": "white",
            "showbackground": true,
            "ticks": "",
            "zerolinecolor": "white"
           },
           "yaxis": {
            "backgroundcolor": "#E5ECF6",
            "gridcolor": "white",
            "gridwidth": 2,
            "linecolor": "white",
            "showbackground": true,
            "ticks": "",
            "zerolinecolor": "white"
           },
           "zaxis": {
            "backgroundcolor": "#E5ECF6",
            "gridcolor": "white",
            "gridwidth": 2,
            "linecolor": "white",
            "showbackground": true,
            "ticks": "",
            "zerolinecolor": "white"
           }
          },
          "shapedefaults": {
           "line": {
            "color": "#2a3f5f"
           }
          },
          "ternary": {
           "aaxis": {
            "gridcolor": "white",
            "linecolor": "white",
            "ticks": ""
           },
           "baxis": {
            "gridcolor": "white",
            "linecolor": "white",
            "ticks": ""
           },
           "bgcolor": "#E5ECF6",
           "caxis": {
            "gridcolor": "white",
            "linecolor": "white",
            "ticks": ""
           }
          },
          "title": {
           "x": 0.05
          },
          "xaxis": {
           "automargin": true,
           "gridcolor": "white",
           "linecolor": "white",
           "ticks": "",
           "title": {
            "standoff": 15
           },
           "zerolinecolor": "white",
           "zerolinewidth": 2
          },
          "yaxis": {
           "automargin": true,
           "gridcolor": "white",
           "linecolor": "white",
           "ticks": "",
           "title": {
            "standoff": 15
           },
           "zerolinecolor": "white",
           "zerolinewidth": 2
          }
         }
        },
        "title": {
         "text": "hypervolume over n_gen"
        },
        "xaxis": {
         "title": {
          "text": "generation"
         }
        },
        "yaxis": {
         "title": {
          "text": "hypervolume"
         }
        }
       }
      }
     },
     "metadata": {},
     "output_type": "display_data"
    }
   ],
   "source": [
    "fig1 = go.Figure()\n",
    "fig1.update_layout(\n",
    "    title=f\"pareto fronts\",\n",
    "    xaxis_title=\"total energy energy consumption\",\n",
    "    yaxis_title=\"avg downlink\")\n",
    "\n",
    "##### add paretofronts of all runs\n",
    "for index, pareto_front in enumerate(pareto_fronts):\n",
    "    fig1.add_trace(\n",
    "        go.Scatter(\n",
    "            x=np.array(pareto_front)[:,0],\n",
    "            y=np.array(pareto_front)[:,1],\n",
    "            mode='markers',\n",
    "            name=config_names[index],\n",
    "            )\n",
    "        )\n",
    "\n",
    "##### add rssi sampling population\n",
    "son = Son(adjacencies_file_name=f\"./datastore/{network_name}/{network_name}_adjacencies.json\", parameter_config_file_name=f\"./datastore/{network_name}/{config_names[0]}/{config_names[0]}.json\")\n",
    "sampling_pop_objecitve_space = create_greedy_rssi_sampling_pop(results_object[\"optimization_objectives\"], son)\n",
    "fig1.add_trace(\n",
    "     go.Scatter(\n",
    "        x=sampling_pop_objecitve_space[:,0],\n",
    "        y=sampling_pop_objecitve_space[:,1],\n",
    "        mode='markers',\n",
    "        name= \"greedy_sampling_pop\",\n",
    "        )\n",
    "    )\n",
    "###### highlight greedy assignment activation profile\n",
    "fig1.add_trace(\n",
    "    go.Scatter(\n",
    "        x=np.array(sampling_pop_objecitve_space[-1][0]),\n",
    "        y=np.array(sampling_pop_objecitve_space[-1][1]),\n",
    "        mode='markers',\n",
    "        name= \"greedy_assignment_profile\",\n",
    "        opacity= 0.5,\n",
    "        marker=dict(size=10)\n",
    "        )\n",
    "    )\n",
    "##### highlight asf selection from rssi_sampling\n",
    "i = asf_select(sampling_pop_objecitve_space)\n",
    "fig1.add_trace(\n",
    "    go.Scatter(\n",
    "        x=np.array(sampling_pop_objecitve_space[i][0]),\n",
    "        y=np.array(sampling_pop_objecitve_space[i][1]),\n",
    "        mode='markers',\n",
    "        name= \"asf selection for greedy_sampling_pop\",\n",
    "        opacity= 0.5,\n",
    "        marker=dict(size=10)\n",
    "        )\n",
    "    )\n",
    "\n",
    "fig2 = go.Figure()\n",
    "fig2.update_layout(\n",
    "    title=\"hypervolume over n_gen\",\n",
    "    xaxis_title=\"generation\",\n",
    "    yaxis_title=\"hypervolume\")\n",
    "\n",
    "for index, hyper_volume_history in enumerate(hyper_volume_histories):\n",
    "    fig2.add_trace(\n",
    "        go.Scatter(\n",
    "            x=list(range(0, len(hyper_volume_history))),\n",
    "            y=hyper_volume_history,\n",
    "            mode='lines',\n",
    "            name=config_names[index],\n",
    "            ))\n",
    "\n",
    "\n",
    "fig1.show()\n",
    "fig2.show()"
   ]
  }
 ],
 "metadata": {
  "kernelspec": {
   "display_name": "Python 3 (ipykernel)",
   "language": "python",
   "name": "python3"
  },
  "language_info": {
   "codemirror_mode": {
    "name": "ipython",
    "version": 3
   },
   "file_extension": ".py",
   "mimetype": "text/x-python",
   "name": "python",
   "nbconvert_exporter": "python",
   "pygments_lexer": "ipython3",
   "version": "3.11.5"
  }
 },
 "nbformat": 4,
 "nbformat_minor": 5
}
