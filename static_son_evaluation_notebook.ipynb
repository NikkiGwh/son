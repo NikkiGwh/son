{
 "cells": [
  {
   "cell_type": "code",
   "execution_count": 59,
   "id": "7bc1c4da-f3bc-4a3d-9069-5655b400e7dc",
   "metadata": {},
   "outputs": [],
   "source": [
    "\n",
    "import json\n",
    "import numpy as np\n",
    "from son_main_script import Son\n",
    "from son_pymoo import HammingDistanceSampling, HighRssiFirstSampling, SonProblemElementWise\n",
    "from pymoo.decomposition.asf import ASF\n",
    "import plotly.graph_objects as go\n",
    "from pymoo.indicators.hv import Hypervolume\n",
    "import matplotlib.pyplot as plt\n",
    "import scipy.stats\n",
    "from pltyCon.plotly_templates import load_templates\n",
    "from PyPDF2 import PdfWriter, PdfReader \n",
    "import glob\n",
    "import os\n",
    "\n",
    "template_one_diagram = \"oscilloscope+TH--2-3-TH\"\n",
    "greedy_color= \"black\"\n",
    "evo_color= \"blue\"\n",
    "lineWidth = 1\n",
    "\n",
    "loaded_dpi = load_templates(\n",
    "    # base_width_in_px=400,\n",
    "    dpi=96\n",
    ")\n",
    "\n",
    "def asf_select(objective_space: np.ndarray,\n",
    "                    weights=[]):\n",
    "\n",
    "    approx_ideal = objective_space.min(axis=0)\n",
    "    approx_nadir = objective_space.max(axis=0)\n",
    "\n",
    "    np.seterr(divide='ignore', invalid='ignore')\n",
    "    nF = (objective_space - approx_ideal) / (approx_nadir - approx_ideal)\n",
    "    decomp = ASF()\n",
    "\n",
    "    if len(weights) != objective_space.shape[1]:\n",
    "        weights = [1/objective_space.shape[1] for _ in range(objective_space.shape[1])]\n",
    "\n",
    "    weights_np= np.array(weights)\n",
    "    i = decomp.do(nF, weights_np).argmin()\n",
    "    return i\n",
    "\n",
    "def normalize_objective_space_pop(objective_space_pop: np.ndarray, ideal, nadir):\n",
    "    return (objective_space_pop - ideal) / (nadir - ideal)\n",
    "\n",
    "def create_greedy_rssi_sampling_pop(optimization_objectives: list[str], son: Son):\n",
    "     ###### test HighRssiFirstSampling\n",
    "    \n",
    "    son_problem_obj = SonProblemElementWise(optimization_objectives, son)\n",
    "    # create pop with RssiSampling\n",
    "    high_rssi_sampling_obj = HighRssiFirstSampling()\n",
    "\n",
    "    sampling_pop = high_rssi_sampling_obj._do(son_problem_obj, 100)\n",
    "    sampling_pop_objecitve_space = np.empty((100,len(optimization_objectives)))\n",
    "    out = {}\n",
    "    for index, ind in enumerate(sampling_pop):\n",
    "        son_problem_obj._evaluate(ind, out)\n",
    "        sampling_pop_objecitve_space[index]=out[\"F\"]\n",
    "    return sampling_pop_objecitve_space\n",
    "\n",
    "def create_hamming_distance_sampling_pop(optimization_objectives: list[str], son: Son):\n",
    "     ###### test HighRssiFirstSampling\n",
    "    \n",
    "    son_problem_obj = SonProblemElementWise(optimization_objectives, son)\n",
    "    # create pop with RssiSampling\n",
    "    hamming_sampling_obj = HammingDistanceSampling()\n",
    "\n",
    "    sampling_pop = hamming_sampling_obj._do(son_problem_obj, 100)\n",
    "    sampling_pop_objecitve_space = np.empty((100,len(optimization_objectives)))\n",
    "    out = {}\n",
    "    for index, ind in enumerate(sampling_pop):\n",
    "        son_problem_obj._evaluate(ind, out)\n",
    "        sampling_pop_objecitve_space[index]=out[\"F\"]\n",
    "    return sampling_pop_objecitve_space\n",
    "\n",
    "def get_hypervolume(objective_space_pop: np.ndarray, ref_point=np.array([1.1, 1.1]), norm_ref_point=False, zero_to_one=False, ideal=None, nadir=None):\n",
    "    hv = Hypervolume(ref_point=ref_point,\n",
    "                     norm_ref_point=norm_ref_point,\n",
    "                     zero_to_one=zero_to_one,\n",
    "                     ideal=ideal,\n",
    "                     nadir=nadir)\n",
    "    \n",
    "    return hv(objective_space_pop)\n",
    "def remove_blank_page(directory_path:str):\n",
    "\n",
    "    pdf_files = glob.glob(os.path.join(directory_path, '*.pdf'))\n",
    "    for pdf_file in pdf_files:\n",
    "        infile = PdfReader(pdf_file)\n",
    "\n",
    "        outfile = PdfWriter()\n",
    "        pdfPage = infile.pages[0]\n",
    "        outfile.add_page(pdfPage)\n",
    "\n",
    "        with open(pdf_file, \"wb\") as f:\n",
    "            outfile.write(f) \n",
    "\n",
    "##################################################################\n",
    "\n",
    "\n",
    "\n",
    "# network_name = \"het_C50_MP100_1,2_250\"\n",
    "network_name = \"het_C50_MP30_1,2_250\"\n",
    "config_names = [ \"static\"]\n",
    "\n",
    "\n",
    "\n",
    "##################################################################\n",
    "pareto_fronts = []\n",
    "paretor_fronts_normalized = []\n",
    "hyper_volume_histories = []\n",
    "combined_his = [] ## -> combine all objective result in one array (used only for normalization)\n",
    "nadir = np.array([])\n",
    "ideal = np.array([])\n",
    "son = Son(adjacencies_file_name=f\"./datastore/{network_name}/{network_name}_adjacencies.json\", parameter_config_file_name=f\"./datastore/{network_name}/{config_names[0]}/{config_names[0]}.json\")\n",
    "\n",
    "\n",
    "### find  nadir and ideal points for normalization over all experiments\n",
    "for _, config_name in enumerate(config_names):\n",
    "    results_directory = f\"./datastore/{network_name}/{config_name}/\"\n",
    "\n",
    "    with open(results_directory + \"objectives_result.json\", mode=\"r\",encoding=\"utf-8\") as openfile:\n",
    "        results_object = json.load(openfile)\n",
    "\n",
    "        for _, current_pop_objectivespace in enumerate(results_object[\"history\"][\"objective_space_opt\"]):\n",
    "            for _, current_ind in enumerate(current_pop_objectivespace):\n",
    "                combined_his.append(list(np.array(current_ind)[0:2]))\n",
    "        \n",
    "        # jo = np.array(results_object[\"objectiveSpace\"])[:,0:2]\n",
    "        # for _, current_ind in enumerate(jo):\n",
    "        #     combined_his.append(list(current_ind))\n",
    "\n",
    "sampling_pop_objecitve_space = create_greedy_rssi_sampling_pop(results_object[\"optimization_objectives\"], son)\n",
    "# hamming_distance_sampling_pop_objecitve_space = create_hamming_distance_sampling_pop(results_object[\"optimization_objectives\"], son)\n",
    "\n",
    "# sampling_pop_objecitve_space = sampling_pop_objecitve_space[-1::]\n",
    "\n",
    "\n",
    "\n",
    "for index, current_ind in enumerate(sampling_pop_objecitve_space):\n",
    "    combined_his.append(list(current_ind))\n",
    "    # combined_his.append(list(hamming_distance_sampling_pop_objecitve_space[index]))\n",
    "\n",
    "\n",
    "nadir = np.array(combined_his).max(axis=0)\n",
    "ideal = np.array(combined_his).min(axis=0)\n",
    "\n",
    "sampling_pop_objecitve_space_normalized = normalize_objective_space_pop(sampling_pop_objecitve_space, ideal, nadir)\n",
    "# hamming_distance_sampling_pop_objecitve_space_normalized = normalize_objective_space_pop(hamming_distance_sampling_pop_objecitve_space, ideal, nadir)\n",
    "\n",
    "### collect paretorfronts, hypervolumes, normalized paretorfronts per experiment\n",
    "for _, config_name in enumerate(config_names):\n",
    "    results_directory = f\"./datastore/{network_name}/{config_name}/\"\n",
    "\n",
    "    \n",
    "    with open(results_directory + \"objectives_result.json\", mode=\"r\",encoding=\"utf-8\") as openfile:\n",
    "        results_object = json.load(openfile)\n",
    "\n",
    "        pareto_fronts.append(np.array(results_object[\"objectiveSpace\"])[:,0:2])\n",
    "        paretor_fronts_normalized.append(normalize_objective_space_pop(np.array(results_object[\"objectiveSpace\"])[:,0:2], ideal, nadir))\n",
    "        hyper_volume_history = []\n",
    "            \n",
    "        for _, current_pop_objectivespace in enumerate(results_object[\"history\"][\"objective_space_opt\"]):\n",
    "            normalized_current_pop = normalize_objective_space_pop(np.array(current_pop_objectivespace)[:,0:2], ideal, nadir)\n",
    "            hyper_volume_history.append(get_hypervolume(np.array(normalized_current_pop)))\n",
    "        \n",
    "    hyper_volume_histories.append(hyper_volume_history)"
   ]
  },
  {
   "cell_type": "code",
   "execution_count": 60,
   "id": "7ae4bc69",
   "metadata": {},
   "outputs": [
    {
     "data": {
      "application/vnd.plotly.v1+json": {
       "config": {
        "plotlyServerURL": "https://plot.ly"
       },
       "data": [
        {
         "line": {
          "color": "blue"
         },
         "mode": "markers",
         "name": "static",
         "type": "scatter",
         "x": [
          0,
          0.16358732698518094,
          0.058349813163281965,
          0.046679862228299965,
          0.19866648851108512,
          0.1343431409267676,
          0.011669950934982,
          0.15775232227350394,
          0.09342897468918616,
          0.17525727792016293,
          0.005834975467490866,
          0.0992639501566773,
          0.08175902375420416,
          0.20450146397857627,
          0.052514837695790836,
          0.12850813621509063,
          0.1694223024526718,
          0.12267316074759949,
          0.04084485751662298,
          0.02333993111414985,
          0.017504926402472865,
          0.03500988204913185,
          0.08759399922169529,
          0.029174906581640982
         ],
         "y": [
          0.2774043475549042,
          0.018237099110976915,
          0.09591238226032342,
          0.11786905754727627,
          0.004996992468680577,
          0.03259069771235958,
          0.21940080333264061,
          0.03209209832725814,
          0.06207744100834655,
          0.006686915922879313,
          0.2558734172038797,
          0.04876853742613128,
          0.08415545274231556,
          0,
          0.11007167189511172,
          0.03866372269200555,
          0.016087833248731424,
          0.047510162164281965,
          0.12826756893547867,
          0.1793696958976592,
          0.19733115858277533,
          0.14515849041321655,
          0.07234387193605084,
          0.16215026166941002
         ]
        },
        {
         "mode": "markers",
         "name": "asf selection",
         "type": "scatter",
         "x": [
          0.058349813163281965
         ],
         "y": [
          0.09591238226032342
         ]
        },
        {
         "mode": "markers",
         "name": "greedy_sampling_pop",
         "type": "scatter",
         "x": [
          0.8761975750077546,
          0.8810818219864867,
          0.9268695610748888,
          0.9902421801704473,
          0.9887707881931043,
          0.9156802968261488,
          0.8932617915263273,
          0.873265435936794,
          0.8231034684745187,
          0.8547697749990341,
          0.9215152722936399,
          0.867430460469303,
          0.7753636214783457,
          0.909335302753799,
          0.9327445133447215,
          0.8917903995489843,
          0.9405209518362585,
          0.9327445133447215,
          1,
          0.9439337775934612,
          0.9249281272950288,
          0.8659590684919601,
          0.8898489365249385,
          0.9098453213586579,
          0.8776689669850979,
          0.9054417610661679,
          0.8499255048226441,
          0.951750163643154,
          0.9644108198692369,
          0.7957713842773487,
          0.9044510557750672,
          0.9073832240902141,
          0.9161903154310075,
          0.9507594583520533,
          0.9644108198692369,
          0.9166710021172497,
          0.8567112380230801,
          0.875206869716654,
          0.8352834380143596,
          0.8459626836582407,
          0.9283409530522317,
          0.8450119551694816,
          0.9249574592136454,
          0.8990967669938185,
          0.9283409530522317,
          0.8737754545416528,
          0.8723440101224657,
          0.8859554240814935,
          0.8796104300091437,
          0.9541723133534421,
          0.8781789855899564,
          0.865008310759015,
          0.9454051695708044,
          0.8990967669938185,
          0.9351666338108235,
          0.9356766524156822,
          0.8898489365249385,
          0.8966746465277164,
          0.9385794888122124,
          0.9142089048488059,
          0.8766782616939969,
          0.8694118418073186,
          0.9697651378946719,
          0.900597490889778,
          0.9419923145694153,
          0.8279876862090646,
          0.908854616067557,
          0.9263994900281857,
          0.82259344986966,
          0.8133456194007801,
          0.9283409530522317,
          0.8830232557663467,
          0.8610854371527672,
          0.9210345856073977,
          0.9644108198692369,
          0.8021163783496985,
          0.9346859471245813,
          0.8411184134818505,
          0.9283409530522317,
          0.8567112380230801,
          0.9800036444104666,
          0.9215152722936399,
          0.9259188325861297,
          0.8484247809266845,
          0.9268695610748888,
          0.909335302753799,
          0.9351666338108235,
          0.9454051695708044,
          0.9561137471333021,
          0.8956839412366154,
          0.9268695610748888,
          0.9336952418334806,
          0.8698525809354051,
          0.9868293251690584,
          0.918102446536437,
          0.8703625995402637,
          0.865488997445257,
          0.8806011353002446,
          0.8386669318529456,
          0.8518270202885342
         ],
         "y": [
          0.8001891714663277,
          0.9587654015726825,
          0.7845098842668023,
          0.8806010110958896,
          0.7821463266973278,
          0.8589576935999437,
          0.8408116837050241,
          0.8284954536187273,
          0.9307179820646136,
          0.8002542873269219,
          0.8034226518146025,
          0.8345406033667134,
          0.9281946192137656,
          0.933704051292341,
          0.8944080991200214,
          0.7818813254054631,
          0.8319143529453998,
          0.8590330529152967,
          0.8204736961339066,
          0.8223306414320223,
          0.8277372254326897,
          0.792749167376369,
          0.8404234052697838,
          0.8259178461381075,
          0.839151711877726,
          0.8111088647415549,
          0.8773595096645421,
          0.8471376026326028,
          0.848749852747441,
          0.9120938414603004,
          0.8212593270010369,
          0.788169522238074,
          0.7858021438683518,
          0.8348136097718667,
          0.8674857970349746,
          0.8891416225223653,
          0.8197295438189303,
          0.7478028089717632,
          0.866736875681323,
          0.7895209254539123,
          0.8747296303847152,
          0.8883915583945047,
          0.733936354481004,
          0.8365205801693866,
          0.8169435826953627,
          0.8058173235094392,
          0.8818548716462262,
          0.7799779015545822,
          0.8009504883550592,
          0.780389826607309,
          0.8942759742810124,
          0.8893971476036348,
          0.8462666504216845,
          0.7990622457274111,
          0.8545940131589629,
          0.8338292754678583,
          0.8231944878947186,
          0.9199371034577635,
          0.8604572210611028,
          0.8579975639403806,
          0.8741724946060827,
          0.9274054800853943,
          0.7962077900832629,
          0.8706148322131266,
          0.8708334307583201,
          0.9906301907458036,
          0.9128078981044339,
          0.95255710900429,
          0.9514097016274312,
          0.8997873873994968,
          0.8342888189175156,
          0.8139857942000164,
          0.8586326587660522,
          0.795005905679372,
          0.84830082658564,
          0.8330616252758367,
          0.7545327491977308,
          0.8071692041857738,
          0.8951715472239209,
          0.7965010519059675,
          0.8312744364464865,
          0.8023243057124936,
          0.8415316855029991,
          0.9125773091776532,
          0.7265422113356594,
          0.9313321588732261,
          0.8434993545742193,
          0.9201511587569416,
          0.8393262954654093,
          0.8436214172467104,
          0.7525858956264185,
          0.7932109311617865,
          0.8717695228853788,
          0.8999822116044598,
          0.826374840783783,
          0.8162355789946352,
          1,
          0.8528711139147317,
          0.9431408142231061,
          0.3391977758996587
         ]
        },
        {
         "line": {
          "color": "black"
         },
         "mode": "markers",
         "name": "greedy_assignment_profile",
         "type": "scatter",
         "x": [
          0.8518270202885342
         ],
         "y": [
          0.3391977758996587
         ]
        }
       ],
       "layout": {
        "showlegend": false,
        "template": {
         "layout": {
          "height": 400.6299212598426,
          "legend": {
           "font": {
            "color": "black",
            "family": "Courier New, monospace",
            "size": 12
           },
           "grouptitlefont": {
            "color": "black",
            "family": "Courier New, monospace",
            "size": 12
           }
          },
          "margin": {
           "b": 40,
           "l": 50,
           "r": 50,
           "t": 20
          },
          "paper_bgcolor": "white",
          "plot_bgcolor": "#FFFFFF",
          "showlegend": false,
          "title": {
           "font": {
            "color": "black",
            "family": "Courier New, monospace",
            "size": 14
           }
          },
          "width": 600.9448818897638,
          "xaxis": {
           "gridcolor": "lightgray",
           "gridwidth": 1,
           "linecolor": "darkgray",
           "linewidth": 2,
           "mirror": true,
           "showgrid": true,
           "showline": true,
           "showticklabels": true,
           "tickfont": {
            "color": "black",
            "family": "Courier New, monospace",
            "size": 10
           },
           "ticks": "",
           "title": {
            "font": {
             "color": "black",
             "family": "Courier New, monospace",
             "size": 12
            }
           },
           "zeroline": false
          },
          "yaxis": {
           "gridcolor": "lightgray",
           "gridwidth": 1,
           "linecolor": "darkgray",
           "linewidth": 2,
           "mirror": true,
           "showgrid": true,
           "showline": true,
           "showticklabels": true,
           "tickfont": {
            "color": "black",
            "family": "Courier New, monospace",
            "size": 10
           },
           "ticks": "",
           "title": {
            "font": {
             "color": "black",
             "family": "Courier New, monospace",
             "size": 12
            }
           },
           "zeroline": false
          }
         }
        },
        "xaxis": {
         "title": {
          "text": "PC"
         }
        },
        "yaxis": {
         "title": {
          "text": "-AVG_DL"
         }
        }
       }
      }
     },
     "metadata": {},
     "output_type": "display_data"
    },
    {
     "data": {
      "application/vnd.plotly.v1+json": {
       "config": {
        "plotlyServerURL": "https://plot.ly"
       },
       "data": [
        {
         "mode": "lines",
         "name": "static",
         "type": "scatter",
         "x": [
          0,
          1,
          2,
          3,
          4,
          5,
          6,
          7,
          8,
          9,
          10,
          11,
          12,
          13,
          14,
          15,
          16,
          17,
          18,
          19,
          20,
          21,
          22,
          23,
          24,
          25,
          26,
          27,
          28,
          29,
          30,
          31,
          32,
          33,
          34,
          35,
          36,
          37,
          38,
          39,
          40,
          41,
          42,
          43,
          44,
          45,
          46,
          47,
          48,
          49,
          50,
          51,
          52,
          53,
          54,
          55,
          56,
          57,
          58,
          59,
          60,
          61,
          62,
          63,
          64,
          65,
          66,
          67,
          68,
          69,
          70,
          71,
          72,
          73,
          74,
          75,
          76,
          77,
          78,
          79,
          80,
          81,
          82,
          83,
          84,
          85,
          86,
          87,
          88,
          89,
          90,
          91,
          92,
          93,
          94,
          95,
          96,
          97,
          98,
          99,
          100,
          101,
          102,
          103,
          104,
          105,
          106,
          107,
          108,
          109,
          110,
          111,
          112,
          113,
          114,
          115,
          116,
          117,
          118,
          119,
          120,
          121,
          122,
          123,
          124,
          125,
          126,
          127,
          128,
          129,
          130,
          131,
          132,
          133,
          134,
          135,
          136,
          137,
          138,
          139,
          140,
          141,
          142,
          143,
          144,
          145,
          146,
          147,
          148,
          149,
          150,
          151,
          152,
          153,
          154,
          155,
          156,
          157,
          158,
          159,
          160,
          161,
          162,
          163,
          164,
          165,
          166,
          167,
          168,
          169,
          170,
          171,
          172,
          173,
          174,
          175,
          176,
          177,
          178,
          179,
          180,
          181,
          182,
          183,
          184,
          185,
          186,
          187,
          188,
          189,
          190,
          191,
          192,
          193,
          194,
          195,
          196,
          197,
          198,
          199
         ],
         "y": [
          0.21737490458170405,
          0.21916211852806017,
          0.2194082005441631,
          0.22025414063387844,
          0.22061878811137065,
          0.22099002910600885,
          0.22156246983223266,
          0.22356622711575996,
          0.22397273350393765,
          0.22544758507037743,
          0.22544758507037743,
          0.22558982471641087,
          0.23681188946191148,
          0.25025189248229623,
          0.25025189248229623,
          0.25025189248229623,
          0.25025189248229623,
          0.25025189248229623,
          0.25025189248229623,
          0.25057401735280904,
          0.25458008967963053,
          0.2569083846261245,
          0.2569083846261245,
          0.2916285814357142,
          0.2916285814357142,
          0.2922083291059672,
          0.29421725713080926,
          0.29421725713080926,
          0.29685687993967225,
          0.2990222965063088,
          0.2990222965063088,
          0.3258194583752334,
          0.3258194583752334,
          0.3258194583752334,
          0.3258194583752334,
          0.3258194583752334,
          0.3355827989635308,
          0.3355827989635308,
          0.33786142895294574,
          0.33786142895294574,
          0.33786142895294574,
          0.3387128511648201,
          0.3387128511648201,
          0.3462552489403352,
          0.3544115533637911,
          0.3544115533637911,
          0.3571898129725407,
          0.3593765312282162,
          0.3672670611758876,
          0.36765649025955804,
          0.376079765847715,
          0.376079765847715,
          0.3768217361739613,
          0.3768289948871369,
          0.3873838072139294,
          0.3873838072139294,
          0.3873838072139294,
          0.39051580810503556,
          0.4510223239510918,
          0.45201352991797555,
          0.4520273411616976,
          0.4520990408668451,
          0.45235741322509104,
          0.45290261713175195,
          0.4651054079518624,
          0.4678077707382588,
          0.4719731906205055,
          0.4783578076758292,
          0.48780506225312337,
          0.6097544906696868,
          0.6097544906696868,
          0.6144446680021569,
          0.622557788988877,
          0.6324897839854917,
          0.6385614636369198,
          0.6460177469015665,
          0.6464264210416565,
          0.6499916026914142,
          0.6541672693671756,
          0.6554204669706546,
          0.6577490788404086,
          0.736950818206235,
          0.7530576673612692,
          0.7530576673612692,
          0.7531864909232675,
          0.7532484806995963,
          0.75553901781876,
          0.756073304923946,
          0.7590368820693991,
          0.7859072026068482,
          0.8123067353137633,
          0.8140886560738683,
          0.8620291366914961,
          0.8655106312731806,
          0.875514121946643,
          0.875514121946643,
          0.8755169987437179,
          0.8757376104387127,
          0.8798911759939828,
          0.8824289558386984,
          0.8824289558386984,
          0.8824474157476527,
          0.8839208225612103,
          0.9306348970817687,
          0.9417207893868965,
          0.9480658563079738,
          0.9748851868568678,
          1.0122911914399224,
          1.026212147370996,
          1.026212147370996,
          1.02644620982933,
          1.0265857701801906,
          1.0305847864696418,
          1.051218660294231,
          1.0523128976267468,
          1.0526398293858366,
          1.0540351234860845,
          1.0544552701792433,
          1.0557443601863987,
          1.0559004049249134,
          1.0561088582780103,
          1.056109530981321,
          1.0564650328309928,
          1.070021956286307,
          1.0706606237041907,
          1.0760070404350845,
          1.0762314148297942,
          1.1021932958403151,
          1.103074697959727,
          1.1101394594592209,
          1.1108013623501412,
          1.1108013623501412,
          1.1112606850986662,
          1.1116708070801373,
          1.112304296754996,
          1.1130795229233204,
          1.1131251088386305,
          1.1185244255797273,
          1.1186411983257827,
          1.119558847050691,
          1.1298618552512254,
          1.139879571280368,
          1.1419527528132312,
          1.1760996484482287,
          1.1767210107929083,
          1.1789865212106707,
          1.1790919262087163,
          1.1793641020996284,
          1.1799414903013616,
          1.180571116672965,
          1.1807546312513588,
          1.1807546312513588,
          1.1807761731402335,
          1.1810451303297973,
          1.181705462383385,
          1.1819663847806803,
          1.182344387425176,
          1.182642058459866,
          1.1826785112317995,
          1.1826785112317995,
          1.1827786990304778,
          1.184572508264004,
          1.1877800641967362,
          1.187805843305983,
          1.188516062742225,
          1.1885526897755694,
          1.1886902966642063,
          1.188778703659047,
          1.1891425866953091,
          1.1891425866953091,
          1.1897836865004174,
          1.1898042545535619,
          1.1898280970411736,
          1.189838605023287,
          1.1899399630724374,
          1.1900969449606844,
          1.190131805346752,
          1.1904135684972228,
          1.1904580762785855,
          1.1904777134120277,
          1.1904996574409183,
          1.190534675985697,
          1.1905480187296216,
          1.190567403154363,
          1.190567403154363,
          1.190586593325891,
          1.1905866037751016,
          1.1906161443192256,
          1.1906412918404168,
          1.1908884608269392,
          1.1910941597319435,
          1.19285968851407,
          1.192870123897796,
          1.192880931164735,
          1.192880931164735,
          1.192943369387495,
          1.192943369387495,
          1.192943369387495,
          1.193026187477206,
          1.1930372467368344
         ]
        }
       ],
       "layout": {
        "template": {
         "data": {
          "bar": [
           {
            "error_x": {
             "color": "#2a3f5f"
            },
            "error_y": {
             "color": "#2a3f5f"
            },
            "marker": {
             "line": {
              "color": "#E5ECF6",
              "width": 0.5
             },
             "pattern": {
              "fillmode": "overlay",
              "size": 10,
              "solidity": 0.2
             }
            },
            "type": "bar"
           }
          ],
          "barpolar": [
           {
            "marker": {
             "line": {
              "color": "#E5ECF6",
              "width": 0.5
             },
             "pattern": {
              "fillmode": "overlay",
              "size": 10,
              "solidity": 0.2
             }
            },
            "type": "barpolar"
           }
          ],
          "carpet": [
           {
            "aaxis": {
             "endlinecolor": "#2a3f5f",
             "gridcolor": "white",
             "linecolor": "white",
             "minorgridcolor": "white",
             "startlinecolor": "#2a3f5f"
            },
            "baxis": {
             "endlinecolor": "#2a3f5f",
             "gridcolor": "white",
             "linecolor": "white",
             "minorgridcolor": "white",
             "startlinecolor": "#2a3f5f"
            },
            "type": "carpet"
           }
          ],
          "choropleth": [
           {
            "colorbar": {
             "outlinewidth": 0,
             "ticks": ""
            },
            "type": "choropleth"
           }
          ],
          "contour": [
           {
            "colorbar": {
             "outlinewidth": 0,
             "ticks": ""
            },
            "colorscale": [
             [
              0,
              "#0d0887"
             ],
             [
              0.1111111111111111,
              "#46039f"
             ],
             [
              0.2222222222222222,
              "#7201a8"
             ],
             [
              0.3333333333333333,
              "#9c179e"
             ],
             [
              0.4444444444444444,
              "#bd3786"
             ],
             [
              0.5555555555555556,
              "#d8576b"
             ],
             [
              0.6666666666666666,
              "#ed7953"
             ],
             [
              0.7777777777777778,
              "#fb9f3a"
             ],
             [
              0.8888888888888888,
              "#fdca26"
             ],
             [
              1,
              "#f0f921"
             ]
            ],
            "type": "contour"
           }
          ],
          "contourcarpet": [
           {
            "colorbar": {
             "outlinewidth": 0,
             "ticks": ""
            },
            "type": "contourcarpet"
           }
          ],
          "heatmap": [
           {
            "colorbar": {
             "outlinewidth": 0,
             "ticks": ""
            },
            "colorscale": [
             [
              0,
              "#0d0887"
             ],
             [
              0.1111111111111111,
              "#46039f"
             ],
             [
              0.2222222222222222,
              "#7201a8"
             ],
             [
              0.3333333333333333,
              "#9c179e"
             ],
             [
              0.4444444444444444,
              "#bd3786"
             ],
             [
              0.5555555555555556,
              "#d8576b"
             ],
             [
              0.6666666666666666,
              "#ed7953"
             ],
             [
              0.7777777777777778,
              "#fb9f3a"
             ],
             [
              0.8888888888888888,
              "#fdca26"
             ],
             [
              1,
              "#f0f921"
             ]
            ],
            "type": "heatmap"
           }
          ],
          "heatmapgl": [
           {
            "colorbar": {
             "outlinewidth": 0,
             "ticks": ""
            },
            "colorscale": [
             [
              0,
              "#0d0887"
             ],
             [
              0.1111111111111111,
              "#46039f"
             ],
             [
              0.2222222222222222,
              "#7201a8"
             ],
             [
              0.3333333333333333,
              "#9c179e"
             ],
             [
              0.4444444444444444,
              "#bd3786"
             ],
             [
              0.5555555555555556,
              "#d8576b"
             ],
             [
              0.6666666666666666,
              "#ed7953"
             ],
             [
              0.7777777777777778,
              "#fb9f3a"
             ],
             [
              0.8888888888888888,
              "#fdca26"
             ],
             [
              1,
              "#f0f921"
             ]
            ],
            "type": "heatmapgl"
           }
          ],
          "histogram": [
           {
            "marker": {
             "pattern": {
              "fillmode": "overlay",
              "size": 10,
              "solidity": 0.2
             }
            },
            "type": "histogram"
           }
          ],
          "histogram2d": [
           {
            "colorbar": {
             "outlinewidth": 0,
             "ticks": ""
            },
            "colorscale": [
             [
              0,
              "#0d0887"
             ],
             [
              0.1111111111111111,
              "#46039f"
             ],
             [
              0.2222222222222222,
              "#7201a8"
             ],
             [
              0.3333333333333333,
              "#9c179e"
             ],
             [
              0.4444444444444444,
              "#bd3786"
             ],
             [
              0.5555555555555556,
              "#d8576b"
             ],
             [
              0.6666666666666666,
              "#ed7953"
             ],
             [
              0.7777777777777778,
              "#fb9f3a"
             ],
             [
              0.8888888888888888,
              "#fdca26"
             ],
             [
              1,
              "#f0f921"
             ]
            ],
            "type": "histogram2d"
           }
          ],
          "histogram2dcontour": [
           {
            "colorbar": {
             "outlinewidth": 0,
             "ticks": ""
            },
            "colorscale": [
             [
              0,
              "#0d0887"
             ],
             [
              0.1111111111111111,
              "#46039f"
             ],
             [
              0.2222222222222222,
              "#7201a8"
             ],
             [
              0.3333333333333333,
              "#9c179e"
             ],
             [
              0.4444444444444444,
              "#bd3786"
             ],
             [
              0.5555555555555556,
              "#d8576b"
             ],
             [
              0.6666666666666666,
              "#ed7953"
             ],
             [
              0.7777777777777778,
              "#fb9f3a"
             ],
             [
              0.8888888888888888,
              "#fdca26"
             ],
             [
              1,
              "#f0f921"
             ]
            ],
            "type": "histogram2dcontour"
           }
          ],
          "mesh3d": [
           {
            "colorbar": {
             "outlinewidth": 0,
             "ticks": ""
            },
            "type": "mesh3d"
           }
          ],
          "parcoords": [
           {
            "line": {
             "colorbar": {
              "outlinewidth": 0,
              "ticks": ""
             }
            },
            "type": "parcoords"
           }
          ],
          "pie": [
           {
            "automargin": true,
            "type": "pie"
           }
          ],
          "scatter": [
           {
            "fillpattern": {
             "fillmode": "overlay",
             "size": 10,
             "solidity": 0.2
            },
            "type": "scatter"
           }
          ],
          "scatter3d": [
           {
            "line": {
             "colorbar": {
              "outlinewidth": 0,
              "ticks": ""
             }
            },
            "marker": {
             "colorbar": {
              "outlinewidth": 0,
              "ticks": ""
             }
            },
            "type": "scatter3d"
           }
          ],
          "scattercarpet": [
           {
            "marker": {
             "colorbar": {
              "outlinewidth": 0,
              "ticks": ""
             }
            },
            "type": "scattercarpet"
           }
          ],
          "scattergeo": [
           {
            "marker": {
             "colorbar": {
              "outlinewidth": 0,
              "ticks": ""
             }
            },
            "type": "scattergeo"
           }
          ],
          "scattergl": [
           {
            "marker": {
             "colorbar": {
              "outlinewidth": 0,
              "ticks": ""
             }
            },
            "type": "scattergl"
           }
          ],
          "scattermapbox": [
           {
            "marker": {
             "colorbar": {
              "outlinewidth": 0,
              "ticks": ""
             }
            },
            "type": "scattermapbox"
           }
          ],
          "scatterpolar": [
           {
            "marker": {
             "colorbar": {
              "outlinewidth": 0,
              "ticks": ""
             }
            },
            "type": "scatterpolar"
           }
          ],
          "scatterpolargl": [
           {
            "marker": {
             "colorbar": {
              "outlinewidth": 0,
              "ticks": ""
             }
            },
            "type": "scatterpolargl"
           }
          ],
          "scatterternary": [
           {
            "marker": {
             "colorbar": {
              "outlinewidth": 0,
              "ticks": ""
             }
            },
            "type": "scatterternary"
           }
          ],
          "surface": [
           {
            "colorbar": {
             "outlinewidth": 0,
             "ticks": ""
            },
            "colorscale": [
             [
              0,
              "#0d0887"
             ],
             [
              0.1111111111111111,
              "#46039f"
             ],
             [
              0.2222222222222222,
              "#7201a8"
             ],
             [
              0.3333333333333333,
              "#9c179e"
             ],
             [
              0.4444444444444444,
              "#bd3786"
             ],
             [
              0.5555555555555556,
              "#d8576b"
             ],
             [
              0.6666666666666666,
              "#ed7953"
             ],
             [
              0.7777777777777778,
              "#fb9f3a"
             ],
             [
              0.8888888888888888,
              "#fdca26"
             ],
             [
              1,
              "#f0f921"
             ]
            ],
            "type": "surface"
           }
          ],
          "table": [
           {
            "cells": {
             "fill": {
              "color": "#EBF0F8"
             },
             "line": {
              "color": "white"
             }
            },
            "header": {
             "fill": {
              "color": "#C8D4E3"
             },
             "line": {
              "color": "white"
             }
            },
            "type": "table"
           }
          ]
         },
         "layout": {
          "annotationdefaults": {
           "arrowcolor": "#2a3f5f",
           "arrowhead": 0,
           "arrowwidth": 1
          },
          "autotypenumbers": "strict",
          "coloraxis": {
           "colorbar": {
            "outlinewidth": 0,
            "ticks": ""
           }
          },
          "colorscale": {
           "diverging": [
            [
             0,
             "#8e0152"
            ],
            [
             0.1,
             "#c51b7d"
            ],
            [
             0.2,
             "#de77ae"
            ],
            [
             0.3,
             "#f1b6da"
            ],
            [
             0.4,
             "#fde0ef"
            ],
            [
             0.5,
             "#f7f7f7"
            ],
            [
             0.6,
             "#e6f5d0"
            ],
            [
             0.7,
             "#b8e186"
            ],
            [
             0.8,
             "#7fbc41"
            ],
            [
             0.9,
             "#4d9221"
            ],
            [
             1,
             "#276419"
            ]
           ],
           "sequential": [
            [
             0,
             "#0d0887"
            ],
            [
             0.1111111111111111,
             "#46039f"
            ],
            [
             0.2222222222222222,
             "#7201a8"
            ],
            [
             0.3333333333333333,
             "#9c179e"
            ],
            [
             0.4444444444444444,
             "#bd3786"
            ],
            [
             0.5555555555555556,
             "#d8576b"
            ],
            [
             0.6666666666666666,
             "#ed7953"
            ],
            [
             0.7777777777777778,
             "#fb9f3a"
            ],
            [
             0.8888888888888888,
             "#fdca26"
            ],
            [
             1,
             "#f0f921"
            ]
           ],
           "sequentialminus": [
            [
             0,
             "#0d0887"
            ],
            [
             0.1111111111111111,
             "#46039f"
            ],
            [
             0.2222222222222222,
             "#7201a8"
            ],
            [
             0.3333333333333333,
             "#9c179e"
            ],
            [
             0.4444444444444444,
             "#bd3786"
            ],
            [
             0.5555555555555556,
             "#d8576b"
            ],
            [
             0.6666666666666666,
             "#ed7953"
            ],
            [
             0.7777777777777778,
             "#fb9f3a"
            ],
            [
             0.8888888888888888,
             "#fdca26"
            ],
            [
             1,
             "#f0f921"
            ]
           ]
          },
          "colorway": [
           "#636efa",
           "#EF553B",
           "#00cc96",
           "#ab63fa",
           "#FFA15A",
           "#19d3f3",
           "#FF6692",
           "#B6E880",
           "#FF97FF",
           "#FECB52"
          ],
          "font": {
           "color": "#2a3f5f"
          },
          "geo": {
           "bgcolor": "white",
           "lakecolor": "white",
           "landcolor": "#E5ECF6",
           "showlakes": true,
           "showland": true,
           "subunitcolor": "white"
          },
          "hoverlabel": {
           "align": "left"
          },
          "hovermode": "closest",
          "mapbox": {
           "style": "light"
          },
          "paper_bgcolor": "white",
          "plot_bgcolor": "#E5ECF6",
          "polar": {
           "angularaxis": {
            "gridcolor": "white",
            "linecolor": "white",
            "ticks": ""
           },
           "bgcolor": "#E5ECF6",
           "radialaxis": {
            "gridcolor": "white",
            "linecolor": "white",
            "ticks": ""
           }
          },
          "scene": {
           "xaxis": {
            "backgroundcolor": "#E5ECF6",
            "gridcolor": "white",
            "gridwidth": 2,
            "linecolor": "white",
            "showbackground": true,
            "ticks": "",
            "zerolinecolor": "white"
           },
           "yaxis": {
            "backgroundcolor": "#E5ECF6",
            "gridcolor": "white",
            "gridwidth": 2,
            "linecolor": "white",
            "showbackground": true,
            "ticks": "",
            "zerolinecolor": "white"
           },
           "zaxis": {
            "backgroundcolor": "#E5ECF6",
            "gridcolor": "white",
            "gridwidth": 2,
            "linecolor": "white",
            "showbackground": true,
            "ticks": "",
            "zerolinecolor": "white"
           }
          },
          "shapedefaults": {
           "line": {
            "color": "#2a3f5f"
           }
          },
          "ternary": {
           "aaxis": {
            "gridcolor": "white",
            "linecolor": "white",
            "ticks": ""
           },
           "baxis": {
            "gridcolor": "white",
            "linecolor": "white",
            "ticks": ""
           },
           "bgcolor": "#E5ECF6",
           "caxis": {
            "gridcolor": "white",
            "linecolor": "white",
            "ticks": ""
           }
          },
          "title": {
           "x": 0.05
          },
          "xaxis": {
           "automargin": true,
           "gridcolor": "white",
           "linecolor": "white",
           "ticks": "",
           "title": {
            "standoff": 15
           },
           "zerolinecolor": "white",
           "zerolinewidth": 2
          },
          "yaxis": {
           "automargin": true,
           "gridcolor": "white",
           "linecolor": "white",
           "ticks": "",
           "title": {
            "standoff": 15
           },
           "zerolinecolor": "white",
           "zerolinewidth": 2
          }
         }
        },
        "title": {
         "text": "hypervolume over n_gen"
        },
        "xaxis": {
         "title": {
          "text": "generation"
         }
        },
        "yaxis": {
         "title": {
          "text": "hypervolume"
         }
        }
       }
      }
     },
     "metadata": {},
     "output_type": "display_data"
    }
   ],
   "source": [
    "\n",
    "fig0 = go.Figure()\n",
    "fig0.update_layout(\n",
    "    xaxis_title=\"PC\",\n",
    "    yaxis_title=\"-AVG_DL\",\n",
    "    template=template_one_diagram,\n",
    "    showlegend=False\n",
    "    )\n",
    "asf_selection_point = (1,2)\n",
    "\n",
    "##### add paretofronts of all configs\n",
    "for index, pareto_front in enumerate(pareto_fronts):\n",
    "\n",
    "    fig0.add_trace(\n",
    "        go.Scatter(\n",
    "            x=np.array(paretor_fronts_normalized[index])[:,0],\n",
    "            y=np.array(paretor_fronts_normalized[index])[:,1],\n",
    "            mode='markers',\n",
    "            line={\"color\": evo_color},\n",
    "            name=config_names[index],\n",
    "            )\n",
    "        )\n",
    "    \n",
    "    i_2 = asf_select(np.array(pareto_front))\n",
    "  \n",
    "    fig0.add_trace(\n",
    "    go.Scatter(\n",
    "        x=np.array(paretor_fronts_normalized[index][i_2][0]),\n",
    "        y=np.array(paretor_fronts_normalized[index][i_2][1]),\n",
    "        mode='markers',\n",
    "        name= \"asf selection\",\n",
    "        # opacity= 0.5,\n",
    "        # marker=dict(size=10)\n",
    "        )\n",
    "    )\n",
    "    asf_selection_point= ( paretor_fronts_normalized[index][i_2][0], paretor_fronts_normalized[index][i_2][1])\n",
    "\n",
    "##### add rssi sampling population\n",
    "\n",
    "fig0.add_trace(\n",
    "     go.Scatter(\n",
    "        x=sampling_pop_objecitve_space_normalized[:,0],\n",
    "        y=sampling_pop_objecitve_space_normalized[:,1],\n",
    "        mode='markers',\n",
    "        # line={\"color\": greedy_color},\n",
    "        name= \"greedy_sampling_pop\",\n",
    "        )\n",
    "    )\n",
    "#### add hamming_distance sampling pop\n",
    "# fig0.add_trace(\n",
    "#      go.Scatter(\n",
    "#         x=hamming_distance_sampling_pop_objecitve_space_normalized[:,0],\n",
    "#         y=hamming_distance_sampling_pop_objecitve_space_normalized[:,1],\n",
    "#         mode='markers',\n",
    "#         # line={\"color\": greedy_color},\n",
    "#         name= \"hamming_distance_sampling_pop\",\n",
    "#         )\n",
    "#     )\n",
    "###### highlight greedy assignment activation profile\n",
    "\n",
    "fig0.add_trace(\n",
    "    go.Scatter(\n",
    "        x=np.array(sampling_pop_objecitve_space_normalized[-1][0]),\n",
    "        y=np.array(sampling_pop_objecitve_space_normalized[-1][1]),\n",
    "        mode='markers',\n",
    "        name= \"greedy_assignment_profile\",\n",
    "        line={\"color\": greedy_color},\n",
    "        )\n",
    "    )\n",
    "# i = asf_select(sampling_pop_objecitve_space)\n",
    "\n",
    "# fig0.add_trace(\n",
    "#     go.Scatter(\n",
    "#         x=[sampling_pop_objecitve_space_normalized[i][0],sampling_pop_objecitve_space_normalized[i][0], asf_selection_point[0], asf_selection_point[0]],\n",
    "#         y=[sampling_pop_objecitve_space_normalized[i][1], asf_selection_point[1], asf_selection_point[1], sampling_pop_objecitve_space_normalized[i][1]],\n",
    "#         fill=\"toself\",\n",
    "#         mode=\"lines+text\",\n",
    "#         line_width=0,\n",
    "#     )\n",
    "# )\n",
    "\n",
    "# volume = (asf_selection_point[0]-sampling_pop_objecitve_space_normalized[i][0])*(asf_selection_point[1]-sampling_pop_objecitve_space_normalized[i][1])\n",
    "\n",
    "# fig0.add_annotation(\n",
    "#     x=0.6, y=0.6, text=round(volume,4),\n",
    "#     showarrow=False,\n",
    "#     font=dict(\n",
    "#             size=16,\n",
    "#             ),\n",
    "#     )\n",
    "\n",
    "fig2 = go.Figure()\n",
    "fig2.update_layout(\n",
    "    title=\"hypervolume over n_gen\",\n",
    "    xaxis_title=\"generation\",\n",
    "    yaxis_title=\"hypervolume\")\n",
    "\n",
    "for index, hyper_volume_history in enumerate(hyper_volume_histories):\n",
    "    fig2.add_trace(\n",
    "        go.Scatter(\n",
    "            x=list(range(0, len(hyper_volume_history))),\n",
    "            y=hyper_volume_history,\n",
    "            mode='lines',\n",
    "            name=config_names[index],\n",
    "            ))\n",
    "\n",
    "\n",
    "# fig1.show()\n",
    "fig0.show()\n",
    "fig0.write_image(f\"./diagrams/paretofront_{network_name}.pdf\")\n",
    "# fig0.write_image(f\"./diagrams/{network_name}_static_opt_example.pdf\")\n",
    "remove_blank_page(\"./diagrams/\")\n",
    "fig2.show()"
   ]
  },
  {
   "cell_type": "code",
   "execution_count": 61,
   "id": "eaf92719",
   "metadata": {},
   "outputs": [],
   "source": [
    "\n",
    "cor_matrix = False\n",
    "\n",
    "def print_cor_matrix():\n",
    "        network_name = \"het_C100\"\n",
    "        config_name = \"static_evo_var\"\n",
    "\n",
    "        results_directory = f\"./datastore/{network_name}/{config_name}/\"\n",
    "\n",
    "        with open(results_directory + \"objectives_result.json\", mode=\"r\",encoding=\"utf-8\") as openfile:\n",
    "                results_object = json.load(openfile)\n",
    "                paretofront = np.array(results_object[\"objectiveSpace\"])\n",
    "\n",
    "                nadir = paretofront.max(axis=0)\n",
    "                ideal = paretofront.min(axis=0)\n",
    "                paretofront = np.array((paretofront - ideal) / (nadir - ideal))\n",
    "\n",
    "\n",
    "                xyz = paretofront.transpose()\n",
    "\n",
    "                corr_matrix, p_matrix = scipy.stats.spearmanr(xyz, axis=1)\n",
    "                corr_matrix = np.array(corr_matrix)\n",
    "                corr_matrix = corr_matrix.round(4)\n",
    "\n",
    "                print(corr_matrix)\n",
    "                fig, ax = plt.subplots()\n",
    "                \n",
    "                im = ax.imshow(corr_matrix)\n",
    "                im.set_clim(-1, 1)\n",
    "                ax.grid(False)\n",
    "                ax.xaxis.set(ticks=(0, 1, 2), ticklabels=('PC', '-AVG_DL', 'DL_VARIANCE'))\n",
    "                ax.yaxis.set(ticks=(0, 1, 2), ticklabels=('PC', '-AVG_DL', 'DL_VARIANCE'))\n",
    "                ax.set_ylim(2.5, -0.5)\n",
    "                for i in range(3):\n",
    "                        for j in range(3):\n",
    "                                ax.text(j, i, corr_matrix[i, j], ha='center', va='center',\n",
    "                                        color='r')\n",
    "                cbar = ax.figure.colorbar(im, ax=ax, format='% .2f')\n",
    "                plt.show() \n",
    "                plt\n",
    "if cor_matrix:\n",
    "        print_cor_matrix()\n",
    "\n"
   ]
  }
 ],
 "metadata": {
  "kernelspec": {
   "display_name": "Python 3 (ipykernel)",
   "language": "python",
   "name": "python3"
  },
  "language_info": {
   "codemirror_mode": {
    "name": "ipython",
    "version": 3
   },
   "file_extension": ".py",
   "mimetype": "text/x-python",
   "name": "python",
   "nbconvert_exporter": "python",
   "pygments_lexer": "ipython3",
   "version": "3.11.5"
  }
 },
 "nbformat": 4,
 "nbformat_minor": 5
}
