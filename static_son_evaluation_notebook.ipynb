{
 "cells": [
  {
   "cell_type": "code",
   "execution_count": 1,
   "id": "7bc1c4da-f3bc-4a3d-9069-5655b400e7dc",
   "metadata": {},
   "outputs": [],
   "source": [
    "\n",
    "import json\n",
    "import numpy as np\n",
    "from son_main_script import Son\n",
    "from son_pymoo import HighRssiFirstSampling, ObjectiveEnum, SonProblemElementWise\n",
    "from pymoo.decomposition.asf import ASF\n",
    "import plotly.graph_objects as go\n",
    "from pymoo.indicators.hv import Hypervolume\n",
    "\n",
    "def asf_select(objective_space: np.ndarray,\n",
    "                    weights: np.ndarray = np.array([0.5, 0.5])):\n",
    "    \n",
    "    # TODO check if picked solution is from pareto front\n",
    "    approx_ideal = objective_space.min(axis=0)\n",
    "    approx_nadir = objective_space.max(axis=0)\n",
    "\n",
    "    np.seterr(divide='ignore', invalid='ignore')\n",
    "    nF = (objective_space - approx_ideal) / (approx_nadir - approx_ideal)\n",
    "    decomp = ASF()\n",
    "    i = decomp.do(nF, 1/weights).argmin()\n",
    "    return i\n",
    "\n",
    "def normalize_objective_space_pop(objective_space_pop: np.ndarray):\n",
    "    approx_ideal = objective_space_pop.min(axis=0)\n",
    "    approx_nadir = objective_space_pop.max(axis=0)\n",
    "    return (objective_space_pop - approx_ideal) / (approx_nadir - approx_ideal)\n",
    "\n",
    "def create_greedy_rssi_sampling_pop(optimization_objectives: list[str], son: Son):\n",
    "     ###### test HighRssiFirstSampling\n",
    "    son_problem_obj = SonProblemElementWise(optimization_objectives, son)\n",
    "    # create pop with RssiSampling\n",
    "    high_rssi_sampling_obj = HighRssiFirstSampling()\n",
    "    sampling_pop = high_rssi_sampling_obj._do(son_problem_obj, 100)\n",
    "    sampling_pop_objecitve_space = np.empty((100,2))\n",
    "    out = {}\n",
    "    for index, ind in enumerate(sampling_pop):\n",
    "        son_problem_obj._evaluate(ind, out)\n",
    "        sampling_pop_objecitve_space[index]=out[\"F\"]\n",
    "    return sampling_pop_objecitve_space\n",
    "\n",
    "def get_hypervolume(objective_space_pop: np.ndarray, ref_point=None, norm_ref_point=True, zero_to_one=False, ideal=None, nadir=None):\n",
    "    hv = Hypervolume(ref_point=np.array([1.1, 1.1]),\n",
    "                     norm_ref_point=norm_ref_point,\n",
    "                     zero_to_one=zero_to_one,\n",
    "                     ideal=ideal,\n",
    "                     nadir=nadir)\n",
    "    \n",
    "    return hv(objective_space_pop)\n",
    "\n",
    "##################################################################\n",
    "\n",
    "# network_name = \"hetNet2\"\n",
    "# config_names = [\"static600gen_pop200_opff40\", \"static600gen_pop400_off80\"]\n",
    "\n",
    "network_name = \"hetNet4\"\n",
    "config_names = [\"static_randomsampling\", \"static_greedysampling\"]\n",
    "config_names = [\"static_greedysampling2\"]\n",
    "\n",
    "# network_name = \"hetNet4\"\n",
    "# config_names =  [\"static_energyConsumption\"]\n",
    "\n",
    "##################################################################\n",
    "pareto_fronts = []\n",
    "hyper_volume_histories = []\n",
    "\n",
    "for _, config_name in enumerate(config_names):\n",
    "    results_directory = f\"./datastore/{network_name}/{config_name}/\"\n",
    "\n",
    "    results_object = {}\n",
    "    with open(results_directory + \"objectives_result.json\", mode=\"r\",encoding=\"utf-8\") as openfile:\n",
    "            results_object = json.load(openfile)\n",
    "\n",
    "    pareto_fronts.append(results_object[\"objectiveSpace\"])\n",
    "    \n",
    "    hyper_volume_history = []\n",
    "    for _, current_pop_objectivespace in enumerate(results_object[\"history\"][\"objective_space_opt\"]):\n",
    "        hyper_volume_history.append(get_hypervolume(np.array(current_pop_objectivespace)))\n",
    "\n",
    "        \n",
    "    hyper_volume_histories.append(hyper_volume_history)"
   ]
  },
  {
   "cell_type": "code",
   "execution_count": 2,
   "id": "7ae4bc69",
   "metadata": {},
   "outputs": [
    {
     "data": {
      "application/vnd.plotly.v1+json": {
       "config": {
        "plotlyServerURL": "https://plot.ly"
       },
       "data": [
        {
         "mode": "markers",
         "name": "static_greedysampling2",
         "type": "scatter",
         "x": [
          -0.28213705306016545,
          -0.2820041622281386,
          -0.2820759900134912,
          -0.2819972331833801
         ],
         "y": [
          -3.9708747190315448,
          -3.972503369366641,
          -3.9719667773656777,
          -3.974314488118509
         ]
        },
        {
         "mode": "markers",
         "name": "greedy_sampling_pop",
         "type": "scatter",
         "x": [
          -0.1641720505103646,
          -0.1652996533331299,
          -0.17024498102346125,
          -0.16681267760498059,
          -0.15431057184919872,
          -0.16646696124861424,
          -0.16927279426331585,
          -0.15558175722821674,
          -0.1600583406082761,
          -0.1619947809903548,
          -0.17399871354846247,
          -0.15899732413494916,
          -0.16090535263533226,
          -0.17357952728985765,
          -0.1472947221045741,
          -0.16414231585946495,
          -0.15473529921616908,
          -0.15569348363278118,
          -0.18049680111074784,
          -0.15424029479156967,
          -0.15417810777956786,
          -0.1590441463636139,
          -0.16479886698689694,
          -0.17548918163123312,
          -0.14941900582191547,
          -0.16146551525045946,
          -0.14665788796559265,
          -0.1744657399116833,
          -0.14937393764831944,
          -0.16468683223458722,
          -0.16662575794586432,
          -0.1681601773421006,
          -0.1698403810862686,
          -0.16125898557017848,
          -0.172992821796313,
          -0.16909477403078857,
          -0.15721669634134597,
          -0.17368881704989633,
          -0.1745650992681708,
          -0.1800124005278182,
          -0.15594011457415616,
          -0.15728407687444215,
          -0.16572979485031503,
          -0.1585932971052557,
          -0.17380680794166686,
          -0.173853788570792,
          -0.16536029226774396,
          -0.15793490282070866,
          -0.1526193021108019,
          -0.16094788906142096,
          -0.1679255555952745,
          -0.17957286319057894,
          -0.16024877081379355,
          -0.1820477836612999,
          -0.16119810832563317,
          -0.16898504391635957,
          -0.15918745461537684,
          -0.1720043013427737,
          -0.16092894684047837,
          -0.17327096202451497,
          -0.16015908902752696,
          -0.1676278126242758,
          -0.16703655904673106,
          -0.16546757115911062,
          -0.15489713099548555,
          -0.1809630942232691,
          -0.16195409570343816,
          -0.16870829557315306,
          -0.15726359884895896,
          -0.14579250205084476,
          -0.16355699868587764,
          -0.17059293972125222,
          -0.15791322716107847,
          -0.15634326590727685,
          -0.16155251598583006,
          -0.1618921331393134,
          -0.16874883026381923,
          -0.16593412959384185,
          -0.17444261133626948,
          -0.1604171220834559,
          -0.17080695223410772,
          -0.17072988234693917,
          -0.1683652604576677,
          -0.1614362023233687,
          -0.1480811300716155,
          -0.17187868696326375,
          -0.15864348350095173,
          -0.1633466499978896,
          -0.164048028701455,
          -0.16581593626298458,
          -0.16317329176935005,
          -0.14789856553600544,
          -0.15195399766775547,
          -0.17391820965689966,
          -0.1612820176573535,
          -0.16231731472143104,
          -0.1632308666283478,
          -0.15676821531262203,
          -0.16435866212195496,
          -0.17676133430290422
         ],
         "y": [
          -2.137348957158088,
          -2.119720236351022,
          -2.2694299541853002,
          -2.213025698449915,
          -2.038291182198998,
          -2.2288637949453696,
          -2.236408772039369,
          -2.1351714020474986,
          -2.0875904968204875,
          -2.1380895297654696,
          -2.3317039126288233,
          -2.100706662273827,
          -2.1285691549931216,
          -2.288184174282956,
          -1.9906827386323018,
          -2.1236650037681803,
          -2.067467548952727,
          -2.139069253469348,
          -2.275003509641455,
          -2.1140943980597267,
          -2.096096983132556,
          -2.1294360047287024,
          -2.170404489302463,
          -2.285681534305518,
          -2.0458287186558435,
          -2.061886684118957,
          -1.9495126762944297,
          -2.312837092443539,
          -2.037978909257168,
          -2.2384352454949568,
          -2.284656699352543,
          -2.224893012462401,
          -2.2566827074879487,
          -2.1941689030436415,
          -2.313685496073491,
          -2.181512828921853,
          -2.1446103231717304,
          -2.3007557264437453,
          -2.3203942340127126,
          -2.3883577995144694,
          -2.0882508592858757,
          -2.1410760277034995,
          -2.187936514444839,
          -2.0315051317369783,
          -2.277077722402392,
          -2.228152821084965,
          -2.2072567829905068,
          -2.1610238014688705,
          -2.064643065751546,
          -2.205113374149393,
          -2.2713590267613406,
          -2.345288591479547,
          -2.157291080895038,
          -2.3290825008730107,
          -2.184040415220024,
          -2.2557177102333172,
          -2.155558480595653,
          -2.2737469591462043,
          -2.1849376594752745,
          -2.3120066825199372,
          -2.186748342778467,
          -2.2405031423205037,
          -2.2240529003217193,
          -2.211024234161218,
          -2.0543930807648763,
          -2.296345059018841,
          -2.1817758935994793,
          -2.258135365900267,
          -2.10242283684875,
          -1.8882355600025493,
          -2.240333940406158,
          -2.284401437686391,
          -2.0660448095911907,
          -2.117865749821858,
          -2.1636620034678082,
          -2.1928191776091186,
          -2.244235659587102,
          -2.1954681503390425,
          -2.316772979793513,
          -2.1414413380868464,
          -2.19158861087016,
          -2.2179862513669892,
          -2.2335064425416307,
          -2.165414065249093,
          -1.9837790727982179,
          -2.2690432660903705,
          -2.089047716185983,
          -2.203025176894,
          -2.223748498239955,
          -2.1935875557237456,
          -2.205212267454941,
          -2.025801287095,
          -2.001245190024102,
          -2.1698300229573904,
          -2.1633073998993093,
          -2.2247698552834843,
          -2.1784262604689997,
          -2.0632957480695144,
          -2.2238844773602766,
          -2.325880786220621
         ]
        },
        {
         "marker": {
          "size": 10
         },
         "mode": "markers",
         "name": "greedy_assignment_profile",
         "opacity": 0.5,
         "type": "scatter",
         "x": [
          -0.17676133430290422
         ],
         "y": [
          -2.325880786220621
         ]
        },
        {
         "marker": {
          "size": 10
         },
         "mode": "markers",
         "name": "asf selection for greedy_sampling_pop",
         "opacity": 0.5,
         "type": "scatter",
         "x": [
          -0.1800124005278182
         ],
         "y": [
          -2.3883577995144694
         ]
        }
       ],
       "layout": {
        "template": {
         "data": {
          "bar": [
           {
            "error_x": {
             "color": "#2a3f5f"
            },
            "error_y": {
             "color": "#2a3f5f"
            },
            "marker": {
             "line": {
              "color": "#E5ECF6",
              "width": 0.5
             },
             "pattern": {
              "fillmode": "overlay",
              "size": 10,
              "solidity": 0.2
             }
            },
            "type": "bar"
           }
          ],
          "barpolar": [
           {
            "marker": {
             "line": {
              "color": "#E5ECF6",
              "width": 0.5
             },
             "pattern": {
              "fillmode": "overlay",
              "size": 10,
              "solidity": 0.2
             }
            },
            "type": "barpolar"
           }
          ],
          "carpet": [
           {
            "aaxis": {
             "endlinecolor": "#2a3f5f",
             "gridcolor": "white",
             "linecolor": "white",
             "minorgridcolor": "white",
             "startlinecolor": "#2a3f5f"
            },
            "baxis": {
             "endlinecolor": "#2a3f5f",
             "gridcolor": "white",
             "linecolor": "white",
             "minorgridcolor": "white",
             "startlinecolor": "#2a3f5f"
            },
            "type": "carpet"
           }
          ],
          "choropleth": [
           {
            "colorbar": {
             "outlinewidth": 0,
             "ticks": ""
            },
            "type": "choropleth"
           }
          ],
          "contour": [
           {
            "colorbar": {
             "outlinewidth": 0,
             "ticks": ""
            },
            "colorscale": [
             [
              0,
              "#0d0887"
             ],
             [
              0.1111111111111111,
              "#46039f"
             ],
             [
              0.2222222222222222,
              "#7201a8"
             ],
             [
              0.3333333333333333,
              "#9c179e"
             ],
             [
              0.4444444444444444,
              "#bd3786"
             ],
             [
              0.5555555555555556,
              "#d8576b"
             ],
             [
              0.6666666666666666,
              "#ed7953"
             ],
             [
              0.7777777777777778,
              "#fb9f3a"
             ],
             [
              0.8888888888888888,
              "#fdca26"
             ],
             [
              1,
              "#f0f921"
             ]
            ],
            "type": "contour"
           }
          ],
          "contourcarpet": [
           {
            "colorbar": {
             "outlinewidth": 0,
             "ticks": ""
            },
            "type": "contourcarpet"
           }
          ],
          "heatmap": [
           {
            "colorbar": {
             "outlinewidth": 0,
             "ticks": ""
            },
            "colorscale": [
             [
              0,
              "#0d0887"
             ],
             [
              0.1111111111111111,
              "#46039f"
             ],
             [
              0.2222222222222222,
              "#7201a8"
             ],
             [
              0.3333333333333333,
              "#9c179e"
             ],
             [
              0.4444444444444444,
              "#bd3786"
             ],
             [
              0.5555555555555556,
              "#d8576b"
             ],
             [
              0.6666666666666666,
              "#ed7953"
             ],
             [
              0.7777777777777778,
              "#fb9f3a"
             ],
             [
              0.8888888888888888,
              "#fdca26"
             ],
             [
              1,
              "#f0f921"
             ]
            ],
            "type": "heatmap"
           }
          ],
          "heatmapgl": [
           {
            "colorbar": {
             "outlinewidth": 0,
             "ticks": ""
            },
            "colorscale": [
             [
              0,
              "#0d0887"
             ],
             [
              0.1111111111111111,
              "#46039f"
             ],
             [
              0.2222222222222222,
              "#7201a8"
             ],
             [
              0.3333333333333333,
              "#9c179e"
             ],
             [
              0.4444444444444444,
              "#bd3786"
             ],
             [
              0.5555555555555556,
              "#d8576b"
             ],
             [
              0.6666666666666666,
              "#ed7953"
             ],
             [
              0.7777777777777778,
              "#fb9f3a"
             ],
             [
              0.8888888888888888,
              "#fdca26"
             ],
             [
              1,
              "#f0f921"
             ]
            ],
            "type": "heatmapgl"
           }
          ],
          "histogram": [
           {
            "marker": {
             "pattern": {
              "fillmode": "overlay",
              "size": 10,
              "solidity": 0.2
             }
            },
            "type": "histogram"
           }
          ],
          "histogram2d": [
           {
            "colorbar": {
             "outlinewidth": 0,
             "ticks": ""
            },
            "colorscale": [
             [
              0,
              "#0d0887"
             ],
             [
              0.1111111111111111,
              "#46039f"
             ],
             [
              0.2222222222222222,
              "#7201a8"
             ],
             [
              0.3333333333333333,
              "#9c179e"
             ],
             [
              0.4444444444444444,
              "#bd3786"
             ],
             [
              0.5555555555555556,
              "#d8576b"
             ],
             [
              0.6666666666666666,
              "#ed7953"
             ],
             [
              0.7777777777777778,
              "#fb9f3a"
             ],
             [
              0.8888888888888888,
              "#fdca26"
             ],
             [
              1,
              "#f0f921"
             ]
            ],
            "type": "histogram2d"
           }
          ],
          "histogram2dcontour": [
           {
            "colorbar": {
             "outlinewidth": 0,
             "ticks": ""
            },
            "colorscale": [
             [
              0,
              "#0d0887"
             ],
             [
              0.1111111111111111,
              "#46039f"
             ],
             [
              0.2222222222222222,
              "#7201a8"
             ],
             [
              0.3333333333333333,
              "#9c179e"
             ],
             [
              0.4444444444444444,
              "#bd3786"
             ],
             [
              0.5555555555555556,
              "#d8576b"
             ],
             [
              0.6666666666666666,
              "#ed7953"
             ],
             [
              0.7777777777777778,
              "#fb9f3a"
             ],
             [
              0.8888888888888888,
              "#fdca26"
             ],
             [
              1,
              "#f0f921"
             ]
            ],
            "type": "histogram2dcontour"
           }
          ],
          "mesh3d": [
           {
            "colorbar": {
             "outlinewidth": 0,
             "ticks": ""
            },
            "type": "mesh3d"
           }
          ],
          "parcoords": [
           {
            "line": {
             "colorbar": {
              "outlinewidth": 0,
              "ticks": ""
             }
            },
            "type": "parcoords"
           }
          ],
          "pie": [
           {
            "automargin": true,
            "type": "pie"
           }
          ],
          "scatter": [
           {
            "fillpattern": {
             "fillmode": "overlay",
             "size": 10,
             "solidity": 0.2
            },
            "type": "scatter"
           }
          ],
          "scatter3d": [
           {
            "line": {
             "colorbar": {
              "outlinewidth": 0,
              "ticks": ""
             }
            },
            "marker": {
             "colorbar": {
              "outlinewidth": 0,
              "ticks": ""
             }
            },
            "type": "scatter3d"
           }
          ],
          "scattercarpet": [
           {
            "marker": {
             "colorbar": {
              "outlinewidth": 0,
              "ticks": ""
             }
            },
            "type": "scattercarpet"
           }
          ],
          "scattergeo": [
           {
            "marker": {
             "colorbar": {
              "outlinewidth": 0,
              "ticks": ""
             }
            },
            "type": "scattergeo"
           }
          ],
          "scattergl": [
           {
            "marker": {
             "colorbar": {
              "outlinewidth": 0,
              "ticks": ""
             }
            },
            "type": "scattergl"
           }
          ],
          "scattermapbox": [
           {
            "marker": {
             "colorbar": {
              "outlinewidth": 0,
              "ticks": ""
             }
            },
            "type": "scattermapbox"
           }
          ],
          "scatterpolar": [
           {
            "marker": {
             "colorbar": {
              "outlinewidth": 0,
              "ticks": ""
             }
            },
            "type": "scatterpolar"
           }
          ],
          "scatterpolargl": [
           {
            "marker": {
             "colorbar": {
              "outlinewidth": 0,
              "ticks": ""
             }
            },
            "type": "scatterpolargl"
           }
          ],
          "scatterternary": [
           {
            "marker": {
             "colorbar": {
              "outlinewidth": 0,
              "ticks": ""
             }
            },
            "type": "scatterternary"
           }
          ],
          "surface": [
           {
            "colorbar": {
             "outlinewidth": 0,
             "ticks": ""
            },
            "colorscale": [
             [
              0,
              "#0d0887"
             ],
             [
              0.1111111111111111,
              "#46039f"
             ],
             [
              0.2222222222222222,
              "#7201a8"
             ],
             [
              0.3333333333333333,
              "#9c179e"
             ],
             [
              0.4444444444444444,
              "#bd3786"
             ],
             [
              0.5555555555555556,
              "#d8576b"
             ],
             [
              0.6666666666666666,
              "#ed7953"
             ],
             [
              0.7777777777777778,
              "#fb9f3a"
             ],
             [
              0.8888888888888888,
              "#fdca26"
             ],
             [
              1,
              "#f0f921"
             ]
            ],
            "type": "surface"
           }
          ],
          "table": [
           {
            "cells": {
             "fill": {
              "color": "#EBF0F8"
             },
             "line": {
              "color": "white"
             }
            },
            "header": {
             "fill": {
              "color": "#C8D4E3"
             },
             "line": {
              "color": "white"
             }
            },
            "type": "table"
           }
          ]
         },
         "layout": {
          "annotationdefaults": {
           "arrowcolor": "#2a3f5f",
           "arrowhead": 0,
           "arrowwidth": 1
          },
          "autotypenumbers": "strict",
          "coloraxis": {
           "colorbar": {
            "outlinewidth": 0,
            "ticks": ""
           }
          },
          "colorscale": {
           "diverging": [
            [
             0,
             "#8e0152"
            ],
            [
             0.1,
             "#c51b7d"
            ],
            [
             0.2,
             "#de77ae"
            ],
            [
             0.3,
             "#f1b6da"
            ],
            [
             0.4,
             "#fde0ef"
            ],
            [
             0.5,
             "#f7f7f7"
            ],
            [
             0.6,
             "#e6f5d0"
            ],
            [
             0.7,
             "#b8e186"
            ],
            [
             0.8,
             "#7fbc41"
            ],
            [
             0.9,
             "#4d9221"
            ],
            [
             1,
             "#276419"
            ]
           ],
           "sequential": [
            [
             0,
             "#0d0887"
            ],
            [
             0.1111111111111111,
             "#46039f"
            ],
            [
             0.2222222222222222,
             "#7201a8"
            ],
            [
             0.3333333333333333,
             "#9c179e"
            ],
            [
             0.4444444444444444,
             "#bd3786"
            ],
            [
             0.5555555555555556,
             "#d8576b"
            ],
            [
             0.6666666666666666,
             "#ed7953"
            ],
            [
             0.7777777777777778,
             "#fb9f3a"
            ],
            [
             0.8888888888888888,
             "#fdca26"
            ],
            [
             1,
             "#f0f921"
            ]
           ],
           "sequentialminus": [
            [
             0,
             "#0d0887"
            ],
            [
             0.1111111111111111,
             "#46039f"
            ],
            [
             0.2222222222222222,
             "#7201a8"
            ],
            [
             0.3333333333333333,
             "#9c179e"
            ],
            [
             0.4444444444444444,
             "#bd3786"
            ],
            [
             0.5555555555555556,
             "#d8576b"
            ],
            [
             0.6666666666666666,
             "#ed7953"
            ],
            [
             0.7777777777777778,
             "#fb9f3a"
            ],
            [
             0.8888888888888888,
             "#fdca26"
            ],
            [
             1,
             "#f0f921"
            ]
           ]
          },
          "colorway": [
           "#636efa",
           "#EF553B",
           "#00cc96",
           "#ab63fa",
           "#FFA15A",
           "#19d3f3",
           "#FF6692",
           "#B6E880",
           "#FF97FF",
           "#FECB52"
          ],
          "font": {
           "color": "#2a3f5f"
          },
          "geo": {
           "bgcolor": "white",
           "lakecolor": "white",
           "landcolor": "#E5ECF6",
           "showlakes": true,
           "showland": true,
           "subunitcolor": "white"
          },
          "hoverlabel": {
           "align": "left"
          },
          "hovermode": "closest",
          "mapbox": {
           "style": "light"
          },
          "paper_bgcolor": "white",
          "plot_bgcolor": "#E5ECF6",
          "polar": {
           "angularaxis": {
            "gridcolor": "white",
            "linecolor": "white",
            "ticks": ""
           },
           "bgcolor": "#E5ECF6",
           "radialaxis": {
            "gridcolor": "white",
            "linecolor": "white",
            "ticks": ""
           }
          },
          "scene": {
           "xaxis": {
            "backgroundcolor": "#E5ECF6",
            "gridcolor": "white",
            "gridwidth": 2,
            "linecolor": "white",
            "showbackground": true,
            "ticks": "",
            "zerolinecolor": "white"
           },
           "yaxis": {
            "backgroundcolor": "#E5ECF6",
            "gridcolor": "white",
            "gridwidth": 2,
            "linecolor": "white",
            "showbackground": true,
            "ticks": "",
            "zerolinecolor": "white"
           },
           "zaxis": {
            "backgroundcolor": "#E5ECF6",
            "gridcolor": "white",
            "gridwidth": 2,
            "linecolor": "white",
            "showbackground": true,
            "ticks": "",
            "zerolinecolor": "white"
           }
          },
          "shapedefaults": {
           "line": {
            "color": "#2a3f5f"
           }
          },
          "ternary": {
           "aaxis": {
            "gridcolor": "white",
            "linecolor": "white",
            "ticks": ""
           },
           "baxis": {
            "gridcolor": "white",
            "linecolor": "white",
            "ticks": ""
           },
           "bgcolor": "#E5ECF6",
           "caxis": {
            "gridcolor": "white",
            "linecolor": "white",
            "ticks": ""
           }
          },
          "title": {
           "x": 0.05
          },
          "xaxis": {
           "automargin": true,
           "gridcolor": "white",
           "linecolor": "white",
           "ticks": "",
           "title": {
            "standoff": 15
           },
           "zerolinecolor": "white",
           "zerolinewidth": 2
          },
          "yaxis": {
           "automargin": true,
           "gridcolor": "white",
           "linecolor": "white",
           "ticks": "",
           "title": {
            "standoff": 15
           },
           "zerolinecolor": "white",
           "zerolinewidth": 2
          }
         }
        },
        "title": {
         "text": "pareto fonts"
        },
        "xaxis": {
         "title": {
          "text": "avg energy efficiency"
         }
        },
        "yaxis": {
         "title": {
          "text": "avg downlink"
         }
        }
       }
      }
     },
     "metadata": {},
     "output_type": "display_data"
    },
    {
     "data": {
      "application/vnd.plotly.v1+json": {
       "config": {
        "plotlyServerURL": "https://plot.ly"
       },
       "data": [
        {
         "mode": "lines",
         "name": "static_greedysampling2",
         "type": "scatter",
         "x": [
          0,
          1,
          2,
          3,
          4,
          5,
          6,
          7,
          8,
          9,
          10,
          11,
          12,
          13,
          14,
          15,
          16,
          17,
          18,
          19,
          20,
          21,
          22,
          23,
          24,
          25,
          26,
          27,
          28,
          29,
          30,
          31,
          32,
          33,
          34,
          35,
          36,
          37,
          38,
          39,
          40,
          41,
          42,
          43,
          44,
          45,
          46,
          47,
          48,
          49,
          50,
          51,
          52,
          53,
          54,
          55,
          56,
          57,
          58,
          59,
          60,
          61,
          62,
          63,
          64,
          65,
          66,
          67,
          68,
          69,
          70,
          71,
          72,
          73,
          74,
          75,
          76,
          77,
          78,
          79,
          80,
          81,
          82,
          83,
          84,
          85,
          86,
          87,
          88,
          89,
          90,
          91,
          92,
          93,
          94,
          95,
          96,
          97,
          98,
          99,
          100,
          101,
          102,
          103,
          104,
          105,
          106,
          107,
          108,
          109,
          110,
          111,
          112,
          113,
          114,
          115,
          116,
          117,
          118,
          119,
          120,
          121,
          122,
          123,
          124,
          125,
          126,
          127,
          128,
          129,
          130,
          131,
          132,
          133,
          134,
          135,
          136,
          137,
          138,
          139,
          140,
          141,
          142,
          143,
          144,
          145,
          146,
          147,
          148,
          149,
          150,
          151,
          152,
          153,
          154,
          155,
          156,
          157,
          158,
          159,
          160,
          161,
          162,
          163,
          164,
          165,
          166,
          167,
          168,
          169,
          170,
          171,
          172,
          173,
          174,
          175,
          176,
          177,
          178,
          179,
          180,
          181,
          182,
          183,
          184,
          185,
          186,
          187,
          188,
          189,
          190,
          191,
          192,
          193,
          194,
          195,
          196,
          197,
          198,
          199,
          200,
          201,
          202,
          203,
          204,
          205,
          206,
          207,
          208,
          209,
          210,
          211,
          212,
          213,
          214,
          215,
          216,
          217,
          218,
          219,
          220,
          221,
          222,
          223,
          224,
          225,
          226,
          227,
          228,
          229,
          230,
          231,
          232,
          233,
          234,
          235,
          236,
          237,
          238,
          239,
          240,
          241,
          242,
          243,
          244,
          245,
          246,
          247,
          248,
          249,
          250,
          251,
          252,
          253,
          254,
          255,
          256,
          257,
          258,
          259,
          260,
          261,
          262,
          263,
          264,
          265,
          266,
          267,
          268,
          269,
          270,
          271,
          272,
          273,
          274,
          275,
          276,
          277,
          278,
          279,
          280,
          281,
          282,
          283,
          284,
          285,
          286,
          287,
          288,
          289,
          290,
          291,
          292,
          293,
          294,
          295,
          296,
          297,
          298,
          299,
          300,
          301,
          302,
          303,
          304,
          305,
          306,
          307,
          308,
          309,
          310,
          311,
          312,
          313,
          314,
          315,
          316,
          317,
          318,
          319,
          320,
          321,
          322,
          323,
          324,
          325,
          326,
          327,
          328,
          329,
          330,
          331,
          332,
          333,
          334,
          335,
          336,
          337,
          338,
          339,
          340,
          341,
          342,
          343,
          344,
          345,
          346,
          347,
          348,
          349,
          350,
          351,
          352,
          353,
          354,
          355,
          356,
          357,
          358,
          359,
          360,
          361,
          362,
          363,
          364,
          365,
          366,
          367,
          368,
          369,
          370,
          371,
          372,
          373,
          374,
          375,
          376,
          377,
          378,
          379,
          380,
          381,
          382,
          383,
          384,
          385,
          386,
          387,
          388,
          389,
          390,
          391,
          392,
          393,
          394,
          395,
          396,
          397,
          398,
          399,
          400,
          401,
          402,
          403,
          404,
          405,
          406,
          407,
          408,
          409,
          410,
          411,
          412,
          413,
          414,
          415,
          416,
          417,
          418,
          419,
          420,
          421,
          422,
          423,
          424,
          425,
          426,
          427,
          428,
          429,
          430,
          431,
          432,
          433,
          434,
          435,
          436,
          437,
          438,
          439,
          440,
          441,
          442,
          443,
          444,
          445,
          446,
          447,
          448,
          449,
          450,
          451,
          452,
          453,
          454,
          455,
          456,
          457,
          458,
          459,
          460,
          461,
          462,
          463,
          464,
          465,
          466,
          467,
          468,
          469,
          470,
          471,
          472,
          473,
          474,
          475,
          476,
          477,
          478,
          479,
          480,
          481,
          482,
          483,
          484,
          485,
          486,
          487,
          488,
          489,
          490,
          491,
          492,
          493,
          494,
          495,
          496,
          497,
          498,
          499,
          500,
          501,
          502,
          503,
          504,
          505,
          506,
          507,
          508,
          509,
          510,
          511,
          512,
          513,
          514,
          515,
          516,
          517,
          518,
          519,
          520,
          521,
          522,
          523,
          524,
          525,
          526,
          527,
          528,
          529,
          530,
          531,
          532,
          533,
          534,
          535,
          536,
          537,
          538,
          539,
          540,
          541,
          542,
          543,
          544,
          545,
          546,
          547,
          548,
          549,
          550,
          551,
          552,
          553,
          554,
          555,
          556,
          557,
          558,
          559,
          560,
          561,
          562,
          563,
          564,
          565,
          566,
          567,
          568,
          569,
          570,
          571,
          572,
          573,
          574,
          575,
          576,
          577,
          578,
          579,
          580,
          581,
          582,
          583,
          584,
          585,
          586,
          587,
          588,
          589,
          590,
          591,
          592,
          593,
          594,
          595,
          596,
          597,
          598,
          599
         ],
         "y": [
          4.630460665022653,
          4.632629927145885,
          4.632629927145885,
          4.632629927145885,
          4.632629927145885,
          4.734619545841963,
          4.734619545841963,
          4.734723021250844,
          4.818409313506132,
          4.818409313506132,
          4.9053197158446045,
          4.9053197158446045,
          4.973666537238962,
          4.981121736065545,
          4.981121736065545,
          4.981121736065545,
          4.981121736065545,
          4.981121736065545,
          4.981121736065545,
          4.981121736065545,
          5.040677582167221,
          5.040677582167221,
          5.040677582167221,
          5.040677582167221,
          5.040677582167221,
          5.040677582167221,
          5.041851950229662,
          5.041851950229662,
          5.0445859676851414,
          5.0528043651950165,
          5.052806100141176,
          5.11122614363984,
          5.11122614363984,
          5.117631068842681,
          5.117631068842681,
          5.117631068842681,
          5.118972175947815,
          5.118972175947815,
          5.118972175947815,
          5.139453221845546,
          5.140541479569749,
          5.315880366284724,
          5.315880366284724,
          5.315880366284724,
          5.315880366284724,
          5.315880366284724,
          5.315880366284724,
          5.315880366284724,
          5.315880366284724,
          5.317064815989166,
          5.363372071431729,
          5.363372071431729,
          5.37687745895799,
          5.37687745895799,
          5.378039681962221,
          5.378039681962221,
          5.403558302481373,
          5.451875188895872,
          5.451875188895872,
          5.451875188895872,
          5.451875188895872,
          5.451875188895872,
          5.484336640055341,
          5.52089455229835,
          5.520898852971386,
          5.520997517772023,
          5.529620913052739,
          5.577965930769194,
          5.63776908609992,
          5.63776908609992,
          5.663623719362206,
          5.663623719362206,
          5.663623719362206,
          5.663623719362206,
          5.663623719362206,
          5.680512304680351,
          5.68052335880954,
          5.6805265086450145,
          5.6805265086450145,
          5.6805265086450145,
          5.6805265086450145,
          5.712556870957709,
          5.786756451066805,
          5.787100114770193,
          5.787100114770193,
          5.787100114770193,
          5.787100114770193,
          5.787100114770193,
          5.787100114770193,
          5.81858789655576,
          5.830238651087578,
          5.860909933239366,
          5.860909933239366,
          5.860909933239366,
          5.860913805194026,
          5.860951838732312,
          5.885257607750909,
          5.885257607750909,
          5.929945314483536,
          5.929945314483536,
          5.929945314483536,
          5.929945314483536,
          5.929945314483536,
          5.9311380522465145,
          5.948857468123261,
          5.958302575267734,
          5.961118674842769,
          5.971401979524433,
          5.971401979524433,
          5.978242351944341,
          5.978242351944341,
          6.005085070157579,
          6.005085070157579,
          6.005085070157579,
          6.005471415179749,
          6.005471415179749,
          6.028084305614156,
          6.028088059734362,
          6.029060039371515,
          6.076049828886432,
          6.076082132274753,
          6.07957835018239,
          6.07957835018239,
          6.07957835018239,
          6.085430361364991,
          6.096808207172912,
          6.096997518922267,
          6.123896069484571,
          6.123896069484571,
          6.123898205622159,
          6.1316935185703905,
          6.166254559986297,
          6.170302170190832,
          6.170302170190832,
          6.170302170190832,
          6.170302170190832,
          6.170302170190832,
          6.195592712814848,
          6.195592712814848,
          6.195637474694865,
          6.195637474694865,
          6.195637474694865,
          6.195637474694865,
          6.195641612492497,
          6.2096028856314245,
          6.210460785679643,
          6.211494383765893,
          6.211495755695622,
          6.215775476642154,
          6.215778604579073,
          6.215778604579073,
          6.2258057531089825,
          6.225806170240928,
          6.225813923096705,
          6.226055316659975,
          6.247843869544304,
          6.247843869544304,
          6.249081631374429,
          6.250468884677099,
          6.268823269312499,
          6.268837131622338,
          6.2688403524024245,
          6.268844464662199,
          6.268847405215202,
          6.26894893562434,
          6.2744155099894545,
          6.27442487707672,
          6.27442487707672,
          6.278457260816171,
          6.279457305970886,
          6.279465506235689,
          6.279914037107379,
          6.27991699844312,
          6.292326276776165,
          6.294259422968138,
          6.300776973140333,
          6.300793700053042,
          6.32500428497585,
          6.325010863519954,
          6.325378020190039,
          6.325433684305963,
          6.325532700973523,
          6.326206937501923,
          6.326461395650903,
          6.333586985900057,
          6.333590312953862,
          6.333926557555363,
          6.336889853804048,
          6.339268690764148,
          6.344440992678262,
          6.344447172366749,
          6.344987159777651,
          6.344987159777651,
          6.363942114578014,
          6.394973228966229,
          6.394973228966229,
          6.394973228966229,
          6.394973228966229,
          6.394973228966229,
          6.396736328646411,
          6.396736328646411,
          6.396736328646411,
          6.396736328646411,
          6.396736328646411,
          6.396736493351102,
          6.396736493351102,
          6.425357532068661,
          6.425357532068661,
          6.4381501355213855,
          6.4381501355213855,
          6.4381501355213855,
          6.439652080498284,
          6.467848041739118,
          6.467865554457224,
          6.467865554457224,
          6.484999447225625,
          6.50523323293884,
          6.51213906243937,
          6.51213906243937,
          6.51213906243937,
          6.513045034458266,
          6.513045034458266,
          6.513045034458266,
          6.513422753888324,
          6.513500083874162,
          6.513862485241063,
          6.514741983955074,
          6.536250197511952,
          6.536250197511952,
          6.536250197511952,
          6.536250197511952,
          6.542422636375838,
          6.542422636375838,
          6.54294974614557,
          6.542957195912973,
          6.547696935924348,
          6.547697019753123,
          6.554161258973612,
          6.554999310242876,
          6.555281656715272,
          6.555281656715272,
          6.555281656715272,
          6.556004693668895,
          6.557235069980196,
          6.56095958552647,
          6.568343356058677,
          6.569144585384806,
          6.569145412377117,
          6.569148651932582,
          6.569149480890667,
          6.569300086896638,
          6.577209699871459,
          6.579800461870858,
          6.579800538900747,
          6.586560596337457,
          6.586560596337457,
          6.586560596337457,
          6.586560596337457,
          6.6099588057251015,
          6.6099588057251015,
          6.6099588057251015,
          6.610083783475479,
          6.610083783475479,
          6.610083783475479,
          6.610083783475479,
          6.610083783475479,
          6.610083783475479,
          6.610083783475479,
          6.610083783475479,
          6.610083783475479,
          6.610083783475479,
          6.610083783475479,
          6.620973609612701,
          6.6209736963462635,
          6.624946817503596,
          6.624948526734766,
          6.624948526734766,
          6.624948526734766,
          6.636167016923185,
          6.63814632356591,
          6.638151189173013,
          6.64378083746875,
          6.64378083746875,
          6.64378083746875,
          6.64378083746875,
          6.644138411886266,
          6.644138411886266,
          6.6445863971670995,
          6.646157223911517,
          6.647382018263334,
          6.648828318854951,
          6.648828318854951,
          6.653690115217099,
          6.665405625197836,
          6.666347926382752,
          6.666347926382752,
          6.666349264813599,
          6.666349264813599,
          6.667683833685884,
          6.6743025732080445,
          6.674808318473345,
          6.675407486655212,
          6.675407486655212,
          6.6754094975134555,
          6.6754094975134555,
          6.678225358744859,
          6.683426639014367,
          6.684521361071865,
          6.700806330651033,
          6.700806330651033,
          6.700806330651033,
          6.700806330651033,
          6.700806330651033,
          6.700806330651033,
          6.700806330651033,
          6.702439462338691,
          6.702439462338691,
          6.702439462338691,
          6.710888480085568,
          6.710888480085568,
          6.717121783804688,
          6.717121783804688,
          6.7201794621723066,
          6.7201794621723066,
          6.7201794621723066,
          6.7214914797500755,
          6.721491515783217,
          6.72941830260512,
          6.72941830260512,
          6.72941830260512,
          6.729514472650173,
          6.729514472650173,
          6.729875614732428,
          6.730181306261845,
          6.730181306261845,
          6.730181306261845,
          6.730409829747434,
          6.730409829747434,
          6.730409829747434,
          6.73073590129511,
          6.73073590129511,
          6.730805394254786,
          6.752198535093933,
          6.753179354301114,
          6.753179354301114,
          6.755032967249653,
          6.756627100653594,
          6.757416906386523,
          6.757416906386523,
          6.759685323243515,
          6.770170457913688,
          6.770170457913688,
          6.7709621299127045,
          6.7709621299127045,
          6.770962813676961,
          6.771254607396162,
          6.771433336488925,
          6.771433336488925,
          6.776667439401469,
          6.77680691545254,
          6.776806951938872,
          6.776878895734321,
          6.776879497478621,
          6.7775099061574675,
          6.781922359757557,
          6.781970415551866,
          6.78417182110505,
          6.784589077832163,
          6.787795230067708,
          6.787795333466891,
          6.787795333466891,
          6.788255098702703,
          6.788668572740722,
          6.788668572740722,
          6.801727463291439,
          6.801727555703992,
          6.8036802887358725,
          6.820926179463892,
          6.820926179463892,
          6.833706477630713,
          6.83377752593872,
          6.834487513186873,
          6.834487513186873,
          6.834487513186873,
          6.8354964507506955,
          6.8354964507506955,
          6.867707145200354,
          6.867707145200354,
          6.867707145200354,
          6.868163037875966,
          6.870939242886756,
          6.870939242886756,
          6.87106654300768,
          6.87106655105164,
          6.87106655105164,
          6.871074672764801,
          6.871074672764801,
          6.871557745218556,
          6.871557745218556,
          6.871826724122438,
          6.873310923545098,
          6.8736459222829795,
          6.87455496047769,
          6.87455496047769,
          6.87455496047769,
          6.874554984987681,
          6.874555384714018,
          6.875501748585089,
          6.875501748585089,
          6.875503405426843,
          6.875503525148625,
          6.8813314981402245,
          6.8813314981402245,
          6.8813314981402245,
          6.882689579844497,
          6.882689579844497,
          6.884904102786964,
          6.884904217891123,
          6.886581175611937,
          6.8867428399454615,
          6.886743068796975,
          6.890835957043046,
          6.890838024469017,
          6.8912218811856585,
          6.89122226403393,
          6.892453677061765,
          6.8934534462873955,
          6.893453686564631,
          6.895322271271829,
          6.895426242266802,
          6.895430321717762,
          6.901466350105833,
          6.9014666818360295,
          6.9014713843485085,
          6.901812238788273,
          6.901812238788273,
          6.901812561050639,
          6.901813008588523,
          6.9018979421791435,
          6.901900174583384,
          6.901933824175271,
          6.903006214705463,
          6.903006214705463,
          6.903883157151145,
          6.903883157151145,
          6.9059242883222245,
          6.9059242883222245,
          6.905924296000182,
          6.9137384094790795,
          6.9137384094790795,
          6.9137384094790795,
          6.9137384094790795,
          6.913778470209071,
          6.913778470209071,
          6.9170075970100555,
          6.917118606313654,
          6.917118606313654,
          6.917118606313654,
          6.917210295246804,
          6.9172102968080775,
          6.917222426706999,
          6.918020807977541,
          6.918020807977541,
          6.918020807977541,
          6.918020807977541,
          6.918020807977541,
          6.920130087878377,
          6.920157551711977,
          6.9203778880824025,
          6.9203778880824025,
          6.9232815871990185,
          6.923281600744518,
          6.923281600744518,
          6.9232817083900215,
          6.923503485543415,
          6.923503485543415,
          6.923503485543415,
          6.923503620385669,
          6.923503638461278,
          6.923562967891264,
          6.92356300836975,
          6.92356300836975,
          6.92455129983513,
          6.9246571626645546,
          6.924657255170197,
          6.924657255170197,
          6.924657267492361,
          6.924657267492361,
          6.924657273324127,
          6.92473131156368,
          6.924788787130093,
          6.924788787130093,
          6.9673227569026475,
          6.9673227569026475,
          6.9673227569026475,
          6.9673227569026475,
          6.9673227569026475,
          6.9673227569026475,
          6.9673227569026475,
          6.9673227569026475,
          6.9673227569026475,
          6.9696022685127925,
          6.969753439747846,
          6.973811369820372,
          6.97435370054497,
          6.97435370054497,
          6.9743537044847494,
          6.9760539606550696,
          6.976118877565085,
          6.976118877565085,
          6.976118879684418,
          6.980315260947382,
          6.985152601597566,
          6.985152601597566,
          6.985152601597566,
          6.985424819312505,
          6.985424819312505,
          6.985648078113157,
          6.985648078113157,
          6.985648078113157,
          6.985648078113157,
          6.985648078113157,
          6.985648078113157,
          6.985648078113157,
          6.985718786033197,
          6.985718786033197,
          6.985718786033197,
          6.985718786033197,
          6.985718786033197,
          6.985718786033197,
          6.985718786033197,
          6.985724580858064,
          6.985724580858064,
          6.985724580858064,
          6.985724580858064,
          6.985785282625755,
          6.985785302442077,
          6.992202953069233,
          6.992202970960383,
          6.992202970960383,
          6.992217556504246,
          6.992306710975463,
          6.993142032715281,
          6.993142032715281,
          6.993411672364923,
          6.9937794987067665,
          6.9937794987067665,
          6.99429036004518,
          6.99444012171994,
          6.9944915615810626,
          6.996362167603046,
          6.996595432293487,
          6.996595432293487,
          6.996595563320609,
          6.99669593040567,
          6.996695978607436,
          6.996696214148439,
          6.996696231473103,
          6.996696252255789,
          6.997303718822533,
          6.997303718822533,
          6.997303733715436,
          6.997329372285372,
          6.997393058951984,
          6.997393164693567,
          6.998320254657216,
          6.9983202894141705,
          6.99904825411366,
          6.999932660150146,
          7.003838647668026,
          7.003838647668026,
          7.003838647668026,
          7.003838647668026,
          7.003838647668026,
          7.00383868860402,
          7.00383868860402,
          7.00383868860402,
          7.00383868860402,
          7.00383868860402,
          7.00383868860402,
          7.0047257907758365,
          7.005023521390419,
          7.005650229118597,
          7.005947887117423,
          7.005948184409181,
          7.006936265494762,
          7.007017688866327,
          7.009539620885206,
          7.009539961994166,
          7.009539961994166,
          7.009770460506325,
          7.010106053497832,
          7.012903394382127,
          7.0129034276999285,
          7.0129034276999285,
          7.013052902893403,
          7.01305292497079,
          7.013325239320988,
          7.013325239320988,
          7.0133976816856505
         ]
        }
       ],
       "layout": {
        "template": {
         "data": {
          "bar": [
           {
            "error_x": {
             "color": "#2a3f5f"
            },
            "error_y": {
             "color": "#2a3f5f"
            },
            "marker": {
             "line": {
              "color": "#E5ECF6",
              "width": 0.5
             },
             "pattern": {
              "fillmode": "overlay",
              "size": 10,
              "solidity": 0.2
             }
            },
            "type": "bar"
           }
          ],
          "barpolar": [
           {
            "marker": {
             "line": {
              "color": "#E5ECF6",
              "width": 0.5
             },
             "pattern": {
              "fillmode": "overlay",
              "size": 10,
              "solidity": 0.2
             }
            },
            "type": "barpolar"
           }
          ],
          "carpet": [
           {
            "aaxis": {
             "endlinecolor": "#2a3f5f",
             "gridcolor": "white",
             "linecolor": "white",
             "minorgridcolor": "white",
             "startlinecolor": "#2a3f5f"
            },
            "baxis": {
             "endlinecolor": "#2a3f5f",
             "gridcolor": "white",
             "linecolor": "white",
             "minorgridcolor": "white",
             "startlinecolor": "#2a3f5f"
            },
            "type": "carpet"
           }
          ],
          "choropleth": [
           {
            "colorbar": {
             "outlinewidth": 0,
             "ticks": ""
            },
            "type": "choropleth"
           }
          ],
          "contour": [
           {
            "colorbar": {
             "outlinewidth": 0,
             "ticks": ""
            },
            "colorscale": [
             [
              0,
              "#0d0887"
             ],
             [
              0.1111111111111111,
              "#46039f"
             ],
             [
              0.2222222222222222,
              "#7201a8"
             ],
             [
              0.3333333333333333,
              "#9c179e"
             ],
             [
              0.4444444444444444,
              "#bd3786"
             ],
             [
              0.5555555555555556,
              "#d8576b"
             ],
             [
              0.6666666666666666,
              "#ed7953"
             ],
             [
              0.7777777777777778,
              "#fb9f3a"
             ],
             [
              0.8888888888888888,
              "#fdca26"
             ],
             [
              1,
              "#f0f921"
             ]
            ],
            "type": "contour"
           }
          ],
          "contourcarpet": [
           {
            "colorbar": {
             "outlinewidth": 0,
             "ticks": ""
            },
            "type": "contourcarpet"
           }
          ],
          "heatmap": [
           {
            "colorbar": {
             "outlinewidth": 0,
             "ticks": ""
            },
            "colorscale": [
             [
              0,
              "#0d0887"
             ],
             [
              0.1111111111111111,
              "#46039f"
             ],
             [
              0.2222222222222222,
              "#7201a8"
             ],
             [
              0.3333333333333333,
              "#9c179e"
             ],
             [
              0.4444444444444444,
              "#bd3786"
             ],
             [
              0.5555555555555556,
              "#d8576b"
             ],
             [
              0.6666666666666666,
              "#ed7953"
             ],
             [
              0.7777777777777778,
              "#fb9f3a"
             ],
             [
              0.8888888888888888,
              "#fdca26"
             ],
             [
              1,
              "#f0f921"
             ]
            ],
            "type": "heatmap"
           }
          ],
          "heatmapgl": [
           {
            "colorbar": {
             "outlinewidth": 0,
             "ticks": ""
            },
            "colorscale": [
             [
              0,
              "#0d0887"
             ],
             [
              0.1111111111111111,
              "#46039f"
             ],
             [
              0.2222222222222222,
              "#7201a8"
             ],
             [
              0.3333333333333333,
              "#9c179e"
             ],
             [
              0.4444444444444444,
              "#bd3786"
             ],
             [
              0.5555555555555556,
              "#d8576b"
             ],
             [
              0.6666666666666666,
              "#ed7953"
             ],
             [
              0.7777777777777778,
              "#fb9f3a"
             ],
             [
              0.8888888888888888,
              "#fdca26"
             ],
             [
              1,
              "#f0f921"
             ]
            ],
            "type": "heatmapgl"
           }
          ],
          "histogram": [
           {
            "marker": {
             "pattern": {
              "fillmode": "overlay",
              "size": 10,
              "solidity": 0.2
             }
            },
            "type": "histogram"
           }
          ],
          "histogram2d": [
           {
            "colorbar": {
             "outlinewidth": 0,
             "ticks": ""
            },
            "colorscale": [
             [
              0,
              "#0d0887"
             ],
             [
              0.1111111111111111,
              "#46039f"
             ],
             [
              0.2222222222222222,
              "#7201a8"
             ],
             [
              0.3333333333333333,
              "#9c179e"
             ],
             [
              0.4444444444444444,
              "#bd3786"
             ],
             [
              0.5555555555555556,
              "#d8576b"
             ],
             [
              0.6666666666666666,
              "#ed7953"
             ],
             [
              0.7777777777777778,
              "#fb9f3a"
             ],
             [
              0.8888888888888888,
              "#fdca26"
             ],
             [
              1,
              "#f0f921"
             ]
            ],
            "type": "histogram2d"
           }
          ],
          "histogram2dcontour": [
           {
            "colorbar": {
             "outlinewidth": 0,
             "ticks": ""
            },
            "colorscale": [
             [
              0,
              "#0d0887"
             ],
             [
              0.1111111111111111,
              "#46039f"
             ],
             [
              0.2222222222222222,
              "#7201a8"
             ],
             [
              0.3333333333333333,
              "#9c179e"
             ],
             [
              0.4444444444444444,
              "#bd3786"
             ],
             [
              0.5555555555555556,
              "#d8576b"
             ],
             [
              0.6666666666666666,
              "#ed7953"
             ],
             [
              0.7777777777777778,
              "#fb9f3a"
             ],
             [
              0.8888888888888888,
              "#fdca26"
             ],
             [
              1,
              "#f0f921"
             ]
            ],
            "type": "histogram2dcontour"
           }
          ],
          "mesh3d": [
           {
            "colorbar": {
             "outlinewidth": 0,
             "ticks": ""
            },
            "type": "mesh3d"
           }
          ],
          "parcoords": [
           {
            "line": {
             "colorbar": {
              "outlinewidth": 0,
              "ticks": ""
             }
            },
            "type": "parcoords"
           }
          ],
          "pie": [
           {
            "automargin": true,
            "type": "pie"
           }
          ],
          "scatter": [
           {
            "fillpattern": {
             "fillmode": "overlay",
             "size": 10,
             "solidity": 0.2
            },
            "type": "scatter"
           }
          ],
          "scatter3d": [
           {
            "line": {
             "colorbar": {
              "outlinewidth": 0,
              "ticks": ""
             }
            },
            "marker": {
             "colorbar": {
              "outlinewidth": 0,
              "ticks": ""
             }
            },
            "type": "scatter3d"
           }
          ],
          "scattercarpet": [
           {
            "marker": {
             "colorbar": {
              "outlinewidth": 0,
              "ticks": ""
             }
            },
            "type": "scattercarpet"
           }
          ],
          "scattergeo": [
           {
            "marker": {
             "colorbar": {
              "outlinewidth": 0,
              "ticks": ""
             }
            },
            "type": "scattergeo"
           }
          ],
          "scattergl": [
           {
            "marker": {
             "colorbar": {
              "outlinewidth": 0,
              "ticks": ""
             }
            },
            "type": "scattergl"
           }
          ],
          "scattermapbox": [
           {
            "marker": {
             "colorbar": {
              "outlinewidth": 0,
              "ticks": ""
             }
            },
            "type": "scattermapbox"
           }
          ],
          "scatterpolar": [
           {
            "marker": {
             "colorbar": {
              "outlinewidth": 0,
              "ticks": ""
             }
            },
            "type": "scatterpolar"
           }
          ],
          "scatterpolargl": [
           {
            "marker": {
             "colorbar": {
              "outlinewidth": 0,
              "ticks": ""
             }
            },
            "type": "scatterpolargl"
           }
          ],
          "scatterternary": [
           {
            "marker": {
             "colorbar": {
              "outlinewidth": 0,
              "ticks": ""
             }
            },
            "type": "scatterternary"
           }
          ],
          "surface": [
           {
            "colorbar": {
             "outlinewidth": 0,
             "ticks": ""
            },
            "colorscale": [
             [
              0,
              "#0d0887"
             ],
             [
              0.1111111111111111,
              "#46039f"
             ],
             [
              0.2222222222222222,
              "#7201a8"
             ],
             [
              0.3333333333333333,
              "#9c179e"
             ],
             [
              0.4444444444444444,
              "#bd3786"
             ],
             [
              0.5555555555555556,
              "#d8576b"
             ],
             [
              0.6666666666666666,
              "#ed7953"
             ],
             [
              0.7777777777777778,
              "#fb9f3a"
             ],
             [
              0.8888888888888888,
              "#fdca26"
             ],
             [
              1,
              "#f0f921"
             ]
            ],
            "type": "surface"
           }
          ],
          "table": [
           {
            "cells": {
             "fill": {
              "color": "#EBF0F8"
             },
             "line": {
              "color": "white"
             }
            },
            "header": {
             "fill": {
              "color": "#C8D4E3"
             },
             "line": {
              "color": "white"
             }
            },
            "type": "table"
           }
          ]
         },
         "layout": {
          "annotationdefaults": {
           "arrowcolor": "#2a3f5f",
           "arrowhead": 0,
           "arrowwidth": 1
          },
          "autotypenumbers": "strict",
          "coloraxis": {
           "colorbar": {
            "outlinewidth": 0,
            "ticks": ""
           }
          },
          "colorscale": {
           "diverging": [
            [
             0,
             "#8e0152"
            ],
            [
             0.1,
             "#c51b7d"
            ],
            [
             0.2,
             "#de77ae"
            ],
            [
             0.3,
             "#f1b6da"
            ],
            [
             0.4,
             "#fde0ef"
            ],
            [
             0.5,
             "#f7f7f7"
            ],
            [
             0.6,
             "#e6f5d0"
            ],
            [
             0.7,
             "#b8e186"
            ],
            [
             0.8,
             "#7fbc41"
            ],
            [
             0.9,
             "#4d9221"
            ],
            [
             1,
             "#276419"
            ]
           ],
           "sequential": [
            [
             0,
             "#0d0887"
            ],
            [
             0.1111111111111111,
             "#46039f"
            ],
            [
             0.2222222222222222,
             "#7201a8"
            ],
            [
             0.3333333333333333,
             "#9c179e"
            ],
            [
             0.4444444444444444,
             "#bd3786"
            ],
            [
             0.5555555555555556,
             "#d8576b"
            ],
            [
             0.6666666666666666,
             "#ed7953"
            ],
            [
             0.7777777777777778,
             "#fb9f3a"
            ],
            [
             0.8888888888888888,
             "#fdca26"
            ],
            [
             1,
             "#f0f921"
            ]
           ],
           "sequentialminus": [
            [
             0,
             "#0d0887"
            ],
            [
             0.1111111111111111,
             "#46039f"
            ],
            [
             0.2222222222222222,
             "#7201a8"
            ],
            [
             0.3333333333333333,
             "#9c179e"
            ],
            [
             0.4444444444444444,
             "#bd3786"
            ],
            [
             0.5555555555555556,
             "#d8576b"
            ],
            [
             0.6666666666666666,
             "#ed7953"
            ],
            [
             0.7777777777777778,
             "#fb9f3a"
            ],
            [
             0.8888888888888888,
             "#fdca26"
            ],
            [
             1,
             "#f0f921"
            ]
           ]
          },
          "colorway": [
           "#636efa",
           "#EF553B",
           "#00cc96",
           "#ab63fa",
           "#FFA15A",
           "#19d3f3",
           "#FF6692",
           "#B6E880",
           "#FF97FF",
           "#FECB52"
          ],
          "font": {
           "color": "#2a3f5f"
          },
          "geo": {
           "bgcolor": "white",
           "lakecolor": "white",
           "landcolor": "#E5ECF6",
           "showlakes": true,
           "showland": true,
           "subunitcolor": "white"
          },
          "hoverlabel": {
           "align": "left"
          },
          "hovermode": "closest",
          "mapbox": {
           "style": "light"
          },
          "paper_bgcolor": "white",
          "plot_bgcolor": "#E5ECF6",
          "polar": {
           "angularaxis": {
            "gridcolor": "white",
            "linecolor": "white",
            "ticks": ""
           },
           "bgcolor": "#E5ECF6",
           "radialaxis": {
            "gridcolor": "white",
            "linecolor": "white",
            "ticks": ""
           }
          },
          "scene": {
           "xaxis": {
            "backgroundcolor": "#E5ECF6",
            "gridcolor": "white",
            "gridwidth": 2,
            "linecolor": "white",
            "showbackground": true,
            "ticks": "",
            "zerolinecolor": "white"
           },
           "yaxis": {
            "backgroundcolor": "#E5ECF6",
            "gridcolor": "white",
            "gridwidth": 2,
            "linecolor": "white",
            "showbackground": true,
            "ticks": "",
            "zerolinecolor": "white"
           },
           "zaxis": {
            "backgroundcolor": "#E5ECF6",
            "gridcolor": "white",
            "gridwidth": 2,
            "linecolor": "white",
            "showbackground": true,
            "ticks": "",
            "zerolinecolor": "white"
           }
          },
          "shapedefaults": {
           "line": {
            "color": "#2a3f5f"
           }
          },
          "ternary": {
           "aaxis": {
            "gridcolor": "white",
            "linecolor": "white",
            "ticks": ""
           },
           "baxis": {
            "gridcolor": "white",
            "linecolor": "white",
            "ticks": ""
           },
           "bgcolor": "#E5ECF6",
           "caxis": {
            "gridcolor": "white",
            "linecolor": "white",
            "ticks": ""
           }
          },
          "title": {
           "x": 0.05
          },
          "xaxis": {
           "automargin": true,
           "gridcolor": "white",
           "linecolor": "white",
           "ticks": "",
           "title": {
            "standoff": 15
           },
           "zerolinecolor": "white",
           "zerolinewidth": 2
          },
          "yaxis": {
           "automargin": true,
           "gridcolor": "white",
           "linecolor": "white",
           "ticks": "",
           "title": {
            "standoff": 15
           },
           "zerolinecolor": "white",
           "zerolinewidth": 2
          }
         }
        },
        "title": {
         "text": "hypervolume over n_gen"
        },
        "xaxis": {
         "title": {
          "text": "generation"
         }
        },
        "yaxis": {
         "title": {
          "text": "hypervolume"
         }
        }
       }
      }
     },
     "metadata": {},
     "output_type": "display_data"
    }
   ],
   "source": [
    "fig1 = go.Figure()\n",
    "fig1.update_layout(\n",
    "    title=f\"pareto fonts\",\n",
    "    xaxis_title=\"avg energy efficiency\",\n",
    "    yaxis_title=\"avg downlink\")\n",
    "\n",
    "##### add paretofronts of all runs\n",
    "for index, pareto_front in enumerate(pareto_fronts):\n",
    "    fig1.add_trace(\n",
    "        go.Scatter(\n",
    "            x=np.array(pareto_front)[:,0],\n",
    "            y=np.array(pareto_front)[:,1],\n",
    "            mode='markers',\n",
    "            name=config_names[index],\n",
    "            )\n",
    "        )\n",
    "\n",
    "##### add rssi sampling population\n",
    "son = Son(adjacencies_file_name=f\"./datastore/{network_name}/{network_name}_adjacencies.json\", parameter_config_file_name=f\"./datastore/{network_name}/{config_names[0]}/{config_names[0]}.json\")\n",
    "sampling_pop_objecitve_space = create_greedy_rssi_sampling_pop(results_object[\"optimization_objectives\"], son)\n",
    "fig1.add_trace(\n",
    "     go.Scatter(\n",
    "        x=sampling_pop_objecitve_space[:,0],\n",
    "        y=sampling_pop_objecitve_space[:,1],\n",
    "        mode='markers',\n",
    "        name= \"greedy_sampling_pop\",\n",
    "        )\n",
    "    )\n",
    "###### highlight greedy assignment activation profile\n",
    "fig1.add_trace(\n",
    "    go.Scatter(\n",
    "        x=np.array(sampling_pop_objecitve_space[-1][0]),\n",
    "        y=np.array(sampling_pop_objecitve_space[-1][1]),\n",
    "        mode='markers',\n",
    "        name= \"greedy_assignment_profile\",\n",
    "        opacity= 0.5,\n",
    "        marker=dict(size=10)\n",
    "        )\n",
    "    )\n",
    "##### highlight asf selection from rssi_sampling\n",
    "i = asf_select(sampling_pop_objecitve_space)\n",
    "fig1.add_trace(\n",
    "    go.Scatter(\n",
    "        x=np.array(sampling_pop_objecitve_space[i][0]),\n",
    "        y=np.array(sampling_pop_objecitve_space[i][1]),\n",
    "        mode='markers',\n",
    "        name= \"asf selection for greedy_sampling_pop\",\n",
    "        opacity= 0.5,\n",
    "        marker=dict(size=10)\n",
    "        )\n",
    "    )\n",
    "\n",
    "fig2 = go.Figure()\n",
    "fig2.update_layout(\n",
    "    title=\"hypervolume over n_gen\",\n",
    "    xaxis_title=\"generation\",\n",
    "    yaxis_title=\"hypervolume\")\n",
    "\n",
    "for index, hyper_volume_history in enumerate(hyper_volume_histories):\n",
    "    fig2.add_trace(\n",
    "        go.Scatter(\n",
    "            x=list(range(0, len(hyper_volume_history))),\n",
    "            y=hyper_volume_history,\n",
    "            mode='lines',\n",
    "            name=config_names[index],\n",
    "            ))\n",
    "\n",
    "\n",
    "fig1.show()\n",
    "fig2.show()"
   ]
  }
 ],
 "metadata": {
  "kernelspec": {
   "display_name": "Python 3 (ipykernel)",
   "language": "python",
   "name": "python3"
  },
  "language_info": {
   "codemirror_mode": {
    "name": "ipython",
    "version": 3
   },
   "file_extension": ".py",
   "mimetype": "text/x-python",
   "name": "python",
   "nbconvert_exporter": "python",
   "pygments_lexer": "ipython3",
   "version": "3.11.5"
  }
 },
 "nbformat": 4,
 "nbformat_minor": 5
}
