{
 "cells": [
  {
   "cell_type": "code",
   "execution_count": 10,
   "id": "7bc1c4da-f3bc-4a3d-9069-5655b400e7dc",
   "metadata": {},
   "outputs": [],
   "source": [
    "\n",
    "import json\n",
    "import numpy as np\n",
    "from son_main_script import Son\n",
    "from son_pymoo import HighRssiFirstSampling, SonProblemElementWise\n",
    "from pymoo.decomposition.asf import ASF\n",
    "import plotly.graph_objects as go\n",
    "from pymoo.indicators.hv import Hypervolume\n",
    "import matplotlib.pyplot as plt\n",
    "import scipy.stats\n",
    "\n",
    "def asf_select(objective_space: np.ndarray,\n",
    "                    weights=[]):\n",
    "\n",
    "    approx_ideal = objective_space.min(axis=0)\n",
    "    approx_nadir = objective_space.max(axis=0)\n",
    "\n",
    "    np.seterr(divide='ignore', invalid='ignore')\n",
    "    nF = (objective_space - approx_ideal) / (approx_nadir - approx_ideal)\n",
    "    decomp = ASF()\n",
    "\n",
    "    if len(weights) != objective_space.shape[1]:\n",
    "        weights = [1/objective_space.shape[1] for _ in range(objective_space.shape[1])]\n",
    "\n",
    "    weights_np= np.array(weights)\n",
    "    i = decomp.do(nF, weights_np).argmin()\n",
    "    return i\n",
    "\n",
    "def normalize_objective_space_pop(objective_space_pop: np.ndarray, ideal, nadir):\n",
    "    return (objective_space_pop - ideal) / (nadir - ideal)\n",
    "\n",
    "def create_greedy_rssi_sampling_pop(optimization_objectives: list[str], son: Son):\n",
    "     ###### test HighRssiFirstSampling\n",
    "    \n",
    "    son_problem_obj = SonProblemElementWise(optimization_objectives, son)\n",
    "    # create pop with RssiSampling\n",
    "    high_rssi_sampling_obj = HighRssiFirstSampling()\n",
    "    sampling_pop = high_rssi_sampling_obj._do(son_problem_obj, 100)\n",
    "    sampling_pop_objecitve_space = np.empty((100,len(optimization_objectives)))\n",
    "    out = {}\n",
    "    for index, ind in enumerate(sampling_pop):\n",
    "        son_problem_obj._evaluate(ind, out)\n",
    "        sampling_pop_objecitve_space[index]=out[\"F\"]\n",
    "    return sampling_pop_objecitve_space\n",
    "\n",
    "def get_hypervolume(objective_space_pop: np.ndarray, ref_point=np.array([1.1, 1.1]), norm_ref_point=False, zero_to_one=False, ideal=None, nadir=None):\n",
    "    hv = Hypervolume(ref_point=ref_point,\n",
    "                     norm_ref_point=norm_ref_point,\n",
    "                     zero_to_one=zero_to_one,\n",
    "                     ideal=ideal,\n",
    "                     nadir=nadir)\n",
    "    \n",
    "    return hv(objective_space_pop)\n",
    "\n",
    "##################################################################\n",
    "\n",
    "\n",
    "\n",
    "network_name = \"het_C50\"\n",
    "config_names = [ \"static\"]\n",
    "\n",
    "# network_name = \"het_C50_random\"\n",
    "# config_names = [\"static\"]\n",
    "\n",
    "\n",
    "##################################################################\n",
    "pareto_fronts = []\n",
    "paretor_fronts_normalized = []\n",
    "hyper_volume_histories = []\n",
    "combined_his = [] ## -> combine all objective result in one array (used only for normalization)\n",
    "nadir = np.array([])\n",
    "ideal = np.array([])\n",
    "\n",
    "\n",
    "### find  nadir and ideal points for normalization over all experiments\n",
    "for _, config_name in enumerate(config_names):\n",
    "    results_directory = f\"./datastore/{network_name}/{config_name}/\"\n",
    "\n",
    "    with open(results_directory + \"objectives_result.json\", mode=\"r\",encoding=\"utf-8\") as openfile:\n",
    "        results_object = json.load(openfile)\n",
    "        for _, current_pop_objectivespace in enumerate(results_object[\"history\"][\"objective_space_opt\"]):\n",
    "            for _, current_ind in enumerate(current_pop_objectivespace):\n",
    "                combined_his.append(list(np.array(current_ind)[0:2]))\n",
    "\n",
    "\n",
    "\n",
    "nadir = np.array(combined_his).max(axis=0)\n",
    "ideal = np.array(combined_his).min(axis=0)\n",
    "\n",
    "\n",
    "### collect paretorfronts, hypervolumes, normalized paretorfronts per experiment\n",
    "for _, config_name in enumerate(config_names):\n",
    "    results_directory = f\"./datastore/{network_name}/{config_name}/\"\n",
    "\n",
    "    \n",
    "    with open(results_directory + \"objectives_result.json\", mode=\"r\",encoding=\"utf-8\") as openfile:\n",
    "        results_object = json.load(openfile)\n",
    "\n",
    "        pareto_fronts.append(np.array(results_object[\"objectiveSpace\"])[:,0:2])\n",
    "        paretor_fronts_normalized.append(normalize_objective_space_pop(np.array(results_object[\"objectiveSpace\"])[:,0:2], ideal, nadir))\n",
    "        hyper_volume_history = []\n",
    "            \n",
    "        for _, current_pop_objectivespace in enumerate(results_object[\"history\"][\"objective_space_opt\"]):\n",
    "            normalized_current_pop = normalize_objective_space_pop(np.array(current_pop_objectivespace)[:,0:2], ideal, nadir)\n",
    "            hyper_volume_history.append(get_hypervolume(np.array(normalized_current_pop)))\n",
    "        \n",
    "    hyper_volume_histories.append(hyper_volume_history)"
   ]
  },
  {
   "cell_type": "code",
   "execution_count": 11,
   "id": "7ae4bc69",
   "metadata": {},
   "outputs": [
    {
     "data": {
      "application/vnd.plotly.v1+json": {
       "config": {
        "plotlyServerURL": "https://plot.ly"
       },
       "data": [
        {
         "mode": "markers",
         "name": "static",
         "type": "scatter",
         "x": [
          4589.2659,
          4752.2746,
          5360.3202,
          4649.1238,
          4700.6992,
          5095.3306,
          5183.6605,
          4557.6431,
          5063.7078,
          4597.5484,
          4860.557,
          4892.1798,
          4669.0764,
          4923.8026,
          5841.9429,
          4943.7552,
          5391.9429,
          4680.7465,
          5163.7078,
          4803.85,
          4657.4062,
          4880.5097,
          5032.0851,
          4537.6905,
          4617.501,
          4637.4536,
          4772.2272,
          5283.6605,
          5152.0377,
          4720.6518
         ],
         "y": [
          -263309638.03449935,
          -280583022.01690733,
          -301501914.6230606,
          -272280140.7708243,
          -277676644.7241329,
          -297581522.720104,
          -299788810.5237598,
          -260383229.157271,
          -296711055.5283926,
          -267714258.02600518,
          -286973711.3158967,
          -289491359.4939531,
          -273972558.99816775,
          -290577309.89290893,
          -304246799.0355878,
          -293108224.2094391,
          -303949868.99122596,
          -277456807.92200965,
          -298124647.5455035,
          -285209575.6552302,
          -273393530.30017823,
          -289123051.5447218,
          -293973107.25856644,
          -257031797.2000717,
          -270174451.42807335,
          -271581021.7082118,
          -284129129.6502488,
          -300425138.89255846,
          -298024712.0127973,
          -279974344.62502253
         ]
        },
        {
         "marker": {
          "size": 10
         },
         "mode": "markers",
         "name": "asf selection",
         "opacity": 0.5,
         "type": "scatter",
         "x": [
          4923.8026
         ],
         "y": [
          -290577309.89290893
         ]
        },
        {
         "mode": "markers",
         "name": "greedy_sampling_pop",
         "type": "scatter",
         "x": [
          7458.7491,
          7492.1158,
          7547.0789,
          7265.3878,
          7540.4401,
          7447.0789,
          7338.7964,
          7453.7177,
          7658.7491,
          7345.5718,
          7305.4297,
          7647.0789,
          7537.1527,
          7428.77,
          7293.7595,
          7415.4561,
          7247.0789,
          7392.1158,
          7447.0789,
          7172.1632,
          7445.4352,
          7762.1368,
          7380.4457,
          7345.4352,
          7315.4561,
          7658.7491,
          7137.1527,
          7348.8229,
          7488.7281,
          7438.7964,
          7202.1423,
          7273.8069,
          7298.8912,
          7528.77,
          7177.058,
          7217.0998,
          7462.1368,
          7468.7755,
          7223.7386,
          7262.1368,
          7623.7386,
          7442.1841,
          7258.7491,
          7688.7281,
          7550.4666,
          7572.1632,
          7398.7909,
          7398.7909,
          7370.4192,
          7208.9177,
          7337.1527,
          7275.4506,
          7417.0998,
          7205.4297,
          7582.0894,
          7412.0685,
          7383.8334,
          7045.5718,
          7372.1632,
          7557.1054,
          7353.8543,
          7240.5404,
          7255.498,
          7445.4352,
          7515.4561,
          7283.8334,
          7168.7755,
          7485.4771,
          7403.786,
          7270.4192,
          7470.4192,
          7150.4666,
          7670.4192,
          7570.4192,
          7512.0685,
          7343.8278,
          7408.8174,
          7195.5035,
          7412.0685,
          7558.7491,
          7547.0789,
          7472.1632,
          7405.53,
          7642.0475,
          7173.8069,
          7227.1263,
          7333.9017,
          7532.1577,
          7362.1368,
          7490.4721,
          7438.7964,
          7400.3983,
          7370.4192,
          7522.0949,
          7418.8438,
          7097.1472,
          7220.5878,
          7393.7595,
          7447.0789,
          7220.4512
         ],
         "y": [
          -153524651.55303743,
          -171757878.53528398,
          -155859402.6751872,
          -176495654.76558656,
          -155522858.63849494,
          -153686816.52572373,
          -153156047.3323612,
          -174898210.15971795,
          -161826754.83229783,
          -139416912.88341415,
          -146666890.81012014,
          -150193041.4066417,
          -163830066.9633942,
          -155152886.95151365,
          -151635396.49070504,
          -158693500.9444715,
          -166450506.94020966,
          -169090169.9398941,
          -164044741.97195712,
          -161763907.0528188,
          -178427738.21400723,
          -150207872.0015322,
          -155654978.03111714,
          -176634708.91370416,
          -172594754.6412112,
          -157743738.21232274,
          -164583784.80018458,
          -167406966.6903186,
          -172427182.47534797,
          -154910385.41794515,
          -174062004.84140846,
          -150294381.3296598,
          -155749743.23880005,
          -147846459.10422003,
          -174789433.2914075,
          -153848874.32613543,
          -153591128.85055736,
          -168595384.7930811,
          -171440153.08930722,
          -159723113.87746352,
          -169639607.8081056,
          -158606473.9518577,
          -164405249.03733817,
          -165338176.1712985,
          -152261391.75037277,
          -158940182.3748452,
          -135918160.60839418,
          -140139966.07420766,
          -156690524.02404487,
          -159425653.4238794,
          -158452365.3548504,
          -141962533.41414645,
          -153697927.92011297,
          -154759924.47687376,
          -158085861.56206435,
          -173433299.89228714,
          -163355388.74588892,
          -142131865.58735391,
          -162509045.29005,
          -175419225.64409912,
          -149864138.7102915,
          -163129559.63756764,
          -142329856.47303864,
          -163616544.33548823,
          -169276546.88621566,
          -157993688.08249807,
          -169810446.74011248,
          -150418558.70878127,
          -163664091.090512,
          -154783975.6611128,
          -157369180.80182973,
          -165022246.9680663,
          -159339745.0087684,
          -162913338.61239022,
          -166753270.11474538,
          -131796160.3965747,
          -142792607.6759018,
          -168889845.19902292,
          -172406855.1416164,
          -160845864.83120605,
          -168845005.32997844,
          -165180563.88328692,
          -165939786.33755884,
          -171561734.69798335,
          -153979941.6481373,
          -154620240.88887626,
          -146829498.14109668,
          -137263677.1529246,
          -158545210.19997224,
          -183770139.85070756,
          -160160443.00354022,
          -175832088.5344895,
          -157234036.4650134,
          -181829942.7680317,
          -155981298.07359087,
          -143365508.00152957,
          -166345709.07304147,
          -148255803.03578317,
          -177851729.0231413,
          -248011512.28251418
         ]
        },
        {
         "marker": {
          "size": 10
         },
         "mode": "markers",
         "name": "greedy_assignment_profile",
         "opacity": 0.5,
         "type": "scatter",
         "x": [
          7220.4512
         ],
         "y": [
          -248011512.28251418
         ]
        },
        {
         "marker": {
          "size": 10
         },
         "mode": "markers",
         "name": "asf selection for greedy_sampling_pop",
         "opacity": 0.5,
         "type": "scatter",
         "x": [
          7220.4512
         ],
         "y": [
          -248011512.28251418
         ]
        }
       ],
       "layout": {
        "template": {
         "data": {
          "bar": [
           {
            "error_x": {
             "color": "#2a3f5f"
            },
            "error_y": {
             "color": "#2a3f5f"
            },
            "marker": {
             "line": {
              "color": "#E5ECF6",
              "width": 0.5
             },
             "pattern": {
              "fillmode": "overlay",
              "size": 10,
              "solidity": 0.2
             }
            },
            "type": "bar"
           }
          ],
          "barpolar": [
           {
            "marker": {
             "line": {
              "color": "#E5ECF6",
              "width": 0.5
             },
             "pattern": {
              "fillmode": "overlay",
              "size": 10,
              "solidity": 0.2
             }
            },
            "type": "barpolar"
           }
          ],
          "carpet": [
           {
            "aaxis": {
             "endlinecolor": "#2a3f5f",
             "gridcolor": "white",
             "linecolor": "white",
             "minorgridcolor": "white",
             "startlinecolor": "#2a3f5f"
            },
            "baxis": {
             "endlinecolor": "#2a3f5f",
             "gridcolor": "white",
             "linecolor": "white",
             "minorgridcolor": "white",
             "startlinecolor": "#2a3f5f"
            },
            "type": "carpet"
           }
          ],
          "choropleth": [
           {
            "colorbar": {
             "outlinewidth": 0,
             "ticks": ""
            },
            "type": "choropleth"
           }
          ],
          "contour": [
           {
            "colorbar": {
             "outlinewidth": 0,
             "ticks": ""
            },
            "colorscale": [
             [
              0,
              "#0d0887"
             ],
             [
              0.1111111111111111,
              "#46039f"
             ],
             [
              0.2222222222222222,
              "#7201a8"
             ],
             [
              0.3333333333333333,
              "#9c179e"
             ],
             [
              0.4444444444444444,
              "#bd3786"
             ],
             [
              0.5555555555555556,
              "#d8576b"
             ],
             [
              0.6666666666666666,
              "#ed7953"
             ],
             [
              0.7777777777777778,
              "#fb9f3a"
             ],
             [
              0.8888888888888888,
              "#fdca26"
             ],
             [
              1,
              "#f0f921"
             ]
            ],
            "type": "contour"
           }
          ],
          "contourcarpet": [
           {
            "colorbar": {
             "outlinewidth": 0,
             "ticks": ""
            },
            "type": "contourcarpet"
           }
          ],
          "heatmap": [
           {
            "colorbar": {
             "outlinewidth": 0,
             "ticks": ""
            },
            "colorscale": [
             [
              0,
              "#0d0887"
             ],
             [
              0.1111111111111111,
              "#46039f"
             ],
             [
              0.2222222222222222,
              "#7201a8"
             ],
             [
              0.3333333333333333,
              "#9c179e"
             ],
             [
              0.4444444444444444,
              "#bd3786"
             ],
             [
              0.5555555555555556,
              "#d8576b"
             ],
             [
              0.6666666666666666,
              "#ed7953"
             ],
             [
              0.7777777777777778,
              "#fb9f3a"
             ],
             [
              0.8888888888888888,
              "#fdca26"
             ],
             [
              1,
              "#f0f921"
             ]
            ],
            "type": "heatmap"
           }
          ],
          "heatmapgl": [
           {
            "colorbar": {
             "outlinewidth": 0,
             "ticks": ""
            },
            "colorscale": [
             [
              0,
              "#0d0887"
             ],
             [
              0.1111111111111111,
              "#46039f"
             ],
             [
              0.2222222222222222,
              "#7201a8"
             ],
             [
              0.3333333333333333,
              "#9c179e"
             ],
             [
              0.4444444444444444,
              "#bd3786"
             ],
             [
              0.5555555555555556,
              "#d8576b"
             ],
             [
              0.6666666666666666,
              "#ed7953"
             ],
             [
              0.7777777777777778,
              "#fb9f3a"
             ],
             [
              0.8888888888888888,
              "#fdca26"
             ],
             [
              1,
              "#f0f921"
             ]
            ],
            "type": "heatmapgl"
           }
          ],
          "histogram": [
           {
            "marker": {
             "pattern": {
              "fillmode": "overlay",
              "size": 10,
              "solidity": 0.2
             }
            },
            "type": "histogram"
           }
          ],
          "histogram2d": [
           {
            "colorbar": {
             "outlinewidth": 0,
             "ticks": ""
            },
            "colorscale": [
             [
              0,
              "#0d0887"
             ],
             [
              0.1111111111111111,
              "#46039f"
             ],
             [
              0.2222222222222222,
              "#7201a8"
             ],
             [
              0.3333333333333333,
              "#9c179e"
             ],
             [
              0.4444444444444444,
              "#bd3786"
             ],
             [
              0.5555555555555556,
              "#d8576b"
             ],
             [
              0.6666666666666666,
              "#ed7953"
             ],
             [
              0.7777777777777778,
              "#fb9f3a"
             ],
             [
              0.8888888888888888,
              "#fdca26"
             ],
             [
              1,
              "#f0f921"
             ]
            ],
            "type": "histogram2d"
           }
          ],
          "histogram2dcontour": [
           {
            "colorbar": {
             "outlinewidth": 0,
             "ticks": ""
            },
            "colorscale": [
             [
              0,
              "#0d0887"
             ],
             [
              0.1111111111111111,
              "#46039f"
             ],
             [
              0.2222222222222222,
              "#7201a8"
             ],
             [
              0.3333333333333333,
              "#9c179e"
             ],
             [
              0.4444444444444444,
              "#bd3786"
             ],
             [
              0.5555555555555556,
              "#d8576b"
             ],
             [
              0.6666666666666666,
              "#ed7953"
             ],
             [
              0.7777777777777778,
              "#fb9f3a"
             ],
             [
              0.8888888888888888,
              "#fdca26"
             ],
             [
              1,
              "#f0f921"
             ]
            ],
            "type": "histogram2dcontour"
           }
          ],
          "mesh3d": [
           {
            "colorbar": {
             "outlinewidth": 0,
             "ticks": ""
            },
            "type": "mesh3d"
           }
          ],
          "parcoords": [
           {
            "line": {
             "colorbar": {
              "outlinewidth": 0,
              "ticks": ""
             }
            },
            "type": "parcoords"
           }
          ],
          "pie": [
           {
            "automargin": true,
            "type": "pie"
           }
          ],
          "scatter": [
           {
            "fillpattern": {
             "fillmode": "overlay",
             "size": 10,
             "solidity": 0.2
            },
            "type": "scatter"
           }
          ],
          "scatter3d": [
           {
            "line": {
             "colorbar": {
              "outlinewidth": 0,
              "ticks": ""
             }
            },
            "marker": {
             "colorbar": {
              "outlinewidth": 0,
              "ticks": ""
             }
            },
            "type": "scatter3d"
           }
          ],
          "scattercarpet": [
           {
            "marker": {
             "colorbar": {
              "outlinewidth": 0,
              "ticks": ""
             }
            },
            "type": "scattercarpet"
           }
          ],
          "scattergeo": [
           {
            "marker": {
             "colorbar": {
              "outlinewidth": 0,
              "ticks": ""
             }
            },
            "type": "scattergeo"
           }
          ],
          "scattergl": [
           {
            "marker": {
             "colorbar": {
              "outlinewidth": 0,
              "ticks": ""
             }
            },
            "type": "scattergl"
           }
          ],
          "scattermapbox": [
           {
            "marker": {
             "colorbar": {
              "outlinewidth": 0,
              "ticks": ""
             }
            },
            "type": "scattermapbox"
           }
          ],
          "scatterpolar": [
           {
            "marker": {
             "colorbar": {
              "outlinewidth": 0,
              "ticks": ""
             }
            },
            "type": "scatterpolar"
           }
          ],
          "scatterpolargl": [
           {
            "marker": {
             "colorbar": {
              "outlinewidth": 0,
              "ticks": ""
             }
            },
            "type": "scatterpolargl"
           }
          ],
          "scatterternary": [
           {
            "marker": {
             "colorbar": {
              "outlinewidth": 0,
              "ticks": ""
             }
            },
            "type": "scatterternary"
           }
          ],
          "surface": [
           {
            "colorbar": {
             "outlinewidth": 0,
             "ticks": ""
            },
            "colorscale": [
             [
              0,
              "#0d0887"
             ],
             [
              0.1111111111111111,
              "#46039f"
             ],
             [
              0.2222222222222222,
              "#7201a8"
             ],
             [
              0.3333333333333333,
              "#9c179e"
             ],
             [
              0.4444444444444444,
              "#bd3786"
             ],
             [
              0.5555555555555556,
              "#d8576b"
             ],
             [
              0.6666666666666666,
              "#ed7953"
             ],
             [
              0.7777777777777778,
              "#fb9f3a"
             ],
             [
              0.8888888888888888,
              "#fdca26"
             ],
             [
              1,
              "#f0f921"
             ]
            ],
            "type": "surface"
           }
          ],
          "table": [
           {
            "cells": {
             "fill": {
              "color": "#EBF0F8"
             },
             "line": {
              "color": "white"
             }
            },
            "header": {
             "fill": {
              "color": "#C8D4E3"
             },
             "line": {
              "color": "white"
             }
            },
            "type": "table"
           }
          ]
         },
         "layout": {
          "annotationdefaults": {
           "arrowcolor": "#2a3f5f",
           "arrowhead": 0,
           "arrowwidth": 1
          },
          "autotypenumbers": "strict",
          "coloraxis": {
           "colorbar": {
            "outlinewidth": 0,
            "ticks": ""
           }
          },
          "colorscale": {
           "diverging": [
            [
             0,
             "#8e0152"
            ],
            [
             0.1,
             "#c51b7d"
            ],
            [
             0.2,
             "#de77ae"
            ],
            [
             0.3,
             "#f1b6da"
            ],
            [
             0.4,
             "#fde0ef"
            ],
            [
             0.5,
             "#f7f7f7"
            ],
            [
             0.6,
             "#e6f5d0"
            ],
            [
             0.7,
             "#b8e186"
            ],
            [
             0.8,
             "#7fbc41"
            ],
            [
             0.9,
             "#4d9221"
            ],
            [
             1,
             "#276419"
            ]
           ],
           "sequential": [
            [
             0,
             "#0d0887"
            ],
            [
             0.1111111111111111,
             "#46039f"
            ],
            [
             0.2222222222222222,
             "#7201a8"
            ],
            [
             0.3333333333333333,
             "#9c179e"
            ],
            [
             0.4444444444444444,
             "#bd3786"
            ],
            [
             0.5555555555555556,
             "#d8576b"
            ],
            [
             0.6666666666666666,
             "#ed7953"
            ],
            [
             0.7777777777777778,
             "#fb9f3a"
            ],
            [
             0.8888888888888888,
             "#fdca26"
            ],
            [
             1,
             "#f0f921"
            ]
           ],
           "sequentialminus": [
            [
             0,
             "#0d0887"
            ],
            [
             0.1111111111111111,
             "#46039f"
            ],
            [
             0.2222222222222222,
             "#7201a8"
            ],
            [
             0.3333333333333333,
             "#9c179e"
            ],
            [
             0.4444444444444444,
             "#bd3786"
            ],
            [
             0.5555555555555556,
             "#d8576b"
            ],
            [
             0.6666666666666666,
             "#ed7953"
            ],
            [
             0.7777777777777778,
             "#fb9f3a"
            ],
            [
             0.8888888888888888,
             "#fdca26"
            ],
            [
             1,
             "#f0f921"
            ]
           ]
          },
          "colorway": [
           "#636efa",
           "#EF553B",
           "#00cc96",
           "#ab63fa",
           "#FFA15A",
           "#19d3f3",
           "#FF6692",
           "#B6E880",
           "#FF97FF",
           "#FECB52"
          ],
          "font": {
           "color": "#2a3f5f"
          },
          "geo": {
           "bgcolor": "white",
           "lakecolor": "white",
           "landcolor": "#E5ECF6",
           "showlakes": true,
           "showland": true,
           "subunitcolor": "white"
          },
          "hoverlabel": {
           "align": "left"
          },
          "hovermode": "closest",
          "mapbox": {
           "style": "light"
          },
          "paper_bgcolor": "white",
          "plot_bgcolor": "#E5ECF6",
          "polar": {
           "angularaxis": {
            "gridcolor": "white",
            "linecolor": "white",
            "ticks": ""
           },
           "bgcolor": "#E5ECF6",
           "radialaxis": {
            "gridcolor": "white",
            "linecolor": "white",
            "ticks": ""
           }
          },
          "scene": {
           "xaxis": {
            "backgroundcolor": "#E5ECF6",
            "gridcolor": "white",
            "gridwidth": 2,
            "linecolor": "white",
            "showbackground": true,
            "ticks": "",
            "zerolinecolor": "white"
           },
           "yaxis": {
            "backgroundcolor": "#E5ECF6",
            "gridcolor": "white",
            "gridwidth": 2,
            "linecolor": "white",
            "showbackground": true,
            "ticks": "",
            "zerolinecolor": "white"
           },
           "zaxis": {
            "backgroundcolor": "#E5ECF6",
            "gridcolor": "white",
            "gridwidth": 2,
            "linecolor": "white",
            "showbackground": true,
            "ticks": "",
            "zerolinecolor": "white"
           }
          },
          "shapedefaults": {
           "line": {
            "color": "#2a3f5f"
           }
          },
          "ternary": {
           "aaxis": {
            "gridcolor": "white",
            "linecolor": "white",
            "ticks": ""
           },
           "baxis": {
            "gridcolor": "white",
            "linecolor": "white",
            "ticks": ""
           },
           "bgcolor": "#E5ECF6",
           "caxis": {
            "gridcolor": "white",
            "linecolor": "white",
            "ticks": ""
           }
          },
          "title": {
           "x": 0.05
          },
          "xaxis": {
           "automargin": true,
           "gridcolor": "white",
           "linecolor": "white",
           "ticks": "",
           "title": {
            "standoff": 15
           },
           "zerolinecolor": "white",
           "zerolinewidth": 2
          },
          "yaxis": {
           "automargin": true,
           "gridcolor": "white",
           "linecolor": "white",
           "ticks": "",
           "title": {
            "standoff": 15
           },
           "zerolinecolor": "white",
           "zerolinewidth": 2
          }
         }
        },
        "title": {
         "text": "pareto fronts"
        },
        "xaxis": {
         "title": {
          "text": "total energy energy consumption"
         }
        },
        "yaxis": {
         "title": {
          "text": "avg downlink"
         }
        }
       }
      }
     },
     "metadata": {},
     "output_type": "display_data"
    },
    {
     "data": {
      "application/vnd.plotly.v1+json": {
       "config": {
        "plotlyServerURL": "https://plot.ly"
       },
       "data": [
        {
         "mode": "markers",
         "name": "static",
         "type": "scatter",
         "x": [
          0.017586365348101502,
          0.07316965802482389,
          0.28050323313825903,
          0.03799692732862151,
          0.0555832926767227,
          0.19014612647408932,
          0.22026517339493235,
          0.006803509294053659,
          0.17936327042004147,
          0.020410561980520006,
          0.11009218014136092,
          0.12087503619540876,
          0.044800436622674855,
          0.1316578922494566,
          0.4447286732150976,
          0.13846140154350994,
          0.2912860550939472,
          0.0487797492843097,
          0.21346163000251933,
          0.09075602337292539,
          0.040821089862680675,
          0.11689572353377392,
          0.1685804484643533,
          0,
          0.027214071274573665,
          0.03401758056862701,
          0.07997316731887755,
          0.2543635329774102,
          0.2094823173408845,
          0.06238680197077605
         ],
         "y": [
          0.2699318576436946,
          0.1560344472678198,
          0.018099246024192772,
          0.21078206785857337,
          0.17519854664518497,
          0.043949564980806266,
          0.029395128800455608,
          0.2892280414810214,
          0.04968926017047249,
          0.24088863072109212,
          0.11389545687583802,
          0.09729456338500793,
          0.19962258378969236,
          0.09013401288930398,
          0,
          0.0734456450032201,
          0.001957900267257964,
          0.17664810872825173,
          0.04036830312807053,
          0.12552783206684173,
          0.20344058895309797,
          0.09972311598830909,
          0.06774277058822883,
          0.31132674671241733,
          0.22466658310119575,
          0.21539192605758484,
          0.13265208763504255,
          0.025199300500182396,
          0.04102725903337329,
          0.16004795028266774
         ]
        }
       ],
       "layout": {
        "template": {
         "data": {
          "bar": [
           {
            "error_x": {
             "color": "#2a3f5f"
            },
            "error_y": {
             "color": "#2a3f5f"
            },
            "marker": {
             "line": {
              "color": "#E5ECF6",
              "width": 0.5
             },
             "pattern": {
              "fillmode": "overlay",
              "size": 10,
              "solidity": 0.2
             }
            },
            "type": "bar"
           }
          ],
          "barpolar": [
           {
            "marker": {
             "line": {
              "color": "#E5ECF6",
              "width": 0.5
             },
             "pattern": {
              "fillmode": "overlay",
              "size": 10,
              "solidity": 0.2
             }
            },
            "type": "barpolar"
           }
          ],
          "carpet": [
           {
            "aaxis": {
             "endlinecolor": "#2a3f5f",
             "gridcolor": "white",
             "linecolor": "white",
             "minorgridcolor": "white",
             "startlinecolor": "#2a3f5f"
            },
            "baxis": {
             "endlinecolor": "#2a3f5f",
             "gridcolor": "white",
             "linecolor": "white",
             "minorgridcolor": "white",
             "startlinecolor": "#2a3f5f"
            },
            "type": "carpet"
           }
          ],
          "choropleth": [
           {
            "colorbar": {
             "outlinewidth": 0,
             "ticks": ""
            },
            "type": "choropleth"
           }
          ],
          "contour": [
           {
            "colorbar": {
             "outlinewidth": 0,
             "ticks": ""
            },
            "colorscale": [
             [
              0,
              "#0d0887"
             ],
             [
              0.1111111111111111,
              "#46039f"
             ],
             [
              0.2222222222222222,
              "#7201a8"
             ],
             [
              0.3333333333333333,
              "#9c179e"
             ],
             [
              0.4444444444444444,
              "#bd3786"
             ],
             [
              0.5555555555555556,
              "#d8576b"
             ],
             [
              0.6666666666666666,
              "#ed7953"
             ],
             [
              0.7777777777777778,
              "#fb9f3a"
             ],
             [
              0.8888888888888888,
              "#fdca26"
             ],
             [
              1,
              "#f0f921"
             ]
            ],
            "type": "contour"
           }
          ],
          "contourcarpet": [
           {
            "colorbar": {
             "outlinewidth": 0,
             "ticks": ""
            },
            "type": "contourcarpet"
           }
          ],
          "heatmap": [
           {
            "colorbar": {
             "outlinewidth": 0,
             "ticks": ""
            },
            "colorscale": [
             [
              0,
              "#0d0887"
             ],
             [
              0.1111111111111111,
              "#46039f"
             ],
             [
              0.2222222222222222,
              "#7201a8"
             ],
             [
              0.3333333333333333,
              "#9c179e"
             ],
             [
              0.4444444444444444,
              "#bd3786"
             ],
             [
              0.5555555555555556,
              "#d8576b"
             ],
             [
              0.6666666666666666,
              "#ed7953"
             ],
             [
              0.7777777777777778,
              "#fb9f3a"
             ],
             [
              0.8888888888888888,
              "#fdca26"
             ],
             [
              1,
              "#f0f921"
             ]
            ],
            "type": "heatmap"
           }
          ],
          "heatmapgl": [
           {
            "colorbar": {
             "outlinewidth": 0,
             "ticks": ""
            },
            "colorscale": [
             [
              0,
              "#0d0887"
             ],
             [
              0.1111111111111111,
              "#46039f"
             ],
             [
              0.2222222222222222,
              "#7201a8"
             ],
             [
              0.3333333333333333,
              "#9c179e"
             ],
             [
              0.4444444444444444,
              "#bd3786"
             ],
             [
              0.5555555555555556,
              "#d8576b"
             ],
             [
              0.6666666666666666,
              "#ed7953"
             ],
             [
              0.7777777777777778,
              "#fb9f3a"
             ],
             [
              0.8888888888888888,
              "#fdca26"
             ],
             [
              1,
              "#f0f921"
             ]
            ],
            "type": "heatmapgl"
           }
          ],
          "histogram": [
           {
            "marker": {
             "pattern": {
              "fillmode": "overlay",
              "size": 10,
              "solidity": 0.2
             }
            },
            "type": "histogram"
           }
          ],
          "histogram2d": [
           {
            "colorbar": {
             "outlinewidth": 0,
             "ticks": ""
            },
            "colorscale": [
             [
              0,
              "#0d0887"
             ],
             [
              0.1111111111111111,
              "#46039f"
             ],
             [
              0.2222222222222222,
              "#7201a8"
             ],
             [
              0.3333333333333333,
              "#9c179e"
             ],
             [
              0.4444444444444444,
              "#bd3786"
             ],
             [
              0.5555555555555556,
              "#d8576b"
             ],
             [
              0.6666666666666666,
              "#ed7953"
             ],
             [
              0.7777777777777778,
              "#fb9f3a"
             ],
             [
              0.8888888888888888,
              "#fdca26"
             ],
             [
              1,
              "#f0f921"
             ]
            ],
            "type": "histogram2d"
           }
          ],
          "histogram2dcontour": [
           {
            "colorbar": {
             "outlinewidth": 0,
             "ticks": ""
            },
            "colorscale": [
             [
              0,
              "#0d0887"
             ],
             [
              0.1111111111111111,
              "#46039f"
             ],
             [
              0.2222222222222222,
              "#7201a8"
             ],
             [
              0.3333333333333333,
              "#9c179e"
             ],
             [
              0.4444444444444444,
              "#bd3786"
             ],
             [
              0.5555555555555556,
              "#d8576b"
             ],
             [
              0.6666666666666666,
              "#ed7953"
             ],
             [
              0.7777777777777778,
              "#fb9f3a"
             ],
             [
              0.8888888888888888,
              "#fdca26"
             ],
             [
              1,
              "#f0f921"
             ]
            ],
            "type": "histogram2dcontour"
           }
          ],
          "mesh3d": [
           {
            "colorbar": {
             "outlinewidth": 0,
             "ticks": ""
            },
            "type": "mesh3d"
           }
          ],
          "parcoords": [
           {
            "line": {
             "colorbar": {
              "outlinewidth": 0,
              "ticks": ""
             }
            },
            "type": "parcoords"
           }
          ],
          "pie": [
           {
            "automargin": true,
            "type": "pie"
           }
          ],
          "scatter": [
           {
            "fillpattern": {
             "fillmode": "overlay",
             "size": 10,
             "solidity": 0.2
            },
            "type": "scatter"
           }
          ],
          "scatter3d": [
           {
            "line": {
             "colorbar": {
              "outlinewidth": 0,
              "ticks": ""
             }
            },
            "marker": {
             "colorbar": {
              "outlinewidth": 0,
              "ticks": ""
             }
            },
            "type": "scatter3d"
           }
          ],
          "scattercarpet": [
           {
            "marker": {
             "colorbar": {
              "outlinewidth": 0,
              "ticks": ""
             }
            },
            "type": "scattercarpet"
           }
          ],
          "scattergeo": [
           {
            "marker": {
             "colorbar": {
              "outlinewidth": 0,
              "ticks": ""
             }
            },
            "type": "scattergeo"
           }
          ],
          "scattergl": [
           {
            "marker": {
             "colorbar": {
              "outlinewidth": 0,
              "ticks": ""
             }
            },
            "type": "scattergl"
           }
          ],
          "scattermapbox": [
           {
            "marker": {
             "colorbar": {
              "outlinewidth": 0,
              "ticks": ""
             }
            },
            "type": "scattermapbox"
           }
          ],
          "scatterpolar": [
           {
            "marker": {
             "colorbar": {
              "outlinewidth": 0,
              "ticks": ""
             }
            },
            "type": "scatterpolar"
           }
          ],
          "scatterpolargl": [
           {
            "marker": {
             "colorbar": {
              "outlinewidth": 0,
              "ticks": ""
             }
            },
            "type": "scatterpolargl"
           }
          ],
          "scatterternary": [
           {
            "marker": {
             "colorbar": {
              "outlinewidth": 0,
              "ticks": ""
             }
            },
            "type": "scatterternary"
           }
          ],
          "surface": [
           {
            "colorbar": {
             "outlinewidth": 0,
             "ticks": ""
            },
            "colorscale": [
             [
              0,
              "#0d0887"
             ],
             [
              0.1111111111111111,
              "#46039f"
             ],
             [
              0.2222222222222222,
              "#7201a8"
             ],
             [
              0.3333333333333333,
              "#9c179e"
             ],
             [
              0.4444444444444444,
              "#bd3786"
             ],
             [
              0.5555555555555556,
              "#d8576b"
             ],
             [
              0.6666666666666666,
              "#ed7953"
             ],
             [
              0.7777777777777778,
              "#fb9f3a"
             ],
             [
              0.8888888888888888,
              "#fdca26"
             ],
             [
              1,
              "#f0f921"
             ]
            ],
            "type": "surface"
           }
          ],
          "table": [
           {
            "cells": {
             "fill": {
              "color": "#EBF0F8"
             },
             "line": {
              "color": "white"
             }
            },
            "header": {
             "fill": {
              "color": "#C8D4E3"
             },
             "line": {
              "color": "white"
             }
            },
            "type": "table"
           }
          ]
         },
         "layout": {
          "annotationdefaults": {
           "arrowcolor": "#2a3f5f",
           "arrowhead": 0,
           "arrowwidth": 1
          },
          "autotypenumbers": "strict",
          "coloraxis": {
           "colorbar": {
            "outlinewidth": 0,
            "ticks": ""
           }
          },
          "colorscale": {
           "diverging": [
            [
             0,
             "#8e0152"
            ],
            [
             0.1,
             "#c51b7d"
            ],
            [
             0.2,
             "#de77ae"
            ],
            [
             0.3,
             "#f1b6da"
            ],
            [
             0.4,
             "#fde0ef"
            ],
            [
             0.5,
             "#f7f7f7"
            ],
            [
             0.6,
             "#e6f5d0"
            ],
            [
             0.7,
             "#b8e186"
            ],
            [
             0.8,
             "#7fbc41"
            ],
            [
             0.9,
             "#4d9221"
            ],
            [
             1,
             "#276419"
            ]
           ],
           "sequential": [
            [
             0,
             "#0d0887"
            ],
            [
             0.1111111111111111,
             "#46039f"
            ],
            [
             0.2222222222222222,
             "#7201a8"
            ],
            [
             0.3333333333333333,
             "#9c179e"
            ],
            [
             0.4444444444444444,
             "#bd3786"
            ],
            [
             0.5555555555555556,
             "#d8576b"
            ],
            [
             0.6666666666666666,
             "#ed7953"
            ],
            [
             0.7777777777777778,
             "#fb9f3a"
            ],
            [
             0.8888888888888888,
             "#fdca26"
            ],
            [
             1,
             "#f0f921"
            ]
           ],
           "sequentialminus": [
            [
             0,
             "#0d0887"
            ],
            [
             0.1111111111111111,
             "#46039f"
            ],
            [
             0.2222222222222222,
             "#7201a8"
            ],
            [
             0.3333333333333333,
             "#9c179e"
            ],
            [
             0.4444444444444444,
             "#bd3786"
            ],
            [
             0.5555555555555556,
             "#d8576b"
            ],
            [
             0.6666666666666666,
             "#ed7953"
            ],
            [
             0.7777777777777778,
             "#fb9f3a"
            ],
            [
             0.8888888888888888,
             "#fdca26"
            ],
            [
             1,
             "#f0f921"
            ]
           ]
          },
          "colorway": [
           "#636efa",
           "#EF553B",
           "#00cc96",
           "#ab63fa",
           "#FFA15A",
           "#19d3f3",
           "#FF6692",
           "#B6E880",
           "#FF97FF",
           "#FECB52"
          ],
          "font": {
           "color": "#2a3f5f"
          },
          "geo": {
           "bgcolor": "white",
           "lakecolor": "white",
           "landcolor": "#E5ECF6",
           "showlakes": true,
           "showland": true,
           "subunitcolor": "white"
          },
          "hoverlabel": {
           "align": "left"
          },
          "hovermode": "closest",
          "mapbox": {
           "style": "light"
          },
          "paper_bgcolor": "white",
          "plot_bgcolor": "#E5ECF6",
          "polar": {
           "angularaxis": {
            "gridcolor": "white",
            "linecolor": "white",
            "ticks": ""
           },
           "bgcolor": "#E5ECF6",
           "radialaxis": {
            "gridcolor": "white",
            "linecolor": "white",
            "ticks": ""
           }
          },
          "scene": {
           "xaxis": {
            "backgroundcolor": "#E5ECF6",
            "gridcolor": "white",
            "gridwidth": 2,
            "linecolor": "white",
            "showbackground": true,
            "ticks": "",
            "zerolinecolor": "white"
           },
           "yaxis": {
            "backgroundcolor": "#E5ECF6",
            "gridcolor": "white",
            "gridwidth": 2,
            "linecolor": "white",
            "showbackground": true,
            "ticks": "",
            "zerolinecolor": "white"
           },
           "zaxis": {
            "backgroundcolor": "#E5ECF6",
            "gridcolor": "white",
            "gridwidth": 2,
            "linecolor": "white",
            "showbackground": true,
            "ticks": "",
            "zerolinecolor": "white"
           }
          },
          "shapedefaults": {
           "line": {
            "color": "#2a3f5f"
           }
          },
          "ternary": {
           "aaxis": {
            "gridcolor": "white",
            "linecolor": "white",
            "ticks": ""
           },
           "baxis": {
            "gridcolor": "white",
            "linecolor": "white",
            "ticks": ""
           },
           "bgcolor": "#E5ECF6",
           "caxis": {
            "gridcolor": "white",
            "linecolor": "white",
            "ticks": ""
           }
          },
          "title": {
           "x": 0.05
          },
          "xaxis": {
           "automargin": true,
           "gridcolor": "white",
           "linecolor": "white",
           "ticks": "",
           "title": {
            "standoff": 15
           },
           "zerolinecolor": "white",
           "zerolinewidth": 2
          },
          "yaxis": {
           "automargin": true,
           "gridcolor": "white",
           "linecolor": "white",
           "ticks": "",
           "title": {
            "standoff": 15
           },
           "zerolinecolor": "white",
           "zerolinewidth": 2
          }
         }
        },
        "title": {
         "text": "pareto fronts normalized"
        },
        "xaxis": {
         "title": {
          "text": "total energy energy consumption"
         }
        },
        "yaxis": {
         "title": {
          "text": "avg downlink"
         }
        }
       }
      }
     },
     "metadata": {},
     "output_type": "display_data"
    },
    {
     "data": {
      "application/vnd.plotly.v1+json": {
       "config": {
        "plotlyServerURL": "https://plot.ly"
       },
       "data": [
        {
         "mode": "lines",
         "name": "static",
         "type": "scatter",
         "x": [
          0,
          1,
          2,
          3,
          4,
          5,
          6,
          7,
          8,
          9,
          10,
          11,
          12,
          13,
          14,
          15,
          16,
          17,
          18,
          19,
          20,
          21,
          22,
          23,
          24,
          25,
          26,
          27,
          28,
          29,
          30,
          31,
          32,
          33,
          34,
          35,
          36,
          37,
          38,
          39,
          40,
          41,
          42,
          43,
          44,
          45,
          46,
          47,
          48,
          49,
          50,
          51,
          52,
          53,
          54,
          55,
          56,
          57,
          58,
          59,
          60,
          61,
          62,
          63,
          64,
          65,
          66,
          67,
          68,
          69,
          70,
          71,
          72,
          73,
          74,
          75,
          76,
          77,
          78,
          79,
          80,
          81,
          82,
          83,
          84,
          85,
          86,
          87,
          88,
          89,
          90,
          91,
          92,
          93,
          94,
          95,
          96,
          97,
          98,
          99,
          100,
          101,
          102,
          103,
          104,
          105,
          106,
          107,
          108,
          109,
          110,
          111,
          112,
          113,
          114,
          115,
          116,
          117,
          118,
          119,
          120,
          121,
          122,
          123,
          124,
          125,
          126,
          127,
          128,
          129,
          130,
          131,
          132,
          133,
          134,
          135,
          136,
          137,
          138,
          139,
          140,
          141,
          142,
          143,
          144,
          145,
          146,
          147,
          148,
          149,
          150,
          151,
          152,
          153,
          154,
          155,
          156,
          157,
          158,
          159,
          160,
          161,
          162,
          163,
          164,
          165,
          166,
          167,
          168,
          169,
          170,
          171,
          172,
          173,
          174,
          175,
          176,
          177,
          178,
          179,
          180,
          181,
          182,
          183,
          184,
          185,
          186,
          187,
          188,
          189,
          190,
          191,
          192,
          193,
          194,
          195,
          196,
          197,
          198,
          199,
          200,
          201,
          202,
          203,
          204,
          205,
          206,
          207,
          208,
          209,
          210,
          211,
          212,
          213,
          214,
          215,
          216,
          217,
          218,
          219,
          220,
          221,
          222,
          223,
          224,
          225,
          226,
          227,
          228,
          229,
          230,
          231,
          232,
          233,
          234,
          235,
          236,
          237,
          238,
          239,
          240,
          241,
          242,
          243,
          244,
          245,
          246,
          247,
          248,
          249,
          250,
          251,
          252,
          253,
          254,
          255,
          256,
          257,
          258,
          259,
          260,
          261,
          262,
          263,
          264,
          265,
          266,
          267,
          268,
          269,
          270,
          271,
          272,
          273,
          274,
          275,
          276,
          277,
          278,
          279,
          280,
          281,
          282,
          283,
          284,
          285,
          286,
          287,
          288,
          289,
          290,
          291,
          292,
          293,
          294,
          295,
          296,
          297,
          298,
          299
         ],
         "y": [
          0.15154364949066673,
          0.1526548102002542,
          0.1526548102002542,
          0.15324695548925443,
          0.15787246534432825,
          0.15962147016573933,
          0.16027792351495734,
          0.16741248327502034,
          0.1676831277271983,
          0.17871747640929875,
          0.18198219100620344,
          0.18198219100620344,
          0.18266084676073013,
          0.18549650775195858,
          0.19806797649072977,
          0.19821386043524852,
          0.19821386043524852,
          0.19821386043524852,
          0.19821386043524852,
          0.19920592032449727,
          0.20841991335350396,
          0.20841991335350396,
          0.2367861097836031,
          0.2367861097836031,
          0.2367861097836031,
          0.241166203257077,
          0.241166203257077,
          0.241166203257077,
          0.241166203257077,
          0.241166203257077,
          0.241166203257077,
          0.241166203257077,
          0.24461824119641584,
          0.24713048073421068,
          0.24799660478885738,
          0.2507611067560166,
          0.2507611067560166,
          0.2507611067560166,
          0.2509635165701971,
          0.2520586294407369,
          0.26464015642933725,
          0.26464515937863764,
          0.26557495555070454,
          0.2722447378373207,
          0.27593721357712525,
          0.27593721357712525,
          0.27641100125890866,
          0.2773063226448998,
          0.2774902650800939,
          0.2854445989661437,
          0.28586339045213355,
          0.28586808046652296,
          0.28687861590259217,
          0.28801494664258914,
          0.29053635337552974,
          0.29112606230891686,
          0.2931491498198846,
          0.32141211518247287,
          0.32715248191707746,
          0.32727867380214876,
          0.32814042345904826,
          0.32993619827788145,
          0.3433175928859571,
          0.35439880782628524,
          0.36508534047575325,
          0.3651041382883673,
          0.377012730341272,
          0.377012730341272,
          0.377012730341272,
          0.3780888419443729,
          0.3780888419443729,
          0.3824670837985659,
          0.38968457362679254,
          0.3905335877065634,
          0.42595863761857167,
          0.42595863761857167,
          0.4314743143709224,
          0.4326319053854196,
          0.43355413924619934,
          0.43355413924619934,
          0.43355413924619934,
          0.44521336398252015,
          0.4479061039440443,
          0.44869780498713085,
          0.4490793477446266,
          0.4492887290483436,
          0.46948449537682746,
          0.5236368254243715,
          0.5251700123870158,
          0.5268449294289449,
          0.5268449294289449,
          0.5354240457223642,
          0.5482266217133692,
          0.5490754790185507,
          0.5586453177983284,
          0.5586453177983284,
          0.563665261473644,
          0.5795669165930899,
          0.5836621107726845,
          0.5837906145511266,
          0.6042137579000103,
          0.6042137579000103,
          0.6057504609238972,
          0.6327856538465578,
          0.6507068830197648,
          0.6507068830197648,
          0.6511559873470014,
          0.6715341448806927,
          0.698467995694412,
          0.7271404588134851,
          0.7309420244078846,
          0.7357761261772434,
          0.7407488441572366,
          0.7412595198682446,
          0.7506886453949517,
          0.7548775667740215,
          0.7568458937464796,
          0.7751607116464644,
          0.7766263165641922,
          0.7776951998416752,
          0.7796350681281902,
          0.7798836960620815,
          0.7804710007184535,
          0.7811670210667875,
          0.8017064136738331,
          0.8051209713203433,
          0.8127380712142447,
          0.8130963819314027,
          0.8144899796758722,
          0.8232162874309796,
          0.8232162874309796,
          0.8258131124544982,
          0.8266553260969653,
          0.8266597441860957,
          0.8271630617624356,
          0.8274152855038842,
          0.8292214066200619,
          0.837593641806923,
          0.8507932513818971,
          0.8521749104219112,
          0.8526381734739853,
          0.8532121795857821,
          0.8897539800482576,
          0.8898929965016382,
          0.8966043034493687,
          0.9796775230023056,
          0.9956834976662637,
          0.9957025383153594,
          0.9957065457519503,
          0.9957065457519503,
          0.9992545669786173,
          1.0140844146986876,
          1.0140844146986876,
          1.0143566368772898,
          1.0143566368772898,
          1.0144535157715477,
          1.0145427369022497,
          1.0175391014615849,
          1.0195419556074576,
          1.0227864602891212,
          1.022820469645711,
          1.0231217667813692,
          1.0255019054158367,
          1.0257253922837553,
          1.0310863555679464,
          1.0310863555679464,
          1.0336791311614288,
          1.0353506596646158,
          1.0353506596646158,
          1.038913383167823,
          1.038913383167823,
          1.0396451852416473,
          1.0495192724285438,
          1.057863390474637,
          1.0594810339856366,
          1.0598307311899602,
          1.060049678954446,
          1.0610474938379235,
          1.0613880230460135,
          1.0626685983544435,
          1.062774497997513,
          1.0635346772245535,
          1.0796278360644314,
          1.080543353350426,
          1.0840103379273418,
          1.0840864736191054,
          1.0852933080990406,
          1.085610063034066,
          1.097304774033499,
          1.0983169271208735,
          1.0983412457949595,
          1.1101527749953466,
          1.1104676315971327,
          1.1208209499905077,
          1.121361937512553,
          1.122340306696601,
          1.122340306696601,
          1.122435397638221,
          1.1228164250057802,
          1.1231660717949041,
          1.1232867972717309,
          1.1233704291159357,
          1.124295754314042,
          1.124689674780775,
          1.1249776317669438,
          1.1253248158001763,
          1.1257518034643224,
          1.1259357117847832,
          1.1263497092585806,
          1.1345611581122037,
          1.1346727835809456,
          1.1434862430911417,
          1.1434991872763323,
          1.1435724668253802,
          1.1452409883483359,
          1.1454608934052346,
          1.1459052890868269,
          1.1460947637778733,
          1.1468227934107293,
          1.1468605773707745,
          1.1470764437303367,
          1.1471566664307264,
          1.1473634667210342,
          1.1476481272065262,
          1.1476481272065262,
          1.1476481272065262,
          1.1477834829377833,
          1.148704118104936,
          1.1488395045663022,
          1.1488526743032645,
          1.1490883276332378,
          1.1490883276332378,
          1.1491547625631064,
          1.1491905402592009,
          1.149218747282633,
          1.1494002850220246,
          1.1494418380301847,
          1.1496896489887436,
          1.1496896489887436,
          1.1497092932850108,
          1.1497750521569587,
          1.14999110907322,
          1.15006138473508,
          1.150121450396908,
          1.150828795229759,
          1.1512894153761308,
          1.1536340584171318,
          1.153665765588519,
          1.1546795163152388,
          1.1547745012814397,
          1.1553955300263228,
          1.1556086055211052,
          1.155609757429636,
          1.1556788046106514,
          1.1558546578764715,
          1.1558546578764715,
          1.1558546578764715,
          1.1559258277898716,
          1.1563121118755966,
          1.1565835858369313,
          1.1566410191031853,
          1.156711925501946,
          1.1567700181205565,
          1.157233929419411,
          1.1572397983736813,
          1.1572763034480134,
          1.1572972683037615,
          1.1574656904068248,
          1.157748142006215,
          1.157964878253756,
          1.157982020806958,
          1.1584352582397364,
          1.1584990875968704,
          1.1584990875968704,
          1.158567431113089,
          1.1586673258116533,
          1.158859274639626,
          1.1603070055894809,
          1.1605682333515526,
          1.1607704672163965,
          1.1620650252568836,
          1.170654011502242,
          1.1711194015895765,
          1.1711275764691766,
          1.1711275764691766,
          1.1711681559576617,
          1.1713511065600724,
          1.1720422895648497,
          1.1723184892230485,
          1.1725912877085656,
          1.1728084150218536,
          1.173033246929555,
          1.175022492774754,
          1.1751847818558223,
          1.175222121292487,
          1.1755425229375303,
          1.1756027047387736,
          1.1788111014618954,
          1.1789456367699056,
          1.1789815947317723
         ]
        }
       ],
       "layout": {
        "template": {
         "data": {
          "bar": [
           {
            "error_x": {
             "color": "#2a3f5f"
            },
            "error_y": {
             "color": "#2a3f5f"
            },
            "marker": {
             "line": {
              "color": "#E5ECF6",
              "width": 0.5
             },
             "pattern": {
              "fillmode": "overlay",
              "size": 10,
              "solidity": 0.2
             }
            },
            "type": "bar"
           }
          ],
          "barpolar": [
           {
            "marker": {
             "line": {
              "color": "#E5ECF6",
              "width": 0.5
             },
             "pattern": {
              "fillmode": "overlay",
              "size": 10,
              "solidity": 0.2
             }
            },
            "type": "barpolar"
           }
          ],
          "carpet": [
           {
            "aaxis": {
             "endlinecolor": "#2a3f5f",
             "gridcolor": "white",
             "linecolor": "white",
             "minorgridcolor": "white",
             "startlinecolor": "#2a3f5f"
            },
            "baxis": {
             "endlinecolor": "#2a3f5f",
             "gridcolor": "white",
             "linecolor": "white",
             "minorgridcolor": "white",
             "startlinecolor": "#2a3f5f"
            },
            "type": "carpet"
           }
          ],
          "choropleth": [
           {
            "colorbar": {
             "outlinewidth": 0,
             "ticks": ""
            },
            "type": "choropleth"
           }
          ],
          "contour": [
           {
            "colorbar": {
             "outlinewidth": 0,
             "ticks": ""
            },
            "colorscale": [
             [
              0,
              "#0d0887"
             ],
             [
              0.1111111111111111,
              "#46039f"
             ],
             [
              0.2222222222222222,
              "#7201a8"
             ],
             [
              0.3333333333333333,
              "#9c179e"
             ],
             [
              0.4444444444444444,
              "#bd3786"
             ],
             [
              0.5555555555555556,
              "#d8576b"
             ],
             [
              0.6666666666666666,
              "#ed7953"
             ],
             [
              0.7777777777777778,
              "#fb9f3a"
             ],
             [
              0.8888888888888888,
              "#fdca26"
             ],
             [
              1,
              "#f0f921"
             ]
            ],
            "type": "contour"
           }
          ],
          "contourcarpet": [
           {
            "colorbar": {
             "outlinewidth": 0,
             "ticks": ""
            },
            "type": "contourcarpet"
           }
          ],
          "heatmap": [
           {
            "colorbar": {
             "outlinewidth": 0,
             "ticks": ""
            },
            "colorscale": [
             [
              0,
              "#0d0887"
             ],
             [
              0.1111111111111111,
              "#46039f"
             ],
             [
              0.2222222222222222,
              "#7201a8"
             ],
             [
              0.3333333333333333,
              "#9c179e"
             ],
             [
              0.4444444444444444,
              "#bd3786"
             ],
             [
              0.5555555555555556,
              "#d8576b"
             ],
             [
              0.6666666666666666,
              "#ed7953"
             ],
             [
              0.7777777777777778,
              "#fb9f3a"
             ],
             [
              0.8888888888888888,
              "#fdca26"
             ],
             [
              1,
              "#f0f921"
             ]
            ],
            "type": "heatmap"
           }
          ],
          "heatmapgl": [
           {
            "colorbar": {
             "outlinewidth": 0,
             "ticks": ""
            },
            "colorscale": [
             [
              0,
              "#0d0887"
             ],
             [
              0.1111111111111111,
              "#46039f"
             ],
             [
              0.2222222222222222,
              "#7201a8"
             ],
             [
              0.3333333333333333,
              "#9c179e"
             ],
             [
              0.4444444444444444,
              "#bd3786"
             ],
             [
              0.5555555555555556,
              "#d8576b"
             ],
             [
              0.6666666666666666,
              "#ed7953"
             ],
             [
              0.7777777777777778,
              "#fb9f3a"
             ],
             [
              0.8888888888888888,
              "#fdca26"
             ],
             [
              1,
              "#f0f921"
             ]
            ],
            "type": "heatmapgl"
           }
          ],
          "histogram": [
           {
            "marker": {
             "pattern": {
              "fillmode": "overlay",
              "size": 10,
              "solidity": 0.2
             }
            },
            "type": "histogram"
           }
          ],
          "histogram2d": [
           {
            "colorbar": {
             "outlinewidth": 0,
             "ticks": ""
            },
            "colorscale": [
             [
              0,
              "#0d0887"
             ],
             [
              0.1111111111111111,
              "#46039f"
             ],
             [
              0.2222222222222222,
              "#7201a8"
             ],
             [
              0.3333333333333333,
              "#9c179e"
             ],
             [
              0.4444444444444444,
              "#bd3786"
             ],
             [
              0.5555555555555556,
              "#d8576b"
             ],
             [
              0.6666666666666666,
              "#ed7953"
             ],
             [
              0.7777777777777778,
              "#fb9f3a"
             ],
             [
              0.8888888888888888,
              "#fdca26"
             ],
             [
              1,
              "#f0f921"
             ]
            ],
            "type": "histogram2d"
           }
          ],
          "histogram2dcontour": [
           {
            "colorbar": {
             "outlinewidth": 0,
             "ticks": ""
            },
            "colorscale": [
             [
              0,
              "#0d0887"
             ],
             [
              0.1111111111111111,
              "#46039f"
             ],
             [
              0.2222222222222222,
              "#7201a8"
             ],
             [
              0.3333333333333333,
              "#9c179e"
             ],
             [
              0.4444444444444444,
              "#bd3786"
             ],
             [
              0.5555555555555556,
              "#d8576b"
             ],
             [
              0.6666666666666666,
              "#ed7953"
             ],
             [
              0.7777777777777778,
              "#fb9f3a"
             ],
             [
              0.8888888888888888,
              "#fdca26"
             ],
             [
              1,
              "#f0f921"
             ]
            ],
            "type": "histogram2dcontour"
           }
          ],
          "mesh3d": [
           {
            "colorbar": {
             "outlinewidth": 0,
             "ticks": ""
            },
            "type": "mesh3d"
           }
          ],
          "parcoords": [
           {
            "line": {
             "colorbar": {
              "outlinewidth": 0,
              "ticks": ""
             }
            },
            "type": "parcoords"
           }
          ],
          "pie": [
           {
            "automargin": true,
            "type": "pie"
           }
          ],
          "scatter": [
           {
            "fillpattern": {
             "fillmode": "overlay",
             "size": 10,
             "solidity": 0.2
            },
            "type": "scatter"
           }
          ],
          "scatter3d": [
           {
            "line": {
             "colorbar": {
              "outlinewidth": 0,
              "ticks": ""
             }
            },
            "marker": {
             "colorbar": {
              "outlinewidth": 0,
              "ticks": ""
             }
            },
            "type": "scatter3d"
           }
          ],
          "scattercarpet": [
           {
            "marker": {
             "colorbar": {
              "outlinewidth": 0,
              "ticks": ""
             }
            },
            "type": "scattercarpet"
           }
          ],
          "scattergeo": [
           {
            "marker": {
             "colorbar": {
              "outlinewidth": 0,
              "ticks": ""
             }
            },
            "type": "scattergeo"
           }
          ],
          "scattergl": [
           {
            "marker": {
             "colorbar": {
              "outlinewidth": 0,
              "ticks": ""
             }
            },
            "type": "scattergl"
           }
          ],
          "scattermapbox": [
           {
            "marker": {
             "colorbar": {
              "outlinewidth": 0,
              "ticks": ""
             }
            },
            "type": "scattermapbox"
           }
          ],
          "scatterpolar": [
           {
            "marker": {
             "colorbar": {
              "outlinewidth": 0,
              "ticks": ""
             }
            },
            "type": "scatterpolar"
           }
          ],
          "scatterpolargl": [
           {
            "marker": {
             "colorbar": {
              "outlinewidth": 0,
              "ticks": ""
             }
            },
            "type": "scatterpolargl"
           }
          ],
          "scatterternary": [
           {
            "marker": {
             "colorbar": {
              "outlinewidth": 0,
              "ticks": ""
             }
            },
            "type": "scatterternary"
           }
          ],
          "surface": [
           {
            "colorbar": {
             "outlinewidth": 0,
             "ticks": ""
            },
            "colorscale": [
             [
              0,
              "#0d0887"
             ],
             [
              0.1111111111111111,
              "#46039f"
             ],
             [
              0.2222222222222222,
              "#7201a8"
             ],
             [
              0.3333333333333333,
              "#9c179e"
             ],
             [
              0.4444444444444444,
              "#bd3786"
             ],
             [
              0.5555555555555556,
              "#d8576b"
             ],
             [
              0.6666666666666666,
              "#ed7953"
             ],
             [
              0.7777777777777778,
              "#fb9f3a"
             ],
             [
              0.8888888888888888,
              "#fdca26"
             ],
             [
              1,
              "#f0f921"
             ]
            ],
            "type": "surface"
           }
          ],
          "table": [
           {
            "cells": {
             "fill": {
              "color": "#EBF0F8"
             },
             "line": {
              "color": "white"
             }
            },
            "header": {
             "fill": {
              "color": "#C8D4E3"
             },
             "line": {
              "color": "white"
             }
            },
            "type": "table"
           }
          ]
         },
         "layout": {
          "annotationdefaults": {
           "arrowcolor": "#2a3f5f",
           "arrowhead": 0,
           "arrowwidth": 1
          },
          "autotypenumbers": "strict",
          "coloraxis": {
           "colorbar": {
            "outlinewidth": 0,
            "ticks": ""
           }
          },
          "colorscale": {
           "diverging": [
            [
             0,
             "#8e0152"
            ],
            [
             0.1,
             "#c51b7d"
            ],
            [
             0.2,
             "#de77ae"
            ],
            [
             0.3,
             "#f1b6da"
            ],
            [
             0.4,
             "#fde0ef"
            ],
            [
             0.5,
             "#f7f7f7"
            ],
            [
             0.6,
             "#e6f5d0"
            ],
            [
             0.7,
             "#b8e186"
            ],
            [
             0.8,
             "#7fbc41"
            ],
            [
             0.9,
             "#4d9221"
            ],
            [
             1,
             "#276419"
            ]
           ],
           "sequential": [
            [
             0,
             "#0d0887"
            ],
            [
             0.1111111111111111,
             "#46039f"
            ],
            [
             0.2222222222222222,
             "#7201a8"
            ],
            [
             0.3333333333333333,
             "#9c179e"
            ],
            [
             0.4444444444444444,
             "#bd3786"
            ],
            [
             0.5555555555555556,
             "#d8576b"
            ],
            [
             0.6666666666666666,
             "#ed7953"
            ],
            [
             0.7777777777777778,
             "#fb9f3a"
            ],
            [
             0.8888888888888888,
             "#fdca26"
            ],
            [
             1,
             "#f0f921"
            ]
           ],
           "sequentialminus": [
            [
             0,
             "#0d0887"
            ],
            [
             0.1111111111111111,
             "#46039f"
            ],
            [
             0.2222222222222222,
             "#7201a8"
            ],
            [
             0.3333333333333333,
             "#9c179e"
            ],
            [
             0.4444444444444444,
             "#bd3786"
            ],
            [
             0.5555555555555556,
             "#d8576b"
            ],
            [
             0.6666666666666666,
             "#ed7953"
            ],
            [
             0.7777777777777778,
             "#fb9f3a"
            ],
            [
             0.8888888888888888,
             "#fdca26"
            ],
            [
             1,
             "#f0f921"
            ]
           ]
          },
          "colorway": [
           "#636efa",
           "#EF553B",
           "#00cc96",
           "#ab63fa",
           "#FFA15A",
           "#19d3f3",
           "#FF6692",
           "#B6E880",
           "#FF97FF",
           "#FECB52"
          ],
          "font": {
           "color": "#2a3f5f"
          },
          "geo": {
           "bgcolor": "white",
           "lakecolor": "white",
           "landcolor": "#E5ECF6",
           "showlakes": true,
           "showland": true,
           "subunitcolor": "white"
          },
          "hoverlabel": {
           "align": "left"
          },
          "hovermode": "closest",
          "mapbox": {
           "style": "light"
          },
          "paper_bgcolor": "white",
          "plot_bgcolor": "#E5ECF6",
          "polar": {
           "angularaxis": {
            "gridcolor": "white",
            "linecolor": "white",
            "ticks": ""
           },
           "bgcolor": "#E5ECF6",
           "radialaxis": {
            "gridcolor": "white",
            "linecolor": "white",
            "ticks": ""
           }
          },
          "scene": {
           "xaxis": {
            "backgroundcolor": "#E5ECF6",
            "gridcolor": "white",
            "gridwidth": 2,
            "linecolor": "white",
            "showbackground": true,
            "ticks": "",
            "zerolinecolor": "white"
           },
           "yaxis": {
            "backgroundcolor": "#E5ECF6",
            "gridcolor": "white",
            "gridwidth": 2,
            "linecolor": "white",
            "showbackground": true,
            "ticks": "",
            "zerolinecolor": "white"
           },
           "zaxis": {
            "backgroundcolor": "#E5ECF6",
            "gridcolor": "white",
            "gridwidth": 2,
            "linecolor": "white",
            "showbackground": true,
            "ticks": "",
            "zerolinecolor": "white"
           }
          },
          "shapedefaults": {
           "line": {
            "color": "#2a3f5f"
           }
          },
          "ternary": {
           "aaxis": {
            "gridcolor": "white",
            "linecolor": "white",
            "ticks": ""
           },
           "baxis": {
            "gridcolor": "white",
            "linecolor": "white",
            "ticks": ""
           },
           "bgcolor": "#E5ECF6",
           "caxis": {
            "gridcolor": "white",
            "linecolor": "white",
            "ticks": ""
           }
          },
          "title": {
           "x": 0.05
          },
          "xaxis": {
           "automargin": true,
           "gridcolor": "white",
           "linecolor": "white",
           "ticks": "",
           "title": {
            "standoff": 15
           },
           "zerolinecolor": "white",
           "zerolinewidth": 2
          },
          "yaxis": {
           "automargin": true,
           "gridcolor": "white",
           "linecolor": "white",
           "ticks": "",
           "title": {
            "standoff": 15
           },
           "zerolinecolor": "white",
           "zerolinewidth": 2
          }
         }
        },
        "title": {
         "text": "hypervolume over n_gen"
        },
        "xaxis": {
         "title": {
          "text": "generation"
         }
        },
        "yaxis": {
         "title": {
          "text": "hypervolume"
         }
        }
       }
      }
     },
     "metadata": {},
     "output_type": "display_data"
    }
   ],
   "source": [
    "fig1 = go.Figure()\n",
    "fig1.update_layout(\n",
    "    title=f\"pareto fronts\",\n",
    "    xaxis_title=\"total energy energy consumption\",\n",
    "    yaxis_title=\"avg downlink\")\n",
    "\n",
    "fig0 = go.Figure()\n",
    "fig0.update_layout(\n",
    "    title=f\"pareto fronts normalized\",\n",
    "    xaxis_title=\"total energy energy consumption\",\n",
    "    yaxis_title=\"avg downlink\")\n",
    "\n",
    "##### add paretofronts of all configs\n",
    "for index, pareto_front in enumerate(pareto_fronts):\n",
    "\n",
    "    fig1.add_trace(\n",
    "        go.Scatter(\n",
    "            x=np.array(pareto_front)[:,0],\n",
    "            y=np.array(pareto_front)[:,1],\n",
    "            mode='markers',\n",
    "            name=config_names[index],\n",
    "            )\n",
    "        )\n",
    "    \n",
    "    fig0.add_trace(\n",
    "        go.Scatter(\n",
    "            x=np.array(paretor_fronts_normalized[index])[:,0],\n",
    "            y=np.array(paretor_fronts_normalized[index])[:,1],\n",
    "            mode='markers',\n",
    "            name=config_names[index],\n",
    "            )\n",
    "        )\n",
    "    \n",
    "    i_2 = asf_select(np.array(pareto_front))\n",
    "    fig1.add_trace(\n",
    "    go.Scatter(\n",
    "        x=np.array(pareto_front[i_2][0]),\n",
    "        y=np.array(pareto_front[i_2][1]),\n",
    "        mode='markers',\n",
    "        name= \"asf selection\",\n",
    "        opacity= 0.5,\n",
    "        marker=dict(size=10)\n",
    "        )\n",
    "    )\n",
    "\n",
    "##### add rssi sampling population\n",
    "son = Son(adjacencies_file_name=f\"./datastore/{network_name}/{network_name}_adjacencies.json\", parameter_config_file_name=f\"./datastore/{network_name}/{config_names[0]}/{config_names[0]}.json\")\n",
    "sampling_pop_objecitve_space = create_greedy_rssi_sampling_pop(results_object[\"optimization_objectives\"], son)\n",
    "fig1.add_trace(\n",
    "     go.Scatter(\n",
    "        x=sampling_pop_objecitve_space[:,0],\n",
    "        y=sampling_pop_objecitve_space[:,1],\n",
    "        mode='markers',\n",
    "        name= \"greedy_sampling_pop\",\n",
    "        )\n",
    "    )\n",
    "###### highlight greedy assignment activation profile\n",
    "fig1.add_trace(\n",
    "    go.Scatter(\n",
    "        x=np.array(sampling_pop_objecitve_space[-1][0]),\n",
    "        y=np.array(sampling_pop_objecitve_space[-1][1]),\n",
    "        mode='markers',\n",
    "        name= \"greedy_assignment_profile\",\n",
    "        opacity= 0.5,\n",
    "        marker=dict(size=10)\n",
    "        )\n",
    "    )\n",
    "##### highlight asf selection from rssi_sampling\n",
    "i = asf_select(sampling_pop_objecitve_space)\n",
    "fig1.add_trace(\n",
    "    go.Scatter(\n",
    "        x=np.array(sampling_pop_objecitve_space[i][0]),\n",
    "        y=np.array(sampling_pop_objecitve_space[i][1]),\n",
    "        mode='markers',\n",
    "        name= \"asf selection for greedy_sampling_pop\",\n",
    "        opacity= 0.5,\n",
    "        marker=dict(size=10)\n",
    "        )\n",
    "    )\n",
    "\n",
    "fig2 = go.Figure()\n",
    "fig2.update_layout(\n",
    "    title=\"hypervolume over n_gen\",\n",
    "    xaxis_title=\"generation\",\n",
    "    yaxis_title=\"hypervolume\")\n",
    "\n",
    "for index, hyper_volume_history in enumerate(hyper_volume_histories):\n",
    "    fig2.add_trace(\n",
    "        go.Scatter(\n",
    "            x=list(range(0, len(hyper_volume_history))),\n",
    "            y=hyper_volume_history,\n",
    "            mode='lines',\n",
    "            name=config_names[index],\n",
    "            ))\n",
    "\n",
    "\n",
    "fig1.show()\n",
    "fig0.show()\n",
    "fig2.show()"
   ]
  },
  {
   "cell_type": "code",
   "execution_count": 12,
   "id": "eaf92719",
   "metadata": {},
   "outputs": [],
   "source": [
    "\n",
    "cor_matrix = False\n",
    "\n",
    "def print_cor_matrix():\n",
    "        network_name = \"het_C100\"\n",
    "        config_name = \"static_evo_var\"\n",
    "\n",
    "        results_directory = f\"./datastore/{network_name}/{config_name}/\"\n",
    "\n",
    "        with open(results_directory + \"objectives_result.json\", mode=\"r\",encoding=\"utf-8\") as openfile:\n",
    "                results_object = json.load(openfile)\n",
    "                paretofront = np.array(results_object[\"objectiveSpace\"])\n",
    "\n",
    "                nadir = paretofront.max(axis=0)\n",
    "                ideal = paretofront.min(axis=0)\n",
    "                paretofront = np.array((paretofront - ideal) / (nadir - ideal))\n",
    "\n",
    "\n",
    "                xyz = paretofront.transpose()\n",
    "\n",
    "                corr_matrix, p_matrix = scipy.stats.spearmanr(xyz, axis=1)\n",
    "                corr_matrix = np.array(corr_matrix)\n",
    "                corr_matrix = corr_matrix.round(4)\n",
    "\n",
    "                print(corr_matrix)\n",
    "                fig, ax = plt.subplots()\n",
    "                im = ax.imshow(corr_matrix)\n",
    "                im.set_clim(-1, 1)\n",
    "                ax.grid(False)\n",
    "                ax.xaxis.set(ticks=(0, 1, 2), ticklabels=('PWR_CONSUMPTION', 'AVG_DL', 'DL_VARIANCE'))\n",
    "                ax.yaxis.set(ticks=(0, 1, 2), ticklabels=('PWR_CONSUMPTION', 'AVG_DL', 'DL_VARIANCE'))\n",
    "                ax.set_ylim(2.5, -0.5)\n",
    "                for i in range(3):\n",
    "                        for j in range(3):\n",
    "                                ax.text(j, i, corr_matrix[i, j], ha='center', va='center',\n",
    "                                        color='r')\n",
    "                cbar = ax.figure.colorbar(im, ax=ax, format='% .2f')\n",
    "                plt.show() \n",
    "if cor_matrix:\n",
    "        print_cor_matrix()\n",
    "\n"
   ]
  }
 ],
 "metadata": {
  "kernelspec": {
   "display_name": "Python 3 (ipykernel)",
   "language": "python",
   "name": "python3"
  },
  "language_info": {
   "codemirror_mode": {
    "name": "ipython",
    "version": 3
   },
   "file_extension": ".py",
   "mimetype": "text/x-python",
   "name": "python",
   "nbconvert_exporter": "python",
   "pygments_lexer": "ipython3",
   "version": "3.11.5"
  }
 },
 "nbformat": 4,
 "nbformat_minor": 5
}
