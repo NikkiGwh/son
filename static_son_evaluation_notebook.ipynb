{
 "cells": [
  {
   "cell_type": "code",
   "execution_count": 67,
   "id": "7bc1c4da-f3bc-4a3d-9069-5655b400e7dc",
   "metadata": {},
   "outputs": [],
   "source": [
    "\n",
    "import json\n",
    "import numpy as np\n",
    "from son_main_script import Son\n",
    "from son_pymoo import HighRssiFirstSampling, ObjectiveEnum, SonProblemElementWise\n",
    "from pymoo.decomposition.asf import ASF\n",
    "import plotly.graph_objects as go\n",
    "from pymoo.indicators.hv import Hypervolume\n",
    "\n",
    "def asf_select(objective_space: np.ndarray,\n",
    "                    weights: np.ndarray = np.array([0.5, 0.5])):\n",
    "    \n",
    "    # TODO check if picked solution is from pareto front\n",
    "    approx_ideal = objective_space.min(axis=0)\n",
    "    approx_nadir = objective_space.max(axis=0)\n",
    "\n",
    "    np.seterr(divide='ignore', invalid='ignore')\n",
    "    nF = (objective_space - approx_ideal) / (approx_nadir - approx_ideal)\n",
    "    decomp = ASF()\n",
    "    i = decomp.do(nF, 1/weights).argmin()\n",
    "    return i\n",
    "\n",
    "def normalize_objective_space_pop(objective_space_pop: np.ndarray):\n",
    "    approx_ideal = objective_space_pop.min(axis=0)\n",
    "    approx_nadir = objective_space_pop.max(axis=0)\n",
    "    return (objective_space_pop - approx_ideal) / (approx_nadir - approx_ideal)\n",
    "\n",
    "def create_greedy_rssi_sampling_pop(optimization_objectives: list[str], son: Son):\n",
    "     ###### test HighRssiFirstSampling\n",
    "    son_problem_obj = SonProblemElementWise(optimization_objectives, son)\n",
    "    # create pop with RssiSampling\n",
    "    high_rssi_sampling_obj = HighRssiFirstSampling()\n",
    "    sampling_pop = high_rssi_sampling_obj._do(son_problem_obj, 100)\n",
    "    sampling_pop_objecitve_space = np.empty((100,2))\n",
    "    out = {}\n",
    "    for index, ind in enumerate(sampling_pop):\n",
    "        son_problem_obj._evaluate(ind, out)\n",
    "        sampling_pop_objecitve_space[index]=out[\"F\"]\n",
    "    return sampling_pop_objecitve_space\n",
    "\n",
    "def get_hypervolume(objective_space_pop: np.ndarray, ref_point=None, norm_ref_point=True, zero_to_one=False, ideal=None, nadir=None):\n",
    "    hv = Hypervolume(ref_point=np.array([1.1, 1.1]),\n",
    "                     norm_ref_point=norm_ref_point,\n",
    "                     zero_to_one=zero_to_one,\n",
    "                     ideal=ideal,\n",
    "                     nadir=nadir)\n",
    "    \n",
    "    return hv(objective_space_pop)\n",
    "\n",
    "\n",
    "network_name = \"hetNet2\"\n",
    "config_names = [\"static600gen_pop200_opff40\", \"static600gen_pop400_off80\"]\n",
    "pareto_fronts = []\n",
    "hyper_volume_histories = []\n",
    "\n",
    "for _, config_name in enumerate(config_names):\n",
    "    results_directory = f\"./datastore/{network_name}/{config_name}/\"\n",
    "\n",
    "    results_object = {}\n",
    "    with open(results_directory + \"objectives_result.json\", mode=\"r\",encoding=\"utf-8\") as openfile:\n",
    "            results_object = json.load(openfile)\n",
    "\n",
    "    pareto_fronts.append(results_object[\"objectiveSpace\"])\n",
    "    \n",
    "    hyper_volume_history = []\n",
    "    for _, current_pop_objectivespace in enumerate(results_object[\"history\"][\"objective_space_opt\"]):\n",
    "        hyper_volume_history.append(get_hypervolume(np.array(current_pop_objectivespace)))\n",
    "    hyper_volume_histories.append(hyper_volume_history)"
   ]
  },
  {
   "cell_type": "code",
   "execution_count": 68,
   "id": "7ae4bc69",
   "metadata": {},
   "outputs": [
    {
     "data": {
      "application/vnd.plotly.v1+json": {
       "config": {
        "plotlyServerURL": "https://plot.ly"
       },
       "data": [
        {
         "mode": "markers",
         "name": "static600gen_pop200_opff40",
         "type": "scatter",
         "x": [
          -1.9502997148846442,
          -1.9252955953787112,
          -1.9731129827288465,
          -2.0097191121039213,
          -2.0459156393284306,
          -1.9939430643006082,
          -2.006963802127068,
          -2.0360953834279147,
          -2.064428101813654,
          -2.0227398499303813,
          -2.0594477167117424,
          -2.056004756203533,
          -2.023074645601455,
          -2.047084246096968,
          -2.05157658456755,
          -2.0718439184429474,
          -2.04667171750441,
          -1.9711297964564058,
          -2.0598741967258127,
          -2.043229207246525,
          -2.068311255287161
         ],
         "y": [
          -3.8916922270306515,
          -3.89965375781538,
          -3.8766718291674085,
          -3.837056240966554,
          -3.7375868397225824,
          -3.861671638809957,
          -3.838865347941048,
          -3.7893200988253204,
          -3.6624352362320556,
          -3.8142499500976466,
          -3.664809094281988,
          -3.706652324198699,
          -3.8121263896942286,
          -3.716200310389108,
          -3.711362420758916,
          -3.5575186659904556,
          -3.7169298016599943,
          -3.8766920366732007,
          -3.6646695836850203,
          -3.7587920718579713,
          -3.6210323919102634
         ]
        },
        {
         "mode": "markers",
         "name": "static600gen_pop400_off80",
         "type": "scatter",
         "x": [
          -2.0445597628805094,
          -2.0075629886106316,
          -2.0376710356577883,
          -2.0437334957122406,
          -1.9070731280180673,
          -1.930474723069955,
          -2.0769007985653154,
          -2.0099556462457255,
          -2.0663539498313073,
          -2.0506301822614437,
          -2.0787190242602405,
          -2.043515618535515,
          -2.0544618293415127,
          -2.0613698401172473,
          -1.9322568068191188,
          -2.0315160567581394,
          -2.009334282307119,
          -2.0673980941763017,
          -2.060325695772253,
          -1.9759779698573925,
          -2.070873309425737,
          -2.049586037916449,
          -2.031297359748284,
          -2.0788208147305802,
          -1.9970957571144567,
          -2.076987881662983,
          -2.0304968668226544,
          -1.9556889218491913
         ],
         "y": [
          -3.7338442474246216,
          -3.8420914103823547,
          -3.770905743433469,
          -3.7351756065396335,
          -3.9344823242688327,
          -3.9281862338411857,
          -3.5709221772608206,
          -3.8346675075267047,
          -3.6196911762467816,
          -3.698450696218331,
          -3.5130300479060383,
          -3.7363841158142788,
          -3.695354586917213,
          -3.6591085578908804,
          -3.9246802264776735,
          -3.7712475835290853,
          -3.8396056557033655,
          -3.6171513078571245,
          -3.6616484262805375,
          -3.9037727627417413,
          -3.6129117743717005,
          -3.700990564607989,
          -3.772421423526355,
          -3.4558602934226523,
          -3.8806861258168315,
          -3.5131304742804437,
          -3.8184134147522286,
          -3.919674771364902
         ]
        },
        {
         "mode": "markers",
         "name": "greedy_sampling_pop",
         "type": "scatter",
         "x": [
          -1.3029270096529788,
          -1.3132077061810379,
          -1.3019925634176641,
          -1.5748245815999578,
          -1.3090814737654082,
          -1.4694501158148845,
          -1.2912068297065813,
          -1.288242219777106,
          -1.410487406235717,
          -1.5859385065665996,
          -1.3515242765541906,
          -1.4720882141332052,
          -1.438144286652088,
          -1.3835810342701984,
          -1.543222685949834,
          -1.430608595637967,
          -1.5001991007824305,
          -1.3103318548719054,
          -1.4336705199519924,
          -1.4099910684337293,
          -1.4736997565888055,
          -1.4010630420234487,
          -1.3856622446236546,
          -1.348902639765715,
          -1.5256824084764424,
          -1.3295840774248433,
          -1.3364158683017708,
          -1.4466016637171404,
          -1.3276061997334956,
          -1.3369325532942804,
          -1.3094906019305415,
          -1.5120668057563627,
          -1.5267145062265244,
          -1.3239777593140862,
          -1.372308386373003,
          -1.4436339691912377,
          -1.4232848290484994,
          -1.4480597739187655,
          -1.4205615208599462,
          -1.4692504065930627,
          -1.4034904758497162,
          -1.4005815133072708,
          -1.3284685936318203,
          -1.534002163233196,
          -1.490851913151906,
          -1.4347059321632119,
          -1.3441774638655088,
          -1.4752447342377222,
          -1.4512540001775445,
          -1.4039147329917179,
          -1.275859247331993,
          -1.5108590528428343,
          -1.448418794576056,
          -1.3980423801305806,
          -1.3104541664878535,
          -1.4110146541641215,
          -1.4493865184056118,
          -1.3740257142012433,
          -1.3831639936684754,
          -1.330097112368573,
          -1.3652725400156989,
          -1.3046503457228067,
          -1.358309424536236,
          -1.3334233538840092,
          -1.4202160360478464,
          -1.408791180560528,
          -1.3630814135448384,
          -1.5100341910108697,
          -1.318640971154831,
          -1.3789872474266758,
          -1.4868050898712994,
          -1.3542100966801067,
          -1.362849380653459,
          -1.2687497313410947,
          -1.4689923825727969,
          -1.429740507903305,
          -1.3200970437070079,
          -1.4898660616674646,
          -1.4865546843726738,
          -1.5599063535387645,
          -1.1923188740991617,
          -1.1611952617272645,
          -1.355290874497338,
          -1.3965764088321486,
          -1.5300453110040557,
          -1.3497407884642514,
          -1.42248882626526,
          -1.5162732980974734,
          -1.5130925252854177,
          -1.347944604193092,
          -1.3933671953890414,
          -1.4383893329736246,
          -1.2682940185544218,
          -1.4501117649412814,
          -1.4260560060469663,
          -1.3817574077522312,
          -1.258930908174476,
          -1.4843138207504194,
          -1.4766110638788101,
          -1.464269505786475
         ],
         "y": [
          -2.219873187779103,
          -2.0645211045081253,
          -2.347693530913615,
          -2.153847668796494,
          -1.9796786955201675,
          -2.1704924023363352,
          -1.9984630521556952,
          -1.9112119137138823,
          -2.353381236332471,
          -2.3196315769072986,
          -2.0209506828647523,
          -2.0217316137009638,
          -2.075543792349307,
          -2.4770775617795677,
          -2.166868315591427,
          -2.0505131575726967,
          -2.374842146594038,
          -2.2878442010654365,
          -2.199374322572295,
          -2.099338256487044,
          -2.2312180473909344,
          -2.0578812930489967,
          -2.290303524782426,
          -2.462725486508291,
          -2.4674277732046703,
          -2.2922908071313013,
          -2.140020119589072,
          -2.2405726722348343,
          -2.2650381378653015,
          -2.2689660423193274,
          -1.968369031783162,
          -2.104819382501808,
          -2.25986115676586,
          -2.311173049725164,
          -2.320067188508772,
          -2.243476047497882,
          -2.3914424737591027,
          -2.2534250735799732,
          -2.421601090474465,
          -2.1071495016107975,
          -2.0819565466309515,
          -2.3273494580675025,
          -2.287950339591487,
          -2.0662210683638658,
          -2.2302680765737737,
          -2.1995905280677444,
          -2.42889146786078,
          -2.237457274502531,
          -2.635086955194465,
          -1.9366898913651407,
          -2.269985691988509,
          -2.470044542451936,
          -2.340717394354326,
          -2.351934829338223,
          -2.178529951352756,
          -2.2754636975426643,
          -2.2500489600548192,
          -2.372605292762182,
          -2.372367706381678,
          -2.0484548431684417,
          -2.079589829761768,
          -2.0873408700692937,
          -2.2474508017549772,
          -2.4341230535143707,
          -1.9549646257266555,
          -1.925180107542528,
          -2.244342897430997,
          -2.2871050139072935,
          -2.2897319747796745,
          -2.3380283322263815,
          -2.233006351829525,
          -2.133349883233723,
          -2.2283247384833382,
          -2.0855348362309463,
          -2.4010535226308973,
          -2.417153066371767,
          -2.0502911130700787,
          -2.476055585515917,
          -2.228302409367359,
          -2.3203692450441236,
          -2.059055221557691,
          -1.8869470456936184,
          -2.0994445839949525,
          -2.3526729588627924,
          -2.5364730594560143,
          -2.256500485428155,
          -2.2445212876326006,
          -2.3436277601441136,
          -2.2807884774243066,
          -2.3573422889414504,
          -2.1808822465471884,
          -2.210104796746811,
          -2.0391074991387383,
          -2.1653172348916385,
          -2.2625051661151336,
          -2.0690846974705095,
          -2.0932848801033828,
          -2.156526997343473,
          -2.3508438468420314,
          -2.055498596657343
         ]
        },
        {
         "marker": {
          "size": 10
         },
         "mode": "markers",
         "name": "greedy_assignment_profile",
         "opacity": 0.5,
         "type": "scatter",
         "x": [
          -1.464269505786475
         ],
         "y": [
          -2.055498596657343
         ]
        },
        {
         "marker": {
          "size": 10
         },
         "mode": "markers",
         "name": "asf selection for greedy_sampling_pop",
         "opacity": 0.5,
         "type": "scatter",
         "x": [
          -1.5300453110040557
         ],
         "y": [
          -2.5364730594560143
         ]
        }
       ],
       "layout": {
        "template": {
         "data": {
          "bar": [
           {
            "error_x": {
             "color": "#2a3f5f"
            },
            "error_y": {
             "color": "#2a3f5f"
            },
            "marker": {
             "line": {
              "color": "#E5ECF6",
              "width": 0.5
             },
             "pattern": {
              "fillmode": "overlay",
              "size": 10,
              "solidity": 0.2
             }
            },
            "type": "bar"
           }
          ],
          "barpolar": [
           {
            "marker": {
             "line": {
              "color": "#E5ECF6",
              "width": 0.5
             },
             "pattern": {
              "fillmode": "overlay",
              "size": 10,
              "solidity": 0.2
             }
            },
            "type": "barpolar"
           }
          ],
          "carpet": [
           {
            "aaxis": {
             "endlinecolor": "#2a3f5f",
             "gridcolor": "white",
             "linecolor": "white",
             "minorgridcolor": "white",
             "startlinecolor": "#2a3f5f"
            },
            "baxis": {
             "endlinecolor": "#2a3f5f",
             "gridcolor": "white",
             "linecolor": "white",
             "minorgridcolor": "white",
             "startlinecolor": "#2a3f5f"
            },
            "type": "carpet"
           }
          ],
          "choropleth": [
           {
            "colorbar": {
             "outlinewidth": 0,
             "ticks": ""
            },
            "type": "choropleth"
           }
          ],
          "contour": [
           {
            "colorbar": {
             "outlinewidth": 0,
             "ticks": ""
            },
            "colorscale": [
             [
              0,
              "#0d0887"
             ],
             [
              0.1111111111111111,
              "#46039f"
             ],
             [
              0.2222222222222222,
              "#7201a8"
             ],
             [
              0.3333333333333333,
              "#9c179e"
             ],
             [
              0.4444444444444444,
              "#bd3786"
             ],
             [
              0.5555555555555556,
              "#d8576b"
             ],
             [
              0.6666666666666666,
              "#ed7953"
             ],
             [
              0.7777777777777778,
              "#fb9f3a"
             ],
             [
              0.8888888888888888,
              "#fdca26"
             ],
             [
              1,
              "#f0f921"
             ]
            ],
            "type": "contour"
           }
          ],
          "contourcarpet": [
           {
            "colorbar": {
             "outlinewidth": 0,
             "ticks": ""
            },
            "type": "contourcarpet"
           }
          ],
          "heatmap": [
           {
            "colorbar": {
             "outlinewidth": 0,
             "ticks": ""
            },
            "colorscale": [
             [
              0,
              "#0d0887"
             ],
             [
              0.1111111111111111,
              "#46039f"
             ],
             [
              0.2222222222222222,
              "#7201a8"
             ],
             [
              0.3333333333333333,
              "#9c179e"
             ],
             [
              0.4444444444444444,
              "#bd3786"
             ],
             [
              0.5555555555555556,
              "#d8576b"
             ],
             [
              0.6666666666666666,
              "#ed7953"
             ],
             [
              0.7777777777777778,
              "#fb9f3a"
             ],
             [
              0.8888888888888888,
              "#fdca26"
             ],
             [
              1,
              "#f0f921"
             ]
            ],
            "type": "heatmap"
           }
          ],
          "heatmapgl": [
           {
            "colorbar": {
             "outlinewidth": 0,
             "ticks": ""
            },
            "colorscale": [
             [
              0,
              "#0d0887"
             ],
             [
              0.1111111111111111,
              "#46039f"
             ],
             [
              0.2222222222222222,
              "#7201a8"
             ],
             [
              0.3333333333333333,
              "#9c179e"
             ],
             [
              0.4444444444444444,
              "#bd3786"
             ],
             [
              0.5555555555555556,
              "#d8576b"
             ],
             [
              0.6666666666666666,
              "#ed7953"
             ],
             [
              0.7777777777777778,
              "#fb9f3a"
             ],
             [
              0.8888888888888888,
              "#fdca26"
             ],
             [
              1,
              "#f0f921"
             ]
            ],
            "type": "heatmapgl"
           }
          ],
          "histogram": [
           {
            "marker": {
             "pattern": {
              "fillmode": "overlay",
              "size": 10,
              "solidity": 0.2
             }
            },
            "type": "histogram"
           }
          ],
          "histogram2d": [
           {
            "colorbar": {
             "outlinewidth": 0,
             "ticks": ""
            },
            "colorscale": [
             [
              0,
              "#0d0887"
             ],
             [
              0.1111111111111111,
              "#46039f"
             ],
             [
              0.2222222222222222,
              "#7201a8"
             ],
             [
              0.3333333333333333,
              "#9c179e"
             ],
             [
              0.4444444444444444,
              "#bd3786"
             ],
             [
              0.5555555555555556,
              "#d8576b"
             ],
             [
              0.6666666666666666,
              "#ed7953"
             ],
             [
              0.7777777777777778,
              "#fb9f3a"
             ],
             [
              0.8888888888888888,
              "#fdca26"
             ],
             [
              1,
              "#f0f921"
             ]
            ],
            "type": "histogram2d"
           }
          ],
          "histogram2dcontour": [
           {
            "colorbar": {
             "outlinewidth": 0,
             "ticks": ""
            },
            "colorscale": [
             [
              0,
              "#0d0887"
             ],
             [
              0.1111111111111111,
              "#46039f"
             ],
             [
              0.2222222222222222,
              "#7201a8"
             ],
             [
              0.3333333333333333,
              "#9c179e"
             ],
             [
              0.4444444444444444,
              "#bd3786"
             ],
             [
              0.5555555555555556,
              "#d8576b"
             ],
             [
              0.6666666666666666,
              "#ed7953"
             ],
             [
              0.7777777777777778,
              "#fb9f3a"
             ],
             [
              0.8888888888888888,
              "#fdca26"
             ],
             [
              1,
              "#f0f921"
             ]
            ],
            "type": "histogram2dcontour"
           }
          ],
          "mesh3d": [
           {
            "colorbar": {
             "outlinewidth": 0,
             "ticks": ""
            },
            "type": "mesh3d"
           }
          ],
          "parcoords": [
           {
            "line": {
             "colorbar": {
              "outlinewidth": 0,
              "ticks": ""
             }
            },
            "type": "parcoords"
           }
          ],
          "pie": [
           {
            "automargin": true,
            "type": "pie"
           }
          ],
          "scatter": [
           {
            "fillpattern": {
             "fillmode": "overlay",
             "size": 10,
             "solidity": 0.2
            },
            "type": "scatter"
           }
          ],
          "scatter3d": [
           {
            "line": {
             "colorbar": {
              "outlinewidth": 0,
              "ticks": ""
             }
            },
            "marker": {
             "colorbar": {
              "outlinewidth": 0,
              "ticks": ""
             }
            },
            "type": "scatter3d"
           }
          ],
          "scattercarpet": [
           {
            "marker": {
             "colorbar": {
              "outlinewidth": 0,
              "ticks": ""
             }
            },
            "type": "scattercarpet"
           }
          ],
          "scattergeo": [
           {
            "marker": {
             "colorbar": {
              "outlinewidth": 0,
              "ticks": ""
             }
            },
            "type": "scattergeo"
           }
          ],
          "scattergl": [
           {
            "marker": {
             "colorbar": {
              "outlinewidth": 0,
              "ticks": ""
             }
            },
            "type": "scattergl"
           }
          ],
          "scattermapbox": [
           {
            "marker": {
             "colorbar": {
              "outlinewidth": 0,
              "ticks": ""
             }
            },
            "type": "scattermapbox"
           }
          ],
          "scatterpolar": [
           {
            "marker": {
             "colorbar": {
              "outlinewidth": 0,
              "ticks": ""
             }
            },
            "type": "scatterpolar"
           }
          ],
          "scatterpolargl": [
           {
            "marker": {
             "colorbar": {
              "outlinewidth": 0,
              "ticks": ""
             }
            },
            "type": "scatterpolargl"
           }
          ],
          "scatterternary": [
           {
            "marker": {
             "colorbar": {
              "outlinewidth": 0,
              "ticks": ""
             }
            },
            "type": "scatterternary"
           }
          ],
          "surface": [
           {
            "colorbar": {
             "outlinewidth": 0,
             "ticks": ""
            },
            "colorscale": [
             [
              0,
              "#0d0887"
             ],
             [
              0.1111111111111111,
              "#46039f"
             ],
             [
              0.2222222222222222,
              "#7201a8"
             ],
             [
              0.3333333333333333,
              "#9c179e"
             ],
             [
              0.4444444444444444,
              "#bd3786"
             ],
             [
              0.5555555555555556,
              "#d8576b"
             ],
             [
              0.6666666666666666,
              "#ed7953"
             ],
             [
              0.7777777777777778,
              "#fb9f3a"
             ],
             [
              0.8888888888888888,
              "#fdca26"
             ],
             [
              1,
              "#f0f921"
             ]
            ],
            "type": "surface"
           }
          ],
          "table": [
           {
            "cells": {
             "fill": {
              "color": "#EBF0F8"
             },
             "line": {
              "color": "white"
             }
            },
            "header": {
             "fill": {
              "color": "#C8D4E3"
             },
             "line": {
              "color": "white"
             }
            },
            "type": "table"
           }
          ]
         },
         "layout": {
          "annotationdefaults": {
           "arrowcolor": "#2a3f5f",
           "arrowhead": 0,
           "arrowwidth": 1
          },
          "autotypenumbers": "strict",
          "coloraxis": {
           "colorbar": {
            "outlinewidth": 0,
            "ticks": ""
           }
          },
          "colorscale": {
           "diverging": [
            [
             0,
             "#8e0152"
            ],
            [
             0.1,
             "#c51b7d"
            ],
            [
             0.2,
             "#de77ae"
            ],
            [
             0.3,
             "#f1b6da"
            ],
            [
             0.4,
             "#fde0ef"
            ],
            [
             0.5,
             "#f7f7f7"
            ],
            [
             0.6,
             "#e6f5d0"
            ],
            [
             0.7,
             "#b8e186"
            ],
            [
             0.8,
             "#7fbc41"
            ],
            [
             0.9,
             "#4d9221"
            ],
            [
             1,
             "#276419"
            ]
           ],
           "sequential": [
            [
             0,
             "#0d0887"
            ],
            [
             0.1111111111111111,
             "#46039f"
            ],
            [
             0.2222222222222222,
             "#7201a8"
            ],
            [
             0.3333333333333333,
             "#9c179e"
            ],
            [
             0.4444444444444444,
             "#bd3786"
            ],
            [
             0.5555555555555556,
             "#d8576b"
            ],
            [
             0.6666666666666666,
             "#ed7953"
            ],
            [
             0.7777777777777778,
             "#fb9f3a"
            ],
            [
             0.8888888888888888,
             "#fdca26"
            ],
            [
             1,
             "#f0f921"
            ]
           ],
           "sequentialminus": [
            [
             0,
             "#0d0887"
            ],
            [
             0.1111111111111111,
             "#46039f"
            ],
            [
             0.2222222222222222,
             "#7201a8"
            ],
            [
             0.3333333333333333,
             "#9c179e"
            ],
            [
             0.4444444444444444,
             "#bd3786"
            ],
            [
             0.5555555555555556,
             "#d8576b"
            ],
            [
             0.6666666666666666,
             "#ed7953"
            ],
            [
             0.7777777777777778,
             "#fb9f3a"
            ],
            [
             0.8888888888888888,
             "#fdca26"
            ],
            [
             1,
             "#f0f921"
            ]
           ]
          },
          "colorway": [
           "#636efa",
           "#EF553B",
           "#00cc96",
           "#ab63fa",
           "#FFA15A",
           "#19d3f3",
           "#FF6692",
           "#B6E880",
           "#FF97FF",
           "#FECB52"
          ],
          "font": {
           "color": "#2a3f5f"
          },
          "geo": {
           "bgcolor": "white",
           "lakecolor": "white",
           "landcolor": "#E5ECF6",
           "showlakes": true,
           "showland": true,
           "subunitcolor": "white"
          },
          "hoverlabel": {
           "align": "left"
          },
          "hovermode": "closest",
          "mapbox": {
           "style": "light"
          },
          "paper_bgcolor": "white",
          "plot_bgcolor": "#E5ECF6",
          "polar": {
           "angularaxis": {
            "gridcolor": "white",
            "linecolor": "white",
            "ticks": ""
           },
           "bgcolor": "#E5ECF6",
           "radialaxis": {
            "gridcolor": "white",
            "linecolor": "white",
            "ticks": ""
           }
          },
          "scene": {
           "xaxis": {
            "backgroundcolor": "#E5ECF6",
            "gridcolor": "white",
            "gridwidth": 2,
            "linecolor": "white",
            "showbackground": true,
            "ticks": "",
            "zerolinecolor": "white"
           },
           "yaxis": {
            "backgroundcolor": "#E5ECF6",
            "gridcolor": "white",
            "gridwidth": 2,
            "linecolor": "white",
            "showbackground": true,
            "ticks": "",
            "zerolinecolor": "white"
           },
           "zaxis": {
            "backgroundcolor": "#E5ECF6",
            "gridcolor": "white",
            "gridwidth": 2,
            "linecolor": "white",
            "showbackground": true,
            "ticks": "",
            "zerolinecolor": "white"
           }
          },
          "shapedefaults": {
           "line": {
            "color": "#2a3f5f"
           }
          },
          "ternary": {
           "aaxis": {
            "gridcolor": "white",
            "linecolor": "white",
            "ticks": ""
           },
           "baxis": {
            "gridcolor": "white",
            "linecolor": "white",
            "ticks": ""
           },
           "bgcolor": "#E5ECF6",
           "caxis": {
            "gridcolor": "white",
            "linecolor": "white",
            "ticks": ""
           }
          },
          "title": {
           "x": 0.05
          },
          "xaxis": {
           "automargin": true,
           "gridcolor": "white",
           "linecolor": "white",
           "ticks": "",
           "title": {
            "standoff": 15
           },
           "zerolinecolor": "white",
           "zerolinewidth": 2
          },
          "yaxis": {
           "automargin": true,
           "gridcolor": "white",
           "linecolor": "white",
           "ticks": "",
           "title": {
            "standoff": 15
           },
           "zerolinecolor": "white",
           "zerolinewidth": 2
          }
         }
        },
        "title": {
         "text": "pareto fonts"
        },
        "xaxis": {
         "title": {
          "text": "avg energy efficiency"
         }
        },
        "yaxis": {
         "title": {
          "text": "avg downlink"
         }
        }
       }
      }
     },
     "metadata": {},
     "output_type": "display_data"
    },
    {
     "data": {
      "application/vnd.plotly.v1+json": {
       "config": {
        "plotlyServerURL": "https://plot.ly"
       },
       "data": [
        {
         "mode": "lines",
         "name": "static600gen_pop200_opff40",
         "type": "scatter",
         "x": [
          0,
          1,
          2,
          3,
          4,
          5,
          6,
          7,
          8,
          9,
          10,
          11,
          12,
          13,
          14,
          15,
          16,
          17,
          18,
          19,
          20,
          21,
          22,
          23,
          24,
          25,
          26,
          27,
          28,
          29,
          30,
          31,
          32,
          33,
          34,
          35,
          36,
          37,
          38,
          39,
          40,
          41,
          42,
          43,
          44,
          45,
          46,
          47,
          48,
          49,
          50,
          51,
          52,
          53,
          54,
          55,
          56,
          57,
          58,
          59,
          60,
          61,
          62,
          63,
          64,
          65,
          66,
          67,
          68,
          69,
          70,
          71,
          72,
          73,
          74,
          75,
          76,
          77,
          78,
          79,
          80,
          81,
          82,
          83,
          84,
          85,
          86,
          87,
          88,
          89,
          90,
          91,
          92,
          93,
          94,
          95,
          96,
          97,
          98,
          99,
          100,
          101,
          102,
          103,
          104,
          105,
          106,
          107,
          108,
          109,
          110,
          111,
          112,
          113,
          114,
          115,
          116,
          117,
          118,
          119,
          120,
          121,
          122,
          123,
          124,
          125,
          126,
          127,
          128,
          129,
          130,
          131,
          132,
          133,
          134,
          135,
          136,
          137,
          138,
          139,
          140,
          141,
          142,
          143,
          144,
          145,
          146,
          147,
          148,
          149,
          150,
          151,
          152,
          153,
          154,
          155,
          156,
          157,
          158,
          159,
          160,
          161,
          162,
          163,
          164,
          165,
          166,
          167,
          168,
          169,
          170,
          171,
          172,
          173,
          174,
          175,
          176,
          177,
          178,
          179,
          180,
          181,
          182,
          183,
          184,
          185,
          186,
          187,
          188,
          189,
          190,
          191,
          192,
          193,
          194,
          195,
          196,
          197,
          198,
          199,
          200,
          201,
          202,
          203,
          204,
          205,
          206,
          207,
          208,
          209,
          210,
          211,
          212,
          213,
          214,
          215,
          216,
          217,
          218,
          219,
          220,
          221,
          222,
          223,
          224,
          225,
          226,
          227,
          228,
          229,
          230,
          231,
          232,
          233,
          234,
          235,
          236,
          237,
          238,
          239,
          240,
          241,
          242,
          243,
          244,
          245,
          246,
          247,
          248,
          249,
          250,
          251,
          252,
          253,
          254,
          255,
          256,
          257,
          258,
          259,
          260,
          261,
          262,
          263,
          264,
          265,
          266,
          267,
          268,
          269,
          270,
          271,
          272,
          273,
          274,
          275,
          276,
          277,
          278,
          279,
          280,
          281,
          282,
          283,
          284,
          285,
          286,
          287,
          288,
          289,
          290,
          291,
          292,
          293,
          294,
          295,
          296,
          297,
          298,
          299,
          300,
          301,
          302,
          303,
          304,
          305,
          306,
          307,
          308,
          309,
          310,
          311,
          312,
          313,
          314,
          315,
          316,
          317,
          318,
          319,
          320,
          321,
          322,
          323,
          324,
          325,
          326,
          327,
          328,
          329,
          330,
          331,
          332,
          333,
          334,
          335,
          336,
          337,
          338,
          339,
          340,
          341,
          342,
          343,
          344,
          345,
          346,
          347,
          348,
          349,
          350,
          351,
          352,
          353,
          354,
          355,
          356,
          357,
          358,
          359,
          360,
          361,
          362,
          363,
          364,
          365,
          366,
          367,
          368,
          369,
          370,
          371,
          372,
          373,
          374,
          375,
          376,
          377,
          378,
          379,
          380,
          381,
          382,
          383,
          384,
          385,
          386,
          387,
          388,
          389,
          390,
          391,
          392,
          393,
          394,
          395,
          396,
          397,
          398,
          399,
          400,
          401,
          402,
          403,
          404,
          405,
          406,
          407,
          408,
          409,
          410,
          411,
          412,
          413,
          414,
          415,
          416,
          417,
          418,
          419,
          420,
          421,
          422,
          423,
          424,
          425,
          426,
          427,
          428,
          429,
          430,
          431,
          432,
          433,
          434,
          435,
          436,
          437,
          438,
          439,
          440,
          441,
          442,
          443,
          444,
          445,
          446,
          447,
          448,
          449,
          450,
          451,
          452,
          453,
          454,
          455,
          456,
          457,
          458,
          459,
          460,
          461,
          462,
          463,
          464,
          465,
          466,
          467,
          468,
          469,
          470,
          471,
          472,
          473,
          474,
          475,
          476,
          477,
          478,
          479,
          480,
          481,
          482,
          483,
          484,
          485,
          486,
          487,
          488,
          489,
          490,
          491,
          492,
          493,
          494,
          495,
          496,
          497,
          498,
          499,
          500,
          501,
          502,
          503,
          504,
          505,
          506,
          507,
          508,
          509,
          510,
          511,
          512,
          513,
          514,
          515,
          516,
          517,
          518,
          519,
          520,
          521,
          522,
          523,
          524,
          525,
          526,
          527,
          528,
          529,
          530,
          531,
          532,
          533,
          534,
          535,
          536,
          537,
          538,
          539,
          540,
          541,
          542,
          543,
          544,
          545,
          546,
          547,
          548,
          549,
          550,
          551,
          552,
          553,
          554,
          555,
          556,
          557,
          558,
          559,
          560,
          561,
          562,
          563,
          564,
          565,
          566,
          567,
          568,
          569,
          570,
          571,
          572,
          573,
          574,
          575,
          576,
          577,
          578,
          579,
          580,
          581,
          582,
          583,
          584,
          585,
          586,
          587,
          588,
          589,
          590,
          591,
          592,
          593,
          594,
          595,
          596,
          597,
          598,
          599
         ],
         "y": [
          10.22551786031612,
          10.22551786031612,
          10.225617658968492,
          10.225617658968492,
          10.229199516807387,
          10.229363523879936,
          10.229578188917614,
          10.229578188917614,
          10.244150156032202,
          10.315378698663075,
          10.385739041855132,
          10.418494718130514,
          10.560288323346489,
          10.560288323346489,
          10.801293204620128,
          10.801293204620128,
          10.827070294880265,
          10.827070294880265,
          10.827070294880265,
          10.913701364875509,
          10.913701364875509,
          10.915945524105917,
          10.915945524105917,
          10.977765427156736,
          10.977842707639216,
          11.000623761106233,
          11.112058115226652,
          11.112623960193375,
          11.369109920286562,
          11.371236406388064,
          11.372584302892133,
          11.374188102961856,
          11.376244490188713,
          11.376942434217138,
          11.376942434217138,
          11.37866255018978,
          11.388232913898623,
          11.497578936390566,
          11.497578936390566,
          11.502203395298489,
          11.502203395298489,
          11.505634360907138,
          11.55683627302784,
          11.55683627302784,
          11.581829182739249,
          11.783838457141334,
          11.784423042114575,
          11.784423042114575,
          11.923754067172373,
          11.923754067172373,
          12.024272352618054,
          12.024272352618054,
          12.343524893397877,
          12.343524893397877,
          12.368419624669267,
          12.368654743838727,
          12.368654743838727,
          12.368654743838727,
          12.368654743838727,
          12.368654743838727,
          12.368654743838727,
          12.400402730765954,
          12.400402730765954,
          12.445088040744618,
          12.445088040744618,
          12.451711697942935,
          12.709040574512136,
          12.709046421571594,
          12.709046421571594,
          12.709046421571594,
          12.709046421571594,
          12.709046421571594,
          12.899455353288833,
          12.902594540915109,
          12.903029361582531,
          12.907134687826163,
          13.00656458646302,
          13.009533786704344,
          13.009820404027359,
          13.080709502395568,
          13.126442216649725,
          13.207192042841747,
          13.208381574596709,
          13.212634103301435,
          13.218551436316773,
          13.218645062045978,
          13.218645062045978,
          13.343644795116315,
          13.346716082472158,
          13.350177480987007,
          13.38255626424758,
          13.55423396693582,
          13.556057925539164,
          13.5564044363524,
          13.611003994372881,
          13.611003994372881,
          13.613035533684316,
          13.613035533684316,
          13.613035533684316,
          13.613035533684316,
          13.613713645093256,
          13.722471409600246,
          13.722471409600246,
          13.768550253364426,
          13.772741041853484,
          13.79156387700218,
          13.79156387700218,
          13.793014314096744,
          13.85016829766669,
          13.957203905457336,
          14.007242053182571,
          14.007544575978027,
          14.00946275943411,
          14.244110349651079,
          14.3133337687974,
          14.317057428714087,
          14.318013695284932,
          14.318013695284932,
          14.318013695284932,
          14.318013695284932,
          14.318013695284932,
          14.318013695284932,
          14.3191941482544,
          14.480991626024316,
          14.480991626024316,
          14.480991626024316,
          14.480991626024316,
          14.480991626024316,
          14.480991626024316,
          14.483230683215616,
          14.483230683215616,
          14.510735603952384,
          14.510735603952384,
          14.51089748272626,
          14.51089748272626,
          14.518988736452444,
          14.519025905520362,
          14.770036929572274,
          14.799008357085253,
          14.799008357085253,
          14.799008357085253,
          14.799008357085253,
          14.799008357085253,
          14.799008357085253,
          14.799030981016639,
          14.799030981016639,
          14.799030981016639,
          14.799030981016639,
          14.799041053983089,
          14.846587756115525,
          14.847117661673764,
          14.848596577303184,
          14.874881002452069,
          14.956352228267459,
          14.956717361249888,
          14.958855343040659,
          15.059481798818092,
          15.05957620006381,
          15.05957620006381,
          15.070484146466027,
          15.070484146466027,
          15.150308390229798,
          15.18147167531616,
          15.181554274636898,
          15.181554274636898,
          15.18156075200601,
          15.204396490586927,
          15.204396490586927,
          15.206232064366736,
          15.20944771661451,
          15.209981506777037,
          15.210287417645924,
          15.210855121839407,
          15.210855121839407,
          15.211631353524293,
          15.212542004017145,
          15.212542004017145,
          15.212542004017145,
          15.212779012081057,
          15.212837126475863,
          15.273650909120876,
          15.350278810192714,
          15.350325359755788,
          15.350407912728626,
          15.350792001106438,
          15.351418057752555,
          15.351719247789228,
          15.352131478604608,
          15.352131478604608,
          15.352176488931368,
          15.352214286664577,
          15.352568761586111,
          15.35265800944318,
          15.391297151043576,
          15.428238390212016,
          15.428418276505928,
          15.428418276505928,
          15.42858156453565,
          15.428591569488384,
          15.42935280259023,
          15.430605565914924,
          15.430605565914924,
          15.43112821883656,
          15.431336547387776,
          15.43154773500979,
          15.431556723559245,
          15.431556723559245,
          15.43194186647102,
          15.431978418418156,
          15.431993490378733,
          15.43216498986865,
          15.43216498986865,
          15.441299797461626,
          15.441299797461626,
          15.44148941314623,
          15.441521127808794,
          15.441607385332983,
          15.441607385332983,
          15.44164314135359,
          15.441654370600268,
          15.47172726889629,
          15.486592129565473,
          15.509313064541319,
          15.514608709254876,
          15.514794206669075,
          15.514802392766935,
          15.51485875406448,
          15.515158872261258,
          15.538643808885137,
          15.538643808885137,
          15.538644045284219,
          15.562624039508066,
          15.562769834300546,
          15.562771312411689,
          15.562808417777859,
          15.562822025730718,
          15.563293717243184,
          15.563429514314251,
          15.563430558261686,
          15.563436093130097,
          15.564756648118992,
          15.564843081669613,
          15.564972141567244,
          15.564972141567244,
          15.564972141567244,
          15.565045583980805,
          15.565167257206818,
          15.565201591034883,
          15.565367151301594,
          15.567133377629567,
          15.567217212995606,
          15.574438798914201,
          15.574477556981332,
          15.574539508453768,
          15.574550603935274,
          15.574550603935274,
          15.574604142672815,
          15.580054538087193,
          15.580314859981963,
          15.580339148488967,
          15.594576771291477,
          15.59464764190935,
          15.594659406703148,
          15.594659406703148,
          15.594681175050514,
          15.59472761453022,
          15.594786405626358,
          15.594786405626358,
          15.594847919032915,
          15.595092509785708,
          15.595107682446812,
          15.59523919978342,
          15.595259352640682,
          15.600249954579981,
          15.600252285279959,
          15.628568910866443,
          15.628586238141102,
          15.628629479004175,
          15.628666175071789,
          15.628667012782529,
          15.628896654094007,
          15.628985706285272,
          15.629018098791883,
          15.629019636612465,
          15.629026185744623,
          15.629030354269748,
          15.629064254532004,
          15.629499659003468,
          15.629521377154843,
          15.62985055909819,
          15.629897211231544,
          15.629925144797767,
          15.629977567096427,
          15.629979546371748,
          15.634081585349666,
          15.634110969144386,
          15.634124231322987,
          15.634183582073058,
          15.634758716451719,
          15.63486017587802,
          15.646918490053816,
          15.64697372760446,
          15.64782305562558,
          15.647928090777402,
          15.648149350287337,
          15.648157933589706,
          15.648194532129358,
          15.648397105027291,
          15.648397105027291,
          15.648434426364078,
          15.648450471891234,
          15.648487656771088,
          15.648516880386264,
          15.648568502111786,
          15.648768496239525,
          15.648804956718354,
          15.648825824602788,
          15.648825824602788,
          15.655632774649446,
          15.65564430170821,
          15.655729529607957,
          15.655729529607957,
          15.683719145381795,
          15.683731881118026,
          15.683847082453212,
          15.692390114873534,
          15.692404696829842,
          15.692404696829842,
          15.692488955280794,
          15.69249864897732,
          15.692514691353106,
          15.692554215392079,
          15.692627563773067,
          15.692653403590535,
          15.692653403590535,
          15.693105256684586,
          15.693157216283543,
          15.69327369871139,
          15.72053368689291,
          15.720582867511524,
          15.720597612024854,
          15.720597612024854,
          15.720602520315984,
          15.720680948266311,
          15.724826684022783,
          15.729633675532819,
          15.72964675138046,
          15.72964675138046,
          15.72964675138046,
          15.729648530837805,
          15.729701083394227,
          15.729705193095405,
          15.729748942490133,
          15.72976270620486,
          15.729794533301696,
          15.729839154638366,
          15.729858028007111,
          15.729920174212337,
          15.731202234815635,
          15.731202234815635,
          15.731271320362364,
          15.73135936125271,
          15.731403261361383,
          15.731403261361383,
          15.741785971683006,
          15.74181624371625,
          15.74181624371625,
          15.741821786478397,
          15.741935991466862,
          15.741935991466862,
          15.741935991466862,
          15.74194907590978,
          15.741957267200448,
          15.741957267200448,
          15.741957267200448,
          15.74935632512448,
          15.749386533388657,
          15.749391177246563,
          15.749397309790126,
          15.749397309790126,
          15.749539150732325,
          15.749569285132013,
          15.75890974634402,
          15.758924428327317,
          15.758949956524798,
          15.758949956524798,
          15.758952674819383,
          15.758952674819383,
          15.758977222633773,
          15.761301262652749,
          15.761453296342008,
          15.761795955801219,
          15.76185445928259,
          15.761873882150212,
          15.761873882150212,
          15.761884754068857,
          15.762722038682748,
          15.77348321152147,
          15.773543673096526,
          15.773599908167833,
          15.773599908167833,
          15.773599908167833,
          15.77362974136803,
          15.787924064722487,
          15.787960915052835,
          15.787977335610574,
          15.788007297821032,
          15.788007297821032,
          15.788015561117824,
          15.788037377333627,
          15.788194186344798,
          15.788222401667303,
          15.788257020869107,
          15.789168808498681,
          15.789169365206984,
          15.789169365206984,
          15.789186911466873,
          15.790003191899787,
          15.790003191899787,
          15.790003191899787,
          15.790011252630299,
          15.790066534191233,
          15.793482632467075,
          15.793498473315475,
          15.793498473315475,
          15.793583454373437,
          15.79358806669174,
          15.793588781410246,
          15.793588781410246,
          15.793602055082562,
          15.79364118990472,
          15.79364118990472,
          15.793649095229394,
          15.793649095229394,
          15.793651424341034,
          15.793654132751671,
          15.793660697242217,
          15.794203184102404,
          15.794203184102404,
          15.794203184102404,
          15.794204558247124,
          15.794204558247124,
          15.794242682600418,
          15.794249570016863,
          15.794249570016863,
          15.79425417785409,
          15.79425417785409,
          15.79425417785409,
          15.79425417785409,
          15.794546419268105,
          15.794546419268105,
          15.79455179405297,
          15.794552677110968,
          15.794552677110968,
          15.794562076684272,
          15.794562076684272,
          15.794562076684272,
          15.794577739613983,
          15.794678972062613,
          15.794678972062613,
          15.794689978877223,
          15.794689978877223,
          15.794692013430666,
          15.794692013430666,
          15.794708466719426,
          15.794708466719426,
          15.794708466719426,
          15.794709049276026,
          15.794727568822484,
          15.794728925094054,
          15.794730657456476,
          15.794844979339357,
          15.794844979339357,
          15.794847793404013,
          15.794847793404013,
          15.794847793404013,
          15.794847793404013,
          15.794849623266614,
          15.794852171893615,
          15.7948632330719,
          15.794868731481733,
          15.794868731481733,
          15.794878296203937,
          15.794878685806506,
          15.794924873167323,
          15.794924873167323,
          15.794924873167323,
          15.795028606174554,
          15.795028606174554,
          15.795034511491755,
          15.795034888058057,
          15.795034888058057,
          15.795034888058057,
          15.795034888058057,
          15.795034888058057,
          15.795034888058057,
          15.795034888058057,
          15.795191275754512,
          15.795191275754512,
          15.79519779426338,
          15.795225611648206,
          15.795225611648206,
          15.795228317110597,
          15.795228317110597,
          15.795228317110597,
          15.795311765708915,
          15.79552578104655,
          15.79552578104655,
          15.795527836800197,
          15.795529439548762,
          15.795530477423462,
          15.795805617020083,
          15.79606262122049,
          15.79606262122049,
          15.79606262122049,
          15.796067494502545,
          15.826300035397125,
          15.826300035397125,
          15.826699087120067,
          15.82670859405971,
          15.82670859405971,
          15.82670859405971,
          15.82670859405971,
          15.82670859405971,
          15.82682055649732,
          15.826899383365344,
          15.826899383365344,
          15.826975755438593,
          15.826975755438593,
          15.826975755438593,
          15.841387518390945,
          15.841387518390945,
          15.841387518390945,
          15.841387518390945,
          15.841387518390945,
          15.84428918368474,
          15.84428918368474,
          15.84428918368474,
          15.844299593926525,
          15.84431850097149,
          15.84431850097149,
          15.84432424990517,
          15.84432424990517,
          15.84432424990517,
          15.84432424990517,
          15.844325082871888,
          15.844325082871888,
          15.844340180597491,
          15.844340180597491,
          15.844340180597491,
          15.844340180597491,
          15.844340180597491,
          15.844364145578403,
          15.844364966987886,
          15.844390445967491,
          15.844406121992956,
          15.844413370072296,
          15.84477160214577,
          15.844773608176158,
          15.844776848202255,
          15.844816234158381,
          15.844816234158381,
          15.844816234158381,
          15.844819427911482,
          15.844819427911482,
          15.844819533929135,
          15.844822656229722,
          15.8448252564661,
          15.845047993690056,
          15.845047993690056,
          15.845049248652494,
          15.845049760437284,
          15.845049760437284,
          15.845049760437284,
          15.845049760437284,
          15.845049760437284,
          15.845184503019132,
          15.845184503019132,
          15.845184503019132,
          15.845184503019132,
          15.845188455086998,
          15.845188455086998,
          15.845190835205946,
          15.845296692101755,
          15.845424312723761,
          15.845424312723761,
          15.845424312723761,
          15.84542486427619,
          15.84542486427619,
          15.845429304910166,
          15.845429349251553,
          15.845430030443632,
          15.845430030443632,
          15.845430030443632,
          15.845430030443632,
          15.845430030443632,
          15.845430175812734,
          15.84543108219756,
          15.84543108219756,
          15.84543108219756
         ]
        },
        {
         "mode": "lines",
         "name": "static600gen_pop400_off80",
         "type": "scatter",
         "x": [
          0,
          1,
          2,
          3,
          4,
          5,
          6,
          7,
          8,
          9,
          10,
          11,
          12,
          13,
          14,
          15,
          16,
          17,
          18,
          19,
          20,
          21,
          22,
          23,
          24,
          25,
          26,
          27,
          28,
          29,
          30,
          31,
          32,
          33,
          34,
          35,
          36,
          37,
          38,
          39,
          40,
          41,
          42,
          43,
          44,
          45,
          46,
          47,
          48,
          49,
          50,
          51,
          52,
          53,
          54,
          55,
          56,
          57,
          58,
          59,
          60,
          61,
          62,
          63,
          64,
          65,
          66,
          67,
          68,
          69,
          70,
          71,
          72,
          73,
          74,
          75,
          76,
          77,
          78,
          79,
          80,
          81,
          82,
          83,
          84,
          85,
          86,
          87,
          88,
          89,
          90,
          91,
          92,
          93,
          94,
          95,
          96,
          97,
          98,
          99,
          100,
          101,
          102,
          103,
          104,
          105,
          106,
          107,
          108,
          109,
          110,
          111,
          112,
          113,
          114,
          115,
          116,
          117,
          118,
          119,
          120,
          121,
          122,
          123,
          124,
          125,
          126,
          127,
          128,
          129,
          130,
          131,
          132,
          133,
          134,
          135,
          136,
          137,
          138,
          139,
          140,
          141,
          142,
          143,
          144,
          145,
          146,
          147,
          148,
          149,
          150,
          151,
          152,
          153,
          154,
          155,
          156,
          157,
          158,
          159,
          160,
          161,
          162,
          163,
          164,
          165,
          166,
          167,
          168,
          169,
          170,
          171,
          172,
          173,
          174,
          175,
          176,
          177,
          178,
          179,
          180,
          181,
          182,
          183,
          184,
          185,
          186,
          187,
          188,
          189,
          190,
          191,
          192,
          193,
          194,
          195,
          196,
          197,
          198,
          199,
          200,
          201,
          202,
          203,
          204,
          205,
          206,
          207,
          208,
          209,
          210,
          211,
          212,
          213,
          214,
          215,
          216,
          217,
          218,
          219,
          220,
          221,
          222,
          223,
          224,
          225,
          226,
          227,
          228,
          229,
          230,
          231,
          232,
          233,
          234,
          235,
          236,
          237,
          238,
          239,
          240,
          241,
          242,
          243,
          244,
          245,
          246,
          247,
          248,
          249,
          250,
          251,
          252,
          253,
          254,
          255,
          256,
          257,
          258,
          259,
          260,
          261,
          262,
          263,
          264,
          265,
          266,
          267,
          268,
          269,
          270,
          271,
          272,
          273,
          274,
          275,
          276,
          277,
          278,
          279,
          280,
          281,
          282,
          283,
          284,
          285,
          286,
          287,
          288,
          289,
          290,
          291,
          292,
          293,
          294,
          295,
          296,
          297,
          298,
          299,
          300,
          301,
          302,
          303,
          304,
          305,
          306,
          307,
          308,
          309,
          310,
          311,
          312,
          313,
          314,
          315,
          316,
          317,
          318,
          319,
          320,
          321,
          322,
          323,
          324,
          325,
          326,
          327,
          328,
          329,
          330,
          331,
          332,
          333,
          334,
          335,
          336,
          337,
          338,
          339,
          340,
          341,
          342,
          343,
          344,
          345,
          346,
          347,
          348,
          349,
          350,
          351,
          352,
          353,
          354,
          355,
          356,
          357,
          358,
          359,
          360,
          361,
          362,
          363,
          364,
          365,
          366,
          367,
          368,
          369,
          370,
          371,
          372,
          373,
          374,
          375,
          376,
          377,
          378,
          379,
          380,
          381,
          382,
          383,
          384,
          385,
          386,
          387,
          388,
          389,
          390,
          391,
          392,
          393,
          394,
          395,
          396,
          397,
          398,
          399,
          400,
          401,
          402,
          403,
          404,
          405,
          406,
          407,
          408,
          409,
          410,
          411,
          412,
          413,
          414,
          415,
          416,
          417,
          418,
          419,
          420,
          421,
          422,
          423,
          424,
          425,
          426,
          427,
          428,
          429,
          430,
          431,
          432,
          433,
          434,
          435,
          436,
          437,
          438,
          439,
          440,
          441,
          442,
          443,
          444,
          445,
          446,
          447,
          448,
          449,
          450,
          451,
          452,
          453,
          454,
          455,
          456,
          457,
          458,
          459,
          460,
          461,
          462,
          463,
          464,
          465,
          466,
          467,
          468,
          469,
          470,
          471,
          472,
          473,
          474,
          475,
          476,
          477,
          478,
          479,
          480,
          481,
          482,
          483,
          484,
          485,
          486,
          487,
          488,
          489,
          490,
          491,
          492,
          493,
          494,
          495,
          496,
          497,
          498,
          499,
          500,
          501,
          502,
          503,
          504,
          505,
          506,
          507,
          508,
          509,
          510,
          511,
          512,
          513,
          514,
          515,
          516,
          517,
          518,
          519,
          520,
          521,
          522,
          523,
          524,
          525,
          526,
          527,
          528,
          529,
          530,
          531,
          532,
          533,
          534,
          535,
          536,
          537,
          538,
          539,
          540,
          541,
          542,
          543,
          544,
          545,
          546,
          547,
          548,
          549,
          550,
          551,
          552,
          553,
          554,
          555,
          556,
          557,
          558,
          559,
          560,
          561,
          562,
          563,
          564,
          565,
          566,
          567,
          568,
          569,
          570,
          571,
          572,
          573,
          574,
          575,
          576,
          577,
          578,
          579,
          580,
          581,
          582,
          583,
          584,
          585,
          586,
          587,
          588,
          589,
          590,
          591,
          592,
          593,
          594,
          595,
          596,
          597,
          598,
          599
         ],
         "y": [
          10.192182027977323,
          10.247041633575622,
          10.367647145616177,
          10.54558275848963,
          10.548326762331163,
          10.69093536465018,
          10.690955108219052,
          10.691950438995935,
          10.691950438995935,
          10.701340241684983,
          10.778425790481085,
          10.778425790481085,
          10.778425790481085,
          10.778425790481085,
          10.99496131973174,
          11.151024722261718,
          11.151024722261718,
          11.213350438603568,
          11.213350438603568,
          11.213350438603568,
          11.251800189123657,
          11.251800189123657,
          11.251800189123657,
          11.251800189123657,
          11.253641470704878,
          11.253641470704878,
          11.386473683147448,
          11.43513331635687,
          11.52323480027343,
          11.52323480027343,
          11.52323480027343,
          11.557085005810185,
          11.557102897082752,
          11.571802973883766,
          11.572233339995202,
          11.642125675416969,
          11.643866236256136,
          11.64537665042531,
          11.730551738065786,
          11.749363439248148,
          11.772781284871225,
          11.801406985516568,
          11.801497227752916,
          12.057647549053817,
          12.065418758230576,
          12.065418758230576,
          12.071811167162029,
          12.071811167162029,
          12.140013846843088,
          12.181197797243646,
          12.239143790511712,
          12.239143790511712,
          12.541071212658863,
          12.541071212658863,
          12.541493123375329,
          12.5425884312087,
          12.545198834078974,
          12.545198834078974,
          12.618341111049645,
          12.652238589695642,
          12.654932662141793,
          12.657587143736064,
          12.750934972827743,
          12.750934972827743,
          12.751591428521001,
          12.776657850475127,
          12.776657850475127,
          12.78168166349312,
          12.78168166349312,
          12.899824732692192,
          12.901759485887629,
          12.902478272339518,
          12.908976781230313,
          12.98825752654968,
          12.98825752654968,
          12.988345105105541,
          12.990952671890083,
          13.006349081145213,
          13.082893133698395,
          13.082893133698395,
          13.171406191538889,
          13.171406191538889,
          13.193939562556658,
          13.195176844084095,
          13.195176844084095,
          13.223936098809457,
          13.223936098809457,
          13.225147559235044,
          13.362384947503335,
          13.362384947503335,
          13.364248164296813,
          13.364248164296813,
          13.364248164296813,
          13.364248164296813,
          13.364248164296813,
          13.364248164296813,
          13.404469825830702,
          13.404469825830702,
          13.404469825830702,
          13.404469825830702,
          13.440954092642885,
          13.492388242552565,
          13.492388242552565,
          13.492388242552565,
          13.49269352431308,
          13.568801790527816,
          13.74550123531457,
          13.745824262949128,
          13.745824262949128,
          13.745824262949128,
          13.745824262949128,
          13.748132873210556,
          13.748132873210556,
          13.74823929815452,
          13.749087177969967,
          13.749947516503127,
          13.749947516503127,
          13.876496714878783,
          13.878714223167359,
          13.878714223167359,
          13.878714223167359,
          14.029649397412495,
          14.118429041820939,
          14.118429041820939,
          14.124446441351154,
          14.124446441351154,
          14.124446441351154,
          14.124446441351154,
          14.124446441351154,
          14.12571983093828,
          14.129974191618393,
          14.129974191618393,
          14.260121802853249,
          14.260121802853249,
          14.260121802853249,
          14.260131621612112,
          14.260131621612112,
          14.260131621612112,
          14.260131621612112,
          14.30775312641059,
          14.30775312641059,
          14.360168125551864,
          14.360178386580468,
          14.386275822387327,
          14.386275822387327,
          14.386275822387327,
          14.386275822387327,
          14.386283351606343,
          14.387221110627301,
          14.404438920415302,
          14.40533843598166,
          14.519066052673427,
          14.52015882383558,
          14.520821530959052,
          14.525689784020859,
          14.525902789825759,
          14.525902789825759,
          14.52641543015978,
          14.534202334049429,
          14.534881174327802,
          14.635725612782284,
          14.635883056020209,
          14.635883056020209,
          14.637482446781386,
          14.637503241569851,
          14.637754048561774,
          14.639146073187769,
          14.717606287560203,
          14.719259777274633,
          14.774560086905526,
          14.774560086905526,
          14.774560086905526,
          14.774560086905526,
          14.775547391506828,
          14.775547391506828,
          14.775547391506828,
          14.77591316751615,
          14.777240567049242,
          14.978693819306947,
          14.978853767491733,
          14.979824572593996,
          15.002517255008497,
          15.002517255008497,
          15.002517255008497,
          15.002517255008497,
          15.004140901609313,
          15.004140901609313,
          15.118740409178894,
          15.118906241195084,
          15.119260641789632,
          15.129138935686793,
          15.129138935686793,
          15.129138935686793,
          15.14531498505744,
          15.14531498505744,
          15.146020146269189,
          15.146515316190069,
          15.146515316190069,
          15.158086477526616,
          15.160681229564027,
          15.160681229564027,
          15.177946940678883,
          15.177946940678883,
          15.177963977468934,
          15.177982748538208,
          15.180626234099597,
          15.182330946972584,
          15.182330946972584,
          15.182361516677958,
          15.22086267849285,
          15.221130092879335,
          15.221135463126872,
          15.221135463126872,
          15.221135463126872,
          15.22172622224529,
          15.221778944896652,
          15.25055452641902,
          15.251086994617804,
          15.251860577226902,
          15.252220534736786,
          15.252497125319952,
          15.253049281112567,
          15.275523209418868,
          15.31099181739311,
          15.311012762067179,
          15.352750308961161,
          15.352890322605859,
          15.353101124859698,
          15.353478709791533,
          15.354372313042497,
          15.355328950957805,
          15.435003848559559,
          15.435006373832014,
          15.435006373832014,
          15.435011821483323,
          15.4351757952404,
          15.435232116312369,
          15.43581976818706,
          15.436378315746067,
          15.436528272652827,
          15.43653852588256,
          15.437289973760594,
          15.437359747275366,
          15.503218038622219,
          15.503221626709063,
          15.504350932437465,
          15.520510430718591,
          15.520755997954398,
          15.520755997954398,
          15.520755997954398,
          15.520757957256942,
          15.520854498090902,
          15.520876067957753,
          15.520880869276056,
          15.521804157433568,
          15.521919920709832,
          15.522003453757451,
          15.522003842456636,
          15.527462454266665,
          15.527487717216713,
          15.527510779976058,
          15.56214879341378,
          15.583806428986293,
          15.586160626663437,
          15.586166614834642,
          15.586181400235942,
          15.586542516740511,
          15.587405124424018,
          15.587568000573361,
          15.58761865107956,
          15.587669034174008,
          15.587868406639089,
          15.606069784092428,
          15.606116980137124,
          15.606187003643125,
          15.606237027669527,
          15.612572297224293,
          15.661358549897205,
          15.661395638247974,
          15.661473158974573,
          15.661587023445861,
          15.662306422050202,
          15.662466351440726,
          15.662690613849174,
          15.663021089886662,
          15.663094419346313,
          15.66318551245648,
          15.664134086049563,
          15.664591253291801,
          15.664591253291801,
          15.664828086650735,
          15.664828086650735,
          15.664841789156743,
          15.676497084681689,
          15.677197315311375,
          15.677205958398979,
          15.677268651867859,
          15.67945498687247,
          15.679465356629434,
          15.679546001595078,
          15.679571585172415,
          15.679657456659415,
          15.694321498462292,
          15.69441085569693,
          15.69472161797388,
          15.694727004590298,
          15.694825154121284,
          15.694848245615507,
          15.695084854945383,
          15.695144021342209,
          15.709636966640572,
          15.73620363808271,
          15.736366944355881,
          15.768842060470636,
          15.769121870894566,
          15.769126201187312,
          15.769155085669192,
          15.769203453129773,
          15.769203453129773,
          15.7693212300838,
          15.769321281233541,
          15.769329290911214,
          15.769484462292791,
          15.769545289429905,
          15.769602758943156,
          15.769602758943156,
          15.792353534737439,
          15.803859124749525,
          15.803862193484008,
          15.804000653720307,
          15.804098324211964,
          15.804148285676474,
          15.80814885841062,
          15.808477923243336,
          15.808477961601044,
          15.808806862434448,
          15.808819337919326,
          15.808893880028288,
          15.808993010398094,
          15.809060272848356,
          15.809061708581925,
          15.811448320444482,
          15.811918400188926,
          15.811921440545119,
          15.811921440545119,
          15.816714228708715,
          15.820658362401465,
          15.820658631583866,
          15.820751500220116,
          15.820782451156411,
          15.820848309571232,
          15.820953843934536,
          15.820980246420696,
          15.82115158869555,
          15.82123074531348,
          15.821271757599378,
          15.836851342662182,
          15.83697231277413,
          15.837016443097204,
          15.837068328784447,
          15.837183160308136,
          15.837233032456332,
          15.837238636964356,
          15.837238636964356,
          15.837241698649947,
          15.837348323815846,
          15.837375036669323,
          15.8374167702844,
          15.837440446431282,
          15.83745147851529,
          15.837483590231148,
          15.837520835898967,
          15.837602661789374,
          15.87225044268249,
          15.87225044268249,
          15.872275982391066,
          15.87241983645046,
          15.87273253439989,
          15.872753832681402,
          15.872753832681402,
          15.872756706485317,
          15.872780091990732,
          15.872797136771977,
          15.873013905087229,
          15.873015188175748,
          15.873015188175748,
          15.873066003149601,
          15.873097482516217,
          15.873170869416992,
          15.873185333461413,
          15.873263385195928,
          15.876621654984309,
          15.876621654984309,
          15.876781432645078,
          15.876809693111383,
          15.876978468673581,
          15.876978855565483,
          15.879230730867285,
          15.879400631790308,
          15.879402177229549,
          15.8795502485519,
          15.879576079602522,
          15.891948438709068,
          15.892136609387205,
          15.892273301301353,
          15.892300816898285,
          15.893438355731162,
          15.893582978576184,
          15.893698396640003,
          15.893756522658643,
          15.894003615343161,
          15.912877277453656,
          15.912877277453656,
          15.912903336144135,
          15.913195683291223,
          15.913197138401829,
          15.913265298457647,
          15.913385145852553,
          15.913576628393098,
          15.913938650240969,
          15.913993832051272,
          15.914052905767647,
          15.9141144591835,
          15.914134540112897,
          15.914154749319863,
          15.914592535830723,
          15.91467708290315,
          15.91469216217998,
          15.91479275291686,
          15.914802027035211,
          15.923889061424225,
          15.925333305666822,
          15.925333305666822,
          15.925349337031893,
          15.925411546179413,
          15.925633817678595,
          15.925805422400831,
          15.925881871091981,
          15.92588847224219,
          15.925917602175712,
          15.958817560172909,
          15.958836549264493,
          15.958855284870683,
          15.958855284870683,
          15.958921330428566,
          15.958923913294715,
          15.959021229643938,
          15.959040962372816,
          15.95992007437171,
          15.95992007437171,
          15.959988714437019,
          15.960011879592855,
          15.960031538752123,
          15.960047563583046,
          15.960049462619759,
          15.960205885690383,
          15.96034733018581,
          15.96041533500806,
          15.960462779914145,
          15.960500047972578,
          15.960511057997271,
          15.960515190567783,
          15.960537850229972,
          15.981886679663363,
          15.981886679663363,
          15.981888427958046,
          15.981905149044103,
          15.981912823392095,
          15.981915824288384,
          15.981924792263081,
          15.981924951140968,
          15.98196287298123,
          15.981964584989717,
          15.981964584989717,
          15.981972336123794,
          15.981972924707602,
          15.981975053695692,
          15.981975437501433,
          15.981975437501433,
          15.981975437501433,
          15.981975437501433,
          15.982034607815953,
          15.983008300556305,
          15.983018327008567,
          15.983031583690657,
          15.983031583690657,
          15.983031583690657,
          15.983031583690657,
          15.983031583690657,
          15.983033311306023,
          15.983083305500854,
          15.983100361665338,
          15.983100361665338,
          15.983100361665338,
          15.983100361665338,
          15.983103891881797,
          15.983103891881797,
          15.983103891881797,
          15.983119573400366,
          15.983120428703689,
          15.98312052492623,
          15.983120670287713,
          15.983120805028383,
          15.983120805028383,
          15.983208981435762,
          15.983208981435762,
          15.983279872521875,
          15.983280884090744,
          15.983282203384645,
          15.983282520785863,
          15.983286606064906,
          15.983286988333017,
          15.983286988333017,
          15.983286988333017,
          15.983286988333017,
          15.983295395773744,
          15.983295754472405,
          15.983295754472405,
          15.983296293958404,
          15.983296293958404,
          15.983296293958404,
          15.983296293958404,
          15.983296293958404,
          15.983296293958404,
          15.983296293958404,
          15.983300002128708,
          15.9833170767531,
          15.9833170767531,
          15.9833170767531,
          15.983317958426298,
          15.983317958426298,
          15.983317958426298,
          15.983326705337035,
          15.98332812693292,
          15.98332812693292,
          15.98332812693292,
          15.98332812693292,
          15.98332812693292,
          15.983328274423162,
          15.983328274423162,
          15.983328274423162,
          15.983328274423162,
          15.98370861465926,
          15.98370861465926,
          15.98370861465926,
          15.98370861465926,
          15.98370861465926,
          15.98370861465926,
          15.983708768027485,
          15.983708768027485,
          15.983708768027485,
          15.983709109651882,
          15.984053344660788,
          15.984053344660788,
          15.984053344660788,
          15.984053672122043,
          15.984131401034993,
          15.984136211712814,
          15.984136211712814,
          15.984136211712814,
          15.984136211712814,
          15.984136211712814,
          15.984136211712814,
          15.984136211712814,
          15.984136211712814,
          15.984136211712814,
          15.984136211712814,
          15.984136211712814,
          15.984136211712814,
          15.984136211712814,
          15.984136211712814,
          15.984136211712814,
          15.984136211712814,
          15.984136211712814,
          15.984136211712814,
          15.984136211712814,
          15.984136211712814,
          15.984136213189533,
          15.984136213189533,
          15.984136213189533,
          15.984136302594653,
          15.984136302594653,
          15.984136302594653,
          15.984136302594653,
          15.984136302594653,
          15.98413775754338,
          15.98413775754338,
          15.984506349046088,
          15.984506356314808,
          15.984506356314808,
          15.984506356314808,
          15.984506356314808,
          15.984506356314808,
          15.984506356314808,
          15.984506356314808,
          15.984506356314808,
          15.984913919530413,
          15.984913919530413,
          15.985077836030227,
          15.985077836030227
         ]
        }
       ],
       "layout": {
        "template": {
         "data": {
          "bar": [
           {
            "error_x": {
             "color": "#2a3f5f"
            },
            "error_y": {
             "color": "#2a3f5f"
            },
            "marker": {
             "line": {
              "color": "#E5ECF6",
              "width": 0.5
             },
             "pattern": {
              "fillmode": "overlay",
              "size": 10,
              "solidity": 0.2
             }
            },
            "type": "bar"
           }
          ],
          "barpolar": [
           {
            "marker": {
             "line": {
              "color": "#E5ECF6",
              "width": 0.5
             },
             "pattern": {
              "fillmode": "overlay",
              "size": 10,
              "solidity": 0.2
             }
            },
            "type": "barpolar"
           }
          ],
          "carpet": [
           {
            "aaxis": {
             "endlinecolor": "#2a3f5f",
             "gridcolor": "white",
             "linecolor": "white",
             "minorgridcolor": "white",
             "startlinecolor": "#2a3f5f"
            },
            "baxis": {
             "endlinecolor": "#2a3f5f",
             "gridcolor": "white",
             "linecolor": "white",
             "minorgridcolor": "white",
             "startlinecolor": "#2a3f5f"
            },
            "type": "carpet"
           }
          ],
          "choropleth": [
           {
            "colorbar": {
             "outlinewidth": 0,
             "ticks": ""
            },
            "type": "choropleth"
           }
          ],
          "contour": [
           {
            "colorbar": {
             "outlinewidth": 0,
             "ticks": ""
            },
            "colorscale": [
             [
              0,
              "#0d0887"
             ],
             [
              0.1111111111111111,
              "#46039f"
             ],
             [
              0.2222222222222222,
              "#7201a8"
             ],
             [
              0.3333333333333333,
              "#9c179e"
             ],
             [
              0.4444444444444444,
              "#bd3786"
             ],
             [
              0.5555555555555556,
              "#d8576b"
             ],
             [
              0.6666666666666666,
              "#ed7953"
             ],
             [
              0.7777777777777778,
              "#fb9f3a"
             ],
             [
              0.8888888888888888,
              "#fdca26"
             ],
             [
              1,
              "#f0f921"
             ]
            ],
            "type": "contour"
           }
          ],
          "contourcarpet": [
           {
            "colorbar": {
             "outlinewidth": 0,
             "ticks": ""
            },
            "type": "contourcarpet"
           }
          ],
          "heatmap": [
           {
            "colorbar": {
             "outlinewidth": 0,
             "ticks": ""
            },
            "colorscale": [
             [
              0,
              "#0d0887"
             ],
             [
              0.1111111111111111,
              "#46039f"
             ],
             [
              0.2222222222222222,
              "#7201a8"
             ],
             [
              0.3333333333333333,
              "#9c179e"
             ],
             [
              0.4444444444444444,
              "#bd3786"
             ],
             [
              0.5555555555555556,
              "#d8576b"
             ],
             [
              0.6666666666666666,
              "#ed7953"
             ],
             [
              0.7777777777777778,
              "#fb9f3a"
             ],
             [
              0.8888888888888888,
              "#fdca26"
             ],
             [
              1,
              "#f0f921"
             ]
            ],
            "type": "heatmap"
           }
          ],
          "heatmapgl": [
           {
            "colorbar": {
             "outlinewidth": 0,
             "ticks": ""
            },
            "colorscale": [
             [
              0,
              "#0d0887"
             ],
             [
              0.1111111111111111,
              "#46039f"
             ],
             [
              0.2222222222222222,
              "#7201a8"
             ],
             [
              0.3333333333333333,
              "#9c179e"
             ],
             [
              0.4444444444444444,
              "#bd3786"
             ],
             [
              0.5555555555555556,
              "#d8576b"
             ],
             [
              0.6666666666666666,
              "#ed7953"
             ],
             [
              0.7777777777777778,
              "#fb9f3a"
             ],
             [
              0.8888888888888888,
              "#fdca26"
             ],
             [
              1,
              "#f0f921"
             ]
            ],
            "type": "heatmapgl"
           }
          ],
          "histogram": [
           {
            "marker": {
             "pattern": {
              "fillmode": "overlay",
              "size": 10,
              "solidity": 0.2
             }
            },
            "type": "histogram"
           }
          ],
          "histogram2d": [
           {
            "colorbar": {
             "outlinewidth": 0,
             "ticks": ""
            },
            "colorscale": [
             [
              0,
              "#0d0887"
             ],
             [
              0.1111111111111111,
              "#46039f"
             ],
             [
              0.2222222222222222,
              "#7201a8"
             ],
             [
              0.3333333333333333,
              "#9c179e"
             ],
             [
              0.4444444444444444,
              "#bd3786"
             ],
             [
              0.5555555555555556,
              "#d8576b"
             ],
             [
              0.6666666666666666,
              "#ed7953"
             ],
             [
              0.7777777777777778,
              "#fb9f3a"
             ],
             [
              0.8888888888888888,
              "#fdca26"
             ],
             [
              1,
              "#f0f921"
             ]
            ],
            "type": "histogram2d"
           }
          ],
          "histogram2dcontour": [
           {
            "colorbar": {
             "outlinewidth": 0,
             "ticks": ""
            },
            "colorscale": [
             [
              0,
              "#0d0887"
             ],
             [
              0.1111111111111111,
              "#46039f"
             ],
             [
              0.2222222222222222,
              "#7201a8"
             ],
             [
              0.3333333333333333,
              "#9c179e"
             ],
             [
              0.4444444444444444,
              "#bd3786"
             ],
             [
              0.5555555555555556,
              "#d8576b"
             ],
             [
              0.6666666666666666,
              "#ed7953"
             ],
             [
              0.7777777777777778,
              "#fb9f3a"
             ],
             [
              0.8888888888888888,
              "#fdca26"
             ],
             [
              1,
              "#f0f921"
             ]
            ],
            "type": "histogram2dcontour"
           }
          ],
          "mesh3d": [
           {
            "colorbar": {
             "outlinewidth": 0,
             "ticks": ""
            },
            "type": "mesh3d"
           }
          ],
          "parcoords": [
           {
            "line": {
             "colorbar": {
              "outlinewidth": 0,
              "ticks": ""
             }
            },
            "type": "parcoords"
           }
          ],
          "pie": [
           {
            "automargin": true,
            "type": "pie"
           }
          ],
          "scatter": [
           {
            "fillpattern": {
             "fillmode": "overlay",
             "size": 10,
             "solidity": 0.2
            },
            "type": "scatter"
           }
          ],
          "scatter3d": [
           {
            "line": {
             "colorbar": {
              "outlinewidth": 0,
              "ticks": ""
             }
            },
            "marker": {
             "colorbar": {
              "outlinewidth": 0,
              "ticks": ""
             }
            },
            "type": "scatter3d"
           }
          ],
          "scattercarpet": [
           {
            "marker": {
             "colorbar": {
              "outlinewidth": 0,
              "ticks": ""
             }
            },
            "type": "scattercarpet"
           }
          ],
          "scattergeo": [
           {
            "marker": {
             "colorbar": {
              "outlinewidth": 0,
              "ticks": ""
             }
            },
            "type": "scattergeo"
           }
          ],
          "scattergl": [
           {
            "marker": {
             "colorbar": {
              "outlinewidth": 0,
              "ticks": ""
             }
            },
            "type": "scattergl"
           }
          ],
          "scattermapbox": [
           {
            "marker": {
             "colorbar": {
              "outlinewidth": 0,
              "ticks": ""
             }
            },
            "type": "scattermapbox"
           }
          ],
          "scatterpolar": [
           {
            "marker": {
             "colorbar": {
              "outlinewidth": 0,
              "ticks": ""
             }
            },
            "type": "scatterpolar"
           }
          ],
          "scatterpolargl": [
           {
            "marker": {
             "colorbar": {
              "outlinewidth": 0,
              "ticks": ""
             }
            },
            "type": "scatterpolargl"
           }
          ],
          "scatterternary": [
           {
            "marker": {
             "colorbar": {
              "outlinewidth": 0,
              "ticks": ""
             }
            },
            "type": "scatterternary"
           }
          ],
          "surface": [
           {
            "colorbar": {
             "outlinewidth": 0,
             "ticks": ""
            },
            "colorscale": [
             [
              0,
              "#0d0887"
             ],
             [
              0.1111111111111111,
              "#46039f"
             ],
             [
              0.2222222222222222,
              "#7201a8"
             ],
             [
              0.3333333333333333,
              "#9c179e"
             ],
             [
              0.4444444444444444,
              "#bd3786"
             ],
             [
              0.5555555555555556,
              "#d8576b"
             ],
             [
              0.6666666666666666,
              "#ed7953"
             ],
             [
              0.7777777777777778,
              "#fb9f3a"
             ],
             [
              0.8888888888888888,
              "#fdca26"
             ],
             [
              1,
              "#f0f921"
             ]
            ],
            "type": "surface"
           }
          ],
          "table": [
           {
            "cells": {
             "fill": {
              "color": "#EBF0F8"
             },
             "line": {
              "color": "white"
             }
            },
            "header": {
             "fill": {
              "color": "#C8D4E3"
             },
             "line": {
              "color": "white"
             }
            },
            "type": "table"
           }
          ]
         },
         "layout": {
          "annotationdefaults": {
           "arrowcolor": "#2a3f5f",
           "arrowhead": 0,
           "arrowwidth": 1
          },
          "autotypenumbers": "strict",
          "coloraxis": {
           "colorbar": {
            "outlinewidth": 0,
            "ticks": ""
           }
          },
          "colorscale": {
           "diverging": [
            [
             0,
             "#8e0152"
            ],
            [
             0.1,
             "#c51b7d"
            ],
            [
             0.2,
             "#de77ae"
            ],
            [
             0.3,
             "#f1b6da"
            ],
            [
             0.4,
             "#fde0ef"
            ],
            [
             0.5,
             "#f7f7f7"
            ],
            [
             0.6,
             "#e6f5d0"
            ],
            [
             0.7,
             "#b8e186"
            ],
            [
             0.8,
             "#7fbc41"
            ],
            [
             0.9,
             "#4d9221"
            ],
            [
             1,
             "#276419"
            ]
           ],
           "sequential": [
            [
             0,
             "#0d0887"
            ],
            [
             0.1111111111111111,
             "#46039f"
            ],
            [
             0.2222222222222222,
             "#7201a8"
            ],
            [
             0.3333333333333333,
             "#9c179e"
            ],
            [
             0.4444444444444444,
             "#bd3786"
            ],
            [
             0.5555555555555556,
             "#d8576b"
            ],
            [
             0.6666666666666666,
             "#ed7953"
            ],
            [
             0.7777777777777778,
             "#fb9f3a"
            ],
            [
             0.8888888888888888,
             "#fdca26"
            ],
            [
             1,
             "#f0f921"
            ]
           ],
           "sequentialminus": [
            [
             0,
             "#0d0887"
            ],
            [
             0.1111111111111111,
             "#46039f"
            ],
            [
             0.2222222222222222,
             "#7201a8"
            ],
            [
             0.3333333333333333,
             "#9c179e"
            ],
            [
             0.4444444444444444,
             "#bd3786"
            ],
            [
             0.5555555555555556,
             "#d8576b"
            ],
            [
             0.6666666666666666,
             "#ed7953"
            ],
            [
             0.7777777777777778,
             "#fb9f3a"
            ],
            [
             0.8888888888888888,
             "#fdca26"
            ],
            [
             1,
             "#f0f921"
            ]
           ]
          },
          "colorway": [
           "#636efa",
           "#EF553B",
           "#00cc96",
           "#ab63fa",
           "#FFA15A",
           "#19d3f3",
           "#FF6692",
           "#B6E880",
           "#FF97FF",
           "#FECB52"
          ],
          "font": {
           "color": "#2a3f5f"
          },
          "geo": {
           "bgcolor": "white",
           "lakecolor": "white",
           "landcolor": "#E5ECF6",
           "showlakes": true,
           "showland": true,
           "subunitcolor": "white"
          },
          "hoverlabel": {
           "align": "left"
          },
          "hovermode": "closest",
          "mapbox": {
           "style": "light"
          },
          "paper_bgcolor": "white",
          "plot_bgcolor": "#E5ECF6",
          "polar": {
           "angularaxis": {
            "gridcolor": "white",
            "linecolor": "white",
            "ticks": ""
           },
           "bgcolor": "#E5ECF6",
           "radialaxis": {
            "gridcolor": "white",
            "linecolor": "white",
            "ticks": ""
           }
          },
          "scene": {
           "xaxis": {
            "backgroundcolor": "#E5ECF6",
            "gridcolor": "white",
            "gridwidth": 2,
            "linecolor": "white",
            "showbackground": true,
            "ticks": "",
            "zerolinecolor": "white"
           },
           "yaxis": {
            "backgroundcolor": "#E5ECF6",
            "gridcolor": "white",
            "gridwidth": 2,
            "linecolor": "white",
            "showbackground": true,
            "ticks": "",
            "zerolinecolor": "white"
           },
           "zaxis": {
            "backgroundcolor": "#E5ECF6",
            "gridcolor": "white",
            "gridwidth": 2,
            "linecolor": "white",
            "showbackground": true,
            "ticks": "",
            "zerolinecolor": "white"
           }
          },
          "shapedefaults": {
           "line": {
            "color": "#2a3f5f"
           }
          },
          "ternary": {
           "aaxis": {
            "gridcolor": "white",
            "linecolor": "white",
            "ticks": ""
           },
           "baxis": {
            "gridcolor": "white",
            "linecolor": "white",
            "ticks": ""
           },
           "bgcolor": "#E5ECF6",
           "caxis": {
            "gridcolor": "white",
            "linecolor": "white",
            "ticks": ""
           }
          },
          "title": {
           "x": 0.05
          },
          "xaxis": {
           "automargin": true,
           "gridcolor": "white",
           "linecolor": "white",
           "ticks": "",
           "title": {
            "standoff": 15
           },
           "zerolinecolor": "white",
           "zerolinewidth": 2
          },
          "yaxis": {
           "automargin": true,
           "gridcolor": "white",
           "linecolor": "white",
           "ticks": "",
           "title": {
            "standoff": 15
           },
           "zerolinecolor": "white",
           "zerolinewidth": 2
          }
         }
        },
        "title": {
         "text": "hypervolume over n_gen"
        },
        "xaxis": {
         "title": {
          "text": "generation"
         }
        },
        "yaxis": {
         "title": {
          "text": "hypervolume"
         }
        }
       }
      }
     },
     "metadata": {},
     "output_type": "display_data"
    }
   ],
   "source": [
    "fig1 = go.Figure()\n",
    "fig1.update_layout(\n",
    "    title=f\"pareto fonts\",\n",
    "    xaxis_title=\"avg energy efficiency\",\n",
    "    yaxis_title=\"avg downlink\")\n",
    "\n",
    "##### add paretofronts of all runs\n",
    "for index, pareto_front in enumerate(pareto_fronts):\n",
    "    fig1.add_trace(\n",
    "        go.Scatter(\n",
    "            x=np.array(pareto_front)[:,0],\n",
    "            y=np.array(pareto_front)[:,1],\n",
    "            mode='markers',\n",
    "            name=config_names[index],\n",
    "            )\n",
    "        )\n",
    "\n",
    "##### add rssi sampling population\n",
    "son = Son(adjacencies_file_name=f\"./datastore/{network_name}/{network_name}_adjacencies.json\", parameter_config_file_name=f\"./datastore/{network_name}/{config_names[0]}/{config_names[0]}.json\")\n",
    "sampling_pop_objecitve_space = create_greedy_rssi_sampling_pop(results_object[\"optimization_objectives\"], son)\n",
    "fig1.add_trace(\n",
    "     go.Scatter(\n",
    "        x=sampling_pop_objecitve_space[:,0],\n",
    "        y=sampling_pop_objecitve_space[:,1],\n",
    "        mode='markers',\n",
    "        name= \"greedy_sampling_pop\",\n",
    "        )\n",
    "    )\n",
    "###### highlight greedy assignment activation profile\n",
    "fig1.add_trace(\n",
    "    go.Scatter(\n",
    "        x=np.array(sampling_pop_objecitve_space[-1][0]),\n",
    "        y=np.array(sampling_pop_objecitve_space[-1][1]),\n",
    "        mode='markers',\n",
    "        name= \"greedy_assignment_profile\",\n",
    "        opacity= 0.5,\n",
    "        marker=dict(size=10)\n",
    "        )\n",
    "    )\n",
    "##### highlight asf selection from rssi_sampling\n",
    "i = asf_select(sampling_pop_objecitve_space)\n",
    "fig1.add_trace(\n",
    "    go.Scatter(\n",
    "        x=np.array(sampling_pop_objecitve_space[i][0]),\n",
    "        y=np.array(sampling_pop_objecitve_space[i][1]),\n",
    "        mode='markers',\n",
    "        name= \"asf selection for greedy_sampling_pop\",\n",
    "        opacity= 0.5,\n",
    "        marker=dict(size=10)\n",
    "        )\n",
    "    )\n",
    "\n",
    "fig2 = go.Figure()\n",
    "fig2.update_layout(\n",
    "    title=\"hypervolume over n_gen\",\n",
    "    xaxis_title=\"generation\",\n",
    "    yaxis_title=\"hypervolume\")\n",
    "\n",
    "for index, hyper_volume_history in enumerate(hyper_volume_histories):\n",
    "    fig2.add_trace(\n",
    "        go.Scatter(\n",
    "            x=list(range(0, len(hyper_volume_history))),\n",
    "            y=hyper_volume_history,\n",
    "            mode='lines',\n",
    "            name=config_names[index],\n",
    "            )\n",
    "        )\n",
    "fig1.show()\n",
    "fig2.show()"
   ]
  }
 ],
 "metadata": {
  "kernelspec": {
   "display_name": "Python 3 (ipykernel)",
   "language": "python",
   "name": "python3"
  },
  "language_info": {
   "codemirror_mode": {
    "name": "ipython",
    "version": 3
   },
   "file_extension": ".py",
   "mimetype": "text/x-python",
   "name": "python",
   "nbconvert_exporter": "python",
   "pygments_lexer": "ipython3",
   "version": "3.11.5"
  }
 },
 "nbformat": 4,
 "nbformat_minor": 5
}
