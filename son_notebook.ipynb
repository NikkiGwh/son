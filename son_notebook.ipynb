{
 "cells": [
  {
   "cell_type": "code",
   "execution_count": 11,
   "id": "456d08ba-1532-4643-bfe8-20df19cbf8ba",
   "metadata": {},
   "outputs": [],
   "source": [
    "import son_main_script as soon\n",
    "import plotly.express as px\n",
    "import plotly.graph_objects as go\n",
    "import pandas as pd\n",
    "from pymoo.indicators.hv import Hypervolume\n",
    "import json\n",
    "import os\n",
    "import plotly.graph_objects as go\n",
    "import numpy as np"
   ]
  },
  {
   "cell_type": "code",
   "execution_count": 12,
   "id": "936b4445-0b1d-4049-9c5a-832d31ebf19d",
   "metadata": {},
   "outputs": [
    {
     "ename": "FileNotFoundError",
     "evalue": "[Errno 2] No such file or directory: './datastore/delete3/algorithm_config_3_STATIC//objectives_result.json'",
     "output_type": "error",
     "traceback": [
      "\u001b[0;31m---------------------------------------------------------------------------\u001b[0m",
      "\u001b[0;31mFileNotFoundError\u001b[0m                         Traceback (most recent call last)",
      "Cell \u001b[0;32mIn[12], line 30\u001b[0m\n\u001b[1;32m     27\u001b[0m results_directory_1 \u001b[39m=\u001b[39m \u001b[39m\"\u001b[39m\u001b[39m./datastore/\u001b[39m\u001b[39m{network_name}\u001b[39;00m\u001b[39m/\u001b[39m\u001b[39m{configuration_name}\u001b[39;00m\u001b[39m/\u001b[39m\u001b[39m\"\u001b[39m\u001b[39m.\u001b[39mformat(network_name\u001b[39m=\u001b[39mnetwork_name, configuration_name\u001b[39m=\u001b[39m configuration_name_1)\n\u001b[1;32m     29\u001b[0m \u001b[39m## read json file \u001b[39;00m\n\u001b[0;32m---> 30\u001b[0m \u001b[39mwith\u001b[39;00m \u001b[39mopen\u001b[39;49m(results_directory_1 \u001b[39m+\u001b[39;49m \u001b[39m\"\u001b[39;49m\u001b[39m/objectives_result.json\u001b[39;49m\u001b[39m\"\u001b[39;49m, mode\u001b[39m=\u001b[39;49m\u001b[39m\"\u001b[39;49m\u001b[39mr\u001b[39;49m\u001b[39m\"\u001b[39;49m,encoding\u001b[39m=\u001b[39;49m\u001b[39m\"\u001b[39;49m\u001b[39mutf-8\u001b[39;49m\u001b[39m\"\u001b[39;49m) \u001b[39mas\u001b[39;00m openfile:\n\u001b[1;32m     31\u001b[0m     result_dict_object \u001b[39m=\u001b[39m json\u001b[39m.\u001b[39mload(openfile)\n\u001b[1;32m     32\u001b[0m     ref_points \u001b[39m=\u001b[39m [\u001b[39m1.1\u001b[39m \u001b[39mfor\u001b[39;00m  x \u001b[39min\u001b[39;00m result_dict_object[\u001b[39m\"\u001b[39m\u001b[39moptimization_objectives\u001b[39m\u001b[39m\"\u001b[39m]]\n",
      "File \u001b[0;32m~/opt/anaconda3/envs/condaPathOpt/lib/python3.11/site-packages/IPython/core/interactiveshell.py:282\u001b[0m, in \u001b[0;36m_modified_open\u001b[0;34m(file, *args, **kwargs)\u001b[0m\n\u001b[1;32m    275\u001b[0m \u001b[39mif\u001b[39;00m file \u001b[39min\u001b[39;00m {\u001b[39m0\u001b[39m, \u001b[39m1\u001b[39m, \u001b[39m2\u001b[39m}:\n\u001b[1;32m    276\u001b[0m     \u001b[39mraise\u001b[39;00m \u001b[39mValueError\u001b[39;00m(\n\u001b[1;32m    277\u001b[0m         \u001b[39mf\u001b[39m\u001b[39m\"\u001b[39m\u001b[39mIPython won\u001b[39m\u001b[39m'\u001b[39m\u001b[39mt let you open fd=\u001b[39m\u001b[39m{\u001b[39;00mfile\u001b[39m}\u001b[39;00m\u001b[39m by default \u001b[39m\u001b[39m\"\u001b[39m\n\u001b[1;32m    278\u001b[0m         \u001b[39m\"\u001b[39m\u001b[39mas it is likely to crash IPython. If you know what you are doing, \u001b[39m\u001b[39m\"\u001b[39m\n\u001b[1;32m    279\u001b[0m         \u001b[39m\"\u001b[39m\u001b[39myou can use builtins\u001b[39m\u001b[39m'\u001b[39m\u001b[39m open.\u001b[39m\u001b[39m\"\u001b[39m\n\u001b[1;32m    280\u001b[0m     )\n\u001b[0;32m--> 282\u001b[0m \u001b[39mreturn\u001b[39;00m io_open(file, \u001b[39m*\u001b[39;49margs, \u001b[39m*\u001b[39;49m\u001b[39m*\u001b[39;49mkwargs)\n",
      "\u001b[0;31mFileNotFoundError\u001b[0m: [Errno 2] No such file or directory: './datastore/delete3/algorithm_config_3_STATIC//objectives_result.json'"
     ]
    }
   ],
   "source": [
    "# load dataset\n",
    "\n",
    "from cProfile import label\n",
    "from re import X\n",
    "from matplotlib import axis\n",
    "\n",
    "from son_pymoo import ObjectiveEnum\n",
    "\n",
    "\n",
    "def sign_objective(value: float, key: str):\n",
    "    if(key == ObjectiveEnum.AVG_DL_RATE.name or \n",
    "       key == ObjectiveEnum.AVG_RSSI.name or\n",
    "       key == ObjectiveEnum.AVG_SINR.name or\n",
    "       key == ObjectiveEnum.ENERGY_EFFICIENCY.name):\n",
    "        return -value\n",
    "    else:\n",
    "        return value\n",
    "\n",
    "network_name = \"delete3\"\n",
    "param_configuration_list =[\"algorithm_config_3_STATIC\"]\n",
    "results_objectives_list = []\n",
    "results_objective_spaces_list = []\n",
    "result_dict_object = {\"optimization_objectives\": []}\n",
    "ref_points = []\n",
    "histories = []\n",
    "for configuration_name_1 in param_configuration_list:\n",
    "    results_directory_1 = \"./datastore/{network_name}/{configuration_name}/\".format(network_name=network_name, configuration_name= configuration_name_1)\n",
    "\n",
    "    ## read json file \n",
    "    with open(results_directory_1 + \"/objectives_result.json\", mode=\"r\",encoding=\"utf-8\") as openfile:\n",
    "        result_dict_object = json.load(openfile)\n",
    "        ref_points = [1.1 for  x in result_dict_object[\"optimization_objectives\"]]\n",
    "\n",
    "        results_objectives_list.append(np.array(\n",
    "        [[sign_objective(y[1][key], key) for key in result_dict_object[\"optimization_objectives\"]]\n",
    "        for y in [item for item in result_dict_object[\"results\"]]]))\n",
    "        histories.append({\"name\": configuration_name_1, \"history\": result_dict_object[\"history\"]})\n",
    "        \n",
    "        results_objective_spaces_list.append(np.array(result_dict_object[\"objectiveSpace\"]))\n",
    "\n",
    "## prepare diagrams\n",
    "fig2 = go.Figure()\n",
    "fig2.update_layout(\n",
    "    title=\"pareto fronts\",\n",
    "    xaxis_title=result_dict_object[\"optimization_objectives\"][0],\n",
    "    yaxis_title=result_dict_object[\"optimization_objectives\"][1],\n",
    "    legend_title=\"configuration names\",\n",
    ")\n",
    "fig1 = go.Figure()\n",
    "fig1.update_layout(\n",
    "    title=\"objective results\",\n",
    "    xaxis_title=result_dict_object[\"optimization_objectives\"][0],\n",
    "    yaxis_title=result_dict_object[\"optimization_objectives\"][1],\n",
    "    legend_title=\"configuration names\",\n",
    ")\n",
    "fig3 = go.Figure()\n",
    "fig3.update_layout(\n",
    "    title=\"Convergence\",\n",
    "    xaxis_title=\"Function Evaluations\",\n",
    "    yaxis_title=\"Hypervolume\",\n",
    "    legend_title=\"configuration names\"\n",
    ")\n",
    "## normalize each solution and calculate hyper volume and add dataj to diagrams\n",
    "## since the ideal and nadir points and pareto front are not known we approximate them\n",
    "combined_result_list = []\n",
    "for _, solution in enumerate(results_objectives_list):\n",
    "    for _, solution_candidate in enumerate(solution):\n",
    "        combined_result_list.append(solution_candidate)\n",
    "combined_result_list = np.array(combined_result_list)\n",
    "approx_ideal = combined_result_list.min(axis=0)\n",
    "approx_nadir  = combined_result_list.max(axis=0)\n",
    "hv = Hypervolume(ref_point=np.array(ref_points),\n",
    "                     norm_ref_point=False,\n",
    "                     zero_to_one=True,\n",
    "                     ideal=approx_ideal,\n",
    "                     nadir=approx_nadir)\n",
    "\n",
    "for index, solution in enumerate(results_objectives_list):\n",
    "    normalized_solution = np.array((solution - approx_ideal) / (approx_nadir - approx_ideal))\n",
    "\n",
    "    fig2.add_trace(go.Scatter(x=normalized_solution[:,0], y=normalized_solution[:,1],\n",
    "                    mode='markers',\n",
    "                    name=param_configuration_list[index]))\n",
    "    \n",
    "    fig1.add_trace(go.Scatter(x=solution[:,0], y=solution[:,1],\n",
    "                mode='markers',\n",
    "                name=param_configuration_list[index] ))\n",
    "\n",
    "## add data to convergence diagram\n",
    "## since the ideal and nadir points and pareto front are not known we approximate them\n",
    "combined_result_list = []\n",
    "for _, solution in enumerate(results_objective_spaces_list):\n",
    "    for _, solution_candidate in enumerate(solution):\n",
    "        combined_result_list.append(solution_candidate)\n",
    "combined_result_list = np.array(combined_result_list)\n",
    "approx_ideal = combined_result_list.min(axis=0)\n",
    "approx_nadir  = combined_result_list.max(axis=0)\n",
    "hv = Hypervolume(ref_point=np.array(ref_points),\n",
    "                     norm_ref_point=False,\n",
    "                     zero_to_one=True,\n",
    "                     ideal=approx_ideal,\n",
    "                     nadir=approx_nadir)\n",
    "\n",
    "\n",
    "for _, history  in enumerate(histories):\n",
    "    hv_list_1 = [hv(np.array(solution)) for solution in history[\"history\"][\"objective_space_opt\"]]\n",
    "    \n",
    "    fig3.add_trace(\n",
    "        go.Scatter(\n",
    "            x=history[\"history\"][\"n_evals\"],\n",
    "            y=hv_list_1,\n",
    "            mode='lines+markers',\n",
    "            name=history[\"name\"]\n",
    "        )\n",
    "    )\n",
    "\n",
    "fig2.show()\n",
    "fig1.show()\n",
    "fig3.show()\n",
    "\n"
   ]
  },
  {
   "cell_type": "code",
   "execution_count": 16,
   "id": "166e6f47",
   "metadata": {},
   "outputs": [
    {
     "name": "stderr",
     "output_type": "stream",
     "text": [
      "/var/folders/vf/1vhbbfdd4szdfzyz5061ml6c0000gn/T/ipykernel_40499/2873012205.py:26: RuntimeWarning:\n",
      "\n",
      "invalid value encountered in divide\n",
      "\n",
      "/var/folders/vf/1vhbbfdd4szdfzyz5061ml6c0000gn/T/ipykernel_40499/2873012205.py:27: RuntimeWarning:\n",
      "\n",
      "invalid value encountered in divide\n",
      "\n",
      "/var/folders/vf/1vhbbfdd4szdfzyz5061ml6c0000gn/T/ipykernel_40499/2873012205.py:67: RuntimeWarning:\n",
      "\n",
      "invalid value encountered in divide\n",
      "\n",
      "/var/folders/vf/1vhbbfdd4szdfzyz5061ml6c0000gn/T/ipykernel_40499/2873012205.py:68: RuntimeWarning:\n",
      "\n",
      "invalid value encountered in divide\n",
      "\n"
     ]
    },
    {
     "data": {
      "application/vnd.plotly.v1+json": {
       "config": {
        "plotlyServerURL": "https://plot.ly"
       },
       "data": [
        {
         "mode": "lines+markers",
         "name": "algorithm_config_4_LIVE_greedy",
         "type": "scatter",
         "x": [
          1.04,
          2.11,
          3.12,
          4.13,
          5.2,
          6.22,
          7.24,
          8.24,
          9.32,
          10.33,
          11.4,
          12.46,
          13.51,
          14.52,
          15.53,
          16.6,
          17.66,
          18.71,
          19.72
         ],
         "y": [
          null,
          null,
          null,
          null,
          null,
          null,
          null,
          null,
          null,
          null,
          null,
          null,
          null,
          null,
          null,
          null,
          null,
          null,
          null
         ]
        },
        {
         "mode": "lines+markers",
         "name": "algorithm_config_4_LIVE_greedy",
         "type": "scatter",
         "x": [
          1.04,
          2.11,
          3.12,
          4.13,
          5.2,
          6.22,
          7.24,
          8.24,
          9.32,
          10.33,
          11.4,
          12.46,
          13.51,
          14.52,
          15.53,
          16.6,
          17.66,
          18.71,
          19.72
         ],
         "y": [
          null,
          null,
          null,
          null,
          null,
          null,
          null,
          null,
          null,
          null,
          null,
          null,
          null,
          null,
          null,
          null,
          null,
          null,
          null
         ]
        }
       ],
       "layout": {
        "legend": {
         "title": {
          "text": "dataset"
         }
        },
        "template": {
         "data": {
          "bar": [
           {
            "error_x": {
             "color": "#2a3f5f"
            },
            "error_y": {
             "color": "#2a3f5f"
            },
            "marker": {
             "line": {
              "color": "#E5ECF6",
              "width": 0.5
             },
             "pattern": {
              "fillmode": "overlay",
              "size": 10,
              "solidity": 0.2
             }
            },
            "type": "bar"
           }
          ],
          "barpolar": [
           {
            "marker": {
             "line": {
              "color": "#E5ECF6",
              "width": 0.5
             },
             "pattern": {
              "fillmode": "overlay",
              "size": 10,
              "solidity": 0.2
             }
            },
            "type": "barpolar"
           }
          ],
          "carpet": [
           {
            "aaxis": {
             "endlinecolor": "#2a3f5f",
             "gridcolor": "white",
             "linecolor": "white",
             "minorgridcolor": "white",
             "startlinecolor": "#2a3f5f"
            },
            "baxis": {
             "endlinecolor": "#2a3f5f",
             "gridcolor": "white",
             "linecolor": "white",
             "minorgridcolor": "white",
             "startlinecolor": "#2a3f5f"
            },
            "type": "carpet"
           }
          ],
          "choropleth": [
           {
            "colorbar": {
             "outlinewidth": 0,
             "ticks": ""
            },
            "type": "choropleth"
           }
          ],
          "contour": [
           {
            "colorbar": {
             "outlinewidth": 0,
             "ticks": ""
            },
            "colorscale": [
             [
              0,
              "#0d0887"
             ],
             [
              0.1111111111111111,
              "#46039f"
             ],
             [
              0.2222222222222222,
              "#7201a8"
             ],
             [
              0.3333333333333333,
              "#9c179e"
             ],
             [
              0.4444444444444444,
              "#bd3786"
             ],
             [
              0.5555555555555556,
              "#d8576b"
             ],
             [
              0.6666666666666666,
              "#ed7953"
             ],
             [
              0.7777777777777778,
              "#fb9f3a"
             ],
             [
              0.8888888888888888,
              "#fdca26"
             ],
             [
              1,
              "#f0f921"
             ]
            ],
            "type": "contour"
           }
          ],
          "contourcarpet": [
           {
            "colorbar": {
             "outlinewidth": 0,
             "ticks": ""
            },
            "type": "contourcarpet"
           }
          ],
          "heatmap": [
           {
            "colorbar": {
             "outlinewidth": 0,
             "ticks": ""
            },
            "colorscale": [
             [
              0,
              "#0d0887"
             ],
             [
              0.1111111111111111,
              "#46039f"
             ],
             [
              0.2222222222222222,
              "#7201a8"
             ],
             [
              0.3333333333333333,
              "#9c179e"
             ],
             [
              0.4444444444444444,
              "#bd3786"
             ],
             [
              0.5555555555555556,
              "#d8576b"
             ],
             [
              0.6666666666666666,
              "#ed7953"
             ],
             [
              0.7777777777777778,
              "#fb9f3a"
             ],
             [
              0.8888888888888888,
              "#fdca26"
             ],
             [
              1,
              "#f0f921"
             ]
            ],
            "type": "heatmap"
           }
          ],
          "heatmapgl": [
           {
            "colorbar": {
             "outlinewidth": 0,
             "ticks": ""
            },
            "colorscale": [
             [
              0,
              "#0d0887"
             ],
             [
              0.1111111111111111,
              "#46039f"
             ],
             [
              0.2222222222222222,
              "#7201a8"
             ],
             [
              0.3333333333333333,
              "#9c179e"
             ],
             [
              0.4444444444444444,
              "#bd3786"
             ],
             [
              0.5555555555555556,
              "#d8576b"
             ],
             [
              0.6666666666666666,
              "#ed7953"
             ],
             [
              0.7777777777777778,
              "#fb9f3a"
             ],
             [
              0.8888888888888888,
              "#fdca26"
             ],
             [
              1,
              "#f0f921"
             ]
            ],
            "type": "heatmapgl"
           }
          ],
          "histogram": [
           {
            "marker": {
             "pattern": {
              "fillmode": "overlay",
              "size": 10,
              "solidity": 0.2
             }
            },
            "type": "histogram"
           }
          ],
          "histogram2d": [
           {
            "colorbar": {
             "outlinewidth": 0,
             "ticks": ""
            },
            "colorscale": [
             [
              0,
              "#0d0887"
             ],
             [
              0.1111111111111111,
              "#46039f"
             ],
             [
              0.2222222222222222,
              "#7201a8"
             ],
             [
              0.3333333333333333,
              "#9c179e"
             ],
             [
              0.4444444444444444,
              "#bd3786"
             ],
             [
              0.5555555555555556,
              "#d8576b"
             ],
             [
              0.6666666666666666,
              "#ed7953"
             ],
             [
              0.7777777777777778,
              "#fb9f3a"
             ],
             [
              0.8888888888888888,
              "#fdca26"
             ],
             [
              1,
              "#f0f921"
             ]
            ],
            "type": "histogram2d"
           }
          ],
          "histogram2dcontour": [
           {
            "colorbar": {
             "outlinewidth": 0,
             "ticks": ""
            },
            "colorscale": [
             [
              0,
              "#0d0887"
             ],
             [
              0.1111111111111111,
              "#46039f"
             ],
             [
              0.2222222222222222,
              "#7201a8"
             ],
             [
              0.3333333333333333,
              "#9c179e"
             ],
             [
              0.4444444444444444,
              "#bd3786"
             ],
             [
              0.5555555555555556,
              "#d8576b"
             ],
             [
              0.6666666666666666,
              "#ed7953"
             ],
             [
              0.7777777777777778,
              "#fb9f3a"
             ],
             [
              0.8888888888888888,
              "#fdca26"
             ],
             [
              1,
              "#f0f921"
             ]
            ],
            "type": "histogram2dcontour"
           }
          ],
          "mesh3d": [
           {
            "colorbar": {
             "outlinewidth": 0,
             "ticks": ""
            },
            "type": "mesh3d"
           }
          ],
          "parcoords": [
           {
            "line": {
             "colorbar": {
              "outlinewidth": 0,
              "ticks": ""
             }
            },
            "type": "parcoords"
           }
          ],
          "pie": [
           {
            "automargin": true,
            "type": "pie"
           }
          ],
          "scatter": [
           {
            "fillpattern": {
             "fillmode": "overlay",
             "size": 10,
             "solidity": 0.2
            },
            "type": "scatter"
           }
          ],
          "scatter3d": [
           {
            "line": {
             "colorbar": {
              "outlinewidth": 0,
              "ticks": ""
             }
            },
            "marker": {
             "colorbar": {
              "outlinewidth": 0,
              "ticks": ""
             }
            },
            "type": "scatter3d"
           }
          ],
          "scattercarpet": [
           {
            "marker": {
             "colorbar": {
              "outlinewidth": 0,
              "ticks": ""
             }
            },
            "type": "scattercarpet"
           }
          ],
          "scattergeo": [
           {
            "marker": {
             "colorbar": {
              "outlinewidth": 0,
              "ticks": ""
             }
            },
            "type": "scattergeo"
           }
          ],
          "scattergl": [
           {
            "marker": {
             "colorbar": {
              "outlinewidth": 0,
              "ticks": ""
             }
            },
            "type": "scattergl"
           }
          ],
          "scattermapbox": [
           {
            "marker": {
             "colorbar": {
              "outlinewidth": 0,
              "ticks": ""
             }
            },
            "type": "scattermapbox"
           }
          ],
          "scatterpolar": [
           {
            "marker": {
             "colorbar": {
              "outlinewidth": 0,
              "ticks": ""
             }
            },
            "type": "scatterpolar"
           }
          ],
          "scatterpolargl": [
           {
            "marker": {
             "colorbar": {
              "outlinewidth": 0,
              "ticks": ""
             }
            },
            "type": "scatterpolargl"
           }
          ],
          "scatterternary": [
           {
            "marker": {
             "colorbar": {
              "outlinewidth": 0,
              "ticks": ""
             }
            },
            "type": "scatterternary"
           }
          ],
          "surface": [
           {
            "colorbar": {
             "outlinewidth": 0,
             "ticks": ""
            },
            "colorscale": [
             [
              0,
              "#0d0887"
             ],
             [
              0.1111111111111111,
              "#46039f"
             ],
             [
              0.2222222222222222,
              "#7201a8"
             ],
             [
              0.3333333333333333,
              "#9c179e"
             ],
             [
              0.4444444444444444,
              "#bd3786"
             ],
             [
              0.5555555555555556,
              "#d8576b"
             ],
             [
              0.6666666666666666,
              "#ed7953"
             ],
             [
              0.7777777777777778,
              "#fb9f3a"
             ],
             [
              0.8888888888888888,
              "#fdca26"
             ],
             [
              1,
              "#f0f921"
             ]
            ],
            "type": "surface"
           }
          ],
          "table": [
           {
            "cells": {
             "fill": {
              "color": "#EBF0F8"
             },
             "line": {
              "color": "white"
             }
            },
            "header": {
             "fill": {
              "color": "#C8D4E3"
             },
             "line": {
              "color": "white"
             }
            },
            "type": "table"
           }
          ]
         },
         "layout": {
          "annotationdefaults": {
           "arrowcolor": "#2a3f5f",
           "arrowhead": 0,
           "arrowwidth": 1
          },
          "autotypenumbers": "strict",
          "coloraxis": {
           "colorbar": {
            "outlinewidth": 0,
            "ticks": ""
           }
          },
          "colorscale": {
           "diverging": [
            [
             0,
             "#8e0152"
            ],
            [
             0.1,
             "#c51b7d"
            ],
            [
             0.2,
             "#de77ae"
            ],
            [
             0.3,
             "#f1b6da"
            ],
            [
             0.4,
             "#fde0ef"
            ],
            [
             0.5,
             "#f7f7f7"
            ],
            [
             0.6,
             "#e6f5d0"
            ],
            [
             0.7,
             "#b8e186"
            ],
            [
             0.8,
             "#7fbc41"
            ],
            [
             0.9,
             "#4d9221"
            ],
            [
             1,
             "#276419"
            ]
           ],
           "sequential": [
            [
             0,
             "#0d0887"
            ],
            [
             0.1111111111111111,
             "#46039f"
            ],
            [
             0.2222222222222222,
             "#7201a8"
            ],
            [
             0.3333333333333333,
             "#9c179e"
            ],
            [
             0.4444444444444444,
             "#bd3786"
            ],
            [
             0.5555555555555556,
             "#d8576b"
            ],
            [
             0.6666666666666666,
             "#ed7953"
            ],
            [
             0.7777777777777778,
             "#fb9f3a"
            ],
            [
             0.8888888888888888,
             "#fdca26"
            ],
            [
             1,
             "#f0f921"
            ]
           ],
           "sequentialminus": [
            [
             0,
             "#0d0887"
            ],
            [
             0.1111111111111111,
             "#46039f"
            ],
            [
             0.2222222222222222,
             "#7201a8"
            ],
            [
             0.3333333333333333,
             "#9c179e"
            ],
            [
             0.4444444444444444,
             "#bd3786"
            ],
            [
             0.5555555555555556,
             "#d8576b"
            ],
            [
             0.6666666666666666,
             "#ed7953"
            ],
            [
             0.7777777777777778,
             "#fb9f3a"
            ],
            [
             0.8888888888888888,
             "#fdca26"
            ],
            [
             1,
             "#f0f921"
            ]
           ]
          },
          "colorway": [
           "#636efa",
           "#EF553B",
           "#00cc96",
           "#ab63fa",
           "#FFA15A",
           "#19d3f3",
           "#FF6692",
           "#B6E880",
           "#FF97FF",
           "#FECB52"
          ],
          "font": {
           "color": "#2a3f5f"
          },
          "geo": {
           "bgcolor": "white",
           "lakecolor": "white",
           "landcolor": "#E5ECF6",
           "showlakes": true,
           "showland": true,
           "subunitcolor": "white"
          },
          "hoverlabel": {
           "align": "left"
          },
          "hovermode": "closest",
          "mapbox": {
           "style": "light"
          },
          "paper_bgcolor": "white",
          "plot_bgcolor": "#E5ECF6",
          "polar": {
           "angularaxis": {
            "gridcolor": "white",
            "linecolor": "white",
            "ticks": ""
           },
           "bgcolor": "#E5ECF6",
           "radialaxis": {
            "gridcolor": "white",
            "linecolor": "white",
            "ticks": ""
           }
          },
          "scene": {
           "xaxis": {
            "backgroundcolor": "#E5ECF6",
            "gridcolor": "white",
            "gridwidth": 2,
            "linecolor": "white",
            "showbackground": true,
            "ticks": "",
            "zerolinecolor": "white"
           },
           "yaxis": {
            "backgroundcolor": "#E5ECF6",
            "gridcolor": "white",
            "gridwidth": 2,
            "linecolor": "white",
            "showbackground": true,
            "ticks": "",
            "zerolinecolor": "white"
           },
           "zaxis": {
            "backgroundcolor": "#E5ECF6",
            "gridcolor": "white",
            "gridwidth": 2,
            "linecolor": "white",
            "showbackground": true,
            "ticks": "",
            "zerolinecolor": "white"
           }
          },
          "shapedefaults": {
           "line": {
            "color": "#2a3f5f"
           }
          },
          "ternary": {
           "aaxis": {
            "gridcolor": "white",
            "linecolor": "white",
            "ticks": ""
           },
           "baxis": {
            "gridcolor": "white",
            "linecolor": "white",
            "ticks": ""
           },
           "bgcolor": "#E5ECF6",
           "caxis": {
            "gridcolor": "white",
            "linecolor": "white",
            "ticks": ""
           }
          },
          "title": {
           "x": 0.05
          },
          "xaxis": {
           "automargin": true,
           "gridcolor": "white",
           "linecolor": "white",
           "ticks": "",
           "title": {
            "standoff": 15
           },
           "zerolinecolor": "white",
           "zerolinewidth": 2
          },
          "yaxis": {
           "automargin": true,
           "gridcolor": "white",
           "linecolor": "white",
           "ticks": "",
           "title": {
            "standoff": 15
           },
           "zerolinecolor": "white",
           "zerolinewidth": 2
          }
         }
        },
        "title": {
         "text": "hypervolume"
        },
        "xaxis": {
         "title": {
          "text": "time in s"
         }
        },
        "yaxis": {
         "title": {
          "text": "Hypervolume"
         }
        }
       }
      }
     },
     "metadata": {},
     "output_type": "display_data"
    },
    {
     "data": {
      "application/vnd.plotly.v1+json": {
       "config": {
        "plotlyServerURL": "https://plot.ly"
       },
       "data": [
        {
         "mode": "lines+markers",
         "name": "energy_efficiency_algorithm_config_4_LIVE_greedy",
         "type": "scatter",
         "x": [
          1.04,
          2.11,
          3.12,
          4.13,
          5.2,
          6.22,
          7.24,
          8.24,
          9.32,
          10.33,
          11.4,
          12.46,
          13.51,
          14.52,
          15.53,
          16.6,
          17.66,
          18.71,
          19.72
         ],
         "y": [
          null,
          null,
          null,
          null,
          null,
          null,
          null,
          null,
          null,
          null,
          null,
          null,
          null,
          null,
          null,
          null,
          null,
          null,
          null
         ]
        },
        {
         "mode": "lines+markers",
         "name": "avrg_dl_datarate_algorithm_config_4_LIVE_greedy",
         "type": "scatter",
         "x": [
          1.04,
          2.11,
          3.12,
          4.13,
          5.2,
          6.22,
          7.24,
          8.24,
          9.32,
          10.33,
          11.4,
          12.46,
          13.51,
          14.52,
          15.53,
          16.6,
          17.66,
          18.71,
          19.72
         ],
         "y": [
          null,
          null,
          null,
          null,
          null,
          null,
          null,
          null,
          null,
          null,
          null,
          null,
          null,
          null,
          null,
          null,
          null,
          null,
          null
         ]
        },
        {
         "mode": "lines+markers",
         "name": "energy_efficiency_algorithm_config_4_LIVE_greedy",
         "type": "scatter",
         "x": [
          1.04,
          2.11,
          3.12,
          4.13,
          5.2,
          6.22,
          7.24,
          8.24,
          9.32,
          10.33,
          11.4,
          12.46,
          13.51,
          14.52,
          15.53,
          16.6,
          17.66,
          18.71,
          19.72
         ],
         "y": [
          null,
          null,
          null,
          null,
          null,
          null,
          null,
          null,
          null,
          null,
          null,
          null,
          null,
          null,
          null,
          null,
          null,
          null,
          null
         ]
        },
        {
         "mode": "lines+markers",
         "name": "avrg_dl_datarate_algorithm_config_4_LIVE_greedy",
         "type": "scatter",
         "x": [
          1.04,
          2.11,
          3.12,
          4.13,
          5.2,
          6.22,
          7.24,
          8.24,
          9.32,
          10.33,
          11.4,
          12.46,
          13.51,
          14.52,
          15.53,
          16.6,
          17.66,
          18.71,
          19.72
         ],
         "y": [
          null,
          null,
          null,
          null,
          null,
          null,
          null,
          null,
          null,
          null,
          null,
          null,
          null,
          null,
          null,
          null,
          null,
          null,
          null
         ]
        }
       ],
       "layout": {
        "legend": {
         "title": {
          "text": "dataset"
         }
        },
        "template": {
         "data": {
          "bar": [
           {
            "error_x": {
             "color": "#2a3f5f"
            },
            "error_y": {
             "color": "#2a3f5f"
            },
            "marker": {
             "line": {
              "color": "#E5ECF6",
              "width": 0.5
             },
             "pattern": {
              "fillmode": "overlay",
              "size": 10,
              "solidity": 0.2
             }
            },
            "type": "bar"
           }
          ],
          "barpolar": [
           {
            "marker": {
             "line": {
              "color": "#E5ECF6",
              "width": 0.5
             },
             "pattern": {
              "fillmode": "overlay",
              "size": 10,
              "solidity": 0.2
             }
            },
            "type": "barpolar"
           }
          ],
          "carpet": [
           {
            "aaxis": {
             "endlinecolor": "#2a3f5f",
             "gridcolor": "white",
             "linecolor": "white",
             "minorgridcolor": "white",
             "startlinecolor": "#2a3f5f"
            },
            "baxis": {
             "endlinecolor": "#2a3f5f",
             "gridcolor": "white",
             "linecolor": "white",
             "minorgridcolor": "white",
             "startlinecolor": "#2a3f5f"
            },
            "type": "carpet"
           }
          ],
          "choropleth": [
           {
            "colorbar": {
             "outlinewidth": 0,
             "ticks": ""
            },
            "type": "choropleth"
           }
          ],
          "contour": [
           {
            "colorbar": {
             "outlinewidth": 0,
             "ticks": ""
            },
            "colorscale": [
             [
              0,
              "#0d0887"
             ],
             [
              0.1111111111111111,
              "#46039f"
             ],
             [
              0.2222222222222222,
              "#7201a8"
             ],
             [
              0.3333333333333333,
              "#9c179e"
             ],
             [
              0.4444444444444444,
              "#bd3786"
             ],
             [
              0.5555555555555556,
              "#d8576b"
             ],
             [
              0.6666666666666666,
              "#ed7953"
             ],
             [
              0.7777777777777778,
              "#fb9f3a"
             ],
             [
              0.8888888888888888,
              "#fdca26"
             ],
             [
              1,
              "#f0f921"
             ]
            ],
            "type": "contour"
           }
          ],
          "contourcarpet": [
           {
            "colorbar": {
             "outlinewidth": 0,
             "ticks": ""
            },
            "type": "contourcarpet"
           }
          ],
          "heatmap": [
           {
            "colorbar": {
             "outlinewidth": 0,
             "ticks": ""
            },
            "colorscale": [
             [
              0,
              "#0d0887"
             ],
             [
              0.1111111111111111,
              "#46039f"
             ],
             [
              0.2222222222222222,
              "#7201a8"
             ],
             [
              0.3333333333333333,
              "#9c179e"
             ],
             [
              0.4444444444444444,
              "#bd3786"
             ],
             [
              0.5555555555555556,
              "#d8576b"
             ],
             [
              0.6666666666666666,
              "#ed7953"
             ],
             [
              0.7777777777777778,
              "#fb9f3a"
             ],
             [
              0.8888888888888888,
              "#fdca26"
             ],
             [
              1,
              "#f0f921"
             ]
            ],
            "type": "heatmap"
           }
          ],
          "heatmapgl": [
           {
            "colorbar": {
             "outlinewidth": 0,
             "ticks": ""
            },
            "colorscale": [
             [
              0,
              "#0d0887"
             ],
             [
              0.1111111111111111,
              "#46039f"
             ],
             [
              0.2222222222222222,
              "#7201a8"
             ],
             [
              0.3333333333333333,
              "#9c179e"
             ],
             [
              0.4444444444444444,
              "#bd3786"
             ],
             [
              0.5555555555555556,
              "#d8576b"
             ],
             [
              0.6666666666666666,
              "#ed7953"
             ],
             [
              0.7777777777777778,
              "#fb9f3a"
             ],
             [
              0.8888888888888888,
              "#fdca26"
             ],
             [
              1,
              "#f0f921"
             ]
            ],
            "type": "heatmapgl"
           }
          ],
          "histogram": [
           {
            "marker": {
             "pattern": {
              "fillmode": "overlay",
              "size": 10,
              "solidity": 0.2
             }
            },
            "type": "histogram"
           }
          ],
          "histogram2d": [
           {
            "colorbar": {
             "outlinewidth": 0,
             "ticks": ""
            },
            "colorscale": [
             [
              0,
              "#0d0887"
             ],
             [
              0.1111111111111111,
              "#46039f"
             ],
             [
              0.2222222222222222,
              "#7201a8"
             ],
             [
              0.3333333333333333,
              "#9c179e"
             ],
             [
              0.4444444444444444,
              "#bd3786"
             ],
             [
              0.5555555555555556,
              "#d8576b"
             ],
             [
              0.6666666666666666,
              "#ed7953"
             ],
             [
              0.7777777777777778,
              "#fb9f3a"
             ],
             [
              0.8888888888888888,
              "#fdca26"
             ],
             [
              1,
              "#f0f921"
             ]
            ],
            "type": "histogram2d"
           }
          ],
          "histogram2dcontour": [
           {
            "colorbar": {
             "outlinewidth": 0,
             "ticks": ""
            },
            "colorscale": [
             [
              0,
              "#0d0887"
             ],
             [
              0.1111111111111111,
              "#46039f"
             ],
             [
              0.2222222222222222,
              "#7201a8"
             ],
             [
              0.3333333333333333,
              "#9c179e"
             ],
             [
              0.4444444444444444,
              "#bd3786"
             ],
             [
              0.5555555555555556,
              "#d8576b"
             ],
             [
              0.6666666666666666,
              "#ed7953"
             ],
             [
              0.7777777777777778,
              "#fb9f3a"
             ],
             [
              0.8888888888888888,
              "#fdca26"
             ],
             [
              1,
              "#f0f921"
             ]
            ],
            "type": "histogram2dcontour"
           }
          ],
          "mesh3d": [
           {
            "colorbar": {
             "outlinewidth": 0,
             "ticks": ""
            },
            "type": "mesh3d"
           }
          ],
          "parcoords": [
           {
            "line": {
             "colorbar": {
              "outlinewidth": 0,
              "ticks": ""
             }
            },
            "type": "parcoords"
           }
          ],
          "pie": [
           {
            "automargin": true,
            "type": "pie"
           }
          ],
          "scatter": [
           {
            "fillpattern": {
             "fillmode": "overlay",
             "size": 10,
             "solidity": 0.2
            },
            "type": "scatter"
           }
          ],
          "scatter3d": [
           {
            "line": {
             "colorbar": {
              "outlinewidth": 0,
              "ticks": ""
             }
            },
            "marker": {
             "colorbar": {
              "outlinewidth": 0,
              "ticks": ""
             }
            },
            "type": "scatter3d"
           }
          ],
          "scattercarpet": [
           {
            "marker": {
             "colorbar": {
              "outlinewidth": 0,
              "ticks": ""
             }
            },
            "type": "scattercarpet"
           }
          ],
          "scattergeo": [
           {
            "marker": {
             "colorbar": {
              "outlinewidth": 0,
              "ticks": ""
             }
            },
            "type": "scattergeo"
           }
          ],
          "scattergl": [
           {
            "marker": {
             "colorbar": {
              "outlinewidth": 0,
              "ticks": ""
             }
            },
            "type": "scattergl"
           }
          ],
          "scattermapbox": [
           {
            "marker": {
             "colorbar": {
              "outlinewidth": 0,
              "ticks": ""
             }
            },
            "type": "scattermapbox"
           }
          ],
          "scatterpolar": [
           {
            "marker": {
             "colorbar": {
              "outlinewidth": 0,
              "ticks": ""
             }
            },
            "type": "scatterpolar"
           }
          ],
          "scatterpolargl": [
           {
            "marker": {
             "colorbar": {
              "outlinewidth": 0,
              "ticks": ""
             }
            },
            "type": "scatterpolargl"
           }
          ],
          "scatterternary": [
           {
            "marker": {
             "colorbar": {
              "outlinewidth": 0,
              "ticks": ""
             }
            },
            "type": "scatterternary"
           }
          ],
          "surface": [
           {
            "colorbar": {
             "outlinewidth": 0,
             "ticks": ""
            },
            "colorscale": [
             [
              0,
              "#0d0887"
             ],
             [
              0.1111111111111111,
              "#46039f"
             ],
             [
              0.2222222222222222,
              "#7201a8"
             ],
             [
              0.3333333333333333,
              "#9c179e"
             ],
             [
              0.4444444444444444,
              "#bd3786"
             ],
             [
              0.5555555555555556,
              "#d8576b"
             ],
             [
              0.6666666666666666,
              "#ed7953"
             ],
             [
              0.7777777777777778,
              "#fb9f3a"
             ],
             [
              0.8888888888888888,
              "#fdca26"
             ],
             [
              1,
              "#f0f921"
             ]
            ],
            "type": "surface"
           }
          ],
          "table": [
           {
            "cells": {
             "fill": {
              "color": "#EBF0F8"
             },
             "line": {
              "color": "white"
             }
            },
            "header": {
             "fill": {
              "color": "#C8D4E3"
             },
             "line": {
              "color": "white"
             }
            },
            "type": "table"
           }
          ]
         },
         "layout": {
          "annotationdefaults": {
           "arrowcolor": "#2a3f5f",
           "arrowhead": 0,
           "arrowwidth": 1
          },
          "autotypenumbers": "strict",
          "coloraxis": {
           "colorbar": {
            "outlinewidth": 0,
            "ticks": ""
           }
          },
          "colorscale": {
           "diverging": [
            [
             0,
             "#8e0152"
            ],
            [
             0.1,
             "#c51b7d"
            ],
            [
             0.2,
             "#de77ae"
            ],
            [
             0.3,
             "#f1b6da"
            ],
            [
             0.4,
             "#fde0ef"
            ],
            [
             0.5,
             "#f7f7f7"
            ],
            [
             0.6,
             "#e6f5d0"
            ],
            [
             0.7,
             "#b8e186"
            ],
            [
             0.8,
             "#7fbc41"
            ],
            [
             0.9,
             "#4d9221"
            ],
            [
             1,
             "#276419"
            ]
           ],
           "sequential": [
            [
             0,
             "#0d0887"
            ],
            [
             0.1111111111111111,
             "#46039f"
            ],
            [
             0.2222222222222222,
             "#7201a8"
            ],
            [
             0.3333333333333333,
             "#9c179e"
            ],
            [
             0.4444444444444444,
             "#bd3786"
            ],
            [
             0.5555555555555556,
             "#d8576b"
            ],
            [
             0.6666666666666666,
             "#ed7953"
            ],
            [
             0.7777777777777778,
             "#fb9f3a"
            ],
            [
             0.8888888888888888,
             "#fdca26"
            ],
            [
             1,
             "#f0f921"
            ]
           ],
           "sequentialminus": [
            [
             0,
             "#0d0887"
            ],
            [
             0.1111111111111111,
             "#46039f"
            ],
            [
             0.2222222222222222,
             "#7201a8"
            ],
            [
             0.3333333333333333,
             "#9c179e"
            ],
            [
             0.4444444444444444,
             "#bd3786"
            ],
            [
             0.5555555555555556,
             "#d8576b"
            ],
            [
             0.6666666666666666,
             "#ed7953"
            ],
            [
             0.7777777777777778,
             "#fb9f3a"
            ],
            [
             0.8888888888888888,
             "#fdca26"
            ],
            [
             1,
             "#f0f921"
            ]
           ]
          },
          "colorway": [
           "#636efa",
           "#EF553B",
           "#00cc96",
           "#ab63fa",
           "#FFA15A",
           "#19d3f3",
           "#FF6692",
           "#B6E880",
           "#FF97FF",
           "#FECB52"
          ],
          "font": {
           "color": "#2a3f5f"
          },
          "geo": {
           "bgcolor": "white",
           "lakecolor": "white",
           "landcolor": "#E5ECF6",
           "showlakes": true,
           "showland": true,
           "subunitcolor": "white"
          },
          "hoverlabel": {
           "align": "left"
          },
          "hovermode": "closest",
          "mapbox": {
           "style": "light"
          },
          "paper_bgcolor": "white",
          "plot_bgcolor": "#E5ECF6",
          "polar": {
           "angularaxis": {
            "gridcolor": "white",
            "linecolor": "white",
            "ticks": ""
           },
           "bgcolor": "#E5ECF6",
           "radialaxis": {
            "gridcolor": "white",
            "linecolor": "white",
            "ticks": ""
           }
          },
          "scene": {
           "xaxis": {
            "backgroundcolor": "#E5ECF6",
            "gridcolor": "white",
            "gridwidth": 2,
            "linecolor": "white",
            "showbackground": true,
            "ticks": "",
            "zerolinecolor": "white"
           },
           "yaxis": {
            "backgroundcolor": "#E5ECF6",
            "gridcolor": "white",
            "gridwidth": 2,
            "linecolor": "white",
            "showbackground": true,
            "ticks": "",
            "zerolinecolor": "white"
           },
           "zaxis": {
            "backgroundcolor": "#E5ECF6",
            "gridcolor": "white",
            "gridwidth": 2,
            "linecolor": "white",
            "showbackground": true,
            "ticks": "",
            "zerolinecolor": "white"
           }
          },
          "shapedefaults": {
           "line": {
            "color": "#2a3f5f"
           }
          },
          "ternary": {
           "aaxis": {
            "gridcolor": "white",
            "linecolor": "white",
            "ticks": ""
           },
           "baxis": {
            "gridcolor": "white",
            "linecolor": "white",
            "ticks": ""
           },
           "bgcolor": "#E5ECF6",
           "caxis": {
            "gridcolor": "white",
            "linecolor": "white",
            "ticks": ""
           }
          },
          "title": {
           "x": 0.05
          },
          "xaxis": {
           "automargin": true,
           "gridcolor": "white",
           "linecolor": "white",
           "ticks": "",
           "title": {
            "standoff": 15
           },
           "zerolinecolor": "white",
           "zerolinewidth": 2
          },
          "yaxis": {
           "automargin": true,
           "gridcolor": "white",
           "linecolor": "white",
           "ticks": "",
           "title": {
            "standoff": 15
           },
           "zerolinecolor": "white",
           "zerolinewidth": 2
          }
         }
        },
        "title": {
         "text": "normalized objectives"
        },
        "xaxis": {
         "title": {
          "text": "time in s"
         }
        },
        "yaxis": {
         "title": {
          "text": "normalized objectives"
         }
        }
       }
      }
     },
     "metadata": {},
     "output_type": "display_data"
    }
   ],
   "source": [
    "\n",
    "network_name = \"delete3\"\n",
    "configuration_name_1 =\"algorithm_config_3_LIVE_greedy\"\n",
    "configuration_name_2 =\"algorithm_config_4_LIVE_greedy\"\n",
    "results_directory_1 = \"./datastore/{network_name}/{configuration_name}/\".format(network_name=network_name, configuration_name= configuration_name_1)\n",
    "results_directory_2 = \"./datastore/{network_name}/{configuration_name}/\".format(network_name=network_name, configuration_name= configuration_name_2)\n",
    "objective_np_array_1 = np.array([])\n",
    "objective_np_array_1_negative = np.array([])\n",
    "objective_np_array_2 = np.array([])\n",
    "objective_np_array_2_negative = np.array([])\n",
    "with open(results_directory_1 + \"/objectives_result.json\", mode=\"r\",encoding=\"utf-8\") as openfile:\n",
    "    result_dict_object = json.load(openfile)\n",
    "    objective_np_array_1 = np.array(result_dict_object)\n",
    "    objective_np_array_1_negative = np.array(result_dict_object)\n",
    "    objective_np_array_1_negative[:, 1:] *= -1\n",
    "with open(results_directory_2 + \"/objectives_result.json\", mode=\"r\",encoding=\"utf-8\") as openfile:\n",
    "    result_dict_object = json.load(openfile)\n",
    "    objective_np_array_2 = np.array(result_dict_object)\n",
    "    objective_np_array_2_negative = np.array(result_dict_object)\n",
    "    objective_np_array_2_negative[:, 1:] *= -1\n",
    "\n",
    "\n",
    "\n",
    "approx_ideal = np.concatenate((objective_np_array_1_negative[:, 1:], objective_np_array_2_negative[:, 1:]), axis=0).min(axis=0)\n",
    "approx_nadir  = np.concatenate((objective_np_array_1_negative[:, 1:], objective_np_array_2_negative[:, 1:]), axis=0).max(axis=0)\n",
    "\n",
    "normalized_objective_list_1 = np.array((objective_np_array_1_negative[:, 1:] - approx_ideal) / (approx_nadir - approx_ideal))\n",
    "normalized_objective_list_2 = np.array((objective_np_array_2_negative[:, 1:] - approx_ideal) / (approx_nadir - approx_ideal))\n",
    "\n",
    "hv = Hypervolume(ref_point=np.array([1.1, 1.1]),\n",
    "                     norm_ref_point=False,\n",
    "                     zero_to_one=False,\n",
    "                     ideal=approx_ideal,\n",
    "                     nadir=approx_nadir)\n",
    "\n",
    "hv_list_1 = [hv(solution) for solution in normalized_objective_list_1]\n",
    "hv_list_2 = [hv(solution) for solution in normalized_objective_list_2]\n",
    "\n",
    "\n",
    "fig4 = go.Figure()\n",
    "\n",
    "fig4.update_layout(\n",
    "    title=\"hypervolume\",\n",
    "    xaxis_title=\"time in s\",\n",
    "    yaxis_title=\"Hypervolume\",\n",
    "    legend_title=\"dataset\")\n",
    "\n",
    "fig4.add_trace(\n",
    "        go.Scatter(\n",
    "            x=objective_np_array_1[:, 0],\n",
    "            y=hv_list_1,\n",
    "            mode='lines+markers',\n",
    "            name=configuration_name_1\n",
    "        ))\n",
    "\n",
    "fig4.add_trace(\n",
    "        go.Scatter(\n",
    "            x=objective_np_array_1[:, 0],\n",
    "            y=hv_list_2,\n",
    "            mode='lines+markers',\n",
    "            name=configuration_name_2\n",
    "        ))\n",
    "\n",
    "\n",
    "approx_ideal = np.concatenate((objective_np_array_1[:, 1:], objective_np_array_2[:, 1:]), axis=0).min(axis=0)\n",
    "approx_nadir  = np.concatenate((objective_np_array_1[:, 1:], objective_np_array_2[:, 1:]), axis=0).max(axis=0)\n",
    "\n",
    "normalized_objective_list_1 = np.array((objective_np_array_1[:, 1:] - approx_ideal) / (approx_nadir - approx_ideal))\n",
    "normalized_objective_list_2 = np.array((objective_np_array_2[:, 1:] - approx_ideal) / (approx_nadir - approx_ideal))\n",
    "\n",
    "fig6 = go.Figure()\n",
    "\n",
    "fig6.update_layout(\n",
    "    title= \"normalized objectives\",\n",
    "    xaxis_title=\"time in s\",\n",
    "    yaxis_title=\"normalized objectives\",\n",
    "    legend_title=\"dataset\")\n",
    "\n",
    "fig6.add_trace(\n",
    "        go.Scatter(\n",
    "            x=objective_np_array_1[:, 0],\n",
    "            y=normalized_objective_list_1[:, 0],\n",
    "            name=\"energy_efficiency\" + \"_\" +configuration_name_1,\n",
    "            mode='lines+markers',\n",
    "        ))\n",
    "fig6.add_trace(\n",
    "        go.Scatter(\n",
    "            x=objective_np_array_1[:, 0],\n",
    "            y=normalized_objective_list_1[:, 1],\n",
    "            name=\"avrg_dl_datarate\" + \"_\"+ configuration_name_1,\n",
    "            mode='lines+markers',\n",
    "        ))\n",
    "fig6.add_trace(\n",
    "        go.Scatter(\n",
    "            x=objective_np_array_2[:, 0],\n",
    "            y=normalized_objective_list_2[:, 0],\n",
    "            name=\"energy_efficiency\" + \"_\" + configuration_name_2,\n",
    "            mode='lines+markers',\n",
    "        ))\n",
    "fig6.add_trace(\n",
    "        go.Scatter(\n",
    "            x=objective_np_array_2[:, 0],\n",
    "            y=normalized_objective_list_2[:, 1],\n",
    "            name=\"avrg_dl_datarate\" + \"_\" + configuration_name_2,\n",
    "            mode='lines+markers',\n",
    "        ))\n",
    "\n",
    "fig4.show()\n",
    "fig6.show()"
   ]
  }
 ],
 "metadata": {
  "kernelspec": {
   "display_name": "Python 3 (ipykernel)",
   "language": "python",
   "name": "python3"
  },
  "language_info": {
   "codemirror_mode": {
    "name": "ipython",
    "version": 3
   },
   "file_extension": ".py",
   "mimetype": "text/x-python",
   "name": "python",
   "nbconvert_exporter": "python",
   "pygments_lexer": "ipython3",
   "version": "3.11.0"
  },
  "toc-autonumbering": true,
  "toc-showcode": false,
  "toc-showmarkdowntxt": true
 },
 "nbformat": 4,
 "nbformat_minor": 5
}
