{
 "cells": [
  {
   "cell_type": "code",
   "execution_count": 18,
   "id": "456d08ba-1532-4643-bfe8-20df19cbf8ba",
   "metadata": {},
   "outputs": [],
   "source": [
    "import son_main_script as soon\n",
    "import plotly.express as px\n",
    "import plotly.graph_objects as go\n",
    "import pandas as pd\n",
    "from pymoo.indicators.hv import Hypervolume\n",
    "import json\n",
    "import os\n",
    "import plotly.graph_objects as go\n",
    "import numpy as np"
   ]
  },
  {
   "cell_type": "code",
   "execution_count": 19,
   "id": "936b4445-0b1d-4049-9c5a-832d31ebf19d",
   "metadata": {},
   "outputs": [
    {
     "ename": "IndexError",
     "evalue": "list index out of range",
     "output_type": "error",
     "traceback": [
      "\u001b[0;31m---------------------------------------------------------------------------\u001b[0m",
      "\u001b[0;31mIndexError\u001b[0m                                Traceback (most recent call last)",
      "Cell \u001b[0;32mIn[19], line 45\u001b[0m\n\u001b[1;32m     41\u001b[0m \u001b[39m## prepare diagrams\u001b[39;00m\n\u001b[1;32m     42\u001b[0m fig2 \u001b[39m=\u001b[39m go\u001b[39m.\u001b[39mFigure()\n\u001b[1;32m     43\u001b[0m fig2\u001b[39m.\u001b[39mupdate_layout(\n\u001b[1;32m     44\u001b[0m     title\u001b[39m=\u001b[39m\u001b[39m\"\u001b[39m\u001b[39mpareto fronts\u001b[39m\u001b[39m\"\u001b[39m,\n\u001b[0;32m---> 45\u001b[0m     xaxis_title\u001b[39m=\u001b[39mresult_dict_object[\u001b[39m\"\u001b[39;49m\u001b[39moptimization_objectives\u001b[39;49m\u001b[39m\"\u001b[39;49m][\u001b[39m0\u001b[39;49m],\n\u001b[1;32m     46\u001b[0m     yaxis_title\u001b[39m=\u001b[39mresult_dict_object[\u001b[39m\"\u001b[39m\u001b[39moptimization_objectives\u001b[39m\u001b[39m\"\u001b[39m][\u001b[39m1\u001b[39m],\n\u001b[1;32m     47\u001b[0m     legend_title\u001b[39m=\u001b[39m\u001b[39m\"\u001b[39m\u001b[39mconfiguration names\u001b[39m\u001b[39m\"\u001b[39m,\n\u001b[1;32m     48\u001b[0m )\n\u001b[1;32m     49\u001b[0m fig1 \u001b[39m=\u001b[39m go\u001b[39m.\u001b[39mFigure()\n\u001b[1;32m     50\u001b[0m fig1\u001b[39m.\u001b[39mupdate_layout(\n\u001b[1;32m     51\u001b[0m     title\u001b[39m=\u001b[39m\u001b[39m\"\u001b[39m\u001b[39mobjective results\u001b[39m\u001b[39m\"\u001b[39m,\n\u001b[1;32m     52\u001b[0m     xaxis_title\u001b[39m=\u001b[39mresult_dict_object[\u001b[39m\"\u001b[39m\u001b[39moptimization_objectives\u001b[39m\u001b[39m\"\u001b[39m][\u001b[39m0\u001b[39m],\n\u001b[1;32m     53\u001b[0m     yaxis_title\u001b[39m=\u001b[39mresult_dict_object[\u001b[39m\"\u001b[39m\u001b[39moptimization_objectives\u001b[39m\u001b[39m\"\u001b[39m][\u001b[39m1\u001b[39m],\n\u001b[1;32m     54\u001b[0m     legend_title\u001b[39m=\u001b[39m\u001b[39m\"\u001b[39m\u001b[39mconfiguration names\u001b[39m\u001b[39m\"\u001b[39m,\n\u001b[1;32m     55\u001b[0m )\n",
      "\u001b[0;31mIndexError\u001b[0m: list index out of range"
     ]
    }
   ],
   "source": [
    "# load dataset\n",
    "\n",
    "from cProfile import label\n",
    "from re import X\n",
    "from matplotlib import axis\n",
    "\n",
    "from son_pymoo import ObjectiveEnum\n",
    "\n",
    "\n",
    "def sign_objective(value: float, key: str):\n",
    "    if(key == ObjectiveEnum.AVG_DL_RATE.name or \n",
    "       key == ObjectiveEnum.AVG_RSSI.name or\n",
    "       key == ObjectiveEnum.AVG_SINR.name or\n",
    "       key == ObjectiveEnum.ENERGY_EFFICIENCY.name):\n",
    "        return -value\n",
    "    else:\n",
    "        return value\n",
    "\n",
    "network_name = \"hetNet\"\n",
    "param_configuration_list =[]\n",
    "results_objectives_list = []\n",
    "results_objective_spaces_list = []\n",
    "result_dict_object = {\"optimization_objectives\": []}\n",
    "ref_points = []\n",
    "histories = []\n",
    "for configuration_name in param_configuration_list:\n",
    "    results_directory = \"./datastore/{network_name}/{configuration_name}/\".format(network_name=network_name, configuration_name= configuration_name)\n",
    "\n",
    "    ## read json file \n",
    "    with open(results_directory + \"/objectives_result.json\", mode=\"r\",encoding=\"utf-8\") as openfile:\n",
    "        result_dict_object = json.load(openfile)\n",
    "        ref_points = [1.1 for  x in result_dict_object[\"optimization_objectives\"]]\n",
    "\n",
    "        results_objectives_list.append(np.array(\n",
    "        [[sign_objective(y[1][key], key) for key in result_dict_object[\"optimization_objectives\"]]\n",
    "        for y in [item for item in result_dict_object[\"results\"]]]))\n",
    "        histories.append({\"name\": configuration_name, \"history\": result_dict_object[\"history\"]})\n",
    "        \n",
    "        results_objective_spaces_list.append(np.array(result_dict_object[\"objectiveSpace\"]))\n",
    "\n",
    "## prepare diagrams\n",
    "fig2 = go.Figure()\n",
    "fig2.update_layout(\n",
    "    title=\"pareto fronts\",\n",
    "    xaxis_title=result_dict_object[\"optimization_objectives\"][0],\n",
    "    yaxis_title=result_dict_object[\"optimization_objectives\"][1],\n",
    "    legend_title=\"configuration names\",\n",
    ")\n",
    "fig1 = go.Figure()\n",
    "fig1.update_layout(\n",
    "    title=\"objective results\",\n",
    "    xaxis_title=result_dict_object[\"optimization_objectives\"][0],\n",
    "    yaxis_title=result_dict_object[\"optimization_objectives\"][1],\n",
    "    legend_title=\"configuration names\",\n",
    ")\n",
    "fig3 = go.Figure()\n",
    "fig3.update_layout(\n",
    "    title=\"Convergence\",\n",
    "    xaxis_title=\"Function Evaluations\",\n",
    "    yaxis_title=\"Hypervolume\",\n",
    "    legend_title=\"configuration names\"\n",
    ")\n",
    "## normalize each solution and calculate hyper volume and add dataj to diagrams\n",
    "## since the ideal and nadir points and pareto front are not known we approximate them\n",
    "combined_result_list = []\n",
    "for _, solution in enumerate(results_objectives_list):\n",
    "    for _, solution_candidate in enumerate(solution):\n",
    "        combined_result_list.append(solution_candidate)\n",
    "combined_result_list = np.array(combined_result_list)\n",
    "approx_ideal = combined_result_list.min(axis=0)\n",
    "approx_nadir  = combined_result_list.max(axis=0)\n",
    "hv = Hypervolume(ref_point=np.array(ref_points),\n",
    "                     norm_ref_point=False,\n",
    "                     zero_to_one=True,\n",
    "                     ideal=approx_ideal,\n",
    "                     nadir=approx_nadir)\n",
    "\n",
    "for index, solution in enumerate(results_objectives_list):\n",
    "    normalized_solution = np.array((solution - approx_ideal) / (approx_nadir - approx_ideal))\n",
    "\n",
    "    fig2.add_trace(go.Scatter(x=normalized_solution[:,0], y=normalized_solution[:,1],\n",
    "                    mode='markers',\n",
    "                    name=param_configuration_list[index]))\n",
    "    \n",
    "    fig1.add_trace(go.Scatter(x=solution[:,0], y=solution[:,1],\n",
    "                mode='markers',\n",
    "                name=param_configuration_list[index] ))\n",
    "\n",
    "## add data to convergence diagram\n",
    "## since the ideal and nadir points and pareto front are not known we approximate them\n",
    "combined_result_list = []\n",
    "for _, solution in enumerate(results_objective_spaces_list):\n",
    "    for _, solution_candidate in enumerate(solution):\n",
    "        combined_result_list.append(solution_candidate)\n",
    "combined_result_list = np.array(combined_result_list)\n",
    "approx_ideal = combined_result_list.min(axis=0)\n",
    "approx_nadir  = combined_result_list.max(axis=0)\n",
    "hv = Hypervolume(ref_point=np.array(ref_points),\n",
    "                     norm_ref_point=False,\n",
    "                     zero_to_one=True,\n",
    "                     ideal=approx_ideal,\n",
    "                     nadir=approx_nadir)\n",
    "\n",
    "\n",
    "for _, history  in enumerate(histories):\n",
    "    hv_list = [hv(np.array(solution)) for solution in history[\"history\"][\"objective_space_opt\"]]\n",
    "    \n",
    "    fig3.add_trace(\n",
    "        go.Scatter(\n",
    "            x=history[\"history\"][\"n_evals\"],\n",
    "            y=hv_list,\n",
    "            mode='lines+markers',\n",
    "            name=history[\"name\"]\n",
    "        )\n",
    "    )\n",
    "\n",
    "fig2.show()\n",
    "fig1.show()\n",
    "fig3.show()\n",
    "\n"
   ]
  },
  {
   "cell_type": "code",
   "execution_count": null,
   "id": "166e6f47",
   "metadata": {},
   "outputs": [
    {
     "data": {
      "application/vnd.plotly.v1+json": {
       "config": {
        "plotlyServerURL": "https://plot.ly"
       },
       "data": [
        {
         "mode": "lines+markers",
         "type": "scatter",
         "x": [
          1.14,
          2.22,
          3.3,
          4.4,
          5.48,
          6.56,
          7.64,
          8.72,
          9.8,
          10.87,
          11.96,
          13.06,
          14.15,
          15.22,
          16.3,
          17.38,
          18.48,
          19.56,
          20.65,
          21.86,
          22.98,
          24.11,
          25.22,
          26.33,
          27.43,
          28.53,
          29.63,
          30.74,
          31.84,
          32.96,
          34.06,
          35.17,
          36.29,
          37.39,
          38.5,
          39.61,
          40.71,
          41.81,
          42.9,
          44.01,
          45.11,
          46.24,
          47.34,
          48.43,
          49.52,
          50.63,
          51.74,
          52.84,
          53.93,
          55.02,
          56.11,
          57.2,
          58.29,
          59.37,
          60.46,
          61.55,
          62.64,
          63.73,
          64.82,
          65.91,
          67,
          68.09,
          69.19,
          70.3,
          71.39,
          72.49,
          73.57,
          74.65,
          75.74,
          76.82,
          77.89,
          78.97,
          80.04,
          81.12,
          82.2,
          83.27,
          84.35,
          85.45,
          86.52,
          87.6,
          88.67,
          89.74,
          90.81,
          91.88,
          92.95,
          94.03,
          95.1,
          96.18,
          97.25,
          98.32,
          99.39,
          100.46,
          101.52,
          102.56,
          103.61,
          104.66,
          105.7,
          106.74,
          107.79,
          108.82,
          109.86,
          110.89,
          111.93,
          112.96,
          114,
          115.03,
          116.07,
          117.1,
          118.13,
          119.16,
          120.19,
          121.22,
          122.25,
          123.31,
          124.35,
          125.38,
          126.42,
          127.47,
          128.51,
          129.56,
          130.63,
          131.68,
          132.73,
          133.77,
          134.81,
          135.89,
          136.94,
          137.97,
          139.01,
          140.04,
          141.08,
          142.12,
          143.17,
          144.22,
          145.28,
          146.32,
          147.36,
          148.4,
          149.44,
          150.48,
          151.55,
          152.61,
          153.68,
          154.74,
          155.79,
          156.86,
          157.92,
          158.97,
          160.01,
          161.06,
          162.1,
          163.15,
          164.19,
          165.24,
          166.28,
          167.33,
          168.37,
          169.42,
          170.47,
          171.51,
          172.56,
          173.59,
          174.62,
          175.66,
          176.7,
          177.74,
          178.78,
          179.82,
          180.86,
          181.9,
          182.94,
          183.98,
          185.03,
          186.07,
          187.11,
          188.16,
          189.2,
          190.25,
          191.31,
          192.36,
          193.41,
          194.43,
          195.45,
          196.47,
          197.5,
          198.52,
          199.55,
          200.57,
          201.6,
          202.63,
          203.66,
          204.69,
          205.72,
          206.75,
          207.78,
          208.79,
          209.81,
          210.82,
          211.84,
          212.85,
          213.87,
          214.89,
          215.91,
          216.92,
          217.94,
          218.96,
          219.98,
          221,
          222.03,
          223.05,
          224.08,
          225.1,
          226.12,
          227.15,
          228.17,
          229.2,
          230.22,
          231.25,
          232.28,
          233.31,
          234.34,
          235.38,
          236.41,
          237.45,
          238.49,
          239.52,
          240.56,
          241.6,
          242.64,
          243.68,
          244.72,
          245.75,
          246.79,
          247.83,
          248.87,
          249.92,
          250.96,
          252.01,
          253.06,
          254.1,
          255.15,
          256.19,
          257.23,
          258.27,
          259.3,
          260.33,
          261.37,
          262.41,
          263.44,
          264.48,
          265.52,
          266.56,
          267.6,
          268.65,
          269.69,
          270.73,
          271.78,
          272.83,
          273.88,
          274.91,
          275.96,
          277.03,
          278.09,
          279.14,
          280.19,
          281.24,
          282.28,
          283.32,
          284.36,
          285.4,
          286.44,
          287.48,
          288.52
         ],
         "y": [
          0.010000000000000018,
          0.010000000000000018,
          0.010000000000000018,
          0.010000000000000018,
          0.010000000000000018,
          0.010000000000000018,
          0.010000000000000018,
          0.010000000000000018,
          0.010000000000000018,
          0.010000000000000018,
          0.010000000000000018,
          0.010000000000000018,
          0.010000000000000018,
          0.010000000000000018,
          0.010000000000000018,
          0.010000000000000018,
          0.010000000000000018,
          0.010000000000000018,
          0.010000000000000018,
          0.729557915902801,
          0.699853701408005,
          0.7897511761233298,
          0.7878181875379034,
          0.8560337078580871,
          0.8709163391364253,
          0.8728011918813368,
          0.850953346132838,
          0.8253194216936116,
          0.8060914716887901,
          0.8050529476433813,
          0.7896212345645589,
          0.7940043801806282,
          0.7894274471132597,
          0.7926334705658763,
          0.785869782110923,
          0.8059225934251419,
          0.8212224960710484,
          0.8199999071043499,
          0.8366662636621348,
          0.8203392338147624,
          0.8391426342559317,
          0.8281790704236446,
          0.8266226681992899,
          0.8340938104669505,
          0.8333533170419758,
          0.8292646177539922,
          0.8676104377881529,
          0.8247524348730931,
          0.8087512769384028,
          0.8122176219541086,
          0.8019254936328253,
          0.8092966429128745,
          0.7973066616128512,
          0.799839797203589,
          0.7985117675633546,
          0.7992976373621813,
          0.7529757228042023,
          0.7598507764281481,
          0.7576716910973551,
          0.747059982556992,
          0.7411530550652807,
          0.7383040934454612,
          0.7107500899018895,
          0.6705975070150604,
          0.6737834441810454,
          0.665517994778059,
          0.7708575792122445,
          0.762062273846019,
          0.7616464986738806,
          0.760706871502215,
          0.7768829308462584,
          0.7508945670266644,
          0.744819906710297,
          0.7684482743454633,
          0.758646023974367,
          0.739054868418518,
          0.8074335781713748,
          0.7657124261962556,
          0.7526376347024609,
          0.7702418043634596,
          0.753229204616755,
          0.7504755994228853,
          0.7076442594776652,
          0.6919961899630005,
          0.6921940111133342,
          0.6796194339235022,
          0.6811870028078876,
          0.6720729420482681,
          0.6641156486175718,
          0.6855180720540865,
          0.6831213231716636,
          0.6790465226075267,
          0.7539793301423451,
          0.7448527161386519,
          0.7358398760141761,
          0.7349122129253802,
          0.7727120559015881,
          0.7572855877276242,
          0.7699166284830836,
          0.8084610862724098,
          0.7821889824169362,
          0.7601046226985617,
          0.7632734276047896,
          0.7367752310820408,
          0.7392651496432466,
          0.7330603340259039,
          0.7389332244417282,
          0.7312307446019338,
          0.7249432874795108,
          0.7975553616286545,
          0.8052337214827825,
          0.7983467174773905,
          0.7984695863614278,
          0.8102901057171684,
          0.8131234888186385,
          0.8261598724824971,
          0.8339737668164078,
          0.8309456179820113,
          0.8409493450431911,
          0.9097686706487207,
          0.8718640145241666,
          0.8971664713894142,
          0.9388236980037494,
          0.9089720781159799,
          0.9129136597408805,
          0.8774894955982673,
          0.8672698121828072,
          0.9402658687213469,
          0.9564867509017388,
          0.9663492327298836,
          0.9966229879905106,
          0.9550376006790865,
          0.9330197284876626,
          0.9383112949135742,
          0.9351684624254497,
          0.9277431240160495,
          0.9129812324205603,
          0.8975014574889092,
          0.8967325473119057,
          0.8901607692132526,
          0.9180124526208208,
          0.9171670638389597,
          0.8869363776324922,
          0.8833840397435544,
          0.8673425283768126,
          0.8580661358936217,
          0.8571163751492462,
          0.8984124267634945,
          0.8991822960401326,
          0.9273030644411647,
          0.9392360423394809,
          0.9474280466327397,
          0.9238376017971227,
          0.9285933631017768,
          0.9381742861606392,
          0.9328147908180406,
          0.9546082008115684,
          0.9096787591684102,
          0.9396104474339552,
          0.9373881395930608,
          0.9131705614287012,
          0.942913518068163,
          0.8904544345602073,
          0.8739517990503215,
          0.8525146479861827,
          0.8518937077007946,
          0.8450409325912168,
          0.8787447651999415,
          0.8758999030459883,
          0.8538852616501903,
          0.8502690806090086,
          0.8293730782212343,
          0.8294987970013286,
          0.9511498190631139,
          0.9562911164985718,
          0.9400405433337796,
          0.9361791917634499,
          0.8788932173816587,
          0.875789491496061,
          0.8711763894113319,
          0.8694816028111376,
          1.026826430286788,
          1.0231515468674042,
          1.0236110652037311,
          1.0158419306796216,
          1.006543659763625,
          0.9882177977707731,
          1.0283037889998343,
          1.0047087240442636,
          0.9993035700784921,
          0.9962012883229155,
          0.984575597726649,
          0.9901519290549069,
          0.9837000932162637,
          1.0268991821044944,
          1.0141329274825592,
          1.0094463748075329,
          0.9967631288888237,
          0.9965485728200096,
          1.0250378848466066,
          1.0227168993547429,
          1.0227168993547429,
          1.017191065992385,
          0.9927834792292861,
          0.9725327042699309,
          0.9721794952773799,
          1.0296877478501854,
          0.997431229473384,
          1.0028314509267495,
          1.0081023912299494,
          1.072925493934257,
          1.076831525846132,
          1.0842137540971024,
          1.0870762198397763,
          1.0839894974205564,
          1.002903901313142,
          1.0061598527524476,
          0.9969775205405577,
          1.066038605020821,
          1.065346581751091,
          1.0242238750645032,
          1.04612718143444,
          0.9836862164146944,
          1.0003111398682674,
          0.977743615897148,
          0.9753375774496935,
          0.9784072498176959,
          0.9792101943303019,
          0.9792101943303019,
          0.9800134676770682,
          0.9723233273391435,
          0.987099605429151,
          0.9440227222760674,
          0.9612797992598988,
          0.965922751265539,
          0.9704368605665613,
          1.0002930731714377,
          1.0011056360832356,
          1.0028750050112958,
          1.0094043032169933,
          0.9967350546723788,
          0.9972604193090434,
          1.0699612266160892,
          1.0305107402854377,
          1.0472388464179783,
          1.0531295240215959,
          1.0886773654322244,
          1.099271719749772,
          1.0773649578808657,
          1.0759737866012633,
          1.085365536848211,
          1.0750585479631616,
          1.1173289900004,
          1.0912199522647894,
          1.0878304941563568,
          1.0655655770810704,
          1.071660403152325,
          1.0781005215337187,
          1.1290465760430777,
          1.1143269670400477,
          1.1370152060314547,
          1.1217545607037316,
          1.1486370191249127,
          1.1526096920196802,
          1.1856518719336728,
          1.1742319493132833,
          1.195741756285165,
          1.1681555160327346,
          1.1574630239002972,
          1.1460266102467631,
          1.1461033080743943,
          1.2083070411696808,
          1.193957444584799
         ]
        }
       ],
       "layout": {
        "legend": {
         "title": {
          "text": "dataset"
         }
        },
        "template": {
         "data": {
          "bar": [
           {
            "error_x": {
             "color": "#2a3f5f"
            },
            "error_y": {
             "color": "#2a3f5f"
            },
            "marker": {
             "line": {
              "color": "#E5ECF6",
              "width": 0.5
             },
             "pattern": {
              "fillmode": "overlay",
              "size": 10,
              "solidity": 0.2
             }
            },
            "type": "bar"
           }
          ],
          "barpolar": [
           {
            "marker": {
             "line": {
              "color": "#E5ECF6",
              "width": 0.5
             },
             "pattern": {
              "fillmode": "overlay",
              "size": 10,
              "solidity": 0.2
             }
            },
            "type": "barpolar"
           }
          ],
          "carpet": [
           {
            "aaxis": {
             "endlinecolor": "#2a3f5f",
             "gridcolor": "white",
             "linecolor": "white",
             "minorgridcolor": "white",
             "startlinecolor": "#2a3f5f"
            },
            "baxis": {
             "endlinecolor": "#2a3f5f",
             "gridcolor": "white",
             "linecolor": "white",
             "minorgridcolor": "white",
             "startlinecolor": "#2a3f5f"
            },
            "type": "carpet"
           }
          ],
          "choropleth": [
           {
            "colorbar": {
             "outlinewidth": 0,
             "ticks": ""
            },
            "type": "choropleth"
           }
          ],
          "contour": [
           {
            "colorbar": {
             "outlinewidth": 0,
             "ticks": ""
            },
            "colorscale": [
             [
              0,
              "#0d0887"
             ],
             [
              0.1111111111111111,
              "#46039f"
             ],
             [
              0.2222222222222222,
              "#7201a8"
             ],
             [
              0.3333333333333333,
              "#9c179e"
             ],
             [
              0.4444444444444444,
              "#bd3786"
             ],
             [
              0.5555555555555556,
              "#d8576b"
             ],
             [
              0.6666666666666666,
              "#ed7953"
             ],
             [
              0.7777777777777778,
              "#fb9f3a"
             ],
             [
              0.8888888888888888,
              "#fdca26"
             ],
             [
              1,
              "#f0f921"
             ]
            ],
            "type": "contour"
           }
          ],
          "contourcarpet": [
           {
            "colorbar": {
             "outlinewidth": 0,
             "ticks": ""
            },
            "type": "contourcarpet"
           }
          ],
          "heatmap": [
           {
            "colorbar": {
             "outlinewidth": 0,
             "ticks": ""
            },
            "colorscale": [
             [
              0,
              "#0d0887"
             ],
             [
              0.1111111111111111,
              "#46039f"
             ],
             [
              0.2222222222222222,
              "#7201a8"
             ],
             [
              0.3333333333333333,
              "#9c179e"
             ],
             [
              0.4444444444444444,
              "#bd3786"
             ],
             [
              0.5555555555555556,
              "#d8576b"
             ],
             [
              0.6666666666666666,
              "#ed7953"
             ],
             [
              0.7777777777777778,
              "#fb9f3a"
             ],
             [
              0.8888888888888888,
              "#fdca26"
             ],
             [
              1,
              "#f0f921"
             ]
            ],
            "type": "heatmap"
           }
          ],
          "heatmapgl": [
           {
            "colorbar": {
             "outlinewidth": 0,
             "ticks": ""
            },
            "colorscale": [
             [
              0,
              "#0d0887"
             ],
             [
              0.1111111111111111,
              "#46039f"
             ],
             [
              0.2222222222222222,
              "#7201a8"
             ],
             [
              0.3333333333333333,
              "#9c179e"
             ],
             [
              0.4444444444444444,
              "#bd3786"
             ],
             [
              0.5555555555555556,
              "#d8576b"
             ],
             [
              0.6666666666666666,
              "#ed7953"
             ],
             [
              0.7777777777777778,
              "#fb9f3a"
             ],
             [
              0.8888888888888888,
              "#fdca26"
             ],
             [
              1,
              "#f0f921"
             ]
            ],
            "type": "heatmapgl"
           }
          ],
          "histogram": [
           {
            "marker": {
             "pattern": {
              "fillmode": "overlay",
              "size": 10,
              "solidity": 0.2
             }
            },
            "type": "histogram"
           }
          ],
          "histogram2d": [
           {
            "colorbar": {
             "outlinewidth": 0,
             "ticks": ""
            },
            "colorscale": [
             [
              0,
              "#0d0887"
             ],
             [
              0.1111111111111111,
              "#46039f"
             ],
             [
              0.2222222222222222,
              "#7201a8"
             ],
             [
              0.3333333333333333,
              "#9c179e"
             ],
             [
              0.4444444444444444,
              "#bd3786"
             ],
             [
              0.5555555555555556,
              "#d8576b"
             ],
             [
              0.6666666666666666,
              "#ed7953"
             ],
             [
              0.7777777777777778,
              "#fb9f3a"
             ],
             [
              0.8888888888888888,
              "#fdca26"
             ],
             [
              1,
              "#f0f921"
             ]
            ],
            "type": "histogram2d"
           }
          ],
          "histogram2dcontour": [
           {
            "colorbar": {
             "outlinewidth": 0,
             "ticks": ""
            },
            "colorscale": [
             [
              0,
              "#0d0887"
             ],
             [
              0.1111111111111111,
              "#46039f"
             ],
             [
              0.2222222222222222,
              "#7201a8"
             ],
             [
              0.3333333333333333,
              "#9c179e"
             ],
             [
              0.4444444444444444,
              "#bd3786"
             ],
             [
              0.5555555555555556,
              "#d8576b"
             ],
             [
              0.6666666666666666,
              "#ed7953"
             ],
             [
              0.7777777777777778,
              "#fb9f3a"
             ],
             [
              0.8888888888888888,
              "#fdca26"
             ],
             [
              1,
              "#f0f921"
             ]
            ],
            "type": "histogram2dcontour"
           }
          ],
          "mesh3d": [
           {
            "colorbar": {
             "outlinewidth": 0,
             "ticks": ""
            },
            "type": "mesh3d"
           }
          ],
          "parcoords": [
           {
            "line": {
             "colorbar": {
              "outlinewidth": 0,
              "ticks": ""
             }
            },
            "type": "parcoords"
           }
          ],
          "pie": [
           {
            "automargin": true,
            "type": "pie"
           }
          ],
          "scatter": [
           {
            "fillpattern": {
             "fillmode": "overlay",
             "size": 10,
             "solidity": 0.2
            },
            "type": "scatter"
           }
          ],
          "scatter3d": [
           {
            "line": {
             "colorbar": {
              "outlinewidth": 0,
              "ticks": ""
             }
            },
            "marker": {
             "colorbar": {
              "outlinewidth": 0,
              "ticks": ""
             }
            },
            "type": "scatter3d"
           }
          ],
          "scattercarpet": [
           {
            "marker": {
             "colorbar": {
              "outlinewidth": 0,
              "ticks": ""
             }
            },
            "type": "scattercarpet"
           }
          ],
          "scattergeo": [
           {
            "marker": {
             "colorbar": {
              "outlinewidth": 0,
              "ticks": ""
             }
            },
            "type": "scattergeo"
           }
          ],
          "scattergl": [
           {
            "marker": {
             "colorbar": {
              "outlinewidth": 0,
              "ticks": ""
             }
            },
            "type": "scattergl"
           }
          ],
          "scattermapbox": [
           {
            "marker": {
             "colorbar": {
              "outlinewidth": 0,
              "ticks": ""
             }
            },
            "type": "scattermapbox"
           }
          ],
          "scatterpolar": [
           {
            "marker": {
             "colorbar": {
              "outlinewidth": 0,
              "ticks": ""
             }
            },
            "type": "scatterpolar"
           }
          ],
          "scatterpolargl": [
           {
            "marker": {
             "colorbar": {
              "outlinewidth": 0,
              "ticks": ""
             }
            },
            "type": "scatterpolargl"
           }
          ],
          "scatterternary": [
           {
            "marker": {
             "colorbar": {
              "outlinewidth": 0,
              "ticks": ""
             }
            },
            "type": "scatterternary"
           }
          ],
          "surface": [
           {
            "colorbar": {
             "outlinewidth": 0,
             "ticks": ""
            },
            "colorscale": [
             [
              0,
              "#0d0887"
             ],
             [
              0.1111111111111111,
              "#46039f"
             ],
             [
              0.2222222222222222,
              "#7201a8"
             ],
             [
              0.3333333333333333,
              "#9c179e"
             ],
             [
              0.4444444444444444,
              "#bd3786"
             ],
             [
              0.5555555555555556,
              "#d8576b"
             ],
             [
              0.6666666666666666,
              "#ed7953"
             ],
             [
              0.7777777777777778,
              "#fb9f3a"
             ],
             [
              0.8888888888888888,
              "#fdca26"
             ],
             [
              1,
              "#f0f921"
             ]
            ],
            "type": "surface"
           }
          ],
          "table": [
           {
            "cells": {
             "fill": {
              "color": "#EBF0F8"
             },
             "line": {
              "color": "white"
             }
            },
            "header": {
             "fill": {
              "color": "#C8D4E3"
             },
             "line": {
              "color": "white"
             }
            },
            "type": "table"
           }
          ]
         },
         "layout": {
          "annotationdefaults": {
           "arrowcolor": "#2a3f5f",
           "arrowhead": 0,
           "arrowwidth": 1
          },
          "autotypenumbers": "strict",
          "coloraxis": {
           "colorbar": {
            "outlinewidth": 0,
            "ticks": ""
           }
          },
          "colorscale": {
           "diverging": [
            [
             0,
             "#8e0152"
            ],
            [
             0.1,
             "#c51b7d"
            ],
            [
             0.2,
             "#de77ae"
            ],
            [
             0.3,
             "#f1b6da"
            ],
            [
             0.4,
             "#fde0ef"
            ],
            [
             0.5,
             "#f7f7f7"
            ],
            [
             0.6,
             "#e6f5d0"
            ],
            [
             0.7,
             "#b8e186"
            ],
            [
             0.8,
             "#7fbc41"
            ],
            [
             0.9,
             "#4d9221"
            ],
            [
             1,
             "#276419"
            ]
           ],
           "sequential": [
            [
             0,
             "#0d0887"
            ],
            [
             0.1111111111111111,
             "#46039f"
            ],
            [
             0.2222222222222222,
             "#7201a8"
            ],
            [
             0.3333333333333333,
             "#9c179e"
            ],
            [
             0.4444444444444444,
             "#bd3786"
            ],
            [
             0.5555555555555556,
             "#d8576b"
            ],
            [
             0.6666666666666666,
             "#ed7953"
            ],
            [
             0.7777777777777778,
             "#fb9f3a"
            ],
            [
             0.8888888888888888,
             "#fdca26"
            ],
            [
             1,
             "#f0f921"
            ]
           ],
           "sequentialminus": [
            [
             0,
             "#0d0887"
            ],
            [
             0.1111111111111111,
             "#46039f"
            ],
            [
             0.2222222222222222,
             "#7201a8"
            ],
            [
             0.3333333333333333,
             "#9c179e"
            ],
            [
             0.4444444444444444,
             "#bd3786"
            ],
            [
             0.5555555555555556,
             "#d8576b"
            ],
            [
             0.6666666666666666,
             "#ed7953"
            ],
            [
             0.7777777777777778,
             "#fb9f3a"
            ],
            [
             0.8888888888888888,
             "#fdca26"
            ],
            [
             1,
             "#f0f921"
            ]
           ]
          },
          "colorway": [
           "#636efa",
           "#EF553B",
           "#00cc96",
           "#ab63fa",
           "#FFA15A",
           "#19d3f3",
           "#FF6692",
           "#B6E880",
           "#FF97FF",
           "#FECB52"
          ],
          "font": {
           "color": "#2a3f5f"
          },
          "geo": {
           "bgcolor": "white",
           "lakecolor": "white",
           "landcolor": "#E5ECF6",
           "showlakes": true,
           "showland": true,
           "subunitcolor": "white"
          },
          "hoverlabel": {
           "align": "left"
          },
          "hovermode": "closest",
          "mapbox": {
           "style": "light"
          },
          "paper_bgcolor": "white",
          "plot_bgcolor": "#E5ECF6",
          "polar": {
           "angularaxis": {
            "gridcolor": "white",
            "linecolor": "white",
            "ticks": ""
           },
           "bgcolor": "#E5ECF6",
           "radialaxis": {
            "gridcolor": "white",
            "linecolor": "white",
            "ticks": ""
           }
          },
          "scene": {
           "xaxis": {
            "backgroundcolor": "#E5ECF6",
            "gridcolor": "white",
            "gridwidth": 2,
            "linecolor": "white",
            "showbackground": true,
            "ticks": "",
            "zerolinecolor": "white"
           },
           "yaxis": {
            "backgroundcolor": "#E5ECF6",
            "gridcolor": "white",
            "gridwidth": 2,
            "linecolor": "white",
            "showbackground": true,
            "ticks": "",
            "zerolinecolor": "white"
           },
           "zaxis": {
            "backgroundcolor": "#E5ECF6",
            "gridcolor": "white",
            "gridwidth": 2,
            "linecolor": "white",
            "showbackground": true,
            "ticks": "",
            "zerolinecolor": "white"
           }
          },
          "shapedefaults": {
           "line": {
            "color": "#2a3f5f"
           }
          },
          "ternary": {
           "aaxis": {
            "gridcolor": "white",
            "linecolor": "white",
            "ticks": ""
           },
           "baxis": {
            "gridcolor": "white",
            "linecolor": "white",
            "ticks": ""
           },
           "bgcolor": "#E5ECF6",
           "caxis": {
            "gridcolor": "white",
            "linecolor": "white",
            "ticks": ""
           }
          },
          "title": {
           "x": 0.05
          },
          "xaxis": {
           "automargin": true,
           "gridcolor": "white",
           "linecolor": "white",
           "ticks": "",
           "title": {
            "standoff": 15
           },
           "zerolinecolor": "white",
           "zerolinewidth": 2
          },
          "yaxis": {
           "automargin": true,
           "gridcolor": "white",
           "linecolor": "white",
           "ticks": "",
           "title": {
            "standoff": 15
           },
           "zerolinecolor": "white",
           "zerolinewidth": 2
          }
         }
        },
        "title": {
         "text": "hypervolume"
        },
        "xaxis": {
         "title": {
          "text": "time in s"
         }
        },
        "yaxis": {
         "title": {
          "text": "Hypervolume"
         }
        }
       }
      }
     },
     "metadata": {},
     "output_type": "display_data"
    },
    {
     "data": {
      "application/vnd.plotly.v1+json": {
       "config": {
        "plotlyServerURL": "https://plot.ly"
       },
       "data": [
        {
         "mode": "markers",
         "text": [
          "1.14",
          "2.22",
          "3.3",
          "4.4",
          "5.48",
          "6.56",
          "7.64",
          "8.72",
          "9.8",
          "10.87",
          "11.96",
          "13.06",
          "14.15",
          "15.22",
          "16.3",
          "17.38",
          "18.48",
          "19.56",
          "20.65",
          "21.86",
          "22.98",
          "24.11",
          "25.22",
          "26.33",
          "27.43",
          "28.53",
          "29.63",
          "30.74",
          "31.84",
          "32.96",
          "34.06",
          "35.17",
          "36.29",
          "37.39",
          "38.5",
          "39.61",
          "40.71",
          "41.81",
          "42.9",
          "44.01",
          "45.11",
          "46.24",
          "47.34",
          "48.43",
          "49.52",
          "50.63",
          "51.74",
          "52.84",
          "53.93",
          "55.02",
          "56.11",
          "57.2",
          "58.29",
          "59.37",
          "60.46",
          "61.55",
          "62.64",
          "63.73",
          "64.82",
          "65.91",
          "67.0",
          "68.09",
          "69.19",
          "70.3",
          "71.39",
          "72.49",
          "73.57",
          "74.65",
          "75.74",
          "76.82",
          "77.89",
          "78.97",
          "80.04",
          "81.12",
          "82.2",
          "83.27",
          "84.35",
          "85.45",
          "86.52",
          "87.6",
          "88.67",
          "89.74",
          "90.81",
          "91.88",
          "92.95",
          "94.03",
          "95.1",
          "96.18",
          "97.25",
          "98.32",
          "99.39",
          "100.46",
          "101.52",
          "102.56",
          "103.61",
          "104.66",
          "105.7",
          "106.74",
          "107.79",
          "108.82",
          "109.86",
          "110.89",
          "111.93",
          "112.96",
          "114.0",
          "115.03",
          "116.07",
          "117.1",
          "118.13",
          "119.16",
          "120.19",
          "121.22",
          "122.25",
          "123.31",
          "124.35",
          "125.38",
          "126.42",
          "127.47",
          "128.51",
          "129.56",
          "130.63",
          "131.68",
          "132.73",
          "133.77",
          "134.81",
          "135.89",
          "136.94",
          "137.97",
          "139.01",
          "140.04",
          "141.08",
          "142.12",
          "143.17",
          "144.22",
          "145.28",
          "146.32",
          "147.36",
          "148.4",
          "149.44",
          "150.48",
          "151.55",
          "152.61",
          "153.68",
          "154.74",
          "155.79",
          "156.86",
          "157.92",
          "158.97",
          "160.01",
          "161.06",
          "162.1",
          "163.15",
          "164.19",
          "165.24",
          "166.28",
          "167.33",
          "168.37",
          "169.42",
          "170.47",
          "171.51",
          "172.56",
          "173.59",
          "174.62",
          "175.66",
          "176.7",
          "177.74",
          "178.78",
          "179.82",
          "180.86",
          "181.9",
          "182.94",
          "183.98",
          "185.03",
          "186.07",
          "187.11",
          "188.16",
          "189.2",
          "190.25",
          "191.31",
          "192.36",
          "193.41",
          "194.43",
          "195.45",
          "196.47",
          "197.5",
          "198.52",
          "199.55",
          "200.57",
          "201.6",
          "202.63",
          "203.66",
          "204.69",
          "205.72",
          "206.75",
          "207.78",
          "208.79",
          "209.81",
          "210.82",
          "211.84",
          "212.85",
          "213.87",
          "214.89",
          "215.91",
          "216.92",
          "217.94",
          "218.96",
          "219.98",
          "221.0",
          "222.03",
          "223.05",
          "224.08",
          "225.1",
          "226.12",
          "227.15",
          "228.17",
          "229.2",
          "230.22",
          "231.25",
          "232.28",
          "233.31",
          "234.34",
          "235.38",
          "236.41",
          "237.45",
          "238.49",
          "239.52",
          "240.56",
          "241.6",
          "242.64",
          "243.68",
          "244.72",
          "245.75",
          "246.79",
          "247.83",
          "248.87",
          "249.92",
          "250.96",
          "252.01",
          "253.06",
          "254.1",
          "255.15",
          "256.19",
          "257.23",
          "258.27",
          "259.3",
          "260.33",
          "261.37",
          "262.41",
          "263.44",
          "264.48",
          "265.52",
          "266.56",
          "267.6",
          "268.65",
          "269.69",
          "270.73",
          "271.78",
          "272.83",
          "273.88",
          "274.91",
          "275.96",
          "277.03",
          "278.09",
          "279.14",
          "280.19",
          "281.24",
          "282.28",
          "283.32",
          "284.36",
          "285.4",
          "286.44",
          "287.48",
          "288.52"
         ],
         "type": "scatter",
         "x": [
          1,
          1,
          1,
          1,
          1,
          1,
          1,
          1,
          1,
          1,
          1,
          1,
          1,
          1,
          1,
          1,
          1,
          1,
          1,
          0.2735667564447865,
          0.29049634474798003,
          0.23355136590996547,
          0.2431704501731435,
          0.20161600615621403,
          0.1939207387456715,
          0.19276644863409015,
          0.20238553289726818,
          0.2212389380530974,
          0.23316660253943827,
          0.2354751827626011,
          0.24047710657945373,
          0.23970757983839944,
          0.2439399769141978,
          0.24547903039630634,
          0.247402847248942,
          0.2416313966910351,
          0.23355136590996547,
          0.23432089265101963,
          0.22547133512889575,
          0.232397075798384,
          0.2243170450173144,
          0.23162754905732985,
          0.23085802231627556,
          0.22854944209311276,
          0.22893420546363993,
          0.22931896883416703,
          0.20969603693728364,
          0.2300884955752213,
          0.2385532897268181,
          0.23662947287418246,
          0.24047710657945373,
          0.2381685263562909,
          0.24470950365525207,
          0.2431704501731435,
          0.2439399769141978,
          0.2435552135436707,
          0.26548672566371695,
          0.26163909195844565,
          0.262793382070027,
          0.2685648326279339,
          0.2735667564447865,
          0.275105809926895,
          0.29049634474798003,
          0.31358214697960757,
          0.3131973836090805,
          0.3166602539438246,
          0.25894574836475576,
          0.2554828780300116,
          0.2574066948826472,
          0.25625240477106587,
          0.247402847248942,
          0.26163909195844565,
          0.2651019622931897,
          0.2520200076952675,
          0.2574066948826472,
          0.2666410157752983,
          0.23085802231627556,
          0.2500961908426319,
          0.26394767218160836,
          0.24432474028472498,
          0.2520200076952675,
          0.2535590611773759,
          0.27626010003847645,
          0.2854944209311274,
          0.28703347441323596,
          0.2958830319353598,
          0.29511350519430557,
          0.30050019238168535,
          0.3051173528280108,
          0.2908811081185072,
          0.2924201616006156,
          0.29472874182377845,
          0.27279722970373227,
          0.2777991535205849,
          0.2828010773374375,
          0.27856868026163917,
          0.25125048095421326,
          0.25971527510581005,
          0.24778761061946905,
          0.22854944209311276,
          0.24278568680261645,
          0.25317429780684886,
          0.24971142747210467,
          0.26471719892266266,
          0.2631781454405541,
          0.2666410157752983,
          0.2651019622931897,
          0.2743362831858408,
          0.2777991535205849,
          0.2327818391689112,
          0.22854944209311276,
          0.23739899961523675,
          0.23739899961523675,
          0.20969603693728364,
          0.20623316660253946,
          0.1935359753751443,
          0.18930357829934596,
          0.19084263178145452,
          0.18545594459407472,
          0.15082724124663335,
          0.17083493651404394,
          0.15929203539823014,
          0.13774528664871113,
          0.15313582146979618,
          0.15121200461716056,
          0.1716044632550982,
          0.1827626010003848,
          0.13081954597922288,
          0.13081954597922288,
          0.12581762216237016,
          0.11273566756444793,
          0.13158907272027706,
          0.14082339361292812,
          0.13813005001923823,
          0.13966910350134676,
          0.14351673720661803,
          0.15121200461716056,
          0.15929203539823014,
          0.15967679876875723,
          0.16313966910350142,
          0.14851866102347064,
          0.14890342439399773,
          0.1608310888803387,
          0.16275490573297433,
          0.16929588303193538,
          0.174297806848788,
          0.1746825702193152,
          0.15275105809926898,
          0.1523662947287419,
          0.13966910350134676,
          0.13351288957291269,
          0.12928049249711435,
          0.14544055405925366,
          0.14313197383609083,
          0.13813005001923823,
          0.14082339361292812,
          0.1277414390150058,
          0.15275105809926898,
          0.13736052327818393,
          0.1385148133897654,
          0.16852635629088122,
          0.15352058484032327,
          0.1800692574066949,
          0.1885340515582917,
          0.20161600615621403,
          0.20200076952674112,
          0.20546363986148528,
          0.18968834166987306,
          0.1912273951519816,
          0.20084647941515976,
          0.20277029626779539,
          0.21739130434782616,
          0.21739130434782616,
          0.15698345517506743,
          0.15429011158137754,
          0.16237014236244715,
          0.16429395921508277,
          0.19161215852250868,
          0.19315121200461724,
          0.19545979222777995,
          0.19815313582146984,
          0.07849172758753377,
          0.08695652173913046,
          0.08233936129280503,
          0.08618699499807629,
          0.09080415544440172,
          0.10003847633705279,
          0.08657175836860338,
          0.10465563678337833,
          0.10734898037706812,
          0.10888803385917667,
          0.11465948441708357,
          0.11196614082339366,
          0.11504424778761065,
          0.07849172758753377,
          0.08695652173913046,
          0.08926510196229329,
          0.09580607926125445,
          0.09580607926125445,
          0.08156983455175076,
          0.08272412466333212,
          0.08272412466333212,
          0.08541746825702203,
          0.09772989611389007,
          0.1081185071181224,
          0.1081185071181224,
          0.07926125432858794,
          0.09542131589072726,
          0.09272797229703736,
          0.09003462870334755,
          0.05809926894959611,
          0.05848403232012319,
          0.05040400153905359,
          0.04886494805694504,
          0.05040400153905359,
          0.09696036937283581,
          0.09542131589072726,
          0.10003847633705279,
          0.07464409388226251,
          0.0750288572527896,
          0.09503655252020017,
          0.08426317814544067,
          0.12120046171604473,
          0.11312043093497502,
          0.12427856868026171,
          0.12543285879184307,
          0.12389380530973453,
          0.12350904193920745,
          0.12350904193920745,
          0.12312427856868036,
          0.12427856868026171,
          0.11696806464024628,
          0.1304347826086957,
          0.12158522508657181,
          0.1192766448634091,
          0.11696806464024628,
          0.09542131589072726,
          0.09503655252020017,
          0.0942670257791459,
          0.09311273566756455,
          0.09734513274336289,
          0.09696036937283581,
          0.05425163524432485,
          0.08695652173913046,
          0.07887649095806086,
          0.07887649095806086,
          0.063870719507503,
          0.058868795690650275,
          0.0692574066948827,
          0.07002693343593698,
          0.06540977298961144,
          0.07041169680646406,
          0.05040400153905359,
          0.06271642939592154,
          0.06425548287803008,
          0.0750288572527896,
          0.06540977298961144,
          0.06233166602539445,
          0.033474413235860104,
          0.03809157368218553,
          0.027318199307425912,
          0.03462870334744135,
          0.021931512120046317,
          0.020007695267410686,
          0.004617160446325642,
          0.01000384763370545,
          0,
          0.012697191227395248,
          0.01769911504424776,
          0.023085802231627567,
          0.023085802231627567,
          0.0015390534821085472,
          0.00808003078106982
         ],
         "y": [
          1,
          1,
          1,
          1,
          1,
          1,
          1,
          1,
          1,
          1,
          1,
          1,
          1,
          1,
          1,
          1,
          1,
          1,
          1,
          0.21722099565558006,
          0.23545331529093372,
          0.18851933622961325,
          0.18054269638914597,
          0.14714051705718958,
          0.13880777722384435,
          0.13795313724093725,
          0.15198347696033035,
          0.16081475678370488,
          0.17007335659853282,
          0.168791396624172,
          0.18132611637347765,
          0.17705291645894164,
          0.17783633644327315,
          0.17242361655152766,
          0.17826365643472686,
          0.16109963677800723,
          0.15219713695605727,
          0.152766896944662,
          0.14329463713410714,
          0.15447617691047638,
          0.14172779716544395,
          0.14628587707428234,
          0.14892101702157956,
          0.14286731714265358,
          0.14329463713410714,
          0.14756783704864315,
          0.1254896374902072,
          0.15191225696175475,
          0.16117085677658283,
          0.15924791681504152,
          0.16701089665978203,
          0.16095719678085607,
          0.16779431664411354,
          0.1665123566697529,
          0.1672245566555088,
          0.16672601666547965,
          0.1977067160458656,
          0.19364717612705634,
          0.19500035609999278,
          0.20148137597037244,
          0.20319065593618682,
          0.20497115590057677,
          0.2219927355601452,
          0.24727583505448328,
          0.2436436151271276,
          0.25040951499180963,
          0.18346271633074557,
          0.19763549604729,
          0.1960686560786268,
          0.19841891603162165,
          0.1888042162239156,
          0.20433017591339644,
          0.20789117584217637,
          0.1937896161242077,
          0.1996296560074069,
          0.21316145573677084,
          0.17099921658001566,
          0.199059896018802,
          0.1997720960045581,
          0.19984331600313365,
          0.21173705576525884,
          0.2133751157324976,
          0.24093725518125478,
          0.25040951499180963,
          0.2485577950288441,
          0.25482515490349683,
          0.2536856349262872,
          0.2593832348123352,
          0.26451107470977847,
          0.2527597749448045,
          0.25411295491774094,
          0.25674809486503797,
          0.18851933622961325,
          0.19407449611851008,
          0.1995584360088313,
          0.2053272558934549,
          0.18958763620824728,
          0.19877501602449962,
          0.19656719606865594,
          0.1722811765543765,
          0.1875222562495548,
          0.2024072359518553,
          0.20233601595327955,
          0.21793319564133598,
          0.21658001566839957,
          0.22035467559290642,
          0.2149419557011608,
          0.21437219571255606,
          0.2182892956342141,
          0.18032903639341918,
          0.17598461648030758,
          0.17448899651022,
          0.17434655651306882,
          0.18987251620254966,
          0.1902286161954276,
          0.18859055622818882,
          0.18424613631507725,
          0.1860266362794672,
          0.18047147639057037,
          0.14151413716971717,
          0.161669396766612,
          0.14628587707428234,
          0.12435011751299756,
          0.14001851719962957,
          0.13781069724378606,
          0.15483227690335435,
          0.15447617691047638,
          0.1298340574033188,
          0.11309735773805273,
          0.1080407378391852,
          0.09052061818958763,
          0.11380955772380881,
          0.12727013745459717,
          0.12449255751014875,
          0.1262018374759631,
          0.13004771739904558,
          0.13773947724521032,
          0.14592977708140437,
          0.14635709707285793,
          0.1498468770030624,
          0.13517555729648884,
          0.135674097286518,
          0.155615696887686,
          0.15746741685065158,
          0.16807919663841606,
          0.173064596538708,
          0.17370557652588847,
          0.15155615696887678,
          0.15112883697742324,
          0.13439213731215716,
          0.12819599743608,
          0.1239940175201196,
          0.13218431735631364,
          0.12954917740901642,
          0.12463499750729994,
          0.12748379745032393,
          0.11815397763692041,
          0.13966241720675163,
          0.123922797521544,
          0.12506231749875366,
          0.11964959760700801,
          0.10376753792464921,
          0.13204187735916248,
          0.14115803717683922,
          0.15105761697884765,
          0.15134249697315,
          0.15533081689338366,
          0.13467701730645953,
          0.13617263727654713,
          0.15034541699309156,
          0.15233957695320846,
          0.16031621679367558,
          0.1601737767965244,
          0.09137525817249474,
          0.0888113382237731,
          0.09742895805142071,
          0.0994943380101132,
          0.13246919735061602,
          0.134249697315006,
          0.13688483726230322,
          0.13588775728224475,
          0.09479381810412364,
          0.09002207819955833,
          0.09415283811694315,
          0.0979987180400256,
          0.10262801794743957,
          0.11174417776511632,
          0.08532155829356877,
          0.09059183818816323,
          0.09329819813403605,
          0.09486503810269924,
          0.10077629798447402,
          0.09785627804287442,
          0.10127483797450317,
          0.09472259810554805,
          0.09892457802150831,
          0.10127483797450317,
          0.10739975785200473,
          0.10761341784773167,
          0.09351185812976283,
          0.0946513781069723,
          0.0946513781069723,
          0.09742895805142071,
          0.10946513781069721,
          0.11950715760985682,
          0.11986325760273478,
          0.09123281817534355,
          0.10711487785770235,
          0.10440851791182953,
          0.1018445979631079,
          0.07022291859554149,
          0.06609215867815682,
          0.06701801865963952,
          0.0658072786838543,
          0.0672316786553663,
          0.10013531799729353,
          0.09842603803147916,
          0.10298411794031753,
          0.06032333879353323,
          0.060608218787835594,
          0.080834698383306,
          0.07008047859839031,
          0.09500747809985041,
          0.08638985827220282,
          0.09792749804145001,
          0.09920945801581083,
          0.09764261804714765,
          0.09721529805569394,
          0.09721529805569394,
          0.09678797806424039,
          0.10348265793034683,
          0.09586211808275752,
          0.12634427747311447,
          0.11751299764973992,
          0.11509151769816962,
          0.11281247774375036,
          0.10426607791467835,
          0.10383875792322479,
          0.10284167794316634,
          0.0975001780499963,
          0.10590413788191713,
          0.10576169788476594,
          0.07684637846307235,
          0.08275763834484713,
          0.0744248985115019,
          0.06865607862687831,
          0.049284239014315175,
          0.0441563991168719,
          0.0547681789046364,
          0.055337938893241144,
          0.05092229898155395,
          0.055836478883270285,
          0.03546755929064871,
          0.048002279039954354,
          0.04971155900576873,
          0.06039455879210882,
          0.06416921871661552,
          0.06103553877928915,
          0.04137881917242349,
          0.05063741898725158,
          0.04002563919948708,
          0.0470764190584715,
          0.03454169930916601,
          0.032761199344775886,
          0.01759133964817317,
          0.02271917954561628,
          0.012962039740759202,
          0.025639199487215877,
          0.03055337938893237,
          0.03582365928352683,
          0.035752439284951074,
          0,
          0.006552239868955114
         ]
        }
       ],
       "layout": {
        "legend": {
         "title": {
          "text": "dataset"
         }
        },
        "template": {
         "data": {
          "bar": [
           {
            "error_x": {
             "color": "#2a3f5f"
            },
            "error_y": {
             "color": "#2a3f5f"
            },
            "marker": {
             "line": {
              "color": "#E5ECF6",
              "width": 0.5
             },
             "pattern": {
              "fillmode": "overlay",
              "size": 10,
              "solidity": 0.2
             }
            },
            "type": "bar"
           }
          ],
          "barpolar": [
           {
            "marker": {
             "line": {
              "color": "#E5ECF6",
              "width": 0.5
             },
             "pattern": {
              "fillmode": "overlay",
              "size": 10,
              "solidity": 0.2
             }
            },
            "type": "barpolar"
           }
          ],
          "carpet": [
           {
            "aaxis": {
             "endlinecolor": "#2a3f5f",
             "gridcolor": "white",
             "linecolor": "white",
             "minorgridcolor": "white",
             "startlinecolor": "#2a3f5f"
            },
            "baxis": {
             "endlinecolor": "#2a3f5f",
             "gridcolor": "white",
             "linecolor": "white",
             "minorgridcolor": "white",
             "startlinecolor": "#2a3f5f"
            },
            "type": "carpet"
           }
          ],
          "choropleth": [
           {
            "colorbar": {
             "outlinewidth": 0,
             "ticks": ""
            },
            "type": "choropleth"
           }
          ],
          "contour": [
           {
            "colorbar": {
             "outlinewidth": 0,
             "ticks": ""
            },
            "colorscale": [
             [
              0,
              "#0d0887"
             ],
             [
              0.1111111111111111,
              "#46039f"
             ],
             [
              0.2222222222222222,
              "#7201a8"
             ],
             [
              0.3333333333333333,
              "#9c179e"
             ],
             [
              0.4444444444444444,
              "#bd3786"
             ],
             [
              0.5555555555555556,
              "#d8576b"
             ],
             [
              0.6666666666666666,
              "#ed7953"
             ],
             [
              0.7777777777777778,
              "#fb9f3a"
             ],
             [
              0.8888888888888888,
              "#fdca26"
             ],
             [
              1,
              "#f0f921"
             ]
            ],
            "type": "contour"
           }
          ],
          "contourcarpet": [
           {
            "colorbar": {
             "outlinewidth": 0,
             "ticks": ""
            },
            "type": "contourcarpet"
           }
          ],
          "heatmap": [
           {
            "colorbar": {
             "outlinewidth": 0,
             "ticks": ""
            },
            "colorscale": [
             [
              0,
              "#0d0887"
             ],
             [
              0.1111111111111111,
              "#46039f"
             ],
             [
              0.2222222222222222,
              "#7201a8"
             ],
             [
              0.3333333333333333,
              "#9c179e"
             ],
             [
              0.4444444444444444,
              "#bd3786"
             ],
             [
              0.5555555555555556,
              "#d8576b"
             ],
             [
              0.6666666666666666,
              "#ed7953"
             ],
             [
              0.7777777777777778,
              "#fb9f3a"
             ],
             [
              0.8888888888888888,
              "#fdca26"
             ],
             [
              1,
              "#f0f921"
             ]
            ],
            "type": "heatmap"
           }
          ],
          "heatmapgl": [
           {
            "colorbar": {
             "outlinewidth": 0,
             "ticks": ""
            },
            "colorscale": [
             [
              0,
              "#0d0887"
             ],
             [
              0.1111111111111111,
              "#46039f"
             ],
             [
              0.2222222222222222,
              "#7201a8"
             ],
             [
              0.3333333333333333,
              "#9c179e"
             ],
             [
              0.4444444444444444,
              "#bd3786"
             ],
             [
              0.5555555555555556,
              "#d8576b"
             ],
             [
              0.6666666666666666,
              "#ed7953"
             ],
             [
              0.7777777777777778,
              "#fb9f3a"
             ],
             [
              0.8888888888888888,
              "#fdca26"
             ],
             [
              1,
              "#f0f921"
             ]
            ],
            "type": "heatmapgl"
           }
          ],
          "histogram": [
           {
            "marker": {
             "pattern": {
              "fillmode": "overlay",
              "size": 10,
              "solidity": 0.2
             }
            },
            "type": "histogram"
           }
          ],
          "histogram2d": [
           {
            "colorbar": {
             "outlinewidth": 0,
             "ticks": ""
            },
            "colorscale": [
             [
              0,
              "#0d0887"
             ],
             [
              0.1111111111111111,
              "#46039f"
             ],
             [
              0.2222222222222222,
              "#7201a8"
             ],
             [
              0.3333333333333333,
              "#9c179e"
             ],
             [
              0.4444444444444444,
              "#bd3786"
             ],
             [
              0.5555555555555556,
              "#d8576b"
             ],
             [
              0.6666666666666666,
              "#ed7953"
             ],
             [
              0.7777777777777778,
              "#fb9f3a"
             ],
             [
              0.8888888888888888,
              "#fdca26"
             ],
             [
              1,
              "#f0f921"
             ]
            ],
            "type": "histogram2d"
           }
          ],
          "histogram2dcontour": [
           {
            "colorbar": {
             "outlinewidth": 0,
             "ticks": ""
            },
            "colorscale": [
             [
              0,
              "#0d0887"
             ],
             [
              0.1111111111111111,
              "#46039f"
             ],
             [
              0.2222222222222222,
              "#7201a8"
             ],
             [
              0.3333333333333333,
              "#9c179e"
             ],
             [
              0.4444444444444444,
              "#bd3786"
             ],
             [
              0.5555555555555556,
              "#d8576b"
             ],
             [
              0.6666666666666666,
              "#ed7953"
             ],
             [
              0.7777777777777778,
              "#fb9f3a"
             ],
             [
              0.8888888888888888,
              "#fdca26"
             ],
             [
              1,
              "#f0f921"
             ]
            ],
            "type": "histogram2dcontour"
           }
          ],
          "mesh3d": [
           {
            "colorbar": {
             "outlinewidth": 0,
             "ticks": ""
            },
            "type": "mesh3d"
           }
          ],
          "parcoords": [
           {
            "line": {
             "colorbar": {
              "outlinewidth": 0,
              "ticks": ""
             }
            },
            "type": "parcoords"
           }
          ],
          "pie": [
           {
            "automargin": true,
            "type": "pie"
           }
          ],
          "scatter": [
           {
            "fillpattern": {
             "fillmode": "overlay",
             "size": 10,
             "solidity": 0.2
            },
            "type": "scatter"
           }
          ],
          "scatter3d": [
           {
            "line": {
             "colorbar": {
              "outlinewidth": 0,
              "ticks": ""
             }
            },
            "marker": {
             "colorbar": {
              "outlinewidth": 0,
              "ticks": ""
             }
            },
            "type": "scatter3d"
           }
          ],
          "scattercarpet": [
           {
            "marker": {
             "colorbar": {
              "outlinewidth": 0,
              "ticks": ""
             }
            },
            "type": "scattercarpet"
           }
          ],
          "scattergeo": [
           {
            "marker": {
             "colorbar": {
              "outlinewidth": 0,
              "ticks": ""
             }
            },
            "type": "scattergeo"
           }
          ],
          "scattergl": [
           {
            "marker": {
             "colorbar": {
              "outlinewidth": 0,
              "ticks": ""
             }
            },
            "type": "scattergl"
           }
          ],
          "scattermapbox": [
           {
            "marker": {
             "colorbar": {
              "outlinewidth": 0,
              "ticks": ""
             }
            },
            "type": "scattermapbox"
           }
          ],
          "scatterpolar": [
           {
            "marker": {
             "colorbar": {
              "outlinewidth": 0,
              "ticks": ""
             }
            },
            "type": "scatterpolar"
           }
          ],
          "scatterpolargl": [
           {
            "marker": {
             "colorbar": {
              "outlinewidth": 0,
              "ticks": ""
             }
            },
            "type": "scatterpolargl"
           }
          ],
          "scatterternary": [
           {
            "marker": {
             "colorbar": {
              "outlinewidth": 0,
              "ticks": ""
             }
            },
            "type": "scatterternary"
           }
          ],
          "surface": [
           {
            "colorbar": {
             "outlinewidth": 0,
             "ticks": ""
            },
            "colorscale": [
             [
              0,
              "#0d0887"
             ],
             [
              0.1111111111111111,
              "#46039f"
             ],
             [
              0.2222222222222222,
              "#7201a8"
             ],
             [
              0.3333333333333333,
              "#9c179e"
             ],
             [
              0.4444444444444444,
              "#bd3786"
             ],
             [
              0.5555555555555556,
              "#d8576b"
             ],
             [
              0.6666666666666666,
              "#ed7953"
             ],
             [
              0.7777777777777778,
              "#fb9f3a"
             ],
             [
              0.8888888888888888,
              "#fdca26"
             ],
             [
              1,
              "#f0f921"
             ]
            ],
            "type": "surface"
           }
          ],
          "table": [
           {
            "cells": {
             "fill": {
              "color": "#EBF0F8"
             },
             "line": {
              "color": "white"
             }
            },
            "header": {
             "fill": {
              "color": "#C8D4E3"
             },
             "line": {
              "color": "white"
             }
            },
            "type": "table"
           }
          ]
         },
         "layout": {
          "annotationdefaults": {
           "arrowcolor": "#2a3f5f",
           "arrowhead": 0,
           "arrowwidth": 1
          },
          "autotypenumbers": "strict",
          "coloraxis": {
           "colorbar": {
            "outlinewidth": 0,
            "ticks": ""
           }
          },
          "colorscale": {
           "diverging": [
            [
             0,
             "#8e0152"
            ],
            [
             0.1,
             "#c51b7d"
            ],
            [
             0.2,
             "#de77ae"
            ],
            [
             0.3,
             "#f1b6da"
            ],
            [
             0.4,
             "#fde0ef"
            ],
            [
             0.5,
             "#f7f7f7"
            ],
            [
             0.6,
             "#e6f5d0"
            ],
            [
             0.7,
             "#b8e186"
            ],
            [
             0.8,
             "#7fbc41"
            ],
            [
             0.9,
             "#4d9221"
            ],
            [
             1,
             "#276419"
            ]
           ],
           "sequential": [
            [
             0,
             "#0d0887"
            ],
            [
             0.1111111111111111,
             "#46039f"
            ],
            [
             0.2222222222222222,
             "#7201a8"
            ],
            [
             0.3333333333333333,
             "#9c179e"
            ],
            [
             0.4444444444444444,
             "#bd3786"
            ],
            [
             0.5555555555555556,
             "#d8576b"
            ],
            [
             0.6666666666666666,
             "#ed7953"
            ],
            [
             0.7777777777777778,
             "#fb9f3a"
            ],
            [
             0.8888888888888888,
             "#fdca26"
            ],
            [
             1,
             "#f0f921"
            ]
           ],
           "sequentialminus": [
            [
             0,
             "#0d0887"
            ],
            [
             0.1111111111111111,
             "#46039f"
            ],
            [
             0.2222222222222222,
             "#7201a8"
            ],
            [
             0.3333333333333333,
             "#9c179e"
            ],
            [
             0.4444444444444444,
             "#bd3786"
            ],
            [
             0.5555555555555556,
             "#d8576b"
            ],
            [
             0.6666666666666666,
             "#ed7953"
            ],
            [
             0.7777777777777778,
             "#fb9f3a"
            ],
            [
             0.8888888888888888,
             "#fdca26"
            ],
            [
             1,
             "#f0f921"
            ]
           ]
          },
          "colorway": [
           "#636efa",
           "#EF553B",
           "#00cc96",
           "#ab63fa",
           "#FFA15A",
           "#19d3f3",
           "#FF6692",
           "#B6E880",
           "#FF97FF",
           "#FECB52"
          ],
          "font": {
           "color": "#2a3f5f"
          },
          "geo": {
           "bgcolor": "white",
           "lakecolor": "white",
           "landcolor": "#E5ECF6",
           "showlakes": true,
           "showland": true,
           "subunitcolor": "white"
          },
          "hoverlabel": {
           "align": "left"
          },
          "hovermode": "closest",
          "mapbox": {
           "style": "light"
          },
          "paper_bgcolor": "white",
          "plot_bgcolor": "#E5ECF6",
          "polar": {
           "angularaxis": {
            "gridcolor": "white",
            "linecolor": "white",
            "ticks": ""
           },
           "bgcolor": "#E5ECF6",
           "radialaxis": {
            "gridcolor": "white",
            "linecolor": "white",
            "ticks": ""
           }
          },
          "scene": {
           "xaxis": {
            "backgroundcolor": "#E5ECF6",
            "gridcolor": "white",
            "gridwidth": 2,
            "linecolor": "white",
            "showbackground": true,
            "ticks": "",
            "zerolinecolor": "white"
           },
           "yaxis": {
            "backgroundcolor": "#E5ECF6",
            "gridcolor": "white",
            "gridwidth": 2,
            "linecolor": "white",
            "showbackground": true,
            "ticks": "",
            "zerolinecolor": "white"
           },
           "zaxis": {
            "backgroundcolor": "#E5ECF6",
            "gridcolor": "white",
            "gridwidth": 2,
            "linecolor": "white",
            "showbackground": true,
            "ticks": "",
            "zerolinecolor": "white"
           }
          },
          "shapedefaults": {
           "line": {
            "color": "#2a3f5f"
           }
          },
          "ternary": {
           "aaxis": {
            "gridcolor": "white",
            "linecolor": "white",
            "ticks": ""
           },
           "baxis": {
            "gridcolor": "white",
            "linecolor": "white",
            "ticks": ""
           },
           "bgcolor": "#E5ECF6",
           "caxis": {
            "gridcolor": "white",
            "linecolor": "white",
            "ticks": ""
           }
          },
          "title": {
           "x": 0.05
          },
          "xaxis": {
           "automargin": true,
           "gridcolor": "white",
           "linecolor": "white",
           "ticks": "",
           "title": {
            "standoff": 15
           },
           "zerolinecolor": "white",
           "zerolinewidth": 2
          },
          "yaxis": {
           "automargin": true,
           "gridcolor": "white",
           "linecolor": "white",
           "ticks": "",
           "title": {
            "standoff": 15
           },
           "zerolinecolor": "white",
           "zerolinewidth": 2
          }
         }
        },
        "title": {
         "text": "normalized objectives"
        },
        "xaxis": {
         "title": {
          "text": "energy_efficiency"
         }
        },
        "yaxis": {
         "title": {
          "text": "avg_dl_datarate"
         }
        }
       }
      }
     },
     "metadata": {},
     "output_type": "display_data"
    },
    {
     "data": {
      "application/vnd.plotly.v1+json": {
       "config": {
        "plotlyServerURL": "https://plot.ly"
       },
       "data": [
        {
         "mode": "lines+markers",
         "name": "energy_efficiency",
         "type": "scatter",
         "x": [
          1.14,
          2.22,
          3.3,
          4.4,
          5.48,
          6.56,
          7.64,
          8.72,
          9.8,
          10.87,
          11.96,
          13.06,
          14.15,
          15.22,
          16.3,
          17.38,
          18.48,
          19.56,
          20.65,
          21.86,
          22.98,
          24.11,
          25.22,
          26.33,
          27.43,
          28.53,
          29.63,
          30.74,
          31.84,
          32.96,
          34.06,
          35.17,
          36.29,
          37.39,
          38.5,
          39.61,
          40.71,
          41.81,
          42.9,
          44.01,
          45.11,
          46.24,
          47.34,
          48.43,
          49.52,
          50.63,
          51.74,
          52.84,
          53.93,
          55.02,
          56.11,
          57.2,
          58.29,
          59.37,
          60.46,
          61.55,
          62.64,
          63.73,
          64.82,
          65.91,
          67,
          68.09,
          69.19,
          70.3,
          71.39,
          72.49,
          73.57,
          74.65,
          75.74,
          76.82,
          77.89,
          78.97,
          80.04,
          81.12,
          82.2,
          83.27,
          84.35,
          85.45,
          86.52,
          87.6,
          88.67,
          89.74,
          90.81,
          91.88,
          92.95,
          94.03,
          95.1,
          96.18,
          97.25,
          98.32,
          99.39,
          100.46,
          101.52,
          102.56,
          103.61,
          104.66,
          105.7,
          106.74,
          107.79,
          108.82,
          109.86,
          110.89,
          111.93,
          112.96,
          114,
          115.03,
          116.07,
          117.1,
          118.13,
          119.16,
          120.19,
          121.22,
          122.25,
          123.31,
          124.35,
          125.38,
          126.42,
          127.47,
          128.51,
          129.56,
          130.63,
          131.68,
          132.73,
          133.77,
          134.81,
          135.89,
          136.94,
          137.97,
          139.01,
          140.04,
          141.08,
          142.12,
          143.17,
          144.22,
          145.28,
          146.32,
          147.36,
          148.4,
          149.44,
          150.48,
          151.55,
          152.61,
          153.68,
          154.74,
          155.79,
          156.86,
          157.92,
          158.97,
          160.01,
          161.06,
          162.1,
          163.15,
          164.19,
          165.24,
          166.28,
          167.33,
          168.37,
          169.42,
          170.47,
          171.51,
          172.56,
          173.59,
          174.62,
          175.66,
          176.7,
          177.74,
          178.78,
          179.82,
          180.86,
          181.9,
          182.94,
          183.98,
          185.03,
          186.07,
          187.11,
          188.16,
          189.2,
          190.25,
          191.31,
          192.36,
          193.41,
          194.43,
          195.45,
          196.47,
          197.5,
          198.52,
          199.55,
          200.57,
          201.6,
          202.63,
          203.66,
          204.69,
          205.72,
          206.75,
          207.78,
          208.79,
          209.81,
          210.82,
          211.84,
          212.85,
          213.87,
          214.89,
          215.91,
          216.92,
          217.94,
          218.96,
          219.98,
          221,
          222.03,
          223.05,
          224.08,
          225.1,
          226.12,
          227.15,
          228.17,
          229.2,
          230.22,
          231.25,
          232.28,
          233.31,
          234.34,
          235.38,
          236.41,
          237.45,
          238.49,
          239.52,
          240.56,
          241.6,
          242.64,
          243.68,
          244.72,
          245.75,
          246.79,
          247.83,
          248.87,
          249.92,
          250.96,
          252.01,
          253.06,
          254.1,
          255.15,
          256.19,
          257.23,
          258.27,
          259.3,
          260.33,
          261.37,
          262.41,
          263.44,
          264.48,
          265.52,
          266.56,
          267.6,
          268.65,
          269.69,
          270.73,
          271.78,
          272.83,
          273.88,
          274.91,
          275.96,
          277.03,
          278.09,
          279.14,
          280.19,
          281.24,
          282.28,
          283.32,
          284.36,
          285.4,
          286.44,
          287.48,
          288.52
         ],
         "y": [
          1,
          1,
          1,
          1,
          1,
          1,
          1,
          1,
          1,
          1,
          1,
          1,
          1,
          1,
          1,
          1,
          1,
          1,
          1,
          0.2735667564447865,
          0.29049634474798003,
          0.23355136590996547,
          0.2431704501731435,
          0.20161600615621403,
          0.1939207387456715,
          0.19276644863409015,
          0.20238553289726818,
          0.2212389380530974,
          0.23316660253943827,
          0.2354751827626011,
          0.24047710657945373,
          0.23970757983839944,
          0.2439399769141978,
          0.24547903039630634,
          0.247402847248942,
          0.2416313966910351,
          0.23355136590996547,
          0.23432089265101963,
          0.22547133512889575,
          0.232397075798384,
          0.2243170450173144,
          0.23162754905732985,
          0.23085802231627556,
          0.22854944209311276,
          0.22893420546363993,
          0.22931896883416703,
          0.20969603693728364,
          0.2300884955752213,
          0.2385532897268181,
          0.23662947287418246,
          0.24047710657945373,
          0.2381685263562909,
          0.24470950365525207,
          0.2431704501731435,
          0.2439399769141978,
          0.2435552135436707,
          0.26548672566371695,
          0.26163909195844565,
          0.262793382070027,
          0.2685648326279339,
          0.2735667564447865,
          0.275105809926895,
          0.29049634474798003,
          0.31358214697960757,
          0.3131973836090805,
          0.3166602539438246,
          0.25894574836475576,
          0.2554828780300116,
          0.2574066948826472,
          0.25625240477106587,
          0.247402847248942,
          0.26163909195844565,
          0.2651019622931897,
          0.2520200076952675,
          0.2574066948826472,
          0.2666410157752983,
          0.23085802231627556,
          0.2500961908426319,
          0.26394767218160836,
          0.24432474028472498,
          0.2520200076952675,
          0.2535590611773759,
          0.27626010003847645,
          0.2854944209311274,
          0.28703347441323596,
          0.2958830319353598,
          0.29511350519430557,
          0.30050019238168535,
          0.3051173528280108,
          0.2908811081185072,
          0.2924201616006156,
          0.29472874182377845,
          0.27279722970373227,
          0.2777991535205849,
          0.2828010773374375,
          0.27856868026163917,
          0.25125048095421326,
          0.25971527510581005,
          0.24778761061946905,
          0.22854944209311276,
          0.24278568680261645,
          0.25317429780684886,
          0.24971142747210467,
          0.26471719892266266,
          0.2631781454405541,
          0.2666410157752983,
          0.2651019622931897,
          0.2743362831858408,
          0.2777991535205849,
          0.2327818391689112,
          0.22854944209311276,
          0.23739899961523675,
          0.23739899961523675,
          0.20969603693728364,
          0.20623316660253946,
          0.1935359753751443,
          0.18930357829934596,
          0.19084263178145452,
          0.18545594459407472,
          0.15082724124663335,
          0.17083493651404394,
          0.15929203539823014,
          0.13774528664871113,
          0.15313582146979618,
          0.15121200461716056,
          0.1716044632550982,
          0.1827626010003848,
          0.13081954597922288,
          0.13081954597922288,
          0.12581762216237016,
          0.11273566756444793,
          0.13158907272027706,
          0.14082339361292812,
          0.13813005001923823,
          0.13966910350134676,
          0.14351673720661803,
          0.15121200461716056,
          0.15929203539823014,
          0.15967679876875723,
          0.16313966910350142,
          0.14851866102347064,
          0.14890342439399773,
          0.1608310888803387,
          0.16275490573297433,
          0.16929588303193538,
          0.174297806848788,
          0.1746825702193152,
          0.15275105809926898,
          0.1523662947287419,
          0.13966910350134676,
          0.13351288957291269,
          0.12928049249711435,
          0.14544055405925366,
          0.14313197383609083,
          0.13813005001923823,
          0.14082339361292812,
          0.1277414390150058,
          0.15275105809926898,
          0.13736052327818393,
          0.1385148133897654,
          0.16852635629088122,
          0.15352058484032327,
          0.1800692574066949,
          0.1885340515582917,
          0.20161600615621403,
          0.20200076952674112,
          0.20546363986148528,
          0.18968834166987306,
          0.1912273951519816,
          0.20084647941515976,
          0.20277029626779539,
          0.21739130434782616,
          0.21739130434782616,
          0.15698345517506743,
          0.15429011158137754,
          0.16237014236244715,
          0.16429395921508277,
          0.19161215852250868,
          0.19315121200461724,
          0.19545979222777995,
          0.19815313582146984,
          0.07849172758753377,
          0.08695652173913046,
          0.08233936129280503,
          0.08618699499807629,
          0.09080415544440172,
          0.10003847633705279,
          0.08657175836860338,
          0.10465563678337833,
          0.10734898037706812,
          0.10888803385917667,
          0.11465948441708357,
          0.11196614082339366,
          0.11504424778761065,
          0.07849172758753377,
          0.08695652173913046,
          0.08926510196229329,
          0.09580607926125445,
          0.09580607926125445,
          0.08156983455175076,
          0.08272412466333212,
          0.08272412466333212,
          0.08541746825702203,
          0.09772989611389007,
          0.1081185071181224,
          0.1081185071181224,
          0.07926125432858794,
          0.09542131589072726,
          0.09272797229703736,
          0.09003462870334755,
          0.05809926894959611,
          0.05848403232012319,
          0.05040400153905359,
          0.04886494805694504,
          0.05040400153905359,
          0.09696036937283581,
          0.09542131589072726,
          0.10003847633705279,
          0.07464409388226251,
          0.0750288572527896,
          0.09503655252020017,
          0.08426317814544067,
          0.12120046171604473,
          0.11312043093497502,
          0.12427856868026171,
          0.12543285879184307,
          0.12389380530973453,
          0.12350904193920745,
          0.12350904193920745,
          0.12312427856868036,
          0.12427856868026171,
          0.11696806464024628,
          0.1304347826086957,
          0.12158522508657181,
          0.1192766448634091,
          0.11696806464024628,
          0.09542131589072726,
          0.09503655252020017,
          0.0942670257791459,
          0.09311273566756455,
          0.09734513274336289,
          0.09696036937283581,
          0.05425163524432485,
          0.08695652173913046,
          0.07887649095806086,
          0.07887649095806086,
          0.063870719507503,
          0.058868795690650275,
          0.0692574066948827,
          0.07002693343593698,
          0.06540977298961144,
          0.07041169680646406,
          0.05040400153905359,
          0.06271642939592154,
          0.06425548287803008,
          0.0750288572527896,
          0.06540977298961144,
          0.06233166602539445,
          0.033474413235860104,
          0.03809157368218553,
          0.027318199307425912,
          0.03462870334744135,
          0.021931512120046317,
          0.020007695267410686,
          0.004617160446325642,
          0.01000384763370545,
          0,
          0.012697191227395248,
          0.01769911504424776,
          0.023085802231627567,
          0.023085802231627567,
          0.0015390534821085472,
          0.00808003078106982
         ]
        },
        {
         "mode": "lines+markers",
         "name": "avrg_dl_datarate",
         "type": "scatter",
         "x": [
          1.14,
          2.22,
          3.3,
          4.4,
          5.48,
          6.56,
          7.64,
          8.72,
          9.8,
          10.87,
          11.96,
          13.06,
          14.15,
          15.22,
          16.3,
          17.38,
          18.48,
          19.56,
          20.65,
          21.86,
          22.98,
          24.11,
          25.22,
          26.33,
          27.43,
          28.53,
          29.63,
          30.74,
          31.84,
          32.96,
          34.06,
          35.17,
          36.29,
          37.39,
          38.5,
          39.61,
          40.71,
          41.81,
          42.9,
          44.01,
          45.11,
          46.24,
          47.34,
          48.43,
          49.52,
          50.63,
          51.74,
          52.84,
          53.93,
          55.02,
          56.11,
          57.2,
          58.29,
          59.37,
          60.46,
          61.55,
          62.64,
          63.73,
          64.82,
          65.91,
          67,
          68.09,
          69.19,
          70.3,
          71.39,
          72.49,
          73.57,
          74.65,
          75.74,
          76.82,
          77.89,
          78.97,
          80.04,
          81.12,
          82.2,
          83.27,
          84.35,
          85.45,
          86.52,
          87.6,
          88.67,
          89.74,
          90.81,
          91.88,
          92.95,
          94.03,
          95.1,
          96.18,
          97.25,
          98.32,
          99.39,
          100.46,
          101.52,
          102.56,
          103.61,
          104.66,
          105.7,
          106.74,
          107.79,
          108.82,
          109.86,
          110.89,
          111.93,
          112.96,
          114,
          115.03,
          116.07,
          117.1,
          118.13,
          119.16,
          120.19,
          121.22,
          122.25,
          123.31,
          124.35,
          125.38,
          126.42,
          127.47,
          128.51,
          129.56,
          130.63,
          131.68,
          132.73,
          133.77,
          134.81,
          135.89,
          136.94,
          137.97,
          139.01,
          140.04,
          141.08,
          142.12,
          143.17,
          144.22,
          145.28,
          146.32,
          147.36,
          148.4,
          149.44,
          150.48,
          151.55,
          152.61,
          153.68,
          154.74,
          155.79,
          156.86,
          157.92,
          158.97,
          160.01,
          161.06,
          162.1,
          163.15,
          164.19,
          165.24,
          166.28,
          167.33,
          168.37,
          169.42,
          170.47,
          171.51,
          172.56,
          173.59,
          174.62,
          175.66,
          176.7,
          177.74,
          178.78,
          179.82,
          180.86,
          181.9,
          182.94,
          183.98,
          185.03,
          186.07,
          187.11,
          188.16,
          189.2,
          190.25,
          191.31,
          192.36,
          193.41,
          194.43,
          195.45,
          196.47,
          197.5,
          198.52,
          199.55,
          200.57,
          201.6,
          202.63,
          203.66,
          204.69,
          205.72,
          206.75,
          207.78,
          208.79,
          209.81,
          210.82,
          211.84,
          212.85,
          213.87,
          214.89,
          215.91,
          216.92,
          217.94,
          218.96,
          219.98,
          221,
          222.03,
          223.05,
          224.08,
          225.1,
          226.12,
          227.15,
          228.17,
          229.2,
          230.22,
          231.25,
          232.28,
          233.31,
          234.34,
          235.38,
          236.41,
          237.45,
          238.49,
          239.52,
          240.56,
          241.6,
          242.64,
          243.68,
          244.72,
          245.75,
          246.79,
          247.83,
          248.87,
          249.92,
          250.96,
          252.01,
          253.06,
          254.1,
          255.15,
          256.19,
          257.23,
          258.27,
          259.3,
          260.33,
          261.37,
          262.41,
          263.44,
          264.48,
          265.52,
          266.56,
          267.6,
          268.65,
          269.69,
          270.73,
          271.78,
          272.83,
          273.88,
          274.91,
          275.96,
          277.03,
          278.09,
          279.14,
          280.19,
          281.24,
          282.28,
          283.32,
          284.36,
          285.4,
          286.44,
          287.48,
          288.52
         ],
         "y": [
          1,
          1,
          1,
          1,
          1,
          1,
          1,
          1,
          1,
          1,
          1,
          1,
          1,
          1,
          1,
          1,
          1,
          1,
          1,
          0.21722099565558006,
          0.23545331529093372,
          0.18851933622961325,
          0.18054269638914597,
          0.14714051705718958,
          0.13880777722384435,
          0.13795313724093725,
          0.15198347696033035,
          0.16081475678370488,
          0.17007335659853282,
          0.168791396624172,
          0.18132611637347765,
          0.17705291645894164,
          0.17783633644327315,
          0.17242361655152766,
          0.17826365643472686,
          0.16109963677800723,
          0.15219713695605727,
          0.152766896944662,
          0.14329463713410714,
          0.15447617691047638,
          0.14172779716544395,
          0.14628587707428234,
          0.14892101702157956,
          0.14286731714265358,
          0.14329463713410714,
          0.14756783704864315,
          0.1254896374902072,
          0.15191225696175475,
          0.16117085677658283,
          0.15924791681504152,
          0.16701089665978203,
          0.16095719678085607,
          0.16779431664411354,
          0.1665123566697529,
          0.1672245566555088,
          0.16672601666547965,
          0.1977067160458656,
          0.19364717612705634,
          0.19500035609999278,
          0.20148137597037244,
          0.20319065593618682,
          0.20497115590057677,
          0.2219927355601452,
          0.24727583505448328,
          0.2436436151271276,
          0.25040951499180963,
          0.18346271633074557,
          0.19763549604729,
          0.1960686560786268,
          0.19841891603162165,
          0.1888042162239156,
          0.20433017591339644,
          0.20789117584217637,
          0.1937896161242077,
          0.1996296560074069,
          0.21316145573677084,
          0.17099921658001566,
          0.199059896018802,
          0.1997720960045581,
          0.19984331600313365,
          0.21173705576525884,
          0.2133751157324976,
          0.24093725518125478,
          0.25040951499180963,
          0.2485577950288441,
          0.25482515490349683,
          0.2536856349262872,
          0.2593832348123352,
          0.26451107470977847,
          0.2527597749448045,
          0.25411295491774094,
          0.25674809486503797,
          0.18851933622961325,
          0.19407449611851008,
          0.1995584360088313,
          0.2053272558934549,
          0.18958763620824728,
          0.19877501602449962,
          0.19656719606865594,
          0.1722811765543765,
          0.1875222562495548,
          0.2024072359518553,
          0.20233601595327955,
          0.21793319564133598,
          0.21658001566839957,
          0.22035467559290642,
          0.2149419557011608,
          0.21437219571255606,
          0.2182892956342141,
          0.18032903639341918,
          0.17598461648030758,
          0.17448899651022,
          0.17434655651306882,
          0.18987251620254966,
          0.1902286161954276,
          0.18859055622818882,
          0.18424613631507725,
          0.1860266362794672,
          0.18047147639057037,
          0.14151413716971717,
          0.161669396766612,
          0.14628587707428234,
          0.12435011751299756,
          0.14001851719962957,
          0.13781069724378606,
          0.15483227690335435,
          0.15447617691047638,
          0.1298340574033188,
          0.11309735773805273,
          0.1080407378391852,
          0.09052061818958763,
          0.11380955772380881,
          0.12727013745459717,
          0.12449255751014875,
          0.1262018374759631,
          0.13004771739904558,
          0.13773947724521032,
          0.14592977708140437,
          0.14635709707285793,
          0.1498468770030624,
          0.13517555729648884,
          0.135674097286518,
          0.155615696887686,
          0.15746741685065158,
          0.16807919663841606,
          0.173064596538708,
          0.17370557652588847,
          0.15155615696887678,
          0.15112883697742324,
          0.13439213731215716,
          0.12819599743608,
          0.1239940175201196,
          0.13218431735631364,
          0.12954917740901642,
          0.12463499750729994,
          0.12748379745032393,
          0.11815397763692041,
          0.13966241720675163,
          0.123922797521544,
          0.12506231749875366,
          0.11964959760700801,
          0.10376753792464921,
          0.13204187735916248,
          0.14115803717683922,
          0.15105761697884765,
          0.15134249697315,
          0.15533081689338366,
          0.13467701730645953,
          0.13617263727654713,
          0.15034541699309156,
          0.15233957695320846,
          0.16031621679367558,
          0.1601737767965244,
          0.09137525817249474,
          0.0888113382237731,
          0.09742895805142071,
          0.0994943380101132,
          0.13246919735061602,
          0.134249697315006,
          0.13688483726230322,
          0.13588775728224475,
          0.09479381810412364,
          0.09002207819955833,
          0.09415283811694315,
          0.0979987180400256,
          0.10262801794743957,
          0.11174417776511632,
          0.08532155829356877,
          0.09059183818816323,
          0.09329819813403605,
          0.09486503810269924,
          0.10077629798447402,
          0.09785627804287442,
          0.10127483797450317,
          0.09472259810554805,
          0.09892457802150831,
          0.10127483797450317,
          0.10739975785200473,
          0.10761341784773167,
          0.09351185812976283,
          0.0946513781069723,
          0.0946513781069723,
          0.09742895805142071,
          0.10946513781069721,
          0.11950715760985682,
          0.11986325760273478,
          0.09123281817534355,
          0.10711487785770235,
          0.10440851791182953,
          0.1018445979631079,
          0.07022291859554149,
          0.06609215867815682,
          0.06701801865963952,
          0.0658072786838543,
          0.0672316786553663,
          0.10013531799729353,
          0.09842603803147916,
          0.10298411794031753,
          0.06032333879353323,
          0.060608218787835594,
          0.080834698383306,
          0.07008047859839031,
          0.09500747809985041,
          0.08638985827220282,
          0.09792749804145001,
          0.09920945801581083,
          0.09764261804714765,
          0.09721529805569394,
          0.09721529805569394,
          0.09678797806424039,
          0.10348265793034683,
          0.09586211808275752,
          0.12634427747311447,
          0.11751299764973992,
          0.11509151769816962,
          0.11281247774375036,
          0.10426607791467835,
          0.10383875792322479,
          0.10284167794316634,
          0.0975001780499963,
          0.10590413788191713,
          0.10576169788476594,
          0.07684637846307235,
          0.08275763834484713,
          0.0744248985115019,
          0.06865607862687831,
          0.049284239014315175,
          0.0441563991168719,
          0.0547681789046364,
          0.055337938893241144,
          0.05092229898155395,
          0.055836478883270285,
          0.03546755929064871,
          0.048002279039954354,
          0.04971155900576873,
          0.06039455879210882,
          0.06416921871661552,
          0.06103553877928915,
          0.04137881917242349,
          0.05063741898725158,
          0.04002563919948708,
          0.0470764190584715,
          0.03454169930916601,
          0.032761199344775886,
          0.01759133964817317,
          0.02271917954561628,
          0.012962039740759202,
          0.025639199487215877,
          0.03055337938893237,
          0.03582365928352683,
          0.035752439284951074,
          0,
          0.006552239868955114
         ]
        }
       ],
       "layout": {
        "legend": {
         "title": {
          "text": "dataset"
         }
        },
        "template": {
         "data": {
          "bar": [
           {
            "error_x": {
             "color": "#2a3f5f"
            },
            "error_y": {
             "color": "#2a3f5f"
            },
            "marker": {
             "line": {
              "color": "#E5ECF6",
              "width": 0.5
             },
             "pattern": {
              "fillmode": "overlay",
              "size": 10,
              "solidity": 0.2
             }
            },
            "type": "bar"
           }
          ],
          "barpolar": [
           {
            "marker": {
             "line": {
              "color": "#E5ECF6",
              "width": 0.5
             },
             "pattern": {
              "fillmode": "overlay",
              "size": 10,
              "solidity": 0.2
             }
            },
            "type": "barpolar"
           }
          ],
          "carpet": [
           {
            "aaxis": {
             "endlinecolor": "#2a3f5f",
             "gridcolor": "white",
             "linecolor": "white",
             "minorgridcolor": "white",
             "startlinecolor": "#2a3f5f"
            },
            "baxis": {
             "endlinecolor": "#2a3f5f",
             "gridcolor": "white",
             "linecolor": "white",
             "minorgridcolor": "white",
             "startlinecolor": "#2a3f5f"
            },
            "type": "carpet"
           }
          ],
          "choropleth": [
           {
            "colorbar": {
             "outlinewidth": 0,
             "ticks": ""
            },
            "type": "choropleth"
           }
          ],
          "contour": [
           {
            "colorbar": {
             "outlinewidth": 0,
             "ticks": ""
            },
            "colorscale": [
             [
              0,
              "#0d0887"
             ],
             [
              0.1111111111111111,
              "#46039f"
             ],
             [
              0.2222222222222222,
              "#7201a8"
             ],
             [
              0.3333333333333333,
              "#9c179e"
             ],
             [
              0.4444444444444444,
              "#bd3786"
             ],
             [
              0.5555555555555556,
              "#d8576b"
             ],
             [
              0.6666666666666666,
              "#ed7953"
             ],
             [
              0.7777777777777778,
              "#fb9f3a"
             ],
             [
              0.8888888888888888,
              "#fdca26"
             ],
             [
              1,
              "#f0f921"
             ]
            ],
            "type": "contour"
           }
          ],
          "contourcarpet": [
           {
            "colorbar": {
             "outlinewidth": 0,
             "ticks": ""
            },
            "type": "contourcarpet"
           }
          ],
          "heatmap": [
           {
            "colorbar": {
             "outlinewidth": 0,
             "ticks": ""
            },
            "colorscale": [
             [
              0,
              "#0d0887"
             ],
             [
              0.1111111111111111,
              "#46039f"
             ],
             [
              0.2222222222222222,
              "#7201a8"
             ],
             [
              0.3333333333333333,
              "#9c179e"
             ],
             [
              0.4444444444444444,
              "#bd3786"
             ],
             [
              0.5555555555555556,
              "#d8576b"
             ],
             [
              0.6666666666666666,
              "#ed7953"
             ],
             [
              0.7777777777777778,
              "#fb9f3a"
             ],
             [
              0.8888888888888888,
              "#fdca26"
             ],
             [
              1,
              "#f0f921"
             ]
            ],
            "type": "heatmap"
           }
          ],
          "heatmapgl": [
           {
            "colorbar": {
             "outlinewidth": 0,
             "ticks": ""
            },
            "colorscale": [
             [
              0,
              "#0d0887"
             ],
             [
              0.1111111111111111,
              "#46039f"
             ],
             [
              0.2222222222222222,
              "#7201a8"
             ],
             [
              0.3333333333333333,
              "#9c179e"
             ],
             [
              0.4444444444444444,
              "#bd3786"
             ],
             [
              0.5555555555555556,
              "#d8576b"
             ],
             [
              0.6666666666666666,
              "#ed7953"
             ],
             [
              0.7777777777777778,
              "#fb9f3a"
             ],
             [
              0.8888888888888888,
              "#fdca26"
             ],
             [
              1,
              "#f0f921"
             ]
            ],
            "type": "heatmapgl"
           }
          ],
          "histogram": [
           {
            "marker": {
             "pattern": {
              "fillmode": "overlay",
              "size": 10,
              "solidity": 0.2
             }
            },
            "type": "histogram"
           }
          ],
          "histogram2d": [
           {
            "colorbar": {
             "outlinewidth": 0,
             "ticks": ""
            },
            "colorscale": [
             [
              0,
              "#0d0887"
             ],
             [
              0.1111111111111111,
              "#46039f"
             ],
             [
              0.2222222222222222,
              "#7201a8"
             ],
             [
              0.3333333333333333,
              "#9c179e"
             ],
             [
              0.4444444444444444,
              "#bd3786"
             ],
             [
              0.5555555555555556,
              "#d8576b"
             ],
             [
              0.6666666666666666,
              "#ed7953"
             ],
             [
              0.7777777777777778,
              "#fb9f3a"
             ],
             [
              0.8888888888888888,
              "#fdca26"
             ],
             [
              1,
              "#f0f921"
             ]
            ],
            "type": "histogram2d"
           }
          ],
          "histogram2dcontour": [
           {
            "colorbar": {
             "outlinewidth": 0,
             "ticks": ""
            },
            "colorscale": [
             [
              0,
              "#0d0887"
             ],
             [
              0.1111111111111111,
              "#46039f"
             ],
             [
              0.2222222222222222,
              "#7201a8"
             ],
             [
              0.3333333333333333,
              "#9c179e"
             ],
             [
              0.4444444444444444,
              "#bd3786"
             ],
             [
              0.5555555555555556,
              "#d8576b"
             ],
             [
              0.6666666666666666,
              "#ed7953"
             ],
             [
              0.7777777777777778,
              "#fb9f3a"
             ],
             [
              0.8888888888888888,
              "#fdca26"
             ],
             [
              1,
              "#f0f921"
             ]
            ],
            "type": "histogram2dcontour"
           }
          ],
          "mesh3d": [
           {
            "colorbar": {
             "outlinewidth": 0,
             "ticks": ""
            },
            "type": "mesh3d"
           }
          ],
          "parcoords": [
           {
            "line": {
             "colorbar": {
              "outlinewidth": 0,
              "ticks": ""
             }
            },
            "type": "parcoords"
           }
          ],
          "pie": [
           {
            "automargin": true,
            "type": "pie"
           }
          ],
          "scatter": [
           {
            "fillpattern": {
             "fillmode": "overlay",
             "size": 10,
             "solidity": 0.2
            },
            "type": "scatter"
           }
          ],
          "scatter3d": [
           {
            "line": {
             "colorbar": {
              "outlinewidth": 0,
              "ticks": ""
             }
            },
            "marker": {
             "colorbar": {
              "outlinewidth": 0,
              "ticks": ""
             }
            },
            "type": "scatter3d"
           }
          ],
          "scattercarpet": [
           {
            "marker": {
             "colorbar": {
              "outlinewidth": 0,
              "ticks": ""
             }
            },
            "type": "scattercarpet"
           }
          ],
          "scattergeo": [
           {
            "marker": {
             "colorbar": {
              "outlinewidth": 0,
              "ticks": ""
             }
            },
            "type": "scattergeo"
           }
          ],
          "scattergl": [
           {
            "marker": {
             "colorbar": {
              "outlinewidth": 0,
              "ticks": ""
             }
            },
            "type": "scattergl"
           }
          ],
          "scattermapbox": [
           {
            "marker": {
             "colorbar": {
              "outlinewidth": 0,
              "ticks": ""
             }
            },
            "type": "scattermapbox"
           }
          ],
          "scatterpolar": [
           {
            "marker": {
             "colorbar": {
              "outlinewidth": 0,
              "ticks": ""
             }
            },
            "type": "scatterpolar"
           }
          ],
          "scatterpolargl": [
           {
            "marker": {
             "colorbar": {
              "outlinewidth": 0,
              "ticks": ""
             }
            },
            "type": "scatterpolargl"
           }
          ],
          "scatterternary": [
           {
            "marker": {
             "colorbar": {
              "outlinewidth": 0,
              "ticks": ""
             }
            },
            "type": "scatterternary"
           }
          ],
          "surface": [
           {
            "colorbar": {
             "outlinewidth": 0,
             "ticks": ""
            },
            "colorscale": [
             [
              0,
              "#0d0887"
             ],
             [
              0.1111111111111111,
              "#46039f"
             ],
             [
              0.2222222222222222,
              "#7201a8"
             ],
             [
              0.3333333333333333,
              "#9c179e"
             ],
             [
              0.4444444444444444,
              "#bd3786"
             ],
             [
              0.5555555555555556,
              "#d8576b"
             ],
             [
              0.6666666666666666,
              "#ed7953"
             ],
             [
              0.7777777777777778,
              "#fb9f3a"
             ],
             [
              0.8888888888888888,
              "#fdca26"
             ],
             [
              1,
              "#f0f921"
             ]
            ],
            "type": "surface"
           }
          ],
          "table": [
           {
            "cells": {
             "fill": {
              "color": "#EBF0F8"
             },
             "line": {
              "color": "white"
             }
            },
            "header": {
             "fill": {
              "color": "#C8D4E3"
             },
             "line": {
              "color": "white"
             }
            },
            "type": "table"
           }
          ]
         },
         "layout": {
          "annotationdefaults": {
           "arrowcolor": "#2a3f5f",
           "arrowhead": 0,
           "arrowwidth": 1
          },
          "autotypenumbers": "strict",
          "coloraxis": {
           "colorbar": {
            "outlinewidth": 0,
            "ticks": ""
           }
          },
          "colorscale": {
           "diverging": [
            [
             0,
             "#8e0152"
            ],
            [
             0.1,
             "#c51b7d"
            ],
            [
             0.2,
             "#de77ae"
            ],
            [
             0.3,
             "#f1b6da"
            ],
            [
             0.4,
             "#fde0ef"
            ],
            [
             0.5,
             "#f7f7f7"
            ],
            [
             0.6,
             "#e6f5d0"
            ],
            [
             0.7,
             "#b8e186"
            ],
            [
             0.8,
             "#7fbc41"
            ],
            [
             0.9,
             "#4d9221"
            ],
            [
             1,
             "#276419"
            ]
           ],
           "sequential": [
            [
             0,
             "#0d0887"
            ],
            [
             0.1111111111111111,
             "#46039f"
            ],
            [
             0.2222222222222222,
             "#7201a8"
            ],
            [
             0.3333333333333333,
             "#9c179e"
            ],
            [
             0.4444444444444444,
             "#bd3786"
            ],
            [
             0.5555555555555556,
             "#d8576b"
            ],
            [
             0.6666666666666666,
             "#ed7953"
            ],
            [
             0.7777777777777778,
             "#fb9f3a"
            ],
            [
             0.8888888888888888,
             "#fdca26"
            ],
            [
             1,
             "#f0f921"
            ]
           ],
           "sequentialminus": [
            [
             0,
             "#0d0887"
            ],
            [
             0.1111111111111111,
             "#46039f"
            ],
            [
             0.2222222222222222,
             "#7201a8"
            ],
            [
             0.3333333333333333,
             "#9c179e"
            ],
            [
             0.4444444444444444,
             "#bd3786"
            ],
            [
             0.5555555555555556,
             "#d8576b"
            ],
            [
             0.6666666666666666,
             "#ed7953"
            ],
            [
             0.7777777777777778,
             "#fb9f3a"
            ],
            [
             0.8888888888888888,
             "#fdca26"
            ],
            [
             1,
             "#f0f921"
            ]
           ]
          },
          "colorway": [
           "#636efa",
           "#EF553B",
           "#00cc96",
           "#ab63fa",
           "#FFA15A",
           "#19d3f3",
           "#FF6692",
           "#B6E880",
           "#FF97FF",
           "#FECB52"
          ],
          "font": {
           "color": "#2a3f5f"
          },
          "geo": {
           "bgcolor": "white",
           "lakecolor": "white",
           "landcolor": "#E5ECF6",
           "showlakes": true,
           "showland": true,
           "subunitcolor": "white"
          },
          "hoverlabel": {
           "align": "left"
          },
          "hovermode": "closest",
          "mapbox": {
           "style": "light"
          },
          "paper_bgcolor": "white",
          "plot_bgcolor": "#E5ECF6",
          "polar": {
           "angularaxis": {
            "gridcolor": "white",
            "linecolor": "white",
            "ticks": ""
           },
           "bgcolor": "#E5ECF6",
           "radialaxis": {
            "gridcolor": "white",
            "linecolor": "white",
            "ticks": ""
           }
          },
          "scene": {
           "xaxis": {
            "backgroundcolor": "#E5ECF6",
            "gridcolor": "white",
            "gridwidth": 2,
            "linecolor": "white",
            "showbackground": true,
            "ticks": "",
            "zerolinecolor": "white"
           },
           "yaxis": {
            "backgroundcolor": "#E5ECF6",
            "gridcolor": "white",
            "gridwidth": 2,
            "linecolor": "white",
            "showbackground": true,
            "ticks": "",
            "zerolinecolor": "white"
           },
           "zaxis": {
            "backgroundcolor": "#E5ECF6",
            "gridcolor": "white",
            "gridwidth": 2,
            "linecolor": "white",
            "showbackground": true,
            "ticks": "",
            "zerolinecolor": "white"
           }
          },
          "shapedefaults": {
           "line": {
            "color": "#2a3f5f"
           }
          },
          "ternary": {
           "aaxis": {
            "gridcolor": "white",
            "linecolor": "white",
            "ticks": ""
           },
           "baxis": {
            "gridcolor": "white",
            "linecolor": "white",
            "ticks": ""
           },
           "bgcolor": "#E5ECF6",
           "caxis": {
            "gridcolor": "white",
            "linecolor": "white",
            "ticks": ""
           }
          },
          "title": {
           "x": 0.05
          },
          "xaxis": {
           "automargin": true,
           "gridcolor": "white",
           "linecolor": "white",
           "ticks": "",
           "title": {
            "standoff": 15
           },
           "zerolinecolor": "white",
           "zerolinewidth": 2
          },
          "yaxis": {
           "automargin": true,
           "gridcolor": "white",
           "linecolor": "white",
           "ticks": "",
           "title": {
            "standoff": 15
           },
           "zerolinecolor": "white",
           "zerolinewidth": 2
          }
         }
        },
        "title": {
         "text": "normalized objectives"
        },
        "xaxis": {
         "title": {
          "text": "time in s"
         }
        },
        "yaxis": {
         "title": {
          "text": "inverted normalized objectives"
         }
        }
       }
      }
     },
     "metadata": {},
     "output_type": "display_data"
    }
   ],
   "source": [
    "\n",
    "network_name = \"hetNet\"\n",
    "configuration_name =\"algorithm_config_1LIVE\"\n",
    "results_directory = \"./datastore/{network_name}/{configuration_name}/\".format(network_name=network_name, configuration_name= configuration_name)\n",
    "objective_np_array = np.array([])\n",
    "with open(results_directory + \"/objectives_result.json\", mode=\"r\",encoding=\"utf-8\") as openfile:\n",
    "    result_dict_object = json.load(openfile)\n",
    "    objective_np_array = np.array(result_dict_object)\n",
    "    objective_np_array[:, 1:] *= -1\n",
    "\n",
    "\n",
    "\n",
    "approx_ideal = objective_np_array[:, 1:].min(axis=0)\n",
    "approx_nadir  = objective_np_array[:, 1:].max(axis=0)\n",
    "\n",
    "normalized_solutions_list = np.array((objective_np_array[:, 1:] - approx_ideal) / (approx_nadir - approx_ideal))\n",
    "\n",
    "hv = Hypervolume(ref_point=np.array([1.1, 1.1]),\n",
    "                     norm_ref_point=False,\n",
    "                     zero_to_one=False,\n",
    "                     ideal=approx_ideal,\n",
    "                     nadir=approx_nadir)\n",
    "\n",
    "hv_list = [hv(solution) for solution in normalized_solutions_list]\n",
    "\n",
    "\n",
    "fig4 = go.Figure()\n",
    "\n",
    "fig4.update_layout(\n",
    "    title=\"hypervolume\",\n",
    "    xaxis_title=\"time in s\",\n",
    "    yaxis_title=\"Hypervolume\",\n",
    "    legend_title=\"dataset\")\n",
    "fig4.add_trace(\n",
    "        go.Scatter(\n",
    "            x=objective_np_array[:, 0],\n",
    "            y=hv_list,\n",
    "            mode='lines+markers',\n",
    "        ))\n",
    "fig5 = go.Figure()\n",
    "\n",
    "fig5.update_layout(\n",
    "    title=\"normalized objectives\",\n",
    "    xaxis_title=\"energy_efficiency\",\n",
    "    yaxis_title=\"avg_dl_datarate\",\n",
    "    legend_title=\"dataset\")\n",
    "\n",
    "fig5.add_trace(\n",
    "        go.Scatter(\n",
    "            x=normalized_solutions_list[:, 0],\n",
    "            y=normalized_solutions_list[:, 1],\n",
    "            text=[str(elem) for elem in objective_np_array[:,0]],\n",
    "            mode='markers',\n",
    "        ))\n",
    "fig6 = go.Figure()\n",
    "\n",
    "fig6.update_layout(\n",
    "    title=\"normalized objectives\",\n",
    "    xaxis_title=\"time in s\",\n",
    "    yaxis_title=\"inverted normalized objectives\",\n",
    "    legend_title=\"dataset\")\n",
    "\n",
    "fig6.add_trace(\n",
    "        go.Scatter(\n",
    "            x=objective_np_array[:, 0],\n",
    "            y=normalized_solutions_list[:, 0],\n",
    "            name=\"energy_efficiency\",\n",
    "            mode='lines+markers',\n",
    "        ))\n",
    "fig6.add_trace(\n",
    "        go.Scatter(\n",
    "            x=objective_np_array[:, 0],\n",
    "            y=normalized_solutions_list[:, 1],\n",
    "            name=\"avrg_dl_datarate\",\n",
    "            mode='lines+markers',\n",
    "        ))\n",
    "\n",
    "fig4.show()\n",
    "fig5.show()\n",
    "fig6.show()"
   ]
  }
 ],
 "metadata": {
  "kernelspec": {
   "display_name": "Python 3 (ipykernel)",
   "language": "python",
   "name": "python3"
  },
  "language_info": {
   "codemirror_mode": {
    "name": "ipython",
    "version": 3
   },
   "file_extension": ".py",
   "mimetype": "text/x-python",
   "name": "python",
   "nbconvert_exporter": "python",
   "pygments_lexer": "ipython3",
   "version": "3.11.0"
  },
  "toc-autonumbering": true,
  "toc-showcode": false,
  "toc-showmarkdowntxt": true
 },
 "nbformat": 4,
 "nbformat_minor": 5
}
