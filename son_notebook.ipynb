{
 "cells": [
  {
   "cell_type": "code",
   "execution_count": 3,
   "id": "456d08ba-1532-4643-bfe8-20df19cbf8ba",
   "metadata": {},
   "outputs": [],
   "source": [
    "import son_main_script as soon\n",
    "import plotly.express as px\n",
    "import plotly.graph_objects as go\n",
    "import pandas as pd\n",
    "from pymoo.indicators.hv import Hypervolume\n",
    "import json\n",
    "import os\n",
    "import plotly.graph_objects as go\n",
    "import numpy as np"
   ]
  },
  {
   "cell_type": "code",
   "execution_count": 4,
   "id": "936b4445-0b1d-4049-9c5a-832d31ebf19d",
   "metadata": {},
   "outputs": [
    {
     "data": {
      "application/vnd.plotly.v1+json": {
       "config": {
        "plotlyServerURL": "https://plot.ly"
       },
       "data": [
        {
         "mode": "markers",
         "name": "algorithm_config_4STATIC",
         "type": "scatter",
         "x": [
          0,
          0.34598214285713985,
          1
         ],
         "y": [
          1,
          0.42857142857142844,
          0
         ]
        }
       ],
       "layout": {
        "legend": {
         "title": {
          "text": "configuration names"
         }
        },
        "template": {
         "data": {
          "bar": [
           {
            "error_x": {
             "color": "#2a3f5f"
            },
            "error_y": {
             "color": "#2a3f5f"
            },
            "marker": {
             "line": {
              "color": "#E5ECF6",
              "width": 0.5
             },
             "pattern": {
              "fillmode": "overlay",
              "size": 10,
              "solidity": 0.2
             }
            },
            "type": "bar"
           }
          ],
          "barpolar": [
           {
            "marker": {
             "line": {
              "color": "#E5ECF6",
              "width": 0.5
             },
             "pattern": {
              "fillmode": "overlay",
              "size": 10,
              "solidity": 0.2
             }
            },
            "type": "barpolar"
           }
          ],
          "carpet": [
           {
            "aaxis": {
             "endlinecolor": "#2a3f5f",
             "gridcolor": "white",
             "linecolor": "white",
             "minorgridcolor": "white",
             "startlinecolor": "#2a3f5f"
            },
            "baxis": {
             "endlinecolor": "#2a3f5f",
             "gridcolor": "white",
             "linecolor": "white",
             "minorgridcolor": "white",
             "startlinecolor": "#2a3f5f"
            },
            "type": "carpet"
           }
          ],
          "choropleth": [
           {
            "colorbar": {
             "outlinewidth": 0,
             "ticks": ""
            },
            "type": "choropleth"
           }
          ],
          "contour": [
           {
            "colorbar": {
             "outlinewidth": 0,
             "ticks": ""
            },
            "colorscale": [
             [
              0,
              "#0d0887"
             ],
             [
              0.1111111111111111,
              "#46039f"
             ],
             [
              0.2222222222222222,
              "#7201a8"
             ],
             [
              0.3333333333333333,
              "#9c179e"
             ],
             [
              0.4444444444444444,
              "#bd3786"
             ],
             [
              0.5555555555555556,
              "#d8576b"
             ],
             [
              0.6666666666666666,
              "#ed7953"
             ],
             [
              0.7777777777777778,
              "#fb9f3a"
             ],
             [
              0.8888888888888888,
              "#fdca26"
             ],
             [
              1,
              "#f0f921"
             ]
            ],
            "type": "contour"
           }
          ],
          "contourcarpet": [
           {
            "colorbar": {
             "outlinewidth": 0,
             "ticks": ""
            },
            "type": "contourcarpet"
           }
          ],
          "heatmap": [
           {
            "colorbar": {
             "outlinewidth": 0,
             "ticks": ""
            },
            "colorscale": [
             [
              0,
              "#0d0887"
             ],
             [
              0.1111111111111111,
              "#46039f"
             ],
             [
              0.2222222222222222,
              "#7201a8"
             ],
             [
              0.3333333333333333,
              "#9c179e"
             ],
             [
              0.4444444444444444,
              "#bd3786"
             ],
             [
              0.5555555555555556,
              "#d8576b"
             ],
             [
              0.6666666666666666,
              "#ed7953"
             ],
             [
              0.7777777777777778,
              "#fb9f3a"
             ],
             [
              0.8888888888888888,
              "#fdca26"
             ],
             [
              1,
              "#f0f921"
             ]
            ],
            "type": "heatmap"
           }
          ],
          "heatmapgl": [
           {
            "colorbar": {
             "outlinewidth": 0,
             "ticks": ""
            },
            "colorscale": [
             [
              0,
              "#0d0887"
             ],
             [
              0.1111111111111111,
              "#46039f"
             ],
             [
              0.2222222222222222,
              "#7201a8"
             ],
             [
              0.3333333333333333,
              "#9c179e"
             ],
             [
              0.4444444444444444,
              "#bd3786"
             ],
             [
              0.5555555555555556,
              "#d8576b"
             ],
             [
              0.6666666666666666,
              "#ed7953"
             ],
             [
              0.7777777777777778,
              "#fb9f3a"
             ],
             [
              0.8888888888888888,
              "#fdca26"
             ],
             [
              1,
              "#f0f921"
             ]
            ],
            "type": "heatmapgl"
           }
          ],
          "histogram": [
           {
            "marker": {
             "pattern": {
              "fillmode": "overlay",
              "size": 10,
              "solidity": 0.2
             }
            },
            "type": "histogram"
           }
          ],
          "histogram2d": [
           {
            "colorbar": {
             "outlinewidth": 0,
             "ticks": ""
            },
            "colorscale": [
             [
              0,
              "#0d0887"
             ],
             [
              0.1111111111111111,
              "#46039f"
             ],
             [
              0.2222222222222222,
              "#7201a8"
             ],
             [
              0.3333333333333333,
              "#9c179e"
             ],
             [
              0.4444444444444444,
              "#bd3786"
             ],
             [
              0.5555555555555556,
              "#d8576b"
             ],
             [
              0.6666666666666666,
              "#ed7953"
             ],
             [
              0.7777777777777778,
              "#fb9f3a"
             ],
             [
              0.8888888888888888,
              "#fdca26"
             ],
             [
              1,
              "#f0f921"
             ]
            ],
            "type": "histogram2d"
           }
          ],
          "histogram2dcontour": [
           {
            "colorbar": {
             "outlinewidth": 0,
             "ticks": ""
            },
            "colorscale": [
             [
              0,
              "#0d0887"
             ],
             [
              0.1111111111111111,
              "#46039f"
             ],
             [
              0.2222222222222222,
              "#7201a8"
             ],
             [
              0.3333333333333333,
              "#9c179e"
             ],
             [
              0.4444444444444444,
              "#bd3786"
             ],
             [
              0.5555555555555556,
              "#d8576b"
             ],
             [
              0.6666666666666666,
              "#ed7953"
             ],
             [
              0.7777777777777778,
              "#fb9f3a"
             ],
             [
              0.8888888888888888,
              "#fdca26"
             ],
             [
              1,
              "#f0f921"
             ]
            ],
            "type": "histogram2dcontour"
           }
          ],
          "mesh3d": [
           {
            "colorbar": {
             "outlinewidth": 0,
             "ticks": ""
            },
            "type": "mesh3d"
           }
          ],
          "parcoords": [
           {
            "line": {
             "colorbar": {
              "outlinewidth": 0,
              "ticks": ""
             }
            },
            "type": "parcoords"
           }
          ],
          "pie": [
           {
            "automargin": true,
            "type": "pie"
           }
          ],
          "scatter": [
           {
            "fillpattern": {
             "fillmode": "overlay",
             "size": 10,
             "solidity": 0.2
            },
            "type": "scatter"
           }
          ],
          "scatter3d": [
           {
            "line": {
             "colorbar": {
              "outlinewidth": 0,
              "ticks": ""
             }
            },
            "marker": {
             "colorbar": {
              "outlinewidth": 0,
              "ticks": ""
             }
            },
            "type": "scatter3d"
           }
          ],
          "scattercarpet": [
           {
            "marker": {
             "colorbar": {
              "outlinewidth": 0,
              "ticks": ""
             }
            },
            "type": "scattercarpet"
           }
          ],
          "scattergeo": [
           {
            "marker": {
             "colorbar": {
              "outlinewidth": 0,
              "ticks": ""
             }
            },
            "type": "scattergeo"
           }
          ],
          "scattergl": [
           {
            "marker": {
             "colorbar": {
              "outlinewidth": 0,
              "ticks": ""
             }
            },
            "type": "scattergl"
           }
          ],
          "scattermapbox": [
           {
            "marker": {
             "colorbar": {
              "outlinewidth": 0,
              "ticks": ""
             }
            },
            "type": "scattermapbox"
           }
          ],
          "scatterpolar": [
           {
            "marker": {
             "colorbar": {
              "outlinewidth": 0,
              "ticks": ""
             }
            },
            "type": "scatterpolar"
           }
          ],
          "scatterpolargl": [
           {
            "marker": {
             "colorbar": {
              "outlinewidth": 0,
              "ticks": ""
             }
            },
            "type": "scatterpolargl"
           }
          ],
          "scatterternary": [
           {
            "marker": {
             "colorbar": {
              "outlinewidth": 0,
              "ticks": ""
             }
            },
            "type": "scatterternary"
           }
          ],
          "surface": [
           {
            "colorbar": {
             "outlinewidth": 0,
             "ticks": ""
            },
            "colorscale": [
             [
              0,
              "#0d0887"
             ],
             [
              0.1111111111111111,
              "#46039f"
             ],
             [
              0.2222222222222222,
              "#7201a8"
             ],
             [
              0.3333333333333333,
              "#9c179e"
             ],
             [
              0.4444444444444444,
              "#bd3786"
             ],
             [
              0.5555555555555556,
              "#d8576b"
             ],
             [
              0.6666666666666666,
              "#ed7953"
             ],
             [
              0.7777777777777778,
              "#fb9f3a"
             ],
             [
              0.8888888888888888,
              "#fdca26"
             ],
             [
              1,
              "#f0f921"
             ]
            ],
            "type": "surface"
           }
          ],
          "table": [
           {
            "cells": {
             "fill": {
              "color": "#EBF0F8"
             },
             "line": {
              "color": "white"
             }
            },
            "header": {
             "fill": {
              "color": "#C8D4E3"
             },
             "line": {
              "color": "white"
             }
            },
            "type": "table"
           }
          ]
         },
         "layout": {
          "annotationdefaults": {
           "arrowcolor": "#2a3f5f",
           "arrowhead": 0,
           "arrowwidth": 1
          },
          "autotypenumbers": "strict",
          "coloraxis": {
           "colorbar": {
            "outlinewidth": 0,
            "ticks": ""
           }
          },
          "colorscale": {
           "diverging": [
            [
             0,
             "#8e0152"
            ],
            [
             0.1,
             "#c51b7d"
            ],
            [
             0.2,
             "#de77ae"
            ],
            [
             0.3,
             "#f1b6da"
            ],
            [
             0.4,
             "#fde0ef"
            ],
            [
             0.5,
             "#f7f7f7"
            ],
            [
             0.6,
             "#e6f5d0"
            ],
            [
             0.7,
             "#b8e186"
            ],
            [
             0.8,
             "#7fbc41"
            ],
            [
             0.9,
             "#4d9221"
            ],
            [
             1,
             "#276419"
            ]
           ],
           "sequential": [
            [
             0,
             "#0d0887"
            ],
            [
             0.1111111111111111,
             "#46039f"
            ],
            [
             0.2222222222222222,
             "#7201a8"
            ],
            [
             0.3333333333333333,
             "#9c179e"
            ],
            [
             0.4444444444444444,
             "#bd3786"
            ],
            [
             0.5555555555555556,
             "#d8576b"
            ],
            [
             0.6666666666666666,
             "#ed7953"
            ],
            [
             0.7777777777777778,
             "#fb9f3a"
            ],
            [
             0.8888888888888888,
             "#fdca26"
            ],
            [
             1,
             "#f0f921"
            ]
           ],
           "sequentialminus": [
            [
             0,
             "#0d0887"
            ],
            [
             0.1111111111111111,
             "#46039f"
            ],
            [
             0.2222222222222222,
             "#7201a8"
            ],
            [
             0.3333333333333333,
             "#9c179e"
            ],
            [
             0.4444444444444444,
             "#bd3786"
            ],
            [
             0.5555555555555556,
             "#d8576b"
            ],
            [
             0.6666666666666666,
             "#ed7953"
            ],
            [
             0.7777777777777778,
             "#fb9f3a"
            ],
            [
             0.8888888888888888,
             "#fdca26"
            ],
            [
             1,
             "#f0f921"
            ]
           ]
          },
          "colorway": [
           "#636efa",
           "#EF553B",
           "#00cc96",
           "#ab63fa",
           "#FFA15A",
           "#19d3f3",
           "#FF6692",
           "#B6E880",
           "#FF97FF",
           "#FECB52"
          ],
          "font": {
           "color": "#2a3f5f"
          },
          "geo": {
           "bgcolor": "white",
           "lakecolor": "white",
           "landcolor": "#E5ECF6",
           "showlakes": true,
           "showland": true,
           "subunitcolor": "white"
          },
          "hoverlabel": {
           "align": "left"
          },
          "hovermode": "closest",
          "mapbox": {
           "style": "light"
          },
          "paper_bgcolor": "white",
          "plot_bgcolor": "#E5ECF6",
          "polar": {
           "angularaxis": {
            "gridcolor": "white",
            "linecolor": "white",
            "ticks": ""
           },
           "bgcolor": "#E5ECF6",
           "radialaxis": {
            "gridcolor": "white",
            "linecolor": "white",
            "ticks": ""
           }
          },
          "scene": {
           "xaxis": {
            "backgroundcolor": "#E5ECF6",
            "gridcolor": "white",
            "gridwidth": 2,
            "linecolor": "white",
            "showbackground": true,
            "ticks": "",
            "zerolinecolor": "white"
           },
           "yaxis": {
            "backgroundcolor": "#E5ECF6",
            "gridcolor": "white",
            "gridwidth": 2,
            "linecolor": "white",
            "showbackground": true,
            "ticks": "",
            "zerolinecolor": "white"
           },
           "zaxis": {
            "backgroundcolor": "#E5ECF6",
            "gridcolor": "white",
            "gridwidth": 2,
            "linecolor": "white",
            "showbackground": true,
            "ticks": "",
            "zerolinecolor": "white"
           }
          },
          "shapedefaults": {
           "line": {
            "color": "#2a3f5f"
           }
          },
          "ternary": {
           "aaxis": {
            "gridcolor": "white",
            "linecolor": "white",
            "ticks": ""
           },
           "baxis": {
            "gridcolor": "white",
            "linecolor": "white",
            "ticks": ""
           },
           "bgcolor": "#E5ECF6",
           "caxis": {
            "gridcolor": "white",
            "linecolor": "white",
            "ticks": ""
           }
          },
          "title": {
           "x": 0.05
          },
          "xaxis": {
           "automargin": true,
           "gridcolor": "white",
           "linecolor": "white",
           "ticks": "",
           "title": {
            "standoff": 15
           },
           "zerolinecolor": "white",
           "zerolinewidth": 2
          },
          "yaxis": {
           "automargin": true,
           "gridcolor": "white",
           "linecolor": "white",
           "ticks": "",
           "title": {
            "standoff": 15
           },
           "zerolinecolor": "white",
           "zerolinewidth": 2
          }
         }
        },
        "title": {
         "text": "pareto fronts"
        },
        "xaxis": {
         "title": {
          "text": "AVG_DL_RATE"
         }
        },
        "yaxis": {
         "title": {
          "text": "ENERGY_EFFICIENCY"
         }
        }
       }
      }
     },
     "metadata": {},
     "output_type": "display_data"
    },
    {
     "data": {
      "application/vnd.plotly.v1+json": {
       "config": {
        "plotlyServerURL": "https://plot.ly"
       },
       "data": [
        {
         "mode": "markers",
         "name": "algorithm_config_4STATIC",
         "type": "scatter",
         "x": [
          -2.7213,
          -2.6903,
          -2.6317
         ],
         "y": [
          -0.2969,
          -0.3305,
          -0.3557
         ]
        }
       ],
       "layout": {
        "legend": {
         "title": {
          "text": "configuration names"
         }
        },
        "template": {
         "data": {
          "bar": [
           {
            "error_x": {
             "color": "#2a3f5f"
            },
            "error_y": {
             "color": "#2a3f5f"
            },
            "marker": {
             "line": {
              "color": "#E5ECF6",
              "width": 0.5
             },
             "pattern": {
              "fillmode": "overlay",
              "size": 10,
              "solidity": 0.2
             }
            },
            "type": "bar"
           }
          ],
          "barpolar": [
           {
            "marker": {
             "line": {
              "color": "#E5ECF6",
              "width": 0.5
             },
             "pattern": {
              "fillmode": "overlay",
              "size": 10,
              "solidity": 0.2
             }
            },
            "type": "barpolar"
           }
          ],
          "carpet": [
           {
            "aaxis": {
             "endlinecolor": "#2a3f5f",
             "gridcolor": "white",
             "linecolor": "white",
             "minorgridcolor": "white",
             "startlinecolor": "#2a3f5f"
            },
            "baxis": {
             "endlinecolor": "#2a3f5f",
             "gridcolor": "white",
             "linecolor": "white",
             "minorgridcolor": "white",
             "startlinecolor": "#2a3f5f"
            },
            "type": "carpet"
           }
          ],
          "choropleth": [
           {
            "colorbar": {
             "outlinewidth": 0,
             "ticks": ""
            },
            "type": "choropleth"
           }
          ],
          "contour": [
           {
            "colorbar": {
             "outlinewidth": 0,
             "ticks": ""
            },
            "colorscale": [
             [
              0,
              "#0d0887"
             ],
             [
              0.1111111111111111,
              "#46039f"
             ],
             [
              0.2222222222222222,
              "#7201a8"
             ],
             [
              0.3333333333333333,
              "#9c179e"
             ],
             [
              0.4444444444444444,
              "#bd3786"
             ],
             [
              0.5555555555555556,
              "#d8576b"
             ],
             [
              0.6666666666666666,
              "#ed7953"
             ],
             [
              0.7777777777777778,
              "#fb9f3a"
             ],
             [
              0.8888888888888888,
              "#fdca26"
             ],
             [
              1,
              "#f0f921"
             ]
            ],
            "type": "contour"
           }
          ],
          "contourcarpet": [
           {
            "colorbar": {
             "outlinewidth": 0,
             "ticks": ""
            },
            "type": "contourcarpet"
           }
          ],
          "heatmap": [
           {
            "colorbar": {
             "outlinewidth": 0,
             "ticks": ""
            },
            "colorscale": [
             [
              0,
              "#0d0887"
             ],
             [
              0.1111111111111111,
              "#46039f"
             ],
             [
              0.2222222222222222,
              "#7201a8"
             ],
             [
              0.3333333333333333,
              "#9c179e"
             ],
             [
              0.4444444444444444,
              "#bd3786"
             ],
             [
              0.5555555555555556,
              "#d8576b"
             ],
             [
              0.6666666666666666,
              "#ed7953"
             ],
             [
              0.7777777777777778,
              "#fb9f3a"
             ],
             [
              0.8888888888888888,
              "#fdca26"
             ],
             [
              1,
              "#f0f921"
             ]
            ],
            "type": "heatmap"
           }
          ],
          "heatmapgl": [
           {
            "colorbar": {
             "outlinewidth": 0,
             "ticks": ""
            },
            "colorscale": [
             [
              0,
              "#0d0887"
             ],
             [
              0.1111111111111111,
              "#46039f"
             ],
             [
              0.2222222222222222,
              "#7201a8"
             ],
             [
              0.3333333333333333,
              "#9c179e"
             ],
             [
              0.4444444444444444,
              "#bd3786"
             ],
             [
              0.5555555555555556,
              "#d8576b"
             ],
             [
              0.6666666666666666,
              "#ed7953"
             ],
             [
              0.7777777777777778,
              "#fb9f3a"
             ],
             [
              0.8888888888888888,
              "#fdca26"
             ],
             [
              1,
              "#f0f921"
             ]
            ],
            "type": "heatmapgl"
           }
          ],
          "histogram": [
           {
            "marker": {
             "pattern": {
              "fillmode": "overlay",
              "size": 10,
              "solidity": 0.2
             }
            },
            "type": "histogram"
           }
          ],
          "histogram2d": [
           {
            "colorbar": {
             "outlinewidth": 0,
             "ticks": ""
            },
            "colorscale": [
             [
              0,
              "#0d0887"
             ],
             [
              0.1111111111111111,
              "#46039f"
             ],
             [
              0.2222222222222222,
              "#7201a8"
             ],
             [
              0.3333333333333333,
              "#9c179e"
             ],
             [
              0.4444444444444444,
              "#bd3786"
             ],
             [
              0.5555555555555556,
              "#d8576b"
             ],
             [
              0.6666666666666666,
              "#ed7953"
             ],
             [
              0.7777777777777778,
              "#fb9f3a"
             ],
             [
              0.8888888888888888,
              "#fdca26"
             ],
             [
              1,
              "#f0f921"
             ]
            ],
            "type": "histogram2d"
           }
          ],
          "histogram2dcontour": [
           {
            "colorbar": {
             "outlinewidth": 0,
             "ticks": ""
            },
            "colorscale": [
             [
              0,
              "#0d0887"
             ],
             [
              0.1111111111111111,
              "#46039f"
             ],
             [
              0.2222222222222222,
              "#7201a8"
             ],
             [
              0.3333333333333333,
              "#9c179e"
             ],
             [
              0.4444444444444444,
              "#bd3786"
             ],
             [
              0.5555555555555556,
              "#d8576b"
             ],
             [
              0.6666666666666666,
              "#ed7953"
             ],
             [
              0.7777777777777778,
              "#fb9f3a"
             ],
             [
              0.8888888888888888,
              "#fdca26"
             ],
             [
              1,
              "#f0f921"
             ]
            ],
            "type": "histogram2dcontour"
           }
          ],
          "mesh3d": [
           {
            "colorbar": {
             "outlinewidth": 0,
             "ticks": ""
            },
            "type": "mesh3d"
           }
          ],
          "parcoords": [
           {
            "line": {
             "colorbar": {
              "outlinewidth": 0,
              "ticks": ""
             }
            },
            "type": "parcoords"
           }
          ],
          "pie": [
           {
            "automargin": true,
            "type": "pie"
           }
          ],
          "scatter": [
           {
            "fillpattern": {
             "fillmode": "overlay",
             "size": 10,
             "solidity": 0.2
            },
            "type": "scatter"
           }
          ],
          "scatter3d": [
           {
            "line": {
             "colorbar": {
              "outlinewidth": 0,
              "ticks": ""
             }
            },
            "marker": {
             "colorbar": {
              "outlinewidth": 0,
              "ticks": ""
             }
            },
            "type": "scatter3d"
           }
          ],
          "scattercarpet": [
           {
            "marker": {
             "colorbar": {
              "outlinewidth": 0,
              "ticks": ""
             }
            },
            "type": "scattercarpet"
           }
          ],
          "scattergeo": [
           {
            "marker": {
             "colorbar": {
              "outlinewidth": 0,
              "ticks": ""
             }
            },
            "type": "scattergeo"
           }
          ],
          "scattergl": [
           {
            "marker": {
             "colorbar": {
              "outlinewidth": 0,
              "ticks": ""
             }
            },
            "type": "scattergl"
           }
          ],
          "scattermapbox": [
           {
            "marker": {
             "colorbar": {
              "outlinewidth": 0,
              "ticks": ""
             }
            },
            "type": "scattermapbox"
           }
          ],
          "scatterpolar": [
           {
            "marker": {
             "colorbar": {
              "outlinewidth": 0,
              "ticks": ""
             }
            },
            "type": "scatterpolar"
           }
          ],
          "scatterpolargl": [
           {
            "marker": {
             "colorbar": {
              "outlinewidth": 0,
              "ticks": ""
             }
            },
            "type": "scatterpolargl"
           }
          ],
          "scatterternary": [
           {
            "marker": {
             "colorbar": {
              "outlinewidth": 0,
              "ticks": ""
             }
            },
            "type": "scatterternary"
           }
          ],
          "surface": [
           {
            "colorbar": {
             "outlinewidth": 0,
             "ticks": ""
            },
            "colorscale": [
             [
              0,
              "#0d0887"
             ],
             [
              0.1111111111111111,
              "#46039f"
             ],
             [
              0.2222222222222222,
              "#7201a8"
             ],
             [
              0.3333333333333333,
              "#9c179e"
             ],
             [
              0.4444444444444444,
              "#bd3786"
             ],
             [
              0.5555555555555556,
              "#d8576b"
             ],
             [
              0.6666666666666666,
              "#ed7953"
             ],
             [
              0.7777777777777778,
              "#fb9f3a"
             ],
             [
              0.8888888888888888,
              "#fdca26"
             ],
             [
              1,
              "#f0f921"
             ]
            ],
            "type": "surface"
           }
          ],
          "table": [
           {
            "cells": {
             "fill": {
              "color": "#EBF0F8"
             },
             "line": {
              "color": "white"
             }
            },
            "header": {
             "fill": {
              "color": "#C8D4E3"
             },
             "line": {
              "color": "white"
             }
            },
            "type": "table"
           }
          ]
         },
         "layout": {
          "annotationdefaults": {
           "arrowcolor": "#2a3f5f",
           "arrowhead": 0,
           "arrowwidth": 1
          },
          "autotypenumbers": "strict",
          "coloraxis": {
           "colorbar": {
            "outlinewidth": 0,
            "ticks": ""
           }
          },
          "colorscale": {
           "diverging": [
            [
             0,
             "#8e0152"
            ],
            [
             0.1,
             "#c51b7d"
            ],
            [
             0.2,
             "#de77ae"
            ],
            [
             0.3,
             "#f1b6da"
            ],
            [
             0.4,
             "#fde0ef"
            ],
            [
             0.5,
             "#f7f7f7"
            ],
            [
             0.6,
             "#e6f5d0"
            ],
            [
             0.7,
             "#b8e186"
            ],
            [
             0.8,
             "#7fbc41"
            ],
            [
             0.9,
             "#4d9221"
            ],
            [
             1,
             "#276419"
            ]
           ],
           "sequential": [
            [
             0,
             "#0d0887"
            ],
            [
             0.1111111111111111,
             "#46039f"
            ],
            [
             0.2222222222222222,
             "#7201a8"
            ],
            [
             0.3333333333333333,
             "#9c179e"
            ],
            [
             0.4444444444444444,
             "#bd3786"
            ],
            [
             0.5555555555555556,
             "#d8576b"
            ],
            [
             0.6666666666666666,
             "#ed7953"
            ],
            [
             0.7777777777777778,
             "#fb9f3a"
            ],
            [
             0.8888888888888888,
             "#fdca26"
            ],
            [
             1,
             "#f0f921"
            ]
           ],
           "sequentialminus": [
            [
             0,
             "#0d0887"
            ],
            [
             0.1111111111111111,
             "#46039f"
            ],
            [
             0.2222222222222222,
             "#7201a8"
            ],
            [
             0.3333333333333333,
             "#9c179e"
            ],
            [
             0.4444444444444444,
             "#bd3786"
            ],
            [
             0.5555555555555556,
             "#d8576b"
            ],
            [
             0.6666666666666666,
             "#ed7953"
            ],
            [
             0.7777777777777778,
             "#fb9f3a"
            ],
            [
             0.8888888888888888,
             "#fdca26"
            ],
            [
             1,
             "#f0f921"
            ]
           ]
          },
          "colorway": [
           "#636efa",
           "#EF553B",
           "#00cc96",
           "#ab63fa",
           "#FFA15A",
           "#19d3f3",
           "#FF6692",
           "#B6E880",
           "#FF97FF",
           "#FECB52"
          ],
          "font": {
           "color": "#2a3f5f"
          },
          "geo": {
           "bgcolor": "white",
           "lakecolor": "white",
           "landcolor": "#E5ECF6",
           "showlakes": true,
           "showland": true,
           "subunitcolor": "white"
          },
          "hoverlabel": {
           "align": "left"
          },
          "hovermode": "closest",
          "mapbox": {
           "style": "light"
          },
          "paper_bgcolor": "white",
          "plot_bgcolor": "#E5ECF6",
          "polar": {
           "angularaxis": {
            "gridcolor": "white",
            "linecolor": "white",
            "ticks": ""
           },
           "bgcolor": "#E5ECF6",
           "radialaxis": {
            "gridcolor": "white",
            "linecolor": "white",
            "ticks": ""
           }
          },
          "scene": {
           "xaxis": {
            "backgroundcolor": "#E5ECF6",
            "gridcolor": "white",
            "gridwidth": 2,
            "linecolor": "white",
            "showbackground": true,
            "ticks": "",
            "zerolinecolor": "white"
           },
           "yaxis": {
            "backgroundcolor": "#E5ECF6",
            "gridcolor": "white",
            "gridwidth": 2,
            "linecolor": "white",
            "showbackground": true,
            "ticks": "",
            "zerolinecolor": "white"
           },
           "zaxis": {
            "backgroundcolor": "#E5ECF6",
            "gridcolor": "white",
            "gridwidth": 2,
            "linecolor": "white",
            "showbackground": true,
            "ticks": "",
            "zerolinecolor": "white"
           }
          },
          "shapedefaults": {
           "line": {
            "color": "#2a3f5f"
           }
          },
          "ternary": {
           "aaxis": {
            "gridcolor": "white",
            "linecolor": "white",
            "ticks": ""
           },
           "baxis": {
            "gridcolor": "white",
            "linecolor": "white",
            "ticks": ""
           },
           "bgcolor": "#E5ECF6",
           "caxis": {
            "gridcolor": "white",
            "linecolor": "white",
            "ticks": ""
           }
          },
          "title": {
           "x": 0.05
          },
          "xaxis": {
           "automargin": true,
           "gridcolor": "white",
           "linecolor": "white",
           "ticks": "",
           "title": {
            "standoff": 15
           },
           "zerolinecolor": "white",
           "zerolinewidth": 2
          },
          "yaxis": {
           "automargin": true,
           "gridcolor": "white",
           "linecolor": "white",
           "ticks": "",
           "title": {
            "standoff": 15
           },
           "zerolinecolor": "white",
           "zerolinewidth": 2
          }
         }
        },
        "title": {
         "text": "objective results"
        },
        "xaxis": {
         "title": {
          "text": "AVG_DL_RATE"
         }
        },
        "yaxis": {
         "title": {
          "text": "ENERGY_EFFICIENCY"
         }
        }
       }
      }
     },
     "metadata": {},
     "output_type": "display_data"
    },
    {
     "data": {
      "application/vnd.plotly.v1+json": {
       "config": {
        "plotlyServerURL": "https://plot.ly"
       },
       "data": [
        {
         "mode": "lines+markers",
         "name": "algorithm_config_4STATIC",
         "type": "scatter",
         "x": [
          100,
          120,
          140,
          160,
          180,
          200,
          220,
          240,
          260,
          280
         ],
         "y": [
          0,
          0,
          0,
          0,
          0,
          0,
          0.11000000000000011,
          0.18413637329931948,
          0.5408673469387775,
          0.5837244897959204
         ]
        }
       ],
       "layout": {
        "legend": {
         "title": {
          "text": "configuration names"
         }
        },
        "template": {
         "data": {
          "bar": [
           {
            "error_x": {
             "color": "#2a3f5f"
            },
            "error_y": {
             "color": "#2a3f5f"
            },
            "marker": {
             "line": {
              "color": "#E5ECF6",
              "width": 0.5
             },
             "pattern": {
              "fillmode": "overlay",
              "size": 10,
              "solidity": 0.2
             }
            },
            "type": "bar"
           }
          ],
          "barpolar": [
           {
            "marker": {
             "line": {
              "color": "#E5ECF6",
              "width": 0.5
             },
             "pattern": {
              "fillmode": "overlay",
              "size": 10,
              "solidity": 0.2
             }
            },
            "type": "barpolar"
           }
          ],
          "carpet": [
           {
            "aaxis": {
             "endlinecolor": "#2a3f5f",
             "gridcolor": "white",
             "linecolor": "white",
             "minorgridcolor": "white",
             "startlinecolor": "#2a3f5f"
            },
            "baxis": {
             "endlinecolor": "#2a3f5f",
             "gridcolor": "white",
             "linecolor": "white",
             "minorgridcolor": "white",
             "startlinecolor": "#2a3f5f"
            },
            "type": "carpet"
           }
          ],
          "choropleth": [
           {
            "colorbar": {
             "outlinewidth": 0,
             "ticks": ""
            },
            "type": "choropleth"
           }
          ],
          "contour": [
           {
            "colorbar": {
             "outlinewidth": 0,
             "ticks": ""
            },
            "colorscale": [
             [
              0,
              "#0d0887"
             ],
             [
              0.1111111111111111,
              "#46039f"
             ],
             [
              0.2222222222222222,
              "#7201a8"
             ],
             [
              0.3333333333333333,
              "#9c179e"
             ],
             [
              0.4444444444444444,
              "#bd3786"
             ],
             [
              0.5555555555555556,
              "#d8576b"
             ],
             [
              0.6666666666666666,
              "#ed7953"
             ],
             [
              0.7777777777777778,
              "#fb9f3a"
             ],
             [
              0.8888888888888888,
              "#fdca26"
             ],
             [
              1,
              "#f0f921"
             ]
            ],
            "type": "contour"
           }
          ],
          "contourcarpet": [
           {
            "colorbar": {
             "outlinewidth": 0,
             "ticks": ""
            },
            "type": "contourcarpet"
           }
          ],
          "heatmap": [
           {
            "colorbar": {
             "outlinewidth": 0,
             "ticks": ""
            },
            "colorscale": [
             [
              0,
              "#0d0887"
             ],
             [
              0.1111111111111111,
              "#46039f"
             ],
             [
              0.2222222222222222,
              "#7201a8"
             ],
             [
              0.3333333333333333,
              "#9c179e"
             ],
             [
              0.4444444444444444,
              "#bd3786"
             ],
             [
              0.5555555555555556,
              "#d8576b"
             ],
             [
              0.6666666666666666,
              "#ed7953"
             ],
             [
              0.7777777777777778,
              "#fb9f3a"
             ],
             [
              0.8888888888888888,
              "#fdca26"
             ],
             [
              1,
              "#f0f921"
             ]
            ],
            "type": "heatmap"
           }
          ],
          "heatmapgl": [
           {
            "colorbar": {
             "outlinewidth": 0,
             "ticks": ""
            },
            "colorscale": [
             [
              0,
              "#0d0887"
             ],
             [
              0.1111111111111111,
              "#46039f"
             ],
             [
              0.2222222222222222,
              "#7201a8"
             ],
             [
              0.3333333333333333,
              "#9c179e"
             ],
             [
              0.4444444444444444,
              "#bd3786"
             ],
             [
              0.5555555555555556,
              "#d8576b"
             ],
             [
              0.6666666666666666,
              "#ed7953"
             ],
             [
              0.7777777777777778,
              "#fb9f3a"
             ],
             [
              0.8888888888888888,
              "#fdca26"
             ],
             [
              1,
              "#f0f921"
             ]
            ],
            "type": "heatmapgl"
           }
          ],
          "histogram": [
           {
            "marker": {
             "pattern": {
              "fillmode": "overlay",
              "size": 10,
              "solidity": 0.2
             }
            },
            "type": "histogram"
           }
          ],
          "histogram2d": [
           {
            "colorbar": {
             "outlinewidth": 0,
             "ticks": ""
            },
            "colorscale": [
             [
              0,
              "#0d0887"
             ],
             [
              0.1111111111111111,
              "#46039f"
             ],
             [
              0.2222222222222222,
              "#7201a8"
             ],
             [
              0.3333333333333333,
              "#9c179e"
             ],
             [
              0.4444444444444444,
              "#bd3786"
             ],
             [
              0.5555555555555556,
              "#d8576b"
             ],
             [
              0.6666666666666666,
              "#ed7953"
             ],
             [
              0.7777777777777778,
              "#fb9f3a"
             ],
             [
              0.8888888888888888,
              "#fdca26"
             ],
             [
              1,
              "#f0f921"
             ]
            ],
            "type": "histogram2d"
           }
          ],
          "histogram2dcontour": [
           {
            "colorbar": {
             "outlinewidth": 0,
             "ticks": ""
            },
            "colorscale": [
             [
              0,
              "#0d0887"
             ],
             [
              0.1111111111111111,
              "#46039f"
             ],
             [
              0.2222222222222222,
              "#7201a8"
             ],
             [
              0.3333333333333333,
              "#9c179e"
             ],
             [
              0.4444444444444444,
              "#bd3786"
             ],
             [
              0.5555555555555556,
              "#d8576b"
             ],
             [
              0.6666666666666666,
              "#ed7953"
             ],
             [
              0.7777777777777778,
              "#fb9f3a"
             ],
             [
              0.8888888888888888,
              "#fdca26"
             ],
             [
              1,
              "#f0f921"
             ]
            ],
            "type": "histogram2dcontour"
           }
          ],
          "mesh3d": [
           {
            "colorbar": {
             "outlinewidth": 0,
             "ticks": ""
            },
            "type": "mesh3d"
           }
          ],
          "parcoords": [
           {
            "line": {
             "colorbar": {
              "outlinewidth": 0,
              "ticks": ""
             }
            },
            "type": "parcoords"
           }
          ],
          "pie": [
           {
            "automargin": true,
            "type": "pie"
           }
          ],
          "scatter": [
           {
            "fillpattern": {
             "fillmode": "overlay",
             "size": 10,
             "solidity": 0.2
            },
            "type": "scatter"
           }
          ],
          "scatter3d": [
           {
            "line": {
             "colorbar": {
              "outlinewidth": 0,
              "ticks": ""
             }
            },
            "marker": {
             "colorbar": {
              "outlinewidth": 0,
              "ticks": ""
             }
            },
            "type": "scatter3d"
           }
          ],
          "scattercarpet": [
           {
            "marker": {
             "colorbar": {
              "outlinewidth": 0,
              "ticks": ""
             }
            },
            "type": "scattercarpet"
           }
          ],
          "scattergeo": [
           {
            "marker": {
             "colorbar": {
              "outlinewidth": 0,
              "ticks": ""
             }
            },
            "type": "scattergeo"
           }
          ],
          "scattergl": [
           {
            "marker": {
             "colorbar": {
              "outlinewidth": 0,
              "ticks": ""
             }
            },
            "type": "scattergl"
           }
          ],
          "scattermapbox": [
           {
            "marker": {
             "colorbar": {
              "outlinewidth": 0,
              "ticks": ""
             }
            },
            "type": "scattermapbox"
           }
          ],
          "scatterpolar": [
           {
            "marker": {
             "colorbar": {
              "outlinewidth": 0,
              "ticks": ""
             }
            },
            "type": "scatterpolar"
           }
          ],
          "scatterpolargl": [
           {
            "marker": {
             "colorbar": {
              "outlinewidth": 0,
              "ticks": ""
             }
            },
            "type": "scatterpolargl"
           }
          ],
          "scatterternary": [
           {
            "marker": {
             "colorbar": {
              "outlinewidth": 0,
              "ticks": ""
             }
            },
            "type": "scatterternary"
           }
          ],
          "surface": [
           {
            "colorbar": {
             "outlinewidth": 0,
             "ticks": ""
            },
            "colorscale": [
             [
              0,
              "#0d0887"
             ],
             [
              0.1111111111111111,
              "#46039f"
             ],
             [
              0.2222222222222222,
              "#7201a8"
             ],
             [
              0.3333333333333333,
              "#9c179e"
             ],
             [
              0.4444444444444444,
              "#bd3786"
             ],
             [
              0.5555555555555556,
              "#d8576b"
             ],
             [
              0.6666666666666666,
              "#ed7953"
             ],
             [
              0.7777777777777778,
              "#fb9f3a"
             ],
             [
              0.8888888888888888,
              "#fdca26"
             ],
             [
              1,
              "#f0f921"
             ]
            ],
            "type": "surface"
           }
          ],
          "table": [
           {
            "cells": {
             "fill": {
              "color": "#EBF0F8"
             },
             "line": {
              "color": "white"
             }
            },
            "header": {
             "fill": {
              "color": "#C8D4E3"
             },
             "line": {
              "color": "white"
             }
            },
            "type": "table"
           }
          ]
         },
         "layout": {
          "annotationdefaults": {
           "arrowcolor": "#2a3f5f",
           "arrowhead": 0,
           "arrowwidth": 1
          },
          "autotypenumbers": "strict",
          "coloraxis": {
           "colorbar": {
            "outlinewidth": 0,
            "ticks": ""
           }
          },
          "colorscale": {
           "diverging": [
            [
             0,
             "#8e0152"
            ],
            [
             0.1,
             "#c51b7d"
            ],
            [
             0.2,
             "#de77ae"
            ],
            [
             0.3,
             "#f1b6da"
            ],
            [
             0.4,
             "#fde0ef"
            ],
            [
             0.5,
             "#f7f7f7"
            ],
            [
             0.6,
             "#e6f5d0"
            ],
            [
             0.7,
             "#b8e186"
            ],
            [
             0.8,
             "#7fbc41"
            ],
            [
             0.9,
             "#4d9221"
            ],
            [
             1,
             "#276419"
            ]
           ],
           "sequential": [
            [
             0,
             "#0d0887"
            ],
            [
             0.1111111111111111,
             "#46039f"
            ],
            [
             0.2222222222222222,
             "#7201a8"
            ],
            [
             0.3333333333333333,
             "#9c179e"
            ],
            [
             0.4444444444444444,
             "#bd3786"
            ],
            [
             0.5555555555555556,
             "#d8576b"
            ],
            [
             0.6666666666666666,
             "#ed7953"
            ],
            [
             0.7777777777777778,
             "#fb9f3a"
            ],
            [
             0.8888888888888888,
             "#fdca26"
            ],
            [
             1,
             "#f0f921"
            ]
           ],
           "sequentialminus": [
            [
             0,
             "#0d0887"
            ],
            [
             0.1111111111111111,
             "#46039f"
            ],
            [
             0.2222222222222222,
             "#7201a8"
            ],
            [
             0.3333333333333333,
             "#9c179e"
            ],
            [
             0.4444444444444444,
             "#bd3786"
            ],
            [
             0.5555555555555556,
             "#d8576b"
            ],
            [
             0.6666666666666666,
             "#ed7953"
            ],
            [
             0.7777777777777778,
             "#fb9f3a"
            ],
            [
             0.8888888888888888,
             "#fdca26"
            ],
            [
             1,
             "#f0f921"
            ]
           ]
          },
          "colorway": [
           "#636efa",
           "#EF553B",
           "#00cc96",
           "#ab63fa",
           "#FFA15A",
           "#19d3f3",
           "#FF6692",
           "#B6E880",
           "#FF97FF",
           "#FECB52"
          ],
          "font": {
           "color": "#2a3f5f"
          },
          "geo": {
           "bgcolor": "white",
           "lakecolor": "white",
           "landcolor": "#E5ECF6",
           "showlakes": true,
           "showland": true,
           "subunitcolor": "white"
          },
          "hoverlabel": {
           "align": "left"
          },
          "hovermode": "closest",
          "mapbox": {
           "style": "light"
          },
          "paper_bgcolor": "white",
          "plot_bgcolor": "#E5ECF6",
          "polar": {
           "angularaxis": {
            "gridcolor": "white",
            "linecolor": "white",
            "ticks": ""
           },
           "bgcolor": "#E5ECF6",
           "radialaxis": {
            "gridcolor": "white",
            "linecolor": "white",
            "ticks": ""
           }
          },
          "scene": {
           "xaxis": {
            "backgroundcolor": "#E5ECF6",
            "gridcolor": "white",
            "gridwidth": 2,
            "linecolor": "white",
            "showbackground": true,
            "ticks": "",
            "zerolinecolor": "white"
           },
           "yaxis": {
            "backgroundcolor": "#E5ECF6",
            "gridcolor": "white",
            "gridwidth": 2,
            "linecolor": "white",
            "showbackground": true,
            "ticks": "",
            "zerolinecolor": "white"
           },
           "zaxis": {
            "backgroundcolor": "#E5ECF6",
            "gridcolor": "white",
            "gridwidth": 2,
            "linecolor": "white",
            "showbackground": true,
            "ticks": "",
            "zerolinecolor": "white"
           }
          },
          "shapedefaults": {
           "line": {
            "color": "#2a3f5f"
           }
          },
          "ternary": {
           "aaxis": {
            "gridcolor": "white",
            "linecolor": "white",
            "ticks": ""
           },
           "baxis": {
            "gridcolor": "white",
            "linecolor": "white",
            "ticks": ""
           },
           "bgcolor": "#E5ECF6",
           "caxis": {
            "gridcolor": "white",
            "linecolor": "white",
            "ticks": ""
           }
          },
          "title": {
           "x": 0.05
          },
          "xaxis": {
           "automargin": true,
           "gridcolor": "white",
           "linecolor": "white",
           "ticks": "",
           "title": {
            "standoff": 15
           },
           "zerolinecolor": "white",
           "zerolinewidth": 2
          },
          "yaxis": {
           "automargin": true,
           "gridcolor": "white",
           "linecolor": "white",
           "ticks": "",
           "title": {
            "standoff": 15
           },
           "zerolinecolor": "white",
           "zerolinewidth": 2
          }
         }
        },
        "title": {
         "text": "Convergence"
        },
        "xaxis": {
         "title": {
          "text": "Function Evaluations"
         }
        },
        "yaxis": {
         "title": {
          "text": "Hypervolume"
         }
        }
       }
      }
     },
     "metadata": {},
     "output_type": "display_data"
    }
   ],
   "source": [
    "# load dataset\n",
    "\n",
    "from cProfile import label\n",
    "from re import X\n",
    "from matplotlib import axis\n",
    "\n",
    "from son_pymoo import ObjectiveEnum\n",
    "\n",
    "\n",
    "def sign_objective(value: float, key: str):\n",
    "    if(key == ObjectiveEnum.AVG_DL_RATE.name or \n",
    "       key == ObjectiveEnum.AVG_RSSI.name or\n",
    "       key == ObjectiveEnum.AVG_SINR.name or\n",
    "       key == ObjectiveEnum.ENERGY_EFFICIENCY.name):\n",
    "        return -value\n",
    "    else:\n",
    "        return value\n",
    "\n",
    "network_name = \"delete3\"\n",
    "param_configuration_list =[\"algorithm_config_4STATIC\"]\n",
    "results_objectives_list = []\n",
    "results_objective_spaces_list = []\n",
    "result_dict_object = {\"optimization_objectives\": []}\n",
    "ref_points = []\n",
    "histories = []\n",
    "for configuration_name in param_configuration_list:\n",
    "    results_directory = \"./datastore/{network_name}/{configuration_name}/\".format(network_name=network_name, configuration_name= configuration_name)\n",
    "\n",
    "    ## read json file \n",
    "    with open(results_directory + \"/objectives_result.json\", mode=\"r\",encoding=\"utf-8\") as openfile:\n",
    "        result_dict_object = json.load(openfile)\n",
    "        ref_points = [1.1 for  x in result_dict_object[\"optimization_objectives\"]]\n",
    "\n",
    "        results_objectives_list.append(np.array(\n",
    "        [[sign_objective(y[1][key], key) for key in result_dict_object[\"optimization_objectives\"]]\n",
    "        for y in [item for item in result_dict_object[\"results\"]]]))\n",
    "        histories.append({\"name\": configuration_name, \"history\": result_dict_object[\"history\"]})\n",
    "        \n",
    "        results_objective_spaces_list.append(np.array(result_dict_object[\"objectiveSpace\"]))\n",
    "\n",
    "## prepare diagrams\n",
    "fig2 = go.Figure()\n",
    "fig2.update_layout(\n",
    "    title=\"pareto fronts\",\n",
    "    xaxis_title=result_dict_object[\"optimization_objectives\"][0],\n",
    "    yaxis_title=result_dict_object[\"optimization_objectives\"][1],\n",
    "    legend_title=\"configuration names\",\n",
    ")\n",
    "fig1 = go.Figure()\n",
    "fig1.update_layout(\n",
    "    title=\"objective results\",\n",
    "    xaxis_title=result_dict_object[\"optimization_objectives\"][0],\n",
    "    yaxis_title=result_dict_object[\"optimization_objectives\"][1],\n",
    "    legend_title=\"configuration names\",\n",
    ")\n",
    "fig3 = go.Figure()\n",
    "fig3.update_layout(\n",
    "    title=\"Convergence\",\n",
    "    xaxis_title=\"Function Evaluations\",\n",
    "    yaxis_title=\"Hypervolume\",\n",
    "    legend_title=\"configuration names\"\n",
    ")\n",
    "## normalize each solution and calculate hyper volume and add dataj to diagrams\n",
    "## since the ideal and nadir points and pareto front are not known we approximate them\n",
    "combined_result_list = []\n",
    "for _, solution in enumerate(results_objectives_list):\n",
    "    for _, solution_candidate in enumerate(solution):\n",
    "        combined_result_list.append(solution_candidate)\n",
    "combined_result_list = np.array(combined_result_list)\n",
    "approx_ideal = combined_result_list.min(axis=0)\n",
    "approx_nadir  = combined_result_list.max(axis=0)\n",
    "hv = Hypervolume(ref_point=np.array(ref_points),\n",
    "                     norm_ref_point=False,\n",
    "                     zero_to_one=True,\n",
    "                     ideal=approx_ideal,\n",
    "                     nadir=approx_nadir)\n",
    "\n",
    "for index, solution in enumerate(results_objectives_list):\n",
    "    normalized_solution = np.array((solution - approx_ideal) / (approx_nadir - approx_ideal))\n",
    "\n",
    "    fig2.add_trace(go.Scatter(x=normalized_solution[:,0], y=normalized_solution[:,1],\n",
    "                    mode='markers',\n",
    "                    name=param_configuration_list[index]))\n",
    "    \n",
    "    fig1.add_trace(go.Scatter(x=solution[:,0], y=solution[:,1],\n",
    "                mode='markers',\n",
    "                name=param_configuration_list[index] ))\n",
    "\n",
    "## add data to convergence diagram\n",
    "## since the ideal and nadir points and pareto front are not known we approximate them\n",
    "combined_result_list = []\n",
    "for _, solution in enumerate(results_objective_spaces_list):\n",
    "    for _, solution_candidate in enumerate(solution):\n",
    "        combined_result_list.append(solution_candidate)\n",
    "combined_result_list = np.array(combined_result_list)\n",
    "approx_ideal = combined_result_list.min(axis=0)\n",
    "approx_nadir  = combined_result_list.max(axis=0)\n",
    "hv = Hypervolume(ref_point=np.array(ref_points),\n",
    "                     norm_ref_point=False,\n",
    "                     zero_to_one=True,\n",
    "                     ideal=approx_ideal,\n",
    "                     nadir=approx_nadir)\n",
    "\n",
    "\n",
    "for _, history  in enumerate(histories):\n",
    "    hv_list = [hv(np.array(solution)) for solution in history[\"history\"][\"objective_space_opt\"]]\n",
    "    \n",
    "    fig3.add_trace(\n",
    "        go.Scatter(\n",
    "            x=history[\"history\"][\"n_evals\"],\n",
    "            y=hv_list,\n",
    "            mode='lines+markers',\n",
    "            name=history[\"name\"]\n",
    "        )\n",
    "    )\n",
    "\n",
    "fig2.show()\n",
    "fig1.show()\n",
    "fig3.show()\n",
    "\n"
   ]
  },
  {
   "cell_type": "code",
   "execution_count": 5,
   "id": "166e6f47",
   "metadata": {},
   "outputs": [
    {
     "data": {
      "application/vnd.plotly.v1+json": {
       "config": {
        "plotlyServerURL": "https://plot.ly"
       },
       "data": [
        {
         "mode": "lines+markers",
         "type": "scatter",
         "x": [
          1.02,
          2.06,
          3.09,
          4.13,
          5.15,
          6.16,
          7.17,
          8.22,
          9.25,
          10.32,
          11.35,
          12.37,
          13.41,
          14.45,
          15.48,
          16.52,
          17.58,
          18.61,
          19.64,
          20.66,
          21.66,
          22.67,
          23.7,
          24.75,
          25.81,
          26.86,
          27.92,
          28.97,
          30,
          31.03,
          32.05,
          33.06,
          34.08,
          35.1,
          36.12,
          37.15,
          38.19,
          39.22,
          40.26,
          41.29,
          42.31,
          43.32,
          44.34,
          45.35,
          46.35,
          47.36,
          48.39,
          49.41,
          50.44,
          51.45,
          52.46,
          53.47,
          54.47,
          55.48,
          56.5,
          57.52,
          58.54,
          59.56,
          60.59,
          61.62,
          62.65,
          63.67,
          64.69,
          65.72,
          66.76,
          67.8,
          68.84,
          69.86,
          70.89,
          71.91,
          72.94,
          73.96,
          74.99,
          76,
          77.01,
          78.02,
          79.04,
          80.06,
          81.09,
          82.12,
          83.14,
          84.16,
          85.19,
          86.22,
          87.26,
          88.29,
          89.35,
          90.42,
          91.49,
          92.56,
          93.62,
          94.69,
          95.76,
          96.82,
          97.88,
          98.94,
          100.01,
          101.06,
          102.11,
          103.17,
          104.22,
          105.28,
          106.34,
          107.4,
          108.46,
          109.51,
          110.56,
          111.62,
          112.69,
          113.76,
          114.82,
          115.89,
          116.97,
          118.05,
          119.12,
          120.16,
          121.2,
          122.26,
          123.31,
          124.37,
          125.42,
          126.48,
          127.54,
          128.6,
          129.64,
          130.67,
          131.7,
          132.74,
          133.8,
          134.85,
          135.9,
          136.96,
          138.03,
          139.04,
          140.11,
          141.18,
          142.25,
          143.33,
          144.4,
          145.48,
          146.52,
          147.55,
          148.58,
          149.61,
          150.65,
          151.68,
          152.7,
          153.72,
          154.75,
          155.78,
          156.81,
          157.85,
          158.89,
          159.92,
          160.96,
          161.99,
          163.01,
          164.04,
          165.07,
          166.09,
          167.1,
          168.12,
          169.13,
          170.16,
          171.19,
          172.21,
          173.24,
          174.26,
          175.3,
          176.34,
          177.38,
          178.43,
          179.48,
          180.51,
          181.54,
          182.58,
          183.62,
          184.66,
          185.7,
          186.75,
          187.8,
          188.85,
          189.91,
          190.98,
          192.03,
          193.08,
          194.13,
          195.18,
          196.24,
          197.29,
          198.34,
          199.41,
          200.48,
          201.55,
          202.62,
          203.69,
          204.77,
          205.83
         ],
         "y": [
          0.010000000000000018,
          0.010000000000000018,
          0.010000000000000018,
          0.010000000000000018,
          0.010000000000000018,
          0.010000000000000018,
          0.010000000000000018,
          0.9067049962118285,
          0.8966627735934297,
          0.8954607892283442,
          1.1808293396184821,
          1.127926384173643,
          1.090110369504888,
          1.116374157938536,
          1.143896620188346,
          1.1631276524922807,
          1.2100000000000002,
          0.6451466369619483,
          0.6320289237609422,
          0.6759196263288689,
          0.571777836512011,
          0.5468649274517737,
          0.5200954122440269,
          0.4883387256471257,
          0.4530771695403311,
          0.48582032500531974,
          0.4934753724644971,
          0.6734726133400301,
          0.683039915369455,
          0.6653974630219279,
          0.7080877054926041,
          0.7226197036152388,
          0.7209487253340184,
          0.7206966740023222,
          0.6856699004042067,
          0.6885717096528835,
          0.39319008410656986,
          0.3650993268833242,
          0.3624900412726469,
          0.4134025731664537,
          0.4147405435222266,
          0.41511617636628195,
          0.41230000035144704,
          0.4379198768146642,
          0.48611906020115125,
          0.4204156083322312,
          0.44898260806406665,
          0.3667581829087323,
          0.3446513510897092,
          0.47456012452509416,
          0.4809670149505515,
          0.47436007668571517,
          0.46867224796304574,
          0.46822291244264774,
          0.45016455596174315,
          0.4472316835989528,
          0.3822590136546709,
          0.36314211905871024,
          0.3630894699158254,
          0.3644626248994383,
          0.36263579988357525,
          0.359981666186356,
          0.3552474034463524,
          0.3461990114437505,
          0.34272902969555974,
          0.33968017053481925,
          0.3517543207202235,
          0.3478479470814679,
          0.31744441228172754,
          0.3185957070866821,
          0.31851228104591467,
          0.3286643401413925,
          0.32992066698445993,
          0.33463314933490285,
          0.333197297021839,
          0.33078079202074956,
          0.3218407495020637,
          0.32055795231696166,
          0.3351615204722085,
          0.3337301464447312,
          0.33428021144110914,
          0.32961245070957146,
          0.33213117484228033,
          0.33541866778405494,
          0.33387977629658894,
          0.3167955587547875,
          0.30571067703158156,
          0.3123734407738478,
          0.3081628019754299,
          0.36068971322358395,
          0.3546235665492409,
          0.28373257062964596,
          0.2904962661961113,
          0.28981013666598726,
          0.2989378052396262,
          0.32649747959318226,
          0.34482860014224026,
          0.3913176934667299,
          0.36617078732840086,
          0.30739428077668496,
          0.2993542405370792,
          0.29541464584695204,
          0.287407997057218,
          0.2926185076307644,
          0.287799442349608,
          0.2732920415167427,
          0.2735959871792169,
          0.2758535356730327,
          0.28017924271498496,
          0.29386491807985604,
          0.2902743714052574,
          0.2817664488334839,
          0.2709832829486269,
          0.2668776176138375,
          0.3008010263101676,
          0.3016976259441942,
          0.29424155867129226,
          0.260193442235015,
          0.3025400082366376,
          0.2940438950796795,
          0.29252333740585756,
          0.3135484316202534,
          0.3008227268254314,
          0.29378124043505305,
          0.4057216610786609,
          0.3380403938164941,
          0.33714944129526725,
          0.324762343614114,
          0.30763623999095197,
          0.3136981147216425,
          0.31216826367336153,
          0.31628026836485823,
          0.2920436789398318,
          0.3001207435785859,
          0.3031052413620209,
          0.31735278847560877,
          0.3593596916916036,
          0.41068028406282014,
          0.3684933455125662,
          0.37029007921826296,
          0.4304902079969296,
          0.3446170783600935,
          0.3330182601162928,
          0.3162786841913005,
          0.29353834536027257,
          0.2902643045813555,
          0.30850803199956045,
          0.2824140536589138,
          0.2602198420214205,
          0.24953465261177252,
          0.249735232946465,
          0.2493333720457427,
          0.24981332870914408,
          0.26072153248104274,
          0.2641474342671811,
          0.26375335711670417,
          0.26104102966914794,
          0.2774908975251109,
          0.27528643215786075,
          0.27803234142236316,
          0.2815190501795895,
          0.28037819095154154,
          0.32927396740106296,
          0.26874802337739634,
          0.2698650268153991,
          0.2673600916488335,
          0.26805747546740855,
          0.2640125066109295,
          0.2740718902220443,
          0.2664630287438841,
          0.26239181585587873,
          0.2595233887384058,
          0.2857428070000557,
          0.3007936326127395,
          0.2917780130342073,
          0.24737826890885542,
          0.24643891788858374,
          0.24415848274619348,
          0.24033543663657225,
          0.23570577860719255,
          0.23226535966756964,
          0.2167549559871324,
          0.21817726295065878,
          0.24022531394326208,
          0.2500478502951196,
          0.24509344068012864,
          0.24789981478748013,
          0.24935574217386325,
          0.254928464047088,
          0.2686977078952229,
          0.25773397018707844,
          0.21848318417074622,
          0.22336220309925062,
          0.22307060200938184,
          0.2250907228240485,
          0.2274321273485973,
          0.22750389174199884,
          0.22985389473462253
         ]
        }
       ],
       "layout": {
        "legend": {
         "title": {
          "text": "dataset"
         }
        },
        "template": {
         "data": {
          "bar": [
           {
            "error_x": {
             "color": "#2a3f5f"
            },
            "error_y": {
             "color": "#2a3f5f"
            },
            "marker": {
             "line": {
              "color": "#E5ECF6",
              "width": 0.5
             },
             "pattern": {
              "fillmode": "overlay",
              "size": 10,
              "solidity": 0.2
             }
            },
            "type": "bar"
           }
          ],
          "barpolar": [
           {
            "marker": {
             "line": {
              "color": "#E5ECF6",
              "width": 0.5
             },
             "pattern": {
              "fillmode": "overlay",
              "size": 10,
              "solidity": 0.2
             }
            },
            "type": "barpolar"
           }
          ],
          "carpet": [
           {
            "aaxis": {
             "endlinecolor": "#2a3f5f",
             "gridcolor": "white",
             "linecolor": "white",
             "minorgridcolor": "white",
             "startlinecolor": "#2a3f5f"
            },
            "baxis": {
             "endlinecolor": "#2a3f5f",
             "gridcolor": "white",
             "linecolor": "white",
             "minorgridcolor": "white",
             "startlinecolor": "#2a3f5f"
            },
            "type": "carpet"
           }
          ],
          "choropleth": [
           {
            "colorbar": {
             "outlinewidth": 0,
             "ticks": ""
            },
            "type": "choropleth"
           }
          ],
          "contour": [
           {
            "colorbar": {
             "outlinewidth": 0,
             "ticks": ""
            },
            "colorscale": [
             [
              0,
              "#0d0887"
             ],
             [
              0.1111111111111111,
              "#46039f"
             ],
             [
              0.2222222222222222,
              "#7201a8"
             ],
             [
              0.3333333333333333,
              "#9c179e"
             ],
             [
              0.4444444444444444,
              "#bd3786"
             ],
             [
              0.5555555555555556,
              "#d8576b"
             ],
             [
              0.6666666666666666,
              "#ed7953"
             ],
             [
              0.7777777777777778,
              "#fb9f3a"
             ],
             [
              0.8888888888888888,
              "#fdca26"
             ],
             [
              1,
              "#f0f921"
             ]
            ],
            "type": "contour"
           }
          ],
          "contourcarpet": [
           {
            "colorbar": {
             "outlinewidth": 0,
             "ticks": ""
            },
            "type": "contourcarpet"
           }
          ],
          "heatmap": [
           {
            "colorbar": {
             "outlinewidth": 0,
             "ticks": ""
            },
            "colorscale": [
             [
              0,
              "#0d0887"
             ],
             [
              0.1111111111111111,
              "#46039f"
             ],
             [
              0.2222222222222222,
              "#7201a8"
             ],
             [
              0.3333333333333333,
              "#9c179e"
             ],
             [
              0.4444444444444444,
              "#bd3786"
             ],
             [
              0.5555555555555556,
              "#d8576b"
             ],
             [
              0.6666666666666666,
              "#ed7953"
             ],
             [
              0.7777777777777778,
              "#fb9f3a"
             ],
             [
              0.8888888888888888,
              "#fdca26"
             ],
             [
              1,
              "#f0f921"
             ]
            ],
            "type": "heatmap"
           }
          ],
          "heatmapgl": [
           {
            "colorbar": {
             "outlinewidth": 0,
             "ticks": ""
            },
            "colorscale": [
             [
              0,
              "#0d0887"
             ],
             [
              0.1111111111111111,
              "#46039f"
             ],
             [
              0.2222222222222222,
              "#7201a8"
             ],
             [
              0.3333333333333333,
              "#9c179e"
             ],
             [
              0.4444444444444444,
              "#bd3786"
             ],
             [
              0.5555555555555556,
              "#d8576b"
             ],
             [
              0.6666666666666666,
              "#ed7953"
             ],
             [
              0.7777777777777778,
              "#fb9f3a"
             ],
             [
              0.8888888888888888,
              "#fdca26"
             ],
             [
              1,
              "#f0f921"
             ]
            ],
            "type": "heatmapgl"
           }
          ],
          "histogram": [
           {
            "marker": {
             "pattern": {
              "fillmode": "overlay",
              "size": 10,
              "solidity": 0.2
             }
            },
            "type": "histogram"
           }
          ],
          "histogram2d": [
           {
            "colorbar": {
             "outlinewidth": 0,
             "ticks": ""
            },
            "colorscale": [
             [
              0,
              "#0d0887"
             ],
             [
              0.1111111111111111,
              "#46039f"
             ],
             [
              0.2222222222222222,
              "#7201a8"
             ],
             [
              0.3333333333333333,
              "#9c179e"
             ],
             [
              0.4444444444444444,
              "#bd3786"
             ],
             [
              0.5555555555555556,
              "#d8576b"
             ],
             [
              0.6666666666666666,
              "#ed7953"
             ],
             [
              0.7777777777777778,
              "#fb9f3a"
             ],
             [
              0.8888888888888888,
              "#fdca26"
             ],
             [
              1,
              "#f0f921"
             ]
            ],
            "type": "histogram2d"
           }
          ],
          "histogram2dcontour": [
           {
            "colorbar": {
             "outlinewidth": 0,
             "ticks": ""
            },
            "colorscale": [
             [
              0,
              "#0d0887"
             ],
             [
              0.1111111111111111,
              "#46039f"
             ],
             [
              0.2222222222222222,
              "#7201a8"
             ],
             [
              0.3333333333333333,
              "#9c179e"
             ],
             [
              0.4444444444444444,
              "#bd3786"
             ],
             [
              0.5555555555555556,
              "#d8576b"
             ],
             [
              0.6666666666666666,
              "#ed7953"
             ],
             [
              0.7777777777777778,
              "#fb9f3a"
             ],
             [
              0.8888888888888888,
              "#fdca26"
             ],
             [
              1,
              "#f0f921"
             ]
            ],
            "type": "histogram2dcontour"
           }
          ],
          "mesh3d": [
           {
            "colorbar": {
             "outlinewidth": 0,
             "ticks": ""
            },
            "type": "mesh3d"
           }
          ],
          "parcoords": [
           {
            "line": {
             "colorbar": {
              "outlinewidth": 0,
              "ticks": ""
             }
            },
            "type": "parcoords"
           }
          ],
          "pie": [
           {
            "automargin": true,
            "type": "pie"
           }
          ],
          "scatter": [
           {
            "fillpattern": {
             "fillmode": "overlay",
             "size": 10,
             "solidity": 0.2
            },
            "type": "scatter"
           }
          ],
          "scatter3d": [
           {
            "line": {
             "colorbar": {
              "outlinewidth": 0,
              "ticks": ""
             }
            },
            "marker": {
             "colorbar": {
              "outlinewidth": 0,
              "ticks": ""
             }
            },
            "type": "scatter3d"
           }
          ],
          "scattercarpet": [
           {
            "marker": {
             "colorbar": {
              "outlinewidth": 0,
              "ticks": ""
             }
            },
            "type": "scattercarpet"
           }
          ],
          "scattergeo": [
           {
            "marker": {
             "colorbar": {
              "outlinewidth": 0,
              "ticks": ""
             }
            },
            "type": "scattergeo"
           }
          ],
          "scattergl": [
           {
            "marker": {
             "colorbar": {
              "outlinewidth": 0,
              "ticks": ""
             }
            },
            "type": "scattergl"
           }
          ],
          "scattermapbox": [
           {
            "marker": {
             "colorbar": {
              "outlinewidth": 0,
              "ticks": ""
             }
            },
            "type": "scattermapbox"
           }
          ],
          "scatterpolar": [
           {
            "marker": {
             "colorbar": {
              "outlinewidth": 0,
              "ticks": ""
             }
            },
            "type": "scatterpolar"
           }
          ],
          "scatterpolargl": [
           {
            "marker": {
             "colorbar": {
              "outlinewidth": 0,
              "ticks": ""
             }
            },
            "type": "scatterpolargl"
           }
          ],
          "scatterternary": [
           {
            "marker": {
             "colorbar": {
              "outlinewidth": 0,
              "ticks": ""
             }
            },
            "type": "scatterternary"
           }
          ],
          "surface": [
           {
            "colorbar": {
             "outlinewidth": 0,
             "ticks": ""
            },
            "colorscale": [
             [
              0,
              "#0d0887"
             ],
             [
              0.1111111111111111,
              "#46039f"
             ],
             [
              0.2222222222222222,
              "#7201a8"
             ],
             [
              0.3333333333333333,
              "#9c179e"
             ],
             [
              0.4444444444444444,
              "#bd3786"
             ],
             [
              0.5555555555555556,
              "#d8576b"
             ],
             [
              0.6666666666666666,
              "#ed7953"
             ],
             [
              0.7777777777777778,
              "#fb9f3a"
             ],
             [
              0.8888888888888888,
              "#fdca26"
             ],
             [
              1,
              "#f0f921"
             ]
            ],
            "type": "surface"
           }
          ],
          "table": [
           {
            "cells": {
             "fill": {
              "color": "#EBF0F8"
             },
             "line": {
              "color": "white"
             }
            },
            "header": {
             "fill": {
              "color": "#C8D4E3"
             },
             "line": {
              "color": "white"
             }
            },
            "type": "table"
           }
          ]
         },
         "layout": {
          "annotationdefaults": {
           "arrowcolor": "#2a3f5f",
           "arrowhead": 0,
           "arrowwidth": 1
          },
          "autotypenumbers": "strict",
          "coloraxis": {
           "colorbar": {
            "outlinewidth": 0,
            "ticks": ""
           }
          },
          "colorscale": {
           "diverging": [
            [
             0,
             "#8e0152"
            ],
            [
             0.1,
             "#c51b7d"
            ],
            [
             0.2,
             "#de77ae"
            ],
            [
             0.3,
             "#f1b6da"
            ],
            [
             0.4,
             "#fde0ef"
            ],
            [
             0.5,
             "#f7f7f7"
            ],
            [
             0.6,
             "#e6f5d0"
            ],
            [
             0.7,
             "#b8e186"
            ],
            [
             0.8,
             "#7fbc41"
            ],
            [
             0.9,
             "#4d9221"
            ],
            [
             1,
             "#276419"
            ]
           ],
           "sequential": [
            [
             0,
             "#0d0887"
            ],
            [
             0.1111111111111111,
             "#46039f"
            ],
            [
             0.2222222222222222,
             "#7201a8"
            ],
            [
             0.3333333333333333,
             "#9c179e"
            ],
            [
             0.4444444444444444,
             "#bd3786"
            ],
            [
             0.5555555555555556,
             "#d8576b"
            ],
            [
             0.6666666666666666,
             "#ed7953"
            ],
            [
             0.7777777777777778,
             "#fb9f3a"
            ],
            [
             0.8888888888888888,
             "#fdca26"
            ],
            [
             1,
             "#f0f921"
            ]
           ],
           "sequentialminus": [
            [
             0,
             "#0d0887"
            ],
            [
             0.1111111111111111,
             "#46039f"
            ],
            [
             0.2222222222222222,
             "#7201a8"
            ],
            [
             0.3333333333333333,
             "#9c179e"
            ],
            [
             0.4444444444444444,
             "#bd3786"
            ],
            [
             0.5555555555555556,
             "#d8576b"
            ],
            [
             0.6666666666666666,
             "#ed7953"
            ],
            [
             0.7777777777777778,
             "#fb9f3a"
            ],
            [
             0.8888888888888888,
             "#fdca26"
            ],
            [
             1,
             "#f0f921"
            ]
           ]
          },
          "colorway": [
           "#636efa",
           "#EF553B",
           "#00cc96",
           "#ab63fa",
           "#FFA15A",
           "#19d3f3",
           "#FF6692",
           "#B6E880",
           "#FF97FF",
           "#FECB52"
          ],
          "font": {
           "color": "#2a3f5f"
          },
          "geo": {
           "bgcolor": "white",
           "lakecolor": "white",
           "landcolor": "#E5ECF6",
           "showlakes": true,
           "showland": true,
           "subunitcolor": "white"
          },
          "hoverlabel": {
           "align": "left"
          },
          "hovermode": "closest",
          "mapbox": {
           "style": "light"
          },
          "paper_bgcolor": "white",
          "plot_bgcolor": "#E5ECF6",
          "polar": {
           "angularaxis": {
            "gridcolor": "white",
            "linecolor": "white",
            "ticks": ""
           },
           "bgcolor": "#E5ECF6",
           "radialaxis": {
            "gridcolor": "white",
            "linecolor": "white",
            "ticks": ""
           }
          },
          "scene": {
           "xaxis": {
            "backgroundcolor": "#E5ECF6",
            "gridcolor": "white",
            "gridwidth": 2,
            "linecolor": "white",
            "showbackground": true,
            "ticks": "",
            "zerolinecolor": "white"
           },
           "yaxis": {
            "backgroundcolor": "#E5ECF6",
            "gridcolor": "white",
            "gridwidth": 2,
            "linecolor": "white",
            "showbackground": true,
            "ticks": "",
            "zerolinecolor": "white"
           },
           "zaxis": {
            "backgroundcolor": "#E5ECF6",
            "gridcolor": "white",
            "gridwidth": 2,
            "linecolor": "white",
            "showbackground": true,
            "ticks": "",
            "zerolinecolor": "white"
           }
          },
          "shapedefaults": {
           "line": {
            "color": "#2a3f5f"
           }
          },
          "ternary": {
           "aaxis": {
            "gridcolor": "white",
            "linecolor": "white",
            "ticks": ""
           },
           "baxis": {
            "gridcolor": "white",
            "linecolor": "white",
            "ticks": ""
           },
           "bgcolor": "#E5ECF6",
           "caxis": {
            "gridcolor": "white",
            "linecolor": "white",
            "ticks": ""
           }
          },
          "title": {
           "x": 0.05
          },
          "xaxis": {
           "automargin": true,
           "gridcolor": "white",
           "linecolor": "white",
           "ticks": "",
           "title": {
            "standoff": 15
           },
           "zerolinecolor": "white",
           "zerolinewidth": 2
          },
          "yaxis": {
           "automargin": true,
           "gridcolor": "white",
           "linecolor": "white",
           "ticks": "",
           "title": {
            "standoff": 15
           },
           "zerolinecolor": "white",
           "zerolinewidth": 2
          }
         }
        },
        "title": {
         "text": "hypervolume"
        },
        "xaxis": {
         "title": {
          "text": "time in s"
         }
        },
        "yaxis": {
         "title": {
          "text": "Hypervolume"
         }
        }
       }
      }
     },
     "metadata": {},
     "output_type": "display_data"
    },
    {
     "data": {
      "application/vnd.plotly.v1+json": {
       "config": {
        "plotlyServerURL": "https://plot.ly"
       },
       "data": [
        {
         "mode": "markers",
         "text": [
          "1.02",
          "2.06",
          "3.09",
          "4.13",
          "5.15",
          "6.16",
          "7.17",
          "8.22",
          "9.25",
          "10.32",
          "11.35",
          "12.37",
          "13.41",
          "14.45",
          "15.48",
          "16.52",
          "17.58",
          "18.61",
          "19.64",
          "20.66",
          "21.66",
          "22.67",
          "23.7",
          "24.75",
          "25.81",
          "26.86",
          "27.92",
          "28.97",
          "30.0",
          "31.03",
          "32.05",
          "33.06",
          "34.08",
          "35.1",
          "36.12",
          "37.15",
          "38.19",
          "39.22",
          "40.26",
          "41.29",
          "42.31",
          "43.32",
          "44.34",
          "45.35",
          "46.35",
          "47.36",
          "48.39",
          "49.41",
          "50.44",
          "51.45",
          "52.46",
          "53.47",
          "54.47",
          "55.48",
          "56.5",
          "57.52",
          "58.54",
          "59.56",
          "60.59",
          "61.62",
          "62.65",
          "63.67",
          "64.69",
          "65.72",
          "66.76",
          "67.8",
          "68.84",
          "69.86",
          "70.89",
          "71.91",
          "72.94",
          "73.96",
          "74.99",
          "76.0",
          "77.01",
          "78.02",
          "79.04",
          "80.06",
          "81.09",
          "82.12",
          "83.14",
          "84.16",
          "85.19",
          "86.22",
          "87.26",
          "88.29",
          "89.35",
          "90.42",
          "91.49",
          "92.56",
          "93.62",
          "94.69",
          "95.76",
          "96.82",
          "97.88",
          "98.94",
          "100.01",
          "101.06",
          "102.11",
          "103.17",
          "104.22",
          "105.28",
          "106.34",
          "107.4",
          "108.46",
          "109.51",
          "110.56",
          "111.62",
          "112.69",
          "113.76",
          "114.82",
          "115.89",
          "116.97",
          "118.05",
          "119.12",
          "120.16",
          "121.2",
          "122.26",
          "123.31",
          "124.37",
          "125.42",
          "126.48",
          "127.54",
          "128.6",
          "129.64",
          "130.67",
          "131.7",
          "132.74",
          "133.8",
          "134.85",
          "135.9",
          "136.96",
          "138.03",
          "139.04",
          "140.11",
          "141.18",
          "142.25",
          "143.33",
          "144.4",
          "145.48",
          "146.52",
          "147.55",
          "148.58",
          "149.61",
          "150.65",
          "151.68",
          "152.7",
          "153.72",
          "154.75",
          "155.78",
          "156.81",
          "157.85",
          "158.89",
          "159.92",
          "160.96",
          "161.99",
          "163.01",
          "164.04",
          "165.07",
          "166.09",
          "167.1",
          "168.12",
          "169.13",
          "170.16",
          "171.19",
          "172.21",
          "173.24",
          "174.26",
          "175.3",
          "176.34",
          "177.38",
          "178.43",
          "179.48",
          "180.51",
          "181.54",
          "182.58",
          "183.62",
          "184.66",
          "185.7",
          "186.75",
          "187.8",
          "188.85",
          "189.91",
          "190.98",
          "192.03",
          "193.08",
          "194.13",
          "195.18",
          "196.24",
          "197.29",
          "198.34",
          "199.41",
          "200.48",
          "201.55",
          "202.62",
          "203.69",
          "204.77",
          "205.83"
         ],
         "type": "scatter",
         "x": [
          1,
          1,
          1,
          1,
          1,
          1,
          1,
          0.1959035348529898,
          0.2008589362405022,
          0.20151965642550387,
          0.0019821605550051037,
          0.021803766105054672,
          0.05351833498513395,
          0.04096465147010248,
          0.03039312851007612,
          0.0214734060125537,
          0,
          0.349190617773373,
          0.35678889990089196,
          0.33168153287082924,
          0.4013875123885035,
          0.41658407664354147,
          0.43211100099108035,
          0.4499504459861249,
          0.47241493227618103,
          0.4598612487611497,
          0.45358440700363406,
          0.3548067393458871,
          0.3386190948133466,
          0.34852989758837144,
          0.32507433102081273,
          0.3171456888007929,
          0.3181367690782954,
          0.3181367690782954,
          0.3372976544433433,
          0.3356458539808392,
          0.5285761480013215,
          0.5480673934588702,
          0.5490584737363726,
          0.5153617443012884,
          0.514370664023786,
          0.5140403039312851,
          0.5160224644862901,
          0.49851337958374636,
          0.4671291707961679,
          0.5094152626362736,
          0.48893293690122236,
          0.5454245127188636,
          0.5609514370664025,
          0.47406673273868516,
          0.47010241162867533,
          0.4743970928311861,
          0.4780310538486951,
          0.4783614139411959,
          0.48893293690122236,
          0.49091509745622736,
          0.5361744301288405,
          0.5480673934588702,
          0.5490584737363726,
          0.5470763131813677,
          0.5483977535513711,
          0.550379914106376,
          0.554013875123885,
          0.5599603567888999,
          0.5626032375289066,
          0.5649157581764123,
          0.5566567558638916,
          0.5596299966963991,
          0.5834159233564586,
          0.582424843078956,
          0.582424843078956,
          0.5744962008589363,
          0.5735051205814338,
          0.5698711595639246,
          0.5708622398414273,
          0.5728444003964321,
          0.578790882061447,
          0.5797819623389495,
          0.5682193591014205,
          0.5695407994714239,
          0.5692104393789231,
          0.5728444003964321,
          0.5708622398414273,
          0.5682193591014205,
          0.5695407994714239,
          0.5820944829864553,
          0.5880409646514702,
          0.5837462834489594,
          0.5870498843739677,
          0.546745953088867,
          0.5513709943838785,
          0.6075322101090188,
          0.6025768087215064,
          0.6032375289065082,
          0.595639246778989,
          0.5731747604889329,
          0.5589692765113974,
          0.5252725470763132,
          0.542781631978857,
          0.5877106045589693,
          0.5943178064089858,
          0.597621407333994,
          0.6032375289065082,
          0.5989428477039974,
          0.6029071688140073,
          0.6181037330690453,
          0.6177733729765444,
          0.6141394119590353,
          0.6095143706640238,
          0.5979517674264949,
          0.6009250082590023,
          0.6081929302940206,
          0.6174430128840436,
          0.6210769739015527,
          0.5943178064089858,
          0.5943178064089858,
          0.5992732077964982,
          0.6286752560290717,
          0.5926660059464817,
          0.5986124876114965,
          0.5999339279814999,
          0.582424843078956,
          0.5926660059464817,
          0.5986124876114965,
          0.5183349851337958,
          0.5672282788239181,
          0.5678889990089198,
          0.5774694416914437,
          0.5903534852989759,
          0.584407003633961,
          0.5847373637264619,
          0.5814337628014536,
          0.5986124876114965,
          0.5939874463164849,
          0.5923356458539808,
          0.5807730426164519,
          0.5490584737363726,
          0.5127188635612818,
          0.5421209117938554,
          0.540799471423852,
          0.49917409976874794,
          0.5602907168814008,
          0.5692104393789231,
          0.5834159233564586,
          0.6002642880740007,
          0.6038982490915098,
          0.5896927651139743,
          0.6105054509415263,
          0.6290056161215725,
          0.6385860588040965,
          0.637594978526594,
          0.6379253386190948,
          0.6349520977865875,
          0.6276841757515692,
          0.6257020151965642,
          0.6260323752890651,
          0.628344895936571,
          0.6138090518665346,
          0.6157912124215394,
          0.6134786917740338,
          0.6101750908490254,
          0.6111661711265279,
          0.5708622398414273,
          0.6187644532540469,
          0.6177733729765444,
          0.6210769739015527,
          0.6204162537165511,
          0.6240502147340601,
          0.6141394119590353,
          0.6207466138090518,
          0.624380574826561,
          0.6270234555665676,
          0.605219689461513,
          0.5939874463164849,
          0.601585728444004,
          0.6379253386190948,
          0.6389164188965973,
          0.6408985794516022,
          0.6445325404691113,
          0.6488272216716221,
          0.6521308225966304,
          0.6663363065741659,
          0.6630327056491577,
          0.6445325404691113,
          0.6352824578790882,
          0.6399074991740998,
          0.6372646184340932,
          0.6359431780640898,
          0.6316484968615792,
          0.6197555335315494,
          0.628344895936571,
          0.6627023455566567,
          0.6587380244466469,
          0.6590683845391476,
          0.6570862239841427,
          0.654773703336637,
          0.654773703336637,
          0.6541129831516352
         ],
         "y": [
          1,
          1,
          1,
          1,
          1,
          1,
          1,
          0.09711476466795603,
          0.10275628626692453,
          0.10336073500967116,
          0.024580915538362325,
          0.05387653127014818,
          0.058309155383623405,
          0.04585751128304316,
          0.03054480980012881,
          0.021558671824629137,
          0,
          0.2407317859445518,
          0.24959703417150217,
          0.22026112185686644,
          0.2815522243713733,
          0.299806576402321,
          0.3212846550612508,
          0.3487669245647968,
          0.37806254029658276,
          0.34107027724048994,
          0.33659735654416495,
          0.196244358478401,
          0.20289329464861375,
          0.2145390070921985,
          0.1862508059316569,
          0.17694229529335906,
          0.17790941328175372,
          0.17823178594455188,
          0.20099935525467438,
          0.1991457124435847,
          0.41191166989039324,
          0.4385074145712443,
          0.44205351386202446,
          0.3928916827852998,
          0.39180367504835584,
          0.3915618955512572,
          0.3939796905222437,
          0.37193745970341713,
          0.33188265635074143,
          0.3881366860090264,
          0.3652482269503546,
          0.4386686009026434,
          0.4606302385557704,
          0.34183591231463567,
          0.3364361702127659,
          0.34175531914893614,
          0.34647001934235977,
          0.34679239200515793,
          0.36331399097356537,
          0.3657317859445518,
          0.42202611218568664,
          0.44205351386202446,
          0.44096550612508056,
          0.4408446163765313,
          0.44257736943907156,
          0.44503546099290775,
          0.4493471953578336,
          0.4589377820760799,
          0.4622421018697614,
          0.46518375241779497,
          0.4526112185686653,
          0.4562782076079948,
          0.48549323017408125,
          0.484445519019987,
          0.48460670535138617,
          0.47457285622179235,
          0.47336395873629916,
          0.4687701482914248,
          0.4703014184397163,
          0.4725177304964539,
          0.4825112830431979,
          0.48380077369439073,
          0.4697372662798194,
          0.47086557059961315,
          0.4702208252740167,
          0.4747340425531914,
          0.4723162475822049,
          0.46925370728562216,
          0.47058349451966464,
          0.48831399097356537,
          0.5028610573823339,
          0.4949226305609284,
          0.49923436492585427,
          0.44805770470664086,
          0.45361863313990963,
          0.5238555770470664,
          0.5159977433913604,
          0.516602192134107,
          0.5072936814958091,
          0.4802546744036105,
          0.4626450676982592,
          0.4191247582205029,
          0.4428594455190199,
          0.49995970341715024,
          0.508019019987105,
          0.5119680851063829,
          0.5214377820760799,
          0.5159977433913604,
          0.5210348162475821,
          0.5328820116054158,
          0.5326402321083172,
          0.5322372662798194,
          0.5287717601547388,
          0.5146679561573179,
          0.518375241779497,
          0.5270793036750483,
          0.5384429400386846,
          0.5427546744036105,
          0.5051579626047711,
          0.503384912959381,
          0.5123710509348807,
          0.5479529335912314,
          0.5036669890393294,
          0.5135396518375241,
          0.5150306254029657,
          0.4941972920696324,
          0.5070519019987104,
          0.5140635074145712,
          0.4024822695035461,
          0.46550612508059314,
          0.46639264990328816,
          0.4784816247582205,
          0.49637330754352027,
          0.4915780141843971,
          0.49415699548678266,
          0.4900870406189554,
          0.5175290135396517,
          0.5068907156673114,
          0.5029416505480335,
          0.4887975499677627,
          0.44773533204384264,
          0.40070921985815594,
          0.4394745325596389,
          0.43782237266279816,
          0.3835025789813023,
          0.46147646679561566,
          0.47259832366215343,
          0.4877498388136685,
          0.5126128304319794,
          0.5149097356544164,
          0.4954464861379755,
          0.5230496453900709,
          0.5475096711798839,
          0.5591956802063184,
          0.5599210186976143,
          0.5604045776918117,
          0.5628223726627982,
          0.5479932301740812,
          0.5430770470664088,
          0.5435203094777562,
          0.5465425531914894,
          0.5292553191489362,
          0.5314716312056736,
          0.5285299806576402,
          0.5252659574468085,
          0.526434558349452,
          0.47771598968407475,
          0.5415457769181173,
          0.5403771760154739,
          0.5417472598323662,
          0.54106221792392,
          0.5452933591231462,
          0.5359042553191489,
          0.5440038684719536,
          0.5483156028368794,
          0.5512975499677627,
          0.522485493230174,
          0.5055609284332688,
          0.5145873629916183,
          0.564635718891038,
          0.565522243713733,
          0.5681818181818181,
          0.5723323662153449,
          0.5775709219858156,
          0.5813990973565442,
          0.600177304964539,
          0.6007011605415861,
          0.5725741457124436,
          0.5619358478401032,
          0.5672952933591231,
          0.56427304964539,
          0.562661186331399,
          0.555689877498388,
          0.5404980657640232,
          0.55355415860735,
          0.6003787878787878,
          0.5938104448742746,
          0.594092520954223,
          0.591795615731786,
          0.5891763378465505,
          0.5890151515151515,
          0.5845019342359768
         ]
        }
       ],
       "layout": {
        "legend": {
         "title": {
          "text": "dataset"
         }
        },
        "template": {
         "data": {
          "bar": [
           {
            "error_x": {
             "color": "#2a3f5f"
            },
            "error_y": {
             "color": "#2a3f5f"
            },
            "marker": {
             "line": {
              "color": "#E5ECF6",
              "width": 0.5
             },
             "pattern": {
              "fillmode": "overlay",
              "size": 10,
              "solidity": 0.2
             }
            },
            "type": "bar"
           }
          ],
          "barpolar": [
           {
            "marker": {
             "line": {
              "color": "#E5ECF6",
              "width": 0.5
             },
             "pattern": {
              "fillmode": "overlay",
              "size": 10,
              "solidity": 0.2
             }
            },
            "type": "barpolar"
           }
          ],
          "carpet": [
           {
            "aaxis": {
             "endlinecolor": "#2a3f5f",
             "gridcolor": "white",
             "linecolor": "white",
             "minorgridcolor": "white",
             "startlinecolor": "#2a3f5f"
            },
            "baxis": {
             "endlinecolor": "#2a3f5f",
             "gridcolor": "white",
             "linecolor": "white",
             "minorgridcolor": "white",
             "startlinecolor": "#2a3f5f"
            },
            "type": "carpet"
           }
          ],
          "choropleth": [
           {
            "colorbar": {
             "outlinewidth": 0,
             "ticks": ""
            },
            "type": "choropleth"
           }
          ],
          "contour": [
           {
            "colorbar": {
             "outlinewidth": 0,
             "ticks": ""
            },
            "colorscale": [
             [
              0,
              "#0d0887"
             ],
             [
              0.1111111111111111,
              "#46039f"
             ],
             [
              0.2222222222222222,
              "#7201a8"
             ],
             [
              0.3333333333333333,
              "#9c179e"
             ],
             [
              0.4444444444444444,
              "#bd3786"
             ],
             [
              0.5555555555555556,
              "#d8576b"
             ],
             [
              0.6666666666666666,
              "#ed7953"
             ],
             [
              0.7777777777777778,
              "#fb9f3a"
             ],
             [
              0.8888888888888888,
              "#fdca26"
             ],
             [
              1,
              "#f0f921"
             ]
            ],
            "type": "contour"
           }
          ],
          "contourcarpet": [
           {
            "colorbar": {
             "outlinewidth": 0,
             "ticks": ""
            },
            "type": "contourcarpet"
           }
          ],
          "heatmap": [
           {
            "colorbar": {
             "outlinewidth": 0,
             "ticks": ""
            },
            "colorscale": [
             [
              0,
              "#0d0887"
             ],
             [
              0.1111111111111111,
              "#46039f"
             ],
             [
              0.2222222222222222,
              "#7201a8"
             ],
             [
              0.3333333333333333,
              "#9c179e"
             ],
             [
              0.4444444444444444,
              "#bd3786"
             ],
             [
              0.5555555555555556,
              "#d8576b"
             ],
             [
              0.6666666666666666,
              "#ed7953"
             ],
             [
              0.7777777777777778,
              "#fb9f3a"
             ],
             [
              0.8888888888888888,
              "#fdca26"
             ],
             [
              1,
              "#f0f921"
             ]
            ],
            "type": "heatmap"
           }
          ],
          "heatmapgl": [
           {
            "colorbar": {
             "outlinewidth": 0,
             "ticks": ""
            },
            "colorscale": [
             [
              0,
              "#0d0887"
             ],
             [
              0.1111111111111111,
              "#46039f"
             ],
             [
              0.2222222222222222,
              "#7201a8"
             ],
             [
              0.3333333333333333,
              "#9c179e"
             ],
             [
              0.4444444444444444,
              "#bd3786"
             ],
             [
              0.5555555555555556,
              "#d8576b"
             ],
             [
              0.6666666666666666,
              "#ed7953"
             ],
             [
              0.7777777777777778,
              "#fb9f3a"
             ],
             [
              0.8888888888888888,
              "#fdca26"
             ],
             [
              1,
              "#f0f921"
             ]
            ],
            "type": "heatmapgl"
           }
          ],
          "histogram": [
           {
            "marker": {
             "pattern": {
              "fillmode": "overlay",
              "size": 10,
              "solidity": 0.2
             }
            },
            "type": "histogram"
           }
          ],
          "histogram2d": [
           {
            "colorbar": {
             "outlinewidth": 0,
             "ticks": ""
            },
            "colorscale": [
             [
              0,
              "#0d0887"
             ],
             [
              0.1111111111111111,
              "#46039f"
             ],
             [
              0.2222222222222222,
              "#7201a8"
             ],
             [
              0.3333333333333333,
              "#9c179e"
             ],
             [
              0.4444444444444444,
              "#bd3786"
             ],
             [
              0.5555555555555556,
              "#d8576b"
             ],
             [
              0.6666666666666666,
              "#ed7953"
             ],
             [
              0.7777777777777778,
              "#fb9f3a"
             ],
             [
              0.8888888888888888,
              "#fdca26"
             ],
             [
              1,
              "#f0f921"
             ]
            ],
            "type": "histogram2d"
           }
          ],
          "histogram2dcontour": [
           {
            "colorbar": {
             "outlinewidth": 0,
             "ticks": ""
            },
            "colorscale": [
             [
              0,
              "#0d0887"
             ],
             [
              0.1111111111111111,
              "#46039f"
             ],
             [
              0.2222222222222222,
              "#7201a8"
             ],
             [
              0.3333333333333333,
              "#9c179e"
             ],
             [
              0.4444444444444444,
              "#bd3786"
             ],
             [
              0.5555555555555556,
              "#d8576b"
             ],
             [
              0.6666666666666666,
              "#ed7953"
             ],
             [
              0.7777777777777778,
              "#fb9f3a"
             ],
             [
              0.8888888888888888,
              "#fdca26"
             ],
             [
              1,
              "#f0f921"
             ]
            ],
            "type": "histogram2dcontour"
           }
          ],
          "mesh3d": [
           {
            "colorbar": {
             "outlinewidth": 0,
             "ticks": ""
            },
            "type": "mesh3d"
           }
          ],
          "parcoords": [
           {
            "line": {
             "colorbar": {
              "outlinewidth": 0,
              "ticks": ""
             }
            },
            "type": "parcoords"
           }
          ],
          "pie": [
           {
            "automargin": true,
            "type": "pie"
           }
          ],
          "scatter": [
           {
            "fillpattern": {
             "fillmode": "overlay",
             "size": 10,
             "solidity": 0.2
            },
            "type": "scatter"
           }
          ],
          "scatter3d": [
           {
            "line": {
             "colorbar": {
              "outlinewidth": 0,
              "ticks": ""
             }
            },
            "marker": {
             "colorbar": {
              "outlinewidth": 0,
              "ticks": ""
             }
            },
            "type": "scatter3d"
           }
          ],
          "scattercarpet": [
           {
            "marker": {
             "colorbar": {
              "outlinewidth": 0,
              "ticks": ""
             }
            },
            "type": "scattercarpet"
           }
          ],
          "scattergeo": [
           {
            "marker": {
             "colorbar": {
              "outlinewidth": 0,
              "ticks": ""
             }
            },
            "type": "scattergeo"
           }
          ],
          "scattergl": [
           {
            "marker": {
             "colorbar": {
              "outlinewidth": 0,
              "ticks": ""
             }
            },
            "type": "scattergl"
           }
          ],
          "scattermapbox": [
           {
            "marker": {
             "colorbar": {
              "outlinewidth": 0,
              "ticks": ""
             }
            },
            "type": "scattermapbox"
           }
          ],
          "scatterpolar": [
           {
            "marker": {
             "colorbar": {
              "outlinewidth": 0,
              "ticks": ""
             }
            },
            "type": "scatterpolar"
           }
          ],
          "scatterpolargl": [
           {
            "marker": {
             "colorbar": {
              "outlinewidth": 0,
              "ticks": ""
             }
            },
            "type": "scatterpolargl"
           }
          ],
          "scatterternary": [
           {
            "marker": {
             "colorbar": {
              "outlinewidth": 0,
              "ticks": ""
             }
            },
            "type": "scatterternary"
           }
          ],
          "surface": [
           {
            "colorbar": {
             "outlinewidth": 0,
             "ticks": ""
            },
            "colorscale": [
             [
              0,
              "#0d0887"
             ],
             [
              0.1111111111111111,
              "#46039f"
             ],
             [
              0.2222222222222222,
              "#7201a8"
             ],
             [
              0.3333333333333333,
              "#9c179e"
             ],
             [
              0.4444444444444444,
              "#bd3786"
             ],
             [
              0.5555555555555556,
              "#d8576b"
             ],
             [
              0.6666666666666666,
              "#ed7953"
             ],
             [
              0.7777777777777778,
              "#fb9f3a"
             ],
             [
              0.8888888888888888,
              "#fdca26"
             ],
             [
              1,
              "#f0f921"
             ]
            ],
            "type": "surface"
           }
          ],
          "table": [
           {
            "cells": {
             "fill": {
              "color": "#EBF0F8"
             },
             "line": {
              "color": "white"
             }
            },
            "header": {
             "fill": {
              "color": "#C8D4E3"
             },
             "line": {
              "color": "white"
             }
            },
            "type": "table"
           }
          ]
         },
         "layout": {
          "annotationdefaults": {
           "arrowcolor": "#2a3f5f",
           "arrowhead": 0,
           "arrowwidth": 1
          },
          "autotypenumbers": "strict",
          "coloraxis": {
           "colorbar": {
            "outlinewidth": 0,
            "ticks": ""
           }
          },
          "colorscale": {
           "diverging": [
            [
             0,
             "#8e0152"
            ],
            [
             0.1,
             "#c51b7d"
            ],
            [
             0.2,
             "#de77ae"
            ],
            [
             0.3,
             "#f1b6da"
            ],
            [
             0.4,
             "#fde0ef"
            ],
            [
             0.5,
             "#f7f7f7"
            ],
            [
             0.6,
             "#e6f5d0"
            ],
            [
             0.7,
             "#b8e186"
            ],
            [
             0.8,
             "#7fbc41"
            ],
            [
             0.9,
             "#4d9221"
            ],
            [
             1,
             "#276419"
            ]
           ],
           "sequential": [
            [
             0,
             "#0d0887"
            ],
            [
             0.1111111111111111,
             "#46039f"
            ],
            [
             0.2222222222222222,
             "#7201a8"
            ],
            [
             0.3333333333333333,
             "#9c179e"
            ],
            [
             0.4444444444444444,
             "#bd3786"
            ],
            [
             0.5555555555555556,
             "#d8576b"
            ],
            [
             0.6666666666666666,
             "#ed7953"
            ],
            [
             0.7777777777777778,
             "#fb9f3a"
            ],
            [
             0.8888888888888888,
             "#fdca26"
            ],
            [
             1,
             "#f0f921"
            ]
           ],
           "sequentialminus": [
            [
             0,
             "#0d0887"
            ],
            [
             0.1111111111111111,
             "#46039f"
            ],
            [
             0.2222222222222222,
             "#7201a8"
            ],
            [
             0.3333333333333333,
             "#9c179e"
            ],
            [
             0.4444444444444444,
             "#bd3786"
            ],
            [
             0.5555555555555556,
             "#d8576b"
            ],
            [
             0.6666666666666666,
             "#ed7953"
            ],
            [
             0.7777777777777778,
             "#fb9f3a"
            ],
            [
             0.8888888888888888,
             "#fdca26"
            ],
            [
             1,
             "#f0f921"
            ]
           ]
          },
          "colorway": [
           "#636efa",
           "#EF553B",
           "#00cc96",
           "#ab63fa",
           "#FFA15A",
           "#19d3f3",
           "#FF6692",
           "#B6E880",
           "#FF97FF",
           "#FECB52"
          ],
          "font": {
           "color": "#2a3f5f"
          },
          "geo": {
           "bgcolor": "white",
           "lakecolor": "white",
           "landcolor": "#E5ECF6",
           "showlakes": true,
           "showland": true,
           "subunitcolor": "white"
          },
          "hoverlabel": {
           "align": "left"
          },
          "hovermode": "closest",
          "mapbox": {
           "style": "light"
          },
          "paper_bgcolor": "white",
          "plot_bgcolor": "#E5ECF6",
          "polar": {
           "angularaxis": {
            "gridcolor": "white",
            "linecolor": "white",
            "ticks": ""
           },
           "bgcolor": "#E5ECF6",
           "radialaxis": {
            "gridcolor": "white",
            "linecolor": "white",
            "ticks": ""
           }
          },
          "scene": {
           "xaxis": {
            "backgroundcolor": "#E5ECF6",
            "gridcolor": "white",
            "gridwidth": 2,
            "linecolor": "white",
            "showbackground": true,
            "ticks": "",
            "zerolinecolor": "white"
           },
           "yaxis": {
            "backgroundcolor": "#E5ECF6",
            "gridcolor": "white",
            "gridwidth": 2,
            "linecolor": "white",
            "showbackground": true,
            "ticks": "",
            "zerolinecolor": "white"
           },
           "zaxis": {
            "backgroundcolor": "#E5ECF6",
            "gridcolor": "white",
            "gridwidth": 2,
            "linecolor": "white",
            "showbackground": true,
            "ticks": "",
            "zerolinecolor": "white"
           }
          },
          "shapedefaults": {
           "line": {
            "color": "#2a3f5f"
           }
          },
          "ternary": {
           "aaxis": {
            "gridcolor": "white",
            "linecolor": "white",
            "ticks": ""
           },
           "baxis": {
            "gridcolor": "white",
            "linecolor": "white",
            "ticks": ""
           },
           "bgcolor": "#E5ECF6",
           "caxis": {
            "gridcolor": "white",
            "linecolor": "white",
            "ticks": ""
           }
          },
          "title": {
           "x": 0.05
          },
          "xaxis": {
           "automargin": true,
           "gridcolor": "white",
           "linecolor": "white",
           "ticks": "",
           "title": {
            "standoff": 15
           },
           "zerolinecolor": "white",
           "zerolinewidth": 2
          },
          "yaxis": {
           "automargin": true,
           "gridcolor": "white",
           "linecolor": "white",
           "ticks": "",
           "title": {
            "standoff": 15
           },
           "zerolinecolor": "white",
           "zerolinewidth": 2
          }
         }
        },
        "title": {
         "text": "normalized objectives"
        },
        "xaxis": {
         "title": {
          "text": "energy_efficiency"
         }
        },
        "yaxis": {
         "title": {
          "text": "avg_dl_datarate"
         }
        }
       }
      }
     },
     "metadata": {},
     "output_type": "display_data"
    },
    {
     "data": {
      "application/vnd.plotly.v1+json": {
       "config": {
        "plotlyServerURL": "https://plot.ly"
       },
       "data": [
        {
         "mode": "lines+markers",
         "name": "energy_efficiency",
         "type": "scatter",
         "x": [
          1.02,
          2.06,
          3.09,
          4.13,
          5.15,
          6.16,
          7.17,
          8.22,
          9.25,
          10.32,
          11.35,
          12.37,
          13.41,
          14.45,
          15.48,
          16.52,
          17.58,
          18.61,
          19.64,
          20.66,
          21.66,
          22.67,
          23.7,
          24.75,
          25.81,
          26.86,
          27.92,
          28.97,
          30,
          31.03,
          32.05,
          33.06,
          34.08,
          35.1,
          36.12,
          37.15,
          38.19,
          39.22,
          40.26,
          41.29,
          42.31,
          43.32,
          44.34,
          45.35,
          46.35,
          47.36,
          48.39,
          49.41,
          50.44,
          51.45,
          52.46,
          53.47,
          54.47,
          55.48,
          56.5,
          57.52,
          58.54,
          59.56,
          60.59,
          61.62,
          62.65,
          63.67,
          64.69,
          65.72,
          66.76,
          67.8,
          68.84,
          69.86,
          70.89,
          71.91,
          72.94,
          73.96,
          74.99,
          76,
          77.01,
          78.02,
          79.04,
          80.06,
          81.09,
          82.12,
          83.14,
          84.16,
          85.19,
          86.22,
          87.26,
          88.29,
          89.35,
          90.42,
          91.49,
          92.56,
          93.62,
          94.69,
          95.76,
          96.82,
          97.88,
          98.94,
          100.01,
          101.06,
          102.11,
          103.17,
          104.22,
          105.28,
          106.34,
          107.4,
          108.46,
          109.51,
          110.56,
          111.62,
          112.69,
          113.76,
          114.82,
          115.89,
          116.97,
          118.05,
          119.12,
          120.16,
          121.2,
          122.26,
          123.31,
          124.37,
          125.42,
          126.48,
          127.54,
          128.6,
          129.64,
          130.67,
          131.7,
          132.74,
          133.8,
          134.85,
          135.9,
          136.96,
          138.03,
          139.04,
          140.11,
          141.18,
          142.25,
          143.33,
          144.4,
          145.48,
          146.52,
          147.55,
          148.58,
          149.61,
          150.65,
          151.68,
          152.7,
          153.72,
          154.75,
          155.78,
          156.81,
          157.85,
          158.89,
          159.92,
          160.96,
          161.99,
          163.01,
          164.04,
          165.07,
          166.09,
          167.1,
          168.12,
          169.13,
          170.16,
          171.19,
          172.21,
          173.24,
          174.26,
          175.3,
          176.34,
          177.38,
          178.43,
          179.48,
          180.51,
          181.54,
          182.58,
          183.62,
          184.66,
          185.7,
          186.75,
          187.8,
          188.85,
          189.91,
          190.98,
          192.03,
          193.08,
          194.13,
          195.18,
          196.24,
          197.29,
          198.34,
          199.41,
          200.48,
          201.55,
          202.62,
          203.69,
          204.77,
          205.83
         ],
         "y": [
          1,
          1,
          1,
          1,
          1,
          1,
          1,
          0.1959035348529898,
          0.2008589362405022,
          0.20151965642550387,
          0.0019821605550051037,
          0.021803766105054672,
          0.05351833498513395,
          0.04096465147010248,
          0.03039312851007612,
          0.0214734060125537,
          0,
          0.349190617773373,
          0.35678889990089196,
          0.33168153287082924,
          0.4013875123885035,
          0.41658407664354147,
          0.43211100099108035,
          0.4499504459861249,
          0.47241493227618103,
          0.4598612487611497,
          0.45358440700363406,
          0.3548067393458871,
          0.3386190948133466,
          0.34852989758837144,
          0.32507433102081273,
          0.3171456888007929,
          0.3181367690782954,
          0.3181367690782954,
          0.3372976544433433,
          0.3356458539808392,
          0.5285761480013215,
          0.5480673934588702,
          0.5490584737363726,
          0.5153617443012884,
          0.514370664023786,
          0.5140403039312851,
          0.5160224644862901,
          0.49851337958374636,
          0.4671291707961679,
          0.5094152626362736,
          0.48893293690122236,
          0.5454245127188636,
          0.5609514370664025,
          0.47406673273868516,
          0.47010241162867533,
          0.4743970928311861,
          0.4780310538486951,
          0.4783614139411959,
          0.48893293690122236,
          0.49091509745622736,
          0.5361744301288405,
          0.5480673934588702,
          0.5490584737363726,
          0.5470763131813677,
          0.5483977535513711,
          0.550379914106376,
          0.554013875123885,
          0.5599603567888999,
          0.5626032375289066,
          0.5649157581764123,
          0.5566567558638916,
          0.5596299966963991,
          0.5834159233564586,
          0.582424843078956,
          0.582424843078956,
          0.5744962008589363,
          0.5735051205814338,
          0.5698711595639246,
          0.5708622398414273,
          0.5728444003964321,
          0.578790882061447,
          0.5797819623389495,
          0.5682193591014205,
          0.5695407994714239,
          0.5692104393789231,
          0.5728444003964321,
          0.5708622398414273,
          0.5682193591014205,
          0.5695407994714239,
          0.5820944829864553,
          0.5880409646514702,
          0.5837462834489594,
          0.5870498843739677,
          0.546745953088867,
          0.5513709943838785,
          0.6075322101090188,
          0.6025768087215064,
          0.6032375289065082,
          0.595639246778989,
          0.5731747604889329,
          0.5589692765113974,
          0.5252725470763132,
          0.542781631978857,
          0.5877106045589693,
          0.5943178064089858,
          0.597621407333994,
          0.6032375289065082,
          0.5989428477039974,
          0.6029071688140073,
          0.6181037330690453,
          0.6177733729765444,
          0.6141394119590353,
          0.6095143706640238,
          0.5979517674264949,
          0.6009250082590023,
          0.6081929302940206,
          0.6174430128840436,
          0.6210769739015527,
          0.5943178064089858,
          0.5943178064089858,
          0.5992732077964982,
          0.6286752560290717,
          0.5926660059464817,
          0.5986124876114965,
          0.5999339279814999,
          0.582424843078956,
          0.5926660059464817,
          0.5986124876114965,
          0.5183349851337958,
          0.5672282788239181,
          0.5678889990089198,
          0.5774694416914437,
          0.5903534852989759,
          0.584407003633961,
          0.5847373637264619,
          0.5814337628014536,
          0.5986124876114965,
          0.5939874463164849,
          0.5923356458539808,
          0.5807730426164519,
          0.5490584737363726,
          0.5127188635612818,
          0.5421209117938554,
          0.540799471423852,
          0.49917409976874794,
          0.5602907168814008,
          0.5692104393789231,
          0.5834159233564586,
          0.6002642880740007,
          0.6038982490915098,
          0.5896927651139743,
          0.6105054509415263,
          0.6290056161215725,
          0.6385860588040965,
          0.637594978526594,
          0.6379253386190948,
          0.6349520977865875,
          0.6276841757515692,
          0.6257020151965642,
          0.6260323752890651,
          0.628344895936571,
          0.6138090518665346,
          0.6157912124215394,
          0.6134786917740338,
          0.6101750908490254,
          0.6111661711265279,
          0.5708622398414273,
          0.6187644532540469,
          0.6177733729765444,
          0.6210769739015527,
          0.6204162537165511,
          0.6240502147340601,
          0.6141394119590353,
          0.6207466138090518,
          0.624380574826561,
          0.6270234555665676,
          0.605219689461513,
          0.5939874463164849,
          0.601585728444004,
          0.6379253386190948,
          0.6389164188965973,
          0.6408985794516022,
          0.6445325404691113,
          0.6488272216716221,
          0.6521308225966304,
          0.6663363065741659,
          0.6630327056491577,
          0.6445325404691113,
          0.6352824578790882,
          0.6399074991740998,
          0.6372646184340932,
          0.6359431780640898,
          0.6316484968615792,
          0.6197555335315494,
          0.628344895936571,
          0.6627023455566567,
          0.6587380244466469,
          0.6590683845391476,
          0.6570862239841427,
          0.654773703336637,
          0.654773703336637,
          0.6541129831516352
         ]
        },
        {
         "mode": "lines+markers",
         "name": "avrg_dl_datarate",
         "type": "scatter",
         "x": [
          1.02,
          2.06,
          3.09,
          4.13,
          5.15,
          6.16,
          7.17,
          8.22,
          9.25,
          10.32,
          11.35,
          12.37,
          13.41,
          14.45,
          15.48,
          16.52,
          17.58,
          18.61,
          19.64,
          20.66,
          21.66,
          22.67,
          23.7,
          24.75,
          25.81,
          26.86,
          27.92,
          28.97,
          30,
          31.03,
          32.05,
          33.06,
          34.08,
          35.1,
          36.12,
          37.15,
          38.19,
          39.22,
          40.26,
          41.29,
          42.31,
          43.32,
          44.34,
          45.35,
          46.35,
          47.36,
          48.39,
          49.41,
          50.44,
          51.45,
          52.46,
          53.47,
          54.47,
          55.48,
          56.5,
          57.52,
          58.54,
          59.56,
          60.59,
          61.62,
          62.65,
          63.67,
          64.69,
          65.72,
          66.76,
          67.8,
          68.84,
          69.86,
          70.89,
          71.91,
          72.94,
          73.96,
          74.99,
          76,
          77.01,
          78.02,
          79.04,
          80.06,
          81.09,
          82.12,
          83.14,
          84.16,
          85.19,
          86.22,
          87.26,
          88.29,
          89.35,
          90.42,
          91.49,
          92.56,
          93.62,
          94.69,
          95.76,
          96.82,
          97.88,
          98.94,
          100.01,
          101.06,
          102.11,
          103.17,
          104.22,
          105.28,
          106.34,
          107.4,
          108.46,
          109.51,
          110.56,
          111.62,
          112.69,
          113.76,
          114.82,
          115.89,
          116.97,
          118.05,
          119.12,
          120.16,
          121.2,
          122.26,
          123.31,
          124.37,
          125.42,
          126.48,
          127.54,
          128.6,
          129.64,
          130.67,
          131.7,
          132.74,
          133.8,
          134.85,
          135.9,
          136.96,
          138.03,
          139.04,
          140.11,
          141.18,
          142.25,
          143.33,
          144.4,
          145.48,
          146.52,
          147.55,
          148.58,
          149.61,
          150.65,
          151.68,
          152.7,
          153.72,
          154.75,
          155.78,
          156.81,
          157.85,
          158.89,
          159.92,
          160.96,
          161.99,
          163.01,
          164.04,
          165.07,
          166.09,
          167.1,
          168.12,
          169.13,
          170.16,
          171.19,
          172.21,
          173.24,
          174.26,
          175.3,
          176.34,
          177.38,
          178.43,
          179.48,
          180.51,
          181.54,
          182.58,
          183.62,
          184.66,
          185.7,
          186.75,
          187.8,
          188.85,
          189.91,
          190.98,
          192.03,
          193.08,
          194.13,
          195.18,
          196.24,
          197.29,
          198.34,
          199.41,
          200.48,
          201.55,
          202.62,
          203.69,
          204.77,
          205.83
         ],
         "y": [
          1,
          1,
          1,
          1,
          1,
          1,
          1,
          0.09711476466795603,
          0.10275628626692453,
          0.10336073500967116,
          0.024580915538362325,
          0.05387653127014818,
          0.058309155383623405,
          0.04585751128304316,
          0.03054480980012881,
          0.021558671824629137,
          0,
          0.2407317859445518,
          0.24959703417150217,
          0.22026112185686644,
          0.2815522243713733,
          0.299806576402321,
          0.3212846550612508,
          0.3487669245647968,
          0.37806254029658276,
          0.34107027724048994,
          0.33659735654416495,
          0.196244358478401,
          0.20289329464861375,
          0.2145390070921985,
          0.1862508059316569,
          0.17694229529335906,
          0.17790941328175372,
          0.17823178594455188,
          0.20099935525467438,
          0.1991457124435847,
          0.41191166989039324,
          0.4385074145712443,
          0.44205351386202446,
          0.3928916827852998,
          0.39180367504835584,
          0.3915618955512572,
          0.3939796905222437,
          0.37193745970341713,
          0.33188265635074143,
          0.3881366860090264,
          0.3652482269503546,
          0.4386686009026434,
          0.4606302385557704,
          0.34183591231463567,
          0.3364361702127659,
          0.34175531914893614,
          0.34647001934235977,
          0.34679239200515793,
          0.36331399097356537,
          0.3657317859445518,
          0.42202611218568664,
          0.44205351386202446,
          0.44096550612508056,
          0.4408446163765313,
          0.44257736943907156,
          0.44503546099290775,
          0.4493471953578336,
          0.4589377820760799,
          0.4622421018697614,
          0.46518375241779497,
          0.4526112185686653,
          0.4562782076079948,
          0.48549323017408125,
          0.484445519019987,
          0.48460670535138617,
          0.47457285622179235,
          0.47336395873629916,
          0.4687701482914248,
          0.4703014184397163,
          0.4725177304964539,
          0.4825112830431979,
          0.48380077369439073,
          0.4697372662798194,
          0.47086557059961315,
          0.4702208252740167,
          0.4747340425531914,
          0.4723162475822049,
          0.46925370728562216,
          0.47058349451966464,
          0.48831399097356537,
          0.5028610573823339,
          0.4949226305609284,
          0.49923436492585427,
          0.44805770470664086,
          0.45361863313990963,
          0.5238555770470664,
          0.5159977433913604,
          0.516602192134107,
          0.5072936814958091,
          0.4802546744036105,
          0.4626450676982592,
          0.4191247582205029,
          0.4428594455190199,
          0.49995970341715024,
          0.508019019987105,
          0.5119680851063829,
          0.5214377820760799,
          0.5159977433913604,
          0.5210348162475821,
          0.5328820116054158,
          0.5326402321083172,
          0.5322372662798194,
          0.5287717601547388,
          0.5146679561573179,
          0.518375241779497,
          0.5270793036750483,
          0.5384429400386846,
          0.5427546744036105,
          0.5051579626047711,
          0.503384912959381,
          0.5123710509348807,
          0.5479529335912314,
          0.5036669890393294,
          0.5135396518375241,
          0.5150306254029657,
          0.4941972920696324,
          0.5070519019987104,
          0.5140635074145712,
          0.4024822695035461,
          0.46550612508059314,
          0.46639264990328816,
          0.4784816247582205,
          0.49637330754352027,
          0.4915780141843971,
          0.49415699548678266,
          0.4900870406189554,
          0.5175290135396517,
          0.5068907156673114,
          0.5029416505480335,
          0.4887975499677627,
          0.44773533204384264,
          0.40070921985815594,
          0.4394745325596389,
          0.43782237266279816,
          0.3835025789813023,
          0.46147646679561566,
          0.47259832366215343,
          0.4877498388136685,
          0.5126128304319794,
          0.5149097356544164,
          0.4954464861379755,
          0.5230496453900709,
          0.5475096711798839,
          0.5591956802063184,
          0.5599210186976143,
          0.5604045776918117,
          0.5628223726627982,
          0.5479932301740812,
          0.5430770470664088,
          0.5435203094777562,
          0.5465425531914894,
          0.5292553191489362,
          0.5314716312056736,
          0.5285299806576402,
          0.5252659574468085,
          0.526434558349452,
          0.47771598968407475,
          0.5415457769181173,
          0.5403771760154739,
          0.5417472598323662,
          0.54106221792392,
          0.5452933591231462,
          0.5359042553191489,
          0.5440038684719536,
          0.5483156028368794,
          0.5512975499677627,
          0.522485493230174,
          0.5055609284332688,
          0.5145873629916183,
          0.564635718891038,
          0.565522243713733,
          0.5681818181818181,
          0.5723323662153449,
          0.5775709219858156,
          0.5813990973565442,
          0.600177304964539,
          0.6007011605415861,
          0.5725741457124436,
          0.5619358478401032,
          0.5672952933591231,
          0.56427304964539,
          0.562661186331399,
          0.555689877498388,
          0.5404980657640232,
          0.55355415860735,
          0.6003787878787878,
          0.5938104448742746,
          0.594092520954223,
          0.591795615731786,
          0.5891763378465505,
          0.5890151515151515,
          0.5845019342359768
         ]
        }
       ],
       "layout": {
        "legend": {
         "title": {
          "text": "dataset"
         }
        },
        "template": {
         "data": {
          "bar": [
           {
            "error_x": {
             "color": "#2a3f5f"
            },
            "error_y": {
             "color": "#2a3f5f"
            },
            "marker": {
             "line": {
              "color": "#E5ECF6",
              "width": 0.5
             },
             "pattern": {
              "fillmode": "overlay",
              "size": 10,
              "solidity": 0.2
             }
            },
            "type": "bar"
           }
          ],
          "barpolar": [
           {
            "marker": {
             "line": {
              "color": "#E5ECF6",
              "width": 0.5
             },
             "pattern": {
              "fillmode": "overlay",
              "size": 10,
              "solidity": 0.2
             }
            },
            "type": "barpolar"
           }
          ],
          "carpet": [
           {
            "aaxis": {
             "endlinecolor": "#2a3f5f",
             "gridcolor": "white",
             "linecolor": "white",
             "minorgridcolor": "white",
             "startlinecolor": "#2a3f5f"
            },
            "baxis": {
             "endlinecolor": "#2a3f5f",
             "gridcolor": "white",
             "linecolor": "white",
             "minorgridcolor": "white",
             "startlinecolor": "#2a3f5f"
            },
            "type": "carpet"
           }
          ],
          "choropleth": [
           {
            "colorbar": {
             "outlinewidth": 0,
             "ticks": ""
            },
            "type": "choropleth"
           }
          ],
          "contour": [
           {
            "colorbar": {
             "outlinewidth": 0,
             "ticks": ""
            },
            "colorscale": [
             [
              0,
              "#0d0887"
             ],
             [
              0.1111111111111111,
              "#46039f"
             ],
             [
              0.2222222222222222,
              "#7201a8"
             ],
             [
              0.3333333333333333,
              "#9c179e"
             ],
             [
              0.4444444444444444,
              "#bd3786"
             ],
             [
              0.5555555555555556,
              "#d8576b"
             ],
             [
              0.6666666666666666,
              "#ed7953"
             ],
             [
              0.7777777777777778,
              "#fb9f3a"
             ],
             [
              0.8888888888888888,
              "#fdca26"
             ],
             [
              1,
              "#f0f921"
             ]
            ],
            "type": "contour"
           }
          ],
          "contourcarpet": [
           {
            "colorbar": {
             "outlinewidth": 0,
             "ticks": ""
            },
            "type": "contourcarpet"
           }
          ],
          "heatmap": [
           {
            "colorbar": {
             "outlinewidth": 0,
             "ticks": ""
            },
            "colorscale": [
             [
              0,
              "#0d0887"
             ],
             [
              0.1111111111111111,
              "#46039f"
             ],
             [
              0.2222222222222222,
              "#7201a8"
             ],
             [
              0.3333333333333333,
              "#9c179e"
             ],
             [
              0.4444444444444444,
              "#bd3786"
             ],
             [
              0.5555555555555556,
              "#d8576b"
             ],
             [
              0.6666666666666666,
              "#ed7953"
             ],
             [
              0.7777777777777778,
              "#fb9f3a"
             ],
             [
              0.8888888888888888,
              "#fdca26"
             ],
             [
              1,
              "#f0f921"
             ]
            ],
            "type": "heatmap"
           }
          ],
          "heatmapgl": [
           {
            "colorbar": {
             "outlinewidth": 0,
             "ticks": ""
            },
            "colorscale": [
             [
              0,
              "#0d0887"
             ],
             [
              0.1111111111111111,
              "#46039f"
             ],
             [
              0.2222222222222222,
              "#7201a8"
             ],
             [
              0.3333333333333333,
              "#9c179e"
             ],
             [
              0.4444444444444444,
              "#bd3786"
             ],
             [
              0.5555555555555556,
              "#d8576b"
             ],
             [
              0.6666666666666666,
              "#ed7953"
             ],
             [
              0.7777777777777778,
              "#fb9f3a"
             ],
             [
              0.8888888888888888,
              "#fdca26"
             ],
             [
              1,
              "#f0f921"
             ]
            ],
            "type": "heatmapgl"
           }
          ],
          "histogram": [
           {
            "marker": {
             "pattern": {
              "fillmode": "overlay",
              "size": 10,
              "solidity": 0.2
             }
            },
            "type": "histogram"
           }
          ],
          "histogram2d": [
           {
            "colorbar": {
             "outlinewidth": 0,
             "ticks": ""
            },
            "colorscale": [
             [
              0,
              "#0d0887"
             ],
             [
              0.1111111111111111,
              "#46039f"
             ],
             [
              0.2222222222222222,
              "#7201a8"
             ],
             [
              0.3333333333333333,
              "#9c179e"
             ],
             [
              0.4444444444444444,
              "#bd3786"
             ],
             [
              0.5555555555555556,
              "#d8576b"
             ],
             [
              0.6666666666666666,
              "#ed7953"
             ],
             [
              0.7777777777777778,
              "#fb9f3a"
             ],
             [
              0.8888888888888888,
              "#fdca26"
             ],
             [
              1,
              "#f0f921"
             ]
            ],
            "type": "histogram2d"
           }
          ],
          "histogram2dcontour": [
           {
            "colorbar": {
             "outlinewidth": 0,
             "ticks": ""
            },
            "colorscale": [
             [
              0,
              "#0d0887"
             ],
             [
              0.1111111111111111,
              "#46039f"
             ],
             [
              0.2222222222222222,
              "#7201a8"
             ],
             [
              0.3333333333333333,
              "#9c179e"
             ],
             [
              0.4444444444444444,
              "#bd3786"
             ],
             [
              0.5555555555555556,
              "#d8576b"
             ],
             [
              0.6666666666666666,
              "#ed7953"
             ],
             [
              0.7777777777777778,
              "#fb9f3a"
             ],
             [
              0.8888888888888888,
              "#fdca26"
             ],
             [
              1,
              "#f0f921"
             ]
            ],
            "type": "histogram2dcontour"
           }
          ],
          "mesh3d": [
           {
            "colorbar": {
             "outlinewidth": 0,
             "ticks": ""
            },
            "type": "mesh3d"
           }
          ],
          "parcoords": [
           {
            "line": {
             "colorbar": {
              "outlinewidth": 0,
              "ticks": ""
             }
            },
            "type": "parcoords"
           }
          ],
          "pie": [
           {
            "automargin": true,
            "type": "pie"
           }
          ],
          "scatter": [
           {
            "fillpattern": {
             "fillmode": "overlay",
             "size": 10,
             "solidity": 0.2
            },
            "type": "scatter"
           }
          ],
          "scatter3d": [
           {
            "line": {
             "colorbar": {
              "outlinewidth": 0,
              "ticks": ""
             }
            },
            "marker": {
             "colorbar": {
              "outlinewidth": 0,
              "ticks": ""
             }
            },
            "type": "scatter3d"
           }
          ],
          "scattercarpet": [
           {
            "marker": {
             "colorbar": {
              "outlinewidth": 0,
              "ticks": ""
             }
            },
            "type": "scattercarpet"
           }
          ],
          "scattergeo": [
           {
            "marker": {
             "colorbar": {
              "outlinewidth": 0,
              "ticks": ""
             }
            },
            "type": "scattergeo"
           }
          ],
          "scattergl": [
           {
            "marker": {
             "colorbar": {
              "outlinewidth": 0,
              "ticks": ""
             }
            },
            "type": "scattergl"
           }
          ],
          "scattermapbox": [
           {
            "marker": {
             "colorbar": {
              "outlinewidth": 0,
              "ticks": ""
             }
            },
            "type": "scattermapbox"
           }
          ],
          "scatterpolar": [
           {
            "marker": {
             "colorbar": {
              "outlinewidth": 0,
              "ticks": ""
             }
            },
            "type": "scatterpolar"
           }
          ],
          "scatterpolargl": [
           {
            "marker": {
             "colorbar": {
              "outlinewidth": 0,
              "ticks": ""
             }
            },
            "type": "scatterpolargl"
           }
          ],
          "scatterternary": [
           {
            "marker": {
             "colorbar": {
              "outlinewidth": 0,
              "ticks": ""
             }
            },
            "type": "scatterternary"
           }
          ],
          "surface": [
           {
            "colorbar": {
             "outlinewidth": 0,
             "ticks": ""
            },
            "colorscale": [
             [
              0,
              "#0d0887"
             ],
             [
              0.1111111111111111,
              "#46039f"
             ],
             [
              0.2222222222222222,
              "#7201a8"
             ],
             [
              0.3333333333333333,
              "#9c179e"
             ],
             [
              0.4444444444444444,
              "#bd3786"
             ],
             [
              0.5555555555555556,
              "#d8576b"
             ],
             [
              0.6666666666666666,
              "#ed7953"
             ],
             [
              0.7777777777777778,
              "#fb9f3a"
             ],
             [
              0.8888888888888888,
              "#fdca26"
             ],
             [
              1,
              "#f0f921"
             ]
            ],
            "type": "surface"
           }
          ],
          "table": [
           {
            "cells": {
             "fill": {
              "color": "#EBF0F8"
             },
             "line": {
              "color": "white"
             }
            },
            "header": {
             "fill": {
              "color": "#C8D4E3"
             },
             "line": {
              "color": "white"
             }
            },
            "type": "table"
           }
          ]
         },
         "layout": {
          "annotationdefaults": {
           "arrowcolor": "#2a3f5f",
           "arrowhead": 0,
           "arrowwidth": 1
          },
          "autotypenumbers": "strict",
          "coloraxis": {
           "colorbar": {
            "outlinewidth": 0,
            "ticks": ""
           }
          },
          "colorscale": {
           "diverging": [
            [
             0,
             "#8e0152"
            ],
            [
             0.1,
             "#c51b7d"
            ],
            [
             0.2,
             "#de77ae"
            ],
            [
             0.3,
             "#f1b6da"
            ],
            [
             0.4,
             "#fde0ef"
            ],
            [
             0.5,
             "#f7f7f7"
            ],
            [
             0.6,
             "#e6f5d0"
            ],
            [
             0.7,
             "#b8e186"
            ],
            [
             0.8,
             "#7fbc41"
            ],
            [
             0.9,
             "#4d9221"
            ],
            [
             1,
             "#276419"
            ]
           ],
           "sequential": [
            [
             0,
             "#0d0887"
            ],
            [
             0.1111111111111111,
             "#46039f"
            ],
            [
             0.2222222222222222,
             "#7201a8"
            ],
            [
             0.3333333333333333,
             "#9c179e"
            ],
            [
             0.4444444444444444,
             "#bd3786"
            ],
            [
             0.5555555555555556,
             "#d8576b"
            ],
            [
             0.6666666666666666,
             "#ed7953"
            ],
            [
             0.7777777777777778,
             "#fb9f3a"
            ],
            [
             0.8888888888888888,
             "#fdca26"
            ],
            [
             1,
             "#f0f921"
            ]
           ],
           "sequentialminus": [
            [
             0,
             "#0d0887"
            ],
            [
             0.1111111111111111,
             "#46039f"
            ],
            [
             0.2222222222222222,
             "#7201a8"
            ],
            [
             0.3333333333333333,
             "#9c179e"
            ],
            [
             0.4444444444444444,
             "#bd3786"
            ],
            [
             0.5555555555555556,
             "#d8576b"
            ],
            [
             0.6666666666666666,
             "#ed7953"
            ],
            [
             0.7777777777777778,
             "#fb9f3a"
            ],
            [
             0.8888888888888888,
             "#fdca26"
            ],
            [
             1,
             "#f0f921"
            ]
           ]
          },
          "colorway": [
           "#636efa",
           "#EF553B",
           "#00cc96",
           "#ab63fa",
           "#FFA15A",
           "#19d3f3",
           "#FF6692",
           "#B6E880",
           "#FF97FF",
           "#FECB52"
          ],
          "font": {
           "color": "#2a3f5f"
          },
          "geo": {
           "bgcolor": "white",
           "lakecolor": "white",
           "landcolor": "#E5ECF6",
           "showlakes": true,
           "showland": true,
           "subunitcolor": "white"
          },
          "hoverlabel": {
           "align": "left"
          },
          "hovermode": "closest",
          "mapbox": {
           "style": "light"
          },
          "paper_bgcolor": "white",
          "plot_bgcolor": "#E5ECF6",
          "polar": {
           "angularaxis": {
            "gridcolor": "white",
            "linecolor": "white",
            "ticks": ""
           },
           "bgcolor": "#E5ECF6",
           "radialaxis": {
            "gridcolor": "white",
            "linecolor": "white",
            "ticks": ""
           }
          },
          "scene": {
           "xaxis": {
            "backgroundcolor": "#E5ECF6",
            "gridcolor": "white",
            "gridwidth": 2,
            "linecolor": "white",
            "showbackground": true,
            "ticks": "",
            "zerolinecolor": "white"
           },
           "yaxis": {
            "backgroundcolor": "#E5ECF6",
            "gridcolor": "white",
            "gridwidth": 2,
            "linecolor": "white",
            "showbackground": true,
            "ticks": "",
            "zerolinecolor": "white"
           },
           "zaxis": {
            "backgroundcolor": "#E5ECF6",
            "gridcolor": "white",
            "gridwidth": 2,
            "linecolor": "white",
            "showbackground": true,
            "ticks": "",
            "zerolinecolor": "white"
           }
          },
          "shapedefaults": {
           "line": {
            "color": "#2a3f5f"
           }
          },
          "ternary": {
           "aaxis": {
            "gridcolor": "white",
            "linecolor": "white",
            "ticks": ""
           },
           "baxis": {
            "gridcolor": "white",
            "linecolor": "white",
            "ticks": ""
           },
           "bgcolor": "#E5ECF6",
           "caxis": {
            "gridcolor": "white",
            "linecolor": "white",
            "ticks": ""
           }
          },
          "title": {
           "x": 0.05
          },
          "xaxis": {
           "automargin": true,
           "gridcolor": "white",
           "linecolor": "white",
           "ticks": "",
           "title": {
            "standoff": 15
           },
           "zerolinecolor": "white",
           "zerolinewidth": 2
          },
          "yaxis": {
           "automargin": true,
           "gridcolor": "white",
           "linecolor": "white",
           "ticks": "",
           "title": {
            "standoff": 15
           },
           "zerolinecolor": "white",
           "zerolinewidth": 2
          }
         }
        },
        "title": {
         "text": "normalized objectives"
        },
        "xaxis": {
         "title": {
          "text": "time in s"
         }
        },
        "yaxis": {
         "title": {
          "text": "inverted normalized objectives"
         }
        }
       }
      }
     },
     "metadata": {},
     "output_type": "display_data"
    }
   ],
   "source": [
    "\n",
    "network_name = \"delete3\"\n",
    "configuration_name =\"algorithm_config_3LIVE\"\n",
    "results_directory = \"./datastore/{network_name}/{configuration_name}/\".format(network_name=network_name, configuration_name= configuration_name)\n",
    "objective_np_array = np.array([])\n",
    "with open(results_directory + \"/objectives_result.json\", mode=\"r\",encoding=\"utf-8\") as openfile:\n",
    "    result_dict_object = json.load(openfile)\n",
    "    objective_np_array = np.array(result_dict_object)\n",
    "    objective_np_array[:, 1:] *= -1\n",
    "\n",
    "\n",
    "\n",
    "approx_ideal = objective_np_array[:, 1:].min(axis=0)\n",
    "approx_nadir  = objective_np_array[:, 1:].max(axis=0)\n",
    "\n",
    "normalized_solutions_list = np.array((objective_np_array[:, 1:] - approx_ideal) / (approx_nadir - approx_ideal))\n",
    "\n",
    "hv = Hypervolume(ref_point=np.array([1.1, 1.1]),\n",
    "                     norm_ref_point=False,\n",
    "                     zero_to_one=False,\n",
    "                     ideal=approx_ideal,\n",
    "                     nadir=approx_nadir)\n",
    "\n",
    "hv_list = [hv(solution) for solution in normalized_solutions_list]\n",
    "\n",
    "\n",
    "fig4 = go.Figure()\n",
    "\n",
    "fig4.update_layout(\n",
    "    title=\"hypervolume\",\n",
    "    xaxis_title=\"time in s\",\n",
    "    yaxis_title=\"Hypervolume\",\n",
    "    legend_title=\"dataset\")\n",
    "fig4.add_trace(\n",
    "        go.Scatter(\n",
    "            x=objective_np_array[:, 0],\n",
    "            y=hv_list,\n",
    "            mode='lines+markers',\n",
    "        ))\n",
    "fig5 = go.Figure()\n",
    "\n",
    "fig5.update_layout(\n",
    "    title=\"normalized objectives\",\n",
    "    xaxis_title=\"energy_efficiency\",\n",
    "    yaxis_title=\"avg_dl_datarate\",\n",
    "    legend_title=\"dataset\")\n",
    "\n",
    "fig5.add_trace(\n",
    "        go.Scatter(\n",
    "            x=normalized_solutions_list[:, 0],\n",
    "            y=normalized_solutions_list[:, 1],\n",
    "            text=[str(elem) for elem in objective_np_array[:,0]],\n",
    "            mode='markers',\n",
    "        ))\n",
    "fig6 = go.Figure()\n",
    "\n",
    "fig6.update_layout(\n",
    "    title=\"normalized objectives\",\n",
    "    xaxis_title=\"time in s\",\n",
    "    yaxis_title=\"inverted normalized objectives\",\n",
    "    legend_title=\"dataset\")\n",
    "\n",
    "fig6.add_trace(\n",
    "        go.Scatter(\n",
    "            x=objective_np_array[:, 0],\n",
    "            y=normalized_solutions_list[:, 0],\n",
    "            name=\"energy_efficiency\",\n",
    "            mode='lines+markers',\n",
    "        ))\n",
    "fig6.add_trace(\n",
    "        go.Scatter(\n",
    "            x=objective_np_array[:, 0],\n",
    "            y=normalized_solutions_list[:, 1],\n",
    "            name=\"avrg_dl_datarate\",\n",
    "            mode='lines+markers',\n",
    "        ))\n",
    "\n",
    "fig4.show()\n",
    "fig5.show()\n",
    "fig6.show()"
   ]
  }
 ],
 "metadata": {
  "kernelspec": {
   "display_name": "Python 3 (ipykernel)",
   "language": "python",
   "name": "python3"
  },
  "language_info": {
   "codemirror_mode": {
    "name": "ipython",
    "version": 3
   },
   "file_extension": ".py",
   "mimetype": "text/x-python",
   "name": "python",
   "nbconvert_exporter": "python",
   "pygments_lexer": "ipython3",
   "version": "3.11.0"
  },
  "toc-autonumbering": true,
  "toc-showcode": false,
  "toc-showmarkdowntxt": true
 },
 "nbformat": 4,
 "nbformat_minor": 5
}
