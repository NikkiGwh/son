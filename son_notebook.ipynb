{
 "cells": [
  {
   "cell_type": "code",
   "execution_count": 37,
   "id": "456d08ba-1532-4643-bfe8-20df19cbf8ba",
   "metadata": {},
   "outputs": [],
   "source": [
    "import son_main_script as soon\n",
    "import plotly.express as px\n",
    "import plotly.graph_objects as go\n",
    "import pandas as pd\n",
    "from pymoo.indicators.hv import Hypervolume\n",
    "import json\n",
    "import os\n",
    "import plotly.graph_objects as go\n",
    "import numpy as np"
   ]
  },
  {
   "cell_type": "code",
   "execution_count": 38,
   "id": "936b4445-0b1d-4049-9c5a-832d31ebf19d",
   "metadata": {},
   "outputs": [
    {
     "data": {
      "application/vnd.plotly.v1+json": {
       "config": {
        "plotlyServerURL": "https://plot.ly"
       },
       "data": [
        {
         "mode": "markers",
         "name": "algorithm_config_3_STATIC",
         "type": "scatter",
         "x": [
          0.1710398445092307,
          0.4321347586653708,
          0.08195659216067269,
          0.6708778749595065,
          0.08940719144800657,
          0,
          0.28668610301263303,
          0.5082604470359553,
          1
         ],
         "y": [
          0.6597337770382691,
          0.3448419301164725,
          0.9808652246256242,
          0.008319467554076549,
          0.6834442595673874,
          1,
          0.3514975041597339,
          0.013311148086521923,
          0
         ]
        }
       ],
       "layout": {
        "legend": {
         "title": {
          "text": "configuration names"
         }
        },
        "template": {
         "data": {
          "bar": [
           {
            "error_x": {
             "color": "#2a3f5f"
            },
            "error_y": {
             "color": "#2a3f5f"
            },
            "marker": {
             "line": {
              "color": "#E5ECF6",
              "width": 0.5
             },
             "pattern": {
              "fillmode": "overlay",
              "size": 10,
              "solidity": 0.2
             }
            },
            "type": "bar"
           }
          ],
          "barpolar": [
           {
            "marker": {
             "line": {
              "color": "#E5ECF6",
              "width": 0.5
             },
             "pattern": {
              "fillmode": "overlay",
              "size": 10,
              "solidity": 0.2
             }
            },
            "type": "barpolar"
           }
          ],
          "carpet": [
           {
            "aaxis": {
             "endlinecolor": "#2a3f5f",
             "gridcolor": "white",
             "linecolor": "white",
             "minorgridcolor": "white",
             "startlinecolor": "#2a3f5f"
            },
            "baxis": {
             "endlinecolor": "#2a3f5f",
             "gridcolor": "white",
             "linecolor": "white",
             "minorgridcolor": "white",
             "startlinecolor": "#2a3f5f"
            },
            "type": "carpet"
           }
          ],
          "choropleth": [
           {
            "colorbar": {
             "outlinewidth": 0,
             "ticks": ""
            },
            "type": "choropleth"
           }
          ],
          "contour": [
           {
            "colorbar": {
             "outlinewidth": 0,
             "ticks": ""
            },
            "colorscale": [
             [
              0,
              "#0d0887"
             ],
             [
              0.1111111111111111,
              "#46039f"
             ],
             [
              0.2222222222222222,
              "#7201a8"
             ],
             [
              0.3333333333333333,
              "#9c179e"
             ],
             [
              0.4444444444444444,
              "#bd3786"
             ],
             [
              0.5555555555555556,
              "#d8576b"
             ],
             [
              0.6666666666666666,
              "#ed7953"
             ],
             [
              0.7777777777777778,
              "#fb9f3a"
             ],
             [
              0.8888888888888888,
              "#fdca26"
             ],
             [
              1,
              "#f0f921"
             ]
            ],
            "type": "contour"
           }
          ],
          "contourcarpet": [
           {
            "colorbar": {
             "outlinewidth": 0,
             "ticks": ""
            },
            "type": "contourcarpet"
           }
          ],
          "heatmap": [
           {
            "colorbar": {
             "outlinewidth": 0,
             "ticks": ""
            },
            "colorscale": [
             [
              0,
              "#0d0887"
             ],
             [
              0.1111111111111111,
              "#46039f"
             ],
             [
              0.2222222222222222,
              "#7201a8"
             ],
             [
              0.3333333333333333,
              "#9c179e"
             ],
             [
              0.4444444444444444,
              "#bd3786"
             ],
             [
              0.5555555555555556,
              "#d8576b"
             ],
             [
              0.6666666666666666,
              "#ed7953"
             ],
             [
              0.7777777777777778,
              "#fb9f3a"
             ],
             [
              0.8888888888888888,
              "#fdca26"
             ],
             [
              1,
              "#f0f921"
             ]
            ],
            "type": "heatmap"
           }
          ],
          "heatmapgl": [
           {
            "colorbar": {
             "outlinewidth": 0,
             "ticks": ""
            },
            "colorscale": [
             [
              0,
              "#0d0887"
             ],
             [
              0.1111111111111111,
              "#46039f"
             ],
             [
              0.2222222222222222,
              "#7201a8"
             ],
             [
              0.3333333333333333,
              "#9c179e"
             ],
             [
              0.4444444444444444,
              "#bd3786"
             ],
             [
              0.5555555555555556,
              "#d8576b"
             ],
             [
              0.6666666666666666,
              "#ed7953"
             ],
             [
              0.7777777777777778,
              "#fb9f3a"
             ],
             [
              0.8888888888888888,
              "#fdca26"
             ],
             [
              1,
              "#f0f921"
             ]
            ],
            "type": "heatmapgl"
           }
          ],
          "histogram": [
           {
            "marker": {
             "pattern": {
              "fillmode": "overlay",
              "size": 10,
              "solidity": 0.2
             }
            },
            "type": "histogram"
           }
          ],
          "histogram2d": [
           {
            "colorbar": {
             "outlinewidth": 0,
             "ticks": ""
            },
            "colorscale": [
             [
              0,
              "#0d0887"
             ],
             [
              0.1111111111111111,
              "#46039f"
             ],
             [
              0.2222222222222222,
              "#7201a8"
             ],
             [
              0.3333333333333333,
              "#9c179e"
             ],
             [
              0.4444444444444444,
              "#bd3786"
             ],
             [
              0.5555555555555556,
              "#d8576b"
             ],
             [
              0.6666666666666666,
              "#ed7953"
             ],
             [
              0.7777777777777778,
              "#fb9f3a"
             ],
             [
              0.8888888888888888,
              "#fdca26"
             ],
             [
              1,
              "#f0f921"
             ]
            ],
            "type": "histogram2d"
           }
          ],
          "histogram2dcontour": [
           {
            "colorbar": {
             "outlinewidth": 0,
             "ticks": ""
            },
            "colorscale": [
             [
              0,
              "#0d0887"
             ],
             [
              0.1111111111111111,
              "#46039f"
             ],
             [
              0.2222222222222222,
              "#7201a8"
             ],
             [
              0.3333333333333333,
              "#9c179e"
             ],
             [
              0.4444444444444444,
              "#bd3786"
             ],
             [
              0.5555555555555556,
              "#d8576b"
             ],
             [
              0.6666666666666666,
              "#ed7953"
             ],
             [
              0.7777777777777778,
              "#fb9f3a"
             ],
             [
              0.8888888888888888,
              "#fdca26"
             ],
             [
              1,
              "#f0f921"
             ]
            ],
            "type": "histogram2dcontour"
           }
          ],
          "mesh3d": [
           {
            "colorbar": {
             "outlinewidth": 0,
             "ticks": ""
            },
            "type": "mesh3d"
           }
          ],
          "parcoords": [
           {
            "line": {
             "colorbar": {
              "outlinewidth": 0,
              "ticks": ""
             }
            },
            "type": "parcoords"
           }
          ],
          "pie": [
           {
            "automargin": true,
            "type": "pie"
           }
          ],
          "scatter": [
           {
            "fillpattern": {
             "fillmode": "overlay",
             "size": 10,
             "solidity": 0.2
            },
            "type": "scatter"
           }
          ],
          "scatter3d": [
           {
            "line": {
             "colorbar": {
              "outlinewidth": 0,
              "ticks": ""
             }
            },
            "marker": {
             "colorbar": {
              "outlinewidth": 0,
              "ticks": ""
             }
            },
            "type": "scatter3d"
           }
          ],
          "scattercarpet": [
           {
            "marker": {
             "colorbar": {
              "outlinewidth": 0,
              "ticks": ""
             }
            },
            "type": "scattercarpet"
           }
          ],
          "scattergeo": [
           {
            "marker": {
             "colorbar": {
              "outlinewidth": 0,
              "ticks": ""
             }
            },
            "type": "scattergeo"
           }
          ],
          "scattergl": [
           {
            "marker": {
             "colorbar": {
              "outlinewidth": 0,
              "ticks": ""
             }
            },
            "type": "scattergl"
           }
          ],
          "scattermapbox": [
           {
            "marker": {
             "colorbar": {
              "outlinewidth": 0,
              "ticks": ""
             }
            },
            "type": "scattermapbox"
           }
          ],
          "scatterpolar": [
           {
            "marker": {
             "colorbar": {
              "outlinewidth": 0,
              "ticks": ""
             }
            },
            "type": "scatterpolar"
           }
          ],
          "scatterpolargl": [
           {
            "marker": {
             "colorbar": {
              "outlinewidth": 0,
              "ticks": ""
             }
            },
            "type": "scatterpolargl"
           }
          ],
          "scatterternary": [
           {
            "marker": {
             "colorbar": {
              "outlinewidth": 0,
              "ticks": ""
             }
            },
            "type": "scatterternary"
           }
          ],
          "surface": [
           {
            "colorbar": {
             "outlinewidth": 0,
             "ticks": ""
            },
            "colorscale": [
             [
              0,
              "#0d0887"
             ],
             [
              0.1111111111111111,
              "#46039f"
             ],
             [
              0.2222222222222222,
              "#7201a8"
             ],
             [
              0.3333333333333333,
              "#9c179e"
             ],
             [
              0.4444444444444444,
              "#bd3786"
             ],
             [
              0.5555555555555556,
              "#d8576b"
             ],
             [
              0.6666666666666666,
              "#ed7953"
             ],
             [
              0.7777777777777778,
              "#fb9f3a"
             ],
             [
              0.8888888888888888,
              "#fdca26"
             ],
             [
              1,
              "#f0f921"
             ]
            ],
            "type": "surface"
           }
          ],
          "table": [
           {
            "cells": {
             "fill": {
              "color": "#EBF0F8"
             },
             "line": {
              "color": "white"
             }
            },
            "header": {
             "fill": {
              "color": "#C8D4E3"
             },
             "line": {
              "color": "white"
             }
            },
            "type": "table"
           }
          ]
         },
         "layout": {
          "annotationdefaults": {
           "arrowcolor": "#2a3f5f",
           "arrowhead": 0,
           "arrowwidth": 1
          },
          "autotypenumbers": "strict",
          "coloraxis": {
           "colorbar": {
            "outlinewidth": 0,
            "ticks": ""
           }
          },
          "colorscale": {
           "diverging": [
            [
             0,
             "#8e0152"
            ],
            [
             0.1,
             "#c51b7d"
            ],
            [
             0.2,
             "#de77ae"
            ],
            [
             0.3,
             "#f1b6da"
            ],
            [
             0.4,
             "#fde0ef"
            ],
            [
             0.5,
             "#f7f7f7"
            ],
            [
             0.6,
             "#e6f5d0"
            ],
            [
             0.7,
             "#b8e186"
            ],
            [
             0.8,
             "#7fbc41"
            ],
            [
             0.9,
             "#4d9221"
            ],
            [
             1,
             "#276419"
            ]
           ],
           "sequential": [
            [
             0,
             "#0d0887"
            ],
            [
             0.1111111111111111,
             "#46039f"
            ],
            [
             0.2222222222222222,
             "#7201a8"
            ],
            [
             0.3333333333333333,
             "#9c179e"
            ],
            [
             0.4444444444444444,
             "#bd3786"
            ],
            [
             0.5555555555555556,
             "#d8576b"
            ],
            [
             0.6666666666666666,
             "#ed7953"
            ],
            [
             0.7777777777777778,
             "#fb9f3a"
            ],
            [
             0.8888888888888888,
             "#fdca26"
            ],
            [
             1,
             "#f0f921"
            ]
           ],
           "sequentialminus": [
            [
             0,
             "#0d0887"
            ],
            [
             0.1111111111111111,
             "#46039f"
            ],
            [
             0.2222222222222222,
             "#7201a8"
            ],
            [
             0.3333333333333333,
             "#9c179e"
            ],
            [
             0.4444444444444444,
             "#bd3786"
            ],
            [
             0.5555555555555556,
             "#d8576b"
            ],
            [
             0.6666666666666666,
             "#ed7953"
            ],
            [
             0.7777777777777778,
             "#fb9f3a"
            ],
            [
             0.8888888888888888,
             "#fdca26"
            ],
            [
             1,
             "#f0f921"
            ]
           ]
          },
          "colorway": [
           "#636efa",
           "#EF553B",
           "#00cc96",
           "#ab63fa",
           "#FFA15A",
           "#19d3f3",
           "#FF6692",
           "#B6E880",
           "#FF97FF",
           "#FECB52"
          ],
          "font": {
           "color": "#2a3f5f"
          },
          "geo": {
           "bgcolor": "white",
           "lakecolor": "white",
           "landcolor": "#E5ECF6",
           "showlakes": true,
           "showland": true,
           "subunitcolor": "white"
          },
          "hoverlabel": {
           "align": "left"
          },
          "hovermode": "closest",
          "mapbox": {
           "style": "light"
          },
          "paper_bgcolor": "white",
          "plot_bgcolor": "#E5ECF6",
          "polar": {
           "angularaxis": {
            "gridcolor": "white",
            "linecolor": "white",
            "ticks": ""
           },
           "bgcolor": "#E5ECF6",
           "radialaxis": {
            "gridcolor": "white",
            "linecolor": "white",
            "ticks": ""
           }
          },
          "scene": {
           "xaxis": {
            "backgroundcolor": "#E5ECF6",
            "gridcolor": "white",
            "gridwidth": 2,
            "linecolor": "white",
            "showbackground": true,
            "ticks": "",
            "zerolinecolor": "white"
           },
           "yaxis": {
            "backgroundcolor": "#E5ECF6",
            "gridcolor": "white",
            "gridwidth": 2,
            "linecolor": "white",
            "showbackground": true,
            "ticks": "",
            "zerolinecolor": "white"
           },
           "zaxis": {
            "backgroundcolor": "#E5ECF6",
            "gridcolor": "white",
            "gridwidth": 2,
            "linecolor": "white",
            "showbackground": true,
            "ticks": "",
            "zerolinecolor": "white"
           }
          },
          "shapedefaults": {
           "line": {
            "color": "#2a3f5f"
           }
          },
          "ternary": {
           "aaxis": {
            "gridcolor": "white",
            "linecolor": "white",
            "ticks": ""
           },
           "baxis": {
            "gridcolor": "white",
            "linecolor": "white",
            "ticks": ""
           },
           "bgcolor": "#E5ECF6",
           "caxis": {
            "gridcolor": "white",
            "linecolor": "white",
            "ticks": ""
           }
          },
          "title": {
           "x": 0.05
          },
          "xaxis": {
           "automargin": true,
           "gridcolor": "white",
           "linecolor": "white",
           "ticks": "",
           "title": {
            "standoff": 15
           },
           "zerolinecolor": "white",
           "zerolinewidth": 2
          },
          "yaxis": {
           "automargin": true,
           "gridcolor": "white",
           "linecolor": "white",
           "ticks": "",
           "title": {
            "standoff": 15
           },
           "zerolinecolor": "white",
           "zerolinewidth": 2
          }
         }
        },
        "title": {
         "text": "pareto fronts"
        },
        "xaxis": {
         "title": {
          "text": "AVG_DL_RATE"
         }
        },
        "yaxis": {
         "title": {
          "text": "ENERGY_EFFICIENCY"
         }
        }
       }
      }
     },
     "metadata": {},
     "output_type": "display_data"
    },
    {
     "data": {
      "application/vnd.plotly.v1+json": {
       "config": {
        "plotlyServerURL": "https://plot.ly"
       },
       "data": [
        {
         "mode": "markers",
         "name": "algorithm_config_3_STATIC",
         "type": "scatter",
         "x": [
          -4.3723,
          -4.2917,
          -4.3998,
          -4.218,
          -4.3975,
          -4.4251,
          -4.3366,
          -4.2682,
          -4.1164
         ],
         "y": [
          -1.1385,
          -1.2142,
          -1.0613,
          -1.2951,
          -1.1328,
          -1.0567,
          -1.2126,
          -1.2939,
          -1.2971
         ]
        }
       ],
       "layout": {
        "legend": {
         "title": {
          "text": "configuration names"
         }
        },
        "template": {
         "data": {
          "bar": [
           {
            "error_x": {
             "color": "#2a3f5f"
            },
            "error_y": {
             "color": "#2a3f5f"
            },
            "marker": {
             "line": {
              "color": "#E5ECF6",
              "width": 0.5
             },
             "pattern": {
              "fillmode": "overlay",
              "size": 10,
              "solidity": 0.2
             }
            },
            "type": "bar"
           }
          ],
          "barpolar": [
           {
            "marker": {
             "line": {
              "color": "#E5ECF6",
              "width": 0.5
             },
             "pattern": {
              "fillmode": "overlay",
              "size": 10,
              "solidity": 0.2
             }
            },
            "type": "barpolar"
           }
          ],
          "carpet": [
           {
            "aaxis": {
             "endlinecolor": "#2a3f5f",
             "gridcolor": "white",
             "linecolor": "white",
             "minorgridcolor": "white",
             "startlinecolor": "#2a3f5f"
            },
            "baxis": {
             "endlinecolor": "#2a3f5f",
             "gridcolor": "white",
             "linecolor": "white",
             "minorgridcolor": "white",
             "startlinecolor": "#2a3f5f"
            },
            "type": "carpet"
           }
          ],
          "choropleth": [
           {
            "colorbar": {
             "outlinewidth": 0,
             "ticks": ""
            },
            "type": "choropleth"
           }
          ],
          "contour": [
           {
            "colorbar": {
             "outlinewidth": 0,
             "ticks": ""
            },
            "colorscale": [
             [
              0,
              "#0d0887"
             ],
             [
              0.1111111111111111,
              "#46039f"
             ],
             [
              0.2222222222222222,
              "#7201a8"
             ],
             [
              0.3333333333333333,
              "#9c179e"
             ],
             [
              0.4444444444444444,
              "#bd3786"
             ],
             [
              0.5555555555555556,
              "#d8576b"
             ],
             [
              0.6666666666666666,
              "#ed7953"
             ],
             [
              0.7777777777777778,
              "#fb9f3a"
             ],
             [
              0.8888888888888888,
              "#fdca26"
             ],
             [
              1,
              "#f0f921"
             ]
            ],
            "type": "contour"
           }
          ],
          "contourcarpet": [
           {
            "colorbar": {
             "outlinewidth": 0,
             "ticks": ""
            },
            "type": "contourcarpet"
           }
          ],
          "heatmap": [
           {
            "colorbar": {
             "outlinewidth": 0,
             "ticks": ""
            },
            "colorscale": [
             [
              0,
              "#0d0887"
             ],
             [
              0.1111111111111111,
              "#46039f"
             ],
             [
              0.2222222222222222,
              "#7201a8"
             ],
             [
              0.3333333333333333,
              "#9c179e"
             ],
             [
              0.4444444444444444,
              "#bd3786"
             ],
             [
              0.5555555555555556,
              "#d8576b"
             ],
             [
              0.6666666666666666,
              "#ed7953"
             ],
             [
              0.7777777777777778,
              "#fb9f3a"
             ],
             [
              0.8888888888888888,
              "#fdca26"
             ],
             [
              1,
              "#f0f921"
             ]
            ],
            "type": "heatmap"
           }
          ],
          "heatmapgl": [
           {
            "colorbar": {
             "outlinewidth": 0,
             "ticks": ""
            },
            "colorscale": [
             [
              0,
              "#0d0887"
             ],
             [
              0.1111111111111111,
              "#46039f"
             ],
             [
              0.2222222222222222,
              "#7201a8"
             ],
             [
              0.3333333333333333,
              "#9c179e"
             ],
             [
              0.4444444444444444,
              "#bd3786"
             ],
             [
              0.5555555555555556,
              "#d8576b"
             ],
             [
              0.6666666666666666,
              "#ed7953"
             ],
             [
              0.7777777777777778,
              "#fb9f3a"
             ],
             [
              0.8888888888888888,
              "#fdca26"
             ],
             [
              1,
              "#f0f921"
             ]
            ],
            "type": "heatmapgl"
           }
          ],
          "histogram": [
           {
            "marker": {
             "pattern": {
              "fillmode": "overlay",
              "size": 10,
              "solidity": 0.2
             }
            },
            "type": "histogram"
           }
          ],
          "histogram2d": [
           {
            "colorbar": {
             "outlinewidth": 0,
             "ticks": ""
            },
            "colorscale": [
             [
              0,
              "#0d0887"
             ],
             [
              0.1111111111111111,
              "#46039f"
             ],
             [
              0.2222222222222222,
              "#7201a8"
             ],
             [
              0.3333333333333333,
              "#9c179e"
             ],
             [
              0.4444444444444444,
              "#bd3786"
             ],
             [
              0.5555555555555556,
              "#d8576b"
             ],
             [
              0.6666666666666666,
              "#ed7953"
             ],
             [
              0.7777777777777778,
              "#fb9f3a"
             ],
             [
              0.8888888888888888,
              "#fdca26"
             ],
             [
              1,
              "#f0f921"
             ]
            ],
            "type": "histogram2d"
           }
          ],
          "histogram2dcontour": [
           {
            "colorbar": {
             "outlinewidth": 0,
             "ticks": ""
            },
            "colorscale": [
             [
              0,
              "#0d0887"
             ],
             [
              0.1111111111111111,
              "#46039f"
             ],
             [
              0.2222222222222222,
              "#7201a8"
             ],
             [
              0.3333333333333333,
              "#9c179e"
             ],
             [
              0.4444444444444444,
              "#bd3786"
             ],
             [
              0.5555555555555556,
              "#d8576b"
             ],
             [
              0.6666666666666666,
              "#ed7953"
             ],
             [
              0.7777777777777778,
              "#fb9f3a"
             ],
             [
              0.8888888888888888,
              "#fdca26"
             ],
             [
              1,
              "#f0f921"
             ]
            ],
            "type": "histogram2dcontour"
           }
          ],
          "mesh3d": [
           {
            "colorbar": {
             "outlinewidth": 0,
             "ticks": ""
            },
            "type": "mesh3d"
           }
          ],
          "parcoords": [
           {
            "line": {
             "colorbar": {
              "outlinewidth": 0,
              "ticks": ""
             }
            },
            "type": "parcoords"
           }
          ],
          "pie": [
           {
            "automargin": true,
            "type": "pie"
           }
          ],
          "scatter": [
           {
            "fillpattern": {
             "fillmode": "overlay",
             "size": 10,
             "solidity": 0.2
            },
            "type": "scatter"
           }
          ],
          "scatter3d": [
           {
            "line": {
             "colorbar": {
              "outlinewidth": 0,
              "ticks": ""
             }
            },
            "marker": {
             "colorbar": {
              "outlinewidth": 0,
              "ticks": ""
             }
            },
            "type": "scatter3d"
           }
          ],
          "scattercarpet": [
           {
            "marker": {
             "colorbar": {
              "outlinewidth": 0,
              "ticks": ""
             }
            },
            "type": "scattercarpet"
           }
          ],
          "scattergeo": [
           {
            "marker": {
             "colorbar": {
              "outlinewidth": 0,
              "ticks": ""
             }
            },
            "type": "scattergeo"
           }
          ],
          "scattergl": [
           {
            "marker": {
             "colorbar": {
              "outlinewidth": 0,
              "ticks": ""
             }
            },
            "type": "scattergl"
           }
          ],
          "scattermapbox": [
           {
            "marker": {
             "colorbar": {
              "outlinewidth": 0,
              "ticks": ""
             }
            },
            "type": "scattermapbox"
           }
          ],
          "scatterpolar": [
           {
            "marker": {
             "colorbar": {
              "outlinewidth": 0,
              "ticks": ""
             }
            },
            "type": "scatterpolar"
           }
          ],
          "scatterpolargl": [
           {
            "marker": {
             "colorbar": {
              "outlinewidth": 0,
              "ticks": ""
             }
            },
            "type": "scatterpolargl"
           }
          ],
          "scatterternary": [
           {
            "marker": {
             "colorbar": {
              "outlinewidth": 0,
              "ticks": ""
             }
            },
            "type": "scatterternary"
           }
          ],
          "surface": [
           {
            "colorbar": {
             "outlinewidth": 0,
             "ticks": ""
            },
            "colorscale": [
             [
              0,
              "#0d0887"
             ],
             [
              0.1111111111111111,
              "#46039f"
             ],
             [
              0.2222222222222222,
              "#7201a8"
             ],
             [
              0.3333333333333333,
              "#9c179e"
             ],
             [
              0.4444444444444444,
              "#bd3786"
             ],
             [
              0.5555555555555556,
              "#d8576b"
             ],
             [
              0.6666666666666666,
              "#ed7953"
             ],
             [
              0.7777777777777778,
              "#fb9f3a"
             ],
             [
              0.8888888888888888,
              "#fdca26"
             ],
             [
              1,
              "#f0f921"
             ]
            ],
            "type": "surface"
           }
          ],
          "table": [
           {
            "cells": {
             "fill": {
              "color": "#EBF0F8"
             },
             "line": {
              "color": "white"
             }
            },
            "header": {
             "fill": {
              "color": "#C8D4E3"
             },
             "line": {
              "color": "white"
             }
            },
            "type": "table"
           }
          ]
         },
         "layout": {
          "annotationdefaults": {
           "arrowcolor": "#2a3f5f",
           "arrowhead": 0,
           "arrowwidth": 1
          },
          "autotypenumbers": "strict",
          "coloraxis": {
           "colorbar": {
            "outlinewidth": 0,
            "ticks": ""
           }
          },
          "colorscale": {
           "diverging": [
            [
             0,
             "#8e0152"
            ],
            [
             0.1,
             "#c51b7d"
            ],
            [
             0.2,
             "#de77ae"
            ],
            [
             0.3,
             "#f1b6da"
            ],
            [
             0.4,
             "#fde0ef"
            ],
            [
             0.5,
             "#f7f7f7"
            ],
            [
             0.6,
             "#e6f5d0"
            ],
            [
             0.7,
             "#b8e186"
            ],
            [
             0.8,
             "#7fbc41"
            ],
            [
             0.9,
             "#4d9221"
            ],
            [
             1,
             "#276419"
            ]
           ],
           "sequential": [
            [
             0,
             "#0d0887"
            ],
            [
             0.1111111111111111,
             "#46039f"
            ],
            [
             0.2222222222222222,
             "#7201a8"
            ],
            [
             0.3333333333333333,
             "#9c179e"
            ],
            [
             0.4444444444444444,
             "#bd3786"
            ],
            [
             0.5555555555555556,
             "#d8576b"
            ],
            [
             0.6666666666666666,
             "#ed7953"
            ],
            [
             0.7777777777777778,
             "#fb9f3a"
            ],
            [
             0.8888888888888888,
             "#fdca26"
            ],
            [
             1,
             "#f0f921"
            ]
           ],
           "sequentialminus": [
            [
             0,
             "#0d0887"
            ],
            [
             0.1111111111111111,
             "#46039f"
            ],
            [
             0.2222222222222222,
             "#7201a8"
            ],
            [
             0.3333333333333333,
             "#9c179e"
            ],
            [
             0.4444444444444444,
             "#bd3786"
            ],
            [
             0.5555555555555556,
             "#d8576b"
            ],
            [
             0.6666666666666666,
             "#ed7953"
            ],
            [
             0.7777777777777778,
             "#fb9f3a"
            ],
            [
             0.8888888888888888,
             "#fdca26"
            ],
            [
             1,
             "#f0f921"
            ]
           ]
          },
          "colorway": [
           "#636efa",
           "#EF553B",
           "#00cc96",
           "#ab63fa",
           "#FFA15A",
           "#19d3f3",
           "#FF6692",
           "#B6E880",
           "#FF97FF",
           "#FECB52"
          ],
          "font": {
           "color": "#2a3f5f"
          },
          "geo": {
           "bgcolor": "white",
           "lakecolor": "white",
           "landcolor": "#E5ECF6",
           "showlakes": true,
           "showland": true,
           "subunitcolor": "white"
          },
          "hoverlabel": {
           "align": "left"
          },
          "hovermode": "closest",
          "mapbox": {
           "style": "light"
          },
          "paper_bgcolor": "white",
          "plot_bgcolor": "#E5ECF6",
          "polar": {
           "angularaxis": {
            "gridcolor": "white",
            "linecolor": "white",
            "ticks": ""
           },
           "bgcolor": "#E5ECF6",
           "radialaxis": {
            "gridcolor": "white",
            "linecolor": "white",
            "ticks": ""
           }
          },
          "scene": {
           "xaxis": {
            "backgroundcolor": "#E5ECF6",
            "gridcolor": "white",
            "gridwidth": 2,
            "linecolor": "white",
            "showbackground": true,
            "ticks": "",
            "zerolinecolor": "white"
           },
           "yaxis": {
            "backgroundcolor": "#E5ECF6",
            "gridcolor": "white",
            "gridwidth": 2,
            "linecolor": "white",
            "showbackground": true,
            "ticks": "",
            "zerolinecolor": "white"
           },
           "zaxis": {
            "backgroundcolor": "#E5ECF6",
            "gridcolor": "white",
            "gridwidth": 2,
            "linecolor": "white",
            "showbackground": true,
            "ticks": "",
            "zerolinecolor": "white"
           }
          },
          "shapedefaults": {
           "line": {
            "color": "#2a3f5f"
           }
          },
          "ternary": {
           "aaxis": {
            "gridcolor": "white",
            "linecolor": "white",
            "ticks": ""
           },
           "baxis": {
            "gridcolor": "white",
            "linecolor": "white",
            "ticks": ""
           },
           "bgcolor": "#E5ECF6",
           "caxis": {
            "gridcolor": "white",
            "linecolor": "white",
            "ticks": ""
           }
          },
          "title": {
           "x": 0.05
          },
          "xaxis": {
           "automargin": true,
           "gridcolor": "white",
           "linecolor": "white",
           "ticks": "",
           "title": {
            "standoff": 15
           },
           "zerolinecolor": "white",
           "zerolinewidth": 2
          },
          "yaxis": {
           "automargin": true,
           "gridcolor": "white",
           "linecolor": "white",
           "ticks": "",
           "title": {
            "standoff": 15
           },
           "zerolinecolor": "white",
           "zerolinewidth": 2
          }
         }
        },
        "title": {
         "text": "objective results"
        },
        "xaxis": {
         "title": {
          "text": "AVG_DL_RATE"
         }
        },
        "yaxis": {
         "title": {
          "text": "ENERGY_EFFICIENCY"
         }
        }
       }
      }
     },
     "metadata": {},
     "output_type": "display_data"
    },
    {
     "data": {
      "application/vnd.plotly.v1+json": {
       "config": {
        "plotlyServerURL": "https://plot.ly"
       },
       "data": [
        {
         "mode": "lines+markers",
         "name": "algorithm_config_3_STATIC",
         "type": "scatter",
         "x": [
          200,
          250,
          300,
          350,
          400,
          450,
          500,
          550,
          600,
          650,
          700,
          750,
          800,
          850,
          900,
          950,
          1000,
          1050,
          1100,
          1150,
          1200,
          1250,
          1300,
          1350,
          1400,
          1450,
          1500,
          1550,
          1600,
          1650,
          1700,
          1750,
          1800,
          1850,
          1900,
          1950,
          2000,
          2050,
          2100,
          2150,
          2200,
          2250,
          2300,
          2350,
          2400,
          2450,
          2500,
          2550,
          2600,
          2650,
          2700,
          2750,
          2800,
          2850,
          2900,
          2950,
          3000,
          3050,
          3100,
          3150,
          3200,
          3250,
          3300,
          3350,
          3400,
          3450,
          3500,
          3550,
          3600,
          3650,
          3700,
          3750,
          3800,
          3850,
          3900,
          3950,
          4000,
          4050,
          4100,
          4150,
          4200,
          4250,
          4300,
          4350,
          4400,
          4450,
          4500,
          4550,
          4600,
          4650,
          4700,
          4750,
          4800,
          4850,
          4900,
          4950,
          5000,
          5050,
          5100,
          5150,
          5200,
          5250,
          5300,
          5350,
          5400,
          5450,
          5500,
          5550,
          5600,
          5650,
          5700,
          5750,
          5800,
          5850,
          5900,
          5950,
          6000,
          6050,
          6100,
          6150,
          6200,
          6250,
          6300,
          6350,
          6400,
          6450,
          6500,
          6550,
          6600,
          6650,
          6700,
          6750,
          6800,
          6850,
          6900,
          6950,
          7000,
          7050,
          7100,
          7150,
          7200,
          7250,
          7300,
          7350,
          7400,
          7450,
          7500,
          7550,
          7600,
          7650,
          7700,
          7750,
          7800,
          7850,
          7900,
          7950,
          8000,
          8050,
          8100,
          8150,
          8200,
          8250,
          8300,
          8350,
          8400,
          8450,
          8500,
          8550,
          8600,
          8650,
          8700,
          8750,
          8800,
          8850,
          8900,
          8950,
          9000,
          9050,
          9100,
          9150,
          9200,
          9250,
          9300,
          9350,
          9400,
          9450,
          9500,
          9550,
          9600,
          9650,
          9700,
          9750,
          9800,
          9850,
          9900,
          9950,
          10000,
          10050,
          10100,
          10150
         ],
         "y": [
          0,
          0,
          0,
          0,
          0,
          0,
          0,
          0,
          0,
          0,
          0,
          0,
          0,
          0,
          0,
          0,
          0,
          0,
          0,
          0,
          0,
          0,
          0,
          0,
          0,
          0,
          0,
          0,
          0,
          0,
          0,
          0,
          0,
          0,
          0,
          0,
          0,
          0,
          0,
          0,
          0,
          0,
          0,
          0,
          0,
          0,
          0,
          0,
          0,
          0,
          0,
          0,
          0,
          0,
          0,
          0,
          0,
          0,
          0,
          0,
          0,
          0,
          0.025414124607136403,
          0.03774621931808962,
          0.1264713330067002,
          0.1264713330067002,
          0.1264713330067002,
          0.1264713330067002,
          0.1264713330067002,
          0.20759158556061674,
          0.20759158556061674,
          0.24706557260413126,
          0.24706557260413126,
          0.264981803354414,
          0.264981803354414,
          0.4017780645258675,
          0.43623311110356633,
          0.43623311110356633,
          0.474879153467902,
          0.474879153467902,
          0.474879153467902,
          0.49480386053478687,
          0.49480386053478687,
          0.5395757610547606,
          0.5529013408707126,
          0.5529013408707126,
          0.5809835998419667,
          0.5809835998419667,
          0.6149207211606627,
          0.6165966209001639,
          0.6234645610086218,
          0.6287527859571068,
          0.6395669888270676,
          0.6455260399064959,
          0.6461017864082499,
          0.6461017864082499,
          0.6487633692253558,
          0.6487633692253558,
          0.6566613386500322,
          0.6600536709414779,
          0.6600536709414779,
          0.6600536709414779,
          0.6625735640900856,
          0.6641415155714474,
          0.6677617101828471,
          0.669559949484906,
          0.6856537398256999,
          0.6856537398256999,
          0.6856537398256999,
          0.697245746884446,
          0.7012629151177168,
          0.7012629151177168,
          0.7030383681877804,
          0.7284072599010307,
          0.7469354983892,
          0.7469354983892,
          0.7469354983892,
          0.7469354983892,
          0.7469354983892,
          0.747313175805147,
          0.7485507201850731,
          0.7485507201850731,
          0.7485507201850731,
          0.7518067393346711,
          0.7533807815179019,
          0.7561331858628899,
          0.7561331858628899,
          0.7561331858628899,
          0.7561331858628899,
          0.7561331858628899,
          0.762659238166388,
          0.7794334353660662,
          0.8103585698600826,
          0.8103585698600826,
          0.8183271483064362,
          0.8183271483064362,
          0.8426064107601696,
          0.8426064107601696,
          0.8426064107601696,
          0.8426064107601696,
          0.8426064107601696,
          0.8426064107601696,
          0.8426064107601696,
          0.8426064107601696,
          0.8426064107601696,
          0.8426064107601696,
          0.8426064107601696,
          0.8426064107601696,
          0.8426064107601696,
          0.8426064107601696,
          0.8426064107601696,
          0.8426064107601696,
          0.8478209139610222,
          0.8478209139610222,
          0.8478209139610222,
          0.8508020699762369,
          0.8508020699762369,
          0.8580602462044973,
          0.8652413454090953,
          0.8657878646268766,
          0.8901698066121324,
          0.8901698066121324,
          0.8901698066121324,
          0.8901698066121324,
          0.8901698066121324,
          0.8958107128438904,
          0.8958107128438904,
          0.8958107128438904,
          0.8958107128438904,
          0.8958107128438904,
          0.8958107128438904,
          0.8973437640645366,
          0.8973437640645366,
          0.8973437640645366,
          0.8973437640645366,
          0.8973437640645366,
          0.8973437640645366,
          0.8973437640645366,
          0.8973437640645366,
          0.8973437640645366,
          0.8973437640645366,
          0.8973437640645366,
          0.8973437640645366,
          0.8973437640645366,
          0.8973437640645366,
          0.8973437640645366,
          0.8973437640645366,
          0.8973437640645366,
          0.8973437640645366,
          0.8973437640645366,
          0.9060839212477654,
          0.9060839212477654,
          0.9060839212477654,
          0.9063693487853917,
          0.9063693487853917,
          0.9063693487853917,
          0.9063693487853917,
          0.9063693487853917,
          0.9063693487853917,
          0.9063693487853917
         ]
        }
       ],
       "layout": {
        "legend": {
         "title": {
          "text": "configuration names"
         }
        },
        "template": {
         "data": {
          "bar": [
           {
            "error_x": {
             "color": "#2a3f5f"
            },
            "error_y": {
             "color": "#2a3f5f"
            },
            "marker": {
             "line": {
              "color": "#E5ECF6",
              "width": 0.5
             },
             "pattern": {
              "fillmode": "overlay",
              "size": 10,
              "solidity": 0.2
             }
            },
            "type": "bar"
           }
          ],
          "barpolar": [
           {
            "marker": {
             "line": {
              "color": "#E5ECF6",
              "width": 0.5
             },
             "pattern": {
              "fillmode": "overlay",
              "size": 10,
              "solidity": 0.2
             }
            },
            "type": "barpolar"
           }
          ],
          "carpet": [
           {
            "aaxis": {
             "endlinecolor": "#2a3f5f",
             "gridcolor": "white",
             "linecolor": "white",
             "minorgridcolor": "white",
             "startlinecolor": "#2a3f5f"
            },
            "baxis": {
             "endlinecolor": "#2a3f5f",
             "gridcolor": "white",
             "linecolor": "white",
             "minorgridcolor": "white",
             "startlinecolor": "#2a3f5f"
            },
            "type": "carpet"
           }
          ],
          "choropleth": [
           {
            "colorbar": {
             "outlinewidth": 0,
             "ticks": ""
            },
            "type": "choropleth"
           }
          ],
          "contour": [
           {
            "colorbar": {
             "outlinewidth": 0,
             "ticks": ""
            },
            "colorscale": [
             [
              0,
              "#0d0887"
             ],
             [
              0.1111111111111111,
              "#46039f"
             ],
             [
              0.2222222222222222,
              "#7201a8"
             ],
             [
              0.3333333333333333,
              "#9c179e"
             ],
             [
              0.4444444444444444,
              "#bd3786"
             ],
             [
              0.5555555555555556,
              "#d8576b"
             ],
             [
              0.6666666666666666,
              "#ed7953"
             ],
             [
              0.7777777777777778,
              "#fb9f3a"
             ],
             [
              0.8888888888888888,
              "#fdca26"
             ],
             [
              1,
              "#f0f921"
             ]
            ],
            "type": "contour"
           }
          ],
          "contourcarpet": [
           {
            "colorbar": {
             "outlinewidth": 0,
             "ticks": ""
            },
            "type": "contourcarpet"
           }
          ],
          "heatmap": [
           {
            "colorbar": {
             "outlinewidth": 0,
             "ticks": ""
            },
            "colorscale": [
             [
              0,
              "#0d0887"
             ],
             [
              0.1111111111111111,
              "#46039f"
             ],
             [
              0.2222222222222222,
              "#7201a8"
             ],
             [
              0.3333333333333333,
              "#9c179e"
             ],
             [
              0.4444444444444444,
              "#bd3786"
             ],
             [
              0.5555555555555556,
              "#d8576b"
             ],
             [
              0.6666666666666666,
              "#ed7953"
             ],
             [
              0.7777777777777778,
              "#fb9f3a"
             ],
             [
              0.8888888888888888,
              "#fdca26"
             ],
             [
              1,
              "#f0f921"
             ]
            ],
            "type": "heatmap"
           }
          ],
          "heatmapgl": [
           {
            "colorbar": {
             "outlinewidth": 0,
             "ticks": ""
            },
            "colorscale": [
             [
              0,
              "#0d0887"
             ],
             [
              0.1111111111111111,
              "#46039f"
             ],
             [
              0.2222222222222222,
              "#7201a8"
             ],
             [
              0.3333333333333333,
              "#9c179e"
             ],
             [
              0.4444444444444444,
              "#bd3786"
             ],
             [
              0.5555555555555556,
              "#d8576b"
             ],
             [
              0.6666666666666666,
              "#ed7953"
             ],
             [
              0.7777777777777778,
              "#fb9f3a"
             ],
             [
              0.8888888888888888,
              "#fdca26"
             ],
             [
              1,
              "#f0f921"
             ]
            ],
            "type": "heatmapgl"
           }
          ],
          "histogram": [
           {
            "marker": {
             "pattern": {
              "fillmode": "overlay",
              "size": 10,
              "solidity": 0.2
             }
            },
            "type": "histogram"
           }
          ],
          "histogram2d": [
           {
            "colorbar": {
             "outlinewidth": 0,
             "ticks": ""
            },
            "colorscale": [
             [
              0,
              "#0d0887"
             ],
             [
              0.1111111111111111,
              "#46039f"
             ],
             [
              0.2222222222222222,
              "#7201a8"
             ],
             [
              0.3333333333333333,
              "#9c179e"
             ],
             [
              0.4444444444444444,
              "#bd3786"
             ],
             [
              0.5555555555555556,
              "#d8576b"
             ],
             [
              0.6666666666666666,
              "#ed7953"
             ],
             [
              0.7777777777777778,
              "#fb9f3a"
             ],
             [
              0.8888888888888888,
              "#fdca26"
             ],
             [
              1,
              "#f0f921"
             ]
            ],
            "type": "histogram2d"
           }
          ],
          "histogram2dcontour": [
           {
            "colorbar": {
             "outlinewidth": 0,
             "ticks": ""
            },
            "colorscale": [
             [
              0,
              "#0d0887"
             ],
             [
              0.1111111111111111,
              "#46039f"
             ],
             [
              0.2222222222222222,
              "#7201a8"
             ],
             [
              0.3333333333333333,
              "#9c179e"
             ],
             [
              0.4444444444444444,
              "#bd3786"
             ],
             [
              0.5555555555555556,
              "#d8576b"
             ],
             [
              0.6666666666666666,
              "#ed7953"
             ],
             [
              0.7777777777777778,
              "#fb9f3a"
             ],
             [
              0.8888888888888888,
              "#fdca26"
             ],
             [
              1,
              "#f0f921"
             ]
            ],
            "type": "histogram2dcontour"
           }
          ],
          "mesh3d": [
           {
            "colorbar": {
             "outlinewidth": 0,
             "ticks": ""
            },
            "type": "mesh3d"
           }
          ],
          "parcoords": [
           {
            "line": {
             "colorbar": {
              "outlinewidth": 0,
              "ticks": ""
             }
            },
            "type": "parcoords"
           }
          ],
          "pie": [
           {
            "automargin": true,
            "type": "pie"
           }
          ],
          "scatter": [
           {
            "fillpattern": {
             "fillmode": "overlay",
             "size": 10,
             "solidity": 0.2
            },
            "type": "scatter"
           }
          ],
          "scatter3d": [
           {
            "line": {
             "colorbar": {
              "outlinewidth": 0,
              "ticks": ""
             }
            },
            "marker": {
             "colorbar": {
              "outlinewidth": 0,
              "ticks": ""
             }
            },
            "type": "scatter3d"
           }
          ],
          "scattercarpet": [
           {
            "marker": {
             "colorbar": {
              "outlinewidth": 0,
              "ticks": ""
             }
            },
            "type": "scattercarpet"
           }
          ],
          "scattergeo": [
           {
            "marker": {
             "colorbar": {
              "outlinewidth": 0,
              "ticks": ""
             }
            },
            "type": "scattergeo"
           }
          ],
          "scattergl": [
           {
            "marker": {
             "colorbar": {
              "outlinewidth": 0,
              "ticks": ""
             }
            },
            "type": "scattergl"
           }
          ],
          "scattermapbox": [
           {
            "marker": {
             "colorbar": {
              "outlinewidth": 0,
              "ticks": ""
             }
            },
            "type": "scattermapbox"
           }
          ],
          "scatterpolar": [
           {
            "marker": {
             "colorbar": {
              "outlinewidth": 0,
              "ticks": ""
             }
            },
            "type": "scatterpolar"
           }
          ],
          "scatterpolargl": [
           {
            "marker": {
             "colorbar": {
              "outlinewidth": 0,
              "ticks": ""
             }
            },
            "type": "scatterpolargl"
           }
          ],
          "scatterternary": [
           {
            "marker": {
             "colorbar": {
              "outlinewidth": 0,
              "ticks": ""
             }
            },
            "type": "scatterternary"
           }
          ],
          "surface": [
           {
            "colorbar": {
             "outlinewidth": 0,
             "ticks": ""
            },
            "colorscale": [
             [
              0,
              "#0d0887"
             ],
             [
              0.1111111111111111,
              "#46039f"
             ],
             [
              0.2222222222222222,
              "#7201a8"
             ],
             [
              0.3333333333333333,
              "#9c179e"
             ],
             [
              0.4444444444444444,
              "#bd3786"
             ],
             [
              0.5555555555555556,
              "#d8576b"
             ],
             [
              0.6666666666666666,
              "#ed7953"
             ],
             [
              0.7777777777777778,
              "#fb9f3a"
             ],
             [
              0.8888888888888888,
              "#fdca26"
             ],
             [
              1,
              "#f0f921"
             ]
            ],
            "type": "surface"
           }
          ],
          "table": [
           {
            "cells": {
             "fill": {
              "color": "#EBF0F8"
             },
             "line": {
              "color": "white"
             }
            },
            "header": {
             "fill": {
              "color": "#C8D4E3"
             },
             "line": {
              "color": "white"
             }
            },
            "type": "table"
           }
          ]
         },
         "layout": {
          "annotationdefaults": {
           "arrowcolor": "#2a3f5f",
           "arrowhead": 0,
           "arrowwidth": 1
          },
          "autotypenumbers": "strict",
          "coloraxis": {
           "colorbar": {
            "outlinewidth": 0,
            "ticks": ""
           }
          },
          "colorscale": {
           "diverging": [
            [
             0,
             "#8e0152"
            ],
            [
             0.1,
             "#c51b7d"
            ],
            [
             0.2,
             "#de77ae"
            ],
            [
             0.3,
             "#f1b6da"
            ],
            [
             0.4,
             "#fde0ef"
            ],
            [
             0.5,
             "#f7f7f7"
            ],
            [
             0.6,
             "#e6f5d0"
            ],
            [
             0.7,
             "#b8e186"
            ],
            [
             0.8,
             "#7fbc41"
            ],
            [
             0.9,
             "#4d9221"
            ],
            [
             1,
             "#276419"
            ]
           ],
           "sequential": [
            [
             0,
             "#0d0887"
            ],
            [
             0.1111111111111111,
             "#46039f"
            ],
            [
             0.2222222222222222,
             "#7201a8"
            ],
            [
             0.3333333333333333,
             "#9c179e"
            ],
            [
             0.4444444444444444,
             "#bd3786"
            ],
            [
             0.5555555555555556,
             "#d8576b"
            ],
            [
             0.6666666666666666,
             "#ed7953"
            ],
            [
             0.7777777777777778,
             "#fb9f3a"
            ],
            [
             0.8888888888888888,
             "#fdca26"
            ],
            [
             1,
             "#f0f921"
            ]
           ],
           "sequentialminus": [
            [
             0,
             "#0d0887"
            ],
            [
             0.1111111111111111,
             "#46039f"
            ],
            [
             0.2222222222222222,
             "#7201a8"
            ],
            [
             0.3333333333333333,
             "#9c179e"
            ],
            [
             0.4444444444444444,
             "#bd3786"
            ],
            [
             0.5555555555555556,
             "#d8576b"
            ],
            [
             0.6666666666666666,
             "#ed7953"
            ],
            [
             0.7777777777777778,
             "#fb9f3a"
            ],
            [
             0.8888888888888888,
             "#fdca26"
            ],
            [
             1,
             "#f0f921"
            ]
           ]
          },
          "colorway": [
           "#636efa",
           "#EF553B",
           "#00cc96",
           "#ab63fa",
           "#FFA15A",
           "#19d3f3",
           "#FF6692",
           "#B6E880",
           "#FF97FF",
           "#FECB52"
          ],
          "font": {
           "color": "#2a3f5f"
          },
          "geo": {
           "bgcolor": "white",
           "lakecolor": "white",
           "landcolor": "#E5ECF6",
           "showlakes": true,
           "showland": true,
           "subunitcolor": "white"
          },
          "hoverlabel": {
           "align": "left"
          },
          "hovermode": "closest",
          "mapbox": {
           "style": "light"
          },
          "paper_bgcolor": "white",
          "plot_bgcolor": "#E5ECF6",
          "polar": {
           "angularaxis": {
            "gridcolor": "white",
            "linecolor": "white",
            "ticks": ""
           },
           "bgcolor": "#E5ECF6",
           "radialaxis": {
            "gridcolor": "white",
            "linecolor": "white",
            "ticks": ""
           }
          },
          "scene": {
           "xaxis": {
            "backgroundcolor": "#E5ECF6",
            "gridcolor": "white",
            "gridwidth": 2,
            "linecolor": "white",
            "showbackground": true,
            "ticks": "",
            "zerolinecolor": "white"
           },
           "yaxis": {
            "backgroundcolor": "#E5ECF6",
            "gridcolor": "white",
            "gridwidth": 2,
            "linecolor": "white",
            "showbackground": true,
            "ticks": "",
            "zerolinecolor": "white"
           },
           "zaxis": {
            "backgroundcolor": "#E5ECF6",
            "gridcolor": "white",
            "gridwidth": 2,
            "linecolor": "white",
            "showbackground": true,
            "ticks": "",
            "zerolinecolor": "white"
           }
          },
          "shapedefaults": {
           "line": {
            "color": "#2a3f5f"
           }
          },
          "ternary": {
           "aaxis": {
            "gridcolor": "white",
            "linecolor": "white",
            "ticks": ""
           },
           "baxis": {
            "gridcolor": "white",
            "linecolor": "white",
            "ticks": ""
           },
           "bgcolor": "#E5ECF6",
           "caxis": {
            "gridcolor": "white",
            "linecolor": "white",
            "ticks": ""
           }
          },
          "title": {
           "x": 0.05
          },
          "xaxis": {
           "automargin": true,
           "gridcolor": "white",
           "linecolor": "white",
           "ticks": "",
           "title": {
            "standoff": 15
           },
           "zerolinecolor": "white",
           "zerolinewidth": 2
          },
          "yaxis": {
           "automargin": true,
           "gridcolor": "white",
           "linecolor": "white",
           "ticks": "",
           "title": {
            "standoff": 15
           },
           "zerolinecolor": "white",
           "zerolinewidth": 2
          }
         }
        },
        "title": {
         "text": "Convergence"
        },
        "xaxis": {
         "title": {
          "text": "Function Evaluations"
         }
        },
        "yaxis": {
         "title": {
          "text": "Hypervolume"
         }
        }
       }
      }
     },
     "metadata": {},
     "output_type": "display_data"
    }
   ],
   "source": [
    "# load dataset\n",
    "\n",
    "from cProfile import label\n",
    "from re import X\n",
    "from matplotlib import axis\n",
    "\n",
    "from son_pymoo import ObjectiveEnum\n",
    "\n",
    "\n",
    "def sign_objective(value: float, key: str):\n",
    "    if(key == ObjectiveEnum.AVG_DL_RATE.name or \n",
    "       key == ObjectiveEnum.AVG_RSSI.name or\n",
    "       key == ObjectiveEnum.AVG_SINR.name or\n",
    "       key == ObjectiveEnum.ENERGY_EFFICIENCY.name):\n",
    "        return -value\n",
    "    else:\n",
    "        return value\n",
    "\n",
    "network_name = \"delete3\"\n",
    "param_configuration_list =[\"algorithm_config_3_STATIC\"]\n",
    "results_objectives_list = []\n",
    "results_objective_spaces_list = []\n",
    "result_dict_object = {\"optimization_objectives\": []}\n",
    "ref_points = []\n",
    "histories = []\n",
    "for configuration_name_1 in param_configuration_list:\n",
    "    results_directory_1 = \"./datastore/{network_name}/{configuration_name}/\".format(network_name=network_name, configuration_name= configuration_name_1)\n",
    "\n",
    "    ## read json file \n",
    "    with open(results_directory_1 + \"/objectives_result.json\", mode=\"r\",encoding=\"utf-8\") as openfile:\n",
    "        result_dict_object = json.load(openfile)\n",
    "        ref_points = [1.1 for  x in result_dict_object[\"optimization_objectives\"]]\n",
    "\n",
    "        results_objectives_list.append(np.array(\n",
    "        [[sign_objective(y[1][key], key) for key in result_dict_object[\"optimization_objectives\"]]\n",
    "        for y in [item for item in result_dict_object[\"results\"]]]))\n",
    "        histories.append({\"name\": configuration_name_1, \"history\": result_dict_object[\"history\"]})\n",
    "        \n",
    "        results_objective_spaces_list.append(np.array(result_dict_object[\"objectiveSpace\"]))\n",
    "\n",
    "## prepare diagrams\n",
    "fig2 = go.Figure()\n",
    "fig2.update_layout(\n",
    "    title=\"pareto fronts\",\n",
    "    xaxis_title=result_dict_object[\"optimization_objectives\"][0],\n",
    "    yaxis_title=result_dict_object[\"optimization_objectives\"][1],\n",
    "    legend_title=\"configuration names\",\n",
    ")\n",
    "fig1 = go.Figure()\n",
    "fig1.update_layout(\n",
    "    title=\"objective results\",\n",
    "    xaxis_title=result_dict_object[\"optimization_objectives\"][0],\n",
    "    yaxis_title=result_dict_object[\"optimization_objectives\"][1],\n",
    "    legend_title=\"configuration names\",\n",
    ")\n",
    "fig3 = go.Figure()\n",
    "fig3.update_layout(\n",
    "    title=\"Convergence\",\n",
    "    xaxis_title=\"Function Evaluations\",\n",
    "    yaxis_title=\"Hypervolume\",\n",
    "    legend_title=\"configuration names\"\n",
    ")\n",
    "## normalize each solution and calculate hyper volume and add dataj to diagrams\n",
    "## since the ideal and nadir points and pareto front are not known we approximate them\n",
    "combined_result_list = []\n",
    "for _, solution in enumerate(results_objectives_list):\n",
    "    for _, solution_candidate in enumerate(solution):\n",
    "        combined_result_list.append(solution_candidate)\n",
    "combined_result_list = np.array(combined_result_list)\n",
    "approx_ideal = combined_result_list.min(axis=0)\n",
    "approx_nadir  = combined_result_list.max(axis=0)\n",
    "hv = Hypervolume(ref_point=np.array(ref_points),\n",
    "                     norm_ref_point=False,\n",
    "                     zero_to_one=True,\n",
    "                     ideal=approx_ideal,\n",
    "                     nadir=approx_nadir)\n",
    "\n",
    "for index, solution in enumerate(results_objectives_list):\n",
    "    normalized_solution = np.array((solution - approx_ideal) / (approx_nadir - approx_ideal))\n",
    "\n",
    "    fig2.add_trace(go.Scatter(x=normalized_solution[:,0], y=normalized_solution[:,1],\n",
    "                    mode='markers',\n",
    "                    name=param_configuration_list[index]))\n",
    "    \n",
    "    fig1.add_trace(go.Scatter(x=solution[:,0], y=solution[:,1],\n",
    "                mode='markers',\n",
    "                name=param_configuration_list[index] ))\n",
    "\n",
    "## add data to convergence diagram\n",
    "## since the ideal and nadir points and pareto front are not known we approximate them\n",
    "combined_result_list = []\n",
    "for _, solution in enumerate(results_objective_spaces_list):\n",
    "    for _, solution_candidate in enumerate(solution):\n",
    "        combined_result_list.append(solution_candidate)\n",
    "combined_result_list = np.array(combined_result_list)\n",
    "approx_ideal = combined_result_list.min(axis=0)\n",
    "approx_nadir  = combined_result_list.max(axis=0)\n",
    "hv = Hypervolume(ref_point=np.array(ref_points),\n",
    "                     norm_ref_point=False,\n",
    "                     zero_to_one=True,\n",
    "                     ideal=approx_ideal,\n",
    "                     nadir=approx_nadir)\n",
    "\n",
    "\n",
    "for _, history  in enumerate(histories):\n",
    "    hv_list_1 = [hv(np.array(solution)) for solution in history[\"history\"][\"objective_space_opt\"]]\n",
    "    \n",
    "    fig3.add_trace(\n",
    "        go.Scatter(\n",
    "            x=history[\"history\"][\"n_evals\"],\n",
    "            y=hv_list_1,\n",
    "            mode='lines+markers',\n",
    "            name=history[\"name\"]\n",
    "        )\n",
    "    )\n",
    "\n",
    "fig2.show()\n",
    "fig1.show()\n",
    "fig3.show()\n",
    "\n"
   ]
  },
  {
   "cell_type": "code",
   "execution_count": 39,
   "id": "166e6f47",
   "metadata": {},
   "outputs": [
    {
     "data": {
      "application/vnd.plotly.v1+json": {
       "config": {
        "plotlyServerURL": "https://plot.ly"
       },
       "data": [
        {
         "mode": "lines+markers",
         "name": "algorithm_config_1_LIVE",
         "type": "scatter",
         "x": [
          1.02,
          2.08,
          3.16,
          4.22,
          5.28,
          6.34,
          7.41,
          8.49,
          9.49,
          10.5,
          11.55,
          12.58,
          13.61,
          14.65,
          15.7,
          16.74,
          17.79,
          18.82,
          19.87,
          20.91,
          21.93,
          22.99,
          24.04,
          25.1,
          26.15,
          27.2,
          28.26,
          29.32,
          30.37,
          31.42,
          32.48,
          33.48,
          34.5,
          35.51,
          36.53,
          37.54,
          38.54,
          39.57,
          40.63,
          41.63,
          42.64,
          43.64,
          44.64,
          45.64,
          46.65,
          47.71,
          48.71,
          49.77,
          50.83,
          51.83,
          52.83,
          53.83,
          54.84,
          55.85,
          56.87,
          57.89,
          58.91,
          59.93
         ],
         "y": [
          0.4928649293325609,
          0.44292868607606223,
          0.5407794596281602,
          0.4193578904543225,
          0.5867628126532616,
          0.4244582627402027,
          0.41333159637077,
          0.3098462648802891,
          0.15387846092112906,
          0.15860247893352367,
          0.05672984751883727,
          0.06572211199785996,
          0.12510327031967547,
          0.029410082928351663,
          0.018588546078737344,
          0.015592592179767278,
          0.020487148334745228,
          0.013295454545454555,
          0.01959065272638105,
          0.020502195817914314,
          0.5285986613313123,
          0.41905434927995033,
          0.4470669947389542,
          0.3675325192830709,
          0.354536760444068,
          0.3454212459316064,
          0.3420797015025192,
          0.3386008905880781,
          0.45180697980293383,
          0.5844818649962104,
          0.5221956228543406,
          0.4979003187837177,
          0.49065790940300497,
          0.46646138927281655,
          0.5288776528155515,
          0.40929524833920383,
          0.3872026728788622,
          0.7238361886397077,
          1.044703285924473,
          0.948723611173035,
          0.896595228275893,
          0.8520938851486917,
          0.9402424874046993,
          0.9562085358241567,
          1.1177767064960542,
          1.145625,
          0.9958311783851265,
          1.1463389473449555,
          1.068483325159392,
          1.1241929533193635,
          1.0172000813678719,
          0.9803077488965184,
          0.9397726715413084,
          0.9019989466761783,
          0.810533516875474,
          0.7843240614829017,
          0.8886919835926703,
          0.8535663928396274
         ]
        },
        {
         "mode": "lines+markers",
         "name": "algorithm_config_2_LIVE_greedy",
         "type": "scatter",
         "x": [
          1.02,
          2.08,
          3.16,
          4.22,
          5.28,
          6.34,
          7.41,
          8.49,
          9.49,
          10.5,
          11.55,
          12.58,
          13.61,
          14.65,
          15.7,
          16.74,
          17.79,
          18.82,
          19.87,
          20.91,
          21.93,
          22.99,
          24.04,
          25.1,
          26.15,
          27.2,
          28.26,
          29.32,
          30.37,
          31.42,
          32.48,
          33.48,
          34.5,
          35.51,
          36.53,
          37.54,
          38.54,
          39.57,
          40.63,
          41.63,
          42.64,
          43.64,
          44.64,
          45.64,
          46.65,
          47.71,
          48.71,
          49.77,
          50.83,
          51.83,
          52.83,
          53.83,
          54.84,
          55.85,
          56.87,
          57.89,
          58.91,
          59.93
         ],
         "y": [
          0.4915114639529182,
          0.4544841499843953,
          0.5046974619911724,
          0.6307973494137057,
          0.5028493802666191,
          0.41760377190244763,
          0.3630986947701636,
          0.29710322016139823,
          0.15629263453564582,
          0.15700619176066707,
          0.30491461946587,
          0.3891530217575462,
          0.4392432787908512,
          0.3107286604396096,
          0.2820490492219893,
          0.24748874225333287,
          0.25181715078692757,
          0.2512936655669002,
          0.25465758616077405,
          0.1828201491372776,
          0.23941799678987027,
          0.33469194458067686,
          0.3927726659681663,
          0.4302476704266797,
          0.3963491740603682,
          0.3250435262383523,
          0.19228844353292632,
          0.2583996444335459,
          0.2639746533505731,
          0.2677854284631506,
          0.27619343260956797,
          0.2553851319720005,
          0.17156909024031397,
          0.14865823821837804,
          0.12410135873199882,
          0.15269656471532395,
          0.15954074524053674,
          0.2159235810780687,
          0.17721000156047975,
          0.1232147275848233,
          0.10450151032145881,
          0.10935805764857998,
          0.08335954567747106,
          0.06615963150385658,
          0.04736365308306204,
          0.043671976013197146,
          0.04508822283650628,
          0.04814027040884571,
          0.05793977662847203,
          0.05901575527219232,
          0.04508822283650628,
          0.05858196977127824,
          0.059458457800169444,
          0.055297187792589964,
          0.03316821971554689,
          0.037623695884792065,
          0.06615032435685947
         ]
        }
       ],
       "layout": {
        "legend": {
         "title": {
          "text": "dataset"
         }
        },
        "template": {
         "data": {
          "bar": [
           {
            "error_x": {
             "color": "#2a3f5f"
            },
            "error_y": {
             "color": "#2a3f5f"
            },
            "marker": {
             "line": {
              "color": "#E5ECF6",
              "width": 0.5
             },
             "pattern": {
              "fillmode": "overlay",
              "size": 10,
              "solidity": 0.2
             }
            },
            "type": "bar"
           }
          ],
          "barpolar": [
           {
            "marker": {
             "line": {
              "color": "#E5ECF6",
              "width": 0.5
             },
             "pattern": {
              "fillmode": "overlay",
              "size": 10,
              "solidity": 0.2
             }
            },
            "type": "barpolar"
           }
          ],
          "carpet": [
           {
            "aaxis": {
             "endlinecolor": "#2a3f5f",
             "gridcolor": "white",
             "linecolor": "white",
             "minorgridcolor": "white",
             "startlinecolor": "#2a3f5f"
            },
            "baxis": {
             "endlinecolor": "#2a3f5f",
             "gridcolor": "white",
             "linecolor": "white",
             "minorgridcolor": "white",
             "startlinecolor": "#2a3f5f"
            },
            "type": "carpet"
           }
          ],
          "choropleth": [
           {
            "colorbar": {
             "outlinewidth": 0,
             "ticks": ""
            },
            "type": "choropleth"
           }
          ],
          "contour": [
           {
            "colorbar": {
             "outlinewidth": 0,
             "ticks": ""
            },
            "colorscale": [
             [
              0,
              "#0d0887"
             ],
             [
              0.1111111111111111,
              "#46039f"
             ],
             [
              0.2222222222222222,
              "#7201a8"
             ],
             [
              0.3333333333333333,
              "#9c179e"
             ],
             [
              0.4444444444444444,
              "#bd3786"
             ],
             [
              0.5555555555555556,
              "#d8576b"
             ],
             [
              0.6666666666666666,
              "#ed7953"
             ],
             [
              0.7777777777777778,
              "#fb9f3a"
             ],
             [
              0.8888888888888888,
              "#fdca26"
             ],
             [
              1,
              "#f0f921"
             ]
            ],
            "type": "contour"
           }
          ],
          "contourcarpet": [
           {
            "colorbar": {
             "outlinewidth": 0,
             "ticks": ""
            },
            "type": "contourcarpet"
           }
          ],
          "heatmap": [
           {
            "colorbar": {
             "outlinewidth": 0,
             "ticks": ""
            },
            "colorscale": [
             [
              0,
              "#0d0887"
             ],
             [
              0.1111111111111111,
              "#46039f"
             ],
             [
              0.2222222222222222,
              "#7201a8"
             ],
             [
              0.3333333333333333,
              "#9c179e"
             ],
             [
              0.4444444444444444,
              "#bd3786"
             ],
             [
              0.5555555555555556,
              "#d8576b"
             ],
             [
              0.6666666666666666,
              "#ed7953"
             ],
             [
              0.7777777777777778,
              "#fb9f3a"
             ],
             [
              0.8888888888888888,
              "#fdca26"
             ],
             [
              1,
              "#f0f921"
             ]
            ],
            "type": "heatmap"
           }
          ],
          "heatmapgl": [
           {
            "colorbar": {
             "outlinewidth": 0,
             "ticks": ""
            },
            "colorscale": [
             [
              0,
              "#0d0887"
             ],
             [
              0.1111111111111111,
              "#46039f"
             ],
             [
              0.2222222222222222,
              "#7201a8"
             ],
             [
              0.3333333333333333,
              "#9c179e"
             ],
             [
              0.4444444444444444,
              "#bd3786"
             ],
             [
              0.5555555555555556,
              "#d8576b"
             ],
             [
              0.6666666666666666,
              "#ed7953"
             ],
             [
              0.7777777777777778,
              "#fb9f3a"
             ],
             [
              0.8888888888888888,
              "#fdca26"
             ],
             [
              1,
              "#f0f921"
             ]
            ],
            "type": "heatmapgl"
           }
          ],
          "histogram": [
           {
            "marker": {
             "pattern": {
              "fillmode": "overlay",
              "size": 10,
              "solidity": 0.2
             }
            },
            "type": "histogram"
           }
          ],
          "histogram2d": [
           {
            "colorbar": {
             "outlinewidth": 0,
             "ticks": ""
            },
            "colorscale": [
             [
              0,
              "#0d0887"
             ],
             [
              0.1111111111111111,
              "#46039f"
             ],
             [
              0.2222222222222222,
              "#7201a8"
             ],
             [
              0.3333333333333333,
              "#9c179e"
             ],
             [
              0.4444444444444444,
              "#bd3786"
             ],
             [
              0.5555555555555556,
              "#d8576b"
             ],
             [
              0.6666666666666666,
              "#ed7953"
             ],
             [
              0.7777777777777778,
              "#fb9f3a"
             ],
             [
              0.8888888888888888,
              "#fdca26"
             ],
             [
              1,
              "#f0f921"
             ]
            ],
            "type": "histogram2d"
           }
          ],
          "histogram2dcontour": [
           {
            "colorbar": {
             "outlinewidth": 0,
             "ticks": ""
            },
            "colorscale": [
             [
              0,
              "#0d0887"
             ],
             [
              0.1111111111111111,
              "#46039f"
             ],
             [
              0.2222222222222222,
              "#7201a8"
             ],
             [
              0.3333333333333333,
              "#9c179e"
             ],
             [
              0.4444444444444444,
              "#bd3786"
             ],
             [
              0.5555555555555556,
              "#d8576b"
             ],
             [
              0.6666666666666666,
              "#ed7953"
             ],
             [
              0.7777777777777778,
              "#fb9f3a"
             ],
             [
              0.8888888888888888,
              "#fdca26"
             ],
             [
              1,
              "#f0f921"
             ]
            ],
            "type": "histogram2dcontour"
           }
          ],
          "mesh3d": [
           {
            "colorbar": {
             "outlinewidth": 0,
             "ticks": ""
            },
            "type": "mesh3d"
           }
          ],
          "parcoords": [
           {
            "line": {
             "colorbar": {
              "outlinewidth": 0,
              "ticks": ""
             }
            },
            "type": "parcoords"
           }
          ],
          "pie": [
           {
            "automargin": true,
            "type": "pie"
           }
          ],
          "scatter": [
           {
            "fillpattern": {
             "fillmode": "overlay",
             "size": 10,
             "solidity": 0.2
            },
            "type": "scatter"
           }
          ],
          "scatter3d": [
           {
            "line": {
             "colorbar": {
              "outlinewidth": 0,
              "ticks": ""
             }
            },
            "marker": {
             "colorbar": {
              "outlinewidth": 0,
              "ticks": ""
             }
            },
            "type": "scatter3d"
           }
          ],
          "scattercarpet": [
           {
            "marker": {
             "colorbar": {
              "outlinewidth": 0,
              "ticks": ""
             }
            },
            "type": "scattercarpet"
           }
          ],
          "scattergeo": [
           {
            "marker": {
             "colorbar": {
              "outlinewidth": 0,
              "ticks": ""
             }
            },
            "type": "scattergeo"
           }
          ],
          "scattergl": [
           {
            "marker": {
             "colorbar": {
              "outlinewidth": 0,
              "ticks": ""
             }
            },
            "type": "scattergl"
           }
          ],
          "scattermapbox": [
           {
            "marker": {
             "colorbar": {
              "outlinewidth": 0,
              "ticks": ""
             }
            },
            "type": "scattermapbox"
           }
          ],
          "scatterpolar": [
           {
            "marker": {
             "colorbar": {
              "outlinewidth": 0,
              "ticks": ""
             }
            },
            "type": "scatterpolar"
           }
          ],
          "scatterpolargl": [
           {
            "marker": {
             "colorbar": {
              "outlinewidth": 0,
              "ticks": ""
             }
            },
            "type": "scatterpolargl"
           }
          ],
          "scatterternary": [
           {
            "marker": {
             "colorbar": {
              "outlinewidth": 0,
              "ticks": ""
             }
            },
            "type": "scatterternary"
           }
          ],
          "surface": [
           {
            "colorbar": {
             "outlinewidth": 0,
             "ticks": ""
            },
            "colorscale": [
             [
              0,
              "#0d0887"
             ],
             [
              0.1111111111111111,
              "#46039f"
             ],
             [
              0.2222222222222222,
              "#7201a8"
             ],
             [
              0.3333333333333333,
              "#9c179e"
             ],
             [
              0.4444444444444444,
              "#bd3786"
             ],
             [
              0.5555555555555556,
              "#d8576b"
             ],
             [
              0.6666666666666666,
              "#ed7953"
             ],
             [
              0.7777777777777778,
              "#fb9f3a"
             ],
             [
              0.8888888888888888,
              "#fdca26"
             ],
             [
              1,
              "#f0f921"
             ]
            ],
            "type": "surface"
           }
          ],
          "table": [
           {
            "cells": {
             "fill": {
              "color": "#EBF0F8"
             },
             "line": {
              "color": "white"
             }
            },
            "header": {
             "fill": {
              "color": "#C8D4E3"
             },
             "line": {
              "color": "white"
             }
            },
            "type": "table"
           }
          ]
         },
         "layout": {
          "annotationdefaults": {
           "arrowcolor": "#2a3f5f",
           "arrowhead": 0,
           "arrowwidth": 1
          },
          "autotypenumbers": "strict",
          "coloraxis": {
           "colorbar": {
            "outlinewidth": 0,
            "ticks": ""
           }
          },
          "colorscale": {
           "diverging": [
            [
             0,
             "#8e0152"
            ],
            [
             0.1,
             "#c51b7d"
            ],
            [
             0.2,
             "#de77ae"
            ],
            [
             0.3,
             "#f1b6da"
            ],
            [
             0.4,
             "#fde0ef"
            ],
            [
             0.5,
             "#f7f7f7"
            ],
            [
             0.6,
             "#e6f5d0"
            ],
            [
             0.7,
             "#b8e186"
            ],
            [
             0.8,
             "#7fbc41"
            ],
            [
             0.9,
             "#4d9221"
            ],
            [
             1,
             "#276419"
            ]
           ],
           "sequential": [
            [
             0,
             "#0d0887"
            ],
            [
             0.1111111111111111,
             "#46039f"
            ],
            [
             0.2222222222222222,
             "#7201a8"
            ],
            [
             0.3333333333333333,
             "#9c179e"
            ],
            [
             0.4444444444444444,
             "#bd3786"
            ],
            [
             0.5555555555555556,
             "#d8576b"
            ],
            [
             0.6666666666666666,
             "#ed7953"
            ],
            [
             0.7777777777777778,
             "#fb9f3a"
            ],
            [
             0.8888888888888888,
             "#fdca26"
            ],
            [
             1,
             "#f0f921"
            ]
           ],
           "sequentialminus": [
            [
             0,
             "#0d0887"
            ],
            [
             0.1111111111111111,
             "#46039f"
            ],
            [
             0.2222222222222222,
             "#7201a8"
            ],
            [
             0.3333333333333333,
             "#9c179e"
            ],
            [
             0.4444444444444444,
             "#bd3786"
            ],
            [
             0.5555555555555556,
             "#d8576b"
            ],
            [
             0.6666666666666666,
             "#ed7953"
            ],
            [
             0.7777777777777778,
             "#fb9f3a"
            ],
            [
             0.8888888888888888,
             "#fdca26"
            ],
            [
             1,
             "#f0f921"
            ]
           ]
          },
          "colorway": [
           "#636efa",
           "#EF553B",
           "#00cc96",
           "#ab63fa",
           "#FFA15A",
           "#19d3f3",
           "#FF6692",
           "#B6E880",
           "#FF97FF",
           "#FECB52"
          ],
          "font": {
           "color": "#2a3f5f"
          },
          "geo": {
           "bgcolor": "white",
           "lakecolor": "white",
           "landcolor": "#E5ECF6",
           "showlakes": true,
           "showland": true,
           "subunitcolor": "white"
          },
          "hoverlabel": {
           "align": "left"
          },
          "hovermode": "closest",
          "mapbox": {
           "style": "light"
          },
          "paper_bgcolor": "white",
          "plot_bgcolor": "#E5ECF6",
          "polar": {
           "angularaxis": {
            "gridcolor": "white",
            "linecolor": "white",
            "ticks": ""
           },
           "bgcolor": "#E5ECF6",
           "radialaxis": {
            "gridcolor": "white",
            "linecolor": "white",
            "ticks": ""
           }
          },
          "scene": {
           "xaxis": {
            "backgroundcolor": "#E5ECF6",
            "gridcolor": "white",
            "gridwidth": 2,
            "linecolor": "white",
            "showbackground": true,
            "ticks": "",
            "zerolinecolor": "white"
           },
           "yaxis": {
            "backgroundcolor": "#E5ECF6",
            "gridcolor": "white",
            "gridwidth": 2,
            "linecolor": "white",
            "showbackground": true,
            "ticks": "",
            "zerolinecolor": "white"
           },
           "zaxis": {
            "backgroundcolor": "#E5ECF6",
            "gridcolor": "white",
            "gridwidth": 2,
            "linecolor": "white",
            "showbackground": true,
            "ticks": "",
            "zerolinecolor": "white"
           }
          },
          "shapedefaults": {
           "line": {
            "color": "#2a3f5f"
           }
          },
          "ternary": {
           "aaxis": {
            "gridcolor": "white",
            "linecolor": "white",
            "ticks": ""
           },
           "baxis": {
            "gridcolor": "white",
            "linecolor": "white",
            "ticks": ""
           },
           "bgcolor": "#E5ECF6",
           "caxis": {
            "gridcolor": "white",
            "linecolor": "white",
            "ticks": ""
           }
          },
          "title": {
           "x": 0.05
          },
          "xaxis": {
           "automargin": true,
           "gridcolor": "white",
           "linecolor": "white",
           "ticks": "",
           "title": {
            "standoff": 15
           },
           "zerolinecolor": "white",
           "zerolinewidth": 2
          },
          "yaxis": {
           "automargin": true,
           "gridcolor": "white",
           "linecolor": "white",
           "ticks": "",
           "title": {
            "standoff": 15
           },
           "zerolinecolor": "white",
           "zerolinewidth": 2
          }
         }
        },
        "title": {
         "text": "hypervolume"
        },
        "xaxis": {
         "title": {
          "text": "time in s"
         }
        },
        "yaxis": {
         "title": {
          "text": "Hypervolume"
         }
        }
       }
      }
     },
     "metadata": {},
     "output_type": "display_data"
    },
    {
     "data": {
      "application/vnd.plotly.v1+json": {
       "config": {
        "plotlyServerURL": "https://plot.ly"
       },
       "data": [
        {
         "mode": "lines+markers",
         "name": "energy_efficiency_algorithm_config_1_LIVE",
         "type": "scatter",
         "x": [
          1.02,
          2.08,
          3.16,
          4.22,
          5.28,
          6.34,
          7.41,
          8.49,
          9.49,
          10.5,
          11.55,
          12.58,
          13.61,
          14.65,
          15.7,
          16.74,
          17.79,
          18.82,
          19.87,
          20.91,
          21.93,
          22.99,
          24.04,
          25.1,
          26.15,
          27.2,
          28.26,
          29.32,
          30.37,
          31.42,
          32.48,
          33.48,
          34.5,
          35.51,
          36.53,
          37.54,
          38.54,
          39.57,
          40.63,
          41.63,
          42.64,
          43.64,
          44.64,
          45.64,
          46.65,
          47.71,
          48.71,
          49.77,
          50.83,
          51.83,
          52.83,
          53.83,
          54.84,
          55.85,
          56.87,
          57.89,
          58.91,
          59.93
         ],
         "y": [
          0.5068181818181818,
          0.452272727272727,
          0.5068181818181818,
          0.41420454545454527,
          0.5562499999999999,
          0.43579545454545454,
          0.43465909090909066,
          0.3767045454545453,
          0.2090909090909091,
          0.21363636363636346,
          0.16931818181818178,
          0.1579545454545454,
          0.26477272727272716,
          0.13977272727272702,
          0.07954545454545431,
          0.04431818181818167,
          0.053409090909090705,
          0.0329545454545453,
          0.05113636363636337,
          0.053409090909090705,
          0.6710227272727272,
          0.4727272727272727,
          0.5232954545454543,
          0.4403409090909089,
          0.4318181818181816,
          0.4255681818181817,
          0.4232954545454543,
          0.42102272727272727,
          0.5261363636363634,
          0.6670454545454543,
          0.6676136363636364,
          0.6534090909090909,
          0.6011363636363634,
          0.5931818181818181,
          0.5903409090909091,
          0.5198863636363635,
          0.505681818181818,
          0.8630681818181818,
          1,
          0.9085227272727272,
          0.8857954545454545,
          0.8193181818181818,
          0.8579545454545453,
          0.8647727272727274,
          0.9306818181818183,
          0.9414772727272726,
          0.8795454545454545,
          0.955681818181818,
          0.925,
          0.9329545454545453,
          0.8903409090909089,
          0.8749999999999999,
          0.8579545454545453,
          0.8414772727272725,
          0.7579545454545453,
          0.7460227272727271,
          0.8340909090909091,
          0.811931818181818
         ]
        },
        {
         "mode": "lines+markers",
         "name": "avrg_dl_datarate_algorithm_config_1_LIVE",
         "type": "scatter",
         "x": [
          1.02,
          2.08,
          3.16,
          4.22,
          5.28,
          6.34,
          7.41,
          8.49,
          9.49,
          10.5,
          11.55,
          12.58,
          13.61,
          14.65,
          15.7,
          16.74,
          17.79,
          18.82,
          19.87,
          20.91,
          21.93,
          22.99,
          24.04,
          25.1,
          26.15,
          27.2,
          28.26,
          29.32,
          30.37,
          31.42,
          32.48,
          33.48,
          34.5,
          35.51,
          36.53,
          37.54,
          38.54,
          39.57,
          40.63,
          41.63,
          42.64,
          43.64,
          44.64,
          45.64,
          46.65,
          47.71,
          48.71,
          49.77,
          50.83,
          51.83,
          52.83,
          53.83,
          54.84,
          55.85,
          56.87,
          57.89,
          58.91,
          59.93
         ],
         "y": [
          0.7122118685630214,
          0.7020107896027465,
          0.7911721432074548,
          0.7155468366846492,
          0.7941147621383033,
          0.6922020598332519,
          0.6730750367827366,
          0.5499754781755766,
          0.3978420794507114,
          0.40568906326630727,
          0.11064247179990194,
          0.1547817557626287,
          0.2429622363903875,
          0.022658165767533007,
          0.0035311427170181932,
          0.008043158410985764,
          0.03354585581167262,
          0,
          0.029622363903874675,
          0.03364394310936734,
          0.5855811672388427,
          0.6316821971554686,
          0.6172633643943112,
          0.5801863658656204,
          0.5666503187837177,
          0.5572339382050023,
          0.5537027954879846,
          0.5498773908778813,
          0.6215792054928889,
          0.6619911721432076,
          0.5802844531633156,
          0.5608631682197157,
          0.5998038254046101,
          0.5729279058361941,
          0.6661108386463954,
          0.5602746444335461,
          0.5392839627268268,
          0.6515939185875429,
          0.8497302599313389,
          0.8407062285434037,
          0.80951446787641,
          0.826875919568416,
          0.8815105443845022,
          0.8911230995586074,
          0.9845022069641981,
          1,
          0.9166257969592938,
          0.9858754291319277,
          0.9424227562530653,
          0.9883276115743013,
          0.9271211378126533,
          0.90544384502207,
          0.8810201078960277,
          0.8580676802354097,
          0.8447278077488968,
          0.8270720941638059,
          0.8513977439921531,
          0.8359980382540463
         ]
        },
        {
         "mode": "lines+markers",
         "name": "energy_efficiency_algorithm_config_2_LIVE_greedy",
         "type": "scatter",
         "x": [
          1.05,
          2.12,
          3.2,
          4.21,
          5.22,
          6.23,
          7.24,
          8.27,
          9.31,
          10.34,
          11.36,
          12.37,
          13.39,
          14.39,
          15.47,
          16.54,
          17.6,
          18.67,
          19.74,
          20.81,
          21.82,
          22.89,
          23.95,
          25.01,
          26.02,
          27.02,
          28.02,
          29.08,
          30.14,
          31.2,
          32.24,
          33.28,
          34.33,
          35.38,
          36.43,
          37.47,
          38.52,
          39.55,
          40.59,
          41.64,
          42.69,
          43.74,
          44.79,
          45.83,
          46.87,
          47.92,
          48.98,
          50.03,
          51.07,
          52.12,
          53.18,
          54.24,
          55.25,
          56.25,
          57.25,
          58.27,
          59.35
         ],
         "y": [
          0.5062499999999998,
          0.459090909090909,
          0.45852272727272725,
          0.578409090909091,
          0.48068181818181793,
          0.4318181818181816,
          0.4085227272727271,
          0.36761363636363625,
          0.21136363636363611,
          0.2119318181818182,
          0.3454545454545453,
          0.40511363636363623,
          0.4340909090909089,
          0.33238636363636365,
          0.3119318181818179,
          0.2863636363636364,
          0.2857954545454543,
          0.2892045454545455,
          0.268181818181818,
          0.2130681818181817,
          0.2556818181818181,
          0.3187499999999999,
          0.3551136363636364,
          0.37727272727272704,
          0.3573863636363634,
          0.3125,
          0.2204545454545455,
          0.29374999999999984,
          0.29772727272727273,
          0.30056818181818185,
          0.30681818181818177,
          0.29602272727272716,
          0.20625000000000002,
          0.18352272727272725,
          0.13806818181818176,
          0.16704545454545444,
          0.1732954545454544,
          0.21818181818181814,
          0.1857954545454543,
          0.15738636363636366,
          0.11647727272727253,
          0.1221590909090907,
          0.09431818181818152,
          0.053977272727272464,
          0.02556818181818153,
          0.019318181818181585,
          0.02159090909090892,
          0.026704545454545352,
          0.04204545454545433,
          0.043749999999999914,
          0.02159090909090892,
          0.04090909090909082,
          0.04204545454545433,
          0.03579545454545439,
          0,
          0.00852272727272728,
          0.05170454545454544
         ]
        },
        {
         "mode": "lines+markers",
         "name": "avrg_dl_datarate_algorithm_config_2_LIVE_greedy",
         "type": "scatter",
         "x": [
          1.05,
          2.12,
          3.2,
          4.21,
          5.22,
          6.23,
          7.24,
          8.27,
          9.31,
          10.34,
          11.36,
          12.37,
          13.39,
          14.39,
          15.47,
          16.54,
          17.6,
          18.67,
          19.74,
          20.81,
          21.82,
          22.89,
          23.95,
          25.01,
          26.02,
          27.02,
          28.02,
          29.08,
          30.14,
          31.2,
          32.24,
          33.28,
          34.33,
          35.38,
          36.43,
          37.47,
          38.52,
          39.55,
          40.59,
          41.64,
          42.69,
          43.74,
          44.79,
          45.83,
          46.87,
          47.92,
          48.98,
          50.03,
          51.07,
          52.12,
          53.18,
          54.24,
          55.25,
          56.25,
          57.25,
          58.27,
          59.35
         ],
         "y": [
          0.7107405590975971,
          0.7128984796468857,
          0.8036292300147133,
          0.8298185384992646,
          0.7659637076998529,
          0.6852378616969103,
          0.6140264835703776,
          0.5353604708190288,
          0.40196174595389916,
          0.40333496812162833,
          0.5845022069641981,
          0.6704266797449732,
          0.7224129475232958,
          0.6186365865620403,
          0.584698381559588,
          0.5405590975968612,
          0.5527219225110348,
          0.5456596370769988,
          0.5916625796959296,
          0.48396272682687586,
          0.573124080431584,
          0.6992643452672879,
          0.7630210887690043,
          0.8014713094654243,
          0.7665522314860226,
          0.6879843060323689,
          0.5000490436488478,
          0.556253065228053,
          0.5637076998528692,
          0.5685139774399217,
          0.578911230995586,
          0.5448749386954389,
          0.4602256007846983,
          0.42432564982834714,
          0.4212849435998039,
          0.47179990191270227,
          0.48376655223148596,
          0.5786169691025014,
          0.5200588523786173,
          0.3787150564001961,
          0.3827366356056892,
          0.3922511034820993,
          0.32898479646885725,
          0.32967140755272206,
          0.2771947032859245,
          0.2660127513487003,
          0.2708190289357529,
          0.27994114762138317,
          0.3078960274644432,
          0.3105443845022072,
          0.2708190289357529,
          0.3157430112800391,
          0.31858754291319297,
          0.3072094163805789,
          0.2316821971554686,
          0.24668955370279558,
          0.3360470819028936
         ]
        }
       ],
       "layout": {
        "legend": {
         "title": {
          "text": "dataset"
         }
        },
        "template": {
         "data": {
          "bar": [
           {
            "error_x": {
             "color": "#2a3f5f"
            },
            "error_y": {
             "color": "#2a3f5f"
            },
            "marker": {
             "line": {
              "color": "#E5ECF6",
              "width": 0.5
             },
             "pattern": {
              "fillmode": "overlay",
              "size": 10,
              "solidity": 0.2
             }
            },
            "type": "bar"
           }
          ],
          "barpolar": [
           {
            "marker": {
             "line": {
              "color": "#E5ECF6",
              "width": 0.5
             },
             "pattern": {
              "fillmode": "overlay",
              "size": 10,
              "solidity": 0.2
             }
            },
            "type": "barpolar"
           }
          ],
          "carpet": [
           {
            "aaxis": {
             "endlinecolor": "#2a3f5f",
             "gridcolor": "white",
             "linecolor": "white",
             "minorgridcolor": "white",
             "startlinecolor": "#2a3f5f"
            },
            "baxis": {
             "endlinecolor": "#2a3f5f",
             "gridcolor": "white",
             "linecolor": "white",
             "minorgridcolor": "white",
             "startlinecolor": "#2a3f5f"
            },
            "type": "carpet"
           }
          ],
          "choropleth": [
           {
            "colorbar": {
             "outlinewidth": 0,
             "ticks": ""
            },
            "type": "choropleth"
           }
          ],
          "contour": [
           {
            "colorbar": {
             "outlinewidth": 0,
             "ticks": ""
            },
            "colorscale": [
             [
              0,
              "#0d0887"
             ],
             [
              0.1111111111111111,
              "#46039f"
             ],
             [
              0.2222222222222222,
              "#7201a8"
             ],
             [
              0.3333333333333333,
              "#9c179e"
             ],
             [
              0.4444444444444444,
              "#bd3786"
             ],
             [
              0.5555555555555556,
              "#d8576b"
             ],
             [
              0.6666666666666666,
              "#ed7953"
             ],
             [
              0.7777777777777778,
              "#fb9f3a"
             ],
             [
              0.8888888888888888,
              "#fdca26"
             ],
             [
              1,
              "#f0f921"
             ]
            ],
            "type": "contour"
           }
          ],
          "contourcarpet": [
           {
            "colorbar": {
             "outlinewidth": 0,
             "ticks": ""
            },
            "type": "contourcarpet"
           }
          ],
          "heatmap": [
           {
            "colorbar": {
             "outlinewidth": 0,
             "ticks": ""
            },
            "colorscale": [
             [
              0,
              "#0d0887"
             ],
             [
              0.1111111111111111,
              "#46039f"
             ],
             [
              0.2222222222222222,
              "#7201a8"
             ],
             [
              0.3333333333333333,
              "#9c179e"
             ],
             [
              0.4444444444444444,
              "#bd3786"
             ],
             [
              0.5555555555555556,
              "#d8576b"
             ],
             [
              0.6666666666666666,
              "#ed7953"
             ],
             [
              0.7777777777777778,
              "#fb9f3a"
             ],
             [
              0.8888888888888888,
              "#fdca26"
             ],
             [
              1,
              "#f0f921"
             ]
            ],
            "type": "heatmap"
           }
          ],
          "heatmapgl": [
           {
            "colorbar": {
             "outlinewidth": 0,
             "ticks": ""
            },
            "colorscale": [
             [
              0,
              "#0d0887"
             ],
             [
              0.1111111111111111,
              "#46039f"
             ],
             [
              0.2222222222222222,
              "#7201a8"
             ],
             [
              0.3333333333333333,
              "#9c179e"
             ],
             [
              0.4444444444444444,
              "#bd3786"
             ],
             [
              0.5555555555555556,
              "#d8576b"
             ],
             [
              0.6666666666666666,
              "#ed7953"
             ],
             [
              0.7777777777777778,
              "#fb9f3a"
             ],
             [
              0.8888888888888888,
              "#fdca26"
             ],
             [
              1,
              "#f0f921"
             ]
            ],
            "type": "heatmapgl"
           }
          ],
          "histogram": [
           {
            "marker": {
             "pattern": {
              "fillmode": "overlay",
              "size": 10,
              "solidity": 0.2
             }
            },
            "type": "histogram"
           }
          ],
          "histogram2d": [
           {
            "colorbar": {
             "outlinewidth": 0,
             "ticks": ""
            },
            "colorscale": [
             [
              0,
              "#0d0887"
             ],
             [
              0.1111111111111111,
              "#46039f"
             ],
             [
              0.2222222222222222,
              "#7201a8"
             ],
             [
              0.3333333333333333,
              "#9c179e"
             ],
             [
              0.4444444444444444,
              "#bd3786"
             ],
             [
              0.5555555555555556,
              "#d8576b"
             ],
             [
              0.6666666666666666,
              "#ed7953"
             ],
             [
              0.7777777777777778,
              "#fb9f3a"
             ],
             [
              0.8888888888888888,
              "#fdca26"
             ],
             [
              1,
              "#f0f921"
             ]
            ],
            "type": "histogram2d"
           }
          ],
          "histogram2dcontour": [
           {
            "colorbar": {
             "outlinewidth": 0,
             "ticks": ""
            },
            "colorscale": [
             [
              0,
              "#0d0887"
             ],
             [
              0.1111111111111111,
              "#46039f"
             ],
             [
              0.2222222222222222,
              "#7201a8"
             ],
             [
              0.3333333333333333,
              "#9c179e"
             ],
             [
              0.4444444444444444,
              "#bd3786"
             ],
             [
              0.5555555555555556,
              "#d8576b"
             ],
             [
              0.6666666666666666,
              "#ed7953"
             ],
             [
              0.7777777777777778,
              "#fb9f3a"
             ],
             [
              0.8888888888888888,
              "#fdca26"
             ],
             [
              1,
              "#f0f921"
             ]
            ],
            "type": "histogram2dcontour"
           }
          ],
          "mesh3d": [
           {
            "colorbar": {
             "outlinewidth": 0,
             "ticks": ""
            },
            "type": "mesh3d"
           }
          ],
          "parcoords": [
           {
            "line": {
             "colorbar": {
              "outlinewidth": 0,
              "ticks": ""
             }
            },
            "type": "parcoords"
           }
          ],
          "pie": [
           {
            "automargin": true,
            "type": "pie"
           }
          ],
          "scatter": [
           {
            "fillpattern": {
             "fillmode": "overlay",
             "size": 10,
             "solidity": 0.2
            },
            "type": "scatter"
           }
          ],
          "scatter3d": [
           {
            "line": {
             "colorbar": {
              "outlinewidth": 0,
              "ticks": ""
             }
            },
            "marker": {
             "colorbar": {
              "outlinewidth": 0,
              "ticks": ""
             }
            },
            "type": "scatter3d"
           }
          ],
          "scattercarpet": [
           {
            "marker": {
             "colorbar": {
              "outlinewidth": 0,
              "ticks": ""
             }
            },
            "type": "scattercarpet"
           }
          ],
          "scattergeo": [
           {
            "marker": {
             "colorbar": {
              "outlinewidth": 0,
              "ticks": ""
             }
            },
            "type": "scattergeo"
           }
          ],
          "scattergl": [
           {
            "marker": {
             "colorbar": {
              "outlinewidth": 0,
              "ticks": ""
             }
            },
            "type": "scattergl"
           }
          ],
          "scattermapbox": [
           {
            "marker": {
             "colorbar": {
              "outlinewidth": 0,
              "ticks": ""
             }
            },
            "type": "scattermapbox"
           }
          ],
          "scatterpolar": [
           {
            "marker": {
             "colorbar": {
              "outlinewidth": 0,
              "ticks": ""
             }
            },
            "type": "scatterpolar"
           }
          ],
          "scatterpolargl": [
           {
            "marker": {
             "colorbar": {
              "outlinewidth": 0,
              "ticks": ""
             }
            },
            "type": "scatterpolargl"
           }
          ],
          "scatterternary": [
           {
            "marker": {
             "colorbar": {
              "outlinewidth": 0,
              "ticks": ""
             }
            },
            "type": "scatterternary"
           }
          ],
          "surface": [
           {
            "colorbar": {
             "outlinewidth": 0,
             "ticks": ""
            },
            "colorscale": [
             [
              0,
              "#0d0887"
             ],
             [
              0.1111111111111111,
              "#46039f"
             ],
             [
              0.2222222222222222,
              "#7201a8"
             ],
             [
              0.3333333333333333,
              "#9c179e"
             ],
             [
              0.4444444444444444,
              "#bd3786"
             ],
             [
              0.5555555555555556,
              "#d8576b"
             ],
             [
              0.6666666666666666,
              "#ed7953"
             ],
             [
              0.7777777777777778,
              "#fb9f3a"
             ],
             [
              0.8888888888888888,
              "#fdca26"
             ],
             [
              1,
              "#f0f921"
             ]
            ],
            "type": "surface"
           }
          ],
          "table": [
           {
            "cells": {
             "fill": {
              "color": "#EBF0F8"
             },
             "line": {
              "color": "white"
             }
            },
            "header": {
             "fill": {
              "color": "#C8D4E3"
             },
             "line": {
              "color": "white"
             }
            },
            "type": "table"
           }
          ]
         },
         "layout": {
          "annotationdefaults": {
           "arrowcolor": "#2a3f5f",
           "arrowhead": 0,
           "arrowwidth": 1
          },
          "autotypenumbers": "strict",
          "coloraxis": {
           "colorbar": {
            "outlinewidth": 0,
            "ticks": ""
           }
          },
          "colorscale": {
           "diverging": [
            [
             0,
             "#8e0152"
            ],
            [
             0.1,
             "#c51b7d"
            ],
            [
             0.2,
             "#de77ae"
            ],
            [
             0.3,
             "#f1b6da"
            ],
            [
             0.4,
             "#fde0ef"
            ],
            [
             0.5,
             "#f7f7f7"
            ],
            [
             0.6,
             "#e6f5d0"
            ],
            [
             0.7,
             "#b8e186"
            ],
            [
             0.8,
             "#7fbc41"
            ],
            [
             0.9,
             "#4d9221"
            ],
            [
             1,
             "#276419"
            ]
           ],
           "sequential": [
            [
             0,
             "#0d0887"
            ],
            [
             0.1111111111111111,
             "#46039f"
            ],
            [
             0.2222222222222222,
             "#7201a8"
            ],
            [
             0.3333333333333333,
             "#9c179e"
            ],
            [
             0.4444444444444444,
             "#bd3786"
            ],
            [
             0.5555555555555556,
             "#d8576b"
            ],
            [
             0.6666666666666666,
             "#ed7953"
            ],
            [
             0.7777777777777778,
             "#fb9f3a"
            ],
            [
             0.8888888888888888,
             "#fdca26"
            ],
            [
             1,
             "#f0f921"
            ]
           ],
           "sequentialminus": [
            [
             0,
             "#0d0887"
            ],
            [
             0.1111111111111111,
             "#46039f"
            ],
            [
             0.2222222222222222,
             "#7201a8"
            ],
            [
             0.3333333333333333,
             "#9c179e"
            ],
            [
             0.4444444444444444,
             "#bd3786"
            ],
            [
             0.5555555555555556,
             "#d8576b"
            ],
            [
             0.6666666666666666,
             "#ed7953"
            ],
            [
             0.7777777777777778,
             "#fb9f3a"
            ],
            [
             0.8888888888888888,
             "#fdca26"
            ],
            [
             1,
             "#f0f921"
            ]
           ]
          },
          "colorway": [
           "#636efa",
           "#EF553B",
           "#00cc96",
           "#ab63fa",
           "#FFA15A",
           "#19d3f3",
           "#FF6692",
           "#B6E880",
           "#FF97FF",
           "#FECB52"
          ],
          "font": {
           "color": "#2a3f5f"
          },
          "geo": {
           "bgcolor": "white",
           "lakecolor": "white",
           "landcolor": "#E5ECF6",
           "showlakes": true,
           "showland": true,
           "subunitcolor": "white"
          },
          "hoverlabel": {
           "align": "left"
          },
          "hovermode": "closest",
          "mapbox": {
           "style": "light"
          },
          "paper_bgcolor": "white",
          "plot_bgcolor": "#E5ECF6",
          "polar": {
           "angularaxis": {
            "gridcolor": "white",
            "linecolor": "white",
            "ticks": ""
           },
           "bgcolor": "#E5ECF6",
           "radialaxis": {
            "gridcolor": "white",
            "linecolor": "white",
            "ticks": ""
           }
          },
          "scene": {
           "xaxis": {
            "backgroundcolor": "#E5ECF6",
            "gridcolor": "white",
            "gridwidth": 2,
            "linecolor": "white",
            "showbackground": true,
            "ticks": "",
            "zerolinecolor": "white"
           },
           "yaxis": {
            "backgroundcolor": "#E5ECF6",
            "gridcolor": "white",
            "gridwidth": 2,
            "linecolor": "white",
            "showbackground": true,
            "ticks": "",
            "zerolinecolor": "white"
           },
           "zaxis": {
            "backgroundcolor": "#E5ECF6",
            "gridcolor": "white",
            "gridwidth": 2,
            "linecolor": "white",
            "showbackground": true,
            "ticks": "",
            "zerolinecolor": "white"
           }
          },
          "shapedefaults": {
           "line": {
            "color": "#2a3f5f"
           }
          },
          "ternary": {
           "aaxis": {
            "gridcolor": "white",
            "linecolor": "white",
            "ticks": ""
           },
           "baxis": {
            "gridcolor": "white",
            "linecolor": "white",
            "ticks": ""
           },
           "bgcolor": "#E5ECF6",
           "caxis": {
            "gridcolor": "white",
            "linecolor": "white",
            "ticks": ""
           }
          },
          "title": {
           "x": 0.05
          },
          "xaxis": {
           "automargin": true,
           "gridcolor": "white",
           "linecolor": "white",
           "ticks": "",
           "title": {
            "standoff": 15
           },
           "zerolinecolor": "white",
           "zerolinewidth": 2
          },
          "yaxis": {
           "automargin": true,
           "gridcolor": "white",
           "linecolor": "white",
           "ticks": "",
           "title": {
            "standoff": 15
           },
           "zerolinecolor": "white",
           "zerolinewidth": 2
          }
         }
        },
        "title": {
         "text": "normalized objectives"
        },
        "xaxis": {
         "title": {
          "text": "time in s"
         }
        },
        "yaxis": {
         "title": {
          "text": "normalized objectives"
         }
        }
       }
      }
     },
     "metadata": {},
     "output_type": "display_data"
    }
   ],
   "source": [
    "\n",
    "network_name = \"delete3\"\n",
    "configuration_name_1 =\"algorithm_config_7_LIVE\"\n",
    "configuration_name_2 =\"algorithm_config_8_LIVE_greedy\"\n",
    "results_directory_1 = \"./datastore/{network_name}/{configuration_name}/\".format(network_name=network_name, configuration_name= configuration_name_1)\n",
    "results_directory_2 = \"./datastore/{network_name}/{configuration_name}/\".format(network_name=network_name, configuration_name= configuration_name_2)\n",
    "objective_np_array_1 = np.array([])\n",
    "objective_np_array_1_negative = np.array([])\n",
    "objective_np_array_2 = np.array([])\n",
    "objective_np_array_2_negative = np.array([])\n",
    "with open(results_directory_1 + \"/objectives_result.json\", mode=\"r\",encoding=\"utf-8\") as openfile:\n",
    "    result_dict_object = json.load(openfile)\n",
    "    objective_np_array_1 = np.array(result_dict_object)\n",
    "    objective_np_array_1_negative = np.array(result_dict_object)\n",
    "    objective_np_array_1_negative[:, 1:] *= -1\n",
    "with open(results_directory_2 + \"/objectives_result.json\", mode=\"r\",encoding=\"utf-8\") as openfile:\n",
    "    result_dict_object = json.load(openfile)\n",
    "    objective_np_array_2 = np.array(result_dict_object)\n",
    "    objective_np_array_2_negative = np.array(result_dict_object)\n",
    "    objective_np_array_2_negative[:, 1:] *= -1\n",
    "\n",
    "\n",
    "\n",
    "approx_ideal = np.concatenate((objective_np_array_1_negative[:, 1:], objective_np_array_2_negative[:, 1:]), axis=0).min(axis=0)\n",
    "approx_nadir  = np.concatenate((objective_np_array_1_negative[:, 1:], objective_np_array_2_negative[:, 1:]), axis=0).max(axis=0)\n",
    "\n",
    "normalized_objective_list_1 = np.array((objective_np_array_1_negative[:, 1:] - approx_ideal) / (approx_nadir - approx_ideal))\n",
    "normalized_objective_list_2 = np.array((objective_np_array_2_negative[:, 1:] - approx_ideal) / (approx_nadir - approx_ideal))\n",
    "\n",
    "hv = Hypervolume(ref_point=np.array([1.1, 1.1]),\n",
    "                     norm_ref_point=False,\n",
    "                     zero_to_one=False,\n",
    "                     ideal=approx_ideal,\n",
    "                     nadir=approx_nadir)\n",
    "\n",
    "hv_list_1 = [hv(solution) for solution in normalized_objective_list_1]\n",
    "hv_list_2 = [hv(solution) for solution in normalized_objective_list_2]\n",
    "\n",
    "\n",
    "fig4 = go.Figure()\n",
    "\n",
    "fig4.update_layout(\n",
    "    title=\"hypervolume\",\n",
    "    xaxis_title=\"time in s\",\n",
    "    yaxis_title=\"Hypervolume\",\n",
    "    legend_title=\"dataset\")\n",
    "\n",
    "fig4.add_trace(\n",
    "        go.Scatter(\n",
    "            x=objective_np_array_1[:, 0],\n",
    "            y=hv_list_1,\n",
    "            mode='lines+markers',\n",
    "            name=configuration_name_1\n",
    "        ))\n",
    "\n",
    "fig4.add_trace(\n",
    "        go.Scatter(\n",
    "            x=objective_np_array_1[:, 0],\n",
    "            y=hv_list_2,\n",
    "            mode='lines+markers',\n",
    "            name=configuration_name_2\n",
    "        ))\n",
    "\n",
    "\n",
    "approx_ideal = np.concatenate((objective_np_array_1[:, 1:], objective_np_array_2[:, 1:]), axis=0).min(axis=0)\n",
    "approx_nadir  = np.concatenate((objective_np_array_1[:, 1:], objective_np_array_2[:, 1:]), axis=0).max(axis=0)\n",
    "\n",
    "normalized_objective_list_1 = np.array((objective_np_array_1[:, 1:] - approx_ideal) / (approx_nadir - approx_ideal))\n",
    "normalized_objective_list_2 = np.array((objective_np_array_2[:, 1:] - approx_ideal) / (approx_nadir - approx_ideal))\n",
    "\n",
    "fig6 = go.Figure()\n",
    "\n",
    "fig6.update_layout(\n",
    "    title= \"normalized objectives\",\n",
    "    xaxis_title=\"time in s\",\n",
    "    yaxis_title=\"normalized objectives\",\n",
    "    legend_title=\"dataset\")\n",
    "\n",
    "fig6.add_trace(\n",
    "        go.Scatter(\n",
    "            x=objective_np_array_1[:, 0],\n",
    "            y=normalized_objective_list_1[:, 0],\n",
    "            name=\"energy_efficiency\" + \"_\" +configuration_name_1,\n",
    "            mode='lines+markers',\n",
    "        ))\n",
    "fig6.add_trace(\n",
    "        go.Scatter(\n",
    "            x=objective_np_array_1[:, 0],\n",
    "            y=normalized_objective_list_1[:, 1],\n",
    "            name=\"avrg_dl_datarate\" + \"_\"+ configuration_name_1,\n",
    "            mode='lines+markers',\n",
    "        ))\n",
    "fig6.add_trace(\n",
    "        go.Scatter(\n",
    "            x=objective_np_array_2[:, 0],\n",
    "            y=normalized_objective_list_2[:, 0],\n",
    "            name=\"energy_efficiency\" + \"_\" + configuration_name_2,\n",
    "            mode='lines+markers',\n",
    "        ))\n",
    "fig6.add_trace(\n",
    "        go.Scatter(\n",
    "            x=objective_np_array_2[:, 0],\n",
    "            y=normalized_objective_list_2[:, 1],\n",
    "            name=\"avrg_dl_datarate\" + \"_\" + configuration_name_2,\n",
    "            mode='lines+markers',\n",
    "        ))\n",
    "\n",
    "fig4.show()\n",
    "fig6.show()"
   ]
  }
 ],
 "metadata": {
  "kernelspec": {
   "display_name": "Python 3 (ipykernel)",
   "language": "python",
   "name": "python3"
  },
  "language_info": {
   "codemirror_mode": {
    "name": "ipython",
    "version": 3
   },
   "file_extension": ".py",
   "mimetype": "text/x-python",
   "name": "python",
   "nbconvert_exporter": "python",
   "pygments_lexer": "ipython3",
   "version": "3.11.0"
  },
  "toc-autonumbering": true,
  "toc-showcode": false,
  "toc-showmarkdowntxt": true
 },
 "nbformat": 4,
 "nbformat_minor": 5
}
