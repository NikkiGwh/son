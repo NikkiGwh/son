{
 "cells": [
  {
   "cell_type": "code",
   "execution_count": 2,
   "id": "456d08ba-1532-4643-bfe8-20df19cbf8ba",
   "metadata": {},
   "outputs": [],
   "source": [
    "import son_main_script as soon"
   ]
  },
  {
   "cell_type": "code",
   "execution_count": null,
   "id": "d65c5ac6-97fe-4a19-ab8e-073cfa7ac87b",
   "metadata": {},
   "outputs": [],
   "source": []
  },
  {
   "cell_type": "code",
   "execution_count": 3,
   "id": "936b4445-0b1d-4049-9c5a-832d31ebf19d",
   "metadata": {},
   "outputs": [
    {
     "ename": "FileNotFoundError",
     "evalue": "[Errno 2] No such file or directory: 'test.json'",
     "output_type": "error",
     "traceback": [
      "\u001b[0;31m---------------------------------------------------------------------------\u001b[0m",
      "\u001b[0;31mFileNotFoundError\u001b[0m                         Traceback (most recent call last)",
      "Cell \u001b[0;32mIn[3], line 1\u001b[0m\n\u001b[0;32m----> 1\u001b[0m soon\u001b[39m.\u001b[39;49mmain()\n",
      "File \u001b[0;32m~/Desktop/son/son_main_script.py:1067\u001b[0m, in \u001b[0;36mmain\u001b[0;34m()\u001b[0m\n\u001b[1;32m   1066\u001b[0m \u001b[39mdef\u001b[39;00m \u001b[39mmain\u001b[39m():\n\u001b[0;32m-> 1067\u001b[0m     son \u001b[39m=\u001b[39m Son(adjacencies_file_name\u001b[39m=\u001b[39;49m\u001b[39m\"\u001b[39;49m\u001b[39mtest.json\u001b[39;49m\u001b[39m\"\u001b[39;49m)\n\u001b[1;32m   1068\u001b[0m     \u001b[39m# bestFit_highestTrafficFirst_HighestDegreeFirst_bsOrderNone\u001b[39;00m\n\u001b[1;32m   1069\u001b[0m     \u001b[39m# son.start_calculation_bin_packing_save(\u001b[39;00m\n\u001b[1;32m   1070\u001b[0m     \u001b[39m#     sheet_name=\"bf_htf_hdf_bsn\",\u001b[39;00m\n\u001b[0;32m   (...)\u001b[0m\n\u001b[1;32m   1078\u001b[0m     \u001b[39m#     cell_order_2=CellOrderTwo.HIGHEST_DEGREE_FIRST, bs_order=None,\u001b[39;00m\n\u001b[1;32m   1079\u001b[0m     \u001b[39m#     bin_packing=BinPackingType.WORST_FIT)\u001b[39;00m\n\u001b[1;32m   1081\u001b[0m     son\u001b[39m.\u001b[39mfind_activation_profile_bin_packing(\n\u001b[1;32m   1082\u001b[0m         cell_order_2\u001b[39m=\u001b[39mCellOrderTwo\u001b[39m.\u001b[39mHIGHEST_DEGREE_FIRST, bs_order\u001b[39m=\u001b[39m\u001b[39mNone\u001b[39;00m,\n\u001b[1;32m   1083\u001b[0m         bin_packing\u001b[39m=\u001b[39mBinPackingType\u001b[39m.\u001b[39mBEST_FIT)\n",
      "File \u001b[0;32m~/Desktop/son/son_main_script.py:112\u001b[0m, in \u001b[0;36mSon.__init__\u001b[0;34m(self, adjacencies_file_name, parameter_config_file_name)\u001b[0m\n\u001b[1;32m    110\u001b[0m     \u001b[39mself\u001b[39m\u001b[39m.\u001b[39mload_parameter_config_from_json_file(parameter_config_file_name)\n\u001b[1;32m    111\u001b[0m \u001b[39mif\u001b[39;00m adjacencies_file_name \u001b[39m!=\u001b[39m \u001b[39m\"\u001b[39m\u001b[39m\"\u001b[39m:\n\u001b[0;32m--> 112\u001b[0m     \u001b[39mself\u001b[39;49m\u001b[39m.\u001b[39;49mload_graph_from_json_adjacency_file(\n\u001b[1;32m    113\u001b[0m         adjacencies_file_name, keep_activation_profile\u001b[39m=\u001b[39;49m\u001b[39mTrue\u001b[39;49;00m)\n",
      "File \u001b[0;32m~/Desktop/son/son_main_script.py:811\u001b[0m, in \u001b[0;36mSon.load_graph_from_json_adjacency_file\u001b[0;34m(self, file_name, keep_activation_profile)\u001b[0m\n\u001b[1;32m    808\u001b[0m \u001b[39mdef\u001b[39;00m \u001b[39mload_graph_from_json_adjacency_file\u001b[39m(\n\u001b[1;32m    809\u001b[0m         \u001b[39mself\u001b[39m, file_name: \u001b[39mstr\u001b[39m, keep_activation_profile: \u001b[39mbool\u001b[39m \u001b[39m=\u001b[39m \u001b[39mFalse\u001b[39;00m):\n\u001b[1;32m    810\u001b[0m     \u001b[39m# Opening JSON file\u001b[39;00m\n\u001b[0;32m--> 811\u001b[0m     \u001b[39mwith\u001b[39;00m \u001b[39mopen\u001b[39;49m(file_name, \u001b[39m'\u001b[39;49m\u001b[39mr\u001b[39;49m\u001b[39m'\u001b[39;49m, encoding\u001b[39m=\u001b[39;49m\u001b[39m\"\u001b[39;49m\u001b[39mutf-8\u001b[39;49m\u001b[39m\"\u001b[39;49m) \u001b[39mas\u001b[39;00m openfile:\n\u001b[1;32m    812\u001b[0m         \u001b[39m# Reading from json file\u001b[39;00m\n\u001b[1;32m    813\u001b[0m         json_object \u001b[39m=\u001b[39m json\u001b[39m.\u001b[39mload(openfile)\n\u001b[1;32m    814\u001b[0m         \u001b[39mself\u001b[39m\u001b[39m.\u001b[39mgraph \u001b[39m=\u001b[39m \u001b[39mself\u001b[39m\u001b[39m.\u001b[39mget_graph_from_json_adjacency_string(json_object)\n",
      "\u001b[0;31mFileNotFoundError\u001b[0m: [Errno 2] No such file or directory: 'test.json'"
     ]
    }
   ],
   "source": [
    "print(\"Hallo\")"
   ]
  },
  {
   "cell_type": "code",
   "execution_count": null,
   "id": "1ff3ec38-2748-4e9d-b24a-e88443dfb8d2",
   "metadata": {},
   "outputs": [],
   "source": []
  },
  {
   "cell_type": "code",
   "execution_count": null,
   "id": "0b48015b-d443-4308-83d1-c83f8cc11b00",
   "metadata": {},
   "outputs": [],
   "source": []
  },
  {
   "cell_type": "code",
   "execution_count": null,
   "id": "4965c80b-c40a-4296-80cb-69f9a494b8a3",
   "metadata": {},
   "outputs": [],
   "source": []
  }
 ],
 "metadata": {
  "kernelspec": {
   "display_name": "Python 3 (ipykernel)",
   "language": "python",
   "name": "python3"
  },
  "language_info": {
   "codemirror_mode": {
    "name": "ipython",
    "version": 3
   },
   "file_extension": ".py",
   "mimetype": "text/x-python",
   "name": "python",
   "nbconvert_exporter": "python",
   "pygments_lexer": "ipython3",
   "version": "3.11.0"
  }
 },
 "nbformat": 4,
 "nbformat_minor": 5
}
