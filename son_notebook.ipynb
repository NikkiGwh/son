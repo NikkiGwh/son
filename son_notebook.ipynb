{
 "cells": [
  {
   "cell_type": "code",
   "execution_count": 7,
   "id": "456d08ba-1532-4643-bfe8-20df19cbf8ba",
   "metadata": {},
   "outputs": [],
   "source": [
    "import son_main_script as soon\n",
    "import plotly.express as px\n",
    "import plotly.graph_objects as go\n",
    "import pandas as pd\n",
    "from pymoo.indicators.hv import Hypervolume\n",
    "import json\n",
    "import os\n",
    "import plotly.graph_objects as go\n",
    "import numpy as np"
   ]
  },
  {
   "cell_type": "code",
   "execution_count": 8,
   "id": "936b4445-0b1d-4049-9c5a-832d31ebf19d",
   "metadata": {},
   "outputs": [
    {
     "data": {
      "application/vnd.plotly.v1+json": {
       "config": {
        "plotlyServerURL": "https://plot.ly"
       },
       "data": [
        {
         "mode": "markers",
         "name": "algorithm_config_2STATIC",
         "type": "scatter",
         "x": [
          0.1710398445092307,
          0.4321347586653708,
          0.08195659216067269,
          0.6708778749595065,
          0.08940719144800657,
          0,
          0.28668610301263303,
          0.5082604470359553,
          1
         ],
         "y": [
          0.6597337770382691,
          0.3448419301164725,
          0.9808652246256242,
          0.008319467554076549,
          0.6834442595673874,
          1,
          0.3514975041597339,
          0.013311148086521923,
          0
         ]
        }
       ],
       "layout": {
        "legend": {
         "title": {
          "text": "configuration names"
         }
        },
        "template": {
         "data": {
          "bar": [
           {
            "error_x": {
             "color": "#2a3f5f"
            },
            "error_y": {
             "color": "#2a3f5f"
            },
            "marker": {
             "line": {
              "color": "#E5ECF6",
              "width": 0.5
             },
             "pattern": {
              "fillmode": "overlay",
              "size": 10,
              "solidity": 0.2
             }
            },
            "type": "bar"
           }
          ],
          "barpolar": [
           {
            "marker": {
             "line": {
              "color": "#E5ECF6",
              "width": 0.5
             },
             "pattern": {
              "fillmode": "overlay",
              "size": 10,
              "solidity": 0.2
             }
            },
            "type": "barpolar"
           }
          ],
          "carpet": [
           {
            "aaxis": {
             "endlinecolor": "#2a3f5f",
             "gridcolor": "white",
             "linecolor": "white",
             "minorgridcolor": "white",
             "startlinecolor": "#2a3f5f"
            },
            "baxis": {
             "endlinecolor": "#2a3f5f",
             "gridcolor": "white",
             "linecolor": "white",
             "minorgridcolor": "white",
             "startlinecolor": "#2a3f5f"
            },
            "type": "carpet"
           }
          ],
          "choropleth": [
           {
            "colorbar": {
             "outlinewidth": 0,
             "ticks": ""
            },
            "type": "choropleth"
           }
          ],
          "contour": [
           {
            "colorbar": {
             "outlinewidth": 0,
             "ticks": ""
            },
            "colorscale": [
             [
              0,
              "#0d0887"
             ],
             [
              0.1111111111111111,
              "#46039f"
             ],
             [
              0.2222222222222222,
              "#7201a8"
             ],
             [
              0.3333333333333333,
              "#9c179e"
             ],
             [
              0.4444444444444444,
              "#bd3786"
             ],
             [
              0.5555555555555556,
              "#d8576b"
             ],
             [
              0.6666666666666666,
              "#ed7953"
             ],
             [
              0.7777777777777778,
              "#fb9f3a"
             ],
             [
              0.8888888888888888,
              "#fdca26"
             ],
             [
              1,
              "#f0f921"
             ]
            ],
            "type": "contour"
           }
          ],
          "contourcarpet": [
           {
            "colorbar": {
             "outlinewidth": 0,
             "ticks": ""
            },
            "type": "contourcarpet"
           }
          ],
          "heatmap": [
           {
            "colorbar": {
             "outlinewidth": 0,
             "ticks": ""
            },
            "colorscale": [
             [
              0,
              "#0d0887"
             ],
             [
              0.1111111111111111,
              "#46039f"
             ],
             [
              0.2222222222222222,
              "#7201a8"
             ],
             [
              0.3333333333333333,
              "#9c179e"
             ],
             [
              0.4444444444444444,
              "#bd3786"
             ],
             [
              0.5555555555555556,
              "#d8576b"
             ],
             [
              0.6666666666666666,
              "#ed7953"
             ],
             [
              0.7777777777777778,
              "#fb9f3a"
             ],
             [
              0.8888888888888888,
              "#fdca26"
             ],
             [
              1,
              "#f0f921"
             ]
            ],
            "type": "heatmap"
           }
          ],
          "heatmapgl": [
           {
            "colorbar": {
             "outlinewidth": 0,
             "ticks": ""
            },
            "colorscale": [
             [
              0,
              "#0d0887"
             ],
             [
              0.1111111111111111,
              "#46039f"
             ],
             [
              0.2222222222222222,
              "#7201a8"
             ],
             [
              0.3333333333333333,
              "#9c179e"
             ],
             [
              0.4444444444444444,
              "#bd3786"
             ],
             [
              0.5555555555555556,
              "#d8576b"
             ],
             [
              0.6666666666666666,
              "#ed7953"
             ],
             [
              0.7777777777777778,
              "#fb9f3a"
             ],
             [
              0.8888888888888888,
              "#fdca26"
             ],
             [
              1,
              "#f0f921"
             ]
            ],
            "type": "heatmapgl"
           }
          ],
          "histogram": [
           {
            "marker": {
             "pattern": {
              "fillmode": "overlay",
              "size": 10,
              "solidity": 0.2
             }
            },
            "type": "histogram"
           }
          ],
          "histogram2d": [
           {
            "colorbar": {
             "outlinewidth": 0,
             "ticks": ""
            },
            "colorscale": [
             [
              0,
              "#0d0887"
             ],
             [
              0.1111111111111111,
              "#46039f"
             ],
             [
              0.2222222222222222,
              "#7201a8"
             ],
             [
              0.3333333333333333,
              "#9c179e"
             ],
             [
              0.4444444444444444,
              "#bd3786"
             ],
             [
              0.5555555555555556,
              "#d8576b"
             ],
             [
              0.6666666666666666,
              "#ed7953"
             ],
             [
              0.7777777777777778,
              "#fb9f3a"
             ],
             [
              0.8888888888888888,
              "#fdca26"
             ],
             [
              1,
              "#f0f921"
             ]
            ],
            "type": "histogram2d"
           }
          ],
          "histogram2dcontour": [
           {
            "colorbar": {
             "outlinewidth": 0,
             "ticks": ""
            },
            "colorscale": [
             [
              0,
              "#0d0887"
             ],
             [
              0.1111111111111111,
              "#46039f"
             ],
             [
              0.2222222222222222,
              "#7201a8"
             ],
             [
              0.3333333333333333,
              "#9c179e"
             ],
             [
              0.4444444444444444,
              "#bd3786"
             ],
             [
              0.5555555555555556,
              "#d8576b"
             ],
             [
              0.6666666666666666,
              "#ed7953"
             ],
             [
              0.7777777777777778,
              "#fb9f3a"
             ],
             [
              0.8888888888888888,
              "#fdca26"
             ],
             [
              1,
              "#f0f921"
             ]
            ],
            "type": "histogram2dcontour"
           }
          ],
          "mesh3d": [
           {
            "colorbar": {
             "outlinewidth": 0,
             "ticks": ""
            },
            "type": "mesh3d"
           }
          ],
          "parcoords": [
           {
            "line": {
             "colorbar": {
              "outlinewidth": 0,
              "ticks": ""
             }
            },
            "type": "parcoords"
           }
          ],
          "pie": [
           {
            "automargin": true,
            "type": "pie"
           }
          ],
          "scatter": [
           {
            "fillpattern": {
             "fillmode": "overlay",
             "size": 10,
             "solidity": 0.2
            },
            "type": "scatter"
           }
          ],
          "scatter3d": [
           {
            "line": {
             "colorbar": {
              "outlinewidth": 0,
              "ticks": ""
             }
            },
            "marker": {
             "colorbar": {
              "outlinewidth": 0,
              "ticks": ""
             }
            },
            "type": "scatter3d"
           }
          ],
          "scattercarpet": [
           {
            "marker": {
             "colorbar": {
              "outlinewidth": 0,
              "ticks": ""
             }
            },
            "type": "scattercarpet"
           }
          ],
          "scattergeo": [
           {
            "marker": {
             "colorbar": {
              "outlinewidth": 0,
              "ticks": ""
             }
            },
            "type": "scattergeo"
           }
          ],
          "scattergl": [
           {
            "marker": {
             "colorbar": {
              "outlinewidth": 0,
              "ticks": ""
             }
            },
            "type": "scattergl"
           }
          ],
          "scattermapbox": [
           {
            "marker": {
             "colorbar": {
              "outlinewidth": 0,
              "ticks": ""
             }
            },
            "type": "scattermapbox"
           }
          ],
          "scatterpolar": [
           {
            "marker": {
             "colorbar": {
              "outlinewidth": 0,
              "ticks": ""
             }
            },
            "type": "scatterpolar"
           }
          ],
          "scatterpolargl": [
           {
            "marker": {
             "colorbar": {
              "outlinewidth": 0,
              "ticks": ""
             }
            },
            "type": "scatterpolargl"
           }
          ],
          "scatterternary": [
           {
            "marker": {
             "colorbar": {
              "outlinewidth": 0,
              "ticks": ""
             }
            },
            "type": "scatterternary"
           }
          ],
          "surface": [
           {
            "colorbar": {
             "outlinewidth": 0,
             "ticks": ""
            },
            "colorscale": [
             [
              0,
              "#0d0887"
             ],
             [
              0.1111111111111111,
              "#46039f"
             ],
             [
              0.2222222222222222,
              "#7201a8"
             ],
             [
              0.3333333333333333,
              "#9c179e"
             ],
             [
              0.4444444444444444,
              "#bd3786"
             ],
             [
              0.5555555555555556,
              "#d8576b"
             ],
             [
              0.6666666666666666,
              "#ed7953"
             ],
             [
              0.7777777777777778,
              "#fb9f3a"
             ],
             [
              0.8888888888888888,
              "#fdca26"
             ],
             [
              1,
              "#f0f921"
             ]
            ],
            "type": "surface"
           }
          ],
          "table": [
           {
            "cells": {
             "fill": {
              "color": "#EBF0F8"
             },
             "line": {
              "color": "white"
             }
            },
            "header": {
             "fill": {
              "color": "#C8D4E3"
             },
             "line": {
              "color": "white"
             }
            },
            "type": "table"
           }
          ]
         },
         "layout": {
          "annotationdefaults": {
           "arrowcolor": "#2a3f5f",
           "arrowhead": 0,
           "arrowwidth": 1
          },
          "autotypenumbers": "strict",
          "coloraxis": {
           "colorbar": {
            "outlinewidth": 0,
            "ticks": ""
           }
          },
          "colorscale": {
           "diverging": [
            [
             0,
             "#8e0152"
            ],
            [
             0.1,
             "#c51b7d"
            ],
            [
             0.2,
             "#de77ae"
            ],
            [
             0.3,
             "#f1b6da"
            ],
            [
             0.4,
             "#fde0ef"
            ],
            [
             0.5,
             "#f7f7f7"
            ],
            [
             0.6,
             "#e6f5d0"
            ],
            [
             0.7,
             "#b8e186"
            ],
            [
             0.8,
             "#7fbc41"
            ],
            [
             0.9,
             "#4d9221"
            ],
            [
             1,
             "#276419"
            ]
           ],
           "sequential": [
            [
             0,
             "#0d0887"
            ],
            [
             0.1111111111111111,
             "#46039f"
            ],
            [
             0.2222222222222222,
             "#7201a8"
            ],
            [
             0.3333333333333333,
             "#9c179e"
            ],
            [
             0.4444444444444444,
             "#bd3786"
            ],
            [
             0.5555555555555556,
             "#d8576b"
            ],
            [
             0.6666666666666666,
             "#ed7953"
            ],
            [
             0.7777777777777778,
             "#fb9f3a"
            ],
            [
             0.8888888888888888,
             "#fdca26"
            ],
            [
             1,
             "#f0f921"
            ]
           ],
           "sequentialminus": [
            [
             0,
             "#0d0887"
            ],
            [
             0.1111111111111111,
             "#46039f"
            ],
            [
             0.2222222222222222,
             "#7201a8"
            ],
            [
             0.3333333333333333,
             "#9c179e"
            ],
            [
             0.4444444444444444,
             "#bd3786"
            ],
            [
             0.5555555555555556,
             "#d8576b"
            ],
            [
             0.6666666666666666,
             "#ed7953"
            ],
            [
             0.7777777777777778,
             "#fb9f3a"
            ],
            [
             0.8888888888888888,
             "#fdca26"
            ],
            [
             1,
             "#f0f921"
            ]
           ]
          },
          "colorway": [
           "#636efa",
           "#EF553B",
           "#00cc96",
           "#ab63fa",
           "#FFA15A",
           "#19d3f3",
           "#FF6692",
           "#B6E880",
           "#FF97FF",
           "#FECB52"
          ],
          "font": {
           "color": "#2a3f5f"
          },
          "geo": {
           "bgcolor": "white",
           "lakecolor": "white",
           "landcolor": "#E5ECF6",
           "showlakes": true,
           "showland": true,
           "subunitcolor": "white"
          },
          "hoverlabel": {
           "align": "left"
          },
          "hovermode": "closest",
          "mapbox": {
           "style": "light"
          },
          "paper_bgcolor": "white",
          "plot_bgcolor": "#E5ECF6",
          "polar": {
           "angularaxis": {
            "gridcolor": "white",
            "linecolor": "white",
            "ticks": ""
           },
           "bgcolor": "#E5ECF6",
           "radialaxis": {
            "gridcolor": "white",
            "linecolor": "white",
            "ticks": ""
           }
          },
          "scene": {
           "xaxis": {
            "backgroundcolor": "#E5ECF6",
            "gridcolor": "white",
            "gridwidth": 2,
            "linecolor": "white",
            "showbackground": true,
            "ticks": "",
            "zerolinecolor": "white"
           },
           "yaxis": {
            "backgroundcolor": "#E5ECF6",
            "gridcolor": "white",
            "gridwidth": 2,
            "linecolor": "white",
            "showbackground": true,
            "ticks": "",
            "zerolinecolor": "white"
           },
           "zaxis": {
            "backgroundcolor": "#E5ECF6",
            "gridcolor": "white",
            "gridwidth": 2,
            "linecolor": "white",
            "showbackground": true,
            "ticks": "",
            "zerolinecolor": "white"
           }
          },
          "shapedefaults": {
           "line": {
            "color": "#2a3f5f"
           }
          },
          "ternary": {
           "aaxis": {
            "gridcolor": "white",
            "linecolor": "white",
            "ticks": ""
           },
           "baxis": {
            "gridcolor": "white",
            "linecolor": "white",
            "ticks": ""
           },
           "bgcolor": "#E5ECF6",
           "caxis": {
            "gridcolor": "white",
            "linecolor": "white",
            "ticks": ""
           }
          },
          "title": {
           "x": 0.05
          },
          "xaxis": {
           "automargin": true,
           "gridcolor": "white",
           "linecolor": "white",
           "ticks": "",
           "title": {
            "standoff": 15
           },
           "zerolinecolor": "white",
           "zerolinewidth": 2
          },
          "yaxis": {
           "automargin": true,
           "gridcolor": "white",
           "linecolor": "white",
           "ticks": "",
           "title": {
            "standoff": 15
           },
           "zerolinecolor": "white",
           "zerolinewidth": 2
          }
         }
        },
        "title": {
         "text": "pareto fronts"
        },
        "xaxis": {
         "title": {
          "text": "AVG_DL_RATE"
         }
        },
        "yaxis": {
         "title": {
          "text": "ENERGY_EFFICIENCY"
         }
        }
       }
      }
     },
     "metadata": {},
     "output_type": "display_data"
    },
    {
     "data": {
      "application/vnd.plotly.v1+json": {
       "config": {
        "plotlyServerURL": "https://plot.ly"
       },
       "data": [
        {
         "mode": "markers",
         "name": "algorithm_config_2STATIC",
         "type": "scatter",
         "x": [
          -4.3723,
          -4.2917,
          -4.3998,
          -4.218,
          -4.3975,
          -4.4251,
          -4.3366,
          -4.2682,
          -4.1164
         ],
         "y": [
          -1.1385,
          -1.2142,
          -1.0613,
          -1.2951,
          -1.1328,
          -1.0567,
          -1.2126,
          -1.2939,
          -1.2971
         ]
        }
       ],
       "layout": {
        "legend": {
         "title": {
          "text": "configuration names"
         }
        },
        "template": {
         "data": {
          "bar": [
           {
            "error_x": {
             "color": "#2a3f5f"
            },
            "error_y": {
             "color": "#2a3f5f"
            },
            "marker": {
             "line": {
              "color": "#E5ECF6",
              "width": 0.5
             },
             "pattern": {
              "fillmode": "overlay",
              "size": 10,
              "solidity": 0.2
             }
            },
            "type": "bar"
           }
          ],
          "barpolar": [
           {
            "marker": {
             "line": {
              "color": "#E5ECF6",
              "width": 0.5
             },
             "pattern": {
              "fillmode": "overlay",
              "size": 10,
              "solidity": 0.2
             }
            },
            "type": "barpolar"
           }
          ],
          "carpet": [
           {
            "aaxis": {
             "endlinecolor": "#2a3f5f",
             "gridcolor": "white",
             "linecolor": "white",
             "minorgridcolor": "white",
             "startlinecolor": "#2a3f5f"
            },
            "baxis": {
             "endlinecolor": "#2a3f5f",
             "gridcolor": "white",
             "linecolor": "white",
             "minorgridcolor": "white",
             "startlinecolor": "#2a3f5f"
            },
            "type": "carpet"
           }
          ],
          "choropleth": [
           {
            "colorbar": {
             "outlinewidth": 0,
             "ticks": ""
            },
            "type": "choropleth"
           }
          ],
          "contour": [
           {
            "colorbar": {
             "outlinewidth": 0,
             "ticks": ""
            },
            "colorscale": [
             [
              0,
              "#0d0887"
             ],
             [
              0.1111111111111111,
              "#46039f"
             ],
             [
              0.2222222222222222,
              "#7201a8"
             ],
             [
              0.3333333333333333,
              "#9c179e"
             ],
             [
              0.4444444444444444,
              "#bd3786"
             ],
             [
              0.5555555555555556,
              "#d8576b"
             ],
             [
              0.6666666666666666,
              "#ed7953"
             ],
             [
              0.7777777777777778,
              "#fb9f3a"
             ],
             [
              0.8888888888888888,
              "#fdca26"
             ],
             [
              1,
              "#f0f921"
             ]
            ],
            "type": "contour"
           }
          ],
          "contourcarpet": [
           {
            "colorbar": {
             "outlinewidth": 0,
             "ticks": ""
            },
            "type": "contourcarpet"
           }
          ],
          "heatmap": [
           {
            "colorbar": {
             "outlinewidth": 0,
             "ticks": ""
            },
            "colorscale": [
             [
              0,
              "#0d0887"
             ],
             [
              0.1111111111111111,
              "#46039f"
             ],
             [
              0.2222222222222222,
              "#7201a8"
             ],
             [
              0.3333333333333333,
              "#9c179e"
             ],
             [
              0.4444444444444444,
              "#bd3786"
             ],
             [
              0.5555555555555556,
              "#d8576b"
             ],
             [
              0.6666666666666666,
              "#ed7953"
             ],
             [
              0.7777777777777778,
              "#fb9f3a"
             ],
             [
              0.8888888888888888,
              "#fdca26"
             ],
             [
              1,
              "#f0f921"
             ]
            ],
            "type": "heatmap"
           }
          ],
          "heatmapgl": [
           {
            "colorbar": {
             "outlinewidth": 0,
             "ticks": ""
            },
            "colorscale": [
             [
              0,
              "#0d0887"
             ],
             [
              0.1111111111111111,
              "#46039f"
             ],
             [
              0.2222222222222222,
              "#7201a8"
             ],
             [
              0.3333333333333333,
              "#9c179e"
             ],
             [
              0.4444444444444444,
              "#bd3786"
             ],
             [
              0.5555555555555556,
              "#d8576b"
             ],
             [
              0.6666666666666666,
              "#ed7953"
             ],
             [
              0.7777777777777778,
              "#fb9f3a"
             ],
             [
              0.8888888888888888,
              "#fdca26"
             ],
             [
              1,
              "#f0f921"
             ]
            ],
            "type": "heatmapgl"
           }
          ],
          "histogram": [
           {
            "marker": {
             "pattern": {
              "fillmode": "overlay",
              "size": 10,
              "solidity": 0.2
             }
            },
            "type": "histogram"
           }
          ],
          "histogram2d": [
           {
            "colorbar": {
             "outlinewidth": 0,
             "ticks": ""
            },
            "colorscale": [
             [
              0,
              "#0d0887"
             ],
             [
              0.1111111111111111,
              "#46039f"
             ],
             [
              0.2222222222222222,
              "#7201a8"
             ],
             [
              0.3333333333333333,
              "#9c179e"
             ],
             [
              0.4444444444444444,
              "#bd3786"
             ],
             [
              0.5555555555555556,
              "#d8576b"
             ],
             [
              0.6666666666666666,
              "#ed7953"
             ],
             [
              0.7777777777777778,
              "#fb9f3a"
             ],
             [
              0.8888888888888888,
              "#fdca26"
             ],
             [
              1,
              "#f0f921"
             ]
            ],
            "type": "histogram2d"
           }
          ],
          "histogram2dcontour": [
           {
            "colorbar": {
             "outlinewidth": 0,
             "ticks": ""
            },
            "colorscale": [
             [
              0,
              "#0d0887"
             ],
             [
              0.1111111111111111,
              "#46039f"
             ],
             [
              0.2222222222222222,
              "#7201a8"
             ],
             [
              0.3333333333333333,
              "#9c179e"
             ],
             [
              0.4444444444444444,
              "#bd3786"
             ],
             [
              0.5555555555555556,
              "#d8576b"
             ],
             [
              0.6666666666666666,
              "#ed7953"
             ],
             [
              0.7777777777777778,
              "#fb9f3a"
             ],
             [
              0.8888888888888888,
              "#fdca26"
             ],
             [
              1,
              "#f0f921"
             ]
            ],
            "type": "histogram2dcontour"
           }
          ],
          "mesh3d": [
           {
            "colorbar": {
             "outlinewidth": 0,
             "ticks": ""
            },
            "type": "mesh3d"
           }
          ],
          "parcoords": [
           {
            "line": {
             "colorbar": {
              "outlinewidth": 0,
              "ticks": ""
             }
            },
            "type": "parcoords"
           }
          ],
          "pie": [
           {
            "automargin": true,
            "type": "pie"
           }
          ],
          "scatter": [
           {
            "fillpattern": {
             "fillmode": "overlay",
             "size": 10,
             "solidity": 0.2
            },
            "type": "scatter"
           }
          ],
          "scatter3d": [
           {
            "line": {
             "colorbar": {
              "outlinewidth": 0,
              "ticks": ""
             }
            },
            "marker": {
             "colorbar": {
              "outlinewidth": 0,
              "ticks": ""
             }
            },
            "type": "scatter3d"
           }
          ],
          "scattercarpet": [
           {
            "marker": {
             "colorbar": {
              "outlinewidth": 0,
              "ticks": ""
             }
            },
            "type": "scattercarpet"
           }
          ],
          "scattergeo": [
           {
            "marker": {
             "colorbar": {
              "outlinewidth": 0,
              "ticks": ""
             }
            },
            "type": "scattergeo"
           }
          ],
          "scattergl": [
           {
            "marker": {
             "colorbar": {
              "outlinewidth": 0,
              "ticks": ""
             }
            },
            "type": "scattergl"
           }
          ],
          "scattermapbox": [
           {
            "marker": {
             "colorbar": {
              "outlinewidth": 0,
              "ticks": ""
             }
            },
            "type": "scattermapbox"
           }
          ],
          "scatterpolar": [
           {
            "marker": {
             "colorbar": {
              "outlinewidth": 0,
              "ticks": ""
             }
            },
            "type": "scatterpolar"
           }
          ],
          "scatterpolargl": [
           {
            "marker": {
             "colorbar": {
              "outlinewidth": 0,
              "ticks": ""
             }
            },
            "type": "scatterpolargl"
           }
          ],
          "scatterternary": [
           {
            "marker": {
             "colorbar": {
              "outlinewidth": 0,
              "ticks": ""
             }
            },
            "type": "scatterternary"
           }
          ],
          "surface": [
           {
            "colorbar": {
             "outlinewidth": 0,
             "ticks": ""
            },
            "colorscale": [
             [
              0,
              "#0d0887"
             ],
             [
              0.1111111111111111,
              "#46039f"
             ],
             [
              0.2222222222222222,
              "#7201a8"
             ],
             [
              0.3333333333333333,
              "#9c179e"
             ],
             [
              0.4444444444444444,
              "#bd3786"
             ],
             [
              0.5555555555555556,
              "#d8576b"
             ],
             [
              0.6666666666666666,
              "#ed7953"
             ],
             [
              0.7777777777777778,
              "#fb9f3a"
             ],
             [
              0.8888888888888888,
              "#fdca26"
             ],
             [
              1,
              "#f0f921"
             ]
            ],
            "type": "surface"
           }
          ],
          "table": [
           {
            "cells": {
             "fill": {
              "color": "#EBF0F8"
             },
             "line": {
              "color": "white"
             }
            },
            "header": {
             "fill": {
              "color": "#C8D4E3"
             },
             "line": {
              "color": "white"
             }
            },
            "type": "table"
           }
          ]
         },
         "layout": {
          "annotationdefaults": {
           "arrowcolor": "#2a3f5f",
           "arrowhead": 0,
           "arrowwidth": 1
          },
          "autotypenumbers": "strict",
          "coloraxis": {
           "colorbar": {
            "outlinewidth": 0,
            "ticks": ""
           }
          },
          "colorscale": {
           "diverging": [
            [
             0,
             "#8e0152"
            ],
            [
             0.1,
             "#c51b7d"
            ],
            [
             0.2,
             "#de77ae"
            ],
            [
             0.3,
             "#f1b6da"
            ],
            [
             0.4,
             "#fde0ef"
            ],
            [
             0.5,
             "#f7f7f7"
            ],
            [
             0.6,
             "#e6f5d0"
            ],
            [
             0.7,
             "#b8e186"
            ],
            [
             0.8,
             "#7fbc41"
            ],
            [
             0.9,
             "#4d9221"
            ],
            [
             1,
             "#276419"
            ]
           ],
           "sequential": [
            [
             0,
             "#0d0887"
            ],
            [
             0.1111111111111111,
             "#46039f"
            ],
            [
             0.2222222222222222,
             "#7201a8"
            ],
            [
             0.3333333333333333,
             "#9c179e"
            ],
            [
             0.4444444444444444,
             "#bd3786"
            ],
            [
             0.5555555555555556,
             "#d8576b"
            ],
            [
             0.6666666666666666,
             "#ed7953"
            ],
            [
             0.7777777777777778,
             "#fb9f3a"
            ],
            [
             0.8888888888888888,
             "#fdca26"
            ],
            [
             1,
             "#f0f921"
            ]
           ],
           "sequentialminus": [
            [
             0,
             "#0d0887"
            ],
            [
             0.1111111111111111,
             "#46039f"
            ],
            [
             0.2222222222222222,
             "#7201a8"
            ],
            [
             0.3333333333333333,
             "#9c179e"
            ],
            [
             0.4444444444444444,
             "#bd3786"
            ],
            [
             0.5555555555555556,
             "#d8576b"
            ],
            [
             0.6666666666666666,
             "#ed7953"
            ],
            [
             0.7777777777777778,
             "#fb9f3a"
            ],
            [
             0.8888888888888888,
             "#fdca26"
            ],
            [
             1,
             "#f0f921"
            ]
           ]
          },
          "colorway": [
           "#636efa",
           "#EF553B",
           "#00cc96",
           "#ab63fa",
           "#FFA15A",
           "#19d3f3",
           "#FF6692",
           "#B6E880",
           "#FF97FF",
           "#FECB52"
          ],
          "font": {
           "color": "#2a3f5f"
          },
          "geo": {
           "bgcolor": "white",
           "lakecolor": "white",
           "landcolor": "#E5ECF6",
           "showlakes": true,
           "showland": true,
           "subunitcolor": "white"
          },
          "hoverlabel": {
           "align": "left"
          },
          "hovermode": "closest",
          "mapbox": {
           "style": "light"
          },
          "paper_bgcolor": "white",
          "plot_bgcolor": "#E5ECF6",
          "polar": {
           "angularaxis": {
            "gridcolor": "white",
            "linecolor": "white",
            "ticks": ""
           },
           "bgcolor": "#E5ECF6",
           "radialaxis": {
            "gridcolor": "white",
            "linecolor": "white",
            "ticks": ""
           }
          },
          "scene": {
           "xaxis": {
            "backgroundcolor": "#E5ECF6",
            "gridcolor": "white",
            "gridwidth": 2,
            "linecolor": "white",
            "showbackground": true,
            "ticks": "",
            "zerolinecolor": "white"
           },
           "yaxis": {
            "backgroundcolor": "#E5ECF6",
            "gridcolor": "white",
            "gridwidth": 2,
            "linecolor": "white",
            "showbackground": true,
            "ticks": "",
            "zerolinecolor": "white"
           },
           "zaxis": {
            "backgroundcolor": "#E5ECF6",
            "gridcolor": "white",
            "gridwidth": 2,
            "linecolor": "white",
            "showbackground": true,
            "ticks": "",
            "zerolinecolor": "white"
           }
          },
          "shapedefaults": {
           "line": {
            "color": "#2a3f5f"
           }
          },
          "ternary": {
           "aaxis": {
            "gridcolor": "white",
            "linecolor": "white",
            "ticks": ""
           },
           "baxis": {
            "gridcolor": "white",
            "linecolor": "white",
            "ticks": ""
           },
           "bgcolor": "#E5ECF6",
           "caxis": {
            "gridcolor": "white",
            "linecolor": "white",
            "ticks": ""
           }
          },
          "title": {
           "x": 0.05
          },
          "xaxis": {
           "automargin": true,
           "gridcolor": "white",
           "linecolor": "white",
           "ticks": "",
           "title": {
            "standoff": 15
           },
           "zerolinecolor": "white",
           "zerolinewidth": 2
          },
          "yaxis": {
           "automargin": true,
           "gridcolor": "white",
           "linecolor": "white",
           "ticks": "",
           "title": {
            "standoff": 15
           },
           "zerolinecolor": "white",
           "zerolinewidth": 2
          }
         }
        },
        "title": {
         "text": "objective results"
        },
        "xaxis": {
         "title": {
          "text": "AVG_DL_RATE"
         }
        },
        "yaxis": {
         "title": {
          "text": "ENERGY_EFFICIENCY"
         }
        }
       }
      }
     },
     "metadata": {},
     "output_type": "display_data"
    },
    {
     "data": {
      "application/vnd.plotly.v1+json": {
       "config": {
        "plotlyServerURL": "https://plot.ly"
       },
       "data": [
        {
         "mode": "lines+markers",
         "name": "algorithm_config_2STATIC",
         "type": "scatter",
         "x": [
          200,
          250,
          300,
          350,
          400,
          450,
          500,
          550,
          600,
          650,
          700,
          750,
          800,
          850,
          900,
          950,
          1000,
          1050,
          1100,
          1150,
          1200,
          1250,
          1300,
          1350,
          1400,
          1450,
          1500,
          1550,
          1600,
          1650,
          1700,
          1750,
          1800,
          1850,
          1900,
          1950,
          2000,
          2050,
          2100,
          2150,
          2200,
          2250,
          2300,
          2350,
          2400,
          2450,
          2500,
          2550,
          2600,
          2650,
          2700,
          2750,
          2800,
          2850,
          2900,
          2950,
          3000,
          3050,
          3100,
          3150,
          3200,
          3250,
          3300,
          3350,
          3400,
          3450,
          3500,
          3550,
          3600,
          3650,
          3700,
          3750,
          3800,
          3850,
          3900,
          3950,
          4000,
          4050,
          4100,
          4150,
          4200,
          4250,
          4300,
          4350,
          4400,
          4450,
          4500,
          4550,
          4600,
          4650,
          4700,
          4750,
          4800,
          4850,
          4900,
          4950,
          5000,
          5050,
          5100,
          5150,
          5200,
          5250,
          5300,
          5350,
          5400,
          5450,
          5500,
          5550,
          5600,
          5650,
          5700,
          5750,
          5800,
          5850,
          5900,
          5950,
          6000,
          6050,
          6100,
          6150,
          6200,
          6250,
          6300,
          6350,
          6400,
          6450,
          6500,
          6550,
          6600,
          6650,
          6700,
          6750,
          6800,
          6850,
          6900,
          6950,
          7000,
          7050,
          7100,
          7150,
          7200,
          7250,
          7300,
          7350,
          7400,
          7450,
          7500,
          7550,
          7600,
          7650,
          7700,
          7750,
          7800,
          7850,
          7900,
          7950,
          8000,
          8050,
          8100,
          8150,
          8200,
          8250,
          8300,
          8350,
          8400,
          8450,
          8500,
          8550,
          8600,
          8650,
          8700,
          8750,
          8800,
          8850,
          8900,
          8950,
          9000,
          9050,
          9100,
          9150,
          9200,
          9250,
          9300,
          9350,
          9400,
          9450,
          9500,
          9550,
          9600,
          9650,
          9700,
          9750,
          9800,
          9850,
          9900,
          9950,
          10000,
          10050,
          10100,
          10150
         ],
         "y": [
          0,
          0,
          0,
          0,
          0,
          0,
          0,
          0,
          0,
          0,
          0,
          0,
          0,
          0,
          0,
          0,
          0,
          0,
          0,
          0,
          0,
          0,
          0,
          0,
          0,
          0,
          0,
          0,
          0,
          0,
          0,
          0,
          0,
          0,
          0,
          0,
          0,
          0,
          0,
          0,
          0,
          0,
          0,
          0,
          0,
          0,
          0,
          0,
          0,
          0,
          0,
          0,
          0,
          0,
          0,
          0,
          0,
          0,
          0,
          0,
          0,
          0,
          0.025414124607136403,
          0.03774621931808962,
          0.1264713330067002,
          0.1264713330067002,
          0.1264713330067002,
          0.1264713330067002,
          0.1264713330067002,
          0.20759158556061674,
          0.20759158556061674,
          0.24706557260413126,
          0.24706557260413126,
          0.264981803354414,
          0.264981803354414,
          0.4017780645258675,
          0.43623311110356633,
          0.43623311110356633,
          0.474879153467902,
          0.474879153467902,
          0.474879153467902,
          0.49480386053478687,
          0.49480386053478687,
          0.5395757610547606,
          0.5529013408707126,
          0.5529013408707126,
          0.5809835998419667,
          0.5809835998419667,
          0.6149207211606627,
          0.6165966209001639,
          0.6234645610086218,
          0.6287527859571068,
          0.6395669888270676,
          0.6455260399064959,
          0.6461017864082499,
          0.6461017864082499,
          0.6487633692253558,
          0.6487633692253558,
          0.6566613386500322,
          0.6600536709414779,
          0.6600536709414779,
          0.6600536709414779,
          0.6625735640900856,
          0.6641415155714474,
          0.6677617101828471,
          0.669559949484906,
          0.6856537398256999,
          0.6856537398256999,
          0.6856537398256999,
          0.697245746884446,
          0.7012629151177168,
          0.7012629151177168,
          0.7030383681877804,
          0.7284072599010307,
          0.7469354983892,
          0.7469354983892,
          0.7469354983892,
          0.7469354983892,
          0.7469354983892,
          0.747313175805147,
          0.7485507201850731,
          0.7485507201850731,
          0.7485507201850731,
          0.7518067393346711,
          0.7533807815179019,
          0.7561331858628899,
          0.7561331858628899,
          0.7561331858628899,
          0.7561331858628899,
          0.7561331858628899,
          0.762659238166388,
          0.7794334353660662,
          0.8103585698600826,
          0.8103585698600826,
          0.8183271483064362,
          0.8183271483064362,
          0.8426064107601696,
          0.8426064107601696,
          0.8426064107601696,
          0.8426064107601696,
          0.8426064107601696,
          0.8426064107601696,
          0.8426064107601696,
          0.8426064107601696,
          0.8426064107601696,
          0.8426064107601696,
          0.8426064107601696,
          0.8426064107601696,
          0.8426064107601696,
          0.8426064107601696,
          0.8426064107601696,
          0.8426064107601696,
          0.8478209139610222,
          0.8478209139610222,
          0.8478209139610222,
          0.8508020699762369,
          0.8508020699762369,
          0.8580602462044973,
          0.8652413454090953,
          0.8657878646268766,
          0.8901698066121324,
          0.8901698066121324,
          0.8901698066121324,
          0.8901698066121324,
          0.8901698066121324,
          0.8958107128438904,
          0.8958107128438904,
          0.8958107128438904,
          0.8958107128438904,
          0.8958107128438904,
          0.8958107128438904,
          0.8973437640645366,
          0.8973437640645366,
          0.8973437640645366,
          0.8973437640645366,
          0.8973437640645366,
          0.8973437640645366,
          0.8973437640645366,
          0.8973437640645366,
          0.8973437640645366,
          0.8973437640645366,
          0.8973437640645366,
          0.8973437640645366,
          0.8973437640645366,
          0.8973437640645366,
          0.8973437640645366,
          0.8973437640645366,
          0.8973437640645366,
          0.8973437640645366,
          0.8973437640645366,
          0.9060839212477654,
          0.9060839212477654,
          0.9060839212477654,
          0.9063693487853917,
          0.9063693487853917,
          0.9063693487853917,
          0.9063693487853917,
          0.9063693487853917,
          0.9063693487853917,
          0.9063693487853917
         ]
        }
       ],
       "layout": {
        "legend": {
         "title": {
          "text": "configuration names"
         }
        },
        "template": {
         "data": {
          "bar": [
           {
            "error_x": {
             "color": "#2a3f5f"
            },
            "error_y": {
             "color": "#2a3f5f"
            },
            "marker": {
             "line": {
              "color": "#E5ECF6",
              "width": 0.5
             },
             "pattern": {
              "fillmode": "overlay",
              "size": 10,
              "solidity": 0.2
             }
            },
            "type": "bar"
           }
          ],
          "barpolar": [
           {
            "marker": {
             "line": {
              "color": "#E5ECF6",
              "width": 0.5
             },
             "pattern": {
              "fillmode": "overlay",
              "size": 10,
              "solidity": 0.2
             }
            },
            "type": "barpolar"
           }
          ],
          "carpet": [
           {
            "aaxis": {
             "endlinecolor": "#2a3f5f",
             "gridcolor": "white",
             "linecolor": "white",
             "minorgridcolor": "white",
             "startlinecolor": "#2a3f5f"
            },
            "baxis": {
             "endlinecolor": "#2a3f5f",
             "gridcolor": "white",
             "linecolor": "white",
             "minorgridcolor": "white",
             "startlinecolor": "#2a3f5f"
            },
            "type": "carpet"
           }
          ],
          "choropleth": [
           {
            "colorbar": {
             "outlinewidth": 0,
             "ticks": ""
            },
            "type": "choropleth"
           }
          ],
          "contour": [
           {
            "colorbar": {
             "outlinewidth": 0,
             "ticks": ""
            },
            "colorscale": [
             [
              0,
              "#0d0887"
             ],
             [
              0.1111111111111111,
              "#46039f"
             ],
             [
              0.2222222222222222,
              "#7201a8"
             ],
             [
              0.3333333333333333,
              "#9c179e"
             ],
             [
              0.4444444444444444,
              "#bd3786"
             ],
             [
              0.5555555555555556,
              "#d8576b"
             ],
             [
              0.6666666666666666,
              "#ed7953"
             ],
             [
              0.7777777777777778,
              "#fb9f3a"
             ],
             [
              0.8888888888888888,
              "#fdca26"
             ],
             [
              1,
              "#f0f921"
             ]
            ],
            "type": "contour"
           }
          ],
          "contourcarpet": [
           {
            "colorbar": {
             "outlinewidth": 0,
             "ticks": ""
            },
            "type": "contourcarpet"
           }
          ],
          "heatmap": [
           {
            "colorbar": {
             "outlinewidth": 0,
             "ticks": ""
            },
            "colorscale": [
             [
              0,
              "#0d0887"
             ],
             [
              0.1111111111111111,
              "#46039f"
             ],
             [
              0.2222222222222222,
              "#7201a8"
             ],
             [
              0.3333333333333333,
              "#9c179e"
             ],
             [
              0.4444444444444444,
              "#bd3786"
             ],
             [
              0.5555555555555556,
              "#d8576b"
             ],
             [
              0.6666666666666666,
              "#ed7953"
             ],
             [
              0.7777777777777778,
              "#fb9f3a"
             ],
             [
              0.8888888888888888,
              "#fdca26"
             ],
             [
              1,
              "#f0f921"
             ]
            ],
            "type": "heatmap"
           }
          ],
          "heatmapgl": [
           {
            "colorbar": {
             "outlinewidth": 0,
             "ticks": ""
            },
            "colorscale": [
             [
              0,
              "#0d0887"
             ],
             [
              0.1111111111111111,
              "#46039f"
             ],
             [
              0.2222222222222222,
              "#7201a8"
             ],
             [
              0.3333333333333333,
              "#9c179e"
             ],
             [
              0.4444444444444444,
              "#bd3786"
             ],
             [
              0.5555555555555556,
              "#d8576b"
             ],
             [
              0.6666666666666666,
              "#ed7953"
             ],
             [
              0.7777777777777778,
              "#fb9f3a"
             ],
             [
              0.8888888888888888,
              "#fdca26"
             ],
             [
              1,
              "#f0f921"
             ]
            ],
            "type": "heatmapgl"
           }
          ],
          "histogram": [
           {
            "marker": {
             "pattern": {
              "fillmode": "overlay",
              "size": 10,
              "solidity": 0.2
             }
            },
            "type": "histogram"
           }
          ],
          "histogram2d": [
           {
            "colorbar": {
             "outlinewidth": 0,
             "ticks": ""
            },
            "colorscale": [
             [
              0,
              "#0d0887"
             ],
             [
              0.1111111111111111,
              "#46039f"
             ],
             [
              0.2222222222222222,
              "#7201a8"
             ],
             [
              0.3333333333333333,
              "#9c179e"
             ],
             [
              0.4444444444444444,
              "#bd3786"
             ],
             [
              0.5555555555555556,
              "#d8576b"
             ],
             [
              0.6666666666666666,
              "#ed7953"
             ],
             [
              0.7777777777777778,
              "#fb9f3a"
             ],
             [
              0.8888888888888888,
              "#fdca26"
             ],
             [
              1,
              "#f0f921"
             ]
            ],
            "type": "histogram2d"
           }
          ],
          "histogram2dcontour": [
           {
            "colorbar": {
             "outlinewidth": 0,
             "ticks": ""
            },
            "colorscale": [
             [
              0,
              "#0d0887"
             ],
             [
              0.1111111111111111,
              "#46039f"
             ],
             [
              0.2222222222222222,
              "#7201a8"
             ],
             [
              0.3333333333333333,
              "#9c179e"
             ],
             [
              0.4444444444444444,
              "#bd3786"
             ],
             [
              0.5555555555555556,
              "#d8576b"
             ],
             [
              0.6666666666666666,
              "#ed7953"
             ],
             [
              0.7777777777777778,
              "#fb9f3a"
             ],
             [
              0.8888888888888888,
              "#fdca26"
             ],
             [
              1,
              "#f0f921"
             ]
            ],
            "type": "histogram2dcontour"
           }
          ],
          "mesh3d": [
           {
            "colorbar": {
             "outlinewidth": 0,
             "ticks": ""
            },
            "type": "mesh3d"
           }
          ],
          "parcoords": [
           {
            "line": {
             "colorbar": {
              "outlinewidth": 0,
              "ticks": ""
             }
            },
            "type": "parcoords"
           }
          ],
          "pie": [
           {
            "automargin": true,
            "type": "pie"
           }
          ],
          "scatter": [
           {
            "fillpattern": {
             "fillmode": "overlay",
             "size": 10,
             "solidity": 0.2
            },
            "type": "scatter"
           }
          ],
          "scatter3d": [
           {
            "line": {
             "colorbar": {
              "outlinewidth": 0,
              "ticks": ""
             }
            },
            "marker": {
             "colorbar": {
              "outlinewidth": 0,
              "ticks": ""
             }
            },
            "type": "scatter3d"
           }
          ],
          "scattercarpet": [
           {
            "marker": {
             "colorbar": {
              "outlinewidth": 0,
              "ticks": ""
             }
            },
            "type": "scattercarpet"
           }
          ],
          "scattergeo": [
           {
            "marker": {
             "colorbar": {
              "outlinewidth": 0,
              "ticks": ""
             }
            },
            "type": "scattergeo"
           }
          ],
          "scattergl": [
           {
            "marker": {
             "colorbar": {
              "outlinewidth": 0,
              "ticks": ""
             }
            },
            "type": "scattergl"
           }
          ],
          "scattermapbox": [
           {
            "marker": {
             "colorbar": {
              "outlinewidth": 0,
              "ticks": ""
             }
            },
            "type": "scattermapbox"
           }
          ],
          "scatterpolar": [
           {
            "marker": {
             "colorbar": {
              "outlinewidth": 0,
              "ticks": ""
             }
            },
            "type": "scatterpolar"
           }
          ],
          "scatterpolargl": [
           {
            "marker": {
             "colorbar": {
              "outlinewidth": 0,
              "ticks": ""
             }
            },
            "type": "scatterpolargl"
           }
          ],
          "scatterternary": [
           {
            "marker": {
             "colorbar": {
              "outlinewidth": 0,
              "ticks": ""
             }
            },
            "type": "scatterternary"
           }
          ],
          "surface": [
           {
            "colorbar": {
             "outlinewidth": 0,
             "ticks": ""
            },
            "colorscale": [
             [
              0,
              "#0d0887"
             ],
             [
              0.1111111111111111,
              "#46039f"
             ],
             [
              0.2222222222222222,
              "#7201a8"
             ],
             [
              0.3333333333333333,
              "#9c179e"
             ],
             [
              0.4444444444444444,
              "#bd3786"
             ],
             [
              0.5555555555555556,
              "#d8576b"
             ],
             [
              0.6666666666666666,
              "#ed7953"
             ],
             [
              0.7777777777777778,
              "#fb9f3a"
             ],
             [
              0.8888888888888888,
              "#fdca26"
             ],
             [
              1,
              "#f0f921"
             ]
            ],
            "type": "surface"
           }
          ],
          "table": [
           {
            "cells": {
             "fill": {
              "color": "#EBF0F8"
             },
             "line": {
              "color": "white"
             }
            },
            "header": {
             "fill": {
              "color": "#C8D4E3"
             },
             "line": {
              "color": "white"
             }
            },
            "type": "table"
           }
          ]
         },
         "layout": {
          "annotationdefaults": {
           "arrowcolor": "#2a3f5f",
           "arrowhead": 0,
           "arrowwidth": 1
          },
          "autotypenumbers": "strict",
          "coloraxis": {
           "colorbar": {
            "outlinewidth": 0,
            "ticks": ""
           }
          },
          "colorscale": {
           "diverging": [
            [
             0,
             "#8e0152"
            ],
            [
             0.1,
             "#c51b7d"
            ],
            [
             0.2,
             "#de77ae"
            ],
            [
             0.3,
             "#f1b6da"
            ],
            [
             0.4,
             "#fde0ef"
            ],
            [
             0.5,
             "#f7f7f7"
            ],
            [
             0.6,
             "#e6f5d0"
            ],
            [
             0.7,
             "#b8e186"
            ],
            [
             0.8,
             "#7fbc41"
            ],
            [
             0.9,
             "#4d9221"
            ],
            [
             1,
             "#276419"
            ]
           ],
           "sequential": [
            [
             0,
             "#0d0887"
            ],
            [
             0.1111111111111111,
             "#46039f"
            ],
            [
             0.2222222222222222,
             "#7201a8"
            ],
            [
             0.3333333333333333,
             "#9c179e"
            ],
            [
             0.4444444444444444,
             "#bd3786"
            ],
            [
             0.5555555555555556,
             "#d8576b"
            ],
            [
             0.6666666666666666,
             "#ed7953"
            ],
            [
             0.7777777777777778,
             "#fb9f3a"
            ],
            [
             0.8888888888888888,
             "#fdca26"
            ],
            [
             1,
             "#f0f921"
            ]
           ],
           "sequentialminus": [
            [
             0,
             "#0d0887"
            ],
            [
             0.1111111111111111,
             "#46039f"
            ],
            [
             0.2222222222222222,
             "#7201a8"
            ],
            [
             0.3333333333333333,
             "#9c179e"
            ],
            [
             0.4444444444444444,
             "#bd3786"
            ],
            [
             0.5555555555555556,
             "#d8576b"
            ],
            [
             0.6666666666666666,
             "#ed7953"
            ],
            [
             0.7777777777777778,
             "#fb9f3a"
            ],
            [
             0.8888888888888888,
             "#fdca26"
            ],
            [
             1,
             "#f0f921"
            ]
           ]
          },
          "colorway": [
           "#636efa",
           "#EF553B",
           "#00cc96",
           "#ab63fa",
           "#FFA15A",
           "#19d3f3",
           "#FF6692",
           "#B6E880",
           "#FF97FF",
           "#FECB52"
          ],
          "font": {
           "color": "#2a3f5f"
          },
          "geo": {
           "bgcolor": "white",
           "lakecolor": "white",
           "landcolor": "#E5ECF6",
           "showlakes": true,
           "showland": true,
           "subunitcolor": "white"
          },
          "hoverlabel": {
           "align": "left"
          },
          "hovermode": "closest",
          "mapbox": {
           "style": "light"
          },
          "paper_bgcolor": "white",
          "plot_bgcolor": "#E5ECF6",
          "polar": {
           "angularaxis": {
            "gridcolor": "white",
            "linecolor": "white",
            "ticks": ""
           },
           "bgcolor": "#E5ECF6",
           "radialaxis": {
            "gridcolor": "white",
            "linecolor": "white",
            "ticks": ""
           }
          },
          "scene": {
           "xaxis": {
            "backgroundcolor": "#E5ECF6",
            "gridcolor": "white",
            "gridwidth": 2,
            "linecolor": "white",
            "showbackground": true,
            "ticks": "",
            "zerolinecolor": "white"
           },
           "yaxis": {
            "backgroundcolor": "#E5ECF6",
            "gridcolor": "white",
            "gridwidth": 2,
            "linecolor": "white",
            "showbackground": true,
            "ticks": "",
            "zerolinecolor": "white"
           },
           "zaxis": {
            "backgroundcolor": "#E5ECF6",
            "gridcolor": "white",
            "gridwidth": 2,
            "linecolor": "white",
            "showbackground": true,
            "ticks": "",
            "zerolinecolor": "white"
           }
          },
          "shapedefaults": {
           "line": {
            "color": "#2a3f5f"
           }
          },
          "ternary": {
           "aaxis": {
            "gridcolor": "white",
            "linecolor": "white",
            "ticks": ""
           },
           "baxis": {
            "gridcolor": "white",
            "linecolor": "white",
            "ticks": ""
           },
           "bgcolor": "#E5ECF6",
           "caxis": {
            "gridcolor": "white",
            "linecolor": "white",
            "ticks": ""
           }
          },
          "title": {
           "x": 0.05
          },
          "xaxis": {
           "automargin": true,
           "gridcolor": "white",
           "linecolor": "white",
           "ticks": "",
           "title": {
            "standoff": 15
           },
           "zerolinecolor": "white",
           "zerolinewidth": 2
          },
          "yaxis": {
           "automargin": true,
           "gridcolor": "white",
           "linecolor": "white",
           "ticks": "",
           "title": {
            "standoff": 15
           },
           "zerolinecolor": "white",
           "zerolinewidth": 2
          }
         }
        },
        "title": {
         "text": "Convergence"
        },
        "xaxis": {
         "title": {
          "text": "Function Evaluations"
         }
        },
        "yaxis": {
         "title": {
          "text": "Hypervolume"
         }
        }
       }
      }
     },
     "metadata": {},
     "output_type": "display_data"
    }
   ],
   "source": [
    "# load dataset\n",
    "\n",
    "from cProfile import label\n",
    "from re import X\n",
    "from matplotlib import axis\n",
    "\n",
    "from son_pymoo import ObjectiveEnum\n",
    "\n",
    "\n",
    "def sign_objective(value: float, key: str):\n",
    "    if(key == ObjectiveEnum.AVG_DL_RATE.name or \n",
    "       key == ObjectiveEnum.AVG_RSSI.name or\n",
    "       key == ObjectiveEnum.AVG_SINR.name or\n",
    "       key == ObjectiveEnum.ENERGY_EFFICIENCY.name):\n",
    "        return -value\n",
    "    else:\n",
    "        return value\n",
    "\n",
    "network_name = \"delete3\"\n",
    "param_configuration_list =[\"algorithm_config_2STATIC\"]\n",
    "results_objectives_list = []\n",
    "results_objective_spaces_list = []\n",
    "result_dict_object = {\"optimization_objectives\": []}\n",
    "ref_points = []\n",
    "histories = []\n",
    "for configuration_name in param_configuration_list:\n",
    "    results_directory = \"./datastore/{network_name}/{configuration_name}/\".format(network_name=network_name, configuration_name= configuration_name)\n",
    "\n",
    "    ## read json file \n",
    "    with open(results_directory + \"/objectives_result.json\", mode=\"r\",encoding=\"utf-8\") as openfile:\n",
    "        result_dict_object = json.load(openfile)\n",
    "        ref_points = [1.1 for  x in result_dict_object[\"optimization_objectives\"]]\n",
    "\n",
    "        results_objectives_list.append(np.array(\n",
    "        [[sign_objective(y[1][key], key) for key in result_dict_object[\"optimization_objectives\"]]\n",
    "        for y in [item for item in result_dict_object[\"results\"]]]))\n",
    "        histories.append({\"name\": configuration_name, \"history\": result_dict_object[\"history\"]})\n",
    "        \n",
    "        results_objective_spaces_list.append(np.array(result_dict_object[\"objectiveSpace\"]))\n",
    "\n",
    "## prepare diagrams\n",
    "fig2 = go.Figure()\n",
    "fig2.update_layout(\n",
    "    title=\"pareto fronts\",\n",
    "    xaxis_title=result_dict_object[\"optimization_objectives\"][0],\n",
    "    yaxis_title=result_dict_object[\"optimization_objectives\"][1],\n",
    "    legend_title=\"configuration names\",\n",
    ")\n",
    "fig1 = go.Figure()\n",
    "fig1.update_layout(\n",
    "    title=\"objective results\",\n",
    "    xaxis_title=result_dict_object[\"optimization_objectives\"][0],\n",
    "    yaxis_title=result_dict_object[\"optimization_objectives\"][1],\n",
    "    legend_title=\"configuration names\",\n",
    ")\n",
    "fig3 = go.Figure()\n",
    "fig3.update_layout(\n",
    "    title=\"Convergence\",\n",
    "    xaxis_title=\"Function Evaluations\",\n",
    "    yaxis_title=\"Hypervolume\",\n",
    "    legend_title=\"configuration names\"\n",
    ")\n",
    "## normalize each solution and calculate hyper volume and add dataj to diagrams\n",
    "## since the ideal and nadir points and pareto front are not known we approximate them\n",
    "combined_result_list = []\n",
    "for _, solution in enumerate(results_objectives_list):\n",
    "    for _, solution_candidate in enumerate(solution):\n",
    "        combined_result_list.append(solution_candidate)\n",
    "combined_result_list = np.array(combined_result_list)\n",
    "approx_ideal = combined_result_list.min(axis=0)\n",
    "approx_nadir  = combined_result_list.max(axis=0)\n",
    "hv = Hypervolume(ref_point=np.array(ref_points),\n",
    "                     norm_ref_point=False,\n",
    "                     zero_to_one=True,\n",
    "                     ideal=approx_ideal,\n",
    "                     nadir=approx_nadir)\n",
    "\n",
    "for index, solution in enumerate(results_objectives_list):\n",
    "    normalized_solution = np.array((solution - approx_ideal) / (approx_nadir - approx_ideal))\n",
    "\n",
    "    fig2.add_trace(go.Scatter(x=normalized_solution[:,0], y=normalized_solution[:,1],\n",
    "                    mode='markers',\n",
    "                    name=param_configuration_list[index]))\n",
    "    \n",
    "    fig1.add_trace(go.Scatter(x=solution[:,0], y=solution[:,1],\n",
    "                mode='markers',\n",
    "                name=param_configuration_list[index] ))\n",
    "\n",
    "## add data to convergence diagram\n",
    "## since the ideal and nadir points and pareto front are not known we approximate them\n",
    "combined_result_list = []\n",
    "for _, solution in enumerate(results_objective_spaces_list):\n",
    "    for _, solution_candidate in enumerate(solution):\n",
    "        combined_result_list.append(solution_candidate)\n",
    "combined_result_list = np.array(combined_result_list)\n",
    "approx_ideal = combined_result_list.min(axis=0)\n",
    "approx_nadir  = combined_result_list.max(axis=0)\n",
    "hv = Hypervolume(ref_point=np.array(ref_points),\n",
    "                     norm_ref_point=False,\n",
    "                     zero_to_one=True,\n",
    "                     ideal=approx_ideal,\n",
    "                     nadir=approx_nadir)\n",
    "\n",
    "\n",
    "for _, history  in enumerate(histories):\n",
    "    hv_list = [hv(np.array(solution)) for solution in history[\"history\"][\"objective_space_opt\"]]\n",
    "    \n",
    "    fig3.add_trace(\n",
    "        go.Scatter(\n",
    "            x=history[\"history\"][\"n_evals\"],\n",
    "            y=hv_list,\n",
    "            mode='lines+markers',\n",
    "            name=history[\"name\"]\n",
    "        )\n",
    "    )\n",
    "\n",
    "fig2.show()\n",
    "fig1.show()\n",
    "fig3.show()\n",
    "\n"
   ]
  },
  {
   "cell_type": "code",
   "execution_count": 9,
   "id": "166e6f47",
   "metadata": {},
   "outputs": [
    {
     "data": {
      "application/vnd.plotly.v1+json": {
       "config": {
        "plotlyServerURL": "https://plot.ly"
       },
       "data": [
        {
         "mode": "lines+markers",
         "type": "scatter",
         "x": [
          1.04,
          2.09,
          3.14,
          4.2,
          5.27,
          6.32,
          7.38,
          8.42,
          9.44,
          10.47,
          11.5,
          12.52,
          13.53,
          14.53,
          15.53,
          16.54,
          17.6,
          18.63,
          19.66,
          20.69,
          21.71,
          22.72,
          23.75,
          24.76,
          25.78,
          26.84,
          27.89,
          28.95,
          30.01,
          31.05,
          32.07,
          33.09,
          34.11,
          35.13,
          36.15,
          37.18,
          38.24,
          39.25,
          40.25,
          41.31,
          42.37,
          43.43,
          44.49,
          45.53,
          46.58,
          47.63,
          48.67,
          49.71,
          50.75,
          51.79,
          52.84,
          53.89,
          54.95,
          56,
          57.03,
          58.07,
          59.11,
          60.15,
          61.19,
          62.23,
          63.27,
          64.29,
          65.3,
          66.31,
          67.31,
          68.31,
          69.33,
          70.34,
          71.35,
          72.36,
          73.37,
          74.38,
          75.39,
          76.4,
          77.4,
          78.41,
          79.43,
          80.45,
          81.48,
          82.5,
          83.52,
          84.54,
          85.56,
          86.59,
          87.61,
          88.64,
          89.67,
          90.69,
          91.72,
          92.73,
          93.74,
          94.76,
          95.8,
          96.83,
          97.84,
          98.86,
          99.87,
          100.89,
          101.91,
          102.93,
          103.95,
          104.98,
          106,
          107.03,
          108.06,
          109.09,
          110.13,
          111.17,
          112.21,
          113.26,
          114.29,
          115.32,
          116.34,
          117.35,
          118.37,
          119.39,
          120.41,
          121.42,
          122.43,
          123.44,
          124.45,
          125.47,
          126.48,
          127.5,
          128.51,
          129.51,
          130.53,
          131.57,
          132.61,
          133.64,
          134.67,
          135.69,
          136.72,
          137.76,
          138.8,
          139.83,
          140.86,
          141.88,
          142.91,
          143.93,
          144.96,
          145.99,
          147.03,
          148.05,
          149.07,
          150.11
         ],
         "y": [
          0.3811759182075764,
          0.3443925935519538,
          0.4135409732827914,
          0.326372732748812,
          0.4472514031380576,
          0.33097628739419815,
          0.32336126643585983,
          0.029499993625721567,
          0.023073771988001365,
          0.01872478284716427,
          0.01863108095304742,
          0.017990867976812777,
          0.03855430856317685,
          0.037548965324214735,
          0.02080234492322042,
          0.01242632927610512,
          0.10418361935010759,
          0.043748903696531116,
          0.04926321235821945,
          0.021624391437489655,
          0.052412656448698254,
          0.05302347893054681,
          0.020648080139747442,
          0.01786974219810044,
          0.018161546527452496,
          0.16568231798320154,
          0.1558483454835776,
          0.14789870025563767,
          0.14071987552193044,
          0.17889560337037083,
          0.176312944913775,
          0.16363202405652733,
          0.1142705094584153,
          0.14621425007627414,
          0.13717123499617986,
          0.3991262885096968,
          0.22427720679695132,
          0.20318678359990872,
          0.3049021888692931,
          0.33978786908159136,
          0.28409530517003245,
          0.2634914675936029,
          0.2425220687662962,
          0.22129747062833882,
          0.30332546761852036,
          0.3028626261853625,
          0.3218229393478709,
          0.31702261144918953,
          0.3788113614850448,
          0.3607276347573185,
          0.33544768079119874,
          0.3024591162468482,
          0.2901382588252611,
          0.36841925208851806,
          0.3486300473058389,
          0.346645654726774,
          0.42843936800767035,
          0.3946680674143698,
          0.3641051838530255,
          0.4672893858701371,
          0.44846493176189994,
          0.5709879668108705,
          0.9131574264256148,
          0.7928330683661655,
          0.7444231647365643,
          0.6959529662270446,
          0.45694091492916905,
          0.45194217674657405,
          0.4390988240615109,
          0.42441904173732703,
          0.5101607114969677,
          0.5930544803789568,
          0.714287977154586,
          0.7068982000196445,
          0.6568984209463432,
          0.6468273615035883,
          0.6398186285971577,
          0.6318669081069525,
          0.6076364863412254,
          0.6154371798917011,
          0.7142904508092585,
          0.6789624499945097,
          0.6203392608328692,
          0.7115584966090289,
          0.6833714406535838,
          0.6278606306015784,
          0.6500701090957771,
          0.5883938361016537,
          0.6166364967718626,
          0.7240796657328351,
          0.7224088079780472,
          0.7458339772803333,
          0.5721251344755461,
          0.7063517106680218,
          0.8918264937324908,
          0.9040180583310228,
          0.9719298678698987,
          0.9645239848164687,
          0.7584572326475482,
          0.7602251170621763,
          0.7491558673350391,
          0.8256032631670139,
          0.7949718995726627,
          0.7491129025248231,
          0.7681791301195962,
          0.7847595520736543,
          0.6365750624896602,
          0.7106845576728785,
          0.6965242464516278,
          0.6653939180980546,
          0.6354942601070707,
          0.6262321002291557,
          0.7706757032205465,
          0.7290930973517483,
          0.724701559901848,
          0.8405209871671289,
          1.0554996796925051,
          1.067747736334344,
          0.8749966491576826,
          0.7633757490863778,
          0.5636337842266163,
          0.669023841540072,
          0.5929685181627825,
          0.5417382135968577,
          0.6420641022074999,
          0.6102241283246572,
          0.5846508995990293,
          0.5553203125656444,
          0.5582609809261307,
          0.5587300336590881,
          0.6704617664980094,
          0.6893334192412235,
          0.5562997385676592,
          0.530366862907523,
          0.5169024526775013,
          0.6160815397707173,
          0.4864058326386822,
          0.48402536557211634,
          0.4779376796930845,
          0.41335812203324446,
          0.39578854968069227,
          0.3943790989146055,
          0.53436426350572,
          1.0851243781094528,
          0.7693352286671008,
          0.7465865658893234
         ]
        }
       ],
       "layout": {
        "legend": {
         "title": {
          "text": "dataset"
         }
        },
        "template": {
         "data": {
          "bar": [
           {
            "error_x": {
             "color": "#2a3f5f"
            },
            "error_y": {
             "color": "#2a3f5f"
            },
            "marker": {
             "line": {
              "color": "#E5ECF6",
              "width": 0.5
             },
             "pattern": {
              "fillmode": "overlay",
              "size": 10,
              "solidity": 0.2
             }
            },
            "type": "bar"
           }
          ],
          "barpolar": [
           {
            "marker": {
             "line": {
              "color": "#E5ECF6",
              "width": 0.5
             },
             "pattern": {
              "fillmode": "overlay",
              "size": 10,
              "solidity": 0.2
             }
            },
            "type": "barpolar"
           }
          ],
          "carpet": [
           {
            "aaxis": {
             "endlinecolor": "#2a3f5f",
             "gridcolor": "white",
             "linecolor": "white",
             "minorgridcolor": "white",
             "startlinecolor": "#2a3f5f"
            },
            "baxis": {
             "endlinecolor": "#2a3f5f",
             "gridcolor": "white",
             "linecolor": "white",
             "minorgridcolor": "white",
             "startlinecolor": "#2a3f5f"
            },
            "type": "carpet"
           }
          ],
          "choropleth": [
           {
            "colorbar": {
             "outlinewidth": 0,
             "ticks": ""
            },
            "type": "choropleth"
           }
          ],
          "contour": [
           {
            "colorbar": {
             "outlinewidth": 0,
             "ticks": ""
            },
            "colorscale": [
             [
              0,
              "#0d0887"
             ],
             [
              0.1111111111111111,
              "#46039f"
             ],
             [
              0.2222222222222222,
              "#7201a8"
             ],
             [
              0.3333333333333333,
              "#9c179e"
             ],
             [
              0.4444444444444444,
              "#bd3786"
             ],
             [
              0.5555555555555556,
              "#d8576b"
             ],
             [
              0.6666666666666666,
              "#ed7953"
             ],
             [
              0.7777777777777778,
              "#fb9f3a"
             ],
             [
              0.8888888888888888,
              "#fdca26"
             ],
             [
              1,
              "#f0f921"
             ]
            ],
            "type": "contour"
           }
          ],
          "contourcarpet": [
           {
            "colorbar": {
             "outlinewidth": 0,
             "ticks": ""
            },
            "type": "contourcarpet"
           }
          ],
          "heatmap": [
           {
            "colorbar": {
             "outlinewidth": 0,
             "ticks": ""
            },
            "colorscale": [
             [
              0,
              "#0d0887"
             ],
             [
              0.1111111111111111,
              "#46039f"
             ],
             [
              0.2222222222222222,
              "#7201a8"
             ],
             [
              0.3333333333333333,
              "#9c179e"
             ],
             [
              0.4444444444444444,
              "#bd3786"
             ],
             [
              0.5555555555555556,
              "#d8576b"
             ],
             [
              0.6666666666666666,
              "#ed7953"
             ],
             [
              0.7777777777777778,
              "#fb9f3a"
             ],
             [
              0.8888888888888888,
              "#fdca26"
             ],
             [
              1,
              "#f0f921"
             ]
            ],
            "type": "heatmap"
           }
          ],
          "heatmapgl": [
           {
            "colorbar": {
             "outlinewidth": 0,
             "ticks": ""
            },
            "colorscale": [
             [
              0,
              "#0d0887"
             ],
             [
              0.1111111111111111,
              "#46039f"
             ],
             [
              0.2222222222222222,
              "#7201a8"
             ],
             [
              0.3333333333333333,
              "#9c179e"
             ],
             [
              0.4444444444444444,
              "#bd3786"
             ],
             [
              0.5555555555555556,
              "#d8576b"
             ],
             [
              0.6666666666666666,
              "#ed7953"
             ],
             [
              0.7777777777777778,
              "#fb9f3a"
             ],
             [
              0.8888888888888888,
              "#fdca26"
             ],
             [
              1,
              "#f0f921"
             ]
            ],
            "type": "heatmapgl"
           }
          ],
          "histogram": [
           {
            "marker": {
             "pattern": {
              "fillmode": "overlay",
              "size": 10,
              "solidity": 0.2
             }
            },
            "type": "histogram"
           }
          ],
          "histogram2d": [
           {
            "colorbar": {
             "outlinewidth": 0,
             "ticks": ""
            },
            "colorscale": [
             [
              0,
              "#0d0887"
             ],
             [
              0.1111111111111111,
              "#46039f"
             ],
             [
              0.2222222222222222,
              "#7201a8"
             ],
             [
              0.3333333333333333,
              "#9c179e"
             ],
             [
              0.4444444444444444,
              "#bd3786"
             ],
             [
              0.5555555555555556,
              "#d8576b"
             ],
             [
              0.6666666666666666,
              "#ed7953"
             ],
             [
              0.7777777777777778,
              "#fb9f3a"
             ],
             [
              0.8888888888888888,
              "#fdca26"
             ],
             [
              1,
              "#f0f921"
             ]
            ],
            "type": "histogram2d"
           }
          ],
          "histogram2dcontour": [
           {
            "colorbar": {
             "outlinewidth": 0,
             "ticks": ""
            },
            "colorscale": [
             [
              0,
              "#0d0887"
             ],
             [
              0.1111111111111111,
              "#46039f"
             ],
             [
              0.2222222222222222,
              "#7201a8"
             ],
             [
              0.3333333333333333,
              "#9c179e"
             ],
             [
              0.4444444444444444,
              "#bd3786"
             ],
             [
              0.5555555555555556,
              "#d8576b"
             ],
             [
              0.6666666666666666,
              "#ed7953"
             ],
             [
              0.7777777777777778,
              "#fb9f3a"
             ],
             [
              0.8888888888888888,
              "#fdca26"
             ],
             [
              1,
              "#f0f921"
             ]
            ],
            "type": "histogram2dcontour"
           }
          ],
          "mesh3d": [
           {
            "colorbar": {
             "outlinewidth": 0,
             "ticks": ""
            },
            "type": "mesh3d"
           }
          ],
          "parcoords": [
           {
            "line": {
             "colorbar": {
              "outlinewidth": 0,
              "ticks": ""
             }
            },
            "type": "parcoords"
           }
          ],
          "pie": [
           {
            "automargin": true,
            "type": "pie"
           }
          ],
          "scatter": [
           {
            "fillpattern": {
             "fillmode": "overlay",
             "size": 10,
             "solidity": 0.2
            },
            "type": "scatter"
           }
          ],
          "scatter3d": [
           {
            "line": {
             "colorbar": {
              "outlinewidth": 0,
              "ticks": ""
             }
            },
            "marker": {
             "colorbar": {
              "outlinewidth": 0,
              "ticks": ""
             }
            },
            "type": "scatter3d"
           }
          ],
          "scattercarpet": [
           {
            "marker": {
             "colorbar": {
              "outlinewidth": 0,
              "ticks": ""
             }
            },
            "type": "scattercarpet"
           }
          ],
          "scattergeo": [
           {
            "marker": {
             "colorbar": {
              "outlinewidth": 0,
              "ticks": ""
             }
            },
            "type": "scattergeo"
           }
          ],
          "scattergl": [
           {
            "marker": {
             "colorbar": {
              "outlinewidth": 0,
              "ticks": ""
             }
            },
            "type": "scattergl"
           }
          ],
          "scattermapbox": [
           {
            "marker": {
             "colorbar": {
              "outlinewidth": 0,
              "ticks": ""
             }
            },
            "type": "scattermapbox"
           }
          ],
          "scatterpolar": [
           {
            "marker": {
             "colorbar": {
              "outlinewidth": 0,
              "ticks": ""
             }
            },
            "type": "scatterpolar"
           }
          ],
          "scatterpolargl": [
           {
            "marker": {
             "colorbar": {
              "outlinewidth": 0,
              "ticks": ""
             }
            },
            "type": "scatterpolargl"
           }
          ],
          "scatterternary": [
           {
            "marker": {
             "colorbar": {
              "outlinewidth": 0,
              "ticks": ""
             }
            },
            "type": "scatterternary"
           }
          ],
          "surface": [
           {
            "colorbar": {
             "outlinewidth": 0,
             "ticks": ""
            },
            "colorscale": [
             [
              0,
              "#0d0887"
             ],
             [
              0.1111111111111111,
              "#46039f"
             ],
             [
              0.2222222222222222,
              "#7201a8"
             ],
             [
              0.3333333333333333,
              "#9c179e"
             ],
             [
              0.4444444444444444,
              "#bd3786"
             ],
             [
              0.5555555555555556,
              "#d8576b"
             ],
             [
              0.6666666666666666,
              "#ed7953"
             ],
             [
              0.7777777777777778,
              "#fb9f3a"
             ],
             [
              0.8888888888888888,
              "#fdca26"
             ],
             [
              1,
              "#f0f921"
             ]
            ],
            "type": "surface"
           }
          ],
          "table": [
           {
            "cells": {
             "fill": {
              "color": "#EBF0F8"
             },
             "line": {
              "color": "white"
             }
            },
            "header": {
             "fill": {
              "color": "#C8D4E3"
             },
             "line": {
              "color": "white"
             }
            },
            "type": "table"
           }
          ]
         },
         "layout": {
          "annotationdefaults": {
           "arrowcolor": "#2a3f5f",
           "arrowhead": 0,
           "arrowwidth": 1
          },
          "autotypenumbers": "strict",
          "coloraxis": {
           "colorbar": {
            "outlinewidth": 0,
            "ticks": ""
           }
          },
          "colorscale": {
           "diverging": [
            [
             0,
             "#8e0152"
            ],
            [
             0.1,
             "#c51b7d"
            ],
            [
             0.2,
             "#de77ae"
            ],
            [
             0.3,
             "#f1b6da"
            ],
            [
             0.4,
             "#fde0ef"
            ],
            [
             0.5,
             "#f7f7f7"
            ],
            [
             0.6,
             "#e6f5d0"
            ],
            [
             0.7,
             "#b8e186"
            ],
            [
             0.8,
             "#7fbc41"
            ],
            [
             0.9,
             "#4d9221"
            ],
            [
             1,
             "#276419"
            ]
           ],
           "sequential": [
            [
             0,
             "#0d0887"
            ],
            [
             0.1111111111111111,
             "#46039f"
            ],
            [
             0.2222222222222222,
             "#7201a8"
            ],
            [
             0.3333333333333333,
             "#9c179e"
            ],
            [
             0.4444444444444444,
             "#bd3786"
            ],
            [
             0.5555555555555556,
             "#d8576b"
            ],
            [
             0.6666666666666666,
             "#ed7953"
            ],
            [
             0.7777777777777778,
             "#fb9f3a"
            ],
            [
             0.8888888888888888,
             "#fdca26"
            ],
            [
             1,
             "#f0f921"
            ]
           ],
           "sequentialminus": [
            [
             0,
             "#0d0887"
            ],
            [
             0.1111111111111111,
             "#46039f"
            ],
            [
             0.2222222222222222,
             "#7201a8"
            ],
            [
             0.3333333333333333,
             "#9c179e"
            ],
            [
             0.4444444444444444,
             "#bd3786"
            ],
            [
             0.5555555555555556,
             "#d8576b"
            ],
            [
             0.6666666666666666,
             "#ed7953"
            ],
            [
             0.7777777777777778,
             "#fb9f3a"
            ],
            [
             0.8888888888888888,
             "#fdca26"
            ],
            [
             1,
             "#f0f921"
            ]
           ]
          },
          "colorway": [
           "#636efa",
           "#EF553B",
           "#00cc96",
           "#ab63fa",
           "#FFA15A",
           "#19d3f3",
           "#FF6692",
           "#B6E880",
           "#FF97FF",
           "#FECB52"
          ],
          "font": {
           "color": "#2a3f5f"
          },
          "geo": {
           "bgcolor": "white",
           "lakecolor": "white",
           "landcolor": "#E5ECF6",
           "showlakes": true,
           "showland": true,
           "subunitcolor": "white"
          },
          "hoverlabel": {
           "align": "left"
          },
          "hovermode": "closest",
          "mapbox": {
           "style": "light"
          },
          "paper_bgcolor": "white",
          "plot_bgcolor": "#E5ECF6",
          "polar": {
           "angularaxis": {
            "gridcolor": "white",
            "linecolor": "white",
            "ticks": ""
           },
           "bgcolor": "#E5ECF6",
           "radialaxis": {
            "gridcolor": "white",
            "linecolor": "white",
            "ticks": ""
           }
          },
          "scene": {
           "xaxis": {
            "backgroundcolor": "#E5ECF6",
            "gridcolor": "white",
            "gridwidth": 2,
            "linecolor": "white",
            "showbackground": true,
            "ticks": "",
            "zerolinecolor": "white"
           },
           "yaxis": {
            "backgroundcolor": "#E5ECF6",
            "gridcolor": "white",
            "gridwidth": 2,
            "linecolor": "white",
            "showbackground": true,
            "ticks": "",
            "zerolinecolor": "white"
           },
           "zaxis": {
            "backgroundcolor": "#E5ECF6",
            "gridcolor": "white",
            "gridwidth": 2,
            "linecolor": "white",
            "showbackground": true,
            "ticks": "",
            "zerolinecolor": "white"
           }
          },
          "shapedefaults": {
           "line": {
            "color": "#2a3f5f"
           }
          },
          "ternary": {
           "aaxis": {
            "gridcolor": "white",
            "linecolor": "white",
            "ticks": ""
           },
           "baxis": {
            "gridcolor": "white",
            "linecolor": "white",
            "ticks": ""
           },
           "bgcolor": "#E5ECF6",
           "caxis": {
            "gridcolor": "white",
            "linecolor": "white",
            "ticks": ""
           }
          },
          "title": {
           "x": 0.05
          },
          "xaxis": {
           "automargin": true,
           "gridcolor": "white",
           "linecolor": "white",
           "ticks": "",
           "title": {
            "standoff": 15
           },
           "zerolinecolor": "white",
           "zerolinewidth": 2
          },
          "yaxis": {
           "automargin": true,
           "gridcolor": "white",
           "linecolor": "white",
           "ticks": "",
           "title": {
            "standoff": 15
           },
           "zerolinecolor": "white",
           "zerolinewidth": 2
          }
         }
        },
        "title": {
         "text": "hypervolume"
        },
        "xaxis": {
         "title": {
          "text": "time in s"
         }
        },
        "yaxis": {
         "title": {
          "text": "Hypervolume"
         }
        }
       }
      }
     },
     "metadata": {},
     "output_type": "display_data"
    },
    {
     "data": {
      "application/vnd.plotly.v1+json": {
       "config": {
        "plotlyServerURL": "https://plot.ly"
       },
       "data": [
        {
         "mode": "markers",
         "text": [
          "1.04",
          "2.09",
          "3.14",
          "4.2",
          "5.27",
          "6.32",
          "7.38",
          "8.42",
          "9.44",
          "10.47",
          "11.5",
          "12.52",
          "13.53",
          "14.53",
          "15.53",
          "16.54",
          "17.6",
          "18.63",
          "19.66",
          "20.69",
          "21.71",
          "22.72",
          "23.75",
          "24.76",
          "25.78",
          "26.84",
          "27.89",
          "28.95",
          "30.01",
          "31.05",
          "32.07",
          "33.09",
          "34.11",
          "35.13",
          "36.15",
          "37.18",
          "38.24",
          "39.25",
          "40.25",
          "41.31",
          "42.37",
          "43.43",
          "44.49",
          "45.53",
          "46.58",
          "47.63",
          "48.67",
          "49.71",
          "50.75",
          "51.79",
          "52.84",
          "53.89",
          "54.95",
          "56.0",
          "57.03",
          "58.07",
          "59.11",
          "60.15",
          "61.19",
          "62.23",
          "63.27",
          "64.29",
          "65.3",
          "66.31",
          "67.31",
          "68.31",
          "69.33",
          "70.34",
          "71.35",
          "72.36",
          "73.37",
          "74.38",
          "75.39",
          "76.4",
          "77.4",
          "78.41",
          "79.43",
          "80.45",
          "81.48",
          "82.5",
          "83.52",
          "84.54",
          "85.56",
          "86.59",
          "87.61",
          "88.64",
          "89.67",
          "90.69",
          "91.72",
          "92.73",
          "93.74",
          "94.76",
          "95.8",
          "96.83",
          "97.84",
          "98.86",
          "99.87",
          "100.89",
          "101.91",
          "102.93",
          "103.95",
          "104.98",
          "106.0",
          "107.03",
          "108.06",
          "109.09",
          "110.13",
          "111.17",
          "112.21",
          "113.26",
          "114.29",
          "115.32",
          "116.34",
          "117.35",
          "118.37",
          "119.39",
          "120.41",
          "121.42",
          "122.43",
          "123.44",
          "124.45",
          "125.47",
          "126.48",
          "127.5",
          "128.51",
          "129.51",
          "130.53",
          "131.57",
          "132.61",
          "133.64",
          "134.67",
          "135.69",
          "136.72",
          "137.76",
          "138.8",
          "139.83",
          "140.86",
          "141.88",
          "142.91",
          "143.93",
          "144.96",
          "145.99",
          "147.03",
          "148.05",
          "149.07",
          "150.11"
         ],
         "type": "scatter",
         "x": [
          0.5979194934418813,
          0.6413387607417459,
          0.5979194934418813,
          0.6716417910447762,
          0.5585707824513794,
          0.6544549977385797,
          0.6553595658073271,
          0.9054726368159203,
          0.8995929443690638,
          0.9384893713251922,
          0.9425599276345545,
          0.9647218453188601,
          0.91677973767526,
          0.9185888738127543,
          0.9746720940750792,
          1,
          0.8421528720036183,
          0.8982360922659429,
          0.8882858435097242,
          0.9199457259158752,
          0.8308457711442787,
          0.853459972862958,
          0.9140660334690185,
          0.9213025780189958,
          0.9203980099502488,
          0.6739032112166441,
          0.683853459972863,
          0.6919945725915876,
          0.6996834011759384,
          0.6508367254635912,
          0.6530981456354591,
          0.6657620985979195,
          0.7539574853007689,
          0.7489823609226595,
          0.7584803256445047,
          0.5585707824513794,
          0.6540027137042063,
          0.6720940750791496,
          0.5658073270013567,
          0.5454545454545453,
          0.6146540027137043,
          0.6820443238353685,
          0.7200361827227498,
          0.7372229760289463,
          0.6512890094979648,
          0.6707372229760288,
          0.657620985979195,
          0.66078697421981,
          0.6196291270918136,
          0.6526458616010854,
          0.6689280868385347,
          0.6702849389416553,
          0.6788783355947535,
          0.5861601085481681,
          0.5992763455450022,
          0.6006331976481231,
          0.5563093622795114,
          0.5771144278606964,
          0.5965626413387608,
          0.5373134328358209,
          0.548168249660787,
          0.42379014020805067,
          0.18543645409317067,
          0.23971053821800084,
          0.26277702397105374,
          0.28674807779285394,
          0.48349163274536405,
          0.4866576209859793,
          0.49434644957033014,
          0.5033921302578019,
          0.45273631840796025,
          0.40750791497060157,
          0.28855721393034833,
          0.2921754862053369,
          0.34690185436454085,
          0.34690185436454085,
          0.35052012663952964,
          0.354590682948892,
          0.36725463591135227,
          0.3631840796019902,
          0.28312980551786515,
          0.30076888285843506,
          0.33107191316146534,
          0.31976481230212567,
          0.333785617367707,
          0.3618272274988693,
          0.2736318407960199,
          0.3066485753052918,
          0.2912709181365898,
          0.1940298507462686,
          0.1492537313432837,
          0.13749434644957048,
          0.3098145635459068,
          0.19629127091813656,
          0.10719131614654001,
          0.10628674807779294,
          0.07598371777476272,
          0.12302125734961555,
          0.2170963364993215,
          0.21619176843057442,
          0.22161917684305737,
          0.13794663048394404,
          0.15241971958389872,
          0.17503392130257805,
          0.16553595658073278,
          0.15739484396200812,
          0.3057440072365445,
          0.2736318407960199,
          0.28086838534599723,
          0.3075531433740389,
          0.3229308005427409,
          0.3279059249208503,
          0.18181818181818185,
          0.23744911804613292,
          0.23971053821800084,
          0.1420171867933061,
          0,
          0.04206241519674369,
          0.1261872455902308,
          0.2207146087743103,
          0.3242876526458615,
          0.2677521483491634,
          0.3080054274084124,
          0.3364993215739485,
          0.2342831298055179,
          0.25146992311171407,
          0.33921302578018997,
          0.39032112166440514,
          0.38896426956128455,
          0.388511985526911,
          0.2939846223428313,
          0.284486657620986,
          0.3898688376300316,
          0.40434192672998653,
          0.4120307553143374,
          0.31659882406151063,
          0.4246947082767977,
          0.4260515603799186,
          0.4296698326549074,
          0.4694708276797829,
          0.5079149706015378,
          0.5088195386702848,
          0.39710538218000896,
          0.11352329262777028,
          0.2817729534147445,
          0.29262777023971065
         ],
         "y": [
          0.34080717488789214,
          0.3491351697629724,
          0.27634529147982057,
          0.33808456117873165,
          0.2739429852658551,
          0.3571428571428569,
          0.3727578475336323,
          0.9483504163997436,
          0.9848654708520177,
          0.9840647021140293,
          0.9816623959000638,
          0.9670083279948748,
          0.88957399103139,
          0.8930172966047403,
          0.9340166559897499,
          0.975736707238949,
          0.6959481101857783,
          0.8831678411274823,
          0.8673126201153105,
          0.9799007046764894,
          0.905269058295964,
          0.8849295323510568,
          0.9889493914157589,
          1,
          0.9988789237668159,
          0.7111627162075592,
          0.7254964766175526,
          0.7375080076873797,
          0.7484785393978217,
          0.7017136450992953,
          0.7054772581678409,
          0.723174247277386,
          0.7697789878283151,
          0.6834561178731581,
          0.6983504163997437,
          0.3628283151825753,
          0.597133247918001,
          0.6251601537475976,
          0.5292280589365789,
          0.4872677770659831,
          0.514654067905189,
          0.469570787956438,
          0.4617232543241511,
          0.489990390775144,
          0.4240070467648943,
          0.3944586803331197,
          0.37251761691223556,
          0.3782030749519536,
          0.31141896220371557,
          0.29364189622037135,
          0.32182895579756554,
          0.39614029468289547,
          0.4110345932094811,
          0.3830076873798846,
          0.403747597693786,
          0.4058295964125558,
          0.31197950032030725,
          0.3452114029468288,
          0.3767616912235745,
          0.26953875720691844,
          0.2873158231902626,
          0.2556053811659192,
          0.10153747597693769,
          0.17841127482383076,
          0.21084240871236393,
          0.24423446508648278,
          0.3588244714926327,
          0.36314862267777065,
          0.3749999999999997,
          0.38861306854580396,
          0.31181934657270954,
          0.24359385009609208,
          0.21973094170403584,
          0.22493593850096083,
          0.22773862908392034,
          0.24111146700832792,
          0.2463164638052529,
          0.2523222293401663,
          0.2707399103139012,
          0.2647341447789878,
          0.22557655349135156,
          0.25048046124279283,
          0.29324151185137737,
          0.1880204996796924,
          0.20811979500320307,
          0.24943946188340813,
          0.31334080717488766,
          0.35834401024983964,
          0.33752402306213963,
          0.30076873798846887,
          0.34016655989750144,
          0.3251121076233181,
          0.37596092248558616,
          0.318385650224215,
          0.20171364509929532,
          0.19026265214606022,
          0.15086483023702763,
          0.11274823830877644,
          0.24095131326073024,
          0.2398302370275465,
          0.2471172325432413,
          0.24183215887251763,
          0.2610506085842409,
          0.2901185137732221,
          0.2779468289557973,
          0.26745675848814865,
          0.29852658552210104,
          0.23999039077514417,
          0.24967969250480446,
          0.2603299167200512,
          0.2821909032671363,
          0.2889173606662394,
          0.26065022421524653,
          0.2547245355541318,
          0.25760730301089035,
          0.22261370916079437,
          0.14045483664317726,
          0.0907270980140933,
          0.20147341447789863,
          0.23182254964766164,
          0.373398462524023,
          0.2961242793081359,
          0.3512972453555412,
          0.3904548366431774,
          0.35834401024983964,
          0.3808456117873158,
          0.33151825752722586,
          0.31750480461242797,
          0.3148622677770658,
          0.31470211402946807,
          0.26817745035233803,
          0.2547245355541318,
          0.31662395900064055,
          0.33760409993593826,
          0.3486547085201793,
          0.3135810377962844,
          0.3797245355541317,
          0.38180653427290184,
          0.3870115310698269,
          0.4444266495836,
          0.4315342729019858,
          0.43289557975656623,
          0.3397661755285074,
          0,
          0.15975336322869954,
          0.1752882767456759
         ]
        }
       ],
       "layout": {
        "legend": {
         "title": {
          "text": "dataset"
         }
        },
        "template": {
         "data": {
          "bar": [
           {
            "error_x": {
             "color": "#2a3f5f"
            },
            "error_y": {
             "color": "#2a3f5f"
            },
            "marker": {
             "line": {
              "color": "#E5ECF6",
              "width": 0.5
             },
             "pattern": {
              "fillmode": "overlay",
              "size": 10,
              "solidity": 0.2
             }
            },
            "type": "bar"
           }
          ],
          "barpolar": [
           {
            "marker": {
             "line": {
              "color": "#E5ECF6",
              "width": 0.5
             },
             "pattern": {
              "fillmode": "overlay",
              "size": 10,
              "solidity": 0.2
             }
            },
            "type": "barpolar"
           }
          ],
          "carpet": [
           {
            "aaxis": {
             "endlinecolor": "#2a3f5f",
             "gridcolor": "white",
             "linecolor": "white",
             "minorgridcolor": "white",
             "startlinecolor": "#2a3f5f"
            },
            "baxis": {
             "endlinecolor": "#2a3f5f",
             "gridcolor": "white",
             "linecolor": "white",
             "minorgridcolor": "white",
             "startlinecolor": "#2a3f5f"
            },
            "type": "carpet"
           }
          ],
          "choropleth": [
           {
            "colorbar": {
             "outlinewidth": 0,
             "ticks": ""
            },
            "type": "choropleth"
           }
          ],
          "contour": [
           {
            "colorbar": {
             "outlinewidth": 0,
             "ticks": ""
            },
            "colorscale": [
             [
              0,
              "#0d0887"
             ],
             [
              0.1111111111111111,
              "#46039f"
             ],
             [
              0.2222222222222222,
              "#7201a8"
             ],
             [
              0.3333333333333333,
              "#9c179e"
             ],
             [
              0.4444444444444444,
              "#bd3786"
             ],
             [
              0.5555555555555556,
              "#d8576b"
             ],
             [
              0.6666666666666666,
              "#ed7953"
             ],
             [
              0.7777777777777778,
              "#fb9f3a"
             ],
             [
              0.8888888888888888,
              "#fdca26"
             ],
             [
              1,
              "#f0f921"
             ]
            ],
            "type": "contour"
           }
          ],
          "contourcarpet": [
           {
            "colorbar": {
             "outlinewidth": 0,
             "ticks": ""
            },
            "type": "contourcarpet"
           }
          ],
          "heatmap": [
           {
            "colorbar": {
             "outlinewidth": 0,
             "ticks": ""
            },
            "colorscale": [
             [
              0,
              "#0d0887"
             ],
             [
              0.1111111111111111,
              "#46039f"
             ],
             [
              0.2222222222222222,
              "#7201a8"
             ],
             [
              0.3333333333333333,
              "#9c179e"
             ],
             [
              0.4444444444444444,
              "#bd3786"
             ],
             [
              0.5555555555555556,
              "#d8576b"
             ],
             [
              0.6666666666666666,
              "#ed7953"
             ],
             [
              0.7777777777777778,
              "#fb9f3a"
             ],
             [
              0.8888888888888888,
              "#fdca26"
             ],
             [
              1,
              "#f0f921"
             ]
            ],
            "type": "heatmap"
           }
          ],
          "heatmapgl": [
           {
            "colorbar": {
             "outlinewidth": 0,
             "ticks": ""
            },
            "colorscale": [
             [
              0,
              "#0d0887"
             ],
             [
              0.1111111111111111,
              "#46039f"
             ],
             [
              0.2222222222222222,
              "#7201a8"
             ],
             [
              0.3333333333333333,
              "#9c179e"
             ],
             [
              0.4444444444444444,
              "#bd3786"
             ],
             [
              0.5555555555555556,
              "#d8576b"
             ],
             [
              0.6666666666666666,
              "#ed7953"
             ],
             [
              0.7777777777777778,
              "#fb9f3a"
             ],
             [
              0.8888888888888888,
              "#fdca26"
             ],
             [
              1,
              "#f0f921"
             ]
            ],
            "type": "heatmapgl"
           }
          ],
          "histogram": [
           {
            "marker": {
             "pattern": {
              "fillmode": "overlay",
              "size": 10,
              "solidity": 0.2
             }
            },
            "type": "histogram"
           }
          ],
          "histogram2d": [
           {
            "colorbar": {
             "outlinewidth": 0,
             "ticks": ""
            },
            "colorscale": [
             [
              0,
              "#0d0887"
             ],
             [
              0.1111111111111111,
              "#46039f"
             ],
             [
              0.2222222222222222,
              "#7201a8"
             ],
             [
              0.3333333333333333,
              "#9c179e"
             ],
             [
              0.4444444444444444,
              "#bd3786"
             ],
             [
              0.5555555555555556,
              "#d8576b"
             ],
             [
              0.6666666666666666,
              "#ed7953"
             ],
             [
              0.7777777777777778,
              "#fb9f3a"
             ],
             [
              0.8888888888888888,
              "#fdca26"
             ],
             [
              1,
              "#f0f921"
             ]
            ],
            "type": "histogram2d"
           }
          ],
          "histogram2dcontour": [
           {
            "colorbar": {
             "outlinewidth": 0,
             "ticks": ""
            },
            "colorscale": [
             [
              0,
              "#0d0887"
             ],
             [
              0.1111111111111111,
              "#46039f"
             ],
             [
              0.2222222222222222,
              "#7201a8"
             ],
             [
              0.3333333333333333,
              "#9c179e"
             ],
             [
              0.4444444444444444,
              "#bd3786"
             ],
             [
              0.5555555555555556,
              "#d8576b"
             ],
             [
              0.6666666666666666,
              "#ed7953"
             ],
             [
              0.7777777777777778,
              "#fb9f3a"
             ],
             [
              0.8888888888888888,
              "#fdca26"
             ],
             [
              1,
              "#f0f921"
             ]
            ],
            "type": "histogram2dcontour"
           }
          ],
          "mesh3d": [
           {
            "colorbar": {
             "outlinewidth": 0,
             "ticks": ""
            },
            "type": "mesh3d"
           }
          ],
          "parcoords": [
           {
            "line": {
             "colorbar": {
              "outlinewidth": 0,
              "ticks": ""
             }
            },
            "type": "parcoords"
           }
          ],
          "pie": [
           {
            "automargin": true,
            "type": "pie"
           }
          ],
          "scatter": [
           {
            "fillpattern": {
             "fillmode": "overlay",
             "size": 10,
             "solidity": 0.2
            },
            "type": "scatter"
           }
          ],
          "scatter3d": [
           {
            "line": {
             "colorbar": {
              "outlinewidth": 0,
              "ticks": ""
             }
            },
            "marker": {
             "colorbar": {
              "outlinewidth": 0,
              "ticks": ""
             }
            },
            "type": "scatter3d"
           }
          ],
          "scattercarpet": [
           {
            "marker": {
             "colorbar": {
              "outlinewidth": 0,
              "ticks": ""
             }
            },
            "type": "scattercarpet"
           }
          ],
          "scattergeo": [
           {
            "marker": {
             "colorbar": {
              "outlinewidth": 0,
              "ticks": ""
             }
            },
            "type": "scattergeo"
           }
          ],
          "scattergl": [
           {
            "marker": {
             "colorbar": {
              "outlinewidth": 0,
              "ticks": ""
             }
            },
            "type": "scattergl"
           }
          ],
          "scattermapbox": [
           {
            "marker": {
             "colorbar": {
              "outlinewidth": 0,
              "ticks": ""
             }
            },
            "type": "scattermapbox"
           }
          ],
          "scatterpolar": [
           {
            "marker": {
             "colorbar": {
              "outlinewidth": 0,
              "ticks": ""
             }
            },
            "type": "scatterpolar"
           }
          ],
          "scatterpolargl": [
           {
            "marker": {
             "colorbar": {
              "outlinewidth": 0,
              "ticks": ""
             }
            },
            "type": "scatterpolargl"
           }
          ],
          "scatterternary": [
           {
            "marker": {
             "colorbar": {
              "outlinewidth": 0,
              "ticks": ""
             }
            },
            "type": "scatterternary"
           }
          ],
          "surface": [
           {
            "colorbar": {
             "outlinewidth": 0,
             "ticks": ""
            },
            "colorscale": [
             [
              0,
              "#0d0887"
             ],
             [
              0.1111111111111111,
              "#46039f"
             ],
             [
              0.2222222222222222,
              "#7201a8"
             ],
             [
              0.3333333333333333,
              "#9c179e"
             ],
             [
              0.4444444444444444,
              "#bd3786"
             ],
             [
              0.5555555555555556,
              "#d8576b"
             ],
             [
              0.6666666666666666,
              "#ed7953"
             ],
             [
              0.7777777777777778,
              "#fb9f3a"
             ],
             [
              0.8888888888888888,
              "#fdca26"
             ],
             [
              1,
              "#f0f921"
             ]
            ],
            "type": "surface"
           }
          ],
          "table": [
           {
            "cells": {
             "fill": {
              "color": "#EBF0F8"
             },
             "line": {
              "color": "white"
             }
            },
            "header": {
             "fill": {
              "color": "#C8D4E3"
             },
             "line": {
              "color": "white"
             }
            },
            "type": "table"
           }
          ]
         },
         "layout": {
          "annotationdefaults": {
           "arrowcolor": "#2a3f5f",
           "arrowhead": 0,
           "arrowwidth": 1
          },
          "autotypenumbers": "strict",
          "coloraxis": {
           "colorbar": {
            "outlinewidth": 0,
            "ticks": ""
           }
          },
          "colorscale": {
           "diverging": [
            [
             0,
             "#8e0152"
            ],
            [
             0.1,
             "#c51b7d"
            ],
            [
             0.2,
             "#de77ae"
            ],
            [
             0.3,
             "#f1b6da"
            ],
            [
             0.4,
             "#fde0ef"
            ],
            [
             0.5,
             "#f7f7f7"
            ],
            [
             0.6,
             "#e6f5d0"
            ],
            [
             0.7,
             "#b8e186"
            ],
            [
             0.8,
             "#7fbc41"
            ],
            [
             0.9,
             "#4d9221"
            ],
            [
             1,
             "#276419"
            ]
           ],
           "sequential": [
            [
             0,
             "#0d0887"
            ],
            [
             0.1111111111111111,
             "#46039f"
            ],
            [
             0.2222222222222222,
             "#7201a8"
            ],
            [
             0.3333333333333333,
             "#9c179e"
            ],
            [
             0.4444444444444444,
             "#bd3786"
            ],
            [
             0.5555555555555556,
             "#d8576b"
            ],
            [
             0.6666666666666666,
             "#ed7953"
            ],
            [
             0.7777777777777778,
             "#fb9f3a"
            ],
            [
             0.8888888888888888,
             "#fdca26"
            ],
            [
             1,
             "#f0f921"
            ]
           ],
           "sequentialminus": [
            [
             0,
             "#0d0887"
            ],
            [
             0.1111111111111111,
             "#46039f"
            ],
            [
             0.2222222222222222,
             "#7201a8"
            ],
            [
             0.3333333333333333,
             "#9c179e"
            ],
            [
             0.4444444444444444,
             "#bd3786"
            ],
            [
             0.5555555555555556,
             "#d8576b"
            ],
            [
             0.6666666666666666,
             "#ed7953"
            ],
            [
             0.7777777777777778,
             "#fb9f3a"
            ],
            [
             0.8888888888888888,
             "#fdca26"
            ],
            [
             1,
             "#f0f921"
            ]
           ]
          },
          "colorway": [
           "#636efa",
           "#EF553B",
           "#00cc96",
           "#ab63fa",
           "#FFA15A",
           "#19d3f3",
           "#FF6692",
           "#B6E880",
           "#FF97FF",
           "#FECB52"
          ],
          "font": {
           "color": "#2a3f5f"
          },
          "geo": {
           "bgcolor": "white",
           "lakecolor": "white",
           "landcolor": "#E5ECF6",
           "showlakes": true,
           "showland": true,
           "subunitcolor": "white"
          },
          "hoverlabel": {
           "align": "left"
          },
          "hovermode": "closest",
          "mapbox": {
           "style": "light"
          },
          "paper_bgcolor": "white",
          "plot_bgcolor": "#E5ECF6",
          "polar": {
           "angularaxis": {
            "gridcolor": "white",
            "linecolor": "white",
            "ticks": ""
           },
           "bgcolor": "#E5ECF6",
           "radialaxis": {
            "gridcolor": "white",
            "linecolor": "white",
            "ticks": ""
           }
          },
          "scene": {
           "xaxis": {
            "backgroundcolor": "#E5ECF6",
            "gridcolor": "white",
            "gridwidth": 2,
            "linecolor": "white",
            "showbackground": true,
            "ticks": "",
            "zerolinecolor": "white"
           },
           "yaxis": {
            "backgroundcolor": "#E5ECF6",
            "gridcolor": "white",
            "gridwidth": 2,
            "linecolor": "white",
            "showbackground": true,
            "ticks": "",
            "zerolinecolor": "white"
           },
           "zaxis": {
            "backgroundcolor": "#E5ECF6",
            "gridcolor": "white",
            "gridwidth": 2,
            "linecolor": "white",
            "showbackground": true,
            "ticks": "",
            "zerolinecolor": "white"
           }
          },
          "shapedefaults": {
           "line": {
            "color": "#2a3f5f"
           }
          },
          "ternary": {
           "aaxis": {
            "gridcolor": "white",
            "linecolor": "white",
            "ticks": ""
           },
           "baxis": {
            "gridcolor": "white",
            "linecolor": "white",
            "ticks": ""
           },
           "bgcolor": "#E5ECF6",
           "caxis": {
            "gridcolor": "white",
            "linecolor": "white",
            "ticks": ""
           }
          },
          "title": {
           "x": 0.05
          },
          "xaxis": {
           "automargin": true,
           "gridcolor": "white",
           "linecolor": "white",
           "ticks": "",
           "title": {
            "standoff": 15
           },
           "zerolinecolor": "white",
           "zerolinewidth": 2
          },
          "yaxis": {
           "automargin": true,
           "gridcolor": "white",
           "linecolor": "white",
           "ticks": "",
           "title": {
            "standoff": 15
           },
           "zerolinecolor": "white",
           "zerolinewidth": 2
          }
         }
        },
        "title": {
         "text": "normalized objectives"
        },
        "xaxis": {
         "title": {
          "text": "energy_efficiency"
         }
        },
        "yaxis": {
         "title": {
          "text": "avg_dl_datarate"
         }
        }
       }
      }
     },
     "metadata": {},
     "output_type": "display_data"
    },
    {
     "data": {
      "application/vnd.plotly.v1+json": {
       "config": {
        "plotlyServerURL": "https://plot.ly"
       },
       "data": [
        {
         "mode": "lines+markers",
         "name": "energy_efficiency",
         "type": "scatter",
         "x": [
          1.04,
          2.09,
          3.14,
          4.2,
          5.27,
          6.32,
          7.38,
          8.42,
          9.44,
          10.47,
          11.5,
          12.52,
          13.53,
          14.53,
          15.53,
          16.54,
          17.6,
          18.63,
          19.66,
          20.69,
          21.71,
          22.72,
          23.75,
          24.76,
          25.78,
          26.84,
          27.89,
          28.95,
          30.01,
          31.05,
          32.07,
          33.09,
          34.11,
          35.13,
          36.15,
          37.18,
          38.24,
          39.25,
          40.25,
          41.31,
          42.37,
          43.43,
          44.49,
          45.53,
          46.58,
          47.63,
          48.67,
          49.71,
          50.75,
          51.79,
          52.84,
          53.89,
          54.95,
          56,
          57.03,
          58.07,
          59.11,
          60.15,
          61.19,
          62.23,
          63.27,
          64.29,
          65.3,
          66.31,
          67.31,
          68.31,
          69.33,
          70.34,
          71.35,
          72.36,
          73.37,
          74.38,
          75.39,
          76.4,
          77.4,
          78.41,
          79.43,
          80.45,
          81.48,
          82.5,
          83.52,
          84.54,
          85.56,
          86.59,
          87.61,
          88.64,
          89.67,
          90.69,
          91.72,
          92.73,
          93.74,
          94.76,
          95.8,
          96.83,
          97.84,
          98.86,
          99.87,
          100.89,
          101.91,
          102.93,
          103.95,
          104.98,
          106,
          107.03,
          108.06,
          109.09,
          110.13,
          111.17,
          112.21,
          113.26,
          114.29,
          115.32,
          116.34,
          117.35,
          118.37,
          119.39,
          120.41,
          121.42,
          122.43,
          123.44,
          124.45,
          125.47,
          126.48,
          127.5,
          128.51,
          129.51,
          130.53,
          131.57,
          132.61,
          133.64,
          134.67,
          135.69,
          136.72,
          137.76,
          138.8,
          139.83,
          140.86,
          141.88,
          142.91,
          143.93,
          144.96,
          145.99,
          147.03,
          148.05,
          149.07,
          150.11
         ],
         "y": [
          0.5979194934418813,
          0.6413387607417459,
          0.5979194934418813,
          0.6716417910447762,
          0.5585707824513794,
          0.6544549977385797,
          0.6553595658073271,
          0.9054726368159203,
          0.8995929443690638,
          0.9384893713251922,
          0.9425599276345545,
          0.9647218453188601,
          0.91677973767526,
          0.9185888738127543,
          0.9746720940750792,
          1,
          0.8421528720036183,
          0.8982360922659429,
          0.8882858435097242,
          0.9199457259158752,
          0.8308457711442787,
          0.853459972862958,
          0.9140660334690185,
          0.9213025780189958,
          0.9203980099502488,
          0.6739032112166441,
          0.683853459972863,
          0.6919945725915876,
          0.6996834011759384,
          0.6508367254635912,
          0.6530981456354591,
          0.6657620985979195,
          0.7539574853007689,
          0.7489823609226595,
          0.7584803256445047,
          0.5585707824513794,
          0.6540027137042063,
          0.6720940750791496,
          0.5658073270013567,
          0.5454545454545453,
          0.6146540027137043,
          0.6820443238353685,
          0.7200361827227498,
          0.7372229760289463,
          0.6512890094979648,
          0.6707372229760288,
          0.657620985979195,
          0.66078697421981,
          0.6196291270918136,
          0.6526458616010854,
          0.6689280868385347,
          0.6702849389416553,
          0.6788783355947535,
          0.5861601085481681,
          0.5992763455450022,
          0.6006331976481231,
          0.5563093622795114,
          0.5771144278606964,
          0.5965626413387608,
          0.5373134328358209,
          0.548168249660787,
          0.42379014020805067,
          0.18543645409317067,
          0.23971053821800084,
          0.26277702397105374,
          0.28674807779285394,
          0.48349163274536405,
          0.4866576209859793,
          0.49434644957033014,
          0.5033921302578019,
          0.45273631840796025,
          0.40750791497060157,
          0.28855721393034833,
          0.2921754862053369,
          0.34690185436454085,
          0.34690185436454085,
          0.35052012663952964,
          0.354590682948892,
          0.36725463591135227,
          0.3631840796019902,
          0.28312980551786515,
          0.30076888285843506,
          0.33107191316146534,
          0.31976481230212567,
          0.333785617367707,
          0.3618272274988693,
          0.2736318407960199,
          0.3066485753052918,
          0.2912709181365898,
          0.1940298507462686,
          0.1492537313432837,
          0.13749434644957048,
          0.3098145635459068,
          0.19629127091813656,
          0.10719131614654001,
          0.10628674807779294,
          0.07598371777476272,
          0.12302125734961555,
          0.2170963364993215,
          0.21619176843057442,
          0.22161917684305737,
          0.13794663048394404,
          0.15241971958389872,
          0.17503392130257805,
          0.16553595658073278,
          0.15739484396200812,
          0.3057440072365445,
          0.2736318407960199,
          0.28086838534599723,
          0.3075531433740389,
          0.3229308005427409,
          0.3279059249208503,
          0.18181818181818185,
          0.23744911804613292,
          0.23971053821800084,
          0.1420171867933061,
          0,
          0.04206241519674369,
          0.1261872455902308,
          0.2207146087743103,
          0.3242876526458615,
          0.2677521483491634,
          0.3080054274084124,
          0.3364993215739485,
          0.2342831298055179,
          0.25146992311171407,
          0.33921302578018997,
          0.39032112166440514,
          0.38896426956128455,
          0.388511985526911,
          0.2939846223428313,
          0.284486657620986,
          0.3898688376300316,
          0.40434192672998653,
          0.4120307553143374,
          0.31659882406151063,
          0.4246947082767977,
          0.4260515603799186,
          0.4296698326549074,
          0.4694708276797829,
          0.5079149706015378,
          0.5088195386702848,
          0.39710538218000896,
          0.11352329262777028,
          0.2817729534147445,
          0.29262777023971065
         ]
        },
        {
         "mode": "lines+markers",
         "name": "avrg_dl_datarate",
         "type": "scatter",
         "x": [
          1.04,
          2.09,
          3.14,
          4.2,
          5.27,
          6.32,
          7.38,
          8.42,
          9.44,
          10.47,
          11.5,
          12.52,
          13.53,
          14.53,
          15.53,
          16.54,
          17.6,
          18.63,
          19.66,
          20.69,
          21.71,
          22.72,
          23.75,
          24.76,
          25.78,
          26.84,
          27.89,
          28.95,
          30.01,
          31.05,
          32.07,
          33.09,
          34.11,
          35.13,
          36.15,
          37.18,
          38.24,
          39.25,
          40.25,
          41.31,
          42.37,
          43.43,
          44.49,
          45.53,
          46.58,
          47.63,
          48.67,
          49.71,
          50.75,
          51.79,
          52.84,
          53.89,
          54.95,
          56,
          57.03,
          58.07,
          59.11,
          60.15,
          61.19,
          62.23,
          63.27,
          64.29,
          65.3,
          66.31,
          67.31,
          68.31,
          69.33,
          70.34,
          71.35,
          72.36,
          73.37,
          74.38,
          75.39,
          76.4,
          77.4,
          78.41,
          79.43,
          80.45,
          81.48,
          82.5,
          83.52,
          84.54,
          85.56,
          86.59,
          87.61,
          88.64,
          89.67,
          90.69,
          91.72,
          92.73,
          93.74,
          94.76,
          95.8,
          96.83,
          97.84,
          98.86,
          99.87,
          100.89,
          101.91,
          102.93,
          103.95,
          104.98,
          106,
          107.03,
          108.06,
          109.09,
          110.13,
          111.17,
          112.21,
          113.26,
          114.29,
          115.32,
          116.34,
          117.35,
          118.37,
          119.39,
          120.41,
          121.42,
          122.43,
          123.44,
          124.45,
          125.47,
          126.48,
          127.5,
          128.51,
          129.51,
          130.53,
          131.57,
          132.61,
          133.64,
          134.67,
          135.69,
          136.72,
          137.76,
          138.8,
          139.83,
          140.86,
          141.88,
          142.91,
          143.93,
          144.96,
          145.99,
          147.03,
          148.05,
          149.07,
          150.11
         ],
         "y": [
          0.34080717488789214,
          0.3491351697629724,
          0.27634529147982057,
          0.33808456117873165,
          0.2739429852658551,
          0.3571428571428569,
          0.3727578475336323,
          0.9483504163997436,
          0.9848654708520177,
          0.9840647021140293,
          0.9816623959000638,
          0.9670083279948748,
          0.88957399103139,
          0.8930172966047403,
          0.9340166559897499,
          0.975736707238949,
          0.6959481101857783,
          0.8831678411274823,
          0.8673126201153105,
          0.9799007046764894,
          0.905269058295964,
          0.8849295323510568,
          0.9889493914157589,
          1,
          0.9988789237668159,
          0.7111627162075592,
          0.7254964766175526,
          0.7375080076873797,
          0.7484785393978217,
          0.7017136450992953,
          0.7054772581678409,
          0.723174247277386,
          0.7697789878283151,
          0.6834561178731581,
          0.6983504163997437,
          0.3628283151825753,
          0.597133247918001,
          0.6251601537475976,
          0.5292280589365789,
          0.4872677770659831,
          0.514654067905189,
          0.469570787956438,
          0.4617232543241511,
          0.489990390775144,
          0.4240070467648943,
          0.3944586803331197,
          0.37251761691223556,
          0.3782030749519536,
          0.31141896220371557,
          0.29364189622037135,
          0.32182895579756554,
          0.39614029468289547,
          0.4110345932094811,
          0.3830076873798846,
          0.403747597693786,
          0.4058295964125558,
          0.31197950032030725,
          0.3452114029468288,
          0.3767616912235745,
          0.26953875720691844,
          0.2873158231902626,
          0.2556053811659192,
          0.10153747597693769,
          0.17841127482383076,
          0.21084240871236393,
          0.24423446508648278,
          0.3588244714926327,
          0.36314862267777065,
          0.3749999999999997,
          0.38861306854580396,
          0.31181934657270954,
          0.24359385009609208,
          0.21973094170403584,
          0.22493593850096083,
          0.22773862908392034,
          0.24111146700832792,
          0.2463164638052529,
          0.2523222293401663,
          0.2707399103139012,
          0.2647341447789878,
          0.22557655349135156,
          0.25048046124279283,
          0.29324151185137737,
          0.1880204996796924,
          0.20811979500320307,
          0.24943946188340813,
          0.31334080717488766,
          0.35834401024983964,
          0.33752402306213963,
          0.30076873798846887,
          0.34016655989750144,
          0.3251121076233181,
          0.37596092248558616,
          0.318385650224215,
          0.20171364509929532,
          0.19026265214606022,
          0.15086483023702763,
          0.11274823830877644,
          0.24095131326073024,
          0.2398302370275465,
          0.2471172325432413,
          0.24183215887251763,
          0.2610506085842409,
          0.2901185137732221,
          0.2779468289557973,
          0.26745675848814865,
          0.29852658552210104,
          0.23999039077514417,
          0.24967969250480446,
          0.2603299167200512,
          0.2821909032671363,
          0.2889173606662394,
          0.26065022421524653,
          0.2547245355541318,
          0.25760730301089035,
          0.22261370916079437,
          0.14045483664317726,
          0.0907270980140933,
          0.20147341447789863,
          0.23182254964766164,
          0.373398462524023,
          0.2961242793081359,
          0.3512972453555412,
          0.3904548366431774,
          0.35834401024983964,
          0.3808456117873158,
          0.33151825752722586,
          0.31750480461242797,
          0.3148622677770658,
          0.31470211402946807,
          0.26817745035233803,
          0.2547245355541318,
          0.31662395900064055,
          0.33760409993593826,
          0.3486547085201793,
          0.3135810377962844,
          0.3797245355541317,
          0.38180653427290184,
          0.3870115310698269,
          0.4444266495836,
          0.4315342729019858,
          0.43289557975656623,
          0.3397661755285074,
          0,
          0.15975336322869954,
          0.1752882767456759
         ]
        }
       ],
       "layout": {
        "legend": {
         "title": {
          "text": "dataset"
         }
        },
        "template": {
         "data": {
          "bar": [
           {
            "error_x": {
             "color": "#2a3f5f"
            },
            "error_y": {
             "color": "#2a3f5f"
            },
            "marker": {
             "line": {
              "color": "#E5ECF6",
              "width": 0.5
             },
             "pattern": {
              "fillmode": "overlay",
              "size": 10,
              "solidity": 0.2
             }
            },
            "type": "bar"
           }
          ],
          "barpolar": [
           {
            "marker": {
             "line": {
              "color": "#E5ECF6",
              "width": 0.5
             },
             "pattern": {
              "fillmode": "overlay",
              "size": 10,
              "solidity": 0.2
             }
            },
            "type": "barpolar"
           }
          ],
          "carpet": [
           {
            "aaxis": {
             "endlinecolor": "#2a3f5f",
             "gridcolor": "white",
             "linecolor": "white",
             "minorgridcolor": "white",
             "startlinecolor": "#2a3f5f"
            },
            "baxis": {
             "endlinecolor": "#2a3f5f",
             "gridcolor": "white",
             "linecolor": "white",
             "minorgridcolor": "white",
             "startlinecolor": "#2a3f5f"
            },
            "type": "carpet"
           }
          ],
          "choropleth": [
           {
            "colorbar": {
             "outlinewidth": 0,
             "ticks": ""
            },
            "type": "choropleth"
           }
          ],
          "contour": [
           {
            "colorbar": {
             "outlinewidth": 0,
             "ticks": ""
            },
            "colorscale": [
             [
              0,
              "#0d0887"
             ],
             [
              0.1111111111111111,
              "#46039f"
             ],
             [
              0.2222222222222222,
              "#7201a8"
             ],
             [
              0.3333333333333333,
              "#9c179e"
             ],
             [
              0.4444444444444444,
              "#bd3786"
             ],
             [
              0.5555555555555556,
              "#d8576b"
             ],
             [
              0.6666666666666666,
              "#ed7953"
             ],
             [
              0.7777777777777778,
              "#fb9f3a"
             ],
             [
              0.8888888888888888,
              "#fdca26"
             ],
             [
              1,
              "#f0f921"
             ]
            ],
            "type": "contour"
           }
          ],
          "contourcarpet": [
           {
            "colorbar": {
             "outlinewidth": 0,
             "ticks": ""
            },
            "type": "contourcarpet"
           }
          ],
          "heatmap": [
           {
            "colorbar": {
             "outlinewidth": 0,
             "ticks": ""
            },
            "colorscale": [
             [
              0,
              "#0d0887"
             ],
             [
              0.1111111111111111,
              "#46039f"
             ],
             [
              0.2222222222222222,
              "#7201a8"
             ],
             [
              0.3333333333333333,
              "#9c179e"
             ],
             [
              0.4444444444444444,
              "#bd3786"
             ],
             [
              0.5555555555555556,
              "#d8576b"
             ],
             [
              0.6666666666666666,
              "#ed7953"
             ],
             [
              0.7777777777777778,
              "#fb9f3a"
             ],
             [
              0.8888888888888888,
              "#fdca26"
             ],
             [
              1,
              "#f0f921"
             ]
            ],
            "type": "heatmap"
           }
          ],
          "heatmapgl": [
           {
            "colorbar": {
             "outlinewidth": 0,
             "ticks": ""
            },
            "colorscale": [
             [
              0,
              "#0d0887"
             ],
             [
              0.1111111111111111,
              "#46039f"
             ],
             [
              0.2222222222222222,
              "#7201a8"
             ],
             [
              0.3333333333333333,
              "#9c179e"
             ],
             [
              0.4444444444444444,
              "#bd3786"
             ],
             [
              0.5555555555555556,
              "#d8576b"
             ],
             [
              0.6666666666666666,
              "#ed7953"
             ],
             [
              0.7777777777777778,
              "#fb9f3a"
             ],
             [
              0.8888888888888888,
              "#fdca26"
             ],
             [
              1,
              "#f0f921"
             ]
            ],
            "type": "heatmapgl"
           }
          ],
          "histogram": [
           {
            "marker": {
             "pattern": {
              "fillmode": "overlay",
              "size": 10,
              "solidity": 0.2
             }
            },
            "type": "histogram"
           }
          ],
          "histogram2d": [
           {
            "colorbar": {
             "outlinewidth": 0,
             "ticks": ""
            },
            "colorscale": [
             [
              0,
              "#0d0887"
             ],
             [
              0.1111111111111111,
              "#46039f"
             ],
             [
              0.2222222222222222,
              "#7201a8"
             ],
             [
              0.3333333333333333,
              "#9c179e"
             ],
             [
              0.4444444444444444,
              "#bd3786"
             ],
             [
              0.5555555555555556,
              "#d8576b"
             ],
             [
              0.6666666666666666,
              "#ed7953"
             ],
             [
              0.7777777777777778,
              "#fb9f3a"
             ],
             [
              0.8888888888888888,
              "#fdca26"
             ],
             [
              1,
              "#f0f921"
             ]
            ],
            "type": "histogram2d"
           }
          ],
          "histogram2dcontour": [
           {
            "colorbar": {
             "outlinewidth": 0,
             "ticks": ""
            },
            "colorscale": [
             [
              0,
              "#0d0887"
             ],
             [
              0.1111111111111111,
              "#46039f"
             ],
             [
              0.2222222222222222,
              "#7201a8"
             ],
             [
              0.3333333333333333,
              "#9c179e"
             ],
             [
              0.4444444444444444,
              "#bd3786"
             ],
             [
              0.5555555555555556,
              "#d8576b"
             ],
             [
              0.6666666666666666,
              "#ed7953"
             ],
             [
              0.7777777777777778,
              "#fb9f3a"
             ],
             [
              0.8888888888888888,
              "#fdca26"
             ],
             [
              1,
              "#f0f921"
             ]
            ],
            "type": "histogram2dcontour"
           }
          ],
          "mesh3d": [
           {
            "colorbar": {
             "outlinewidth": 0,
             "ticks": ""
            },
            "type": "mesh3d"
           }
          ],
          "parcoords": [
           {
            "line": {
             "colorbar": {
              "outlinewidth": 0,
              "ticks": ""
             }
            },
            "type": "parcoords"
           }
          ],
          "pie": [
           {
            "automargin": true,
            "type": "pie"
           }
          ],
          "scatter": [
           {
            "fillpattern": {
             "fillmode": "overlay",
             "size": 10,
             "solidity": 0.2
            },
            "type": "scatter"
           }
          ],
          "scatter3d": [
           {
            "line": {
             "colorbar": {
              "outlinewidth": 0,
              "ticks": ""
             }
            },
            "marker": {
             "colorbar": {
              "outlinewidth": 0,
              "ticks": ""
             }
            },
            "type": "scatter3d"
           }
          ],
          "scattercarpet": [
           {
            "marker": {
             "colorbar": {
              "outlinewidth": 0,
              "ticks": ""
             }
            },
            "type": "scattercarpet"
           }
          ],
          "scattergeo": [
           {
            "marker": {
             "colorbar": {
              "outlinewidth": 0,
              "ticks": ""
             }
            },
            "type": "scattergeo"
           }
          ],
          "scattergl": [
           {
            "marker": {
             "colorbar": {
              "outlinewidth": 0,
              "ticks": ""
             }
            },
            "type": "scattergl"
           }
          ],
          "scattermapbox": [
           {
            "marker": {
             "colorbar": {
              "outlinewidth": 0,
              "ticks": ""
             }
            },
            "type": "scattermapbox"
           }
          ],
          "scatterpolar": [
           {
            "marker": {
             "colorbar": {
              "outlinewidth": 0,
              "ticks": ""
             }
            },
            "type": "scatterpolar"
           }
          ],
          "scatterpolargl": [
           {
            "marker": {
             "colorbar": {
              "outlinewidth": 0,
              "ticks": ""
             }
            },
            "type": "scatterpolargl"
           }
          ],
          "scatterternary": [
           {
            "marker": {
             "colorbar": {
              "outlinewidth": 0,
              "ticks": ""
             }
            },
            "type": "scatterternary"
           }
          ],
          "surface": [
           {
            "colorbar": {
             "outlinewidth": 0,
             "ticks": ""
            },
            "colorscale": [
             [
              0,
              "#0d0887"
             ],
             [
              0.1111111111111111,
              "#46039f"
             ],
             [
              0.2222222222222222,
              "#7201a8"
             ],
             [
              0.3333333333333333,
              "#9c179e"
             ],
             [
              0.4444444444444444,
              "#bd3786"
             ],
             [
              0.5555555555555556,
              "#d8576b"
             ],
             [
              0.6666666666666666,
              "#ed7953"
             ],
             [
              0.7777777777777778,
              "#fb9f3a"
             ],
             [
              0.8888888888888888,
              "#fdca26"
             ],
             [
              1,
              "#f0f921"
             ]
            ],
            "type": "surface"
           }
          ],
          "table": [
           {
            "cells": {
             "fill": {
              "color": "#EBF0F8"
             },
             "line": {
              "color": "white"
             }
            },
            "header": {
             "fill": {
              "color": "#C8D4E3"
             },
             "line": {
              "color": "white"
             }
            },
            "type": "table"
           }
          ]
         },
         "layout": {
          "annotationdefaults": {
           "arrowcolor": "#2a3f5f",
           "arrowhead": 0,
           "arrowwidth": 1
          },
          "autotypenumbers": "strict",
          "coloraxis": {
           "colorbar": {
            "outlinewidth": 0,
            "ticks": ""
           }
          },
          "colorscale": {
           "diverging": [
            [
             0,
             "#8e0152"
            ],
            [
             0.1,
             "#c51b7d"
            ],
            [
             0.2,
             "#de77ae"
            ],
            [
             0.3,
             "#f1b6da"
            ],
            [
             0.4,
             "#fde0ef"
            ],
            [
             0.5,
             "#f7f7f7"
            ],
            [
             0.6,
             "#e6f5d0"
            ],
            [
             0.7,
             "#b8e186"
            ],
            [
             0.8,
             "#7fbc41"
            ],
            [
             0.9,
             "#4d9221"
            ],
            [
             1,
             "#276419"
            ]
           ],
           "sequential": [
            [
             0,
             "#0d0887"
            ],
            [
             0.1111111111111111,
             "#46039f"
            ],
            [
             0.2222222222222222,
             "#7201a8"
            ],
            [
             0.3333333333333333,
             "#9c179e"
            ],
            [
             0.4444444444444444,
             "#bd3786"
            ],
            [
             0.5555555555555556,
             "#d8576b"
            ],
            [
             0.6666666666666666,
             "#ed7953"
            ],
            [
             0.7777777777777778,
             "#fb9f3a"
            ],
            [
             0.8888888888888888,
             "#fdca26"
            ],
            [
             1,
             "#f0f921"
            ]
           ],
           "sequentialminus": [
            [
             0,
             "#0d0887"
            ],
            [
             0.1111111111111111,
             "#46039f"
            ],
            [
             0.2222222222222222,
             "#7201a8"
            ],
            [
             0.3333333333333333,
             "#9c179e"
            ],
            [
             0.4444444444444444,
             "#bd3786"
            ],
            [
             0.5555555555555556,
             "#d8576b"
            ],
            [
             0.6666666666666666,
             "#ed7953"
            ],
            [
             0.7777777777777778,
             "#fb9f3a"
            ],
            [
             0.8888888888888888,
             "#fdca26"
            ],
            [
             1,
             "#f0f921"
            ]
           ]
          },
          "colorway": [
           "#636efa",
           "#EF553B",
           "#00cc96",
           "#ab63fa",
           "#FFA15A",
           "#19d3f3",
           "#FF6692",
           "#B6E880",
           "#FF97FF",
           "#FECB52"
          ],
          "font": {
           "color": "#2a3f5f"
          },
          "geo": {
           "bgcolor": "white",
           "lakecolor": "white",
           "landcolor": "#E5ECF6",
           "showlakes": true,
           "showland": true,
           "subunitcolor": "white"
          },
          "hoverlabel": {
           "align": "left"
          },
          "hovermode": "closest",
          "mapbox": {
           "style": "light"
          },
          "paper_bgcolor": "white",
          "plot_bgcolor": "#E5ECF6",
          "polar": {
           "angularaxis": {
            "gridcolor": "white",
            "linecolor": "white",
            "ticks": ""
           },
           "bgcolor": "#E5ECF6",
           "radialaxis": {
            "gridcolor": "white",
            "linecolor": "white",
            "ticks": ""
           }
          },
          "scene": {
           "xaxis": {
            "backgroundcolor": "#E5ECF6",
            "gridcolor": "white",
            "gridwidth": 2,
            "linecolor": "white",
            "showbackground": true,
            "ticks": "",
            "zerolinecolor": "white"
           },
           "yaxis": {
            "backgroundcolor": "#E5ECF6",
            "gridcolor": "white",
            "gridwidth": 2,
            "linecolor": "white",
            "showbackground": true,
            "ticks": "",
            "zerolinecolor": "white"
           },
           "zaxis": {
            "backgroundcolor": "#E5ECF6",
            "gridcolor": "white",
            "gridwidth": 2,
            "linecolor": "white",
            "showbackground": true,
            "ticks": "",
            "zerolinecolor": "white"
           }
          },
          "shapedefaults": {
           "line": {
            "color": "#2a3f5f"
           }
          },
          "ternary": {
           "aaxis": {
            "gridcolor": "white",
            "linecolor": "white",
            "ticks": ""
           },
           "baxis": {
            "gridcolor": "white",
            "linecolor": "white",
            "ticks": ""
           },
           "bgcolor": "#E5ECF6",
           "caxis": {
            "gridcolor": "white",
            "linecolor": "white",
            "ticks": ""
           }
          },
          "title": {
           "x": 0.05
          },
          "xaxis": {
           "automargin": true,
           "gridcolor": "white",
           "linecolor": "white",
           "ticks": "",
           "title": {
            "standoff": 15
           },
           "zerolinecolor": "white",
           "zerolinewidth": 2
          },
          "yaxis": {
           "automargin": true,
           "gridcolor": "white",
           "linecolor": "white",
           "ticks": "",
           "title": {
            "standoff": 15
           },
           "zerolinecolor": "white",
           "zerolinewidth": 2
          }
         }
        },
        "title": {
         "text": "normalized objectives"
        },
        "xaxis": {
         "title": {
          "text": "time in s"
         }
        },
        "yaxis": {
         "title": {
          "text": "inverted normalized objectives"
         }
        }
       }
      }
     },
     "metadata": {},
     "output_type": "display_data"
    }
   ],
   "source": [
    "\n",
    "network_name = \"delete3\"\n",
    "configuration_name =\"algorithm_config_1LIVE\"\n",
    "results_directory = \"./datastore/{network_name}/{configuration_name}/\".format(network_name=network_name, configuration_name= configuration_name)\n",
    "objective_np_array = np.array([])\n",
    "with open(results_directory + \"/objectives_result.json\", mode=\"r\",encoding=\"utf-8\") as openfile:\n",
    "    result_dict_object = json.load(openfile)\n",
    "    objective_np_array = np.array(result_dict_object)\n",
    "    objective_np_array[:, 1:] *= -1\n",
    "\n",
    "\n",
    "\n",
    "approx_ideal = objective_np_array[:, 1:].min(axis=0)\n",
    "approx_nadir  = objective_np_array[:, 1:].max(axis=0)\n",
    "\n",
    "normalized_solutions_list = np.array((objective_np_array[:, 1:] - approx_ideal) / (approx_nadir - approx_ideal))\n",
    "\n",
    "hv = Hypervolume(ref_point=np.array([1.1, 1.1]),\n",
    "                     norm_ref_point=False,\n",
    "                     zero_to_one=False,\n",
    "                     ideal=approx_ideal,\n",
    "                     nadir=approx_nadir)\n",
    "\n",
    "hv_list = [hv(solution) for solution in normalized_solutions_list]\n",
    "\n",
    "\n",
    "fig4 = go.Figure()\n",
    "\n",
    "fig4.update_layout(\n",
    "    title=\"hypervolume\",\n",
    "    xaxis_title=\"time in s\",\n",
    "    yaxis_title=\"Hypervolume\",\n",
    "    legend_title=\"dataset\")\n",
    "fig4.add_trace(\n",
    "        go.Scatter(\n",
    "            x=objective_np_array[:, 0],\n",
    "            y=hv_list,\n",
    "            mode='lines+markers',\n",
    "        ))\n",
    "fig5 = go.Figure()\n",
    "\n",
    "fig5.update_layout(\n",
    "    title=\"normalized objectives\",\n",
    "    xaxis_title=\"energy_efficiency\",\n",
    "    yaxis_title=\"avg_dl_datarate\",\n",
    "    legend_title=\"dataset\")\n",
    "\n",
    "fig5.add_trace(\n",
    "        go.Scatter(\n",
    "            x=normalized_solutions_list[:, 0],\n",
    "            y=normalized_solutions_list[:, 1],\n",
    "            text=[str(elem) for elem in objective_np_array[:,0]],\n",
    "            mode='markers',\n",
    "        ))\n",
    "fig6 = go.Figure()\n",
    "\n",
    "fig6.update_layout(\n",
    "    title=\"normalized objectives\",\n",
    "    xaxis_title=\"time in s\",\n",
    "    yaxis_title=\"inverted normalized objectives\",\n",
    "    legend_title=\"dataset\")\n",
    "\n",
    "fig6.add_trace(\n",
    "        go.Scatter(\n",
    "            x=objective_np_array[:, 0],\n",
    "            y=normalized_solutions_list[:, 0],\n",
    "            name=\"energy_efficiency\",\n",
    "            mode='lines+markers',\n",
    "        ))\n",
    "fig6.add_trace(\n",
    "        go.Scatter(\n",
    "            x=objective_np_array[:, 0],\n",
    "            y=normalized_solutions_list[:, 1],\n",
    "            name=\"avrg_dl_datarate\",\n",
    "            mode='lines+markers',\n",
    "        ))\n",
    "\n",
    "fig4.show()\n",
    "fig5.show()\n",
    "fig6.show()"
   ]
  }
 ],
 "metadata": {
  "kernelspec": {
   "display_name": "Python 3 (ipykernel)",
   "language": "python",
   "name": "python3"
  },
  "language_info": {
   "codemirror_mode": {
    "name": "ipython",
    "version": 3
   },
   "file_extension": ".py",
   "mimetype": "text/x-python",
   "name": "python",
   "nbconvert_exporter": "python",
   "pygments_lexer": "ipython3",
   "version": "3.11.0"
  },
  "toc-autonumbering": true,
  "toc-showcode": false,
  "toc-showmarkdowntxt": true
 },
 "nbformat": 4,
 "nbformat_minor": 5
}
