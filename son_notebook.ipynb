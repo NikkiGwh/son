{
 "cells": [
  {
   "cell_type": "code",
   "execution_count": 1,
   "id": "456d08ba-1532-4643-bfe8-20df19cbf8ba",
   "metadata": {},
   "outputs": [],
   "source": [
    "import son_main_script as soon\n",
    "import plotly.express as px\n",
    "import plotly.graph_objects as go\n",
    "import pandas as pd\n",
    "from pymoo.indicators.hv import HV\n",
    "import json\n",
    "import os\n",
    "import numpy as np"
   ]
  },
  {
   "cell_type": "code",
   "execution_count": 6,
   "id": "936b4445-0b1d-4049-9c5a-832d31ebf19d",
   "metadata": {},
   "outputs": [
    {
     "name": "stdout",
     "output_type": "stream",
     "text": [
      "results: \n",
      "[[1.4369 1.4798]\n",
      " [1.4365 1.4735]\n",
      " [1.4214 1.4672]\n",
      " [1.1268 1.2588]\n",
      " [1.3906 1.4104]\n",
      " [1.2826 1.322 ]\n",
      " [1.3312 1.3725]\n",
      " [1.408  1.4609]\n",
      " [1.5028 1.5682]\n",
      " [1.317  1.3662]\n",
      " [0.766  1.1957]\n",
      " [1.0802 1.2462]\n",
      " [1.2301 1.2904]\n",
      " [1.1979 1.2778]\n",
      " [1.1548 1.2652]\n",
      " [0.7582 1.1894]\n",
      " [1.4431 1.4924]\n",
      " [1.5164 1.5871]\n",
      " [1.4029 1.4545]\n",
      " [0.9875 1.202 ]\n",
      " [1.2973 1.3598]\n",
      " [1.072  1.2273]\n",
      " [1.4555 1.5114]\n",
      " [1.4447 1.4987]\n",
      " [1.1259 1.2525]\n",
      " [1.541  1.5997]\n",
      " [1.383  1.3788]\n",
      " [1.2374 1.2967]\n",
      " [1.1644 1.2715]\n",
      " [1.028  1.2146]\n",
      " [1.5331 1.5934]\n",
      " [1.2703 1.303 ]\n",
      " [1.3985 1.4482]\n",
      " [1.4697 1.5303]\n",
      " [1.08   1.2336]\n",
      " [1.4916 1.5429]\n",
      " [1.5557 1.6061]]\n",
      "ref points:\n",
      "[1.5557 1.6061]\n",
      "hyper volume\n",
      "0.3323182500000001\n"
     ]
    }
   ],
   "source": [
    "# load dataset\n",
    "\n",
    "network_name = \"hetNet\"\n",
    "configuration_name_list =[ \"algorithm_config_1\"]\n",
    "\n",
    "for configuration_name in configuration_name_list:\n",
    "    results_directory = \"./datastore/{network_name}/{configuration_name}/\".format(network_name=network_name, configuration_name= configuration_name)\n",
    "\n",
    "    with open(results_directory + \"/objectives_result.json\", mode=\"r\",encoding=\"utf-8\") as openfile:\n",
    "        result_dict_object = json.load(openfile)\n",
    "        results_objectives_list = np.array(\n",
    "        [[y[1][key] for key in result_dict_object[\"optimization_objectives\"]]\n",
    "        for y in [item for item in result_dict_object[\"results\"]]])\n",
    "\n",
    "        ref_point = np.max(results_objectives_list, axis=0)\n",
    "\n",
    "        hv = HV(ref_point=ref_point)\n",
    "        print(\"hyper volume\")\n",
    "        print(hv(results_objectives_list))\n",
    "\n",
    "\n",
    "#directorycontent = os.listdir(path=results_directory)\n",
    "#for _, item in enumerate(directorycontent):\n",
    "#    print(item)\n",
    "\n"
   ]
  }
 ],
 "metadata": {
  "kernelspec": {
   "display_name": "Python 3 (ipykernel)",
   "language": "python",
   "name": "python3"
  },
  "language_info": {
   "codemirror_mode": {
    "name": "ipython",
    "version": 3
   },
   "file_extension": ".py",
   "mimetype": "text/x-python",
   "name": "python",
   "nbconvert_exporter": "python",
   "pygments_lexer": "ipython3",
   "version": "3.11.0"
  },
  "toc-autonumbering": true,
  "toc-showcode": false,
  "toc-showmarkdowntxt": true
 },
 "nbformat": 4,
 "nbformat_minor": 5
}
